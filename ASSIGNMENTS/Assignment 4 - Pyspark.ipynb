{
  "nbformat": 4,
  "nbformat_minor": 0,
  "metadata": {
    "colab": {
      "provenance": []
    },
    "kernelspec": {
      "name": "python3",
      "display_name": "Python 3"
    },
    "language_info": {
      "name": "python"
    }
  },
  "cells": [
    {
      "cell_type": "markdown",
      "source": [
        "# ETL stands for\n",
        "\n",
        "# Extract: extract the data from the different sources\n",
        "\n",
        "# Transform: Transform the unstructured data into structured data. Transformations like cleaning, manipulation, etc.\n",
        "\n",
        "# Load : Load the transformed data into a location or date warehouse.\n"
      ],
      "metadata": {
        "id": "VakymI3-ujdr"
      }
    },
    {
      "cell_type": "code",
      "source": [
        "from pyspark.sql import SparkSession\n",
        "from pyspark.sql.functions import col, concat, lit, floor, rand\n",
        "\n",
        "spark = SparkSession.builder.appName(\"ETLPractice\").getOrCreate()\n",
        "\n",
        "source_path = \"/content/orders (1).csv\"  # Correct path\n",
        "target_path = \"/content/order_result.csv\"  # Output path\n",
        "\n",
        "# Use the correct source path here\n",
        "load_data = spark.read.csv(source_path, header=True, inferSchema=True)\n"
      ],
      "metadata": {
        "id": "14x92nUNutDi"
      },
      "execution_count": 15,
      "outputs": []
    },
    {
      "cell_type": "code",
      "source": [
        "load_data.columns\n",
        "load_data.show(5)\n"
      ],
      "metadata": {
        "colab": {
          "base_uri": "https://localhost:8080/"
        },
        "id": "gHKfS7R8u-G2",
        "outputId": "946fd762-d8da-45b2-f5a2-f951b92f9150"
      },
      "execution_count": 16,
      "outputs": [
        {
          "output_type": "stream",
          "name": "stdout",
          "text": [
            "+-------+----------+----------+----------+-----------+\n",
            "|cust_id|cust_fname|cust_lname|cust_order|cust_status|\n",
            "+-------+----------+----------+----------+-----------+\n",
            "|      1|      john|       doe|         5|     active|\n",
            "|      2|      jane|     smith|         8|     active|\n",
            "|      3|   micheal|   jhonson|         3|   inactive|\n",
            "|      4|      abhi|   wiliams|         1|     active|\n",
            "|      5|       ram|     brown|         4|   inactive|\n",
            "+-------+----------+----------+----------+-----------+\n",
            "only showing top 5 rows\n",
            "\n"
          ]
        }
      ]
    },
    {
      "cell_type": "code",
      "source": [
        " #Transformation 1: Concatenate First and Last Names\n",
        "load_data = load_data.withColumn('full_name', concat(col('cust_fname'), lit(' '), col('cust_lname')))\n",
        "load_data.show(10)"
      ],
      "metadata": {
        "colab": {
          "base_uri": "https://localhost:8080/"
        },
        "id": "4oXF5V1WvBpA",
        "outputId": "68f2529b-7129-48c5-9ba3-378ee1ebca7b"
      },
      "execution_count": 17,
      "outputs": [
        {
          "output_type": "stream",
          "name": "stdout",
          "text": [
            "+-------+----------+----------+----------+-----------+---------------+\n",
            "|cust_id|cust_fname|cust_lname|cust_order|cust_status|      full_name|\n",
            "+-------+----------+----------+----------+-----------+---------------+\n",
            "|      1|      john|       doe|         5|     active|       john doe|\n",
            "|      2|      jane|     smith|         8|     active|     jane smith|\n",
            "|      3|   micheal|   jhonson|         3|   inactive|micheal jhonson|\n",
            "|      4|      abhi|   wiliams|         1|     active|   abhi wiliams|\n",
            "|      5|       ram|     brown|         4|   inactive|      ram brown|\n",
            "|      6|     emily|  anderson|         2|     active| emily anderson|\n",
            "|      7|   william|     jones|        10|     active|  william jones|\n",
            "|      8|     susan|     davis|         7|   inactive|    susan davis|\n",
            "|      9|     david|    miller|         9|     active|   david miller|\n",
            "|     10|      sara|     moore|         2|   inactive|     sara moore|\n",
            "+-------+----------+----------+----------+-----------+---------------+\n",
            "only showing top 10 rows\n",
            "\n"
          ]
        }
      ]
    },
    {
      "cell_type": "code",
      "source": [
        "# Transformation 2: Calculate Net Salary (subtract 10% as taxes)\n",
        "load_data = load_data.withColumn('net_salary', floor(lit(10000) + rand() * lit(50)))\n",
        "load_data.show(10)"
      ],
      "metadata": {
        "colab": {
          "base_uri": "https://localhost:8080/"
        },
        "id": "eGLrwZPNvEOG",
        "outputId": "68a78e7c-55c3-4224-e700-737399ad2a03"
      },
      "execution_count": 18,
      "outputs": [
        {
          "output_type": "stream",
          "name": "stdout",
          "text": [
            "+-------+----------+----------+----------+-----------+---------------+----------+\n",
            "|cust_id|cust_fname|cust_lname|cust_order|cust_status|      full_name|net_salary|\n",
            "+-------+----------+----------+----------+-----------+---------------+----------+\n",
            "|      1|      john|       doe|         5|     active|       john doe|     10044|\n",
            "|      2|      jane|     smith|         8|     active|     jane smith|     10016|\n",
            "|      3|   micheal|   jhonson|         3|   inactive|micheal jhonson|     10049|\n",
            "|      4|      abhi|   wiliams|         1|     active|   abhi wiliams|     10002|\n",
            "|      5|       ram|     brown|         4|   inactive|      ram brown|     10002|\n",
            "|      6|     emily|  anderson|         2|     active| emily anderson|     10018|\n",
            "|      7|   william|     jones|        10|     active|  william jones|     10012|\n",
            "|      8|     susan|     davis|         7|   inactive|    susan davis|     10022|\n",
            "|      9|     david|    miller|         9|     active|   david miller|     10029|\n",
            "|     10|      sara|     moore|         2|   inactive|     sara moore|     10012|\n",
            "+-------+----------+----------+----------+-----------+---------------+----------+\n",
            "only showing top 10 rows\n",
            "\n"
          ]
        }
      ]
    },
    {
      "cell_type": "code",
      "source": [
        "#adding age column\n",
        "load_data = load_data.withColumn('age', floor(lit(20) + rand() * lit(31)))\n",
        "load_data.show(10)"
      ],
      "metadata": {
        "colab": {
          "base_uri": "https://localhost:8080/"
        },
        "id": "tJD3U8y8vGtP",
        "outputId": "c7dc5666-5923-45ab-d436-02d6e4b0e5f9"
      },
      "execution_count": 19,
      "outputs": [
        {
          "output_type": "stream",
          "name": "stdout",
          "text": [
            "+-------+----------+----------+----------+-----------+---------------+----------+---+\n",
            "|cust_id|cust_fname|cust_lname|cust_order|cust_status|      full_name|net_salary|age|\n",
            "+-------+----------+----------+----------+-----------+---------------+----------+---+\n",
            "|      1|      john|       doe|         5|     active|       john doe|     10044| 38|\n",
            "|      2|      jane|     smith|         8|     active|     jane smith|     10016| 26|\n",
            "|      3|   micheal|   jhonson|         3|   inactive|micheal jhonson|     10049| 27|\n",
            "|      4|      abhi|   wiliams|         1|     active|   abhi wiliams|     10002| 46|\n",
            "|      5|       ram|     brown|         4|   inactive|      ram brown|     10002| 43|\n",
            "|      6|     emily|  anderson|         2|     active| emily anderson|     10018| 21|\n",
            "|      7|   william|     jones|        10|     active|  william jones|     10012| 43|\n",
            "|      8|     susan|     davis|         7|   inactive|    susan davis|     10022| 48|\n",
            "|      9|     david|    miller|         9|     active|   david miller|     10029| 44|\n",
            "|     10|      sara|     moore|         2|   inactive|     sara moore|     10012| 20|\n",
            "+-------+----------+----------+----------+-----------+---------------+----------+---+\n",
            "only showing top 10 rows\n",
            "\n"
          ]
        }
      ]
    },
    {
      "cell_type": "code",
      "source": [
        "# # Transformation 3: Filter by Age (age >= 30)\n",
        "load_data = load_data.filter(col('age')>= 30)\n",
        "load_data.show()\n"
      ],
      "metadata": {
        "colab": {
          "base_uri": "https://localhost:8080/"
        },
        "id": "iHqE5G9MvI_x",
        "outputId": "9d9e995e-6c26-4881-c4fd-690092d21acb"
      },
      "execution_count": 20,
      "outputs": [
        {
          "output_type": "stream",
          "name": "stdout",
          "text": [
            "+-------+----------+----------+----------+-----------+--------------+----------+---+\n",
            "|cust_id|cust_fname|cust_lname|cust_order|cust_status|     full_name|net_salary|age|\n",
            "+-------+----------+----------+----------+-----------+--------------+----------+---+\n",
            "|      1|      john|       doe|         5|     active|      john doe|     10044| 38|\n",
            "|      4|      abhi|   wiliams|         1|     active|  abhi wiliams|     10002| 46|\n",
            "|      5|       ram|     brown|         4|   inactive|     ram brown|     10002| 43|\n",
            "|      7|   william|     jones|        10|     active| william jones|     10012| 43|\n",
            "|      8|     susan|     davis|         7|   inactive|   susan davis|     10022| 48|\n",
            "|      9|     david|    miller|         9|     active|  david miller|     10029| 44|\n",
            "|     11|     james|    tailor|         5|   inactive|  james tailor|     10016| 35|\n",
            "|     12|    olivia|    wilson|         3|   inactive| olivia wilson|     10003| 47|\n",
            "|     13|    robert|     evans|        11|     active|  robert evans|     10007| 36|\n",
            "|     15|    mathew|     haris|         5|   inactive|  mathew haris|     10021| 48|\n",
            "|     16|  isabella|     white|         6|   inactive|isabella white|     10031| 39|\n",
            "|     17|    joseph|    martin|         4|   inactive| joseph martin|     10022| 44|\n",
            "+-------+----------+----------+----------+-----------+--------------+----------+---+\n",
            "\n"
          ]
        }
      ]
    },
    {
      "cell_type": "code",
      "source": [
        "# Transformation 4: Group by Age and Calculate Average Salary\n",
        "avg_salary_by_age = load_data.groupBy('age').agg({'net_salary' :'avg'}).withColumnRenamed('avg(salary)', 'avg_salary')\n",
        "avg_salary_by_age.show()"
      ],
      "metadata": {
        "colab": {
          "base_uri": "https://localhost:8080/"
        },
        "id": "kbPimTiMvLWu",
        "outputId": "ba8a73c7-4a7c-4d29-b96c-b5be20ad6fd6"
      },
      "execution_count": 21,
      "outputs": [
        {
          "output_type": "stream",
          "name": "stdout",
          "text": [
            "+---+---------------+\n",
            "|age|avg(net_salary)|\n",
            "+---+---------------+\n",
            "| 43|        10007.0|\n",
            "| 39|        10031.0|\n",
            "| 48|        10021.5|\n",
            "| 44|        10025.5|\n",
            "| 35|        10016.0|\n",
            "| 36|        10007.0|\n",
            "| 38|        10044.0|\n",
            "| 46|        10002.0|\n",
            "| 47|        10003.0|\n",
            "+---+---------------+\n",
            "\n"
          ]
        }
      ]
    },
    {
      "cell_type": "code",
      "source": [
        "load_data = load_data.orderBy(\"age\")\n",
        "load_data.show()"
      ],
      "metadata": {
        "colab": {
          "base_uri": "https://localhost:8080/"
        },
        "id": "LeRNRFCUvN1t",
        "outputId": "3a4d7d10-313e-47a5-ba82-5ded2a8a8ad6"
      },
      "execution_count": 22,
      "outputs": [
        {
          "output_type": "stream",
          "name": "stdout",
          "text": [
            "+-------+----------+----------+----------+-----------+--------------+----------+---+\n",
            "|cust_id|cust_fname|cust_lname|cust_order|cust_status|     full_name|net_salary|age|\n",
            "+-------+----------+----------+----------+-----------+--------------+----------+---+\n",
            "|     11|     james|    tailor|         5|   inactive|  james tailor|     10016| 35|\n",
            "|     13|    robert|     evans|        11|     active|  robert evans|     10007| 36|\n",
            "|      1|      john|       doe|         5|     active|      john doe|     10044| 38|\n",
            "|     16|  isabella|     white|         6|   inactive|isabella white|     10031| 39|\n",
            "|      5|       ram|     brown|         4|   inactive|     ram brown|     10002| 43|\n",
            "|      7|   william|     jones|        10|     active| william jones|     10012| 43|\n",
            "|      9|     david|    miller|         9|     active|  david miller|     10029| 44|\n",
            "|     17|    joseph|    martin|         4|   inactive| joseph martin|     10022| 44|\n",
            "|      4|      abhi|   wiliams|         1|     active|  abhi wiliams|     10002| 46|\n",
            "|     12|    olivia|    wilson|         3|   inactive| olivia wilson|     10003| 47|\n",
            "|      8|     susan|     davis|         7|   inactive|   susan davis|     10022| 48|\n",
            "|     15|    mathew|     haris|         5|   inactive|  mathew haris|     10021| 48|\n",
            "+-------+----------+----------+----------+-----------+--------------+----------+---+\n",
            "\n"
          ]
        }
      ]
    },
    {
      "cell_type": "code",
      "source": [
        "# Save the transformed data to an external CSV file\n",
        "load_data.write.csv(target_path, mode='overwrite', header=True)"
      ],
      "metadata": {
        "id": "avbc_BZqvQa7"
      },
      "execution_count": 23,
      "outputs": []
    },
    {
      "cell_type": "markdown",
      "source": [
        "Overview\n",
        "This notebook will show you how to create and query a table or DataFrame that you uploaded to DBFS. DBFS is a Databricks File System that allows you to store data for querying inside of Databricks. This notebook assumes that you have a file already inside of DBFS that you would like to read from.\n",
        "\n",
        "This notebook is written in Python so the default cell type is Python. However, you can use different languages by using the %LANGUAGE syntax. Python, Scala, SQL, and R are all supported."
      ],
      "metadata": {
        "id": "aDGt3YI5sVGE"
      }
    },
    {
      "cell_type": "code",
      "source": [
        "from pyspark.sql import SparkSession\n",
        "\n",
        "# Create Spark session\n",
        "spark = SparkSession.builder.appName(\"ETLPractice\").getOrCreate()\n",
        "\n",
        "# File location and type\n",
        "file_location = \"/content/small_zipcode.csv\"\n",
        "file_type = \"csv\"\n",
        "\n",
        "# CSV options\n",
        "infer_schema = \"false\"\n",
        "first_row_is_header = \"false\"\n",
        "delimiter = \",\"\n",
        "\n",
        "# Read CSV\n",
        "df = spark.read.format(file_type) \\\n",
        "  .option(\"inferSchema\", infer_schema) \\\n",
        "  .option(\"header\", first_row_is_header) \\\n",
        "  .option(\"sep\", delimiter) \\\n",
        "  .load(file_location)\n",
        "\n",
        "# Create temp view\n",
        "df.createOrReplaceTempView(\"tempdata\")\n",
        "\n",
        "# Show the data\n",
        "df.show()\n"
      ],
      "metadata": {
        "colab": {
          "base_uri": "https://localhost:8080/"
        },
        "id": "52kGV53nsb9w",
        "outputId": "52be8e68-15f0-4ac3-8a9e-a9cb06aa5e4a"
      },
      "execution_count": 2,
      "outputs": [
        {
          "output_type": "stream",
          "name": "stdout",
          "text": [
            "+---+-------+--------+-------------------+-----+----------+\n",
            "|_c0|    _c1|     _c2|                _c3|  _c4|       _c5|\n",
            "+---+-------+--------+-------------------+-----+----------+\n",
            "| id|zipcode|    type|               city|state|population|\n",
            "|  1|    704|STANDARD|               NULL|   PR|     30100|\n",
            "|  2|    704|    NULL|PASEO COSTA DEL SUR|   PR|      NULL|\n",
            "|  3|    709|    NULL|       BDA SAN LUIS|   PR|      3700|\n",
            "|  4|  76166|  UNIQUE|  CINGULAR WIRELESS|   TX|     84000|\n",
            "|  5|  76177|STANDARD|               NULL|   TX|      NULL|\n",
            "+---+-------+--------+-------------------+-----+----------+\n",
            "\n"
          ]
        }
      ]
    },
    {
      "cell_type": "code",
      "source": [
        "spark.sql(\"select * from tempdata\").show()\n",
        "df.select(\"_c0\",\"_c1\").show(5)"
      ],
      "metadata": {
        "colab": {
          "base_uri": "https://localhost:8080/"
        },
        "id": "N-AHyLLQtEwg",
        "outputId": "bb737797-6640-43ce-c62b-c3fd46fe0576"
      },
      "execution_count": 3,
      "outputs": [
        {
          "output_type": "stream",
          "name": "stdout",
          "text": [
            "+---+-------+--------+-------------------+-----+----------+\n",
            "|_c0|    _c1|     _c2|                _c3|  _c4|       _c5|\n",
            "+---+-------+--------+-------------------+-----+----------+\n",
            "| id|zipcode|    type|               city|state|population|\n",
            "|  1|    704|STANDARD|               NULL|   PR|     30100|\n",
            "|  2|    704|    NULL|PASEO COSTA DEL SUR|   PR|      NULL|\n",
            "|  3|    709|    NULL|       BDA SAN LUIS|   PR|      3700|\n",
            "|  4|  76166|  UNIQUE|  CINGULAR WIRELESS|   TX|     84000|\n",
            "|  5|  76177|STANDARD|               NULL|   TX|      NULL|\n",
            "+---+-------+--------+-------------------+-----+----------+\n",
            "\n",
            "+---+-------+\n",
            "|_c0|    _c1|\n",
            "+---+-------+\n",
            "| id|zipcode|\n",
            "|  1|    704|\n",
            "|  2|    704|\n",
            "|  3|    709|\n",
            "|  4|  76166|\n",
            "+---+-------+\n",
            "only showing top 5 rows\n",
            "\n"
          ]
        }
      ]
    },
    {
      "cell_type": "code",
      "source": [
        "spark.sql(\"\"\"SELECT * From tempdata WHERE _c4='AZ'\"\"\").show(5)"
      ],
      "metadata": {
        "colab": {
          "base_uri": "https://localhost:8080/"
        },
        "id": "XfxEvJqmtIJA",
        "outputId": "312b1b81-1990-4917-e349-0ce5701c6ceb"
      },
      "execution_count": 4,
      "outputs": [
        {
          "output_type": "stream",
          "name": "stdout",
          "text": [
            "+---+---+---+---+---+---+\n",
            "|_c0|_c1|_c2|_c3|_c4|_c5|\n",
            "+---+---+---+---+---+---+\n",
            "+---+---+---+---+---+---+\n",
            "\n"
          ]
        }
      ]
    },
    {
      "cell_type": "code",
      "source": [
        "from pyspark.sql import SparkSession\n",
        "\n",
        "# Create Spark session (if not already done)\n",
        "spark = SparkSession.builder.appName(\"ETLPractice\").getOrCreate()\n",
        "\n",
        "# File location and type\n",
        "file_location = \"/content/small_zipcode.csv\"\n",
        "file_type = \"csv\"\n",
        "\n",
        "# CSV options\n",
        "infer_schema = \"false\"\n",
        "first_row_is_header = \"true\"\n",
        "delimiter = \",\"\n",
        "\n",
        "# Read CSV file\n",
        "df = spark.read.format(file_type) \\\n",
        "  .option(\"inferSchema\", infer_schema) \\\n",
        "  .option(\"header\", first_row_is_header) \\\n",
        "  .option(\"sep\", delimiter) \\\n",
        "  .load(file_location)\n",
        "\n",
        "# Display the dataframe\n",
        "df.show()\n",
        "\n",
        "# Register as temporary view\n",
        "df.createOrReplaceTempView(\"customer\")\n"
      ],
      "metadata": {
        "colab": {
          "base_uri": "https://localhost:8080/"
        },
        "id": "HkIlG4iWtK9I",
        "outputId": "cb7ad544-6761-4dae-e0e4-6b419cfacdaa"
      },
      "execution_count": 8,
      "outputs": [
        {
          "output_type": "stream",
          "name": "stdout",
          "text": [
            "+---+-------+--------+-------------------+-----+----------+\n",
            "| id|zipcode|    type|               city|state|population|\n",
            "+---+-------+--------+-------------------+-----+----------+\n",
            "|  1|    704|STANDARD|               NULL|   PR|     30100|\n",
            "|  2|    704|    NULL|PASEO COSTA DEL SUR|   PR|      NULL|\n",
            "|  3|    709|    NULL|       BDA SAN LUIS|   PR|      3700|\n",
            "|  4|  76166|  UNIQUE|  CINGULAR WIRELESS|   TX|     84000|\n",
            "|  5|  76177|STANDARD|               NULL|   TX|      NULL|\n",
            "+---+-------+--------+-------------------+-----+----------+\n",
            "\n"
          ]
        }
      ]
    },
    {
      "cell_type": "code",
      "source": [
        "spark.sql(\"select * from customer\").show()\n",
        "df.select(\"id\", \"state\").show(5)"
      ],
      "metadata": {
        "colab": {
          "base_uri": "https://localhost:8080/"
        },
        "id": "JFR6XWJqt0p9",
        "outputId": "ad243eff-afbd-4cd4-dbb2-2e8be0e9208e"
      },
      "execution_count": 10,
      "outputs": [
        {
          "output_type": "stream",
          "name": "stdout",
          "text": [
            "+---+-------+--------+-------------------+-----+----------+\n",
            "| id|zipcode|    type|               city|state|population|\n",
            "+---+-------+--------+-------------------+-----+----------+\n",
            "|  1|    704|STANDARD|               NULL|   PR|     30100|\n",
            "|  2|    704|    NULL|PASEO COSTA DEL SUR|   PR|      NULL|\n",
            "|  3|    709|    NULL|       BDA SAN LUIS|   PR|      3700|\n",
            "|  4|  76166|  UNIQUE|  CINGULAR WIRELESS|   TX|     84000|\n",
            "|  5|  76177|STANDARD|               NULL|   TX|      NULL|\n",
            "+---+-------+--------+-------------------+-----+----------+\n",
            "\n",
            "+---+-----+\n",
            "| id|state|\n",
            "+---+-----+\n",
            "|  1|   PR|\n",
            "|  2|   PR|\n",
            "|  3|   PR|\n",
            "|  4|   TX|\n",
            "|  5|   TX|\n",
            "+---+-----+\n",
            "\n"
          ]
        }
      ]
    },
    {
      "cell_type": "code",
      "source": [
        "spark.sql(\"\"\"SELECT * From customer WHERE state='PR'\"\"\").show(5)"
      ],
      "metadata": {
        "colab": {
          "base_uri": "https://localhost:8080/"
        },
        "id": "ii2PuaYuuJae",
        "outputId": "3db878b0-dcc9-41e2-80cf-565a77dc67ff"
      },
      "execution_count": 11,
      "outputs": [
        {
          "output_type": "stream",
          "name": "stdout",
          "text": [
            "+---+-------+--------+-------------------+-----+----------+\n",
            "| id|zipcode|    type|               city|state|population|\n",
            "+---+-------+--------+-------------------+-----+----------+\n",
            "|  1|    704|STANDARD|               NULL|   PR|     30100|\n",
            "|  2|    704|    NULL|PASEO COSTA DEL SUR|   PR|      NULL|\n",
            "|  3|    709|    NULL|       BDA SAN LUIS|   PR|      3700|\n",
            "+---+-------+--------+-------------------+-----+----------+\n",
            "\n"
          ]
        }
      ]
    },
    {
      "cell_type": "code",
      "source": [
        "spark.sql(\"\"\"select * FROM customer WHERE state in ('PR','AZ','FL')order by state \"\"\").show(10\n",
        "                                                                                            )"
      ],
      "metadata": {
        "colab": {
          "base_uri": "https://localhost:8080/"
        },
        "id": "Q_VycilAuMIE",
        "outputId": "9e6748b6-bc26-41d5-d648-fc80668f730c"
      },
      "execution_count": 12,
      "outputs": [
        {
          "output_type": "stream",
          "name": "stdout",
          "text": [
            "+---+-------+--------+-------------------+-----+----------+\n",
            "| id|zipcode|    type|               city|state|population|\n",
            "+---+-------+--------+-------------------+-----+----------+\n",
            "|  1|    704|STANDARD|               NULL|   PR|     30100|\n",
            "|  2|    704|    NULL|PASEO COSTA DEL SUR|   PR|      NULL|\n",
            "|  3|    709|    NULL|       BDA SAN LUIS|   PR|      3700|\n",
            "+---+-------+--------+-------------------+-----+----------+\n",
            "\n"
          ]
        }
      ]
    },
    {
      "cell_type": "code",
      "source": [
        "spark.sql(\"\"\"SELECT state,count(*) as count FROM customer GROUP BY state\"\"\").show()"
      ],
      "metadata": {
        "colab": {
          "base_uri": "https://localhost:8080/"
        },
        "id": "NCWgVK4luPJ6",
        "outputId": "2dcd24e7-d774-4a5b-fe9c-553633857ca5"
      },
      "execution_count": 13,
      "outputs": [
        {
          "output_type": "stream",
          "name": "stdout",
          "text": [
            "+-----+-----+\n",
            "|state|count|\n",
            "+-----+-----+\n",
            "|   TX|    2|\n",
            "|   PR|    3|\n",
            "+-----+-----+\n",
            "\n"
          ]
        }
      ]
    }
  ]
}
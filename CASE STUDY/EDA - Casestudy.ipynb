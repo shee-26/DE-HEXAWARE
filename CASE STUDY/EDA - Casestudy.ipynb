{
 "cells": [
  {
   "cell_type": "code",
   "execution_count": 0,
   "metadata": {
    "application/vnd.databricks.v1+cell": {
     "cellMetadata": {
      "byteLimit": 2048000,
      "rowLimit": 10000
     },
     "inputWidgets": {},
     "nuid": "64db04b2-d440-4c3a-86dc-9e75de7ac763",
     "showTitle": false,
     "tableResultSettingsMap": {},
     "title": ""
    }
   },
   "outputs": [],
   "source": [
    "# Variables\n",
    "account = \"datacasestudy\"\n",
    "container = \"source\"\n",
    "sas = \"sp=racwdlmeop&st=2025-08-14T10:22:35Z&se=2025-08-14T18:37:35Z&spr=https&sv=2024-11-04&sr=c&sig=OOYjZdIawM7xxLjnuWTD37lQ3Mgzqc%2Be8CKx%2FXw%2F5IQ%3D\"\n",
    "\n",
    "# Configure Spark to use SAS token\n",
    "spark.conf.set(\n",
    "    f\"fs.azure.sas.{container}.{account}.dfs.core.windows.net\",\n",
    "    sas.lstrip(\"?\")  # remove leading \"?\" for Spark config\n",
    ")\n"
   ]
  },
  {
   "cell_type": "code",
   "execution_count": 0,
   "metadata": {
    "application/vnd.databricks.v1+cell": {
     "cellMetadata": {
      "byteLimit": 2048000,
      "rowLimit": 10000
     },
     "inputWidgets": {},
     "nuid": "5662d5c1-6c22-40d6-b279-12c05e0e669f",
     "showTitle": false,
     "tableResultSettingsMap": {},
     "title": ""
    }
   },
   "outputs": [
    {
     "output_type": "execute_result",
     "data": {
      "text/plain": [
       "[FileInfo(path='abfss://source@datacasestudy.dfs.core.windows.net/Placement_Data_Full_Class.csv', name='Placement_Data_Full_Class.csv', size=19496, modificationTime=1755167227000)]"
      ]
     },
     "execution_count": 4,
     "metadata": {},
     "output_type": "execute_result"
    }
   ],
   "source": [
    "account = \"datacasestudy\"\n",
    "container = \"source\"\n",
    "# Set the storage account key\n",
    "spark.conf.set(\n",
    "    f\"fs.azure.account.key.{account}.dfs.core.windows.net\",\n",
    "    \"Xl4J4KVJwXr/KYvdDkuzBkH4cg+te97KcfyiQr360P5w6mDYKQO7Q3sITk4mtJefqOMYLuqhkj+d+ASt/5id8w==\"\n",
    ")\n",
    "\n",
    "# List the files in the specified container\n",
    "dbutils.fs.ls(f\"abfss://{container}@{account}.dfs.core.windows.net/\")"
   ]
  },
  {
   "cell_type": "code",
   "execution_count": 0,
   "metadata": {
    "application/vnd.databricks.v1+cell": {
     "cellMetadata": {
      "byteLimit": 2048000,
      "rowLimit": 10000
     },
     "inputWidgets": {},
     "nuid": "b769c3c1-c701-4aa9-abad-011713917309",
     "showTitle": false,
     "tableResultSettingsMap": {},
     "title": ""
    }
   },
   "outputs": [
    {
     "output_type": "display_data",
     "data": {
      "text/html": [
       "<style scoped>\n",
       "  .table-result-container {\n",
       "    max-height: 300px;\n",
       "    overflow: auto;\n",
       "  }\n",
       "  table, th, td {\n",
       "    border: 1px solid black;\n",
       "    border-collapse: collapse;\n",
       "  }\n",
       "  th, td {\n",
       "    padding: 5px;\n",
       "  }\n",
       "  th {\n",
       "    text-align: left;\n",
       "  }\n",
       "</style><div class='table-result-container'><table class='table-result'><thead style='background-color: white'><tr><th>sl_no</th><th>gender</th><th>ssc_p</th><th>ssc_b</th><th>hsc_p</th><th>hsc_b</th><th>hsc_s</th><th>degree_p</th><th>degree_t</th><th>workex</th><th>etest_p</th><th>specialisation</th><th>mba_p</th><th>status</th><th>salary</th></tr></thead><tbody><tr><td>1</td><td>M</td><td>67.0</td><td>Others</td><td>91.0</td><td>Others</td><td>Commerce</td><td>58.0</td><td>Sci&Tech</td><td>No</td><td>55.0</td><td>Mkt&HR</td><td>58.8</td><td>Placed</td><td>270000</td></tr><tr><td>2</td><td>M</td><td>79.33</td><td>Central</td><td>78.33</td><td>Others</td><td>Science</td><td>77.48</td><td>Sci&Tech</td><td>Yes</td><td>86.5</td><td>Mkt&Fin</td><td>66.28</td><td>Placed</td><td>200000</td></tr><tr><td>3</td><td>M</td><td>65.0</td><td>Central</td><td>68.0</td><td>Central</td><td>Arts</td><td>64.0</td><td>Comm&Mgmt</td><td>No</td><td>75.0</td><td>Mkt&Fin</td><td>57.8</td><td>Placed</td><td>250000</td></tr><tr><td>4</td><td>M</td><td>56.0</td><td>Central</td><td>52.0</td><td>Central</td><td>Science</td><td>52.0</td><td>Sci&Tech</td><td>No</td><td>66.0</td><td>Mkt&HR</td><td>59.43</td><td>Not Placed</td><td>null</td></tr><tr><td>5</td><td>M</td><td>85.8</td><td>Central</td><td>73.6</td><td>Central</td><td>Commerce</td><td>73.3</td><td>Comm&Mgmt</td><td>No</td><td>96.8</td><td>Mkt&Fin</td><td>55.5</td><td>Placed</td><td>425000</td></tr><tr><td>6</td><td>M</td><td>55.0</td><td>Others</td><td>49.8</td><td>Others</td><td>Science</td><td>67.25</td><td>Sci&Tech</td><td>Yes</td><td>55.0</td><td>Mkt&Fin</td><td>51.58</td><td>Not Placed</td><td>null</td></tr><tr><td>7</td><td>F</td><td>46.0</td><td>Others</td><td>49.2</td><td>Others</td><td>Commerce</td><td>79.0</td><td>Comm&Mgmt</td><td>No</td><td>74.28</td><td>Mkt&Fin</td><td>53.29</td><td>Not Placed</td><td>null</td></tr><tr><td>8</td><td>M</td><td>82.0</td><td>Central</td><td>64.0</td><td>Central</td><td>Science</td><td>66.0</td><td>Sci&Tech</td><td>Yes</td><td>67.0</td><td>Mkt&Fin</td><td>62.14</td><td>Placed</td><td>252000</td></tr><tr><td>9</td><td>M</td><td>73.0</td><td>Central</td><td>79.0</td><td>Central</td><td>Commerce</td><td>72.0</td><td>Comm&Mgmt</td><td>No</td><td>91.34</td><td>Mkt&Fin</td><td>61.29</td><td>Placed</td><td>231000</td></tr><tr><td>10</td><td>M</td><td>58.0</td><td>Central</td><td>70.0</td><td>Central</td><td>Commerce</td><td>61.0</td><td>Comm&Mgmt</td><td>No</td><td>54.0</td><td>Mkt&Fin</td><td>52.21</td><td>Not Placed</td><td>null</td></tr><tr><td>11</td><td>M</td><td>58.0</td><td>Central</td><td>61.0</td><td>Central</td><td>Commerce</td><td>60.0</td><td>Comm&Mgmt</td><td>Yes</td><td>62.0</td><td>Mkt&HR</td><td>60.85</td><td>Placed</td><td>260000</td></tr><tr><td>12</td><td>M</td><td>69.6</td><td>Central</td><td>68.4</td><td>Central</td><td>Commerce</td><td>78.3</td><td>Comm&Mgmt</td><td>Yes</td><td>60.0</td><td>Mkt&Fin</td><td>63.7</td><td>Placed</td><td>250000</td></tr><tr><td>13</td><td>F</td><td>47.0</td><td>Central</td><td>55.0</td><td>Others</td><td>Science</td><td>65.0</td><td>Comm&Mgmt</td><td>No</td><td>62.0</td><td>Mkt&HR</td><td>65.04</td><td>Not Placed</td><td>null</td></tr><tr><td>14</td><td>F</td><td>77.0</td><td>Central</td><td>87.0</td><td>Central</td><td>Commerce</td><td>59.0</td><td>Comm&Mgmt</td><td>No</td><td>68.0</td><td>Mkt&Fin</td><td>68.63</td><td>Placed</td><td>218000</td></tr><tr><td>15</td><td>M</td><td>62.0</td><td>Central</td><td>47.0</td><td>Central</td><td>Commerce</td><td>50.0</td><td>Comm&Mgmt</td><td>No</td><td>76.0</td><td>Mkt&HR</td><td>54.96</td><td>Not Placed</td><td>null</td></tr><tr><td>16</td><td>F</td><td>65.0</td><td>Central</td><td>75.0</td><td>Central</td><td>Commerce</td><td>69.0</td><td>Comm&Mgmt</td><td>Yes</td><td>72.0</td><td>Mkt&Fin</td><td>64.66</td><td>Placed</td><td>200000</td></tr><tr><td>17</td><td>M</td><td>63.0</td><td>Central</td><td>66.2</td><td>Central</td><td>Commerce</td><td>65.6</td><td>Comm&Mgmt</td><td>Yes</td><td>60.0</td><td>Mkt&Fin</td><td>62.54</td><td>Placed</td><td>300000</td></tr><tr><td>18</td><td>F</td><td>55.0</td><td>Central</td><td>67.0</td><td>Central</td><td>Commerce</td><td>64.0</td><td>Comm&Mgmt</td><td>No</td><td>60.0</td><td>Mkt&Fin</td><td>67.28</td><td>Not Placed</td><td>null</td></tr><tr><td>19</td><td>F</td><td>63.0</td><td>Central</td><td>66.0</td><td>Central</td><td>Commerce</td><td>64.0</td><td>Comm&Mgmt</td><td>No</td><td>68.0</td><td>Mkt&HR</td><td>64.08</td><td>Not Placed</td><td>null</td></tr><tr><td>20</td><td>M</td><td>60.0</td><td>Others</td><td>67.0</td><td>Others</td><td>Arts</td><td>70.0</td><td>Comm&Mgmt</td><td>Yes</td><td>50.48</td><td>Mkt&Fin</td><td>77.89</td><td>Placed</td><td>236000</td></tr><tr><td>21</td><td>M</td><td>62.0</td><td>Others</td><td>65.0</td><td>Others</td><td>Commerce</td><td>66.0</td><td>Comm&Mgmt</td><td>No</td><td>50.0</td><td>Mkt&HR</td><td>56.7</td><td>Placed</td><td>265000</td></tr><tr><td>22</td><td>F</td><td>79.0</td><td>Others</td><td>76.0</td><td>Others</td><td>Commerce</td><td>85.0</td><td>Comm&Mgmt</td><td>No</td><td>95.0</td><td>Mkt&Fin</td><td>69.06</td><td>Placed</td><td>393000</td></tr><tr><td>23</td><td>F</td><td>69.8</td><td>Others</td><td>60.8</td><td>Others</td><td>Science</td><td>72.23</td><td>Sci&Tech</td><td>No</td><td>55.53</td><td>Mkt&HR</td><td>68.81</td><td>Placed</td><td>360000</td></tr><tr><td>24</td><td>F</td><td>77.4</td><td>Others</td><td>60.0</td><td>Others</td><td>Science</td><td>64.74</td><td>Sci&Tech</td><td>Yes</td><td>92.0</td><td>Mkt&Fin</td><td>63.62</td><td>Placed</td><td>300000</td></tr><tr><td>25</td><td>M</td><td>76.5</td><td>Others</td><td>97.7</td><td>Others</td><td>Science</td><td>78.86</td><td>Sci&Tech</td><td>No</td><td>97.4</td><td>Mkt&Fin</td><td>74.01</td><td>Placed</td><td>360000</td></tr><tr><td>26</td><td>F</td><td>52.58</td><td>Others</td><td>54.6</td><td>Central</td><td>Commerce</td><td>50.2</td><td>Comm&Mgmt</td><td>Yes</td><td>76.0</td><td>Mkt&Fin</td><td>65.33</td><td>Not Placed</td><td>null</td></tr><tr><td>27</td><td>M</td><td>71.0</td><td>Others</td><td>79.0</td><td>Others</td><td>Commerce</td><td>66.0</td><td>Comm&Mgmt</td><td>Yes</td><td>94.0</td><td>Mkt&Fin</td><td>57.55</td><td>Placed</td><td>240000</td></tr><tr><td>28</td><td>M</td><td>63.0</td><td>Others</td><td>67.0</td><td>Others</td><td>Commerce</td><td>66.0</td><td>Comm&Mgmt</td><td>No</td><td>68.0</td><td>Mkt&HR</td><td>57.69</td><td>Placed</td><td>265000</td></tr><tr><td>29</td><td>M</td><td>76.76</td><td>Others</td><td>76.5</td><td>Others</td><td>Commerce</td><td>67.5</td><td>Comm&Mgmt</td><td>Yes</td><td>73.35</td><td>Mkt&Fin</td><td>64.15</td><td>Placed</td><td>350000</td></tr><tr><td>30</td><td>M</td><td>62.0</td><td>Central</td><td>67.0</td><td>Central</td><td>Commerce</td><td>58.0</td><td>Comm&Mgmt</td><td>No</td><td>77.0</td><td>Mkt&Fin</td><td>51.29</td><td>Not Placed</td><td>null</td></tr><tr><td>31</td><td>F</td><td>64.0</td><td>Central</td><td>73.5</td><td>Central</td><td>Commerce</td><td>73.0</td><td>Comm&Mgmt</td><td>No</td><td>52.0</td><td>Mkt&HR</td><td>56.7</td><td>Placed</td><td>250000</td></tr><tr><td>32</td><td>F</td><td>67.0</td><td>Central</td><td>53.0</td><td>Central</td><td>Science</td><td>65.0</td><td>Sci&Tech</td><td>No</td><td>64.0</td><td>Mkt&HR</td><td>58.32</td><td>Not Placed</td><td>null</td></tr><tr><td>33</td><td>F</td><td>61.0</td><td>Central</td><td>81.0</td><td>Central</td><td>Commerce</td><td>66.4</td><td>Comm&Mgmt</td><td>No</td><td>50.89</td><td>Mkt&HR</td><td>62.21</td><td>Placed</td><td>278000</td></tr><tr><td>34</td><td>F</td><td>87.0</td><td>Others</td><td>65.0</td><td>Others</td><td>Science</td><td>81.0</td><td>Comm&Mgmt</td><td>Yes</td><td>88.0</td><td>Mkt&Fin</td><td>72.78</td><td>Placed</td><td>260000</td></tr><tr><td>35</td><td>M</td><td>62.0</td><td>Others</td><td>51.0</td><td>Others</td><td>Science</td><td>52.0</td><td>Others</td><td>No</td><td>68.44</td><td>Mkt&HR</td><td>62.77</td><td>Not Placed</td><td>null</td></tr><tr><td>36</td><td>F</td><td>69.0</td><td>Central</td><td>78.0</td><td>Central</td><td>Commerce</td><td>72.0</td><td>Comm&Mgmt</td><td>No</td><td>71.0</td><td>Mkt&HR</td><td>62.74</td><td>Placed</td><td>300000</td></tr><tr><td>37</td><td>M</td><td>51.0</td><td>Central</td><td>44.0</td><td>Central</td><td>Commerce</td><td>57.0</td><td>Comm&Mgmt</td><td>No</td><td>64.0</td><td>Mkt&Fin</td><td>51.45</td><td>Not Placed</td><td>null</td></tr><tr><td>38</td><td>F</td><td>79.0</td><td>Central</td><td>76.0</td><td>Central</td><td>Science</td><td>65.6</td><td>Sci&Tech</td><td>No</td><td>58.0</td><td>Mkt&HR</td><td>55.47</td><td>Placed</td><td>320000</td></tr><tr><td>39</td><td>F</td><td>73.0</td><td>Others</td><td>58.0</td><td>Others</td><td>Science</td><td>66.0</td><td>Comm&Mgmt</td><td>No</td><td>53.7</td><td>Mkt&HR</td><td>56.86</td><td>Placed</td><td>240000</td></tr><tr><td>40</td><td>M</td><td>81.0</td><td>Others</td><td>68.0</td><td>Others</td><td>Science</td><td>64.0</td><td>Sci&Tech</td><td>No</td><td>93.0</td><td>Mkt&Fin</td><td>62.56</td><td>Placed</td><td>411000</td></tr><tr><td>41</td><td>F</td><td>78.0</td><td>Central</td><td>77.0</td><td>Others</td><td>Commerce</td><td>80.0</td><td>Comm&Mgmt</td><td>No</td><td>60.0</td><td>Mkt&Fin</td><td>66.72</td><td>Placed</td><td>287000</td></tr><tr><td>42</td><td>F</td><td>74.0</td><td>Others</td><td>63.16</td><td>Others</td><td>Commerce</td><td>65.0</td><td>Comm&Mgmt</td><td>Yes</td><td>65.0</td><td>Mkt&HR</td><td>69.76</td><td>Not Placed</td><td>null</td></tr><tr><td>43</td><td>M</td><td>49.0</td><td>Others</td><td>39.0</td><td>Central</td><td>Science</td><td>65.0</td><td>Others</td><td>No</td><td>63.0</td><td>Mkt&Fin</td><td>51.21</td><td>Not Placed</td><td>null</td></tr><tr><td>44</td><td>M</td><td>87.0</td><td>Others</td><td>87.0</td><td>Others</td><td>Commerce</td><td>68.0</td><td>Comm&Mgmt</td><td>No</td><td>95.0</td><td>Mkt&HR</td><td>62.9</td><td>Placed</td><td>300000</td></tr><tr><td>45</td><td>F</td><td>77.0</td><td>Others</td><td>73.0</td><td>Others</td><td>Commerce</td><td>81.0</td><td>Comm&Mgmt</td><td>Yes</td><td>89.0</td><td>Mkt&Fin</td><td>69.7</td><td>Placed</td><td>200000</td></tr><tr><td>46</td><td>F</td><td>76.0</td><td>Central</td><td>64.0</td><td>Central</td><td>Science</td><td>72.0</td><td>Sci&Tech</td><td>No</td><td>58.0</td><td>Mkt&HR</td><td>66.53</td><td>Not Placed</td><td>null</td></tr><tr><td>47</td><td>F</td><td>70.89</td><td>Others</td><td>71.98</td><td>Others</td><td>Science</td><td>65.6</td><td>Comm&Mgmt</td><td>No</td><td>68.0</td><td>Mkt&HR</td><td>71.63</td><td>Not Placed</td><td>null</td></tr><tr><td>48</td><td>M</td><td>63.0</td><td>Central</td><td>60.0</td><td>Central</td><td>Commerce</td><td>57.0</td><td>Comm&Mgmt</td><td>Yes</td><td>78.0</td><td>Mkt&Fin</td><td>54.55</td><td>Placed</td><td>204000</td></tr><tr><td>49</td><td>M</td><td>63.0</td><td>Others</td><td>62.0</td><td>Others</td><td>Commerce</td><td>68.0</td><td>Comm&Mgmt</td><td>No</td><td>64.0</td><td>Mkt&Fin</td><td>62.46</td><td>Placed</td><td>250000</td></tr><tr><td>50</td><td>F</td><td>50.0</td><td>Others</td><td>37.0</td><td>Others</td><td>Arts</td><td>52.0</td><td>Others</td><td>No</td><td>65.0</td><td>Mkt&HR</td><td>56.11</td><td>Not Placed</td><td>null</td></tr><tr><td>51</td><td>F</td><td>75.2</td><td>Central</td><td>73.2</td><td>Central</td><td>Science</td><td>68.4</td><td>Comm&Mgmt</td><td>No</td><td>65.0</td><td>Mkt&HR</td><td>62.98</td><td>Placed</td><td>200000</td></tr><tr><td>52</td><td>M</td><td>54.4</td><td>Central</td><td>61.12</td><td>Central</td><td>Commerce</td><td>56.2</td><td>Comm&Mgmt</td><td>No</td><td>67.0</td><td>Mkt&HR</td><td>62.65</td><td>Not Placed</td><td>null</td></tr><tr><td>53</td><td>F</td><td>40.89</td><td>Others</td><td>45.83</td><td>Others</td><td>Commerce</td><td>53.0</td><td>Comm&Mgmt</td><td>No</td><td>71.2</td><td>Mkt&HR</td><td>65.49</td><td>Not Placed</td><td>null</td></tr><tr><td>54</td><td>M</td><td>80.0</td><td>Others</td><td>70.0</td><td>Others</td><td>Science</td><td>72.0</td><td>Sci&Tech</td><td>No</td><td>87.0</td><td>Mkt&HR</td><td>71.04</td><td>Placed</td><td>450000</td></tr><tr><td>55</td><td>F</td><td>74.0</td><td>Central</td><td>60.0</td><td>Others</td><td>Science</td><td>69.0</td><td>Comm&Mgmt</td><td>No</td><td>78.0</td><td>Mkt&HR</td><td>65.56</td><td>Placed</td><td>216000</td></tr><tr><td>56</td><td>M</td><td>60.4</td><td>Central</td><td>66.6</td><td>Others</td><td>Science</td><td>65.0</td><td>Comm&Mgmt</td><td>No</td><td>71.0</td><td>Mkt&HR</td><td>52.71</td><td>Placed</td><td>220000</td></tr><tr><td>57</td><td>M</td><td>63.0</td><td>Others</td><td>71.4</td><td>Others</td><td>Commerce</td><td>61.4</td><td>Comm&Mgmt</td><td>No</td><td>68.0</td><td>Mkt&Fin</td><td>66.88</td><td>Placed</td><td>240000</td></tr><tr><td>58</td><td>M</td><td>68.0</td><td>Central</td><td>76.0</td><td>Central</td><td>Commerce</td><td>74.0</td><td>Comm&Mgmt</td><td>No</td><td>80.0</td><td>Mkt&Fin</td><td>63.59</td><td>Placed</td><td>360000</td></tr><tr><td>59</td><td>M</td><td>74.0</td><td>Central</td><td>62.0</td><td>Others</td><td>Science</td><td>68.0</td><td>Comm&Mgmt</td><td>No</td><td>74.0</td><td>Mkt&Fin</td><td>57.99</td><td>Placed</td><td>268000</td></tr><tr><td>60</td><td>M</td><td>52.6</td><td>Central</td><td>65.58</td><td>Others</td><td>Science</td><td>72.11</td><td>Sci&Tech</td><td>No</td><td>57.6</td><td>Mkt&Fin</td><td>56.66</td><td>Placed</td><td>265000</td></tr><tr><td>61</td><td>M</td><td>74.0</td><td>Central</td><td>70.0</td><td>Central</td><td>Science</td><td>72.0</td><td>Comm&Mgmt</td><td>Yes</td><td>60.0</td><td>Mkt&Fin</td><td>57.24</td><td>Placed</td><td>260000</td></tr><tr><td>62</td><td>M</td><td>84.2</td><td>Central</td><td>73.4</td><td>Central</td><td>Commerce</td><td>66.89</td><td>Comm&Mgmt</td><td>No</td><td>61.6</td><td>Mkt&Fin</td><td>62.48</td><td>Placed</td><td>300000</td></tr><tr><td>63</td><td>F</td><td>86.5</td><td>Others</td><td>64.2</td><td>Others</td><td>Science</td><td>67.4</td><td>Sci&Tech</td><td>No</td><td>59.0</td><td>Mkt&Fin</td><td>59.69</td><td>Placed</td><td>240000</td></tr><tr><td>64</td><td>M</td><td>61.0</td><td>Others</td><td>70.0</td><td>Others</td><td>Commerce</td><td>64.0</td><td>Comm&Mgmt</td><td>No</td><td>68.5</td><td>Mkt&HR</td><td>59.5</td><td>Not Placed</td><td>null</td></tr><tr><td>65</td><td>M</td><td>80.0</td><td>Others</td><td>73.0</td><td>Others</td><td>Commerce</td><td>75.0</td><td>Comm&Mgmt</td><td>No</td><td>61.0</td><td>Mkt&Fin</td><td>58.78</td><td>Placed</td><td>240000</td></tr><tr><td>66</td><td>M</td><td>54.0</td><td>Others</td><td>47.0</td><td>Others</td><td>Science</td><td>57.0</td><td>Comm&Mgmt</td><td>No</td><td>89.69</td><td>Mkt&HR</td><td>57.1</td><td>Not Placed</td><td>null</td></tr><tr><td>67</td><td>M</td><td>83.0</td><td>Others</td><td>74.0</td><td>Others</td><td>Science</td><td>66.0</td><td>Comm&Mgmt</td><td>No</td><td>68.92</td><td>Mkt&HR</td><td>58.46</td><td>Placed</td><td>275000</td></tr><tr><td>68</td><td>M</td><td>80.92</td><td>Others</td><td>78.5</td><td>Others</td><td>Commerce</td><td>67.0</td><td>Comm&Mgmt</td><td>No</td><td>68.71</td><td>Mkt&Fin</td><td>60.99</td><td>Placed</td><td>275000</td></tr><tr><td>69</td><td>F</td><td>69.7</td><td>Central</td><td>47.0</td><td>Central</td><td>Commerce</td><td>72.7</td><td>Sci&Tech</td><td>No</td><td>79.0</td><td>Mkt&HR</td><td>59.24</td><td>Not Placed</td><td>null</td></tr><tr><td>70</td><td>M</td><td>73.0</td><td>Central</td><td>73.0</td><td>Central</td><td>Science</td><td>66.0</td><td>Sci&Tech</td><td>Yes</td><td>70.0</td><td>Mkt&Fin</td><td>68.07</td><td>Placed</td><td>275000</td></tr><tr><td>71</td><td>M</td><td>82.0</td><td>Others</td><td>61.0</td><td>Others</td><td>Science</td><td>62.0</td><td>Sci&Tech</td><td>No</td><td>89.0</td><td>Mkt&Fin</td><td>65.45</td><td>Placed</td><td>360000</td></tr><tr><td>72</td><td>M</td><td>75.0</td><td>Others</td><td>70.29</td><td>Others</td><td>Commerce</td><td>71.0</td><td>Comm&Mgmt</td><td>No</td><td>95.0</td><td>Mkt&Fin</td><td>66.94</td><td>Placed</td><td>240000</td></tr><tr><td>73</td><td>M</td><td>84.86</td><td>Others</td><td>67.0</td><td>Others</td><td>Science</td><td>78.0</td><td>Comm&Mgmt</td><td>No</td><td>95.5</td><td>Mkt&Fin</td><td>68.53</td><td>Placed</td><td>240000</td></tr><tr><td>74</td><td>M</td><td>64.6</td><td>Central</td><td>83.83</td><td>Others</td><td>Commerce</td><td>71.72</td><td>Comm&Mgmt</td><td>No</td><td>86.0</td><td>Mkt&Fin</td><td>59.75</td><td>Placed</td><td>218000</td></tr><tr><td>75</td><td>M</td><td>56.6</td><td>Central</td><td>64.8</td><td>Central</td><td>Commerce</td><td>70.2</td><td>Comm&Mgmt</td><td>No</td><td>84.27</td><td>Mkt&Fin</td><td>67.2</td><td>Placed</td><td>336000</td></tr><tr><td>76</td><td>F</td><td>59.0</td><td>Central</td><td>62.0</td><td>Others</td><td>Commerce</td><td>77.5</td><td>Comm&Mgmt</td><td>No</td><td>74.0</td><td>Mkt&HR</td><td>67.0</td><td>Not Placed</td><td>null</td></tr><tr><td>77</td><td>F</td><td>66.5</td><td>Others</td><td>70.4</td><td>Central</td><td>Arts</td><td>71.93</td><td>Comm&Mgmt</td><td>No</td><td>61.0</td><td>Mkt&Fin</td><td>64.27</td><td>Placed</td><td>230000</td></tr><tr><td>78</td><td>M</td><td>64.0</td><td>Others</td><td>80.0</td><td>Others</td><td>Science</td><td>65.0</td><td>Sci&Tech</td><td>Yes</td><td>69.0</td><td>Mkt&Fin</td><td>57.65</td><td>Placed</td><td>500000</td></tr><tr><td>79</td><td>M</td><td>84.0</td><td>Others</td><td>90.9</td><td>Others</td><td>Science</td><td>64.5</td><td>Sci&Tech</td><td>No</td><td>86.04</td><td>Mkt&Fin</td><td>59.42</td><td>Placed</td><td>270000</td></tr><tr><td>80</td><td>F</td><td>69.0</td><td>Central</td><td>62.0</td><td>Central</td><td>Science</td><td>66.0</td><td>Sci&Tech</td><td>No</td><td>75.0</td><td>Mkt&HR</td><td>67.99</td><td>Not Placed</td><td>null</td></tr><tr><td>81</td><td>F</td><td>69.0</td><td>Others</td><td>62.0</td><td>Others</td><td>Commerce</td><td>69.0</td><td>Comm&Mgmt</td><td>Yes</td><td>67.0</td><td>Mkt&HR</td><td>62.35</td><td>Placed</td><td>240000</td></tr><tr><td>82</td><td>M</td><td>81.7</td><td>Others</td><td>63.0</td><td>Others</td><td>Science</td><td>67.0</td><td>Comm&Mgmt</td><td>Yes</td><td>86.0</td><td>Mkt&Fin</td><td>70.2</td><td>Placed</td><td>300000</td></tr><tr><td>83</td><td>M</td><td>63.0</td><td>Central</td><td>67.0</td><td>Central</td><td>Commerce</td><td>74.0</td><td>Comm&Mgmt</td><td>No</td><td>82.0</td><td>Mkt&Fin</td><td>60.44</td><td>Not Placed</td><td>null</td></tr><tr><td>84</td><td>M</td><td>84.0</td><td>Others</td><td>79.0</td><td>Others</td><td>Science</td><td>68.0</td><td>Sci&Tech</td><td>Yes</td><td>84.0</td><td>Mkt&Fin</td><td>66.69</td><td>Placed</td><td>300000</td></tr><tr><td>85</td><td>M</td><td>70.0</td><td>Central</td><td>63.0</td><td>Others</td><td>Science</td><td>70.0</td><td>Sci&Tech</td><td>Yes</td><td>55.0</td><td>Mkt&Fin</td><td>62.0</td><td>Placed</td><td>300000</td></tr><tr><td>86</td><td>F</td><td>83.84</td><td>Others</td><td>89.83</td><td>Others</td><td>Commerce</td><td>77.2</td><td>Comm&Mgmt</td><td>Yes</td><td>78.74</td><td>Mkt&Fin</td><td>76.18</td><td>Placed</td><td>400000</td></tr><tr><td>87</td><td>M</td><td>62.0</td><td>Others</td><td>63.0</td><td>Others</td><td>Commerce</td><td>64.0</td><td>Comm&Mgmt</td><td>No</td><td>67.0</td><td>Mkt&Fin</td><td>57.03</td><td>Placed</td><td>220000</td></tr><tr><td>88</td><td>M</td><td>59.6</td><td>Central</td><td>51.0</td><td>Central</td><td>Science</td><td>60.0</td><td>Others</td><td>No</td><td>75.0</td><td>Mkt&HR</td><td>59.08</td><td>Not Placed</td><td>null</td></tr><tr><td>89</td><td>F</td><td>66.0</td><td>Central</td><td>62.0</td><td>Central</td><td>Commerce</td><td>73.0</td><td>Comm&Mgmt</td><td>No</td><td>58.0</td><td>Mkt&HR</td><td>64.36</td><td>Placed</td><td>210000</td></tr><tr><td>90</td><td>F</td><td>84.0</td><td>Others</td><td>75.0</td><td>Others</td><td>Science</td><td>69.0</td><td>Sci&Tech</td><td>Yes</td><td>62.0</td><td>Mkt&HR</td><td>62.36</td><td>Placed</td><td>210000</td></tr><tr><td>91</td><td>F</td><td>85.0</td><td>Others</td><td>90.0</td><td>Others</td><td>Commerce</td><td>82.0</td><td>Comm&Mgmt</td><td>No</td><td>92.0</td><td>Mkt&Fin</td><td>68.03</td><td>Placed</td><td>300000</td></tr><tr><td>92</td><td>M</td><td>52.0</td><td>Central</td><td>57.0</td><td>Central</td><td>Commerce</td><td>50.8</td><td>Comm&Mgmt</td><td>No</td><td>67.0</td><td>Mkt&HR</td><td>62.79</td><td>Not Placed</td><td>null</td></tr><tr><td>93</td><td>F</td><td>60.23</td><td>Central</td><td>69.0</td><td>Central</td><td>Science</td><td>66.0</td><td>Comm&Mgmt</td><td>No</td><td>72.0</td><td>Mkt&Fin</td><td>59.47</td><td>Placed</td><td>230000</td></tr><tr><td>94</td><td>M</td><td>52.0</td><td>Central</td><td>62.0</td><td>Central</td><td>Commerce</td><td>54.0</td><td>Comm&Mgmt</td><td>No</td><td>72.0</td><td>Mkt&HR</td><td>55.41</td><td>Not Placed</td><td>null</td></tr><tr><td>95</td><td>M</td><td>58.0</td><td>Central</td><td>62.0</td><td>Central</td><td>Commerce</td><td>64.0</td><td>Comm&Mgmt</td><td>No</td><td>53.88</td><td>Mkt&Fin</td><td>54.97</td><td>Placed</td><td>260000</td></tr><tr><td>96</td><td>M</td><td>73.0</td><td>Central</td><td>78.0</td><td>Others</td><td>Commerce</td><td>65.0</td><td>Comm&Mgmt</td><td>Yes</td><td>95.46</td><td>Mkt&Fin</td><td>62.16</td><td>Placed</td><td>420000</td></tr><tr><td>97</td><td>F</td><td>76.0</td><td>Central</td><td>70.0</td><td>Central</td><td>Science</td><td>76.0</td><td>Comm&Mgmt</td><td>Yes</td><td>66.0</td><td>Mkt&Fin</td><td>64.44</td><td>Placed</td><td>300000</td></tr><tr><td>98</td><td>F</td><td>70.5</td><td>Central</td><td>62.5</td><td>Others</td><td>Commerce</td><td>61.0</td><td>Comm&Mgmt</td><td>No</td><td>93.91</td><td>Mkt&Fin</td><td>69.03</td><td>Not Placed</td><td>null</td></tr><tr><td>99</td><td>F</td><td>69.0</td><td>Central</td><td>73.0</td><td>Central</td><td>Commerce</td><td>65.0</td><td>Comm&Mgmt</td><td>No</td><td>70.0</td><td>Mkt&Fin</td><td>57.31</td><td>Placed</td><td>220000</td></tr><tr><td>100</td><td>M</td><td>54.0</td><td>Central</td><td>82.0</td><td>Others</td><td>Commerce</td><td>63.0</td><td>Sci&Tech</td><td>No</td><td>50.0</td><td>Mkt&Fin</td><td>59.47</td><td>Not Placed</td><td>null</td></tr><tr><td>101</td><td>F</td><td>45.0</td><td>Others</td><td>57.0</td><td>Others</td><td>Commerce</td><td>58.0</td><td>Comm&Mgmt</td><td>Yes</td><td>56.39</td><td>Mkt&HR</td><td>64.95</td><td>Not Placed</td><td>null</td></tr><tr><td>102</td><td>M</td><td>63.0</td><td>Central</td><td>72.0</td><td>Central</td><td>Commerce</td><td>68.0</td><td>Comm&Mgmt</td><td>No</td><td>78.0</td><td>Mkt&HR</td><td>60.44</td><td>Placed</td><td>380000</td></tr><tr><td>103</td><td>F</td><td>77.0</td><td>Others</td><td>61.0</td><td>Others</td><td>Commerce</td><td>68.0</td><td>Comm&Mgmt</td><td>Yes</td><td>57.5</td><td>Mkt&Fin</td><td>61.31</td><td>Placed</td><td>300000</td></tr><tr><td>104</td><td>M</td><td>73.0</td><td>Central</td><td>78.0</td><td>Central</td><td>Science</td><td>73.0</td><td>Sci&Tech</td><td>Yes</td><td>85.0</td><td>Mkt&HR</td><td>65.83</td><td>Placed</td><td>240000</td></tr><tr><td>105</td><td>M</td><td>69.0</td><td>Central</td><td>63.0</td><td>Others</td><td>Science</td><td>65.0</td><td>Comm&Mgmt</td><td>Yes</td><td>55.0</td><td>Mkt&HR</td><td>58.23</td><td>Placed</td><td>360000</td></tr><tr><td>106</td><td>M</td><td>59.0</td><td>Central</td><td>64.0</td><td>Others</td><td>Science</td><td>58.0</td><td>Sci&Tech</td><td>No</td><td>85.0</td><td>Mkt&HR</td><td>55.3</td><td>Not Placed</td><td>null</td></tr><tr><td>107</td><td>M</td><td>61.08</td><td>Others</td><td>50.0</td><td>Others</td><td>Science</td><td>54.0</td><td>Sci&Tech</td><td>No</td><td>71.0</td><td>Mkt&Fin</td><td>65.69</td><td>Not Placed</td><td>null</td></tr><tr><td>108</td><td>M</td><td>82.0</td><td>Others</td><td>90.0</td><td>Others</td><td>Commerce</td><td>83.0</td><td>Comm&Mgmt</td><td>No</td><td>80.0</td><td>Mkt&HR</td><td>73.52</td><td>Placed</td><td>200000</td></tr><tr><td>109</td><td>M</td><td>61.0</td><td>Central</td><td>82.0</td><td>Central</td><td>Commerce</td><td>69.0</td><td>Comm&Mgmt</td><td>No</td><td>84.0</td><td>Mkt&Fin</td><td>58.31</td><td>Placed</td><td>300000</td></tr><tr><td>110</td><td>M</td><td>52.0</td><td>Central</td><td>63.0</td><td>Others</td><td>Science</td><td>65.0</td><td>Sci&Tech</td><td>Yes</td><td>86.0</td><td>Mkt&HR</td><td>56.09</td><td>Not Placed</td><td>null</td></tr><tr><td>111</td><td>F</td><td>69.5</td><td>Central</td><td>70.0</td><td>Central</td><td>Science</td><td>72.0</td><td>Sci&Tech</td><td>No</td><td>57.2</td><td>Mkt&HR</td><td>54.8</td><td>Placed</td><td>250000</td></tr><tr><td>112</td><td>M</td><td>51.0</td><td>Others</td><td>54.0</td><td>Others</td><td>Science</td><td>61.0</td><td>Sci&Tech</td><td>No</td><td>60.0</td><td>Mkt&HR</td><td>60.64</td><td>Not Placed</td><td>null</td></tr><tr><td>113</td><td>M</td><td>58.0</td><td>Others</td><td>61.0</td><td>Others</td><td>Commerce</td><td>61.0</td><td>Comm&Mgmt</td><td>No</td><td>58.0</td><td>Mkt&HR</td><td>53.94</td><td>Placed</td><td>250000</td></tr><tr><td>114</td><td>F</td><td>73.96</td><td>Others</td><td>79.0</td><td>Others</td><td>Commerce</td><td>67.0</td><td>Comm&Mgmt</td><td>No</td><td>72.15</td><td>Mkt&Fin</td><td>63.08</td><td>Placed</td><td>280000</td></tr><tr><td>115</td><td>M</td><td>65.0</td><td>Central</td><td>68.0</td><td>Others</td><td>Science</td><td>69.0</td><td>Comm&Mgmt</td><td>No</td><td>53.7</td><td>Mkt&HR</td><td>55.01</td><td>Placed</td><td>250000</td></tr><tr><td>116</td><td>F</td><td>73.0</td><td>Others</td><td>63.0</td><td>Others</td><td>Science</td><td>66.0</td><td>Comm&Mgmt</td><td>No</td><td>89.0</td><td>Mkt&Fin</td><td>60.5</td><td>Placed</td><td>216000</td></tr><tr><td>117</td><td>M</td><td>68.2</td><td>Central</td><td>72.8</td><td>Central</td><td>Commerce</td><td>66.6</td><td>Comm&Mgmt</td><td>Yes</td><td>96.0</td><td>Mkt&Fin</td><td>70.85</td><td>Placed</td><td>300000</td></tr><tr><td>118</td><td>M</td><td>77.0</td><td>Others</td><td>75.0</td><td>Others</td><td>Science</td><td>73.0</td><td>Sci&Tech</td><td>No</td><td>80.0</td><td>Mkt&Fin</td><td>67.05</td><td>Placed</td><td>240000</td></tr><tr><td>119</td><td>M</td><td>76.0</td><td>Central</td><td>80.0</td><td>Central</td><td>Science</td><td>78.0</td><td>Sci&Tech</td><td>Yes</td><td>97.0</td><td>Mkt&HR</td><td>70.48</td><td>Placed</td><td>276000</td></tr><tr><td>120</td><td>M</td><td>60.8</td><td>Central</td><td>68.4</td><td>Central</td><td>Commerce</td><td>64.6</td><td>Comm&Mgmt</td><td>Yes</td><td>82.66</td><td>Mkt&Fin</td><td>64.34</td><td>Placed</td><td>940000</td></tr><tr><td>121</td><td>M</td><td>58.0</td><td>Others</td><td>40.0</td><td>Others</td><td>Science</td><td>59.0</td><td>Comm&Mgmt</td><td>No</td><td>73.0</td><td>Mkt&HR</td><td>58.81</td><td>Not Placed</td><td>null</td></tr><tr><td>122</td><td>F</td><td>64.0</td><td>Central</td><td>67.0</td><td>Others</td><td>Science</td><td>69.6</td><td>Sci&Tech</td><td>Yes</td><td>55.67</td><td>Mkt&HR</td><td>71.49</td><td>Placed</td><td>250000</td></tr><tr><td>123</td><td>F</td><td>66.5</td><td>Central</td><td>66.8</td><td>Central</td><td>Arts</td><td>69.3</td><td>Comm&Mgmt</td><td>Yes</td><td>80.4</td><td>Mkt&Fin</td><td>71.0</td><td>Placed</td><td>236000</td></tr><tr><td>124</td><td>M</td><td>74.0</td><td>Others</td><td>59.0</td><td>Others</td><td>Commerce</td><td>73.0</td><td>Comm&Mgmt</td><td>Yes</td><td>60.0</td><td>Mkt&HR</td><td>56.7</td><td>Placed</td><td>240000</td></tr><tr><td>125</td><td>M</td><td>67.0</td><td>Central</td><td>71.0</td><td>Central</td><td>Science</td><td>64.33</td><td>Others</td><td>Yes</td><td>64.0</td><td>Mkt&HR</td><td>61.26</td><td>Placed</td><td>250000</td></tr><tr><td>126</td><td>F</td><td>84.0</td><td>Central</td><td>73.0</td><td>Central</td><td>Commerce</td><td>73.0</td><td>Comm&Mgmt</td><td>No</td><td>75.0</td><td>Mkt&Fin</td><td>73.33</td><td>Placed</td><td>350000</td></tr><tr><td>127</td><td>F</td><td>79.0</td><td>Others</td><td>61.0</td><td>Others</td><td>Science</td><td>75.5</td><td>Sci&Tech</td><td>Yes</td><td>70.0</td><td>Mkt&Fin</td><td>68.2</td><td>Placed</td><td>210000</td></tr><tr><td>128</td><td>F</td><td>72.0</td><td>Others</td><td>60.0</td><td>Others</td><td>Science</td><td>69.0</td><td>Comm&Mgmt</td><td>No</td><td>55.5</td><td>Mkt&HR</td><td>58.4</td><td>Placed</td><td>250000</td></tr><tr><td>129</td><td>M</td><td>80.4</td><td>Central</td><td>73.4</td><td>Central</td><td>Science</td><td>77.72</td><td>Sci&Tech</td><td>Yes</td><td>81.2</td><td>Mkt&HR</td><td>76.26</td><td>Placed</td><td>400000</td></tr><tr><td>130</td><td>M</td><td>76.7</td><td>Central</td><td>89.7</td><td>Others</td><td>Commerce</td><td>66.0</td><td>Comm&Mgmt</td><td>Yes</td><td>90.0</td><td>Mkt&Fin</td><td>68.55</td><td>Placed</td><td>250000</td></tr><tr><td>131</td><td>M</td><td>62.0</td><td>Central</td><td>65.0</td><td>Others</td><td>Commerce</td><td>60.0</td><td>Comm&Mgmt</td><td>No</td><td>84.0</td><td>Mkt&Fin</td><td>64.15</td><td>Not Placed</td><td>null</td></tr><tr><td>132</td><td>F</td><td>74.9</td><td>Others</td><td>57.0</td><td>Others</td><td>Science</td><td>62.0</td><td>Others</td><td>Yes</td><td>80.0</td><td>Mkt&Fin</td><td>60.78</td><td>Placed</td><td>360000</td></tr><tr><td>133</td><td>M</td><td>67.0</td><td>Others</td><td>68.0</td><td>Others</td><td>Commerce</td><td>64.0</td><td>Comm&Mgmt</td><td>Yes</td><td>74.4</td><td>Mkt&HR</td><td>53.49</td><td>Placed</td><td>300000</td></tr><tr><td>134</td><td>M</td><td>73.0</td><td>Central</td><td>64.0</td><td>Others</td><td>Commerce</td><td>77.0</td><td>Comm&Mgmt</td><td>Yes</td><td>65.0</td><td>Mkt&HR</td><td>60.98</td><td>Placed</td><td>250000</td></tr><tr><td>135</td><td>F</td><td>77.44</td><td>Central</td><td>92.0</td><td>Others</td><td>Commerce</td><td>72.0</td><td>Comm&Mgmt</td><td>Yes</td><td>94.0</td><td>Mkt&Fin</td><td>67.13</td><td>Placed</td><td>250000</td></tr><tr><td>136</td><td>F</td><td>72.0</td><td>Central</td><td>56.0</td><td>Others</td><td>Science</td><td>69.0</td><td>Comm&Mgmt</td><td>No</td><td>55.6</td><td>Mkt&HR</td><td>65.63</td><td>Placed</td><td>200000</td></tr><tr><td>137</td><td>F</td><td>47.0</td><td>Central</td><td>59.0</td><td>Central</td><td>Arts</td><td>64.0</td><td>Comm&Mgmt</td><td>No</td><td>78.0</td><td>Mkt&Fin</td><td>61.58</td><td>Not Placed</td><td>null</td></tr><tr><td>138</td><td>M</td><td>67.0</td><td>Others</td><td>63.0</td><td>Central</td><td>Commerce</td><td>72.0</td><td>Comm&Mgmt</td><td>No</td><td>56.0</td><td>Mkt&HR</td><td>60.41</td><td>Placed</td><td>225000</td></tr><tr><td>139</td><td>F</td><td>82.0</td><td>Others</td><td>64.0</td><td>Others</td><td>Science</td><td>73.0</td><td>Sci&Tech</td><td>Yes</td><td>96.0</td><td>Mkt&Fin</td><td>71.77</td><td>Placed</td><td>250000</td></tr><tr><td>140</td><td>M</td><td>77.0</td><td>Central</td><td>70.0</td><td>Central</td><td>Commerce</td><td>59.0</td><td>Comm&Mgmt</td><td>Yes</td><td>58.0</td><td>Mkt&Fin</td><td>54.43</td><td>Placed</td><td>220000</td></tr><tr><td>141</td><td>M</td><td>65.0</td><td>Central</td><td>64.8</td><td>Others</td><td>Commerce</td><td>69.5</td><td>Comm&Mgmt</td><td>Yes</td><td>56.0</td><td>Mkt&Fin</td><td>56.94</td><td>Placed</td><td>265000</td></tr><tr><td>142</td><td>M</td><td>66.0</td><td>Central</td><td>64.0</td><td>Central</td><td>Science</td><td>60.0</td><td>Comm&Mgmt</td><td>No</td><td>60.0</td><td>Mkt&HR</td><td>61.9</td><td>Not Placed</td><td>null</td></tr><tr><td>143</td><td>M</td><td>85.0</td><td>Central</td><td>60.0</td><td>Others</td><td>Science</td><td>73.43</td><td>Sci&Tech</td><td>Yes</td><td>60.0</td><td>Mkt&Fin</td><td>61.29</td><td>Placed</td><td>260000</td></tr><tr><td>144</td><td>M</td><td>77.67</td><td>Others</td><td>64.89</td><td>Others</td><td>Commerce</td><td>70.67</td><td>Comm&Mgmt</td><td>No</td><td>89.0</td><td>Mkt&Fin</td><td>60.39</td><td>Placed</td><td>300000</td></tr><tr><td>145</td><td>M</td><td>52.0</td><td>Others</td><td>50.0</td><td>Others</td><td>Arts</td><td>61.0</td><td>Comm&Mgmt</td><td>No</td><td>60.0</td><td>Mkt&Fin</td><td>58.52</td><td>Not Placed</td><td>null</td></tr><tr><td>146</td><td>M</td><td>89.4</td><td>Others</td><td>65.66</td><td>Others</td><td>Science</td><td>71.25</td><td>Sci&Tech</td><td>No</td><td>72.0</td><td>Mkt&HR</td><td>63.23</td><td>Placed</td><td>400000</td></tr><tr><td>147</td><td>M</td><td>62.0</td><td>Central</td><td>63.0</td><td>Others</td><td>Science</td><td>66.0</td><td>Comm&Mgmt</td><td>No</td><td>85.0</td><td>Mkt&HR</td><td>55.14</td><td>Placed</td><td>233000</td></tr><tr><td>148</td><td>M</td><td>70.0</td><td>Central</td><td>74.0</td><td>Central</td><td>Commerce</td><td>65.0</td><td>Comm&Mgmt</td><td>No</td><td>83.0</td><td>Mkt&Fin</td><td>62.28</td><td>Placed</td><td>300000</td></tr><tr><td>149</td><td>F</td><td>77.0</td><td>Central</td><td>86.0</td><td>Central</td><td>Arts</td><td>56.0</td><td>Others</td><td>No</td><td>57.0</td><td>Mkt&Fin</td><td>64.08</td><td>Placed</td><td>240000</td></tr><tr><td>150</td><td>M</td><td>44.0</td><td>Central</td><td>58.0</td><td>Central</td><td>Arts</td><td>55.0</td><td>Comm&Mgmt</td><td>Yes</td><td>64.25</td><td>Mkt&HR</td><td>58.54</td><td>Not Placed</td><td>null</td></tr><tr><td>151</td><td>M</td><td>71.0</td><td>Central</td><td>58.66</td><td>Central</td><td>Science</td><td>58.0</td><td>Sci&Tech</td><td>Yes</td><td>56.0</td><td>Mkt&Fin</td><td>61.3</td><td>Placed</td><td>690000</td></tr><tr><td>152</td><td>M</td><td>65.0</td><td>Central</td><td>65.0</td><td>Central</td><td>Commerce</td><td>75.0</td><td>Comm&Mgmt</td><td>No</td><td>83.0</td><td>Mkt&Fin</td><td>58.87</td><td>Placed</td><td>270000</td></tr><tr><td>153</td><td>F</td><td>75.4</td><td>Others</td><td>60.5</td><td>Central</td><td>Science</td><td>84.0</td><td>Sci&Tech</td><td>No</td><td>98.0</td><td>Mkt&Fin</td><td>65.25</td><td>Placed</td><td>240000</td></tr><tr><td>154</td><td>M</td><td>49.0</td><td>Others</td><td>59.0</td><td>Others</td><td>Science</td><td>65.0</td><td>Sci&Tech</td><td>Yes</td><td>86.0</td><td>Mkt&Fin</td><td>62.48</td><td>Placed</td><td>340000</td></tr><tr><td>155</td><td>M</td><td>53.0</td><td>Central</td><td>63.0</td><td>Others</td><td>Science</td><td>60.0</td><td>Comm&Mgmt</td><td>Yes</td><td>70.0</td><td>Mkt&Fin</td><td>53.2</td><td>Placed</td><td>250000</td></tr><tr><td>156</td><td>M</td><td>51.57</td><td>Others</td><td>74.66</td><td>Others</td><td>Commerce</td><td>59.9</td><td>Comm&Mgmt</td><td>Yes</td><td>56.15</td><td>Mkt&HR</td><td>65.99</td><td>Not Placed</td><td>null</td></tr><tr><td>157</td><td>M</td><td>84.2</td><td>Central</td><td>69.4</td><td>Central</td><td>Science</td><td>65.0</td><td>Sci&Tech</td><td>Yes</td><td>80.0</td><td>Mkt&HR</td><td>52.72</td><td>Placed</td><td>255000</td></tr><tr><td>158</td><td>M</td><td>66.5</td><td>Central</td><td>62.5</td><td>Central</td><td>Commerce</td><td>60.9</td><td>Comm&Mgmt</td><td>No</td><td>93.4</td><td>Mkt&Fin</td><td>55.03</td><td>Placed</td><td>300000</td></tr><tr><td>159</td><td>M</td><td>67.0</td><td>Others</td><td>63.0</td><td>Others</td><td>Science</td><td>64.0</td><td>Sci&Tech</td><td>No</td><td>60.0</td><td>Mkt&Fin</td><td>61.87</td><td>Not Placed</td><td>null</td></tr><tr><td>160</td><td>M</td><td>52.0</td><td>Central</td><td>49.0</td><td>Others</td><td>Commerce</td><td>58.0</td><td>Comm&Mgmt</td><td>No</td><td>62.0</td><td>Mkt&HR</td><td>60.59</td><td>Not Placed</td><td>null</td></tr><tr><td>161</td><td>M</td><td>87.0</td><td>Central</td><td>74.0</td><td>Central</td><td>Science</td><td>65.0</td><td>Sci&Tech</td><td>Yes</td><td>75.0</td><td>Mkt&HR</td><td>72.29</td><td>Placed</td><td>300000</td></tr><tr><td>162</td><td>M</td><td>55.6</td><td>Others</td><td>51.0</td><td>Others</td><td>Commerce</td><td>57.5</td><td>Comm&Mgmt</td><td>No</td><td>57.63</td><td>Mkt&HR</td><td>62.72</td><td>Not Placed</td><td>null</td></tr><tr><td>163</td><td>M</td><td>74.2</td><td>Central</td><td>87.6</td><td>Others</td><td>Commerce</td><td>77.25</td><td>Comm&Mgmt</td><td>Yes</td><td>75.2</td><td>Mkt&Fin</td><td>66.06</td><td>Placed</td><td>285000</td></tr><tr><td>164</td><td>M</td><td>63.0</td><td>Others</td><td>67.0</td><td>Others</td><td>Science</td><td>64.0</td><td>Sci&Tech</td><td>No</td><td>75.0</td><td>Mkt&Fin</td><td>66.46</td><td>Placed</td><td>500000</td></tr><tr><td>165</td><td>F</td><td>67.16</td><td>Central</td><td>72.5</td><td>Central</td><td>Commerce</td><td>63.35</td><td>Comm&Mgmt</td><td>No</td><td>53.04</td><td>Mkt&Fin</td><td>65.52</td><td>Placed</td><td>250000</td></tr><tr><td>166</td><td>F</td><td>63.3</td><td>Central</td><td>78.33</td><td>Others</td><td>Commerce</td><td>74.0</td><td>Comm&Mgmt</td><td>No</td><td>80.0</td><td>Mkt&Fin</td><td>74.56</td><td>Not Placed</td><td>null</td></tr><tr><td>167</td><td>M</td><td>62.0</td><td>Others</td><td>62.0</td><td>Others</td><td>Commerce</td><td>60.0</td><td>Comm&Mgmt</td><td>Yes</td><td>63.0</td><td>Mkt&HR</td><td>52.38</td><td>Placed</td><td>240000</td></tr><tr><td>168</td><td>M</td><td>67.9</td><td>Others</td><td>62.0</td><td>Others</td><td>Science</td><td>67.0</td><td>Sci&Tech</td><td>Yes</td><td>58.1</td><td>Mkt&Fin</td><td>75.71</td><td>Not Placed</td><td>null</td></tr><tr><td>169</td><td>F</td><td>48.0</td><td>Central</td><td>51.0</td><td>Central</td><td>Commerce</td><td>58.0</td><td>Comm&Mgmt</td><td>Yes</td><td>60.0</td><td>Mkt&HR</td><td>58.79</td><td>Not Placed</td><td>null</td></tr><tr><td>170</td><td>M</td><td>59.96</td><td>Others</td><td>42.16</td><td>Others</td><td>Science</td><td>61.26</td><td>Sci&Tech</td><td>No</td><td>54.48</td><td>Mkt&HR</td><td>65.48</td><td>Not Placed</td><td>null</td></tr><tr><td>171</td><td>F</td><td>63.4</td><td>Others</td><td>67.2</td><td>Others</td><td>Commerce</td><td>60.0</td><td>Comm&Mgmt</td><td>No</td><td>58.06</td><td>Mkt&HR</td><td>69.28</td><td>Not Placed</td><td>null</td></tr><tr><td>172</td><td>M</td><td>80.0</td><td>Others</td><td>80.0</td><td>Others</td><td>Commerce</td><td>72.0</td><td>Comm&Mgmt</td><td>Yes</td><td>63.79</td><td>Mkt&Fin</td><td>66.04</td><td>Placed</td><td>290000</td></tr><tr><td>173</td><td>M</td><td>73.0</td><td>Others</td><td>58.0</td><td>Others</td><td>Commerce</td><td>56.0</td><td>Comm&Mgmt</td><td>No</td><td>84.0</td><td>Mkt&HR</td><td>52.64</td><td>Placed</td><td>300000</td></tr><tr><td>174</td><td>F</td><td>52.0</td><td>Others</td><td>52.0</td><td>Others</td><td>Science</td><td>55.0</td><td>Sci&Tech</td><td>No</td><td>67.0</td><td>Mkt&HR</td><td>59.32</td><td>Not Placed</td><td>null</td></tr><tr><td>175</td><td>M</td><td>73.24</td><td>Others</td><td>50.83</td><td>Others</td><td>Science</td><td>64.27</td><td>Sci&Tech</td><td>Yes</td><td>64.0</td><td>Mkt&Fin</td><td>66.23</td><td>Placed</td><td>500000</td></tr><tr><td>176</td><td>M</td><td>63.0</td><td>Others</td><td>62.0</td><td>Others</td><td>Science</td><td>65.0</td><td>Sci&Tech</td><td>No</td><td>87.5</td><td>Mkt&HR</td><td>60.69</td><td>Not Placed</td><td>null</td></tr><tr><td>177</td><td>F</td><td>59.0</td><td>Central</td><td>60.0</td><td>Others</td><td>Commerce</td><td>56.0</td><td>Comm&Mgmt</td><td>No</td><td>55.0</td><td>Mkt&HR</td><td>57.9</td><td>Placed</td><td>220000</td></tr><tr><td>178</td><td>F</td><td>73.0</td><td>Central</td><td>97.0</td><td>Others</td><td>Commerce</td><td>79.0</td><td>Comm&Mgmt</td><td>Yes</td><td>89.0</td><td>Mkt&Fin</td><td>70.81</td><td>Placed</td><td>650000</td></tr><tr><td>179</td><td>M</td><td>68.0</td><td>Others</td><td>56.0</td><td>Others</td><td>Science</td><td>68.0</td><td>Sci&Tech</td><td>No</td><td>73.0</td><td>Mkt&HR</td><td>68.07</td><td>Placed</td><td>350000</td></tr><tr><td>180</td><td>F</td><td>77.8</td><td>Central</td><td>64.0</td><td>Central</td><td>Science</td><td>64.2</td><td>Sci&Tech</td><td>No</td><td>75.5</td><td>Mkt&HR</td><td>72.14</td><td>Not Placed</td><td>null</td></tr><tr><td>181</td><td>M</td><td>65.0</td><td>Central</td><td>71.5</td><td>Others</td><td>Commerce</td><td>62.8</td><td>Comm&Mgmt</td><td>Yes</td><td>57.0</td><td>Mkt&Fin</td><td>56.6</td><td>Placed</td><td>265000</td></tr><tr><td>182</td><td>M</td><td>62.0</td><td>Central</td><td>60.33</td><td>Others</td><td>Science</td><td>64.21</td><td>Sci&Tech</td><td>No</td><td>63.0</td><td>Mkt&HR</td><td>60.02</td><td>Not Placed</td><td>null</td></tr><tr><td>183</td><td>M</td><td>52.0</td><td>Others</td><td>65.0</td><td>Others</td><td>Arts</td><td>57.0</td><td>Others</td><td>Yes</td><td>75.0</td><td>Mkt&Fin</td><td>59.81</td><td>Not Placed</td><td>null</td></tr><tr><td>184</td><td>M</td><td>65.0</td><td>Central</td><td>77.0</td><td>Central</td><td>Commerce</td><td>69.0</td><td>Comm&Mgmt</td><td>No</td><td>60.0</td><td>Mkt&HR</td><td>61.82</td><td>Placed</td><td>276000</td></tr><tr><td>185</td><td>F</td><td>56.28</td><td>Others</td><td>62.83</td><td>Others</td><td>Commerce</td><td>59.79</td><td>Comm&Mgmt</td><td>No</td><td>60.0</td><td>Mkt&HR</td><td>57.29</td><td>Not Placed</td><td>null</td></tr><tr><td>186</td><td>F</td><td>88.0</td><td>Central</td><td>72.0</td><td>Central</td><td>Science</td><td>78.0</td><td>Others</td><td>No</td><td>82.0</td><td>Mkt&HR</td><td>71.43</td><td>Placed</td><td>252000</td></tr><tr><td>187</td><td>F</td><td>52.0</td><td>Central</td><td>64.0</td><td>Central</td><td>Commerce</td><td>61.0</td><td>Comm&Mgmt</td><td>No</td><td>55.0</td><td>Mkt&Fin</td><td>62.93</td><td>Not Placed</td><td>null</td></tr><tr><td>188</td><td>M</td><td>78.5</td><td>Central</td><td>65.5</td><td>Central</td><td>Science</td><td>67.0</td><td>Sci&Tech</td><td>Yes</td><td>95.0</td><td>Mkt&Fin</td><td>64.86</td><td>Placed</td><td>280000</td></tr><tr><td>189</td><td>M</td><td>61.8</td><td>Others</td><td>47.0</td><td>Others</td><td>Commerce</td><td>54.38</td><td>Comm&Mgmt</td><td>No</td><td>57.0</td><td>Mkt&Fin</td><td>56.13</td><td>Not Placed</td><td>null</td></tr><tr><td>190</td><td>F</td><td>54.0</td><td>Central</td><td>77.6</td><td>Others</td><td>Commerce</td><td>69.2</td><td>Comm&Mgmt</td><td>No</td><td>95.65</td><td>Mkt&Fin</td><td>66.94</td><td>Not Placed</td><td>null</td></tr><tr><td>191</td><td>F</td><td>64.0</td><td>Others</td><td>70.2</td><td>Central</td><td>Commerce</td><td>61.0</td><td>Comm&Mgmt</td><td>No</td><td>50.0</td><td>Mkt&Fin</td><td>62.5</td><td>Not Placed</td><td>null</td></tr><tr><td>192</td><td>M</td><td>67.0</td><td>Others</td><td>61.0</td><td>Central</td><td>Science</td><td>72.0</td><td>Comm&Mgmt</td><td>No</td><td>72.0</td><td>Mkt&Fin</td><td>61.01</td><td>Placed</td><td>264000</td></tr><tr><td>193</td><td>M</td><td>65.2</td><td>Central</td><td>61.4</td><td>Central</td><td>Commerce</td><td>64.8</td><td>Comm&Mgmt</td><td>Yes</td><td>93.4</td><td>Mkt&Fin</td><td>57.34</td><td>Placed</td><td>270000</td></tr><tr><td>194</td><td>F</td><td>60.0</td><td>Central</td><td>63.0</td><td>Central</td><td>Arts</td><td>56.0</td><td>Others</td><td>Yes</td><td>80.0</td><td>Mkt&HR</td><td>56.63</td><td>Placed</td><td>300000</td></tr><tr><td>195</td><td>M</td><td>52.0</td><td>Others</td><td>55.0</td><td>Others</td><td>Commerce</td><td>56.3</td><td>Comm&Mgmt</td><td>No</td><td>59.0</td><td>Mkt&Fin</td><td>64.74</td><td>Not Placed</td><td>null</td></tr><tr><td>196</td><td>M</td><td>66.0</td><td>Central</td><td>76.0</td><td>Central</td><td>Commerce</td><td>72.0</td><td>Comm&Mgmt</td><td>Yes</td><td>84.0</td><td>Mkt&HR</td><td>58.95</td><td>Placed</td><td>275000</td></tr><tr><td>197</td><td>M</td><td>72.0</td><td>Others</td><td>63.0</td><td>Others</td><td>Science</td><td>77.5</td><td>Sci&Tech</td><td>Yes</td><td>78.0</td><td>Mkt&Fin</td><td>54.48</td><td>Placed</td><td>250000</td></tr><tr><td>198</td><td>F</td><td>83.96</td><td>Others</td><td>53.0</td><td>Others</td><td>Science</td><td>91.0</td><td>Sci&Tech</td><td>No</td><td>59.32</td><td>Mkt&HR</td><td>69.71</td><td>Placed</td><td>260000</td></tr><tr><td>199</td><td>F</td><td>67.0</td><td>Central</td><td>70.0</td><td>Central</td><td>Commerce</td><td>65.0</td><td>Others</td><td>No</td><td>88.0</td><td>Mkt&HR</td><td>71.96</td><td>Not Placed</td><td>null</td></tr><tr><td>200</td><td>M</td><td>69.0</td><td>Others</td><td>65.0</td><td>Others</td><td>Commerce</td><td>57.0</td><td>Comm&Mgmt</td><td>No</td><td>73.0</td><td>Mkt&HR</td><td>55.8</td><td>Placed</td><td>265000</td></tr><tr><td>201</td><td>M</td><td>69.0</td><td>Others</td><td>60.0</td><td>Others</td><td>Commerce</td><td>65.0</td><td>Comm&Mgmt</td><td>No</td><td>87.55</td><td>Mkt&Fin</td><td>52.81</td><td>Placed</td><td>300000</td></tr><tr><td>202</td><td>M</td><td>54.2</td><td>Central</td><td>63.0</td><td>Others</td><td>Science</td><td>58.0</td><td>Comm&Mgmt</td><td>No</td><td>79.0</td><td>Mkt&HR</td><td>58.44</td><td>Not Placed</td><td>null</td></tr><tr><td>203</td><td>M</td><td>70.0</td><td>Central</td><td>63.0</td><td>Central</td><td>Science</td><td>66.0</td><td>Sci&Tech</td><td>No</td><td>61.28</td><td>Mkt&HR</td><td>60.11</td><td>Placed</td><td>240000</td></tr><tr><td>204</td><td>M</td><td>55.68</td><td>Others</td><td>61.33</td><td>Others</td><td>Commerce</td><td>56.87</td><td>Comm&Mgmt</td><td>No</td><td>66.0</td><td>Mkt&HR</td><td>58.3</td><td>Placed</td><td>260000</td></tr><tr><td>205</td><td>F</td><td>74.0</td><td>Others</td><td>73.0</td><td>Others</td><td>Commerce</td><td>73.0</td><td>Comm&Mgmt</td><td>Yes</td><td>80.0</td><td>Mkt&Fin</td><td>67.69</td><td>Placed</td><td>210000</td></tr><tr><td>206</td><td>M</td><td>61.0</td><td>Others</td><td>62.0</td><td>Others</td><td>Commerce</td><td>65.0</td><td>Comm&Mgmt</td><td>No</td><td>62.0</td><td>Mkt&Fin</td><td>56.81</td><td>Placed</td><td>250000</td></tr><tr><td>207</td><td>M</td><td>41.0</td><td>Central</td><td>42.0</td><td>Central</td><td>Science</td><td>60.0</td><td>Comm&Mgmt</td><td>No</td><td>97.0</td><td>Mkt&Fin</td><td>53.39</td><td>Not Placed</td><td>null</td></tr><tr><td>208</td><td>M</td><td>83.33</td><td>Central</td><td>78.0</td><td>Others</td><td>Commerce</td><td>61.0</td><td>Comm&Mgmt</td><td>Yes</td><td>88.56</td><td>Mkt&Fin</td><td>71.55</td><td>Placed</td><td>300000</td></tr><tr><td>209</td><td>F</td><td>43.0</td><td>Central</td><td>60.0</td><td>Others</td><td>Science</td><td>65.0</td><td>Comm&Mgmt</td><td>No</td><td>92.66</td><td>Mkt&HR</td><td>62.92</td><td>Not Placed</td><td>null</td></tr><tr><td>210</td><td>M</td><td>62.0</td><td>Central</td><td>72.0</td><td>Central</td><td>Commerce</td><td>65.0</td><td>Comm&Mgmt</td><td>No</td><td>67.0</td><td>Mkt&Fin</td><td>56.49</td><td>Placed</td><td>216000</td></tr><tr><td>211</td><td>M</td><td>80.6</td><td>Others</td><td>82.0</td><td>Others</td><td>Commerce</td><td>77.6</td><td>Comm&Mgmt</td><td>No</td><td>91.0</td><td>Mkt&Fin</td><td>74.49</td><td>Placed</td><td>400000</td></tr><tr><td>212</td><td>M</td><td>58.0</td><td>Others</td><td>60.0</td><td>Others</td><td>Science</td><td>72.0</td><td>Sci&Tech</td><td>No</td><td>74.0</td><td>Mkt&Fin</td><td>53.62</td><td>Placed</td><td>275000</td></tr><tr><td>213</td><td>M</td><td>67.0</td><td>Others</td><td>67.0</td><td>Others</td><td>Commerce</td><td>73.0</td><td>Comm&Mgmt</td><td>Yes</td><td>59.0</td><td>Mkt&Fin</td><td>69.72</td><td>Placed</td><td>295000</td></tr><tr><td>214</td><td>F</td><td>74.0</td><td>Others</td><td>66.0</td><td>Others</td><td>Commerce</td><td>58.0</td><td>Comm&Mgmt</td><td>No</td><td>70.0</td><td>Mkt&HR</td><td>60.23</td><td>Placed</td><td>204000</td></tr><tr><td>215</td><td>M</td><td>62.0</td><td>Central</td><td>58.0</td><td>Others</td><td>Science</td><td>53.0</td><td>Comm&Mgmt</td><td>No</td><td>89.0</td><td>Mkt&HR</td><td>60.22</td><td>Not Placed</td><td>null</td></tr></tbody></table></div>"
      ]
     },
     "metadata": {
      "application/vnd.databricks.v1+output": {
       "addedWidgets": {},
       "aggData": [],
       "aggError": "",
       "aggOverflow": false,
       "aggSchema": [],
       "aggSeriesLimitReached": false,
       "aggType": "",
       "arguments": {},
       "columnCustomDisplayInfos": {},
       "data": [
        [
         1,
         "M",
         67.0,
         "Others",
         91.0,
         "Others",
         "Commerce",
         58.0,
         "Sci&Tech",
         "No",
         55.0,
         "Mkt&HR",
         58.8,
         "Placed",
         270000
        ],
        [
         2,
         "M",
         79.33,
         "Central",
         78.33,
         "Others",
         "Science",
         77.48,
         "Sci&Tech",
         "Yes",
         86.5,
         "Mkt&Fin",
         66.28,
         "Placed",
         200000
        ],
        [
         3,
         "M",
         65.0,
         "Central",
         68.0,
         "Central",
         "Arts",
         64.0,
         "Comm&Mgmt",
         "No",
         75.0,
         "Mkt&Fin",
         57.8,
         "Placed",
         250000
        ],
        [
         4,
         "M",
         56.0,
         "Central",
         52.0,
         "Central",
         "Science",
         52.0,
         "Sci&Tech",
         "No",
         66.0,
         "Mkt&HR",
         59.43,
         "Not Placed",
         null
        ],
        [
         5,
         "M",
         85.8,
         "Central",
         73.6,
         "Central",
         "Commerce",
         73.3,
         "Comm&Mgmt",
         "No",
         96.8,
         "Mkt&Fin",
         55.5,
         "Placed",
         425000
        ],
        [
         6,
         "M",
         55.0,
         "Others",
         49.8,
         "Others",
         "Science",
         67.25,
         "Sci&Tech",
         "Yes",
         55.0,
         "Mkt&Fin",
         51.58,
         "Not Placed",
         null
        ],
        [
         7,
         "F",
         46.0,
         "Others",
         49.2,
         "Others",
         "Commerce",
         79.0,
         "Comm&Mgmt",
         "No",
         74.28,
         "Mkt&Fin",
         53.29,
         "Not Placed",
         null
        ],
        [
         8,
         "M",
         82.0,
         "Central",
         64.0,
         "Central",
         "Science",
         66.0,
         "Sci&Tech",
         "Yes",
         67.0,
         "Mkt&Fin",
         62.14,
         "Placed",
         252000
        ],
        [
         9,
         "M",
         73.0,
         "Central",
         79.0,
         "Central",
         "Commerce",
         72.0,
         "Comm&Mgmt",
         "No",
         91.34,
         "Mkt&Fin",
         61.29,
         "Placed",
         231000
        ],
        [
         10,
         "M",
         58.0,
         "Central",
         70.0,
         "Central",
         "Commerce",
         61.0,
         "Comm&Mgmt",
         "No",
         54.0,
         "Mkt&Fin",
         52.21,
         "Not Placed",
         null
        ],
        [
         11,
         "M",
         58.0,
         "Central",
         61.0,
         "Central",
         "Commerce",
         60.0,
         "Comm&Mgmt",
         "Yes",
         62.0,
         "Mkt&HR",
         60.85,
         "Placed",
         260000
        ],
        [
         12,
         "M",
         69.6,
         "Central",
         68.4,
         "Central",
         "Commerce",
         78.3,
         "Comm&Mgmt",
         "Yes",
         60.0,
         "Mkt&Fin",
         63.7,
         "Placed",
         250000
        ],
        [
         13,
         "F",
         47.0,
         "Central",
         55.0,
         "Others",
         "Science",
         65.0,
         "Comm&Mgmt",
         "No",
         62.0,
         "Mkt&HR",
         65.04,
         "Not Placed",
         null
        ],
        [
         14,
         "F",
         77.0,
         "Central",
         87.0,
         "Central",
         "Commerce",
         59.0,
         "Comm&Mgmt",
         "No",
         68.0,
         "Mkt&Fin",
         68.63,
         "Placed",
         218000
        ],
        [
         15,
         "M",
         62.0,
         "Central",
         47.0,
         "Central",
         "Commerce",
         50.0,
         "Comm&Mgmt",
         "No",
         76.0,
         "Mkt&HR",
         54.96,
         "Not Placed",
         null
        ],
        [
         16,
         "F",
         65.0,
         "Central",
         75.0,
         "Central",
         "Commerce",
         69.0,
         "Comm&Mgmt",
         "Yes",
         72.0,
         "Mkt&Fin",
         64.66,
         "Placed",
         200000
        ],
        [
         17,
         "M",
         63.0,
         "Central",
         66.2,
         "Central",
         "Commerce",
         65.6,
         "Comm&Mgmt",
         "Yes",
         60.0,
         "Mkt&Fin",
         62.54,
         "Placed",
         300000
        ],
        [
         18,
         "F",
         55.0,
         "Central",
         67.0,
         "Central",
         "Commerce",
         64.0,
         "Comm&Mgmt",
         "No",
         60.0,
         "Mkt&Fin",
         67.28,
         "Not Placed",
         null
        ],
        [
         19,
         "F",
         63.0,
         "Central",
         66.0,
         "Central",
         "Commerce",
         64.0,
         "Comm&Mgmt",
         "No",
         68.0,
         "Mkt&HR",
         64.08,
         "Not Placed",
         null
        ],
        [
         20,
         "M",
         60.0,
         "Others",
         67.0,
         "Others",
         "Arts",
         70.0,
         "Comm&Mgmt",
         "Yes",
         50.48,
         "Mkt&Fin",
         77.89,
         "Placed",
         236000
        ],
        [
         21,
         "M",
         62.0,
         "Others",
         65.0,
         "Others",
         "Commerce",
         66.0,
         "Comm&Mgmt",
         "No",
         50.0,
         "Mkt&HR",
         56.7,
         "Placed",
         265000
        ],
        [
         22,
         "F",
         79.0,
         "Others",
         76.0,
         "Others",
         "Commerce",
         85.0,
         "Comm&Mgmt",
         "No",
         95.0,
         "Mkt&Fin",
         69.06,
         "Placed",
         393000
        ],
        [
         23,
         "F",
         69.8,
         "Others",
         60.8,
         "Others",
         "Science",
         72.23,
         "Sci&Tech",
         "No",
         55.53,
         "Mkt&HR",
         68.81,
         "Placed",
         360000
        ],
        [
         24,
         "F",
         77.4,
         "Others",
         60.0,
         "Others",
         "Science",
         64.74,
         "Sci&Tech",
         "Yes",
         92.0,
         "Mkt&Fin",
         63.62,
         "Placed",
         300000
        ],
        [
         25,
         "M",
         76.5,
         "Others",
         97.7,
         "Others",
         "Science",
         78.86,
         "Sci&Tech",
         "No",
         97.4,
         "Mkt&Fin",
         74.01,
         "Placed",
         360000
        ],
        [
         26,
         "F",
         52.58,
         "Others",
         54.6,
         "Central",
         "Commerce",
         50.2,
         "Comm&Mgmt",
         "Yes",
         76.0,
         "Mkt&Fin",
         65.33,
         "Not Placed",
         null
        ],
        [
         27,
         "M",
         71.0,
         "Others",
         79.0,
         "Others",
         "Commerce",
         66.0,
         "Comm&Mgmt",
         "Yes",
         94.0,
         "Mkt&Fin",
         57.55,
         "Placed",
         240000
        ],
        [
         28,
         "M",
         63.0,
         "Others",
         67.0,
         "Others",
         "Commerce",
         66.0,
         "Comm&Mgmt",
         "No",
         68.0,
         "Mkt&HR",
         57.69,
         "Placed",
         265000
        ],
        [
         29,
         "M",
         76.76,
         "Others",
         76.5,
         "Others",
         "Commerce",
         67.5,
         "Comm&Mgmt",
         "Yes",
         73.35,
         "Mkt&Fin",
         64.15,
         "Placed",
         350000
        ],
        [
         30,
         "M",
         62.0,
         "Central",
         67.0,
         "Central",
         "Commerce",
         58.0,
         "Comm&Mgmt",
         "No",
         77.0,
         "Mkt&Fin",
         51.29,
         "Not Placed",
         null
        ],
        [
         31,
         "F",
         64.0,
         "Central",
         73.5,
         "Central",
         "Commerce",
         73.0,
         "Comm&Mgmt",
         "No",
         52.0,
         "Mkt&HR",
         56.7,
         "Placed",
         250000
        ],
        [
         32,
         "F",
         67.0,
         "Central",
         53.0,
         "Central",
         "Science",
         65.0,
         "Sci&Tech",
         "No",
         64.0,
         "Mkt&HR",
         58.32,
         "Not Placed",
         null
        ],
        [
         33,
         "F",
         61.0,
         "Central",
         81.0,
         "Central",
         "Commerce",
         66.4,
         "Comm&Mgmt",
         "No",
         50.89,
         "Mkt&HR",
         62.21,
         "Placed",
         278000
        ],
        [
         34,
         "F",
         87.0,
         "Others",
         65.0,
         "Others",
         "Science",
         81.0,
         "Comm&Mgmt",
         "Yes",
         88.0,
         "Mkt&Fin",
         72.78,
         "Placed",
         260000
        ],
        [
         35,
         "M",
         62.0,
         "Others",
         51.0,
         "Others",
         "Science",
         52.0,
         "Others",
         "No",
         68.44,
         "Mkt&HR",
         62.77,
         "Not Placed",
         null
        ],
        [
         36,
         "F",
         69.0,
         "Central",
         78.0,
         "Central",
         "Commerce",
         72.0,
         "Comm&Mgmt",
         "No",
         71.0,
         "Mkt&HR",
         62.74,
         "Placed",
         300000
        ],
        [
         37,
         "M",
         51.0,
         "Central",
         44.0,
         "Central",
         "Commerce",
         57.0,
         "Comm&Mgmt",
         "No",
         64.0,
         "Mkt&Fin",
         51.45,
         "Not Placed",
         null
        ],
        [
         38,
         "F",
         79.0,
         "Central",
         76.0,
         "Central",
         "Science",
         65.6,
         "Sci&Tech",
         "No",
         58.0,
         "Mkt&HR",
         55.47,
         "Placed",
         320000
        ],
        [
         39,
         "F",
         73.0,
         "Others",
         58.0,
         "Others",
         "Science",
         66.0,
         "Comm&Mgmt",
         "No",
         53.7,
         "Mkt&HR",
         56.86,
         "Placed",
         240000
        ],
        [
         40,
         "M",
         81.0,
         "Others",
         68.0,
         "Others",
         "Science",
         64.0,
         "Sci&Tech",
         "No",
         93.0,
         "Mkt&Fin",
         62.56,
         "Placed",
         411000
        ],
        [
         41,
         "F",
         78.0,
         "Central",
         77.0,
         "Others",
         "Commerce",
         80.0,
         "Comm&Mgmt",
         "No",
         60.0,
         "Mkt&Fin",
         66.72,
         "Placed",
         287000
        ],
        [
         42,
         "F",
         74.0,
         "Others",
         63.16,
         "Others",
         "Commerce",
         65.0,
         "Comm&Mgmt",
         "Yes",
         65.0,
         "Mkt&HR",
         69.76,
         "Not Placed",
         null
        ],
        [
         43,
         "M",
         49.0,
         "Others",
         39.0,
         "Central",
         "Science",
         65.0,
         "Others",
         "No",
         63.0,
         "Mkt&Fin",
         51.21,
         "Not Placed",
         null
        ],
        [
         44,
         "M",
         87.0,
         "Others",
         87.0,
         "Others",
         "Commerce",
         68.0,
         "Comm&Mgmt",
         "No",
         95.0,
         "Mkt&HR",
         62.9,
         "Placed",
         300000
        ],
        [
         45,
         "F",
         77.0,
         "Others",
         73.0,
         "Others",
         "Commerce",
         81.0,
         "Comm&Mgmt",
         "Yes",
         89.0,
         "Mkt&Fin",
         69.7,
         "Placed",
         200000
        ],
        [
         46,
         "F",
         76.0,
         "Central",
         64.0,
         "Central",
         "Science",
         72.0,
         "Sci&Tech",
         "No",
         58.0,
         "Mkt&HR",
         66.53,
         "Not Placed",
         null
        ],
        [
         47,
         "F",
         70.89,
         "Others",
         71.98,
         "Others",
         "Science",
         65.6,
         "Comm&Mgmt",
         "No",
         68.0,
         "Mkt&HR",
         71.63,
         "Not Placed",
         null
        ],
        [
         48,
         "M",
         63.0,
         "Central",
         60.0,
         "Central",
         "Commerce",
         57.0,
         "Comm&Mgmt",
         "Yes",
         78.0,
         "Mkt&Fin",
         54.55,
         "Placed",
         204000
        ],
        [
         49,
         "M",
         63.0,
         "Others",
         62.0,
         "Others",
         "Commerce",
         68.0,
         "Comm&Mgmt",
         "No",
         64.0,
         "Mkt&Fin",
         62.46,
         "Placed",
         250000
        ],
        [
         50,
         "F",
         50.0,
         "Others",
         37.0,
         "Others",
         "Arts",
         52.0,
         "Others",
         "No",
         65.0,
         "Mkt&HR",
         56.11,
         "Not Placed",
         null
        ],
        [
         51,
         "F",
         75.2,
         "Central",
         73.2,
         "Central",
         "Science",
         68.4,
         "Comm&Mgmt",
         "No",
         65.0,
         "Mkt&HR",
         62.98,
         "Placed",
         200000
        ],
        [
         52,
         "M",
         54.4,
         "Central",
         61.12,
         "Central",
         "Commerce",
         56.2,
         "Comm&Mgmt",
         "No",
         67.0,
         "Mkt&HR",
         62.65,
         "Not Placed",
         null
        ],
        [
         53,
         "F",
         40.89,
         "Others",
         45.83,
         "Others",
         "Commerce",
         53.0,
         "Comm&Mgmt",
         "No",
         71.2,
         "Mkt&HR",
         65.49,
         "Not Placed",
         null
        ],
        [
         54,
         "M",
         80.0,
         "Others",
         70.0,
         "Others",
         "Science",
         72.0,
         "Sci&Tech",
         "No",
         87.0,
         "Mkt&HR",
         71.04,
         "Placed",
         450000
        ],
        [
         55,
         "F",
         74.0,
         "Central",
         60.0,
         "Others",
         "Science",
         69.0,
         "Comm&Mgmt",
         "No",
         78.0,
         "Mkt&HR",
         65.56,
         "Placed",
         216000
        ],
        [
         56,
         "M",
         60.4,
         "Central",
         66.6,
         "Others",
         "Science",
         65.0,
         "Comm&Mgmt",
         "No",
         71.0,
         "Mkt&HR",
         52.71,
         "Placed",
         220000
        ],
        [
         57,
         "M",
         63.0,
         "Others",
         71.4,
         "Others",
         "Commerce",
         61.4,
         "Comm&Mgmt",
         "No",
         68.0,
         "Mkt&Fin",
         66.88,
         "Placed",
         240000
        ],
        [
         58,
         "M",
         68.0,
         "Central",
         76.0,
         "Central",
         "Commerce",
         74.0,
         "Comm&Mgmt",
         "No",
         80.0,
         "Mkt&Fin",
         63.59,
         "Placed",
         360000
        ],
        [
         59,
         "M",
         74.0,
         "Central",
         62.0,
         "Others",
         "Science",
         68.0,
         "Comm&Mgmt",
         "No",
         74.0,
         "Mkt&Fin",
         57.99,
         "Placed",
         268000
        ],
        [
         60,
         "M",
         52.6,
         "Central",
         65.58,
         "Others",
         "Science",
         72.11,
         "Sci&Tech",
         "No",
         57.6,
         "Mkt&Fin",
         56.66,
         "Placed",
         265000
        ],
        [
         61,
         "M",
         74.0,
         "Central",
         70.0,
         "Central",
         "Science",
         72.0,
         "Comm&Mgmt",
         "Yes",
         60.0,
         "Mkt&Fin",
         57.24,
         "Placed",
         260000
        ],
        [
         62,
         "M",
         84.2,
         "Central",
         73.4,
         "Central",
         "Commerce",
         66.89,
         "Comm&Mgmt",
         "No",
         61.6,
         "Mkt&Fin",
         62.48,
         "Placed",
         300000
        ],
        [
         63,
         "F",
         86.5,
         "Others",
         64.2,
         "Others",
         "Science",
         67.4,
         "Sci&Tech",
         "No",
         59.0,
         "Mkt&Fin",
         59.69,
         "Placed",
         240000
        ],
        [
         64,
         "M",
         61.0,
         "Others",
         70.0,
         "Others",
         "Commerce",
         64.0,
         "Comm&Mgmt",
         "No",
         68.5,
         "Mkt&HR",
         59.5,
         "Not Placed",
         null
        ],
        [
         65,
         "M",
         80.0,
         "Others",
         73.0,
         "Others",
         "Commerce",
         75.0,
         "Comm&Mgmt",
         "No",
         61.0,
         "Mkt&Fin",
         58.78,
         "Placed",
         240000
        ],
        [
         66,
         "M",
         54.0,
         "Others",
         47.0,
         "Others",
         "Science",
         57.0,
         "Comm&Mgmt",
         "No",
         89.69,
         "Mkt&HR",
         57.1,
         "Not Placed",
         null
        ],
        [
         67,
         "M",
         83.0,
         "Others",
         74.0,
         "Others",
         "Science",
         66.0,
         "Comm&Mgmt",
         "No",
         68.92,
         "Mkt&HR",
         58.46,
         "Placed",
         275000
        ],
        [
         68,
         "M",
         80.92,
         "Others",
         78.5,
         "Others",
         "Commerce",
         67.0,
         "Comm&Mgmt",
         "No",
         68.71,
         "Mkt&Fin",
         60.99,
         "Placed",
         275000
        ],
        [
         69,
         "F",
         69.7,
         "Central",
         47.0,
         "Central",
         "Commerce",
         72.7,
         "Sci&Tech",
         "No",
         79.0,
         "Mkt&HR",
         59.24,
         "Not Placed",
         null
        ],
        [
         70,
         "M",
         73.0,
         "Central",
         73.0,
         "Central",
         "Science",
         66.0,
         "Sci&Tech",
         "Yes",
         70.0,
         "Mkt&Fin",
         68.07,
         "Placed",
         275000
        ],
        [
         71,
         "M",
         82.0,
         "Others",
         61.0,
         "Others",
         "Science",
         62.0,
         "Sci&Tech",
         "No",
         89.0,
         "Mkt&Fin",
         65.45,
         "Placed",
         360000
        ],
        [
         72,
         "M",
         75.0,
         "Others",
         70.29,
         "Others",
         "Commerce",
         71.0,
         "Comm&Mgmt",
         "No",
         95.0,
         "Mkt&Fin",
         66.94,
         "Placed",
         240000
        ],
        [
         73,
         "M",
         84.86,
         "Others",
         67.0,
         "Others",
         "Science",
         78.0,
         "Comm&Mgmt",
         "No",
         95.5,
         "Mkt&Fin",
         68.53,
         "Placed",
         240000
        ],
        [
         74,
         "M",
         64.6,
         "Central",
         83.83,
         "Others",
         "Commerce",
         71.72,
         "Comm&Mgmt",
         "No",
         86.0,
         "Mkt&Fin",
         59.75,
         "Placed",
         218000
        ],
        [
         75,
         "M",
         56.6,
         "Central",
         64.8,
         "Central",
         "Commerce",
         70.2,
         "Comm&Mgmt",
         "No",
         84.27,
         "Mkt&Fin",
         67.2,
         "Placed",
         336000
        ],
        [
         76,
         "F",
         59.0,
         "Central",
         62.0,
         "Others",
         "Commerce",
         77.5,
         "Comm&Mgmt",
         "No",
         74.0,
         "Mkt&HR",
         67.0,
         "Not Placed",
         null
        ],
        [
         77,
         "F",
         66.5,
         "Others",
         70.4,
         "Central",
         "Arts",
         71.93,
         "Comm&Mgmt",
         "No",
         61.0,
         "Mkt&Fin",
         64.27,
         "Placed",
         230000
        ],
        [
         78,
         "M",
         64.0,
         "Others",
         80.0,
         "Others",
         "Science",
         65.0,
         "Sci&Tech",
         "Yes",
         69.0,
         "Mkt&Fin",
         57.65,
         "Placed",
         500000
        ],
        [
         79,
         "M",
         84.0,
         "Others",
         90.9,
         "Others",
         "Science",
         64.5,
         "Sci&Tech",
         "No",
         86.04,
         "Mkt&Fin",
         59.42,
         "Placed",
         270000
        ],
        [
         80,
         "F",
         69.0,
         "Central",
         62.0,
         "Central",
         "Science",
         66.0,
         "Sci&Tech",
         "No",
         75.0,
         "Mkt&HR",
         67.99,
         "Not Placed",
         null
        ],
        [
         81,
         "F",
         69.0,
         "Others",
         62.0,
         "Others",
         "Commerce",
         69.0,
         "Comm&Mgmt",
         "Yes",
         67.0,
         "Mkt&HR",
         62.35,
         "Placed",
         240000
        ],
        [
         82,
         "M",
         81.7,
         "Others",
         63.0,
         "Others",
         "Science",
         67.0,
         "Comm&Mgmt",
         "Yes",
         86.0,
         "Mkt&Fin",
         70.2,
         "Placed",
         300000
        ],
        [
         83,
         "M",
         63.0,
         "Central",
         67.0,
         "Central",
         "Commerce",
         74.0,
         "Comm&Mgmt",
         "No",
         82.0,
         "Mkt&Fin",
         60.44,
         "Not Placed",
         null
        ],
        [
         84,
         "M",
         84.0,
         "Others",
         79.0,
         "Others",
         "Science",
         68.0,
         "Sci&Tech",
         "Yes",
         84.0,
         "Mkt&Fin",
         66.69,
         "Placed",
         300000
        ],
        [
         85,
         "M",
         70.0,
         "Central",
         63.0,
         "Others",
         "Science",
         70.0,
         "Sci&Tech",
         "Yes",
         55.0,
         "Mkt&Fin",
         62.0,
         "Placed",
         300000
        ],
        [
         86,
         "F",
         83.84,
         "Others",
         89.83,
         "Others",
         "Commerce",
         77.2,
         "Comm&Mgmt",
         "Yes",
         78.74,
         "Mkt&Fin",
         76.18,
         "Placed",
         400000
        ],
        [
         87,
         "M",
         62.0,
         "Others",
         63.0,
         "Others",
         "Commerce",
         64.0,
         "Comm&Mgmt",
         "No",
         67.0,
         "Mkt&Fin",
         57.03,
         "Placed",
         220000
        ],
        [
         88,
         "M",
         59.6,
         "Central",
         51.0,
         "Central",
         "Science",
         60.0,
         "Others",
         "No",
         75.0,
         "Mkt&HR",
         59.08,
         "Not Placed",
         null
        ],
        [
         89,
         "F",
         66.0,
         "Central",
         62.0,
         "Central",
         "Commerce",
         73.0,
         "Comm&Mgmt",
         "No",
         58.0,
         "Mkt&HR",
         64.36,
         "Placed",
         210000
        ],
        [
         90,
         "F",
         84.0,
         "Others",
         75.0,
         "Others",
         "Science",
         69.0,
         "Sci&Tech",
         "Yes",
         62.0,
         "Mkt&HR",
         62.36,
         "Placed",
         210000
        ],
        [
         91,
         "F",
         85.0,
         "Others",
         90.0,
         "Others",
         "Commerce",
         82.0,
         "Comm&Mgmt",
         "No",
         92.0,
         "Mkt&Fin",
         68.03,
         "Placed",
         300000
        ],
        [
         92,
         "M",
         52.0,
         "Central",
         57.0,
         "Central",
         "Commerce",
         50.8,
         "Comm&Mgmt",
         "No",
         67.0,
         "Mkt&HR",
         62.79,
         "Not Placed",
         null
        ],
        [
         93,
         "F",
         60.23,
         "Central",
         69.0,
         "Central",
         "Science",
         66.0,
         "Comm&Mgmt",
         "No",
         72.0,
         "Mkt&Fin",
         59.47,
         "Placed",
         230000
        ],
        [
         94,
         "M",
         52.0,
         "Central",
         62.0,
         "Central",
         "Commerce",
         54.0,
         "Comm&Mgmt",
         "No",
         72.0,
         "Mkt&HR",
         55.41,
         "Not Placed",
         null
        ],
        [
         95,
         "M",
         58.0,
         "Central",
         62.0,
         "Central",
         "Commerce",
         64.0,
         "Comm&Mgmt",
         "No",
         53.88,
         "Mkt&Fin",
         54.97,
         "Placed",
         260000
        ],
        [
         96,
         "M",
         73.0,
         "Central",
         78.0,
         "Others",
         "Commerce",
         65.0,
         "Comm&Mgmt",
         "Yes",
         95.46,
         "Mkt&Fin",
         62.16,
         "Placed",
         420000
        ],
        [
         97,
         "F",
         76.0,
         "Central",
         70.0,
         "Central",
         "Science",
         76.0,
         "Comm&Mgmt",
         "Yes",
         66.0,
         "Mkt&Fin",
         64.44,
         "Placed",
         300000
        ],
        [
         98,
         "F",
         70.5,
         "Central",
         62.5,
         "Others",
         "Commerce",
         61.0,
         "Comm&Mgmt",
         "No",
         93.91,
         "Mkt&Fin",
         69.03,
         "Not Placed",
         null
        ],
        [
         99,
         "F",
         69.0,
         "Central",
         73.0,
         "Central",
         "Commerce",
         65.0,
         "Comm&Mgmt",
         "No",
         70.0,
         "Mkt&Fin",
         57.31,
         "Placed",
         220000
        ],
        [
         100,
         "M",
         54.0,
         "Central",
         82.0,
         "Others",
         "Commerce",
         63.0,
         "Sci&Tech",
         "No",
         50.0,
         "Mkt&Fin",
         59.47,
         "Not Placed",
         null
        ],
        [
         101,
         "F",
         45.0,
         "Others",
         57.0,
         "Others",
         "Commerce",
         58.0,
         "Comm&Mgmt",
         "Yes",
         56.39,
         "Mkt&HR",
         64.95,
         "Not Placed",
         null
        ],
        [
         102,
         "M",
         63.0,
         "Central",
         72.0,
         "Central",
         "Commerce",
         68.0,
         "Comm&Mgmt",
         "No",
         78.0,
         "Mkt&HR",
         60.44,
         "Placed",
         380000
        ],
        [
         103,
         "F",
         77.0,
         "Others",
         61.0,
         "Others",
         "Commerce",
         68.0,
         "Comm&Mgmt",
         "Yes",
         57.5,
         "Mkt&Fin",
         61.31,
         "Placed",
         300000
        ],
        [
         104,
         "M",
         73.0,
         "Central",
         78.0,
         "Central",
         "Science",
         73.0,
         "Sci&Tech",
         "Yes",
         85.0,
         "Mkt&HR",
         65.83,
         "Placed",
         240000
        ],
        [
         105,
         "M",
         69.0,
         "Central",
         63.0,
         "Others",
         "Science",
         65.0,
         "Comm&Mgmt",
         "Yes",
         55.0,
         "Mkt&HR",
         58.23,
         "Placed",
         360000
        ],
        [
         106,
         "M",
         59.0,
         "Central",
         64.0,
         "Others",
         "Science",
         58.0,
         "Sci&Tech",
         "No",
         85.0,
         "Mkt&HR",
         55.3,
         "Not Placed",
         null
        ],
        [
         107,
         "M",
         61.08,
         "Others",
         50.0,
         "Others",
         "Science",
         54.0,
         "Sci&Tech",
         "No",
         71.0,
         "Mkt&Fin",
         65.69,
         "Not Placed",
         null
        ],
        [
         108,
         "M",
         82.0,
         "Others",
         90.0,
         "Others",
         "Commerce",
         83.0,
         "Comm&Mgmt",
         "No",
         80.0,
         "Mkt&HR",
         73.52,
         "Placed",
         200000
        ],
        [
         109,
         "M",
         61.0,
         "Central",
         82.0,
         "Central",
         "Commerce",
         69.0,
         "Comm&Mgmt",
         "No",
         84.0,
         "Mkt&Fin",
         58.31,
         "Placed",
         300000
        ],
        [
         110,
         "M",
         52.0,
         "Central",
         63.0,
         "Others",
         "Science",
         65.0,
         "Sci&Tech",
         "Yes",
         86.0,
         "Mkt&HR",
         56.09,
         "Not Placed",
         null
        ],
        [
         111,
         "F",
         69.5,
         "Central",
         70.0,
         "Central",
         "Science",
         72.0,
         "Sci&Tech",
         "No",
         57.2,
         "Mkt&HR",
         54.8,
         "Placed",
         250000
        ],
        [
         112,
         "M",
         51.0,
         "Others",
         54.0,
         "Others",
         "Science",
         61.0,
         "Sci&Tech",
         "No",
         60.0,
         "Mkt&HR",
         60.64,
         "Not Placed",
         null
        ],
        [
         113,
         "M",
         58.0,
         "Others",
         61.0,
         "Others",
         "Commerce",
         61.0,
         "Comm&Mgmt",
         "No",
         58.0,
         "Mkt&HR",
         53.94,
         "Placed",
         250000
        ],
        [
         114,
         "F",
         73.96,
         "Others",
         79.0,
         "Others",
         "Commerce",
         67.0,
         "Comm&Mgmt",
         "No",
         72.15,
         "Mkt&Fin",
         63.08,
         "Placed",
         280000
        ],
        [
         115,
         "M",
         65.0,
         "Central",
         68.0,
         "Others",
         "Science",
         69.0,
         "Comm&Mgmt",
         "No",
         53.7,
         "Mkt&HR",
         55.01,
         "Placed",
         250000
        ],
        [
         116,
         "F",
         73.0,
         "Others",
         63.0,
         "Others",
         "Science",
         66.0,
         "Comm&Mgmt",
         "No",
         89.0,
         "Mkt&Fin",
         60.5,
         "Placed",
         216000
        ],
        [
         117,
         "M",
         68.2,
         "Central",
         72.8,
         "Central",
         "Commerce",
         66.6,
         "Comm&Mgmt",
         "Yes",
         96.0,
         "Mkt&Fin",
         70.85,
         "Placed",
         300000
        ],
        [
         118,
         "M",
         77.0,
         "Others",
         75.0,
         "Others",
         "Science",
         73.0,
         "Sci&Tech",
         "No",
         80.0,
         "Mkt&Fin",
         67.05,
         "Placed",
         240000
        ],
        [
         119,
         "M",
         76.0,
         "Central",
         80.0,
         "Central",
         "Science",
         78.0,
         "Sci&Tech",
         "Yes",
         97.0,
         "Mkt&HR",
         70.48,
         "Placed",
         276000
        ],
        [
         120,
         "M",
         60.8,
         "Central",
         68.4,
         "Central",
         "Commerce",
         64.6,
         "Comm&Mgmt",
         "Yes",
         82.66,
         "Mkt&Fin",
         64.34,
         "Placed",
         940000
        ],
        [
         121,
         "M",
         58.0,
         "Others",
         40.0,
         "Others",
         "Science",
         59.0,
         "Comm&Mgmt",
         "No",
         73.0,
         "Mkt&HR",
         58.81,
         "Not Placed",
         null
        ],
        [
         122,
         "F",
         64.0,
         "Central",
         67.0,
         "Others",
         "Science",
         69.6,
         "Sci&Tech",
         "Yes",
         55.67,
         "Mkt&HR",
         71.49,
         "Placed",
         250000
        ],
        [
         123,
         "F",
         66.5,
         "Central",
         66.8,
         "Central",
         "Arts",
         69.3,
         "Comm&Mgmt",
         "Yes",
         80.4,
         "Mkt&Fin",
         71.0,
         "Placed",
         236000
        ],
        [
         124,
         "M",
         74.0,
         "Others",
         59.0,
         "Others",
         "Commerce",
         73.0,
         "Comm&Mgmt",
         "Yes",
         60.0,
         "Mkt&HR",
         56.7,
         "Placed",
         240000
        ],
        [
         125,
         "M",
         67.0,
         "Central",
         71.0,
         "Central",
         "Science",
         64.33,
         "Others",
         "Yes",
         64.0,
         "Mkt&HR",
         61.26,
         "Placed",
         250000
        ],
        [
         126,
         "F",
         84.0,
         "Central",
         73.0,
         "Central",
         "Commerce",
         73.0,
         "Comm&Mgmt",
         "No",
         75.0,
         "Mkt&Fin",
         73.33,
         "Placed",
         350000
        ],
        [
         127,
         "F",
         79.0,
         "Others",
         61.0,
         "Others",
         "Science",
         75.5,
         "Sci&Tech",
         "Yes",
         70.0,
         "Mkt&Fin",
         68.2,
         "Placed",
         210000
        ],
        [
         128,
         "F",
         72.0,
         "Others",
         60.0,
         "Others",
         "Science",
         69.0,
         "Comm&Mgmt",
         "No",
         55.5,
         "Mkt&HR",
         58.4,
         "Placed",
         250000
        ],
        [
         129,
         "M",
         80.4,
         "Central",
         73.4,
         "Central",
         "Science",
         77.72,
         "Sci&Tech",
         "Yes",
         81.2,
         "Mkt&HR",
         76.26,
         "Placed",
         400000
        ],
        [
         130,
         "M",
         76.7,
         "Central",
         89.7,
         "Others",
         "Commerce",
         66.0,
         "Comm&Mgmt",
         "Yes",
         90.0,
         "Mkt&Fin",
         68.55,
         "Placed",
         250000
        ],
        [
         131,
         "M",
         62.0,
         "Central",
         65.0,
         "Others",
         "Commerce",
         60.0,
         "Comm&Mgmt",
         "No",
         84.0,
         "Mkt&Fin",
         64.15,
         "Not Placed",
         null
        ],
        [
         132,
         "F",
         74.9,
         "Others",
         57.0,
         "Others",
         "Science",
         62.0,
         "Others",
         "Yes",
         80.0,
         "Mkt&Fin",
         60.78,
         "Placed",
         360000
        ],
        [
         133,
         "M",
         67.0,
         "Others",
         68.0,
         "Others",
         "Commerce",
         64.0,
         "Comm&Mgmt",
         "Yes",
         74.4,
         "Mkt&HR",
         53.49,
         "Placed",
         300000
        ],
        [
         134,
         "M",
         73.0,
         "Central",
         64.0,
         "Others",
         "Commerce",
         77.0,
         "Comm&Mgmt",
         "Yes",
         65.0,
         "Mkt&HR",
         60.98,
         "Placed",
         250000
        ],
        [
         135,
         "F",
         77.44,
         "Central",
         92.0,
         "Others",
         "Commerce",
         72.0,
         "Comm&Mgmt",
         "Yes",
         94.0,
         "Mkt&Fin",
         67.13,
         "Placed",
         250000
        ],
        [
         136,
         "F",
         72.0,
         "Central",
         56.0,
         "Others",
         "Science",
         69.0,
         "Comm&Mgmt",
         "No",
         55.6,
         "Mkt&HR",
         65.63,
         "Placed",
         200000
        ],
        [
         137,
         "F",
         47.0,
         "Central",
         59.0,
         "Central",
         "Arts",
         64.0,
         "Comm&Mgmt",
         "No",
         78.0,
         "Mkt&Fin",
         61.58,
         "Not Placed",
         null
        ],
        [
         138,
         "M",
         67.0,
         "Others",
         63.0,
         "Central",
         "Commerce",
         72.0,
         "Comm&Mgmt",
         "No",
         56.0,
         "Mkt&HR",
         60.41,
         "Placed",
         225000
        ],
        [
         139,
         "F",
         82.0,
         "Others",
         64.0,
         "Others",
         "Science",
         73.0,
         "Sci&Tech",
         "Yes",
         96.0,
         "Mkt&Fin",
         71.77,
         "Placed",
         250000
        ],
        [
         140,
         "M",
         77.0,
         "Central",
         70.0,
         "Central",
         "Commerce",
         59.0,
         "Comm&Mgmt",
         "Yes",
         58.0,
         "Mkt&Fin",
         54.43,
         "Placed",
         220000
        ],
        [
         141,
         "M",
         65.0,
         "Central",
         64.8,
         "Others",
         "Commerce",
         69.5,
         "Comm&Mgmt",
         "Yes",
         56.0,
         "Mkt&Fin",
         56.94,
         "Placed",
         265000
        ],
        [
         142,
         "M",
         66.0,
         "Central",
         64.0,
         "Central",
         "Science",
         60.0,
         "Comm&Mgmt",
         "No",
         60.0,
         "Mkt&HR",
         61.9,
         "Not Placed",
         null
        ],
        [
         143,
         "M",
         85.0,
         "Central",
         60.0,
         "Others",
         "Science",
         73.43,
         "Sci&Tech",
         "Yes",
         60.0,
         "Mkt&Fin",
         61.29,
         "Placed",
         260000
        ],
        [
         144,
         "M",
         77.67,
         "Others",
         64.89,
         "Others",
         "Commerce",
         70.67,
         "Comm&Mgmt",
         "No",
         89.0,
         "Mkt&Fin",
         60.39,
         "Placed",
         300000
        ],
        [
         145,
         "M",
         52.0,
         "Others",
         50.0,
         "Others",
         "Arts",
         61.0,
         "Comm&Mgmt",
         "No",
         60.0,
         "Mkt&Fin",
         58.52,
         "Not Placed",
         null
        ],
        [
         146,
         "M",
         89.4,
         "Others",
         65.66,
         "Others",
         "Science",
         71.25,
         "Sci&Tech",
         "No",
         72.0,
         "Mkt&HR",
         63.23,
         "Placed",
         400000
        ],
        [
         147,
         "M",
         62.0,
         "Central",
         63.0,
         "Others",
         "Science",
         66.0,
         "Comm&Mgmt",
         "No",
         85.0,
         "Mkt&HR",
         55.14,
         "Placed",
         233000
        ],
        [
         148,
         "M",
         70.0,
         "Central",
         74.0,
         "Central",
         "Commerce",
         65.0,
         "Comm&Mgmt",
         "No",
         83.0,
         "Mkt&Fin",
         62.28,
         "Placed",
         300000
        ],
        [
         149,
         "F",
         77.0,
         "Central",
         86.0,
         "Central",
         "Arts",
         56.0,
         "Others",
         "No",
         57.0,
         "Mkt&Fin",
         64.08,
         "Placed",
         240000
        ],
        [
         150,
         "M",
         44.0,
         "Central",
         58.0,
         "Central",
         "Arts",
         55.0,
         "Comm&Mgmt",
         "Yes",
         64.25,
         "Mkt&HR",
         58.54,
         "Not Placed",
         null
        ],
        [
         151,
         "M",
         71.0,
         "Central",
         58.66,
         "Central",
         "Science",
         58.0,
         "Sci&Tech",
         "Yes",
         56.0,
         "Mkt&Fin",
         61.3,
         "Placed",
         690000
        ],
        [
         152,
         "M",
         65.0,
         "Central",
         65.0,
         "Central",
         "Commerce",
         75.0,
         "Comm&Mgmt",
         "No",
         83.0,
         "Mkt&Fin",
         58.87,
         "Placed",
         270000
        ],
        [
         153,
         "F",
         75.4,
         "Others",
         60.5,
         "Central",
         "Science",
         84.0,
         "Sci&Tech",
         "No",
         98.0,
         "Mkt&Fin",
         65.25,
         "Placed",
         240000
        ],
        [
         154,
         "M",
         49.0,
         "Others",
         59.0,
         "Others",
         "Science",
         65.0,
         "Sci&Tech",
         "Yes",
         86.0,
         "Mkt&Fin",
         62.48,
         "Placed",
         340000
        ],
        [
         155,
         "M",
         53.0,
         "Central",
         63.0,
         "Others",
         "Science",
         60.0,
         "Comm&Mgmt",
         "Yes",
         70.0,
         "Mkt&Fin",
         53.2,
         "Placed",
         250000
        ],
        [
         156,
         "M",
         51.57,
         "Others",
         74.66,
         "Others",
         "Commerce",
         59.9,
         "Comm&Mgmt",
         "Yes",
         56.15,
         "Mkt&HR",
         65.99,
         "Not Placed",
         null
        ],
        [
         157,
         "M",
         84.2,
         "Central",
         69.4,
         "Central",
         "Science",
         65.0,
         "Sci&Tech",
         "Yes",
         80.0,
         "Mkt&HR",
         52.72,
         "Placed",
         255000
        ],
        [
         158,
         "M",
         66.5,
         "Central",
         62.5,
         "Central",
         "Commerce",
         60.9,
         "Comm&Mgmt",
         "No",
         93.4,
         "Mkt&Fin",
         55.03,
         "Placed",
         300000
        ],
        [
         159,
         "M",
         67.0,
         "Others",
         63.0,
         "Others",
         "Science",
         64.0,
         "Sci&Tech",
         "No",
         60.0,
         "Mkt&Fin",
         61.87,
         "Not Placed",
         null
        ],
        [
         160,
         "M",
         52.0,
         "Central",
         49.0,
         "Others",
         "Commerce",
         58.0,
         "Comm&Mgmt",
         "No",
         62.0,
         "Mkt&HR",
         60.59,
         "Not Placed",
         null
        ],
        [
         161,
         "M",
         87.0,
         "Central",
         74.0,
         "Central",
         "Science",
         65.0,
         "Sci&Tech",
         "Yes",
         75.0,
         "Mkt&HR",
         72.29,
         "Placed",
         300000
        ],
        [
         162,
         "M",
         55.6,
         "Others",
         51.0,
         "Others",
         "Commerce",
         57.5,
         "Comm&Mgmt",
         "No",
         57.63,
         "Mkt&HR",
         62.72,
         "Not Placed",
         null
        ],
        [
         163,
         "M",
         74.2,
         "Central",
         87.6,
         "Others",
         "Commerce",
         77.25,
         "Comm&Mgmt",
         "Yes",
         75.2,
         "Mkt&Fin",
         66.06,
         "Placed",
         285000
        ],
        [
         164,
         "M",
         63.0,
         "Others",
         67.0,
         "Others",
         "Science",
         64.0,
         "Sci&Tech",
         "No",
         75.0,
         "Mkt&Fin",
         66.46,
         "Placed",
         500000
        ],
        [
         165,
         "F",
         67.16,
         "Central",
         72.5,
         "Central",
         "Commerce",
         63.35,
         "Comm&Mgmt",
         "No",
         53.04,
         "Mkt&Fin",
         65.52,
         "Placed",
         250000
        ],
        [
         166,
         "F",
         63.3,
         "Central",
         78.33,
         "Others",
         "Commerce",
         74.0,
         "Comm&Mgmt",
         "No",
         80.0,
         "Mkt&Fin",
         74.56,
         "Not Placed",
         null
        ],
        [
         167,
         "M",
         62.0,
         "Others",
         62.0,
         "Others",
         "Commerce",
         60.0,
         "Comm&Mgmt",
         "Yes",
         63.0,
         "Mkt&HR",
         52.38,
         "Placed",
         240000
        ],
        [
         168,
         "M",
         67.9,
         "Others",
         62.0,
         "Others",
         "Science",
         67.0,
         "Sci&Tech",
         "Yes",
         58.1,
         "Mkt&Fin",
         75.71,
         "Not Placed",
         null
        ],
        [
         169,
         "F",
         48.0,
         "Central",
         51.0,
         "Central",
         "Commerce",
         58.0,
         "Comm&Mgmt",
         "Yes",
         60.0,
         "Mkt&HR",
         58.79,
         "Not Placed",
         null
        ],
        [
         170,
         "M",
         59.96,
         "Others",
         42.16,
         "Others",
         "Science",
         61.26,
         "Sci&Tech",
         "No",
         54.48,
         "Mkt&HR",
         65.48,
         "Not Placed",
         null
        ],
        [
         171,
         "F",
         63.4,
         "Others",
         67.2,
         "Others",
         "Commerce",
         60.0,
         "Comm&Mgmt",
         "No",
         58.06,
         "Mkt&HR",
         69.28,
         "Not Placed",
         null
        ],
        [
         172,
         "M",
         80.0,
         "Others",
         80.0,
         "Others",
         "Commerce",
         72.0,
         "Comm&Mgmt",
         "Yes",
         63.79,
         "Mkt&Fin",
         66.04,
         "Placed",
         290000
        ],
        [
         173,
         "M",
         73.0,
         "Others",
         58.0,
         "Others",
         "Commerce",
         56.0,
         "Comm&Mgmt",
         "No",
         84.0,
         "Mkt&HR",
         52.64,
         "Placed",
         300000
        ],
        [
         174,
         "F",
         52.0,
         "Others",
         52.0,
         "Others",
         "Science",
         55.0,
         "Sci&Tech",
         "No",
         67.0,
         "Mkt&HR",
         59.32,
         "Not Placed",
         null
        ],
        [
         175,
         "M",
         73.24,
         "Others",
         50.83,
         "Others",
         "Science",
         64.27,
         "Sci&Tech",
         "Yes",
         64.0,
         "Mkt&Fin",
         66.23,
         "Placed",
         500000
        ],
        [
         176,
         "M",
         63.0,
         "Others",
         62.0,
         "Others",
         "Science",
         65.0,
         "Sci&Tech",
         "No",
         87.5,
         "Mkt&HR",
         60.69,
         "Not Placed",
         null
        ],
        [
         177,
         "F",
         59.0,
         "Central",
         60.0,
         "Others",
         "Commerce",
         56.0,
         "Comm&Mgmt",
         "No",
         55.0,
         "Mkt&HR",
         57.9,
         "Placed",
         220000
        ],
        [
         178,
         "F",
         73.0,
         "Central",
         97.0,
         "Others",
         "Commerce",
         79.0,
         "Comm&Mgmt",
         "Yes",
         89.0,
         "Mkt&Fin",
         70.81,
         "Placed",
         650000
        ],
        [
         179,
         "M",
         68.0,
         "Others",
         56.0,
         "Others",
         "Science",
         68.0,
         "Sci&Tech",
         "No",
         73.0,
         "Mkt&HR",
         68.07,
         "Placed",
         350000
        ],
        [
         180,
         "F",
         77.8,
         "Central",
         64.0,
         "Central",
         "Science",
         64.2,
         "Sci&Tech",
         "No",
         75.5,
         "Mkt&HR",
         72.14,
         "Not Placed",
         null
        ],
        [
         181,
         "M",
         65.0,
         "Central",
         71.5,
         "Others",
         "Commerce",
         62.8,
         "Comm&Mgmt",
         "Yes",
         57.0,
         "Mkt&Fin",
         56.6,
         "Placed",
         265000
        ],
        [
         182,
         "M",
         62.0,
         "Central",
         60.33,
         "Others",
         "Science",
         64.21,
         "Sci&Tech",
         "No",
         63.0,
         "Mkt&HR",
         60.02,
         "Not Placed",
         null
        ],
        [
         183,
         "M",
         52.0,
         "Others",
         65.0,
         "Others",
         "Arts",
         57.0,
         "Others",
         "Yes",
         75.0,
         "Mkt&Fin",
         59.81,
         "Not Placed",
         null
        ],
        [
         184,
         "M",
         65.0,
         "Central",
         77.0,
         "Central",
         "Commerce",
         69.0,
         "Comm&Mgmt",
         "No",
         60.0,
         "Mkt&HR",
         61.82,
         "Placed",
         276000
        ],
        [
         185,
         "F",
         56.28,
         "Others",
         62.83,
         "Others",
         "Commerce",
         59.79,
         "Comm&Mgmt",
         "No",
         60.0,
         "Mkt&HR",
         57.29,
         "Not Placed",
         null
        ],
        [
         186,
         "F",
         88.0,
         "Central",
         72.0,
         "Central",
         "Science",
         78.0,
         "Others",
         "No",
         82.0,
         "Mkt&HR",
         71.43,
         "Placed",
         252000
        ],
        [
         187,
         "F",
         52.0,
         "Central",
         64.0,
         "Central",
         "Commerce",
         61.0,
         "Comm&Mgmt",
         "No",
         55.0,
         "Mkt&Fin",
         62.93,
         "Not Placed",
         null
        ],
        [
         188,
         "M",
         78.5,
         "Central",
         65.5,
         "Central",
         "Science",
         67.0,
         "Sci&Tech",
         "Yes",
         95.0,
         "Mkt&Fin",
         64.86,
         "Placed",
         280000
        ],
        [
         189,
         "M",
         61.8,
         "Others",
         47.0,
         "Others",
         "Commerce",
         54.38,
         "Comm&Mgmt",
         "No",
         57.0,
         "Mkt&Fin",
         56.13,
         "Not Placed",
         null
        ],
        [
         190,
         "F",
         54.0,
         "Central",
         77.6,
         "Others",
         "Commerce",
         69.2,
         "Comm&Mgmt",
         "No",
         95.65,
         "Mkt&Fin",
         66.94,
         "Not Placed",
         null
        ],
        [
         191,
         "F",
         64.0,
         "Others",
         70.2,
         "Central",
         "Commerce",
         61.0,
         "Comm&Mgmt",
         "No",
         50.0,
         "Mkt&Fin",
         62.5,
         "Not Placed",
         null
        ],
        [
         192,
         "M",
         67.0,
         "Others",
         61.0,
         "Central",
         "Science",
         72.0,
         "Comm&Mgmt",
         "No",
         72.0,
         "Mkt&Fin",
         61.01,
         "Placed",
         264000
        ],
        [
         193,
         "M",
         65.2,
         "Central",
         61.4,
         "Central",
         "Commerce",
         64.8,
         "Comm&Mgmt",
         "Yes",
         93.4,
         "Mkt&Fin",
         57.34,
         "Placed",
         270000
        ],
        [
         194,
         "F",
         60.0,
         "Central",
         63.0,
         "Central",
         "Arts",
         56.0,
         "Others",
         "Yes",
         80.0,
         "Mkt&HR",
         56.63,
         "Placed",
         300000
        ],
        [
         195,
         "M",
         52.0,
         "Others",
         55.0,
         "Others",
         "Commerce",
         56.3,
         "Comm&Mgmt",
         "No",
         59.0,
         "Mkt&Fin",
         64.74,
         "Not Placed",
         null
        ],
        [
         196,
         "M",
         66.0,
         "Central",
         76.0,
         "Central",
         "Commerce",
         72.0,
         "Comm&Mgmt",
         "Yes",
         84.0,
         "Mkt&HR",
         58.95,
         "Placed",
         275000
        ],
        [
         197,
         "M",
         72.0,
         "Others",
         63.0,
         "Others",
         "Science",
         77.5,
         "Sci&Tech",
         "Yes",
         78.0,
         "Mkt&Fin",
         54.48,
         "Placed",
         250000
        ],
        [
         198,
         "F",
         83.96,
         "Others",
         53.0,
         "Others",
         "Science",
         91.0,
         "Sci&Tech",
         "No",
         59.32,
         "Mkt&HR",
         69.71,
         "Placed",
         260000
        ],
        [
         199,
         "F",
         67.0,
         "Central",
         70.0,
         "Central",
         "Commerce",
         65.0,
         "Others",
         "No",
         88.0,
         "Mkt&HR",
         71.96,
         "Not Placed",
         null
        ],
        [
         200,
         "M",
         69.0,
         "Others",
         65.0,
         "Others",
         "Commerce",
         57.0,
         "Comm&Mgmt",
         "No",
         73.0,
         "Mkt&HR",
         55.8,
         "Placed",
         265000
        ],
        [
         201,
         "M",
         69.0,
         "Others",
         60.0,
         "Others",
         "Commerce",
         65.0,
         "Comm&Mgmt",
         "No",
         87.55,
         "Mkt&Fin",
         52.81,
         "Placed",
         300000
        ],
        [
         202,
         "M",
         54.2,
         "Central",
         63.0,
         "Others",
         "Science",
         58.0,
         "Comm&Mgmt",
         "No",
         79.0,
         "Mkt&HR",
         58.44,
         "Not Placed",
         null
        ],
        [
         203,
         "M",
         70.0,
         "Central",
         63.0,
         "Central",
         "Science",
         66.0,
         "Sci&Tech",
         "No",
         61.28,
         "Mkt&HR",
         60.11,
         "Placed",
         240000
        ],
        [
         204,
         "M",
         55.68,
         "Others",
         61.33,
         "Others",
         "Commerce",
         56.87,
         "Comm&Mgmt",
         "No",
         66.0,
         "Mkt&HR",
         58.3,
         "Placed",
         260000
        ],
        [
         205,
         "F",
         74.0,
         "Others",
         73.0,
         "Others",
         "Commerce",
         73.0,
         "Comm&Mgmt",
         "Yes",
         80.0,
         "Mkt&Fin",
         67.69,
         "Placed",
         210000
        ],
        [
         206,
         "M",
         61.0,
         "Others",
         62.0,
         "Others",
         "Commerce",
         65.0,
         "Comm&Mgmt",
         "No",
         62.0,
         "Mkt&Fin",
         56.81,
         "Placed",
         250000
        ],
        [
         207,
         "M",
         41.0,
         "Central",
         42.0,
         "Central",
         "Science",
         60.0,
         "Comm&Mgmt",
         "No",
         97.0,
         "Mkt&Fin",
         53.39,
         "Not Placed",
         null
        ],
        [
         208,
         "M",
         83.33,
         "Central",
         78.0,
         "Others",
         "Commerce",
         61.0,
         "Comm&Mgmt",
         "Yes",
         88.56,
         "Mkt&Fin",
         71.55,
         "Placed",
         300000
        ],
        [
         209,
         "F",
         43.0,
         "Central",
         60.0,
         "Others",
         "Science",
         65.0,
         "Comm&Mgmt",
         "No",
         92.66,
         "Mkt&HR",
         62.92,
         "Not Placed",
         null
        ],
        [
         210,
         "M",
         62.0,
         "Central",
         72.0,
         "Central",
         "Commerce",
         65.0,
         "Comm&Mgmt",
         "No",
         67.0,
         "Mkt&Fin",
         56.49,
         "Placed",
         216000
        ],
        [
         211,
         "M",
         80.6,
         "Others",
         82.0,
         "Others",
         "Commerce",
         77.6,
         "Comm&Mgmt",
         "No",
         91.0,
         "Mkt&Fin",
         74.49,
         "Placed",
         400000
        ],
        [
         212,
         "M",
         58.0,
         "Others",
         60.0,
         "Others",
         "Science",
         72.0,
         "Sci&Tech",
         "No",
         74.0,
         "Mkt&Fin",
         53.62,
         "Placed",
         275000
        ],
        [
         213,
         "M",
         67.0,
         "Others",
         67.0,
         "Others",
         "Commerce",
         73.0,
         "Comm&Mgmt",
         "Yes",
         59.0,
         "Mkt&Fin",
         69.72,
         "Placed",
         295000
        ],
        [
         214,
         "F",
         74.0,
         "Others",
         66.0,
         "Others",
         "Commerce",
         58.0,
         "Comm&Mgmt",
         "No",
         70.0,
         "Mkt&HR",
         60.23,
         "Placed",
         204000
        ],
        [
         215,
         "M",
         62.0,
         "Central",
         58.0,
         "Others",
         "Science",
         53.0,
         "Comm&Mgmt",
         "No",
         89.0,
         "Mkt&HR",
         60.22,
         "Not Placed",
         null
        ]
       ],
       "datasetInfos": [],
       "dbfsResultPath": null,
       "isJsonSchema": true,
       "metadata": {},
       "overflow": false,
       "plotOptions": {
        "customPlotOptions": {},
        "displayType": "table",
        "pivotAggregation": null,
        "pivotColumns": null,
        "xColumns": null,
        "yColumns": null
       },
       "removedWidgets": [],
       "schema": [
        {
         "metadata": "{}",
         "name": "sl_no",
         "type": "\"integer\""
        },
        {
         "metadata": "{}",
         "name": "gender",
         "type": "\"string\""
        },
        {
         "metadata": "{}",
         "name": "ssc_p",
         "type": "\"double\""
        },
        {
         "metadata": "{}",
         "name": "ssc_b",
         "type": "\"string\""
        },
        {
         "metadata": "{}",
         "name": "hsc_p",
         "type": "\"double\""
        },
        {
         "metadata": "{}",
         "name": "hsc_b",
         "type": "\"string\""
        },
        {
         "metadata": "{}",
         "name": "hsc_s",
         "type": "\"string\""
        },
        {
         "metadata": "{}",
         "name": "degree_p",
         "type": "\"double\""
        },
        {
         "metadata": "{}",
         "name": "degree_t",
         "type": "\"string\""
        },
        {
         "metadata": "{}",
         "name": "workex",
         "type": "\"string\""
        },
        {
         "metadata": "{}",
         "name": "etest_p",
         "type": "\"double\""
        },
        {
         "metadata": "{}",
         "name": "specialisation",
         "type": "\"string\""
        },
        {
         "metadata": "{}",
         "name": "mba_p",
         "type": "\"double\""
        },
        {
         "metadata": "{}",
         "name": "status",
         "type": "\"string\""
        },
        {
         "metadata": "{}",
         "name": "salary",
         "type": "\"integer\""
        }
       ],
       "type": "table"
      }
     },
     "output_type": "display_data"
    }
   ],
   "source": [
    "account = \"datacasestudy\"\n",
    "container = \"source\"\n",
    "sas_token = \"sp=racwdlmeop&st=2025-08-14T10:22:35Z&se=2025-08-14T18:37:35Z&spr=https&sv=2024-11-04&sr=c&sig=OOYjZdIawM7xxLjnuWTD37lQ3Mgzqc%2Be8CKx%2FXw%2F5IQ%3D\"\n",
    "\n",
    "# Full ABFSS path\n",
    "csv_path = f\"abfss://{container}@{account}.dfs.core.windows.net/Placement_Data_Full_Class.csv\"\n",
    "\n",
    "# Tell Spark to use SAS token\n",
    "spark.conf.set(f\"fs.azure.sas.{container}.{account}.dfs.core.windows.net\", sas_token[1:])\n",
    "\n",
    "# Read CSV\n",
    "df = spark.read.format(\"csv\") \\\n",
    "    .option(\"header\", \"true\") \\\n",
    "    .option(\"inferSchema\", \"true\") \\\n",
    "    .load(csv_path)\n",
    "\n",
    "display(df)\n"
   ]
  },
  {
   "cell_type": "code",
   "execution_count": 0,
   "metadata": {
    "application/vnd.databricks.v1+cell": {
     "cellMetadata": {
      "byteLimit": 2048000,
      "rowLimit": 10000
     },
     "inputWidgets": {},
     "nuid": "92476e24-efcd-4209-bc58-c1790abc38bd",
     "showTitle": false,
     "tableResultSettingsMap": {},
     "title": ""
    }
   },
   "outputs": [
    {
     "output_type": "stream",
     "name": "stdout",
     "output_type": "stream",
     "text": [
      "root\n |-- sl_no: integer (nullable = true)\n |-- gender: string (nullable = true)\n |-- ssc_p: double (nullable = true)\n |-- ssc_b: string (nullable = true)\n |-- hsc_p: double (nullable = true)\n |-- hsc_b: string (nullable = true)\n |-- hsc_s: string (nullable = true)\n |-- degree_p: double (nullable = true)\n |-- degree_t: string (nullable = true)\n |-- workex: string (nullable = true)\n |-- etest_p: double (nullable = true)\n |-- specialisation: string (nullable = true)\n |-- mba_p: double (nullable = true)\n |-- status: string (nullable = true)\n |-- salary: integer (nullable = true)\n\n+-----+------+-----+-------+-----+-------+--------+--------+---------+------+-------+--------------+-----+----------+------+\n|sl_no|gender|ssc_p|ssc_b  |hsc_p|hsc_b  |hsc_s   |degree_p|degree_t |workex|etest_p|specialisation|mba_p|status    |salary|\n+-----+------+-----+-------+-----+-------+--------+--------+---------+------+-------+--------------+-----+----------+------+\n|1    |M     |67.0 |Others |91.0 |Others |Commerce|58.0    |Sci&Tech |No    |55.0   |Mkt&HR        |58.8 |Placed    |270000|\n|2    |M     |79.33|Central|78.33|Others |Science |77.48   |Sci&Tech |Yes   |86.5   |Mkt&Fin       |66.28|Placed    |200000|\n|3    |M     |65.0 |Central|68.0 |Central|Arts    |64.0    |Comm&Mgmt|No    |75.0   |Mkt&Fin       |57.8 |Placed    |250000|\n|4    |M     |56.0 |Central|52.0 |Central|Science |52.0    |Sci&Tech |No    |66.0   |Mkt&HR        |59.43|Not Placed|NULL  |\n|5    |M     |85.8 |Central|73.6 |Central|Commerce|73.3    |Comm&Mgmt|No    |96.8   |Mkt&Fin       |55.5 |Placed    |425000|\n+-----+------+-----+-------+-----+-------+--------+--------+---------+------+-------+--------------+-----+----------+------+\nonly showing top 5 rows\n\nTotal rows: 215\n+-------+-----------------+------+------------------+-------+------------------+-------+-------+-----------------+---------+------+------------------+--------------+------------------+----------+-----------------+\n|summary|            sl_no|gender|             ssc_p|  ssc_b|             hsc_p|  hsc_b|  hsc_s|         degree_p| degree_t|workex|           etest_p|specialisation|             mba_p|    status|           salary|\n+-------+-----------------+------+------------------+-------+------------------+-------+-------+-----------------+---------+------+------------------+--------------+------------------+----------+-----------------+\n|  count|              215|   215|               215|    215|               215|    215|    215|              215|      215|   215|               215|           215|               215|       215|              148|\n|   mean|            108.0|  NULL|  67.3033953488372|   NULL| 66.33316279069766|   NULL|   NULL|66.37018604651163|     NULL|  NULL| 72.10055813953488|          NULL|62.278186046511586|      NULL|288655.4054054054|\n| stddev|62.20932405998316|  NULL|10.827205398231456|   NULL|10.897509157502983|   NULL|   NULL|7.358743287339444|     NULL|  NULL|13.275956401653826|          NULL| 5.833384580683803|      NULL|93457.45241958876|\n|    min|                1|     F|             40.89|Central|              37.0|Central|   Arts|             50.0|Comm&Mgmt|    No|              50.0|       Mkt&Fin|             51.21|Not Placed|           200000|\n|    max|              215|     M|              89.4| Others|              97.7| Others|Science|             91.0| Sci&Tech|   Yes|              98.0|        Mkt&HR|             77.89|    Placed|           940000|\n+-------+-----------------+------+------------------+-------+------------------+-------+-------+-----------------+---------+------+------------------+--------------+------------------+----------+-----------------+\n\n+------+-----+\n|gender|count|\n+------+-----+\n|     F|   76|\n|     M|  139|\n+------+-----+\n\n+------+-----+\n|workex|count|\n+------+-----+\n|    No|  141|\n|   Yes|   74|\n+------+-----+\n\n+----------+-----+\n|    status|count|\n+----------+-----+\n|Not Placed|   67|\n|    Placed|  148|\n+----------+-----+\n\n+------+-----------------+\n|gender|      avg(salary)|\n+------+-----------------+\n|     F|267291.6666666667|\n|     M|         298910.0|\n+------+-----------------+\n\n+--------------+------------------+\n|specialisation|       avg(salary)|\n+--------------+------------------+\n|       Mkt&Fin|298852.63157894736|\n|        Mkt&HR|  270377.358490566|\n+--------------+------------------+\n\n+------+-----------------+\n|workex|      avg(salary)|\n+------+-----------------+\n|    No|277523.8095238095|\n|   Yes|       303265.625|\n+------+-----------------+\n\n+--------------+------------------+\n|specialisation|        avg(mba_p)|\n+--------------+------------------+\n|       Mkt&Fin|62.825666666666685|\n|        Mkt&HR|61.586631578947355|\n+--------------+------------------+\n\n"
     ]
    }
   ],
   "source": [
    "  \n",
    "# Show schema\n",
    "df.printSchema()\n",
    "\n",
    "# Show first 5 rows\n",
    "df.show(5, truncate=False)\n",
    "\n",
    "# Total rows\n",
    "print(f\"Total rows: {df.count()}\")\n",
    "\n",
    "# Summary statistics\n",
    "df.describe().show()\n",
    "\n",
    "# Distribution by Gender\n",
    "df.groupBy(\"gender\").count().show()\n",
    "\n",
    "# Distribution by Work Experience\n",
    "df.groupBy(\"workex\").count().show()\n",
    "\n",
    "# Placement Status Counts\n",
    "df.groupBy(\"status\").count().show()\n",
    "\n",
    "# Average Salary by Gender\n",
    "df.groupBy(\"gender\").avg(\"salary\").show()\n",
    "\n",
    "# Average Salary by Specialisation\n",
    "df.groupBy(\"specialisation\").avg(\"salary\").show()\n",
    "\n",
    "# Average Salary by Work Experience\n",
    "df.groupBy(\"workex\").avg(\"salary\").show()\n",
    "\n",
    "# Average MBA percentage by Specialisation\n",
    "df.groupBy(\"specialisation\").avg(\"mba_p\").show()\n"
   ]
  },
  {
   "cell_type": "markdown",
   "metadata": {
    "application/vnd.databricks.v1+cell": {
     "cellMetadata": {},
     "inputWidgets": {},
     "nuid": "8059193e-6624-4f16-8851-6e0e5d5781db",
     "showTitle": false,
     "tableResultSettingsMap": {},
     "title": ""
    }
   },
   "source": [
    "1. Mount Storage"
   ]
  },
  {
   "cell_type": "code",
   "execution_count": 0,
   "metadata": {
    "application/vnd.databricks.v1+cell": {
     "cellMetadata": {
      "byteLimit": 2048000,
      "rowLimit": 10000
     },
     "inputWidgets": {},
     "nuid": "18b62ee9-4c99-4208-9cd1-c3e191d5f145",
     "showTitle": false,
     "tableResultSettingsMap": {},
     "title": ""
    }
   },
   "outputs": [
    {
     "output_type": "execute_result",
     "data": {
      "text/plain": [
       "True"
      ]
     },
     "execution_count": 10,
     "metadata": {},
     "output_type": "execute_result"
    }
   ],
   "source": [
    "account = \"datacasestudy\"\n",
    "container = \"source\"\n",
    "sas_token = \"sp=racwdlmeop&st=2025-08-14T10:22:35Z&se=2025-08-14T18:37:35Z&spr=https&sv=2024-11-04&sr=c&sig=OOYjZdIawM7xxLjnuWTD37lQ3Mgzqc%2Be8CKx%2FXw%2F5IQ%3D\"\n",
    "\n",
    "dbutils.fs.mount(\n",
    "    source = f\"wasbs://{container}@{account}.blob.core.windows.net\",\n",
    "    mount_point = \"/mnt/mycontainer\",\n",
    "    extra_configs = {\n",
    "        f\"fs.azure.sas.{container}.{account}.blob.core.windows.net\": sas_token\n",
    "    }\n",
    ")\n"
   ]
  },
  {
   "cell_type": "markdown",
   "metadata": {
    "application/vnd.databricks.v1+cell": {
     "cellMetadata": {},
     "inputWidgets": {},
     "nuid": "883ddc8d-ece1-4e5a-8f8c-5875df4680ec",
     "showTitle": false,
     "tableResultSettingsMap": {},
     "title": ""
    }
   },
   "source": [
    "2. Check file in container"
   ]
  },
  {
   "cell_type": "code",
   "execution_count": 0,
   "metadata": {
    "application/vnd.databricks.v1+cell": {
     "cellMetadata": {
      "byteLimit": 2048000,
      "rowLimit": 10000
     },
     "inputWidgets": {},
     "nuid": "d62c7fae-1cbc-4985-9191-0b85895aa69b",
     "showTitle": false,
     "tableResultSettingsMap": {},
     "title": ""
    }
   },
   "outputs": [
    {
     "output_type": "execute_result",
     "data": {
      "text/plain": [
       "[FileInfo(path='dbfs:/mnt/mycontainer/Placement_Data_Full_Class.csv', name='Placement_Data_Full_Class.csv', size=19496, modificationTime=1755167227000)]"
      ]
     },
     "execution_count": 11,
     "metadata": {},
     "output_type": "execute_result"
    }
   ],
   "source": [
    "dbutils.fs.ls(\"/mnt/mycontainer\")\n"
   ]
  },
  {
   "cell_type": "markdown",
   "metadata": {
    "application/vnd.databricks.v1+cell": {
     "cellMetadata": {},
     "inputWidgets": {},
     "nuid": "4199af3d-a914-4568-af1b-d2145417bf4c",
     "showTitle": false,
     "tableResultSettingsMap": {},
     "title": ""
    }
   },
   "source": [
    "3. Load CSV into Spark DataFrame"
   ]
  },
  {
   "cell_type": "code",
   "execution_count": 0,
   "metadata": {
    "application/vnd.databricks.v1+cell": {
     "cellMetadata": {
      "byteLimit": 2048000,
      "rowLimit": 10000
     },
     "inputWidgets": {},
     "nuid": "82490e73-b1d5-46da-8ab1-44f85cecceeb",
     "showTitle": false,
     "tableResultSettingsMap": {},
     "title": ""
    }
   },
   "outputs": [
    {
     "output_type": "stream",
     "name": "stdout",
     "output_type": "stream",
     "text": [
      "+-----+------+-----+-------+-----+-------+--------+--------+---------+------+-------+--------------+-----+----------+------+\n|sl_no|gender|ssc_p|  ssc_b|hsc_p|  hsc_b|   hsc_s|degree_p| degree_t|workex|etest_p|specialisation|mba_p|    status|salary|\n+-----+------+-----+-------+-----+-------+--------+--------+---------+------+-------+--------------+-----+----------+------+\n|    1|     M|67.00| Others|91.00| Others|Commerce|   58.00| Sci&Tech|    No|     55|        Mkt&HR| 58.8|    Placed|270000|\n|    2|     M|79.33|Central|78.33| Others| Science|   77.48| Sci&Tech|   Yes|   86.5|       Mkt&Fin|66.28|    Placed|200000|\n|    3|     M|65.00|Central|68.00|Central|    Arts|   64.00|Comm&Mgmt|    No|     75|       Mkt&Fin| 57.8|    Placed|250000|\n|    4|     M|56.00|Central|52.00|Central| Science|   52.00| Sci&Tech|    No|     66|        Mkt&HR|59.43|Not Placed|  NULL|\n|    5|     M|85.80|Central|73.60|Central|Commerce|   73.30|Comm&Mgmt|    No|   96.8|       Mkt&Fin| 55.5|    Placed|425000|\n+-----+------+-----+-------+-----+-------+--------+--------+---------+------+-------+--------------+-----+----------+------+\nonly showing top 5 rows\n\n"
     ]
    }
   ],
   "source": [
    "df = spark.read.option(\"header\", \"true\").csv(\"/mnt/mycontainer/Placement_Data_Full_Class.csv\")\n",
    "df.show(5)\n"
   ]
  },
  {
   "cell_type": "markdown",
   "metadata": {
    "application/vnd.databricks.v1+cell": {
     "cellMetadata": {},
     "inputWidgets": {},
     "nuid": "a7675b54-d992-4efd-b286-67aacc0d1191",
     "showTitle": false,
     "tableResultSettingsMap": {},
     "title": ""
    }
   },
   "source": [
    "4. Write DataFrame in Delta format"
   ]
  },
  {
   "cell_type": "code",
   "execution_count": 0,
   "metadata": {
    "application/vnd.databricks.v1+cell": {
     "cellMetadata": {
      "byteLimit": 2048000,
      "rowLimit": 10000
     },
     "inputWidgets": {},
     "nuid": "a775c76c-55b7-444c-8147-9f8d6c011847",
     "showTitle": false,
     "tableResultSettingsMap": {},
     "title": ""
    }
   },
   "outputs": [],
   "source": [
    "delta_path = \"/mnt/delta/Placement_Data_Full_Class\"\n",
    "\n",
    "df.write.format(\"delta\").mode(\"overwrite\").save(delta_path)\n"
   ]
  },
  {
   "cell_type": "markdown",
   "metadata": {
    "application/vnd.databricks.v1+cell": {
     "cellMetadata": {},
     "inputWidgets": {},
     "nuid": "89101874-5032-4626-8f68-6018b36d2b88",
     "showTitle": false,
     "tableResultSettingsMap": {},
     "title": ""
    }
   },
   "source": [
    "5. Create Delta Table in Databricks SQL"
   ]
  },
  {
   "cell_type": "code",
   "execution_count": 0,
   "metadata": {
    "application/vnd.databricks.v1+cell": {
     "cellMetadata": {
      "byteLimit": 2048000,
      "rowLimit": 10000
     },
     "inputWidgets": {},
     "nuid": "07ef9c9b-ffbb-459e-a5da-ea4fd4ecf063",
     "showTitle": false,
     "tableResultSettingsMap": {},
     "title": ""
    }
   },
   "outputs": [
    {
     "output_type": "execute_result",
     "data": {
      "text/plain": [
       "DataFrame[]"
      ]
     },
     "execution_count": 14,
     "metadata": {},
     "output_type": "execute_result"
    }
   ],
   "source": [
    "spark.sql(\"\"\"\n",
    "    CREATE TABLE IF NOT EXISTS Placement_Data_Full_Class\n",
    "    USING DELTA\n",
    "    LOCATION '/mnt/delta/Placement_Data_Full_Class'\n",
    "\"\"\")\n"
   ]
  },
  {
   "cell_type": "markdown",
   "metadata": {
    "application/vnd.databricks.v1+cell": {
     "cellMetadata": {},
     "inputWidgets": {},
     "nuid": "d12ab894-e6ab-4a72-aba1-b2610c02dff7",
     "showTitle": false,
     "tableResultSettingsMap": {},
     "title": ""
    }
   },
   "source": [
    "6. Query the Table"
   ]
  },
  {
   "cell_type": "code",
   "execution_count": 0,
   "metadata": {
    "application/vnd.databricks.v1+cell": {
     "cellMetadata": {
      "byteLimit": 2048000,
      "rowLimit": 10000
     },
     "inputWidgets": {},
     "nuid": "47c11586-3599-4dc2-82fd-f7e6240ae44f",
     "showTitle": false,
     "tableResultSettingsMap": {},
     "title": ""
    }
   },
   "outputs": [
    {
     "output_type": "stream",
     "name": "stdout",
     "output_type": "stream",
     "text": [
      "+-----+------+-----+-------+-----+-------+--------+--------+---------+------+-------+--------------+-----+----------+------+\n|sl_no|gender|ssc_p|  ssc_b|hsc_p|  hsc_b|   hsc_s|degree_p| degree_t|workex|etest_p|specialisation|mba_p|    status|salary|\n+-----+------+-----+-------+-----+-------+--------+--------+---------+------+-------+--------------+-----+----------+------+\n|    1|     M|67.00| Others|91.00| Others|Commerce|   58.00| Sci&Tech|    No|     55|        Mkt&HR| 58.8|    Placed|270000|\n|    2|     M|79.33|Central|78.33| Others| Science|   77.48| Sci&Tech|   Yes|   86.5|       Mkt&Fin|66.28|    Placed|200000|\n|    3|     M|65.00|Central|68.00|Central|    Arts|   64.00|Comm&Mgmt|    No|     75|       Mkt&Fin| 57.8|    Placed|250000|\n|    4|     M|56.00|Central|52.00|Central| Science|   52.00| Sci&Tech|    No|     66|        Mkt&HR|59.43|Not Placed|  NULL|\n|    5|     M|85.80|Central|73.60|Central|Commerce|   73.30|Comm&Mgmt|    No|   96.8|       Mkt&Fin| 55.5|    Placed|425000|\n|    6|     M|55.00| Others|49.80| Others| Science|   67.25| Sci&Tech|   Yes|     55|       Mkt&Fin|51.58|Not Placed|  NULL|\n|    7|     F|46.00| Others|49.20| Others|Commerce|   79.00|Comm&Mgmt|    No|  74.28|       Mkt&Fin|53.29|Not Placed|  NULL|\n|    8|     M|82.00|Central|64.00|Central| Science|   66.00| Sci&Tech|   Yes|     67|       Mkt&Fin|62.14|    Placed|252000|\n|    9|     M|73.00|Central|79.00|Central|Commerce|   72.00|Comm&Mgmt|    No|  91.34|       Mkt&Fin|61.29|    Placed|231000|\n|   10|     M|58.00|Central|70.00|Central|Commerce|   61.00|Comm&Mgmt|    No|     54|       Mkt&Fin|52.21|Not Placed|  NULL|\n+-----+------+-----+-------+-----+-------+--------+--------+---------+------+-------+--------------+-----+----------+------+\n\n"
     ]
    }
   ],
   "source": [
    "spark.sql(\"SELECT * FROM Placement_Data_Full_Class LIMIT 10\").show()\n"
   ]
  },
  {
   "cell_type": "markdown",
   "metadata": {
    "application/vnd.databricks.v1+cell": {
     "cellMetadata": {},
     "inputWidgets": {},
     "nuid": "7db71772-d1a4-4923-a6ee-624437a3c9a8",
     "showTitle": false,
     "tableResultSettingsMap": {},
     "title": ""
    }
   },
   "source": [
    "**PySpark transformations**"
   ]
  },
  {
   "cell_type": "markdown",
   "metadata": {
    "application/vnd.databricks.v1+cell": {
     "cellMetadata": {},
     "inputWidgets": {},
     "nuid": "c0f2cd97-8970-43a9-af47-ad6672a4444f",
     "showTitle": false,
     "tableResultSettingsMap": {},
     "title": ""
    }
   },
   "source": [
    "1. Read the CSV file from your container"
   ]
  },
  {
   "cell_type": "code",
   "execution_count": 0,
   "metadata": {
    "application/vnd.databricks.v1+cell": {
     "cellMetadata": {
      "byteLimit": 2048000,
      "rowLimit": 10000
     },
     "inputWidgets": {},
     "nuid": "1490ba19-6a89-420c-b116-da102aeee706",
     "showTitle": false,
     "tableResultSettingsMap": {},
     "title": ""
    }
   },
   "outputs": [
    {
     "output_type": "stream",
     "name": "stdout",
     "output_type": "stream",
     "text": [
      "+-----+------+-----+-------+-----+-------+--------+--------+---------+------+-------+--------------+-----+----------+------+\n|sl_no|gender|ssc_p|  ssc_b|hsc_p|  hsc_b|   hsc_s|degree_p| degree_t|workex|etest_p|specialisation|mba_p|    status|salary|\n+-----+------+-----+-------+-----+-------+--------+--------+---------+------+-------+--------------+-----+----------+------+\n|    1|     M| 67.0| Others| 91.0| Others|Commerce|    58.0| Sci&Tech|    No|   55.0|        Mkt&HR| 58.8|    Placed|270000|\n|    2|     M|79.33|Central|78.33| Others| Science|   77.48| Sci&Tech|   Yes|   86.5|       Mkt&Fin|66.28|    Placed|200000|\n|    3|     M| 65.0|Central| 68.0|Central|    Arts|    64.0|Comm&Mgmt|    No|   75.0|       Mkt&Fin| 57.8|    Placed|250000|\n|    4|     M| 56.0|Central| 52.0|Central| Science|    52.0| Sci&Tech|    No|   66.0|        Mkt&HR|59.43|Not Placed|  NULL|\n|    5|     M| 85.8|Central| 73.6|Central|Commerce|    73.3|Comm&Mgmt|    No|   96.8|       Mkt&Fin| 55.5|    Placed|425000|\n+-----+------+-----+-------+-----+-------+--------+--------+---------+------+-------+--------------+-----+----------+------+\nonly showing top 5 rows\n\nroot\n |-- sl_no: integer (nullable = true)\n |-- gender: string (nullable = true)\n |-- ssc_p: double (nullable = true)\n |-- ssc_b: string (nullable = true)\n |-- hsc_p: double (nullable = true)\n |-- hsc_b: string (nullable = true)\n |-- hsc_s: string (nullable = true)\n |-- degree_p: double (nullable = true)\n |-- degree_t: string (nullable = true)\n |-- workex: string (nullable = true)\n |-- etest_p: double (nullable = true)\n |-- specialisation: string (nullable = true)\n |-- mba_p: double (nullable = true)\n |-- status: string (nullable = true)\n |-- salary: integer (nullable = true)\n\n"
     ]
    }
   ],
   "source": [
    "# Read Placement_Data_Full_Class.csv into Spark DataFrame\n",
    "df = spark.read.option(\"header\", \"true\").option(\"inferSchema\", \"true\").csv(\"/mnt/mycontainer/Placement_Data_Full_Class.csv\")\n",
    "\n",
    "# Show first 5 rows\n",
    "df.show(5)\n",
    "\n",
    "# Print schema\n",
    "df.printSchema()\n"
   ]
  },
  {
   "cell_type": "markdown",
   "metadata": {
    "application/vnd.databricks.v1+cell": {
     "cellMetadata": {},
     "inputWidgets": {},
     "nuid": "4d0c8db5-804a-450c-bfa6-7f5b228f7e90",
     "showTitle": false,
     "tableResultSettingsMap": {},
     "title": ""
    }
   },
   "source": [
    "2. Basic Data Cleaning"
   ]
  },
  {
   "cell_type": "code",
   "execution_count": 0,
   "metadata": {
    "application/vnd.databricks.v1+cell": {
     "cellMetadata": {
      "byteLimit": 2048000,
      "rowLimit": 10000
     },
     "inputWidgets": {},
     "nuid": "ba500b22-b2de-45ba-9be5-3b94be0a316c",
     "showTitle": false,
     "tableResultSettingsMap": {},
     "title": ""
    }
   },
   "outputs": [],
   "source": [
    "# Drop duplicates\n",
    "df = df.dropDuplicates()\n",
    "\n",
    "# Handle null values (example: fill NA with 0 or \"Unknown\")\n",
    "df = df.fillna({\"salary\": 0, \"gender\": \"Unknown\"})\n"
   ]
  },
  {
   "cell_type": "markdown",
   "metadata": {
    "application/vnd.databricks.v1+cell": {
     "cellMetadata": {},
     "inputWidgets": {},
     "nuid": "87ebbd15-63c3-46f6-984d-a06f34e3bd8c",
     "showTitle": false,
     "tableResultSettingsMap": {},
     "title": ""
    }
   },
   "source": [
    "3. Useful Transformations"
   ]
  },
  {
   "cell_type": "code",
   "execution_count": 0,
   "metadata": {
    "application/vnd.databricks.v1+cell": {
     "cellMetadata": {
      "byteLimit": 2048000,
      "rowLimit": 10000
     },
     "inputWidgets": {},
     "nuid": "013e98f9-58e3-4cdb-97f9-5858453ab9c8",
     "showTitle": false,
     "tableResultSettingsMap": {},
     "title": ""
    }
   },
   "outputs": [
    {
     "output_type": "display_data",
     "data": {
      "text/html": [
       "<style scoped>\n",
       "  .table-result-container {\n",
       "    max-height: 300px;\n",
       "    overflow: auto;\n",
       "  }\n",
       "  table, th, td {\n",
       "    border: 1px solid black;\n",
       "    border-collapse: collapse;\n",
       "  }\n",
       "  th, td {\n",
       "    padding: 5px;\n",
       "  }\n",
       "  th {\n",
       "    text-align: left;\n",
       "  }\n",
       "</style><div class='table-result-container'><table class='table-result'><thead style='background-color: white'><tr><th>gender</th><th>count</th></tr></thead><tbody><tr><td>F</td><td>76</td></tr><tr><td>M</td><td>139</td></tr></tbody></table></div>"
      ]
     },
     "metadata": {
      "application/vnd.databricks.v1+output": {
       "addedWidgets": {},
       "aggData": [],
       "aggError": "",
       "aggOverflow": false,
       "aggSchema": [],
       "aggSeriesLimitReached": false,
       "aggType": "",
       "arguments": {},
       "columnCustomDisplayInfos": {},
       "data": [
        [
         "F",
         76
        ],
        [
         "M",
         139
        ]
       ],
       "datasetInfos": [],
       "dbfsResultPath": null,
       "isJsonSchema": true,
       "metadata": {},
       "overflow": false,
       "plotOptions": {
        "customPlotOptions": {},
        "displayType": "table",
        "pivotAggregation": null,
        "pivotColumns": null,
        "xColumns": null,
        "yColumns": null
       },
       "removedWidgets": [],
       "schema": [
        {
         "metadata": "{}",
         "name": "gender",
         "type": "\"string\""
        },
        {
         "metadata": "{}",
         "name": "count",
         "type": "\"long\""
        }
       ],
       "type": "table"
      }
     },
     "output_type": "display_data"
    },
    {
     "output_type": "display_data",
     "data": {
      "text/plain": [
       "Databricks visualization. Run in Databricks to view."
      ]
     },
     "metadata": {
      "application/vnd.databricks.v1.subcommand+json": {
       "baseErrorDetails": null,
       "bindings": {},
       "collapsed": false,
       "command": "%python\n__backend_agg_display_orig = display\n__backend_agg_dfs = []\ndef __backend_agg_display_new(df):\n    __backend_agg_df_modules = [\"pandas.core.frame\", \"databricks.koalas.frame\", \"pyspark.sql.dataframe\", \"pyspark.pandas.frame\", \"pyspark.sql.connect.dataframe\"]\n    if (type(df).__module__ in __backend_agg_df_modules and type(df).__name__ == 'DataFrame') or isinstance(df, list):\n        __backend_agg_dfs.append(df)\n\ndisplay = __backend_agg_display_new\n\ndef __backend_agg_user_code_fn():\n    import base64\n    exec(base64.standard_b64decode(\"ZnJvbSBweXNwYXJrLnNxbC5mdW5jdGlvbnMgaW1wb3J0IGNvbCwgYXZnLCBjb3VudAoKIyAxLiBDb3VudCBzdHVkZW50cyBieSBnZW5kZXIKZGZfZ2VuZGVyID0gZGYuZ3JvdXBCeSgiZ2VuZGVyIikuY291bnQoKQpkaXNwbGF5KGRmX2dlbmRlcikK\").decode())\n\ntry:\n    # run user code\n    __backend_agg_user_code_fn()\n\n    #reset display function\n    display = __backend_agg_display_orig\n\n    if len(__backend_agg_dfs) > 0:\n        # create a temp view\n        if type(__backend_agg_dfs[0]).__module__ == \"databricks.koalas.frame\":\n            # koalas dataframe\n            __backend_agg_dfs[0].to_spark().createOrReplaceTempView(\"DatabricksView2f3b0f3\")\n        elif type(__backend_agg_dfs[0]).__module__ == \"pandas.core.frame\" or isinstance(__backend_agg_dfs[0], list):\n            # pandas dataframe\n            spark.createDataFrame(__backend_agg_dfs[0]).createOrReplaceTempView(\"DatabricksView2f3b0f3\")\n        else:\n            __backend_agg_dfs[0].createOrReplaceTempView(\"DatabricksView2f3b0f3\")\n        #run backend agg\n        display(spark.sql(\"\"\"WITH q AS (select * from DatabricksView2f3b0f3) SELECT `gender`,SUM(`count`) `column_a2b6b3cc137` FROM q GROUP BY `gender`\"\"\"))\n    else:\n        displayHTML(\"dataframe no longer exists. If you're using dataframe.display(), use display(dataframe) instead.\")\n\n\nfinally:\n    spark.sql(\"drop view if exists DatabricksView2f3b0f3\")\n    display = __backend_agg_display_orig\n    del __backend_agg_display_new\n    del __backend_agg_display_orig\n    del __backend_agg_dfs\n    del __backend_agg_user_code_fn\n\n",
       "commandTitle": "Visualization 1",
       "commandType": "auto",
       "commandVersion": 0,
       "commentThread": [],
       "commentsVisible": false,
       "contentSha256Hex": null,
       "customPlotOptions": {
        "redashChart": [
         {
          "key": "type",
          "value": "CHART"
         },
         {
          "key": "options",
          "value": {
           "alignYAxesAtZero": true,
           "coefficient": 1,
           "columnConfigurationMap": {
            "x": {
             "column": "gender",
             "id": "column_a2b6b3cc136"
            },
            "y": [
             {
              "column": "count",
              "id": "column_a2b6b3cc137",
              "transform": "SUM"
             }
            ]
           },
           "dateTimeFormat": "DD/MM/YYYY HH:mm",
           "direction": {
            "type": "counterclockwise"
           },
           "error_y": {
            "type": "data",
            "visible": true
           },
           "globalSeriesType": "pie",
           "legend": {
            "traceorder": "normal"
           },
           "missingValuesAsZero": true,
           "numberFormat": "0,0.[00000]",
           "percentFormat": "0[.]00%",
           "series": {
            "error_y": {
             "type": "data",
             "visible": true
            },
            "stacking": null
           },
           "seriesOptions": {
            "column_a2b6b3cc137": {
             "name": "count",
             "type": "pie",
             "yAxis": 0
            }
           },
           "showDataLabels": true,
           "sizemode": "diameter",
           "sortX": true,
           "sortY": true,
           "swappedAxes": false,
           "textFormat": "",
           "useAggregationsUi": true,
           "valuesOptions": {},
           "version": 2,
           "xAxis": {
            "labels": {
             "enabled": true
            },
            "type": "-"
           },
           "yAxis": [
            {
             "type": "-"
            },
            {
             "opposite": true,
             "type": "-"
            }
           ]
          }
         }
        ]
       },
       "datasetPreviewNameToCmdIdMap": {},
       "diffDeletes": [],
       "diffInserts": [],
       "displayType": "redashChart",
       "error": null,
       "errorDetails": null,
       "errorSummary": null,
       "errorTraceType": null,
       "finishTime": 0,
       "globalVars": {},
       "guid": "",
       "height": "auto",
       "hideCommandCode": false,
       "hideCommandResult": false,
       "iPythonMetadata": null,
       "inputWidgets": {},
       "isLockedInExamMode": false,
       "latestUser": "a user",
       "latestUserId": null,
       "listResultMetadata": null,
       "metadata": {},
       "nuid": "87dceab1-4e0c-479e-8125-d382578c2524",
       "origId": 0,
       "parentHierarchy": [],
       "pivotAggregation": null,
       "pivotColumns": null,
       "position": 19.0,
       "resultDbfsErrorMessage": null,
       "resultDbfsStatus": "INLINED_IN_TREE",
       "results": null,
       "showCommandTitle": false,
       "startTime": 0,
       "state": "input",
       "streamStates": {},
       "subcommandOptions": {
        "queryPlan": {
         "groups": [
          {
           "column": "gender",
           "type": "column"
          }
         ],
         "selects": [
          {
           "column": "gender",
           "type": "column"
          },
          {
           "alias": "column_a2b6b3cc137",
           "args": [
            {
             "column": "count",
             "type": "column"
            }
           ],
           "function": "SUM",
           "type": "function"
          }
         ]
        }
       },
       "submitTime": 0,
       "subtype": "tableResultSubCmd.visualization",
       "tableResultIndex": 0,
       "tableResultSettingsMap": {},
       "useConsistentColors": false,
       "version": "CommandV1",
       "width": "auto",
       "workflows": [],
       "xColumns": null,
       "yColumns": null
      }
     },
     "output_type": "display_data"
    }
   ],
   "source": [
    "from pyspark.sql.functions import col, avg, count\n",
    "\n",
    "# 1. Count students by gender\n",
    "df_gender = df.groupBy(\"gender\").count()\n",
    "display(df_gender)\n"
   ]
  },
  {
   "cell_type": "code",
   "execution_count": 0,
   "metadata": {
    "application/vnd.databricks.v1+cell": {
     "cellMetadata": {
      "byteLimit": 2048000,
      "rowLimit": 10000
     },
     "inputWidgets": {},
     "nuid": "d19668a8-f9e9-4e1f-be9d-b04e125240aa",
     "showTitle": false,
     "tableResultSettingsMap": {},
     "title": ""
    }
   },
   "outputs": [
    {
     "output_type": "display_data",
     "data": {
      "text/html": [
       "<style scoped>\n",
       "  .table-result-container {\n",
       "    max-height: 300px;\n",
       "    overflow: auto;\n",
       "  }\n",
       "  table, th, td {\n",
       "    border: 1px solid black;\n",
       "    border-collapse: collapse;\n",
       "  }\n",
       "  th, td {\n",
       "    padding: 5px;\n",
       "  }\n",
       "  th {\n",
       "    text-align: left;\n",
       "  }\n",
       "</style><div class='table-result-container'><table class='table-result'><thead style='background-color: white'><tr><th>degree_t</th><th>avg_salary</th></tr></thead><tbody><tr><td>Comm&Mgmt</td><td>196000.0</td></tr><tr><td>Sci&Tech</td><td>218627.11864406778</td></tr><tr><td>Others</td><td>127454.54545454546</td></tr></tbody></table></div>"
      ]
     },
     "metadata": {
      "application/vnd.databricks.v1+output": {
       "addedWidgets": {},
       "aggData": [],
       "aggError": "",
       "aggOverflow": false,
       "aggSchema": [],
       "aggSeriesLimitReached": false,
       "aggType": "",
       "arguments": {},
       "columnCustomDisplayInfos": {},
       "data": [
        [
         "Comm&Mgmt",
         196000.0
        ],
        [
         "Sci&Tech",
         218627.11864406778
        ],
        [
         "Others",
         127454.54545454546
        ]
       ],
       "datasetInfos": [],
       "dbfsResultPath": null,
       "isJsonSchema": true,
       "metadata": {},
       "overflow": false,
       "plotOptions": {
        "customPlotOptions": {},
        "displayType": "table",
        "pivotAggregation": null,
        "pivotColumns": null,
        "xColumns": null,
        "yColumns": null
       },
       "removedWidgets": [],
       "schema": [
        {
         "metadata": "{}",
         "name": "degree_t",
         "type": "\"string\""
        },
        {
         "metadata": "{}",
         "name": "avg_salary",
         "type": "\"double\""
        }
       ],
       "type": "table"
      }
     },
     "output_type": "display_data"
    },
    {
     "output_type": "display_data",
     "data": {
      "text/plain": [
       "Databricks visualization. Run in Databricks to view."
      ]
     },
     "metadata": {
      "application/vnd.databricks.v1.subcommand+json": {
       "baseErrorDetails": null,
       "bindings": {},
       "collapsed": false,
       "command": "%python\n__backend_agg_display_orig = display\n__backend_agg_dfs = []\ndef __backend_agg_display_new(df):\n    __backend_agg_df_modules = [\"pandas.core.frame\", \"databricks.koalas.frame\", \"pyspark.sql.dataframe\", \"pyspark.pandas.frame\", \"pyspark.sql.connect.dataframe\"]\n    if (type(df).__module__ in __backend_agg_df_modules and type(df).__name__ == 'DataFrame') or isinstance(df, list):\n        __backend_agg_dfs.append(df)\n\ndisplay = __backend_agg_display_new\n\ndef __backend_agg_user_code_fn():\n    import base64\n    exec(base64.standard_b64decode(\"IyAyLiBBdmVyYWdlIHNhbGFyeSBieSBkZWdyZWUKZGZfc2FsYXJ5ID0gZGYuZ3JvdXBCeSgiZGVncmVlX3QiKS5hZ2coYXZnKCJzYWxhcnkiKS5hbGlhcygiYXZnX3NhbGFyeSIpKQpkaXNwbGF5KGRmX3NhbGFyeSkK\").decode())\n\ntry:\n    # run user code\n    __backend_agg_user_code_fn()\n\n    #reset display function\n    display = __backend_agg_display_orig\n\n    if len(__backend_agg_dfs) > 0:\n        # create a temp view\n        if type(__backend_agg_dfs[0]).__module__ == \"databricks.koalas.frame\":\n            # koalas dataframe\n            __backend_agg_dfs[0].to_spark().createOrReplaceTempView(\"DatabricksView38737df\")\n        elif type(__backend_agg_dfs[0]).__module__ == \"pandas.core.frame\" or isinstance(__backend_agg_dfs[0], list):\n            # pandas dataframe\n            spark.createDataFrame(__backend_agg_dfs[0]).createOrReplaceTempView(\"DatabricksView38737df\")\n        else:\n            __backend_agg_dfs[0].createOrReplaceTempView(\"DatabricksView38737df\")\n        #run backend agg\n        display(spark.sql(\"\"\"WITH q AS (select * from DatabricksView38737df) SELECT `degree_t`,COUNT(`avg_salary`) `column_a2b6b3cc145` FROM q GROUP BY `degree_t`\"\"\"))\n    else:\n        displayHTML(\"dataframe no longer exists. If you're using dataframe.display(), use display(dataframe) instead.\")\n\n\nfinally:\n    spark.sql(\"drop view if exists DatabricksView38737df\")\n    display = __backend_agg_display_orig\n    del __backend_agg_display_new\n    del __backend_agg_display_orig\n    del __backend_agg_dfs\n    del __backend_agg_user_code_fn\n\n",
       "commandTitle": "Visualization 1",
       "commandType": "auto",
       "commandVersion": 0,
       "commentThread": [],
       "commentsVisible": false,
       "contentSha256Hex": null,
       "customPlotOptions": {
        "redashChart": [
         {
          "key": "type",
          "value": "CHART"
         },
         {
          "key": "options",
          "value": {
           "alignYAxesAtZero": true,
           "coefficient": 1,
           "columnConfigurationMap": {
            "x": {
             "column": "degree_t",
             "id": "column_a2b6b3cc149"
            },
            "y": [
             {
              "column": "avg_salary",
              "id": "column_a2b6b3cc145",
              "transform": "COUNT"
             }
            ]
           },
           "dateTimeFormat": "DD/MM/YYYY HH:mm",
           "direction": {
            "type": "counterclockwise"
           },
           "error_y": {
            "type": "data",
            "visible": true
           },
           "globalSeriesType": "column",
           "isAggregationOn": true,
           "legend": {
            "traceorder": "normal"
           },
           "missingValuesAsZero": true,
           "numberFormat": "0,0.[00000]",
           "percentFormat": "0[.]00%",
           "series": {
            "error_y": {
             "type": "data",
             "visible": true
            },
            "stacking": null
           },
           "seriesOptions": {
            "avg_salary": {
             "name": "avg_salary",
             "type": "column",
             "yAxis": 0
            },
            "column_a2b6b3cc140": {
             "name": "avg_salary",
             "type": "column",
             "yAxis": 0
            },
            "column_a2b6b3cc145": {
             "color": "#BF7080",
             "name": "avg_salary",
             "type": "column",
             "yAxis": 0
            },
            "degree_t": {
             "type": "column",
             "yAxis": 0
            }
           },
           "showDataLabels": false,
           "sizemode": "diameter",
           "sortX": true,
           "sortY": true,
           "swappedAxes": false,
           "textFormat": "",
           "useAggregationsUi": true,
           "valuesOptions": {},
           "version": 2,
           "xAxis": {
            "labels": {
             "enabled": true
            },
            "type": "-"
           },
           "yAxis": [
            {
             "type": "-"
            },
            {
             "opposite": true,
             "type": "-"
            }
           ]
          }
         }
        ]
       },
       "datasetPreviewNameToCmdIdMap": {},
       "diffDeletes": [],
       "diffInserts": [],
       "displayType": "redashChart",
       "error": null,
       "errorDetails": null,
       "errorSummary": null,
       "errorTraceType": null,
       "finishTime": 0,
       "globalVars": {},
       "guid": "",
       "height": "auto",
       "hideCommandCode": false,
       "hideCommandResult": false,
       "iPythonMetadata": null,
       "inputWidgets": {},
       "isLockedInExamMode": false,
       "latestUser": "a user",
       "latestUserId": null,
       "listResultMetadata": null,
       "metadata": {},
       "nuid": "5895a2f3-29ba-4091-becd-9d5c2d7c73b7",
       "origId": 0,
       "parentHierarchy": [],
       "pivotAggregation": null,
       "pivotColumns": null,
       "position": 19.5,
       "resultDbfsErrorMessage": null,
       "resultDbfsStatus": "INLINED_IN_TREE",
       "results": null,
       "showCommandTitle": false,
       "startTime": 0,
       "state": "input",
       "streamStates": {},
       "subcommandOptions": {
        "queryPlan": {
         "groups": [
          {
           "column": "degree_t",
           "type": "column"
          }
         ],
         "selects": [
          {
           "column": "degree_t",
           "type": "column"
          },
          {
           "alias": "column_a2b6b3cc145",
           "args": [
            {
             "column": "avg_salary",
             "type": "column"
            }
           ],
           "function": "COUNT",
           "type": "function"
          }
         ]
        }
       },
       "submitTime": 0,
       "subtype": "tableResultSubCmd.visualization",
       "tableResultIndex": 0,
       "tableResultSettingsMap": {},
       "useConsistentColors": false,
       "version": "CommandV1",
       "width": "auto",
       "workflows": [],
       "xColumns": null,
       "yColumns": null
      }
     },
     "output_type": "display_data"
    }
   ],
   "source": [
    "# 2. Average salary by degree\n",
    "df_salary = df.groupBy(\"degree_t\").agg(avg(\"salary\").alias(\"avg_salary\"))\n",
    "display(df_salary)\n"
   ]
  },
  {
   "cell_type": "code",
   "execution_count": 0,
   "metadata": {
    "application/vnd.databricks.v1+cell": {
     "cellMetadata": {
      "byteLimit": 2048000,
      "rowLimit": 10000
     },
     "inputWidgets": {},
     "nuid": "fdb6d749-f690-40f8-ba04-184d87faede0",
     "showTitle": false,
     "tableResultSettingsMap": {},
     "title": ""
    }
   },
   "outputs": [
    {
     "output_type": "display_data",
     "data": {
      "text/html": [
       "<style scoped>\n",
       "  .table-result-container {\n",
       "    max-height: 300px;\n",
       "    overflow: auto;\n",
       "  }\n",
       "  table, th, td {\n",
       "    border: 1px solid black;\n",
       "    border-collapse: collapse;\n",
       "  }\n",
       "  th, td {\n",
       "    padding: 5px;\n",
       "  }\n",
       "  th {\n",
       "    text-align: left;\n",
       "  }\n",
       "</style><div class='table-result-container'><table class='table-result'><thead style='background-color: white'><tr><th>status</th><th>count</th></tr></thead><tbody><tr><td>Not Placed</td><td>67</td></tr><tr><td>Placed</td><td>148</td></tr></tbody></table></div>"
      ]
     },
     "metadata": {
      "application/vnd.databricks.v1+output": {
       "addedWidgets": {},
       "aggData": [],
       "aggError": "",
       "aggOverflow": false,
       "aggSchema": [],
       "aggSeriesLimitReached": false,
       "aggType": "",
       "arguments": {},
       "columnCustomDisplayInfos": {},
       "data": [
        [
         "Not Placed",
         67
        ],
        [
         "Placed",
         148
        ]
       ],
       "datasetInfos": [],
       "dbfsResultPath": null,
       "isJsonSchema": true,
       "metadata": {},
       "overflow": false,
       "plotOptions": {
        "customPlotOptions": {},
        "displayType": "table",
        "pivotAggregation": null,
        "pivotColumns": null,
        "xColumns": null,
        "yColumns": null
       },
       "removedWidgets": [],
       "schema": [
        {
         "metadata": "{}",
         "name": "status",
         "type": "\"string\""
        },
        {
         "metadata": "{}",
         "name": "count",
         "type": "\"long\""
        }
       ],
       "type": "table"
      }
     },
     "output_type": "display_data"
    },
    {
     "output_type": "display_data",
     "data": {
      "text/plain": [
       "Databricks visualization. Run in Databricks to view."
      ]
     },
     "metadata": {
      "application/vnd.databricks.v1.subcommand+json": {
       "baseErrorDetails": null,
       "bindings": {},
       "collapsed": false,
       "command": "%python\n__backend_agg_display_orig = display\n__backend_agg_dfs = []\ndef __backend_agg_display_new(df):\n    __backend_agg_df_modules = [\"pandas.core.frame\", \"databricks.koalas.frame\", \"pyspark.sql.dataframe\", \"pyspark.pandas.frame\", \"pyspark.sql.connect.dataframe\"]\n    if (type(df).__module__ in __backend_agg_df_modules and type(df).__name__ == 'DataFrame') or isinstance(df, list):\n        __backend_agg_dfs.append(df)\n\ndisplay = __backend_agg_display_new\n\ndef __backend_agg_user_code_fn():\n    import base64\n    exec(base64.standard_b64decode(\"IyAzLiBDb3VudCBwbGFjZWQgdnMgbm90IHBsYWNlZApkZl9wbGFjZWQgPSBkZi5ncm91cEJ5KCJzdGF0dXMiKS5jb3VudCgpCmRpc3BsYXkoZGZfcGxhY2VkKQoK\").decode())\n\ntry:\n    # run user code\n    __backend_agg_user_code_fn()\n\n    #reset display function\n    display = __backend_agg_display_orig\n\n    if len(__backend_agg_dfs) > 0:\n        # create a temp view\n        if type(__backend_agg_dfs[0]).__module__ == \"databricks.koalas.frame\":\n            # koalas dataframe\n            __backend_agg_dfs[0].to_spark().createOrReplaceTempView(\"DatabricksView6e83d04\")\n        elif type(__backend_agg_dfs[0]).__module__ == \"pandas.core.frame\" or isinstance(__backend_agg_dfs[0], list):\n            # pandas dataframe\n            spark.createDataFrame(__backend_agg_dfs[0]).createOrReplaceTempView(\"DatabricksView6e83d04\")\n        else:\n            __backend_agg_dfs[0].createOrReplaceTempView(\"DatabricksView6e83d04\")\n        #run backend agg\n        display(spark.sql(\"\"\"WITH q AS (select * from DatabricksView6e83d04) SELECT `status`,SUM(`count`) `column_a2b6b3cc155` FROM q GROUP BY `status`\"\"\"))\n    else:\n        displayHTML(\"dataframe no longer exists. If you're using dataframe.display(), use display(dataframe) instead.\")\n\n\nfinally:\n    spark.sql(\"drop view if exists DatabricksView6e83d04\")\n    display = __backend_agg_display_orig\n    del __backend_agg_display_new\n    del __backend_agg_display_orig\n    del __backend_agg_dfs\n    del __backend_agg_user_code_fn\n\n",
       "commandTitle": "Visualization 1",
       "commandType": "auto",
       "commandVersion": 0,
       "commentThread": [],
       "commentsVisible": false,
       "contentSha256Hex": null,
       "customPlotOptions": {
        "redashChart": [
         {
          "key": "type",
          "value": "CHART"
         },
         {
          "key": "options",
          "value": {
           "alignYAxesAtZero": true,
           "coefficient": 1,
           "columnConfigurationMap": {
            "x": {
             "column": "status",
             "id": "column_a2b6b3cc154"
            },
            "y": [
             {
              "column": "count",
              "id": "column_a2b6b3cc155",
              "transform": "SUM"
             }
            ]
           },
           "dateTimeFormat": "DD/MM/YYYY HH:mm",
           "direction": {
            "type": "counterclockwise"
           },
           "error_y": {
            "type": "data",
            "visible": true
           },
           "globalSeriesType": "column",
           "legend": {
            "traceorder": "normal"
           },
           "missingValuesAsZero": true,
           "numberFormat": "0,0.[00000]",
           "percentFormat": "0[.]00%",
           "series": {
            "error_y": {
             "type": "data",
             "visible": true
            },
            "stacking": null
           },
           "seriesOptions": {
            "column_a2b6b3cc155": {
             "name": "count",
             "yAxis": 0
            }
           },
           "showDataLabels": false,
           "sizemode": "diameter",
           "sortX": true,
           "sortY": true,
           "swappedAxes": true,
           "textFormat": "",
           "useAggregationsUi": true,
           "valuesOptions": {},
           "version": 2,
           "xAxis": {
            "labels": {
             "enabled": true
            },
            "type": "-"
           },
           "yAxis": [
            {
             "type": "-"
            },
            {
             "opposite": true,
             "type": "-"
            }
           ]
          }
         }
        ]
       },
       "datasetPreviewNameToCmdIdMap": {},
       "diffDeletes": [],
       "diffInserts": [],
       "displayType": "redashChart",
       "error": null,
       "errorDetails": null,
       "errorSummary": null,
       "errorTraceType": null,
       "finishTime": 0,
       "globalVars": {},
       "guid": "",
       "height": "auto",
       "hideCommandCode": false,
       "hideCommandResult": false,
       "iPythonMetadata": null,
       "inputWidgets": {},
       "isLockedInExamMode": false,
       "latestUser": "a user",
       "latestUserId": null,
       "listResultMetadata": null,
       "metadata": {},
       "nuid": "761263e3-579f-474d-8b4f-c186d614f144",
       "origId": 0,
       "parentHierarchy": [],
       "pivotAggregation": null,
       "pivotColumns": null,
       "position": 19.75,
       "resultDbfsErrorMessage": null,
       "resultDbfsStatus": "INLINED_IN_TREE",
       "results": null,
       "showCommandTitle": false,
       "startTime": 0,
       "state": "input",
       "streamStates": {},
       "subcommandOptions": {
        "queryPlan": {
         "groups": [
          {
           "column": "status",
           "type": "column"
          }
         ],
         "selects": [
          {
           "column": "status",
           "type": "column"
          },
          {
           "alias": "column_a2b6b3cc155",
           "args": [
            {
             "column": "count",
             "type": "column"
            }
           ],
           "function": "SUM",
           "type": "function"
          }
         ]
        }
       },
       "submitTime": 0,
       "subtype": "tableResultSubCmd.visualization",
       "tableResultIndex": 0,
       "tableResultSettingsMap": {},
       "useConsistentColors": false,
       "version": "CommandV1",
       "width": "auto",
       "workflows": [],
       "xColumns": null,
       "yColumns": null
      }
     },
     "output_type": "display_data"
    }
   ],
   "source": [
    "# 3. Count placed vs not placed\n",
    "df_placed = df.groupBy(\"status\").count()\n",
    "display(df_placed)\n",
    "\n"
   ]
  },
  {
   "cell_type": "code",
   "execution_count": 0,
   "metadata": {
    "application/vnd.databricks.v1+cell": {
     "cellMetadata": {
      "byteLimit": 2048000,
      "rowLimit": 10000
     },
     "inputWidgets": {},
     "nuid": "07cc7e77-58a7-411d-bd08-e6e2c970db0b",
     "showTitle": false,
     "tableResultSettingsMap": {},
     "title": ""
    }
   },
   "outputs": [
    {
     "output_type": "display_data",
     "data": {
      "text/html": [
       "<style scoped>\n",
       "  .table-result-container {\n",
       "    max-height: 300px;\n",
       "    overflow: auto;\n",
       "  }\n",
       "  table, th, td {\n",
       "    border: 1px solid black;\n",
       "    border-collapse: collapse;\n",
       "  }\n",
       "  th, td {\n",
       "    padding: 5px;\n",
       "  }\n",
       "  th {\n",
       "    text-align: left;\n",
       "  }\n",
       "</style><div class='table-result-container'><table class='table-result'><thead style='background-color: white'><tr><th>sl_no</th><th>gender</th><th>ssc_p</th><th>ssc_b</th><th>hsc_p</th><th>hsc_b</th><th>hsc_s</th><th>degree_p</th><th>degree_t</th><th>workex</th><th>etest_p</th><th>specialisation</th><th>mba_p</th><th>status</th><th>salary</th></tr></thead><tbody><tr><td>22</td><td>F</td><td>79.0</td><td>Others</td><td>76.0</td><td>Others</td><td>Commerce</td><td>85.0</td><td>Comm&Mgmt</td><td>No</td><td>95.0</td><td>Mkt&Fin</td><td>69.06</td><td>Placed</td><td>393000</td></tr><tr><td>25</td><td>M</td><td>76.5</td><td>Others</td><td>97.7</td><td>Others</td><td>Science</td><td>78.86</td><td>Sci&Tech</td><td>No</td><td>97.4</td><td>Mkt&Fin</td><td>74.01</td><td>Placed</td><td>360000</td></tr><tr><td>23</td><td>F</td><td>69.8</td><td>Others</td><td>60.8</td><td>Others</td><td>Science</td><td>72.23</td><td>Sci&Tech</td><td>No</td><td>55.53</td><td>Mkt&HR</td><td>68.81</td><td>Placed</td><td>360000</td></tr><tr><td>29</td><td>M</td><td>76.76</td><td>Others</td><td>76.5</td><td>Others</td><td>Commerce</td><td>67.5</td><td>Comm&Mgmt</td><td>Yes</td><td>73.35</td><td>Mkt&Fin</td><td>64.15</td><td>Placed</td><td>350000</td></tr><tr><td>5</td><td>M</td><td>85.8</td><td>Central</td><td>73.6</td><td>Central</td><td>Commerce</td><td>73.3</td><td>Comm&Mgmt</td><td>No</td><td>96.8</td><td>Mkt&Fin</td><td>55.5</td><td>Placed</td><td>425000</td></tr></tbody></table></div>"
      ]
     },
     "metadata": {
      "application/vnd.databricks.v1+output": {
       "addedWidgets": {},
       "aggData": [],
       "aggError": "",
       "aggOverflow": false,
       "aggSchema": [],
       "aggSeriesLimitReached": false,
       "aggType": "",
       "arguments": {},
       "columnCustomDisplayInfos": {},
       "data": [
        [
         22,
         "F",
         79.0,
         "Others",
         76.0,
         "Others",
         "Commerce",
         85.0,
         "Comm&Mgmt",
         "No",
         95.0,
         "Mkt&Fin",
         69.06,
         "Placed",
         393000
        ],
        [
         25,
         "M",
         76.5,
         "Others",
         97.7,
         "Others",
         "Science",
         78.86,
         "Sci&Tech",
         "No",
         97.4,
         "Mkt&Fin",
         74.01,
         "Placed",
         360000
        ],
        [
         23,
         "F",
         69.8,
         "Others",
         60.8,
         "Others",
         "Science",
         72.23,
         "Sci&Tech",
         "No",
         55.53,
         "Mkt&HR",
         68.81,
         "Placed",
         360000
        ],
        [
         29,
         "M",
         76.76,
         "Others",
         76.5,
         "Others",
         "Commerce",
         67.5,
         "Comm&Mgmt",
         "Yes",
         73.35,
         "Mkt&Fin",
         64.15,
         "Placed",
         350000
        ],
        [
         5,
         "M",
         85.8,
         "Central",
         73.6,
         "Central",
         "Commerce",
         73.3,
         "Comm&Mgmt",
         "No",
         96.8,
         "Mkt&Fin",
         55.5,
         "Placed",
         425000
        ]
       ],
       "datasetInfos": [],
       "dbfsResultPath": null,
       "isJsonSchema": true,
       "metadata": {},
       "overflow": false,
       "plotOptions": {
        "customPlotOptions": {},
        "displayType": "table",
        "pivotAggregation": null,
        "pivotColumns": null,
        "xColumns": null,
        "yColumns": null
       },
       "removedWidgets": [],
       "schema": [
        {
         "metadata": "{}",
         "name": "sl_no",
         "type": "\"integer\""
        },
        {
         "metadata": "{}",
         "name": "gender",
         "type": "\"string\""
        },
        {
         "metadata": "{}",
         "name": "ssc_p",
         "type": "\"double\""
        },
        {
         "metadata": "{}",
         "name": "ssc_b",
         "type": "\"string\""
        },
        {
         "metadata": "{}",
         "name": "hsc_p",
         "type": "\"double\""
        },
        {
         "metadata": "{}",
         "name": "hsc_b",
         "type": "\"string\""
        },
        {
         "metadata": "{}",
         "name": "hsc_s",
         "type": "\"string\""
        },
        {
         "metadata": "{}",
         "name": "degree_p",
         "type": "\"double\""
        },
        {
         "metadata": "{}",
         "name": "degree_t",
         "type": "\"string\""
        },
        {
         "metadata": "{}",
         "name": "workex",
         "type": "\"string\""
        },
        {
         "metadata": "{}",
         "name": "etest_p",
         "type": "\"double\""
        },
        {
         "metadata": "{}",
         "name": "specialisation",
         "type": "\"string\""
        },
        {
         "metadata": "{}",
         "name": "mba_p",
         "type": "\"double\""
        },
        {
         "metadata": "{}",
         "name": "status",
         "type": "\"string\""
        },
        {
         "metadata": "{}",
         "name": "salary",
         "type": "\"integer\""
        }
       ],
       "type": "table"
      }
     },
     "output_type": "display_data"
    },
    {
     "output_type": "display_data",
     "data": {
      "text/plain": [
       "Databricks visualization. Run in Databricks to view."
      ]
     },
     "metadata": {
      "application/vnd.databricks.v1.subcommand+json": {
       "baseErrorDetails": null,
       "bindings": {},
       "collapsed": false,
       "command": "%python\n__backend_agg_display_orig = display\n__backend_agg_dfs = []\ndef __backend_agg_display_new(df):\n    __backend_agg_df_modules = [\"pandas.core.frame\", \"databricks.koalas.frame\", \"pyspark.sql.dataframe\", \"pyspark.pandas.frame\", \"pyspark.sql.connect.dataframe\"]\n    if (type(df).__module__ in __backend_agg_df_modules and type(df).__name__ == 'DataFrame') or isinstance(df, list):\n        __backend_agg_dfs.append(df)\n\ndisplay = __backend_agg_display_new\n\ndef __backend_agg_user_code_fn():\n    import base64\n    exec(base64.standard_b64decode(\"IyA0LiBGaWx0ZXIgc3R1ZGVudHMgd2l0aCBzYWxhcnkgPiAzMDAwMDAKZGZfaGlnaF9zYWxhcnkgPSBkZi5maWx0ZXIoY29sKCJzYWxhcnkiKSA+IDMwMDAwMCkKIyBTaG93IGZpcnN0IDUgcm93cwpkaXNwbGF5KGRmX2hpZ2hfc2FsYXJ5LmxpbWl0KDUpKQo=\").decode())\n\ntry:\n    # run user code\n    __backend_agg_user_code_fn()\n\n    #reset display function\n    display = __backend_agg_display_orig\n\n    if len(__backend_agg_dfs) > 0:\n        # create a temp view\n        if type(__backend_agg_dfs[0]).__module__ == \"databricks.koalas.frame\":\n            # koalas dataframe\n            __backend_agg_dfs[0].to_spark().createOrReplaceTempView(\"DatabricksView6a23ab6\")\n        elif type(__backend_agg_dfs[0]).__module__ == \"pandas.core.frame\" or isinstance(__backend_agg_dfs[0], list):\n            # pandas dataframe\n            spark.createDataFrame(__backend_agg_dfs[0]).createOrReplaceTempView(\"DatabricksView6a23ab6\")\n        else:\n            __backend_agg_dfs[0].createOrReplaceTempView(\"DatabricksView6a23ab6\")\n        #run backend agg\n        display(spark.sql(\"\"\"WITH q AS (select * from DatabricksView6a23ab6) ,min_max AS (SELECT `salary`,(SELECT MAX(`salary`) FROM q) `target_column_max`,(SELECT MIN(`salary`) FROM q) `target_column_min` FROM q) ,histogram_meta AS (SELECT `salary`,`target_column_min` `min_value`,IF(`target_column_max` = `target_column_min`,`target_column_max` + 1,`target_column_max`) `max_value`,(`target_column_max` - `target_column_min`) / 5 `step` FROM min_max) SELECT IF(ISNULL(`salary`),NULL,LEAST(WIDTH_BUCKET(`salary`,`min_value`,`max_value`,5),5)) `salary_BIN`,FIRST(`min_value` + ((IF(ISNULL(`salary`),NULL,LEAST(WIDTH_BUCKET(`salary`,`min_value`,`max_value`,5),5)) - 1) * `step`)) `salary_BIN_LOWER_BOUND`,FIRST(`step`) `salary_BIN_STEP`,COUNT(`salary`) `COUNT` FROM histogram_meta GROUP BY `salary_BIN`\"\"\"))\n    else:\n        displayHTML(\"dataframe no longer exists. If you're using dataframe.display(), use display(dataframe) instead.\")\n\n\nfinally:\n    spark.sql(\"drop view if exists DatabricksView6a23ab6\")\n    display = __backend_agg_display_orig\n    del __backend_agg_display_new\n    del __backend_agg_display_orig\n    del __backend_agg_dfs\n    del __backend_agg_user_code_fn\n\n",
       "commandTitle": "Visualization 1",
       "commandType": "auto",
       "commandVersion": 0,
       "commentThread": [],
       "commentsVisible": false,
       "contentSha256Hex": null,
       "customPlotOptions": {
        "redashChart": [
         {
          "key": "type",
          "value": "CHART"
         },
         {
          "key": "options",
          "value": {
           "alignYAxesAtZero": true,
           "coefficient": 1,
           "columnConfigurationMap": {
            "x": {
             "column": "salary",
             "id": "column_a2b6b3cc182"
            }
           },
           "dateTimeFormat": "DD/MM/YYYY HH:mm",
           "direction": {
            "type": "counterclockwise"
           },
           "error_y": {
            "type": "data",
            "visible": true
           },
           "globalSeriesType": "histogram",
           "isAggregationOn": true,
           "legend": {
            "traceorder": "normal"
           },
           "missingValuesAsZero": true,
           "numBins": 5,
           "numberFormat": "0,0.[00000]",
           "percentFormat": "0[.]00%",
           "series": {
            "error_y": {
             "type": "data",
             "visible": true
            },
            "stacking": null
           },
           "seriesOptions": {
            "COUNT": {
             "color": "#FF3621"
            },
            "degree_p": {
             "type": "histogram",
             "yAxis": 0
            },
            "degree_t": {
             "type": "histogram",
             "yAxis": 0
            },
            "hsc_b": {
             "type": "histogram",
             "yAxis": 0
            },
            "hsc_s": {
             "type": "histogram",
             "yAxis": 0
            },
            "ssc_p": {
             "type": "histogram",
             "yAxis": 0
            },
            "workex": {
             "type": "histogram",
             "yAxis": 0
            }
           },
           "showDataLabels": false,
           "sizemode": "diameter",
           "sortX": true,
           "sortY": true,
           "swappedAxes": false,
           "textFormat": "",
           "useAggregationsUi": true,
           "valuesOptions": {},
           "version": 2,
           "xAxis": {
            "labels": {
             "enabled": true
            },
            "type": "-"
           },
           "yAxis": [
            {
             "type": "-"
            },
            {
             "opposite": true,
             "type": "-"
            }
           ]
          }
         }
        ]
       },
       "datasetPreviewNameToCmdIdMap": {},
       "diffDeletes": [],
       "diffInserts": [],
       "displayType": "redashChart",
       "error": null,
       "errorDetails": null,
       "errorSummary": null,
       "errorTraceType": null,
       "finishTime": 0,
       "globalVars": {},
       "guid": "",
       "height": "auto",
       "hideCommandCode": false,
       "hideCommandResult": false,
       "iPythonMetadata": null,
       "inputWidgets": {},
       "isLockedInExamMode": false,
       "latestUser": "a user",
       "latestUserId": null,
       "listResultMetadata": null,
       "metadata": {},
       "nuid": "bcea6d41-6cbd-466e-ba96-0e7788603309",
       "origId": 0,
       "parentHierarchy": [],
       "pivotAggregation": null,
       "pivotColumns": null,
       "position": 19.875,
       "resultDbfsErrorMessage": null,
       "resultDbfsStatus": "INLINED_IN_TREE",
       "results": null,
       "showCommandTitle": false,
       "startTime": 0,
       "state": "input",
       "streamStates": {},
       "subcommandOptions": {
        "queryPlan": {
         "groups": [
          {
           "column": "salary_BIN",
           "type": "column"
          }
         ],
         "selects": [
          {
           "alias": "salary_BIN",
           "args": [
            {
             "column": "salary",
             "type": "column"
            },
            {
             "number": 5,
             "type": "number"
            }
           ],
           "function": "BIN",
           "type": "function"
          },
          {
           "alias": "salary_BIN_LOWER_BOUND",
           "args": [
            {
             "column": "salary",
             "type": "column"
            },
            {
             "number": 5,
             "type": "number"
            }
           ],
           "function": "BIN_LOWER_BOUND",
           "type": "function"
          },
          {
           "alias": "salary_BIN_STEP",
           "args": [
            {
             "column": "salary",
             "type": "column"
            },
            {
             "number": 5,
             "type": "number"
            }
           ],
           "function": "BIN_STEP",
           "type": "function"
          },
          {
           "alias": "COUNT",
           "args": [
            {
             "column": "salary",
             "type": "column"
            }
           ],
           "function": "COUNT",
           "type": "function"
          }
         ]
        }
       },
       "submitTime": 0,
       "subtype": "tableResultSubCmd.visualization",
       "tableResultIndex": 0,
       "tableResultSettingsMap": {},
       "useConsistentColors": false,
       "version": "CommandV1",
       "width": "auto",
       "workflows": [],
       "xColumns": null,
       "yColumns": null
      }
     },
     "output_type": "display_data"
    }
   ],
   "source": [
    "# 4. Filter students with salary > 300000\n",
    "df_high_salary = df.filter(col(\"salary\") > 300000)\n",
    "# Show first 5 rows\n",
    "display(df_high_salary.limit(5))\n"
   ]
  },
  {
   "cell_type": "markdown",
   "metadata": {
    "application/vnd.databricks.v1+cell": {
     "cellMetadata": {},
     "inputWidgets": {},
     "nuid": "de71061e-a60c-415b-9831-514a9282253c",
     "showTitle": false,
     "tableResultSettingsMap": {},
     "title": ""
    }
   },
   "source": [
    "4. Save as Delta Table"
   ]
  },
  {
   "cell_type": "code",
   "execution_count": 0,
   "metadata": {
    "application/vnd.databricks.v1+cell": {
     "cellMetadata": {
      "byteLimit": 2048000,
      "rowLimit": 10000
     },
     "inputWidgets": {},
     "nuid": "4fb28a6b-bc4b-4f7f-bd48-67dd10cba0a8",
     "showTitle": false,
     "tableResultSettingsMap": {},
     "title": ""
    }
   },
   "outputs": [],
   "source": [
    "delta_path = \"/mnt/delta/Placement_Data\"\n",
    "\n",
    "# Write DataFrame to Delta\n",
    "df.write.format(\"delta\").mode(\"overwrite\").save(delta_path)\n"
   ]
  },
  {
   "cell_type": "markdown",
   "metadata": {
    "application/vnd.databricks.v1+cell": {
     "cellMetadata": {},
     "inputWidgets": {},
     "nuid": "cdd1887e-fece-4b55-9af0-5cb36b71ca62",
     "showTitle": false,
     "tableResultSettingsMap": {},
     "title": ""
    }
   },
   "source": [
    "5. Create SQL Table for Queries"
   ]
  },
  {
   "cell_type": "code",
   "execution_count": 0,
   "metadata": {
    "application/vnd.databricks.v1+cell": {
     "cellMetadata": {
      "byteLimit": 2048000,
      "rowLimit": 10000
     },
     "inputWidgets": {},
     "nuid": "d89c4589-2492-4b4a-aafd-f28ffe490571",
     "showTitle": false,
     "tableResultSettingsMap": {},
     "title": ""
    }
   },
   "outputs": [
    {
     "output_type": "execute_result",
     "data": {
      "text/plain": [
       "DataFrame[]"
      ]
     },
     "execution_count": 35,
     "metadata": {},
     "output_type": "execute_result"
    }
   ],
   "source": [
    "spark.sql(\"\"\"\n",
    "    CREATE TABLE IF NOT EXISTS Placement_Data\n",
    "    USING DELTA\n",
    "    LOCATION '/mnt/delta/Placement_Data'\n",
    "\"\"\")\n"
   ]
  },
  {
   "cell_type": "markdown",
   "metadata": {
    "application/vnd.databricks.v1+cell": {
     "cellMetadata": {},
     "inputWidgets": {},
     "nuid": "e3c5e6ca-8a7f-42db-b3e8-e17191412f54",
     "showTitle": false,
     "tableResultSettingsMap": {},
     "title": ""
    }
   },
   "source": [
    "6. Query the Table"
   ]
  },
  {
   "cell_type": "code",
   "execution_count": 0,
   "metadata": {
    "application/vnd.databricks.v1+cell": {
     "cellMetadata": {
      "byteLimit": 2048000,
      "rowLimit": 10000
     },
     "inputWidgets": {},
     "nuid": "882e6691-299d-4bff-9c3b-0c074e397c54",
     "showTitle": false,
     "tableResultSettingsMap": {},
     "title": ""
    }
   },
   "outputs": [
    {
     "output_type": "stream",
     "name": "stdout",
     "output_type": "stream",
     "text": [
      "+------+--------------+\n|gender|total_students|\n+------+--------------+\n|     F|            76|\n|     M|           139|\n+------+--------------+\n\n+---------+------------------+\n| degree_t|        avg_salary|\n+---------+------------------+\n|Comm&Mgmt|          196000.0|\n| Sci&Tech|218627.11864406778|\n|   Others|127454.54545454546|\n+---------+------------------+\n\n"
     ]
    }
   ],
   "source": [
    "spark.sql(\"SELECT gender, COUNT(*) as total_students FROM Placement_Data GROUP BY gender\").show()\n",
    "\n",
    "spark.sql(\"SELECT degree_t, AVG(salary) as avg_salary FROM Placement_Data GROUP BY degree_t\").show()\n"
   ]
  }
 ],
 "metadata": {
  "application/vnd.databricks.v1+notebook": {
   "computePreferences": null,
   "dashboards": [],
   "environmentMetadata": {
    "base_environment": "",
    "environment_version": "2"
   },
   "inputWidgetPreferences": null,
   "language": "python",
   "notebookMetadata": {
    "pythonIndentUnit": 4
   },
   "notebookName": "EDA - Casestudy",
   "widgets": {}
  },
  "language_info": {
   "name": "python"
  }
 },
 "nbformat": 4,
 "nbformat_minor": 0
}
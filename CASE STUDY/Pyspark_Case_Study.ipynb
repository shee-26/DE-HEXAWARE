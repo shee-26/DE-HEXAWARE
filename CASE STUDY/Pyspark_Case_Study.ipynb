{
  "nbformat": 4,
  "nbformat_minor": 0,
  "metadata": {
    "colab": {
      "provenance": []
    },
    "kernelspec": {
      "name": "python3",
      "display_name": "Python 3"
    },
    "language_info": {
      "name": "python"
    }
  },
  "cells": [
    {
      "cell_type": "code",
      "execution_count": 2,
      "metadata": {
        "colab": {
          "base_uri": "https://localhost:8080/"
        },
        "id": "0NOl1zEZ77Q_",
        "outputId": "00f14b06-39fc-4047-ece7-6eb8edd84ba9"
      },
      "outputs": [
        {
          "output_type": "stream",
          "name": "stdout",
          "text": [
            "+-----------+---+------+------------+--------------+-----------+------+-----------+-------------+-------------+-----------+-------+------------+----------------+------------------+\n",
            "|Customer_ID|Age|Gender|  Occupation|Marital Status|Family Size|Income|Expenditure|Use Frequency|Loan Category|Loan Amount|Overdue| Debt Record| Returned Cheque| Dishonour of Bill|\n",
            "+-----------+---+------+------------+--------------+-----------+------+-----------+-------------+-------------+-----------+-------+------------+----------------+------------------+\n",
            "|    IB14001| 30|  MALE|BANK MANAGER|        SINGLE|          4| 50000|      22199|            6|      HOUSING| 10,00,000 |      5|      42,898|               6|                 9|\n",
            "|    IB14008| 44|  MALE|   PROFESSOR|       MARRIED|          6| 51000|      19999|            4|     SHOPPING|     50,000|      3|      33,999|               1|                 5|\n",
            "|    IB14012| 30|FEMALE|     DENTIST|        SINGLE|          3| 58450|      27675|            5|   TRAVELLING|     75,000|      6|      20,876|               3|                 1|\n",
            "|    IB14018| 29|  MALE|     TEACHER|       MARRIED|          5| 45767|      12787|            3|    GOLD LOAN|  6,00,000 |      7|      11,000|               0|                 4|\n",
            "|    IB14022| 34|  MALE|      POLICE|        SINGLE|          4| 43521|      11999|            3|   AUTOMOBILE|  2,00,000 |      2|      43,898|               1|                 2|\n",
            "+-----------+---+------+------------+--------------+-----------+------+-----------+-------------+-------------+-----------+-------+------------+----------------+------------------+\n",
            "only showing top 5 rows\n",
            "\n",
            "+---------+----------+--------+-----------+---------+------+---+------+---------+-------------+--------------+---------------+------+\n",
            "|RowNumber|CustomerId| Surname|CreditScore|Geography|Gender|Age|Tenure|  Balance|NumOfProducts|IsActiveMember|EstimatedSalary|Exited|\n",
            "+---------+----------+--------+-----------+---------+------+---+------+---------+-------------+--------------+---------------+------+\n",
            "|        1|  15634602|Hargrave|        619|   France|Female| 42|     2|      0.0|            1|             1|      101348.88|     1|\n",
            "|        2|  15647311|    Hill|        608|    Spain|Female| 41|     1| 83807.86|            1|             1|      112542.58|     0|\n",
            "|        3|  15619304|    Onio|        502|   France|Female| 42|     8| 159660.8|            3|             0|      113931.57|     1|\n",
            "|        4|  15701354|    Boni|        699|   France|Female| 39|     1|      0.0|            2|             0|       93826.63|     0|\n",
            "|        5|  15737888|Mitchell|        850|    Spain|Female| 43|     2|125510.82|            1|             1|        79084.1|     0|\n",
            "+---------+----------+--------+-----------+---------+------+---+------+---------+-------------+--------------+---------------+------+\n",
            "only showing top 5 rows\n",
            "\n",
            "+-------------+--------------------+----------+----------------+-------------+-----------+\n",
            "|   Account No| TRANSACTION DETAILS|VALUE DATE| WITHDRAWAL AMT | DEPOSIT AMT |BALANCE AMT|\n",
            "+-------------+--------------------+----------+----------------+-------------+-----------+\n",
            "|409000611074'|TRF FROM  Indiafo...| 29-Jun-17|            NULL|    1000000.0|  1000000.0|\n",
            "|409000611074'|TRF FROM  Indiafo...|  5-Jul-17|            NULL|    1000000.0|  2000000.0|\n",
            "|409000611074'|FDRL/INTERNAL FUN...| 18-Jul-17|            NULL|     500000.0|  2500000.0|\n",
            "|409000611074'|TRF FRM  Indiafor...|  1-Aug-17|            NULL|    3000000.0|  5500000.0|\n",
            "|409000611074'|FDRL/INTERNAL FUN...| 16-Aug-17|            NULL|     500000.0|  6000000.0|\n",
            "+-------------+--------------------+----------+----------------+-------------+-----------+\n",
            "only showing top 5 rows\n",
            "\n"
          ]
        }
      ],
      "source": [
        "from pyspark.sql import SparkSession\n",
        "spark = SparkSession.builder.appName(\"OnlineBankingAnalysis\").getOrCreate()\n",
        "# Loading loan data\n",
        "loan_df = spark.read.csv(\"/content/loan.csv\", header=True, inferSchema=True)\n",
        "\n",
        "# Loading credit data\n",
        "credit_df = spark.read.csv(\"/content/credit card.csv\", header=True, inferSchema=True)\n",
        "\n",
        "# Loading transaction data\n",
        "txn_df = spark.read.csv(\"/content/txn.csv\", header=True, inferSchema=True)\n",
        "\n",
        "# Display first few rows of each dataset (optional)\n",
        "loan_df.show(5)\n",
        "credit_df.show(5)\n",
        "txn_df.show(5)\n"
      ]
    },
    {
      "cell_type": "code",
      "source": [
        "# Register DataFrames as temporary views\n",
        "loan_df.createOrReplaceTempView(\"loans\")\n",
        "credit_df.createOrReplaceTempView(\"credit_cards\")\n",
        "txn_df.createOrReplaceTempView(\"transactions\")\n"
      ],
      "metadata": {
        "id": "Fm8zHNan8tMq"
      },
      "execution_count": 3,
      "outputs": []
    },
    {
      "cell_type": "markdown",
      "source": [
        "**Analyzing Loan Data (loandata.csv):**"
      ],
      "metadata": {
        "id": "MdMcN2N-9HGe"
      }
    },
    {
      "cell_type": "code",
      "source": [
        "# 1. Count the number of loans in each category\n",
        "spark.sql(\"SELECT `Loan Category`, COUNT(*) AS num_loans FROM loans GROUP BY `Loan Category`\").show()\n",
        "\n",
        "\n"
      ],
      "metadata": {
        "colab": {
          "base_uri": "https://localhost:8080/"
        },
        "id": "BcuTA75W9IfX",
        "outputId": "8af4a5a8-a7cd-47af-b957-229f14c3bff8"
      },
      "execution_count": 8,
      "outputs": [
        {
          "output_type": "stream",
          "name": "stdout",
          "text": [
            "+------------------+---------+\n",
            "|     Loan Category|num_loans|\n",
            "+------------------+---------+\n",
            "|           HOUSING|       67|\n",
            "|        TRAVELLING|       53|\n",
            "|       BOOK STORES|        7|\n",
            "|       AGRICULTURE|       12|\n",
            "|         GOLD LOAN|       77|\n",
            "|  EDUCATIONAL LOAN|       20|\n",
            "|        AUTOMOBILE|       60|\n",
            "|          BUSINESS|       24|\n",
            "|COMPUTER SOFTWARES|       35|\n",
            "|           DINNING|       14|\n",
            "|          SHOPPING|       35|\n",
            "|       RESTAURANTS|       41|\n",
            "|       ELECTRONICS|       14|\n",
            "|          BUILDING|        7|\n",
            "|        RESTAURANT|       20|\n",
            "|   HOME APPLIANCES|       14|\n",
            "+------------------+---------+\n",
            "\n"
          ]
        }
      ]
    },
    {
      "cell_type": "code",
      "source": [
        "# 2. Number of People Who Have Taken More Than 1 Lakh Loan\n",
        "spark.sql(\"SELECT COUNT(*) FROM loans WHERE `Loan Amount` > 100000\").show()"
      ],
      "metadata": {
        "colab": {
          "base_uri": "https://localhost:8080/"
        },
        "id": "j6_Yj1xKACNs",
        "outputId": "c3879577-3034-4b7d-fd31-8e1f48e5b327"
      },
      "execution_count": 10,
      "outputs": [
        {
          "output_type": "stream",
          "name": "stdout",
          "text": [
            "+--------+\n",
            "|count(1)|\n",
            "+--------+\n",
            "|       0|\n",
            "+--------+\n",
            "\n"
          ]
        }
      ]
    },
    {
      "cell_type": "code",
      "source": [
        "# 3. Number of People with Income Greater Than 60,000\n",
        "spark.sql(\"SELECT COUNT(*) FROM loans WHERE `Income` > 60000\").show()\n"
      ],
      "metadata": {
        "colab": {
          "base_uri": "https://localhost:8080/"
        },
        "id": "fgI6-KO8ATK0",
        "outputId": "78bb733b-a5c5-482d-f001-6da11188181e"
      },
      "execution_count": 11,
      "outputs": [
        {
          "output_type": "stream",
          "name": "stdout",
          "text": [
            "+--------+\n",
            "|count(1)|\n",
            "+--------+\n",
            "|     198|\n",
            "+--------+\n",
            "\n"
          ]
        }
      ]
    },
    {
      "cell_type": "code",
      "source": [
        "# 4. Number of People with 2 or More Returned Cheques and Income Less Than 50,000\n",
        "spark.sql(\"SELECT COUNT(*) FROM loans WHERE ` Returned Cheque` >= 2 AND `Income` < 50000\").show()\n"
      ],
      "metadata": {
        "colab": {
          "base_uri": "https://localhost:8080/"
        },
        "id": "ZpIYZzQpAdhl",
        "outputId": "b15b378d-e8a5-4745-9615-5b3f776e4f3d"
      },
      "execution_count": 13,
      "outputs": [
        {
          "output_type": "stream",
          "name": "stdout",
          "text": [
            "+--------+\n",
            "|count(1)|\n",
            "+--------+\n",
            "|     137|\n",
            "+--------+\n",
            "\n"
          ]
        }
      ]
    },
    {
      "cell_type": "code",
      "source": [
        "# 5. Number of People with 2 or More Returned Cheques and Are Single\n",
        "spark.sql(\"SELECT COUNT(*) FROM loans WHERE ` Returned Cheque` >= 2 AND `Marital Status` = 'Single'\").show()\n"
      ],
      "metadata": {
        "colab": {
          "base_uri": "https://localhost:8080/"
        },
        "id": "dCNsVkSTApQm",
        "outputId": "724c2c0d-20a5-42f2-b121-e3872f32ff8f"
      },
      "execution_count": 15,
      "outputs": [
        {
          "output_type": "stream",
          "name": "stdout",
          "text": [
            "+--------+\n",
            "|count(1)|\n",
            "+--------+\n",
            "|       0|\n",
            "+--------+\n",
            "\n"
          ]
        }
      ]
    },
    {
      "cell_type": "code",
      "source": [
        "# 6. Number of People with Expenditure Over 50,000 per Month\n",
        "spark.sql(\"SELECT COUNT(*) FROM loans WHERE `Expenditure` > 50000\").show()\n"
      ],
      "metadata": {
        "colab": {
          "base_uri": "https://localhost:8080/"
        },
        "id": "nkEz2z5IBQW9",
        "outputId": "e427bb22-d604-4162-851a-ee425042568f"
      },
      "execution_count": 16,
      "outputs": [
        {
          "output_type": "stream",
          "name": "stdout",
          "text": [
            "+--------+\n",
            "|count(1)|\n",
            "+--------+\n",
            "|       6|\n",
            "+--------+\n",
            "\n"
          ]
        }
      ]
    },
    {
      "cell_type": "code",
      "source": [
        "# 7. Number of Members Who Are Eligible for Credit Card\n",
        "spark.sql(\"SELECT COUNT(*) FROM loans WHERE `Income` > 50000\").show()\n",
        "\n"
      ],
      "metadata": {
        "colab": {
          "base_uri": "https://localhost:8080/"
        },
        "id": "kzRJPti0Bbmh",
        "outputId": "d5740801-7f58-443b-92b6-7723b1fd4800"
      },
      "execution_count": 21,
      "outputs": [
        {
          "output_type": "stream",
          "name": "stdout",
          "text": [
            "+--------+\n",
            "|count(1)|\n",
            "+--------+\n",
            "|     284|\n",
            "+--------+\n",
            "\n"
          ]
        }
      ]
    },
    {
      "cell_type": "markdown",
      "source": [
        "**Analyzing Credit Data (credit.csv):**\n",
        "\n"
      ],
      "metadata": {
        "id": "lewd-yWxC_JJ"
      }
    },
    {
      "cell_type": "code",
      "source": [
        "# 8. Number of Credit Card Users in Spain\n",
        "spark.sql(\"SELECT COUNT(*) FROM credit_cards WHERE `Geography` = 'Spain'\").show()\n",
        "\n"
      ],
      "metadata": {
        "colab": {
          "base_uri": "https://localhost:8080/"
        },
        "id": "yu7fk9wXCIWQ",
        "outputId": "a436709b-0f93-487b-bba7-cb38cf5de6d8"
      },
      "execution_count": 23,
      "outputs": [
        {
          "output_type": "stream",
          "name": "stdout",
          "text": [
            "+--------+\n",
            "|count(1)|\n",
            "+--------+\n",
            "|    2477|\n",
            "+--------+\n",
            "\n"
          ]
        }
      ]
    },
    {
      "cell_type": "code",
      "source": [
        "# 9. Number of Members Who Are Eligible and Active in the Bank:\n",
        "spark.sql(\"SELECT COUNT(*) FROM credit_cards WHERE `IsActiveMember` = 1 AND `Exited` = 0\").show()\n"
      ],
      "metadata": {
        "colab": {
          "base_uri": "https://localhost:8080/"
        },
        "id": "thDNIyaeD2Ob",
        "outputId": "b0644e0e-5ce7-425d-efe3-f3362fc9fd56"
      },
      "execution_count": 25,
      "outputs": [
        {
          "output_type": "stream",
          "name": "stdout",
          "text": [
            "+--------+\n",
            "|count(1)|\n",
            "+--------+\n",
            "|    4416|\n",
            "+--------+\n",
            "\n"
          ]
        }
      ]
    },
    {
      "cell_type": "markdown",
      "source": [
        "**Analyzing Transaction Data (txn.csv):**"
      ],
      "metadata": {
        "id": "vtz3pvHdD2pB"
      }
    },
    {
      "cell_type": "code",
      "source": [
        "# 10. Maximum Withdrawal Amount:\n",
        "spark.sql(\"SELECT MAX(` WITHDRAWAL AMT `) FROM transactions\").show()"
      ],
      "metadata": {
        "colab": {
          "base_uri": "https://localhost:8080/"
        },
        "id": "pHf5S9rsEP7m",
        "outputId": "e3ce23c6-521d-4c89-8f1a-4ca390e52290"
      },
      "execution_count": 28,
      "outputs": [
        {
          "output_type": "stream",
          "name": "stdout",
          "text": [
            "+---------------------+\n",
            "|max( WITHDRAWAL AMT )|\n",
            "+---------------------+\n",
            "|        4.594475464E8|\n",
            "+---------------------+\n",
            "\n"
          ]
        }
      ]
    },
    {
      "cell_type": "code",
      "source": [
        "# 11 Minimum Withdrawal Amount of an Account\n",
        "spark.sql(\"SELECT MIN(` WITHDRAWAL AMT `) FROM transactions\").show()"
      ],
      "metadata": {
        "colab": {
          "base_uri": "https://localhost:8080/"
        },
        "id": "LjaWQG9-FLpL",
        "outputId": "90b0de23-ed9e-425a-c16a-1b5a373b9ee9"
      },
      "execution_count": 29,
      "outputs": [
        {
          "output_type": "stream",
          "name": "stdout",
          "text": [
            "+---------------------+\n",
            "|min( WITHDRAWAL AMT )|\n",
            "+---------------------+\n",
            "|                 0.01|\n",
            "+---------------------+\n",
            "\n"
          ]
        }
      ]
    },
    {
      "cell_type": "code",
      "source": [
        "# 12. Maximum Deposit Amount of an Account\n",
        "spark.sql(\"SELECT MAX(` DEPOSIT AMT `) FROM transactions\").show()\n"
      ],
      "metadata": {
        "colab": {
          "base_uri": "https://localhost:8080/"
        },
        "id": "_IMMwF2oFbJt",
        "outputId": "12b682f4-203d-4d71-fe4b-4aa466b695b0"
      },
      "execution_count": 30,
      "outputs": [
        {
          "output_type": "stream",
          "name": "stdout",
          "text": [
            "+------------------+\n",
            "|max( DEPOSIT AMT )|\n",
            "+------------------+\n",
            "|           5.448E8|\n",
            "+------------------+\n",
            "\n"
          ]
        }
      ]
    },
    {
      "cell_type": "code",
      "source": [
        "# 13. Minimum Deposit Amount of an Account\n",
        "spark.sql(\"SELECT MIN(` DEPOSIT AMT `) FROM transactions\").show()\n"
      ],
      "metadata": {
        "colab": {
          "base_uri": "https://localhost:8080/"
        },
        "id": "FRa6F7IlFjJo",
        "outputId": "0afe4ba4-25f5-43ff-fd1b-af3b94366062"
      },
      "execution_count": 31,
      "outputs": [
        {
          "output_type": "stream",
          "name": "stdout",
          "text": [
            "+------------------+\n",
            "|min( DEPOSIT AMT )|\n",
            "+------------------+\n",
            "|              0.01|\n",
            "+------------------+\n",
            "\n"
          ]
        }
      ]
    },
    {
      "cell_type": "code",
      "source": [
        "# 14. Sum of Balance in Every Bank Account\n",
        "spark.sql(\"SELECT `Account No`, SUM(`BALANCE AMT`) FROM transactions GROUP BY `Account No`\").show()\n"
      ],
      "metadata": {
        "colab": {
          "base_uri": "https://localhost:8080/"
        },
        "id": "GnKuzObVFq3n",
        "outputId": "5f50dbdb-9d6c-4c99-c551-eb278e7c7a6a"
      },
      "execution_count": 33,
      "outputs": [
        {
          "output_type": "stream",
          "name": "stdout",
          "text": [
            "+-------------+--------------------+\n",
            "|   Account No|    sum(BALANCE AMT)|\n",
            "+-------------+--------------------+\n",
            "|409000438611'|-2.49486577068339...|\n",
            "|     1196711'|-1.60476498101275E13|\n",
            "|     1196428'| -8.1418498130721E13|\n",
            "|409000493210'|-3.27584952132095...|\n",
            "|409000611074'|       1.615533622E9|\n",
            "|409000425051'|-3.77211841164998...|\n",
            "|409000405747'|-2.43108047067000...|\n",
            "|409000362497'| -5.2860004792808E13|\n",
            "|409000493201'|1.0420831829499985E9|\n",
            "|409000438620'|-7.12291867951358...|\n",
            "+-------------+--------------------+\n",
            "\n"
          ]
        }
      ]
    },
    {
      "cell_type": "code",
      "source": [
        "# 15. Number of Transactions on Each Date\n",
        "spark.sql(\"SELECT `VALUE DATE`, COUNT(*) AS num_transactions FROM transactions GROUP BY `VALUE DATE`\").show()"
      ],
      "metadata": {
        "colab": {
          "base_uri": "https://localhost:8080/"
        },
        "id": "TwUfqYY8F9TT",
        "outputId": "ed82d487-8bd9-45a7-e460-81681f7d5ea2"
      },
      "execution_count": 34,
      "outputs": [
        {
          "output_type": "stream",
          "name": "stdout",
          "text": [
            "+----------+----------------+\n",
            "|VALUE DATE|num_transactions|\n",
            "+----------+----------------+\n",
            "| 23-Dec-16|             143|\n",
            "|  7-Feb-19|              98|\n",
            "| 21-Jul-15|              80|\n",
            "|  9-Sep-15|              91|\n",
            "| 17-Jan-15|              16|\n",
            "| 18-Nov-17|              53|\n",
            "| 21-Feb-18|              77|\n",
            "| 20-Mar-18|              71|\n",
            "| 19-Apr-18|              71|\n",
            "| 21-Jun-16|              97|\n",
            "| 17-Oct-17|             101|\n",
            "|  3-Jan-18|              70|\n",
            "|  8-Jun-18|             223|\n",
            "| 15-Dec-18|              62|\n",
            "|  8-Aug-16|              97|\n",
            "| 17-Dec-16|              74|\n",
            "|  3-Sep-15|              83|\n",
            "| 21-Jan-16|              76|\n",
            "|  4-May-18|              92|\n",
            "|  7-Sep-17|              94|\n",
            "+----------+----------------+\n",
            "only showing top 20 rows\n",
            "\n"
          ]
        }
      ]
    },
    {
      "cell_type": "code",
      "source": [
        "# 16. Customers with Withdrawal Amount More Than 1 Lakh\n",
        "spark.sql(\"SELECT DISTINCT `Account No` FROM transactions WHERE ` WITHDRAWAL AMT ` > 100000\").show()\n",
        "\n"
      ],
      "metadata": {
        "colab": {
          "base_uri": "https://localhost:8080/"
        },
        "id": "nE4iUx_FGF99",
        "outputId": "3a0b6a81-61cd-4fd7-cdfc-ff3b0f36c42d"
      },
      "execution_count": 39,
      "outputs": [
        {
          "output_type": "stream",
          "name": "stdout",
          "text": [
            "+-------------+\n",
            "|   Account No|\n",
            "+-------------+\n",
            "|409000438611'|\n",
            "|     1196711'|\n",
            "|     1196428'|\n",
            "|409000493210'|\n",
            "|409000611074'|\n",
            "|409000425051'|\n",
            "|409000405747'|\n",
            "|409000362497'|\n",
            "|409000493201'|\n",
            "|409000438620'|\n",
            "+-------------+\n",
            "\n"
          ]
        }
      ]
    }
  ]
}
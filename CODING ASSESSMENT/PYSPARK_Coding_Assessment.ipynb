{
  "nbformat": 4,
  "nbformat_minor": 0,
  "metadata": {
    "colab": {
      "provenance": []
    },
    "kernelspec": {
      "name": "python3",
      "display_name": "Python 3"
    },
    "language_info": {
      "name": "python"
    }
  },
  "cells": [
    {
      "cell_type": "markdown",
      "source": [
        "**1. Apply Transformations & actions in pyspark**"
      ],
      "metadata": {
        "id": "mQJCNBKtn20n"
      }
    },
    {
      "cell_type": "markdown",
      "source": [
        "**Transformations**"
      ],
      "metadata": {
        "id": "2Myr3vhFn_JW"
      }
    },
    {
      "cell_type": "code",
      "execution_count": 1,
      "metadata": {
        "id": "e7mDbFYfn1un"
      },
      "outputs": [],
      "source": [
        "from pyspark.sql import SparkSession\n",
        "\n",
        "# Create SparkSession\n",
        "spark = SparkSession.builder \\\n",
        "    .appName(\"RDD Transformations in PySpark\") \\\n",
        "    .getOrCreate()\n",
        "\n",
        "# Create sample RDDs\n",
        "rdd1 = spark.sparkContext.parallelize([(\"a\", 1), (\"b\", 2), (\"a\", 3), (\"c\", 1)])\n",
        "rdd2 = spark.sparkContext.parallelize([(\"a\", 5), (\"b\", 3), (\"d\", 7)])\n"
      ]
    },
    {
      "cell_type": "markdown",
      "source": [
        "1. map"
      ],
      "metadata": {
        "id": "tFfEjaeAoN_g"
      }
    },
    {
      "cell_type": "code",
      "source": [
        "# map: Multiply each value by 10\n",
        "mapped_rdd = rdd1.map(lambda x: (x[0], x[1] * 10))\n",
        "print(\"Mapped RDD:\", mapped_rdd.collect())\n"
      ],
      "metadata": {
        "colab": {
          "base_uri": "https://localhost:8080/"
        },
        "id": "aJnyNvv5oRBd",
        "outputId": "664b48c3-43d9-4e16-d0d8-4ad738ad4e4e"
      },
      "execution_count": 2,
      "outputs": [
        {
          "output_type": "stream",
          "name": "stdout",
          "text": [
            "Mapped RDD: [('a', 10), ('b', 20), ('a', 30), ('c', 10)]\n"
          ]
        }
      ]
    },
    {
      "cell_type": "markdown",
      "source": [
        " 2. flatMap"
      ],
      "metadata": {
        "id": "FUTFo2HgoeCh"
      }
    },
    {
      "cell_type": "code",
      "source": [
        "# flatMap: Split each key into characters\n",
        "flat_mapped_rdd = rdd1.flatMap(lambda x: [(char, x[1]) for char in x[0]])\n",
        "print(\"FlatMapped RDD:\", flat_mapped_rdd.collect())\n"
      ],
      "metadata": {
        "colab": {
          "base_uri": "https://localhost:8080/"
        },
        "id": "Jvuar15jogfp",
        "outputId": "8d994bed-0583-47f4-ce55-048a0999b73c"
      },
      "execution_count": 4,
      "outputs": [
        {
          "output_type": "stream",
          "name": "stdout",
          "text": [
            "FlatMapped RDD: [('a', 1), ('b', 2), ('a', 3), ('c', 1)]\n"
          ]
        }
      ]
    },
    {
      "cell_type": "markdown",
      "source": [
        "3. reduceByKey"
      ],
      "metadata": {
        "id": "VJTeq6zForUq"
      }
    },
    {
      "cell_type": "code",
      "source": [
        "# reduceByKey: Sum values by key\n",
        "reduced_rdd = rdd1.reduceByKey(lambda a, b: a + b)\n",
        "print(\"Reduced RDD:\", reduced_rdd.collect())\n"
      ],
      "metadata": {
        "colab": {
          "base_uri": "https://localhost:8080/"
        },
        "id": "azyHhBtfo23e",
        "outputId": "1e8809bb-9647-4e0c-db7c-080a1d915a58"
      },
      "execution_count": 6,
      "outputs": [
        {
          "output_type": "stream",
          "name": "stdout",
          "text": [
            "Reduced RDD: [('b', 2), ('c', 1), ('a', 4)]\n"
          ]
        }
      ]
    },
    {
      "cell_type": "markdown",
      "source": [
        " 4. union"
      ],
      "metadata": {
        "id": "3wcAPvjXo4ll"
      }
    },
    {
      "cell_type": "code",
      "source": [
        "# union: Merge two RDDs\n",
        "union_rdd = rdd1.union(rdd2)\n",
        "print(\"Union RDD:\", union_rdd.collect())\n"
      ],
      "metadata": {
        "colab": {
          "base_uri": "https://localhost:8080/"
        },
        "id": "gqynsFvRp5R4",
        "outputId": "b2580e2b-7517-4ee7-ec3b-4f31c5804086"
      },
      "execution_count": 7,
      "outputs": [
        {
          "output_type": "stream",
          "name": "stdout",
          "text": [
            "Union RDD: [('a', 1), ('b', 2), ('a', 3), ('c', 1), ('a', 5), ('b', 3), ('d', 7)]\n"
          ]
        }
      ]
    },
    {
      "cell_type": "markdown",
      "source": [
        "5. distinct"
      ],
      "metadata": {
        "id": "ZV4uJBgtp7A8"
      }
    },
    {
      "cell_type": "code",
      "source": [
        "# distinct: Remove duplicate records\n",
        "distinct_rdd = union_rdd.distinct()\n",
        "print(\"Distinct RDD:\", distinct_rdd.collect())\n"
      ],
      "metadata": {
        "colab": {
          "base_uri": "https://localhost:8080/"
        },
        "id": "i7gzUuJ2p_O1",
        "outputId": "29ce2de3-f9f9-4da4-fd73-e69156acc59e"
      },
      "execution_count": 8,
      "outputs": [
        {
          "output_type": "stream",
          "name": "stdout",
          "text": [
            "Distinct RDD: [('a', 3), ('b', 3), ('a', 1), ('b', 2), ('a', 5), ('c', 1), ('d', 7)]\n"
          ]
        }
      ]
    },
    {
      "cell_type": "markdown",
      "source": [
        "**Action**"
      ],
      "metadata": {
        "id": "_hrckztnqHXU"
      }
    },
    {
      "cell_type": "markdown",
      "source": [
        " 1. collect()"
      ],
      "metadata": {
        "id": "OhUl1v0cqLpL"
      }
    },
    {
      "cell_type": "code",
      "source": [
        "# collect(): Returns entire RDD to driver\n",
        "collected_data = rdd1.collect()\n",
        "print(\"Collected Data:\", collected_data)\n"
      ],
      "metadata": {
        "colab": {
          "base_uri": "https://localhost:8080/"
        },
        "id": "uB8MGqrdqObK",
        "outputId": "726b22e5-998b-41b4-f970-837eadc11847"
      },
      "execution_count": 9,
      "outputs": [
        {
          "output_type": "stream",
          "name": "stdout",
          "text": [
            "Collected Data: [('a', 1), ('b', 2), ('a', 3), ('c', 1)]\n"
          ]
        }
      ]
    },
    {
      "cell_type": "markdown",
      "source": [
        "2. count()"
      ],
      "metadata": {
        "id": "GdgKJT4iqQb_"
      }
    },
    {
      "cell_type": "code",
      "source": [
        "# count(): Total number of elements\n",
        "count_elements = rdd1.count()\n",
        "print(\"Total Elements:\", count_elements)\n"
      ],
      "metadata": {
        "colab": {
          "base_uri": "https://localhost:8080/"
        },
        "id": "PLbMQf9BqTNE",
        "outputId": "653e36a4-524b-4f51-e562-1403e54b02d1"
      },
      "execution_count": 10,
      "outputs": [
        {
          "output_type": "stream",
          "name": "stdout",
          "text": [
            "Total Elements: 4\n"
          ]
        }
      ]
    },
    {
      "cell_type": "markdown",
      "source": [
        "3. first()"
      ],
      "metadata": {
        "id": "-ANQcEBqqWYY"
      }
    },
    {
      "cell_type": "code",
      "source": [
        "# first(): Returns the first element\n",
        "first_element = rdd1.first()\n",
        "print(\"First Element:\", first_element)\n"
      ],
      "metadata": {
        "colab": {
          "base_uri": "https://localhost:8080/"
        },
        "id": "FwZ3EHr4qXZn",
        "outputId": "c9cb0248-bda9-4b30-c129-5cd6545f1a7c"
      },
      "execution_count": 11,
      "outputs": [
        {
          "output_type": "stream",
          "name": "stdout",
          "text": [
            "First Element: ('a', 1)\n"
          ]
        }
      ]
    },
    {
      "cell_type": "markdown",
      "source": [
        " 4. max()"
      ],
      "metadata": {
        "id": "lyFQ11wmqZxk"
      }
    },
    {
      "cell_type": "code",
      "source": [
        "# max(): Maximum value — you must define how to compare the items\n",
        "max_element = rdd1.max(key=lambda x: x[1])\n",
        "print(\"Max Element:\", max_element)"
      ],
      "metadata": {
        "colab": {
          "base_uri": "https://localhost:8080/"
        },
        "id": "6jZy8r-lqbgo",
        "outputId": "f88cba63-f46f-4aef-86f6-0b07698ec9e0"
      },
      "execution_count": 14,
      "outputs": [
        {
          "output_type": "stream",
          "name": "stdout",
          "text": [
            "Max Element: ('a', 3)\n"
          ]
        }
      ]
    },
    {
      "cell_type": "markdown",
      "source": [
        "5. reduce()"
      ],
      "metadata": {
        "id": "eOM2gpEdqfC_"
      }
    },
    {
      "cell_type": "code",
      "source": [
        "# reduce(): Combine all values (just values, not key-value)\n",
        "rdd_values = rdd1.map(lambda x: x[1])  # get just the values\n",
        "reduced_value = rdd_values.reduce(lambda a, b: a + b)\n",
        "print(\"Reduced Sum of Values:\", reduced_value)\n"
      ],
      "metadata": {
        "colab": {
          "base_uri": "https://localhost:8080/"
        },
        "id": "FqC9q9LCqf4h",
        "outputId": "9556a3dd-4649-4bfa-b873-1d04cdf91274"
      },
      "execution_count": 13,
      "outputs": [
        {
          "output_type": "stream",
          "name": "stdout",
          "text": [
            "Reduced Sum of Values: 7\n"
          ]
        }
      ]
    },
    {
      "cell_type": "markdown",
      "source": [
        "6. take(n)"
      ],
      "metadata": {
        "id": "xXLuj8ILq9MY"
      }
    },
    {
      "cell_type": "code",
      "source": [
        "# take(n): Returns first n elements\n",
        "top_3 = rdd1.take(3)\n",
        "print(\"Top 3 Elements:\", top_3)\n"
      ],
      "metadata": {
        "colab": {
          "base_uri": "https://localhost:8080/"
        },
        "id": "lpaX5l-pq_iD",
        "outputId": "2676cc9b-6e57-4f2c-a04d-9ec39d55e82f"
      },
      "execution_count": 15,
      "outputs": [
        {
          "output_type": "stream",
          "name": "stdout",
          "text": [
            "Top 3 Elements: [('a', 1), ('b', 2), ('a', 3)]\n"
          ]
        }
      ]
    },
    {
      "cell_type": "markdown",
      "source": [
        " 7. saveAsTextFile(path)"
      ],
      "metadata": {
        "id": "QzqlxlhHrDdc"
      }
    },
    {
      "cell_type": "code",
      "source": [
        "# Create RDD\n",
        "rdd = spark.sparkContext.parallelize([(\"x\", 100), (\"y\", 200), (\"z\", 300)])\n",
        "# Save RDD to text file (each record will be saved as a line)\n",
        "rdd.saveAsTextFile(\"output_rdd\")\n",
        "print(\"RDD saved successfully to 'output_rdd' directory.\")\n",
        "\n"
      ],
      "metadata": {
        "colab": {
          "base_uri": "https://localhost:8080/"
        },
        "id": "PeXG6C5NrVnt",
        "outputId": "288187ab-5a4b-4c00-d4dc-82f5cb2a698d"
      },
      "execution_count": 16,
      "outputs": [
        {
          "output_type": "stream",
          "name": "stdout",
          "text": [
            "RDD saved successfully to 'output_rdd' directory.\n"
          ]
        }
      ]
    },
    {
      "cell_type": "markdown",
      "source": [
        "**2. Transformations such as Filter, Join, Simple Aggregations, GroupBy, Window functions etc.**"
      ],
      "metadata": {
        "id": "u-PeVMcsrqpe"
      }
    },
    {
      "cell_type": "code",
      "source": [
        "from pyspark.sql import SparkSession\n",
        "from pyspark.sql.functions import col, sum as _sum, avg, row_number\n",
        "from pyspark.sql.window import Window\n",
        "\n",
        "# Create SparkSession\n",
        "spark = SparkSession.builder.appName(\"DataFrame Transformations\").getOrCreate()\n",
        "\n",
        "# Sample data\n",
        "data = [\n",
        "    (1, \"Arjun\", \"HR\", 3000),\n",
        "    (2, \"Ramya\", \"IT\", 4000),\n",
        "    (3, \"Chandhini\", \"HR\", 3500),\n",
        "    (4, \"Devi\", \"Finance\", 3800),\n",
        "    (5, \"Ramesh\", \"IT\", 4200),\n",
        "    (6, \"Franklin\", \"Finance\", 3900)\n",
        "]\n",
        "\n",
        "columns = [\"id\", \"name\", \"dept\", \"salary\"]\n",
        "\n",
        "df = spark.createDataFrame(data, schema=columns)\n",
        "df.show()\n"
      ],
      "metadata": {
        "colab": {
          "base_uri": "https://localhost:8080/"
        },
        "id": "fEjtn_SZr22O",
        "outputId": "5192e97b-9d14-4a3f-ce54-f00dc7ec9676"
      },
      "execution_count": 17,
      "outputs": [
        {
          "output_type": "stream",
          "name": "stdout",
          "text": [
            "+---+---------+-------+------+\n",
            "| id|     name|   dept|salary|\n",
            "+---+---------+-------+------+\n",
            "|  1|    Arjun|     HR|  3000|\n",
            "|  2|    Ramya|     IT|  4000|\n",
            "|  3|Chandhini|     HR|  3500|\n",
            "|  4|     Devi|Finance|  3800|\n",
            "|  5|   Ramesh|     IT|  4200|\n",
            "|  6| Franklin|Finance|  3900|\n",
            "+---+---------+-------+------+\n",
            "\n"
          ]
        }
      ]
    },
    {
      "cell_type": "markdown",
      "source": [
        "1. Filter"
      ],
      "metadata": {
        "id": "34remeJ_sIIb"
      }
    },
    {
      "cell_type": "code",
      "source": [
        "# Filter: Employees with salary > 4000\n",
        "filtered_df = df.filter(col(\"salary\") > 4000)\n",
        "filtered_df.show()\n"
      ],
      "metadata": {
        "colab": {
          "base_uri": "https://localhost:8080/"
        },
        "id": "nkzIQf4esI_3",
        "outputId": "ae942107-59aa-45f7-8dea-0b7090ecbcdd"
      },
      "execution_count": 19,
      "outputs": [
        {
          "output_type": "stream",
          "name": "stdout",
          "text": [
            "+---+------+----+------+\n",
            "| id|  name|dept|salary|\n",
            "+---+------+----+------+\n",
            "|  5|Ramesh|  IT|  4200|\n",
            "+---+------+----+------+\n",
            "\n"
          ]
        }
      ]
    },
    {
      "cell_type": "markdown",
      "source": [
        " 2. Join"
      ],
      "metadata": {
        "id": "3WHEo1OJsQyv"
      }
    },
    {
      "cell_type": "code",
      "source": [
        "# Create another DataFrame for joining\n",
        "dept_data = [(\"HR\", \"Pallavaram\"), (\"IT\", \"Tambaram\"), (\"Finance\", \"Chrompet\")]\n",
        "dept_columns = [\"dept\", \"location\"]\n",
        "\n",
        "dept_df = spark.createDataFrame(dept_data, schema=dept_columns)\n",
        "\n",
        "# Join on \"dept\"\n",
        "joined_df = df.join(dept_df, on=\"dept\", how=\"inner\")\n",
        "joined_df.show()\n"
      ],
      "metadata": {
        "colab": {
          "base_uri": "https://localhost:8080/"
        },
        "id": "0_NftxgCsSCp",
        "outputId": "5fbef1cc-568e-4f47-d61f-868e35c0bd15"
      },
      "execution_count": 21,
      "outputs": [
        {
          "output_type": "stream",
          "name": "stdout",
          "text": [
            "+-------+---+---------+------+----------+\n",
            "|   dept| id|     name|salary|  location|\n",
            "+-------+---+---------+------+----------+\n",
            "|Finance|  4|     Devi|  3800|  Chrompet|\n",
            "|Finance|  6| Franklin|  3900|  Chrompet|\n",
            "|     HR|  1|    Arjun|  3000|Pallavaram|\n",
            "|     HR|  3|Chandhini|  3500|Pallavaram|\n",
            "|     IT|  2|    Ramya|  4000|  Tambaram|\n",
            "|     IT|  5|   Ramesh|  4200|  Tambaram|\n",
            "+-------+---+---------+------+----------+\n",
            "\n"
          ]
        }
      ]
    },
    {
      "cell_type": "markdown",
      "source": [
        " 3. Simple Aggregations"
      ],
      "metadata": {
        "id": "Y3YbNSTuskyu"
      }
    },
    {
      "cell_type": "code",
      "source": [
        "# Calculate total and average salary\n",
        "agg_df = df.agg(\n",
        "    _sum(\"salary\").alias(\"Total_Salary\"),\n",
        "    avg(\"salary\").alias(\"Average_Salary\")\n",
        ")\n",
        "agg_df.show()\n"
      ],
      "metadata": {
        "colab": {
          "base_uri": "https://localhost:8080/"
        },
        "id": "0OtL1c6xsl_v",
        "outputId": "0dc479a5-1b8f-4c88-c791-abb82c384701"
      },
      "execution_count": 22,
      "outputs": [
        {
          "output_type": "stream",
          "name": "stdout",
          "text": [
            "+------------+------------------+\n",
            "|Total_Salary|    Average_Salary|\n",
            "+------------+------------------+\n",
            "|       22400|3733.3333333333335|\n",
            "+------------+------------------+\n",
            "\n"
          ]
        }
      ]
    },
    {
      "cell_type": "markdown",
      "source": [
        " 4. GroupBy"
      ],
      "metadata": {
        "id": "T_6ZBw9qsobq"
      }
    },
    {
      "cell_type": "code",
      "source": [
        "# Group by department and calculate average salary\n",
        "grouped_df = df.groupBy(\"dept\").agg(\n",
        "    avg(\"salary\").alias(\"Avg_Salary\")\n",
        ")\n",
        "grouped_df.show()\n"
      ],
      "metadata": {
        "colab": {
          "base_uri": "https://localhost:8080/"
        },
        "id": "pQz-zb_ysqlN",
        "outputId": "8256c8e9-b541-44cc-b5f8-e9c2224ff105"
      },
      "execution_count": 23,
      "outputs": [
        {
          "output_type": "stream",
          "name": "stdout",
          "text": [
            "+-------+----------+\n",
            "|   dept|Avg_Salary|\n",
            "+-------+----------+\n",
            "|     HR|    3250.0|\n",
            "|     IT|    4100.0|\n",
            "|Finance|    3850.0|\n",
            "+-------+----------+\n",
            "\n"
          ]
        }
      ]
    },
    {
      "cell_type": "markdown",
      "source": [
        "5. Window Functions"
      ],
      "metadata": {
        "id": "rbNqYCRHsuTE"
      }
    },
    {
      "cell_type": "code",
      "source": [
        "# Add row_number based on salary within each department\n",
        "window_spec = Window.partitionBy(\"dept\").orderBy(col(\"salary\").desc())\n",
        "\n",
        "df_with_rank = df.withColumn(\"row_number\", row_number().over(window_spec))\n",
        "df_with_rank.show()\n"
      ],
      "metadata": {
        "colab": {
          "base_uri": "https://localhost:8080/"
        },
        "id": "KUuHBx5AsvaZ",
        "outputId": "2ca02881-3d7a-4417-a4e8-4346862b18d8"
      },
      "execution_count": 24,
      "outputs": [
        {
          "output_type": "stream",
          "name": "stdout",
          "text": [
            "+---+---------+-------+------+----------+\n",
            "| id|     name|   dept|salary|row_number|\n",
            "+---+---------+-------+------+----------+\n",
            "|  6| Franklin|Finance|  3900|         1|\n",
            "|  4|     Devi|Finance|  3800|         2|\n",
            "|  3|Chandhini|     HR|  3500|         1|\n",
            "|  1|    Arjun|     HR|  3000|         2|\n",
            "|  5|   Ramesh|     IT|  4200|         1|\n",
            "|  2|    Ramya|     IT|  4000|         2|\n",
            "+---+---------+-------+------+----------+\n",
            "\n"
          ]
        }
      ]
    }
  ]
}
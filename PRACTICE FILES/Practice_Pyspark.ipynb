{
  "nbformat": 4,
  "nbformat_minor": 0,
  "metadata": {
    "colab": {
      "provenance": []
    },
    "kernelspec": {
      "name": "python3",
      "display_name": "Python 3"
    },
    "language_info": {
      "name": "python"
    }
  },
  "cells": [
    {
      "cell_type": "code",
      "execution_count": null,
      "metadata": {
        "id": "ysZZYl2v97eD"
      },
      "outputs": [],
      "source": [
        "import pyspark"
      ]
    },
    {
      "cell_type": "code",
      "source": [
        "# Importing the Libraries\n",
        "from pyspark import SparkContext\n",
        "from pyspark.sql import SparkSession\n",
        "\n",
        "# Creating a SparkContext\n",
        "sc = SparkContext.getOrCreate()\n",
        "\n",
        "# Create a SparkSession\n",
        "spark = SparkSession.builder.appName('PySpark DataFrame From RDD').getOrCreate()\n",
        "\n",
        "# Create an RDD\n",
        "rdd = sc.parallelize([('C',85,76,87,91), ('B',85,76,87,91), (\"A\", 85,78,96,92), (\"A\", 92,76,89,96)], 4)\n",
        "\n",
        "print(type(rdd))\n",
        "\n",
        "# Converting the RDD into PySpark DataFrame\n",
        "# Define schema\n",
        "sub = ['Division','English','Mathematics','Physics','Chemistry']\n",
        "\n",
        "# Create DataFrame\n",
        "marks_df = spark.createDataFrame(rdd, schema=sub)\n",
        "\n",
        "# Output the type and content of DataFrame\n",
        "print(type(marks_df))\n",
        "marks_df.show()\n"
      ],
      "metadata": {
        "colab": {
          "base_uri": "https://localhost:8080/"
        },
        "id": "XCKBD8Sh-E2X",
        "outputId": "21fba2cb-2225-4557-de5b-0219022ff2b1"
      },
      "execution_count": null,
      "outputs": [
        {
          "output_type": "stream",
          "name": "stdout",
          "text": [
            "<class 'pyspark.rdd.RDD'>\n",
            "<class 'pyspark.sql.dataframe.DataFrame'>\n",
            "+--------+-------+-----------+-------+---------+\n",
            "|Division|English|Mathematics|Physics|Chemistry|\n",
            "+--------+-------+-----------+-------+---------+\n",
            "|       C|     85|         76|     87|       91|\n",
            "|       B|     85|         76|     87|       91|\n",
            "|       A|     85|         78|     96|       92|\n",
            "|       A|     92|         76|     89|       96|\n",
            "+--------+-------+-----------+-------+---------+\n",
            "\n"
          ]
        }
      ]
    },
    {
      "cell_type": "code",
      "source": [
        "from pyspark.sql import SparkSession\n",
        "from pyspark.sql.functions import col, when\n",
        "\n",
        "# Start Spark session\n",
        "spark = SparkSession.builder.appName(\"Life Stage Classification\").getOrCreate()\n",
        "\n",
        "# Create DataFrame\n",
        "df = spark.createDataFrame(\n",
        "    [\n",
        "        (\"sue\", 32),\n",
        "        (\"lil\", 3),\n",
        "        (\"bob\", 75),\n",
        "        (\"heo\", 13)\n",
        "    ],\n",
        "    [\"first_name\", \"age\"]\n",
        ")\n",
        "# Show result\n",
        "df1.show()\n",
        "\n"
      ],
      "metadata": {
        "colab": {
          "base_uri": "https://localhost:8080/"
        },
        "id": "jZIsnRuAoTPw",
        "outputId": "b0f7fc59-6f5d-44d6-f0ce-19f2310dd425"
      },
      "execution_count": null,
      "outputs": [
        {
          "output_type": "stream",
          "name": "stdout",
          "text": [
            "+----------+---+----------+\n",
            "|first_name|age|life_stage|\n",
            "+----------+---+----------+\n",
            "|       sue| 32|     adult|\n",
            "|       lil|  3|     child|\n",
            "|       bob| 75|     adult|\n",
            "|       heo| 13|  teenager|\n",
            "+----------+---+----------+\n",
            "\n"
          ]
        }
      ]
    },
    {
      "cell_type": "code",
      "source": [
        "# Add 'life_stage' column based on age\n",
        "df1 = df.withColumn(\n",
        "    \"life_stage\",\n",
        "    when(col(\"age\") < 13, \"child\")\n",
        "    .when(col(\"age\").between(13, 19), \"teenager\")\n",
        "    .otherwise(\"adult\")\n",
        ")\n",
        "\n",
        "# Show result\n",
        "df1.show()"
      ],
      "metadata": {
        "colab": {
          "base_uri": "https://localhost:8080/"
        },
        "id": "oO2EVEfYptJi",
        "outputId": "55a736a0-ef5e-4d2f-898a-7d16bb59b09d"
      },
      "execution_count": null,
      "outputs": [
        {
          "output_type": "stream",
          "name": "stdout",
          "text": [
            "+----------+---+----------+\n",
            "|first_name|age|life_stage|\n",
            "+----------+---+----------+\n",
            "|       sue| 32|     adult|\n",
            "|       lil|  3|     child|\n",
            "|       bob| 75|     adult|\n",
            "|       heo| 13|  teenager|\n",
            "+----------+---+----------+\n",
            "\n"
          ]
        }
      ]
    },
    {
      "cell_type": "code",
      "source": [
        "from pyspark.sql import SparkSession\n",
        "\n",
        "# Create SparkSession\n",
        "spark = SparkSession \\\n",
        "    .builder \\\n",
        "    .appName(\"Python Spark create RDD example\") \\\n",
        "    .config(\"spark.some.config.option\", \"some-value\") \\\n",
        "    .getOrCreate()\n",
        "\n",
        "# Create DataFrame\n",
        "Employee = spark.createDataFrame([\n",
        "    (\"1\", \"Joe\", \"70000\", \"1\"),\n",
        "    (\"2\", \"Henry\", \"80000\", \"2\"),\n",
        "    (\"3\", \"Sam\", \"60000\", \"2\"),\n",
        "    (\"4\", \"Max\", \"90000\", \"1\")\n",
        "], [\"Id\", \"Name\", \"Salary\", \"DepartmentId\"])\n",
        "\n",
        "# Show the DataFrame\n",
        "Employee.show()\n",
        "\n"
      ],
      "metadata": {
        "colab": {
          "base_uri": "https://localhost:8080/"
        },
        "id": "pi16jHglzkiV",
        "outputId": "cbeef3d2-e0f3-41aa-d5ba-027e2a8fb246"
      },
      "execution_count": null,
      "outputs": [
        {
          "output_type": "stream",
          "name": "stdout",
          "text": [
            "+---+-----+------+------------+\n",
            "| Id| Name|Salary|DepartmentId|\n",
            "+---+-----+------+------------+\n",
            "|  1|  Joe| 70000|           1|\n",
            "|  2|Henry| 80000|           2|\n",
            "|  3|  Sam| 60000|           2|\n",
            "|  4|  Max| 90000|           1|\n",
            "+---+-----+------+------------+\n",
            "\n"
          ]
        }
      ]
    },
    {
      "cell_type": "markdown",
      "source": [
        "**practice**"
      ],
      "metadata": {
        "id": "UPmXx2kY2CwZ"
      }
    },
    {
      "cell_type": "code",
      "source": [
        "from pyspark.sql import SparkSession\n",
        "from pyspark.sql.types import StructType, StructField, StringType, IntegerType\n",
        "\n",
        "# Create SparkSession\n",
        "spark = SparkSession.builder.appName(\"FileDFs\").getOrCreate()\n",
        "\n",
        "# Define schema\n",
        "txt_schema = StructType([\n",
        "    StructField(\"Name\", StringType(), True),\n",
        "    StructField(\"Age\", IntegerType(), True)\n",
        "])\n",
        "\n",
        "# Read txt file (comma-separated)\n",
        "df_txt = spark.read.option(\"delimiter\", \",\").schema(txt_schema).csv(\"data.txt\")\n",
        "\n",
        "# Print schema and show\n",
        "df_txt.printSchema()\n",
        "df_txt.show()\n",
        "\n"
      ],
      "metadata": {
        "colab": {
          "base_uri": "https://localhost:8080/"
        },
        "id": "pnFplyE10SgD",
        "outputId": "043b3bb2-d23a-4637-ff20-049a5aad4b17"
      },
      "execution_count": null,
      "outputs": [
        {
          "output_type": "stream",
          "name": "stdout",
          "text": [
            "root\n",
            " |-- Name: string (nullable = true)\n",
            " |-- Age: integer (nullable = true)\n",
            "\n",
            "+-------+----+\n",
            "|   Name| Age|\n",
            "+-------+----+\n",
            "|  Johan|NULL|\n",
            "|   Amar|NULL|\n",
            "|Pavitra|NULL|\n",
            "|   Raja|NULL|\n",
            "+-------+----+\n",
            "\n"
          ]
        }
      ]
    },
    {
      "cell_type": "code",
      "source": [
        "df_csv = spark.read.option(\"header\", True).csv(\"data.csv\", inferSchema=True)\n",
        "\n",
        "# Print schema and show\n",
        "df_csv.printSchema()\n",
        "df_csv.show()\n"
      ],
      "metadata": {
        "colab": {
          "base_uri": "https://localhost:8080/"
        },
        "id": "NMUxCgPv3EC3",
        "outputId": "7f7f25d8-5c67-4b12-dfbc-8c343bfea730"
      },
      "execution_count": null,
      "outputs": [
        {
          "output_type": "stream",
          "name": "stdout",
          "text": [
            "root\n",
            " |-- Name,Age: string (nullable = true)\n",
            "\n",
            "+--------+\n",
            "|Name,Age|\n",
            "+--------+\n",
            "| John,25|\n",
            "|Alice,30|\n",
            "|  Bob,22|\n",
            "+--------+\n",
            "\n"
          ]
        }
      ]
    },
    {
      "cell_type": "code",
      "source": [
        "df_json = spark.read.json(\"data.json\")\n",
        "\n",
        "# Print schema and show\n",
        "df_json.printSchema()\n",
        "df_json.show()\n"
      ],
      "metadata": {
        "colab": {
          "base_uri": "https://localhost:8080/"
        },
        "id": "uef2dwSF4Itk",
        "outputId": "4d0d678c-f20d-4ff1-c2ee-97988a3f5f34"
      },
      "execution_count": null,
      "outputs": [
        {
          "output_type": "stream",
          "name": "stdout",
          "text": [
            "root\n",
            " |-- Age: long (nullable = true)\n",
            " |-- Name: string (nullable = true)\n",
            " |-- _corrupt_record: string (nullable = true)\n",
            "\n",
            "+----+-------+---------------+\n",
            "| Age|   Name|_corrupt_record|\n",
            "+----+-------+---------------+\n",
            "|NULL|   NULL|              [|\n",
            "|  25|  Ramar|           NULL|\n",
            "|  30|Amritha|           NULL|\n",
            "|  22|   Babu|           NULL|\n",
            "|NULL|   NULL|              ]|\n",
            "+----+-------+---------------+\n",
            "\n"
          ]
        }
      ]
    },
    {
      "cell_type": "code",
      "source": [
        "# For CSV\n",
        "print(\"CSV Schema:\")\n",
        "df_csv.printSchema()\n",
        "\n",
        "# For JSON\n",
        "print(\"JSON Schema:\")\n",
        "df_json.printSchema()\n",
        "\n",
        "# For TXT\n",
        "print(\"TXT Schema:\")\n",
        "df_txt.printSchema()\n",
        "\n",
        "# Or check with dtypes\n",
        "print(\"CSV types:\", df_csv.dtypes)\n",
        "print(\"JSON types:\", df_json.dtypes)\n",
        "print(\"TXT types:\", df_txt.dtypes)\n"
      ],
      "metadata": {
        "colab": {
          "base_uri": "https://localhost:8080/"
        },
        "id": "IzlCxYX74U1V",
        "outputId": "5b5f8b5d-581b-4a89-89e9-d857ee799a6f"
      },
      "execution_count": null,
      "outputs": [
        {
          "output_type": "stream",
          "name": "stdout",
          "text": [
            "CSV Schema:\n",
            "root\n",
            " |-- Name,Age: string (nullable = true)\n",
            "\n",
            "JSON Schema:\n",
            "root\n",
            " |-- Age: long (nullable = true)\n",
            " |-- Name: string (nullable = true)\n",
            " |-- _corrupt_record: string (nullable = true)\n",
            "\n",
            "TXT Schema:\n",
            "root\n",
            " |-- Name: string (nullable = true)\n",
            " |-- Age: integer (nullable = true)\n",
            "\n",
            "CSV types: [('Name,Age', 'string')]\n",
            "JSON types: [('Age', 'bigint'), ('Name', 'string'), ('_corrupt_record', 'string')]\n",
            "TXT types: [('Name', 'string'), ('Age', 'int')]\n"
          ]
        }
      ]
    },
    {
      "cell_type": "markdown",
      "source": [
        "**Reading External Files into PySpark DataFrames (CSV, TXT, JSON)**"
      ],
      "metadata": {
        "id": "Jb_EsbDdw17k"
      }
    },
    {
      "cell_type": "code",
      "source": [
        "from pyspark.sql import SparkSession\n",
        "spark = SparkSession.builder.appName(\"PySpark DataFrame From External Files\").getOrCreate()\n",
        "csv_file = spark.read.csv('/content/fish.csv', sep=',', inferSchema=True, header=True)\n",
        "txt_file = spark.read.text(\"/content/example.txt\")\n",
        "json_file = spark.read.json(\"/content/sample.json\", multiLine=True)\n",
        "print(\"Type of csv_file:\", type(csv_file))\n",
        "print(\"Type of txt_file:\", type(txt_file))\n",
        "print(\"Type of json_file:\", type(json_file))\n",
        "print(\"Schema of csv_file:\")\n",
        "csv_file.printSchema()\n",
        "print(\"Schema of txt_file:\")\n",
        "txt_file.printSchema()\n",
        "print(\"Schema of json_file:\")\n",
        "json_file.printSchema()\n"
      ],
      "metadata": {
        "colab": {
          "base_uri": "https://localhost:8080/"
        },
        "id": "m72LMa5hsBqB",
        "outputId": "e1f73dd5-2de1-4874-9e41-26ec58e40011"
      },
      "execution_count": null,
      "outputs": [
        {
          "output_type": "stream",
          "name": "stdout",
          "text": [
            "Type of csv_file: <class 'pyspark.sql.dataframe.DataFrame'>\n",
            "Type of txt_file: <class 'pyspark.sql.dataframe.DataFrame'>\n",
            "Type of json_file: <class 'pyspark.sql.dataframe.DataFrame'>\n",
            "Schema of csv_file:\n",
            "root\n",
            " |-- Species: string (nullable = true)\n",
            " |-- Weight: integer (nullable = true)\n",
            " |-- Length1: double (nullable = true)\n",
            " |-- Length2: double (nullable = true)\n",
            " |-- Length3: double (nullable = true)\n",
            " |-- Height: double (nullable = true)\n",
            " |-- Width: double (nullable = true)\n",
            "\n",
            "Schema of txt_file:\n",
            "root\n",
            " |-- value: string (nullable = true)\n",
            "\n",
            "Schema of json_file:\n",
            "root\n",
            " |-- age: long (nullable = true)\n",
            " |-- city: string (nullable = true)\n",
            " |-- name: string (nullable = true)\n",
            "\n"
          ]
        }
      ]
    },
    {
      "cell_type": "code",
      "source": [
        "df = spark.read.text(\"/content/example.txt\")\n",
        "df.selectExpr(\"split(value, ' ') as\\\n",
        "Text_Data_In_Rows_Using_Text\").show(4,False)"
      ],
      "metadata": {
        "colab": {
          "base_uri": "https://localhost:8080/"
        },
        "id": "whBOQjM0zlLk",
        "outputId": "03c6a345-d31d-454d-b998-72f6f3e4ccb0"
      },
      "execution_count": null,
      "outputs": [
        {
          "output_type": "stream",
          "name": "stdout",
          "text": [
            "+-----------------------------------------------------+\n",
            "|asText_Data_In_Rows_Using_Text                       |\n",
            "+-----------------------------------------------------+\n",
            "|[This, is, an, example, line, from, the, text, file.]|\n",
            "|[Another, line, follows.]                            |\n",
            "|[PySpark, is, great, for, processing, big, data.]    |\n",
            "+-----------------------------------------------------+\n",
            "\n"
          ]
        }
      ]
    },
    {
      "cell_type": "markdown",
      "source": [
        "**Creating and Modifying a DataFrame**"
      ],
      "metadata": {
        "id": "I8ZCbSrf1QMX"
      }
    },
    {
      "cell_type": "code",
      "source": [
        "# Importing necessary modules\n",
        "import pyspark\n",
        "from pyspark.sql import SparkSession\n",
        "from pyspark.sql.functions import lit\n",
        "\n",
        "# Creating SparkSession and giving an app name\n",
        "spark = SparkSession.builder.appName('sparkdf').getOrCreate()\n",
        "\n",
        "# List of employee data\n",
        "data = [\n",
        "    [\"1\", \"sravan\", \"company 1\"],\n",
        "    [\"2\", \"ojaswi\", \"company 1\"],\n",
        "    [\"3\", \"rohith\", \"company 2\"],\n",
        "    [\"4\", \"sridevi\", \"company 1\"],\n",
        "    [\"5\", \"bobby\", \"company 1\"]\n",
        "]\n",
        "\n",
        "# Specifying column names\n",
        "columns = ['ID', 'NAME', 'Company']\n",
        "\n",
        "# Creating a DataFrame from the list of data\n",
        "df = spark.createDataFrame(data, columns)\n",
        "\n",
        "# Adding a new column 'salary' with a constant value\n",
        "df.withColumn(\"salary\", lit(30000)).show()\n"
      ],
      "metadata": {
        "colab": {
          "base_uri": "https://localhost:8080/"
        },
        "id": "wSYXWjXJ1TB4",
        "outputId": "326c031e-47c8-4747-ad98-acfec63c81e7"
      },
      "execution_count": null,
      "outputs": [
        {
          "output_type": "stream",
          "name": "stdout",
          "text": [
            "+---+-------+---------+------+\n",
            "| ID|   NAME|  Company|salary|\n",
            "+---+-------+---------+------+\n",
            "|  1| sravan|company 1| 30000|\n",
            "|  2| ojaswi|company 1| 30000|\n",
            "|  3| rohith|company 2| 30000|\n",
            "|  4|sridevi|company 1| 30000|\n",
            "|  5|  bobby|company 1| 30000|\n",
            "+---+-------+---------+------+\n",
            "\n"
          ]
        }
      ]
    },
    {
      "cell_type": "markdown",
      "source": [
        "**Transfrmation & actions**"
      ],
      "metadata": {
        "id": "7m32WwLXq4UF"
      }
    },
    {
      "cell_type": "markdown",
      "source": [
        "Action"
      ],
      "metadata": {
        "id": "10HDs3JVrFJT"
      }
    },
    {
      "cell_type": "code",
      "source": [
        "from pyspark import SparkContext\n",
        "from operator import add\n",
        "\n",
        "# Initialize SparkContext\n",
        "sc = SparkContext(\"local\", \"RDD Actions Example\")\n",
        "\n",
        "# Create RDD\n",
        "rdd = sc.parallelize([1, 2, 3, 4, 5])\n",
        "\n",
        "# 1. collect() - Returns all elements as a list\n",
        "print(\"collect():\", rdd.collect())\n",
        "\n",
        "# 2. count() - Returns the number of elements in the RDD\n",
        "print(\"count():\", rdd.count())\n",
        "\n",
        "# 3. first() - Returns the first element of the RDD\n",
        "print(\"first():\", rdd.first())\n",
        "\n",
        "# 4. reduce() - Aggregates the elements using a function\n",
        "print(\"reduce():\", rdd.reduce(add))  # Same as sum of elements\n",
        "\n",
        "# 5. take(n) - Returns the first 'n' elements\n",
        "print(\"take(3):\", rdd.take(3))\n",
        "\n",
        "# 6. saveAsTextFile(path) - Saves the RDD to a text file (each element on a new line)\n",
        "rdd.saveAsTextFile(\"output_rdd\")\n",
        "print(\"RDD saved successfully to 'output_rdd' directory.\")\n",
        "\n",
        "# Stop the SparkContext\n",
        "sc.stop()\n"
      ],
      "metadata": {
        "colab": {
          "base_uri": "https://localhost:8080/"
        },
        "id": "kwz1hnafqza7",
        "outputId": "6eaaa6e5-a9d9-4365-8185-126ca4e5288a"
      },
      "execution_count": null,
      "outputs": [
        {
          "output_type": "stream",
          "name": "stdout",
          "text": [
            "collect(): [1, 2, 3, 4, 5]\n",
            "count(): 5\n",
            "first(): 1\n",
            "reduce(): 15\n",
            "take(3): [1, 2, 3]\n",
            "RDD saved successfully to 'output_rdd' directory.\n"
          ]
        }
      ]
    },
    {
      "cell_type": "markdown",
      "source": [
        "**Spark SQL**"
      ],
      "metadata": {
        "id": "vc9ujwM08gzE"
      }
    },
    {
      "cell_type": "code",
      "source": [
        "from pyspark.sql import SparkSession\n",
        "spark = SparkSession.builder.appName(\"Fish CSV Reader\").getOrCreate()\n",
        "df = spark.read.option(\"header\", True)\t.csv(\"/content/fish.csv\")\n",
        "df.printSchema()\n",
        "df.show()"
      ],
      "metadata": {
        "id": "Tmk_MbPLrdRO",
        "colab": {
          "base_uri": "https://localhost:8080/"
        },
        "outputId": "e08ac386-67a4-4057-c73f-27460b479fde"
      },
      "execution_count": null,
      "outputs": [
        {
          "output_type": "stream",
          "name": "stdout",
          "text": [
            "root\n",
            " |-- Species: string (nullable = true)\n",
            " |-- Weight: string (nullable = true)\n",
            " |-- Length1: string (nullable = true)\n",
            " |-- Length2: string (nullable = true)\n",
            " |-- Length3: string (nullable = true)\n",
            " |-- Height: string (nullable = true)\n",
            " |-- Width: string (nullable = true)\n",
            "\n",
            "+-------+------+-------+-------+-------+------+-----+\n",
            "|Species|Weight|Length1|Length2|Length3|Height|Width|\n",
            "+-------+------+-------+-------+-------+------+-----+\n",
            "|  Bream|   242|   23.2|   25.4|   30.0| 11.52| 4.02|\n",
            "|  Bream|   290|   24.0|   26.3|   31.2| 12.48| 4.30|\n",
            "|  Roach|   120|   20.0|   22.0|   24.0|  8.02| 3.40|\n",
            "|  Smelt|    12|    9.5|   10.5|   11.0|  2.00| 1.00|\n",
            "|   Pike|   500|   35.0|   37.3|   40.0| 15.50| 6.70|\n",
            "+-------+------+-------+-------+-------+------+-----+\n",
            "\n"
          ]
        }
      ]
    },
    {
      "cell_type": "markdown",
      "source": [
        "ETL"
      ],
      "metadata": {
        "id": "1jjTdf6XdnfZ"
      }
    },
    {
      "cell_type": "markdown",
      "source": [
        "# ETL stands for\n",
        "\n",
        "# Extract: extract the data from the different sources\n",
        "\n",
        "# Transform: Transform the unstructured data into structured data. Transformations like cleaning, manipulation, etc.\n",
        "\n",
        "# Load : Load the transformed data into a location or date warehouse."
      ],
      "metadata": {
        "id": "wg2yaGM6ds5S"
      }
    },
    {
      "cell_type": "code",
      "source": [
        "from pyspark.sql import SparkSession\n",
        "from pyspark.sql.functions import col, concat, lit, floor, rand\n",
        "\n",
        "spark = SparkSession.builder.appName(\"ETLPractice\").getOrCreate()\n",
        "\n",
        "source_path = \"/content/orders (1).csv\"  # Correct path\n",
        "target_path = \"/content/order_result.csv\"  # Output path\n",
        "\n",
        "# Use the correct source path here\n",
        "load_data = spark.read.csv(source_path, header=True, inferSchema=True)\n"
      ],
      "metadata": {
        "id": "7dLGOfSZT3yV"
      },
      "execution_count": null,
      "outputs": []
    },
    {
      "cell_type": "code",
      "source": [
        "load_data.columns\n",
        "load_data.show(5)"
      ],
      "metadata": {
        "colab": {
          "base_uri": "https://localhost:8080/"
        },
        "id": "k_30L40uffP_",
        "outputId": "deaae71c-df31-4334-8825-aa8eb54a046f"
      },
      "execution_count": null,
      "outputs": [
        {
          "output_type": "stream",
          "name": "stdout",
          "text": [
            "+-------+----------+----------+----------+-----------+\n",
            "|cust_id|cust_fname|cust_lname|cust_order|cust_status|\n",
            "+-------+----------+----------+----------+-----------+\n",
            "|      1|      john|       doe|         5|     active|\n",
            "|      2|      jane|     smith|         8|     active|\n",
            "|      3|   micheal|   jhonson|         3|   inactive|\n",
            "|      4|      abhi|   wiliams|         1|     active|\n",
            "|      5|       ram|     brown|         4|   inactive|\n",
            "+-------+----------+----------+----------+-----------+\n",
            "only showing top 5 rows\n",
            "\n"
          ]
        }
      ]
    },
    {
      "cell_type": "code",
      "source": [
        " #Transformation 1: Concatenate First and Last Names\n",
        "load_data = load_data.withColumn('full_name', concat(col('cust_fname'), lit(' '), col('cust_lname')))\n",
        "load_data.show(10)"
      ],
      "metadata": {
        "colab": {
          "base_uri": "https://localhost:8080/"
        },
        "id": "T0yYoxiHfi8w",
        "outputId": "6c9ab431-051b-43a1-87f8-4a7dafcd0e46"
      },
      "execution_count": null,
      "outputs": [
        {
          "output_type": "stream",
          "name": "stdout",
          "text": [
            "+-------+----------+----------+----------+-----------+---------------+\n",
            "|cust_id|cust_fname|cust_lname|cust_order|cust_status|      full_name|\n",
            "+-------+----------+----------+----------+-----------+---------------+\n",
            "|      1|      john|       doe|         5|     active|       john doe|\n",
            "|      2|      jane|     smith|         8|     active|     jane smith|\n",
            "|      3|   micheal|   jhonson|         3|   inactive|micheal jhonson|\n",
            "|      4|      abhi|   wiliams|         1|     active|   abhi wiliams|\n",
            "|      5|       ram|     brown|         4|   inactive|      ram brown|\n",
            "|      6|     emily|  anderson|         2|     active| emily anderson|\n",
            "|      7|   william|     jones|        10|     active|  william jones|\n",
            "|      8|     susan|     davis|         7|   inactive|    susan davis|\n",
            "|      9|     david|    miller|         9|     active|   david miller|\n",
            "|     10|      sara|     moore|         2|   inactive|     sara moore|\n",
            "+-------+----------+----------+----------+-----------+---------------+\n",
            "only showing top 10 rows\n",
            "\n"
          ]
        }
      ]
    },
    {
      "cell_type": "code",
      "source": [
        "# Transformation 2: Calculate Net Salary (subtract 10% as taxes)\n",
        "load_data = load_data.withColumn('net_salary', floor(lit(10000) + rand() * lit(50)))\n",
        "load_data.show(10)"
      ],
      "metadata": {
        "colab": {
          "base_uri": "https://localhost:8080/"
        },
        "id": "g_wBeLb4fl7q",
        "outputId": "13786007-04df-4178-fc2d-3999346046fb"
      },
      "execution_count": null,
      "outputs": [
        {
          "output_type": "stream",
          "name": "stdout",
          "text": [
            "+-------+----------+----------+----------+-----------+---------------+----------+\n",
            "|cust_id|cust_fname|cust_lname|cust_order|cust_status|      full_name|net_salary|\n",
            "+-------+----------+----------+----------+-----------+---------------+----------+\n",
            "|      1|      john|       doe|         5|     active|       john doe|     10018|\n",
            "|      2|      jane|     smith|         8|     active|     jane smith|     10044|\n",
            "|      3|   micheal|   jhonson|         3|   inactive|micheal jhonson|     10006|\n",
            "|      4|      abhi|   wiliams|         1|     active|   abhi wiliams|     10005|\n",
            "|      5|       ram|     brown|         4|   inactive|      ram brown|     10033|\n",
            "|      6|     emily|  anderson|         2|     active| emily anderson|     10002|\n",
            "|      7|   william|     jones|        10|     active|  william jones|     10035|\n",
            "|      8|     susan|     davis|         7|   inactive|    susan davis|     10005|\n",
            "|      9|     david|    miller|         9|     active|   david miller|     10033|\n",
            "|     10|      sara|     moore|         2|   inactive|     sara moore|     10022|\n",
            "+-------+----------+----------+----------+-----------+---------------+----------+\n",
            "only showing top 10 rows\n",
            "\n"
          ]
        }
      ]
    },
    {
      "cell_type": "code",
      "source": [
        "#adding age column\n",
        "load_data = load_data.withColumn('age', floor(lit(20) + rand() * lit(31)))\n",
        "load_data.show(10)"
      ],
      "metadata": {
        "colab": {
          "base_uri": "https://localhost:8080/"
        },
        "id": "oEhi9rSUfrPd",
        "outputId": "24939441-aee8-459e-e16a-8c29c67d6e51"
      },
      "execution_count": null,
      "outputs": [
        {
          "output_type": "stream",
          "name": "stdout",
          "text": [
            "+-------+----------+----------+----------+-----------+---------------+----------+---+\n",
            "|cust_id|cust_fname|cust_lname|cust_order|cust_status|      full_name|net_salary|age|\n",
            "+-------+----------+----------+----------+-----------+---------------+----------+---+\n",
            "|      1|      john|       doe|         5|     active|       john doe|     10018| 45|\n",
            "|      2|      jane|     smith|         8|     active|     jane smith|     10044| 41|\n",
            "|      3|   micheal|   jhonson|         3|   inactive|micheal jhonson|     10006| 20|\n",
            "|      4|      abhi|   wiliams|         1|     active|   abhi wiliams|     10005| 22|\n",
            "|      5|       ram|     brown|         4|   inactive|      ram brown|     10033| 42|\n",
            "|      6|     emily|  anderson|         2|     active| emily anderson|     10002| 34|\n",
            "|      7|   william|     jones|        10|     active|  william jones|     10035| 33|\n",
            "|      8|     susan|     davis|         7|   inactive|    susan davis|     10005| 31|\n",
            "|      9|     david|    miller|         9|     active|   david miller|     10033| 33|\n",
            "|     10|      sara|     moore|         2|   inactive|     sara moore|     10022| 21|\n",
            "+-------+----------+----------+----------+-----------+---------------+----------+---+\n",
            "only showing top 10 rows\n",
            "\n"
          ]
        }
      ]
    },
    {
      "cell_type": "code",
      "source": [
        "# # Transformation 3: Filter by Age (age >= 30)\n",
        "load_data = load_data.filter(col('age')>= 30)\n",
        "load_data.show()\n"
      ],
      "metadata": {
        "colab": {
          "base_uri": "https://localhost:8080/"
        },
        "id": "drWuSf_yfuSX",
        "outputId": "da9e6bcf-33ad-4bd3-d6bd-69d5de6f9131"
      },
      "execution_count": null,
      "outputs": [
        {
          "output_type": "stream",
          "name": "stdout",
          "text": [
            "+-------+----------+----------+----------+-----------+---------------+----------+---+\n",
            "|cust_id|cust_fname|cust_lname|cust_order|cust_status|      full_name|net_salary|age|\n",
            "+-------+----------+----------+----------+-----------+---------------+----------+---+\n",
            "|      1|      john|       doe|         5|     active|       john doe|     10018| 45|\n",
            "|      2|      jane|     smith|         8|     active|     jane smith|     10044| 41|\n",
            "|      5|       ram|     brown|         4|   inactive|      ram brown|     10033| 42|\n",
            "|      6|     emily|  anderson|         2|     active| emily anderson|     10002| 34|\n",
            "|      7|   william|     jones|        10|     active|  william jones|     10035| 33|\n",
            "|      8|     susan|     davis|         7|   inactive|    susan davis|     10005| 31|\n",
            "|      9|     david|    miller|         9|     active|   david miller|     10033| 33|\n",
            "|     11|     james|    tailor|         5|   inactive|   james tailor|     10032| 35|\n",
            "|     13|    robert|     evans|        11|     active|   robert evans|     10011| 31|\n",
            "|     14|      emma|    thomas|        29|     active|    emma thomas|     10030| 47|\n",
            "|     15|    mathew|     haris|         5|   inactive|   mathew haris|     10023| 47|\n",
            "|     16|  isabella|     white|         6|   inactive| isabella white|     10044| 34|\n",
            "|     17|    joseph|    martin|         4|   inactive|  joseph martin|     10016| 45|\n",
            "|     19|chrisopher|      basa|         8|   inactive|chrisopher basa|     10034| 32|\n",
            "|     20|       ava|    joesph|         3|     active|     ava joesph|     10032| 33|\n",
            "+-------+----------+----------+----------+-----------+---------------+----------+---+\n",
            "\n"
          ]
        }
      ]
    },
    {
      "cell_type": "code",
      "source": [
        "# Transformation 4: Group by Age and Calculate Average Salary\n",
        "avg_salary_by_age = load_data.groupBy('age').agg({'net_salary' :'avg'}).withColumnRenamed('avg(salary)', 'avg_salary')\n",
        "avg_salary_by_age.show()"
      ],
      "metadata": {
        "colab": {
          "base_uri": "https://localhost:8080/"
        },
        "id": "kY7YWMoRfyOO",
        "outputId": "4d012a96-90dc-4d37-ac81-495533b6366c"
      },
      "execution_count": null,
      "outputs": [
        {
          "output_type": "stream",
          "name": "stdout",
          "text": [
            "+---+------------------+\n",
            "|age|   avg(net_salary)|\n",
            "+---+------------------+\n",
            "| 34|           10023.0|\n",
            "| 32|           10034.0|\n",
            "| 31|           10008.0|\n",
            "| 41|           10044.0|\n",
            "| 33|10033.333333333334|\n",
            "| 35|           10032.0|\n",
            "| 42|           10033.0|\n",
            "| 45|           10017.0|\n",
            "| 47|           10026.5|\n",
            "+---+------------------+\n",
            "\n"
          ]
        }
      ]
    },
    {
      "cell_type": "code",
      "source": [
        "load_data = load_data.orderBy(\"age\")\n",
        "load_data.show()"
      ],
      "metadata": {
        "id": "HoqLkMpOf1tT",
        "outputId": "613458ec-be17-42af-ff83-b949ee62d4da",
        "colab": {
          "base_uri": "https://localhost:8080/"
        }
      },
      "execution_count": null,
      "outputs": [
        {
          "output_type": "stream",
          "name": "stdout",
          "text": [
            "+-------+----------+----------+----------+-----------+---------------+----------+---+\n",
            "|cust_id|cust_fname|cust_lname|cust_order|cust_status|      full_name|net_salary|age|\n",
            "+-------+----------+----------+----------+-----------+---------------+----------+---+\n",
            "|      8|     susan|     davis|         7|   inactive|    susan davis|     10005| 31|\n",
            "|     13|    robert|     evans|        11|     active|   robert evans|     10011| 31|\n",
            "|     19|chrisopher|      basa|         8|   inactive|chrisopher basa|     10034| 32|\n",
            "|      7|   william|     jones|        10|     active|  william jones|     10035| 33|\n",
            "|      9|     david|    miller|         9|     active|   david miller|     10033| 33|\n",
            "|     20|       ava|    joesph|         3|     active|     ava joesph|     10032| 33|\n",
            "|      6|     emily|  anderson|         2|     active| emily anderson|     10002| 34|\n",
            "|     16|  isabella|     white|         6|   inactive| isabella white|     10044| 34|\n",
            "|     11|     james|    tailor|         5|   inactive|   james tailor|     10032| 35|\n",
            "|      2|      jane|     smith|         8|     active|     jane smith|     10044| 41|\n",
            "|      5|       ram|     brown|         4|   inactive|      ram brown|     10033| 42|\n",
            "|      1|      john|       doe|         5|     active|       john doe|     10018| 45|\n",
            "|     17|    joseph|    martin|         4|   inactive|  joseph martin|     10016| 45|\n",
            "|     14|      emma|    thomas|        29|     active|    emma thomas|     10030| 47|\n",
            "|     15|    mathew|     haris|         5|   inactive|   mathew haris|     10023| 47|\n",
            "+-------+----------+----------+----------+-----------+---------------+----------+---+\n",
            "\n"
          ]
        }
      ]
    },
    {
      "cell_type": "code",
      "source": [
        "# Save the transformed data to an external CSV file\n",
        "load_data.write.csv(target_path, mode='overwrite', header=True)"
      ],
      "metadata": {
        "id": "ny4383ybf6eG"
      },
      "execution_count": null,
      "outputs": []
    },
    {
      "cell_type": "markdown",
      "source": [
        "**SparkContext**"
      ],
      "metadata": {
        "id": "917MrD68Ilng"
      }
    },
    {
      "cell_type": "code",
      "source": [],
      "metadata": {
        "id": "-XKJ3mVcz4t1"
      },
      "execution_count": null,
      "outputs": []
    },
    {
      "cell_type": "code",
      "source": [
        "# Create SparkSession from builder\n",
        "from pyspark.sql import SparkSession\n",
        "spark = SparkSession.builder.master(\"local[1]\") \\\n",
        "                    .appName('SparkByExamples.com') \\\n",
        "                    .getOrCreate()\n",
        "print(spark.sparkContext)\n",
        "print(\"Spark App Name : \"+ spark.sparkContext.appName)"
      ],
      "metadata": {
        "colab": {
          "base_uri": "https://localhost:8080/"
        },
        "id": "RVeVMZ6eIsZE",
        "outputId": "2734d1ec-95f1-42ba-ed8c-a5f047596253"
      },
      "execution_count": null,
      "outputs": [
        {
          "output_type": "stream",
          "name": "stdout",
          "text": [
            "<SparkContext master=local[*] appName=Life Stage Classification>\n",
            "Spark App Name : Life Stage Classification\n"
          ]
        }
      ]
    },
    {
      "cell_type": "code",
      "source": [
        "# SparkContext stop() method\n",
        "spark.sparkContext.stop()"
      ],
      "metadata": {
        "id": "NEaeXbk-dP-T"
      },
      "execution_count": null,
      "outputs": []
    },
    {
      "cell_type": "code",
      "source": [
        "from pyspark.sql import SparkSession\n",
        "\n",
        "# Initialize SparkSession\n",
        "spark = SparkSession.builder \\\n",
        "    .appName(\"SimpleRDDApp\") \\\n",
        "    .master(\"local[*]\") \\\n",
        "    .getOrCreate()\n",
        "\n",
        "# Get the SparkContext\n",
        "sc = spark.sparkContext\n",
        "rdd = sc.range(1, 5)\n",
        "print(rdd.collect())\n"
      ],
      "metadata": {
        "colab": {
          "base_uri": "https://localhost:8080/"
        },
        "id": "UeHABRlUL5mp",
        "outputId": "b8e9dcfb-ca56-4bc9-f026-8c1f46aaebfb"
      },
      "execution_count": null,
      "outputs": [
        {
          "output_type": "stream",
          "name": "stdout",
          "text": [
            "[1, 2, 3, 4]\n"
          ]
        }
      ]
    },
    {
      "cell_type": "code",
      "source": [
        "rdd = sc.textFile(\"test.txt\")   # Each line in the file becomes one element in the RDD\n",
        "data = [1,2,3,4,5]\n",
        "rdd = sc.parallelize(data)"
      ],
      "metadata": {
        "id": "E9uNZC7wNEUz"
      },
      "execution_count": null,
      "outputs": []
    },
    {
      "cell_type": "markdown",
      "source": [
        "**creating rdd**"
      ],
      "metadata": {
        "id": "s0wcsT_biZUK"
      }
    },
    {
      "cell_type": "code",
      "source": [
        "data = [1, 2, 3, 4]\n",
        "rdd = spark.sparkContext.parallelize(data)\n",
        "print(rdd.collect())"
      ],
      "metadata": {
        "colab": {
          "base_uri": "https://localhost:8080/"
        },
        "id": "TBUIxfBXiftN",
        "outputId": "13fc5ede-5b7a-4bd9-aeac-ad35b3040316"
      },
      "execution_count": null,
      "outputs": [
        {
          "output_type": "stream",
          "name": "stdout",
          "text": [
            "[1, 2, 3, 4]\n"
          ]
        }
      ]
    },
    {
      "cell_type": "code",
      "source": [
        "from pyspark.sql import SparkSession\n",
        "\n",
        "# Start SparkSession\n",
        "spark = SparkSession.builder \\\n",
        "    .master(\"local[1]\") \\\n",
        "    .appName(\"RDDExample\") \\\n",
        "    .getOrCreate()\n",
        "\n",
        "# Get SparkContext\n",
        "sc = spark.sparkContext\n"
      ],
      "metadata": {
        "id": "V_xHDuffj7dC"
      },
      "execution_count": null,
      "outputs": []
    },
    {
      "cell_type": "code",
      "source": [
        "from pyspark.sql import SparkSession\n",
        "\n",
        "# Create SparkSession\n",
        "spark = SparkSession.builder \\\n",
        "    .master(\"local[1]\") \\\n",
        "    .appName(\"ParallelizeExample\") \\\n",
        "    .getOrCreate()\n",
        "# Create RDD from parallelize\n",
        "data = [1,2,3,4,5,6,7,8,9,10,11,12]\n",
        "rdd = spark.sparkContext.parallelize(data)\n",
        "print(rdd.collect())"
      ],
      "metadata": {
        "colab": {
          "base_uri": "https://localhost:8080/"
        },
        "id": "WT5I6dggk6Ry",
        "outputId": "2ea77a59-7244-4e28-effe-4941fba3ff68"
      },
      "execution_count": null,
      "outputs": [
        {
          "output_type": "stream",
          "name": "stdout",
          "text": [
            "[1, 2, 3, 4, 5, 6, 7, 8, 9, 10, 11, 12]\n"
          ]
        }
      ]
    },
    {
      "cell_type": "code",
      "source": [
        "empty_rdd = sc.emptyRDD()\n",
        "print(empty_rdd.collect())"
      ],
      "metadata": {
        "colab": {
          "base_uri": "https://localhost:8080/"
        },
        "id": "nk4WieyCmdDi",
        "outputId": "18f2880f-5e79-46f3-e62c-5dd323b3148b"
      },
      "execution_count": null,
      "outputs": [
        {
          "output_type": "stream",
          "name": "stdout",
          "text": [
            "[]\n"
          ]
        }
      ]
    },
    {
      "cell_type": "code",
      "source": [
        "rdd_with_partitions = sc.parallelize([], 10)\n",
        "print(rdd_with_partitions.collect())"
      ],
      "metadata": {
        "colab": {
          "base_uri": "https://localhost:8080/"
        },
        "id": "X23w74jgnHJQ",
        "outputId": "c333b0f0-16e9-4c61-865e-42e66d2a18e5"
      },
      "execution_count": null,
      "outputs": [
        {
          "output_type": "stream",
          "name": "stdout",
          "text": [
            "[]\n"
          ]
        }
      ]
    },
    {
      "cell_type": "code",
      "source": [
        "rdd = sc.parallelize([1,2,3], 5)\n",
        "print(rdd.count())"
      ],
      "metadata": {
        "colab": {
          "base_uri": "https://localhost:8080/"
        },
        "id": "x8MiYYrUyt-e",
        "outputId": "20475ea4-1c0d-4d5f-d90b-e2fcc864ffe8"
      },
      "execution_count": null,
      "outputs": [
        {
          "output_type": "stream",
          "name": "stdout",
          "text": [
            "3\n"
          ]
        }
      ]
    },
    {
      "cell_type": "code",
      "source": [
        "rdd_new = rdd.repartition(4)\n",
        "print(rdd_new.collect())\n"
      ],
      "metadata": {
        "colab": {
          "base_uri": "https://localhost:8080/"
        },
        "id": "r96jqxydzf9Q",
        "outputId": "9c11308a-9611-44ee-85ed-266f7580be55"
      },
      "execution_count": null,
      "outputs": [
        {
          "output_type": "stream",
          "name": "stdout",
          "text": [
            "[1, 2, 3]\n"
          ]
        }
      ]
    },
    {
      "cell_type": "code",
      "source": [
        "rdd_small = rdd.coalesce(2)\n",
        "print(rdd_small.collect())"
      ],
      "metadata": {
        "colab": {
          "base_uri": "https://localhost:8080/"
        },
        "id": "q0nRIg8pz0zl",
        "outputId": "931cc6a3-b36f-42ff-e3df-3933b24050f5"
      },
      "execution_count": null,
      "outputs": [
        {
          "output_type": "stream",
          "name": "stdout",
          "text": [
            "[1, 2, 3]\n"
          ]
        }
      ]
    },
    {
      "cell_type": "markdown",
      "source": [
        "**Transfermation**"
      ],
      "metadata": {
        "id": "uIdw4-sxwxqG"
      }
    },
    {
      "cell_type": "code",
      "source": [
        "rdd = spark.sparkContext.textFile(\"/content/sample_text.txt\")"
      ],
      "metadata": {
        "colab": {
          "base_uri": "https://localhost:8080/"
        },
        "id": "KWrQNvcM193h",
        "outputId": "a17205e5-2c9d-476d-dd08-c3209b400f92"
      },
      "execution_count": null,
      "outputs": [
        {
          "output_type": "stream",
          "name": "stdout",
          "text": [
            "38\n"
          ]
        }
      ]
    },
    {
      "cell_type": "code",
      "source": [
        "rdd2 = rdd.flatMap(lambda line: line.split(\" \"))\n",
        "print(\"\\nWords after flatMap:\")\n",
        "print(rdd2.collect())"
      ],
      "metadata": {
        "colab": {
          "base_uri": "https://localhost:8080/"
        },
        "id": "L-3OyxKr31IZ",
        "outputId": "4de6b375-6d70-4a60-fe2e-de47108185c4"
      },
      "execution_count": null,
      "outputs": [
        {
          "output_type": "stream",
          "name": "stdout",
          "text": [
            "\n",
            "Words after flatMap:\n",
            "['PySpark', 'is', 'an', 'interface', 'for', 'Apache', 'Spark', 'in', 'Python.', 'It', 'allows', 'you', 'to', 'write', 'Spark', 'applications', 'using', 'Python', 'APIs.', 'PySpark', 'helps', 'data', 'scientists', 'and', 'engineers', 'to', 'work', 'with', 'large-scale', 'data', 'processing.', 'RDD', 'is', 'a', 'core', 'component', 'of', 'PySpark.']\n"
          ]
        }
      ]
    },
    {
      "cell_type": "code",
      "source": [
        "rdd3 = rdd2.map(lambda word: (word, 1))\n",
        "print(\"\\nAfter map (word, 1):\")\n",
        "print(rdd3.collect())"
      ],
      "metadata": {
        "colab": {
          "base_uri": "https://localhost:8080/"
        },
        "id": "fktL_isO4coj",
        "outputId": "1e54d0dd-0047-4f1e-c24d-c693afbbfc29"
      },
      "execution_count": null,
      "outputs": [
        {
          "output_type": "stream",
          "name": "stdout",
          "text": [
            "\n",
            "After map (word, 1):\n",
            "[('PySpark', 1), ('is', 1), ('an', 1), ('interface', 1), ('for', 1), ('Apache', 1), ('Spark', 1), ('in', 1), ('Python.', 1), ('It', 1), ('allows', 1), ('you', 1), ('to', 1), ('write', 1), ('Spark', 1), ('applications', 1), ('using', 1), ('Python', 1), ('APIs.', 1), ('PySpark', 1), ('helps', 1), ('data', 1), ('scientists', 1), ('and', 1), ('engineers', 1), ('to', 1), ('work', 1), ('with', 1), ('large-scale', 1), ('data', 1), ('processing.', 1), ('RDD', 1), ('is', 1), ('a', 1), ('core', 1), ('component', 1), ('of', 1), ('PySpark.', 1)]\n"
          ]
        }
      ]
    },
    {
      "cell_type": "code",
      "source": [
        "rdd4 = rdd3.reduceByKey(lambda a, b: a + b)\n",
        "print(\"\\nAfter reduceByKey (word counts):\")\n",
        "print(rdd4.collect())"
      ],
      "metadata": {
        "colab": {
          "base_uri": "https://localhost:8080/"
        },
        "id": "EDbu1YYG5CiG",
        "outputId": "d122db10-0b1c-49c9-9b15-efd8060bdaae"
      },
      "execution_count": null,
      "outputs": [
        {
          "output_type": "stream",
          "name": "stdout",
          "text": [
            "\n",
            "After reduceByKey (word counts):\n",
            "[('PySpark', 2), ('an', 1), ('interface', 1), ('for', 1), ('It', 1), ('you', 1), ('to', 2), ('write', 1), ('applications', 1), ('using', 1), ('Python', 1), ('helps', 1), ('and', 1), ('engineers', 1), ('work', 1), ('with', 1), ('core', 1), ('of', 1), ('is', 2), ('Apache', 1), ('Spark', 2), ('in', 1), ('Python.', 1), ('allows', 1), ('APIs.', 1), ('data', 2), ('scientists', 1), ('large-scale', 1), ('processing.', 1), ('RDD', 1), ('a', 1), ('component', 1), ('PySpark.', 1)]\n"
          ]
        }
      ]
    },
    {
      "cell_type": "code",
      "source": [
        "rdd5 = rdd4.map(lambda x: (x[1], x[0])).sortByKey()\n",
        "print(\"\\nSorted by count:\")\n",
        "print(rdd5.collect())"
      ],
      "metadata": {
        "colab": {
          "base_uri": "https://localhost:8080/"
        },
        "id": "i0FeFFHl5tQm",
        "outputId": "cfe14d61-4bd6-47bb-ad76-b0f9dfd64aa2"
      },
      "execution_count": null,
      "outputs": [
        {
          "output_type": "stream",
          "name": "stdout",
          "text": [
            "\n",
            "Sorted by count:\n",
            "[(1, 'an'), (1, 'interface'), (1, 'for'), (1, 'It'), (1, 'you'), (1, 'write'), (1, 'applications'), (1, 'using'), (1, 'Python'), (1, 'helps'), (1, 'and'), (1, 'engineers'), (1, 'work'), (1, 'with'), (1, 'core'), (1, 'of'), (1, 'Apache'), (1, 'in'), (1, 'Python.'), (1, 'allows'), (1, 'APIs.'), (1, 'scientists'), (1, 'large-scale'), (1, 'processing.'), (1, 'RDD'), (1, 'a'), (1, 'component'), (1, 'PySpark.'), (2, 'PySpark'), (2, 'to'), (2, 'is'), (2, 'Spark'), (2, 'data')]\n"
          ]
        }
      ]
    },
    {
      "cell_type": "code",
      "source": [
        "from pyspark.sql import SparkSession\n",
        "spark = SparkSession.builder.master(\"local[*]\")\\\n",
        "        .appName(\"DataFrame Example\")\\\n",
        "        .getOrCreate()\n",
        "data = [\n",
        "      ('James', '', 'Smith', '1991-04-01', 'M', 3000),\n",
        "      ('Michael', 'Rose', '', '2000-05-19', 'M', 4000),\n",
        "      ('Robert', '', 'Williams', '1978-09-05', 'M', 4000),\n",
        "      ('Maria', 'Anne', 'Jones', '1967-12-01', 'F', 4000),\n",
        "      ('Jen', 'Mary', 'Brown', '1980-02-17', 'F', -1)\n",
        "]\n",
        "#col names\n",
        "columns = [\"FirstName\", \"MiddleName\",\"LastName\", \"DOB\", \"Gender\", \"Salary\"]\n",
        "df = spark.createDataFrame(data = data, schema = columns)\n",
        "df.show()\n",
        "'''\n",
        "--- Note ---\n",
        "local[1] → Spark will run with 1 core (single-threaded).\n",
        "local[2] → Spark will run with 2 cores.\n",
        "local[*] → Spark will run with all cores available.\n",
        "\n",
        "'''\n"
      ],
      "metadata": {
        "id": "Dh7v1_l66xAX",
        "colab": {
          "base_uri": "https://localhost:8080/",
          "height": 209
        },
        "outputId": "0f8b521a-dfb5-4f65-dbc7-ca8ea692e060"
      },
      "execution_count": null,
      "outputs": [
        {
          "output_type": "stream",
          "name": "stdout",
          "text": [
            "+---------+----------+--------+----------+------+------+\n",
            "|FirstName|MiddleName|LastName|       DOB|Gender|Salary|\n",
            "+---------+----------+--------+----------+------+------+\n",
            "|    James|          |   Smith|1991-04-01|     M|  3000|\n",
            "|  Michael|      Rose|        |2000-05-19|     M|  4000|\n",
            "|   Robert|          |Williams|1978-09-05|     M|  4000|\n",
            "|    Maria|      Anne|   Jones|1967-12-01|     F|  4000|\n",
            "|      Jen|      Mary|   Brown|1980-02-17|     F|    -1|\n",
            "+---------+----------+--------+----------+------+------+\n",
            "\n"
          ]
        },
        {
          "output_type": "execute_result",
          "data": {
            "text/plain": [
              "'\\n--- Note ---\\nlocal[1] → Spark will run with 1 core (single-threaded).\\nlocal[2] → Spark will run with 2 cores.\\nlocal[*] → Spark will run with all cores available.\\n\\n'"
            ],
            "application/vnd.google.colaboratory.intrinsic+json": {
              "type": "string"
            }
          },
          "metadata": {},
          "execution_count": 58
        }
      ]
    },
    {
      "cell_type": "code",
      "source": [
        "# Select columns 2 to 4\n",
        "df.select(df.columns[2:4])\n",
        "df.show(3)"
      ],
      "metadata": {
        "colab": {
          "base_uri": "https://localhost:8080/"
        },
        "id": "bBloZ9uAQxmI",
        "outputId": "f25de481-64a3-4fc3-ae8e-60561203c74c"
      },
      "execution_count": null,
      "outputs": [
        {
          "output_type": "stream",
          "name": "stdout",
          "text": [
            "+---------+----------+--------+----------+------+------+\n",
            "|FirstName|MiddleName|LastName|       DOB|Gender|Salary|\n",
            "+---------+----------+--------+----------+------+------+\n",
            "|    James|          |   Smith|1991-04-01|     M|  3000|\n",
            "|  Michael|      Rose|        |2000-05-19|     M|  4000|\n",
            "|   Robert|          |Williams|1978-09-05|     M|  4000|\n",
            "+---------+----------+--------+----------+------+------+\n",
            "only showing top 3 rows\n",
            "\n"
          ]
        }
      ]
    },
    {
      "cell_type": "code",
      "source": [
        "df.printSchema()"
      ],
      "metadata": {
        "colab": {
          "base_uri": "https://localhost:8080/"
        },
        "id": "LWtpA4UECGnj",
        "outputId": "a6e4c903-aac2-411f-b6a3-5e6ce8e52053"
      },
      "execution_count": null,
      "outputs": [
        {
          "output_type": "stream",
          "name": "stdout",
          "text": [
            "root\n",
            " |-- FirstName: string (nullable = true)\n",
            " |-- MiddleName: string (nullable = true)\n",
            " |-- LastName: string (nullable = true)\n",
            " |-- DOB: string (nullable = true)\n",
            " |-- Gender: string (nullable = true)\n",
            " |-- Salary: long (nullable = true)\n",
            "\n"
          ]
        }
      ]
    },
    {
      "cell_type": "markdown",
      "source": [
        "**FILTERING**"
      ],
      "metadata": {
        "id": "CC1kfK5SJY82"
      }
    },
    {
      "cell_type": "code",
      "source": [
        "from pyspark.sql import SparkSession\n",
        "from pyspark.sql.functions import col\n",
        "spark = SparkSession.builder.appName('DataFrame Created For Filtering.com').getOrCreate()\n",
        "# Data as nested lists\n",
        "data = [\n",
        "    [[\"James\",\"\",\"Smith\"], [\"Java\",\"Scala\",\"C++\"], \"OH\", \"M\"],\n",
        "    [[\"Anna\",\"Rose\",\"\"], [\"Spark\",\"Java\",\"C++\"], \"NY\", \"F\"],\n",
        "    [[\"Julia\",\"\",\"Williams\"], [\"CSharp\",\"VB\"], \"OH\", \"F\"],\n",
        "    [[\"Maria\",\"Anne\",\"Jones\"], [\"CSharp\",\"VB\"], \"NY\", \"M\"],\n",
        "    [[\"Jen\",\"Mary\",\"Brown\"], [\"CSharp\",\"VB\"], \"NY\", \"M\"],\n",
        "    [[\"Mike\",\"Mary\",\"Williams\"], [\"Python\",\"VB\"], \"OH\", \"M\"]\n",
        "]\n",
        "# Column names\n",
        "columns = [\"name\", \"languages\", \"state\", \"gender\"]\n",
        "# Create DataFrame with schema\n",
        "df = spark.createDataFrame(data, columns)\n",
        "df.show(truncate=False)\n",
        "df.printSchema()\n"
      ],
      "metadata": {
        "colab": {
          "base_uri": "https://localhost:8080/"
        },
        "id": "9v7zCBs0JjQc",
        "outputId": "2c6e1e9b-bcd4-4382-f1bd-16c94182eb9c"
      },
      "execution_count": null,
      "outputs": [
        {
          "output_type": "stream",
          "name": "stdout",
          "text": [
            "+----------------------+------------------+-----+------+\n",
            "|name                  |languages         |state|gender|\n",
            "+----------------------+------------------+-----+------+\n",
            "|[James, , Smith]      |[Java, Scala, C++]|OH   |M     |\n",
            "|[Anna, Rose, ]        |[Spark, Java, C++]|NY   |F     |\n",
            "|[Julia, , Williams]   |[CSharp, VB]      |OH   |F     |\n",
            "|[Maria, Anne, Jones]  |[CSharp, VB]      |NY   |M     |\n",
            "|[Jen, Mary, Brown]    |[CSharp, VB]      |NY   |M     |\n",
            "|[Mike, Mary, Williams]|[Python, VB]      |OH   |M     |\n",
            "+----------------------+------------------+-----+------+\n",
            "\n",
            "root\n",
            " |-- name: array (nullable = true)\n",
            " |    |-- element: string (containsNull = true)\n",
            " |-- languages: array (nullable = true)\n",
            " |    |-- element: string (containsNull = true)\n",
            " |-- state: string (nullable = true)\n",
            " |-- gender: string (nullable = true)\n",
            "\n"
          ]
        }
      ]
    },
    {
      "cell_type": "code",
      "source": [
        "#Using != operator\n",
        "df.filter(~(df.state == \"OH\")).show()\n",
        "#Using ~ (Negation) operator\n",
        "df.where(df.state != \"NY\").show()\n"
      ],
      "metadata": {
        "colab": {
          "base_uri": "https://localhost:8080/"
        },
        "id": "oNB56Mx3Ksn8",
        "outputId": "930fc6f5-128a-4bd0-dca6-9422fdafb4c6"
      },
      "execution_count": null,
      "outputs": [
        {
          "output_type": "stream",
          "name": "stdout",
          "text": [
            "+--------------------+------------------+-----+------+\n",
            "|                name|         languages|state|gender|\n",
            "+--------------------+------------------+-----+------+\n",
            "|      [Anna, Rose, ]|[Spark, Java, C++]|   NY|     F|\n",
            "|[Maria, Anne, Jones]|      [CSharp, VB]|   NY|     M|\n",
            "|  [Jen, Mary, Brown]|      [CSharp, VB]|   NY|     M|\n",
            "+--------------------+------------------+-----+------+\n",
            "\n",
            "+--------------------+------------------+-----+------+\n",
            "|                name|         languages|state|gender|\n",
            "+--------------------+------------------+-----+------+\n",
            "|    [James, , Smith]|[Java, Scala, C++]|   OH|     M|\n",
            "| [Julia, , Williams]|      [CSharp, VB]|   OH|     F|\n",
            "|[Mike, Mary, Will...|      [Python, VB]|   OH|     M|\n",
            "+--------------------+------------------+-----+------+\n",
            "\n"
          ]
        }
      ]
    },
    {
      "cell_type": "code",
      "source": [
        "from pyspark.sql import SparkSession\n",
        "from pyspark.sql.functions import col\n",
        "\n",
        "spark = SparkSession.builder.master(\"local[*]\").appName(\"Filter Example\").getOrCreate()\n",
        "\n",
        "data = [\n",
        "    (\"James\", \"Sales\", 3000),\n",
        "    (\"Michael\", \"Sales\", 4600),\n",
        "    (\"Robert\", \"Sales\", 4100),\n",
        "    (\"Maria\", \"Finance\", 3000),\n",
        "    (\"Raman\", \"Finance\", 3300),\n",
        "    (\"Scott\", \"Finance\", 3900),\n",
        "    (\"Jen\", \"Finance\", 3000),\n",
        "    (\"Jeff\", \"Marketing\", 3000),\n",
        "    (\"Kumar\", \"Marketing\", 2000),\n",
        "]\n",
        "\n",
        "columns = [\"Name\", \"Department\", \"Salary\"]\n",
        "df = spark.createDataFrame(data, columns)\n",
        "\n",
        "# Filter: Salary > 3000\n",
        "df.filter(col(\"Salary\") > 3000).show()\n",
        "\n"
      ],
      "metadata": {
        "colab": {
          "base_uri": "https://localhost:8080/"
        },
        "id": "62oGTYI-z6Ox",
        "outputId": "b631d6a3-dda1-484e-9752-375b41136c34"
      },
      "execution_count": null,
      "outputs": [
        {
          "output_type": "stream",
          "name": "stdout",
          "text": [
            "+-------+----------+------+\n",
            "|   Name|Department|Salary|\n",
            "+-------+----------+------+\n",
            "|Michael|     Sales|  4600|\n",
            "| Robert|     Sales|  4100|\n",
            "|  Raman|   Finance|  3300|\n",
            "|  Scott|   Finance|  3900|\n",
            "+-------+----------+------+\n",
            "\n"
          ]
        }
      ]
    },
    {
      "cell_type": "code",
      "source": [
        "df.filter(col(\"Name\").startswith(\"J\")).show()\n"
      ],
      "metadata": {
        "colab": {
          "base_uri": "https://localhost:8080/"
        },
        "id": "Y33YDXl21KnJ",
        "outputId": "d013841f-acef-45bf-d5de-d959ccf6de20"
      },
      "execution_count": null,
      "outputs": [
        {
          "output_type": "stream",
          "name": "stdout",
          "text": [
            "+-----+----------+------+\n",
            "| Name|Department|Salary|\n",
            "+-----+----------+------+\n",
            "|James|     Sales|  3000|\n",
            "|  Jen|   Finance|  3000|\n",
            "| Jeff| Marketing|  3000|\n",
            "+-----+----------+------+\n",
            "\n"
          ]
        }
      ]
    },
    {
      "cell_type": "code",
      "source": [
        "df.filter(col(\"Name\").like(\"J%\")).show()   # Names starting with J\n"
      ],
      "metadata": {
        "id": "EO8Isdb71Ni-",
        "outputId": "ef6b93e9-e987-4827-ba61-12cfca645b12",
        "colab": {
          "base_uri": "https://localhost:8080/"
        }
      },
      "execution_count": null,
      "outputs": [
        {
          "output_type": "stream",
          "name": "stdout",
          "text": [
            "+-----+----------+------+\n",
            "| Name|Department|Salary|\n",
            "+-----+----------+------+\n",
            "|James|     Sales|  3000|\n",
            "|  Jen|   Finance|  3000|\n",
            "| Jeff| Marketing|  3000|\n",
            "+-----+----------+------+\n",
            "\n"
          ]
        }
      ]
    },
    {
      "cell_type": "code",
      "source": [
        "df.filter(col(\"Department\").isin(\"Sales\", \"Finance\")).show()\n"
      ],
      "metadata": {
        "id": "lLYEkKXs1Q8c",
        "outputId": "1f9cb920-672b-44fd-d954-9b081bf1e817",
        "colab": {
          "base_uri": "https://localhost:8080/"
        }
      },
      "execution_count": null,
      "outputs": [
        {
          "output_type": "stream",
          "name": "stdout",
          "text": [
            "+-------+----------+------+\n",
            "|   Name|Department|Salary|\n",
            "+-------+----------+------+\n",
            "|  James|     Sales|  3000|\n",
            "|Michael|     Sales|  4600|\n",
            "| Robert|     Sales|  4100|\n",
            "|  Maria|   Finance|  3000|\n",
            "|  Raman|   Finance|  3300|\n",
            "|  Scott|   Finance|  3900|\n",
            "|    Jen|   Finance|  3000|\n",
            "+-------+----------+------+\n",
            "\n"
          ]
        }
      ]
    },
    {
      "cell_type": "markdown",
      "source": [
        "**Dropping**"
      ],
      "metadata": {
        "id": "OMce2bgRUYD0"
      }
    },
    {
      "cell_type": "code",
      "source": [
        "from os import truncate\n",
        "from pyspark.sql import SparkSession\n",
        "from pyspark.sql.functions import col\n",
        "spark = SparkSession.builder.appName(\"Dropping Example\").getOrCreate()\n",
        "simpleData = [\n",
        "    (\"James\", \"\", \"Smith\", \"36636\", \"NewYork\", 3100),\n",
        "    (\"Michael\", \"Rose\", \"\", \"40288\", \"California\", 4300),\n",
        "    (\"Robert\", \"\", \"Williams\", \"42114\", \"Florida\", 1400),\n",
        "    (\"Maria\", \"Anne\", \"Jones\", \"39192\", \"Florida\", 5500),\n",
        "    (\"Jen\", \"Mary\", \"Brown\", \"34561\", \"NewYork\", 3000)\n",
        "]\n",
        "columns  = [\"firstname\", \"middlename\", \"lastname\", \"id\",\"location\", \"salary\"]\n",
        "df = spark.createDataFrame(data = simpleData, schema = columns)\n",
        "df.printSchema()\n",
        "df.show(truncate= False)"
      ],
      "metadata": {
        "colab": {
          "base_uri": "https://localhost:8080/"
        },
        "id": "RjrC76ASUbvG",
        "outputId": "cc09cf19-8a6c-4e2e-be6a-8e3f668c3992"
      },
      "execution_count": null,
      "outputs": [
        {
          "output_type": "stream",
          "name": "stdout",
          "text": [
            "root\n",
            " |-- firstname: string (nullable = true)\n",
            " |-- middlename: string (nullable = true)\n",
            " |-- lastname: string (nullable = true)\n",
            " |-- id: string (nullable = true)\n",
            " |-- location: string (nullable = true)\n",
            " |-- salary: long (nullable = true)\n",
            "\n",
            "+---------+----------+--------+-----+----------+------+\n",
            "|firstname|middlename|lastname|id   |location  |salary|\n",
            "+---------+----------+--------+-----+----------+------+\n",
            "|James    |          |Smith   |36636|NewYork   |3100  |\n",
            "|Michael  |Rose      |        |40288|California|4300  |\n",
            "|Robert   |          |Williams|42114|Florida   |1400  |\n",
            "|Maria    |Anne      |Jones   |39192|Florida   |5500  |\n",
            "|Jen      |Mary      |Brown   |34561|NewYork   |3000  |\n",
            "+---------+----------+--------+-----+----------+------+\n",
            "\n"
          ]
        }
      ]
    },
    {
      "cell_type": "code",
      "source": [
        "df.drop(col(\"firstname\")).printSchema()\n",
        "df.drop(df.firstname).printSchema()"
      ],
      "metadata": {
        "colab": {
          "base_uri": "https://localhost:8080/"
        },
        "id": "P5IZE8LtdkUf",
        "outputId": "d1933e4f-c771-4ff1-a6bf-c68ebe23e3b2"
      },
      "execution_count": null,
      "outputs": [
        {
          "output_type": "stream",
          "name": "stdout",
          "text": [
            "root\n",
            " |-- middlename: string (nullable = true)\n",
            " |-- lastname: string (nullable = true)\n",
            " |-- id: string (nullable = true)\n",
            " |-- location: string (nullable = true)\n",
            " |-- salary: long (nullable = true)\n",
            "\n",
            "root\n",
            " |-- middlename: string (nullable = true)\n",
            " |-- lastname: string (nullable = true)\n",
            " |-- id: string (nullable = true)\n",
            " |-- location: string (nullable = true)\n",
            " |-- salary: long (nullable = true)\n",
            "\n"
          ]
        }
      ]
    },
    {
      "cell_type": "markdown",
      "source": [
        "Drop rows"
      ],
      "metadata": {
        "id": "IEa7UDjAe_4i"
      }
    },
    {
      "cell_type": "code",
      "source": [
        "import pyspark\n",
        "from pyspark.sql import SparkSession\n",
        "spark = SparkSession.builder.appName('sparkdf').getOrCreate()\n",
        "\n",
        "data = [[\"1\", None, \"company 1\"],\n",
        "        [\"2\", \"ojaswi\", \"company 2\"],\n",
        "        [None, \"bobby\", \"company 3\"],\n",
        "        [\"1\", \"sravan\", \"company 1\"],\n",
        "        [\"2\", \"ojaswi\", None],\n",
        "        [None, \"rohith\", \"company 2\"],\n",
        "        [\"5\", \"gnanesh\", \"company 1\"],\n",
        "        [\"2\", None, \"company 2\"],\n",
        "        [\"3\", \"bobby\", \"company 3\"],\n",
        "        [\"4\", \"rohith\", None]]\n",
        "\n",
        "columns = ['Employee_ID', 'Employee_NAME', 'Company_Name']\n",
        "df = spark.createDataFrame(data, columns)\n",
        "df.show()"
      ],
      "metadata": {
        "colab": {
          "base_uri": "https://localhost:8080/"
        },
        "id": "C_cotGwqe_CY",
        "outputId": "cbfe38d8-0834-41cc-bb01-a785493d23a6"
      },
      "execution_count": null,
      "outputs": [
        {
          "output_type": "stream",
          "name": "stdout",
          "text": [
            "+-----------+-------------+------------+\n",
            "|Employee_ID|Employee_NAME|Company_Name|\n",
            "+-----------+-------------+------------+\n",
            "|          1|         NULL|   company 1|\n",
            "|          2|       ojaswi|   company 2|\n",
            "|       NULL|        bobby|   company 3|\n",
            "|          1|       sravan|   company 1|\n",
            "|          2|       ojaswi|        NULL|\n",
            "|       NULL|       rohith|   company 2|\n",
            "|          5|      gnanesh|   company 1|\n",
            "|          2|         NULL|   company 2|\n",
            "|          3|        bobby|   company 3|\n",
            "|          4|       rohith|        NULL|\n",
            "+-----------+-------------+------------+\n",
            "\n"
          ]
        }
      ]
    },
    {
      "cell_type": "code",
      "source": [
        "df.filter(df[\"Employee_NAME\"].isNotNull()).show()"
      ],
      "metadata": {
        "colab": {
          "base_uri": "https://localhost:8080/"
        },
        "id": "SP-Zs6uDgt13",
        "outputId": "1d096202-c40b-43eb-ee70-d75552dc34aa"
      },
      "execution_count": null,
      "outputs": [
        {
          "output_type": "stream",
          "name": "stdout",
          "text": [
            "+-----------+-------------+------------+\n",
            "|Employee_ID|Employee_NAME|Company_Name|\n",
            "+-----------+-------------+------------+\n",
            "|          2|       ojaswi|   company 2|\n",
            "|       NULL|        bobby|   company 3|\n",
            "|          1|       sravan|   company 1|\n",
            "|          2|       ojaswi|        NULL|\n",
            "|       NULL|       rohith|   company 2|\n",
            "|          5|      gnanesh|   company 1|\n",
            "|          3|        bobby|   company 3|\n",
            "|          4|       rohith|        NULL|\n",
            "+-----------+-------------+------------+\n",
            "\n"
          ]
        }
      ]
    },
    {
      "cell_type": "markdown",
      "source": [
        "drop rows - duplicates"
      ],
      "metadata": {
        "id": "jpYtUCvLyuSa"
      }
    },
    {
      "cell_type": "code",
      "source": [
        "import pyspark\n",
        "from pyspark.sql import SparkSession\n",
        "spark = SparkSession.builder.appName('Duplicate_rows').getOrCreate()\n",
        "data = [[\"1\", \"sravan\", \"company 1\"],\n",
        "        [\"2\", \"ojaswi\", \"company 2\"],\n",
        "        [\"3\", \"bobby\", \"company 3\"],\n",
        "        [\"1\", \"sravan\", \"company 1\"],\n",
        "        [\"2\", \"ojaswi\", \"company 2\"],\n",
        "        [\"6\", \"rohith\", \"company 2\"],\n",
        "        [\"5\", \"gnanesh\", \"company 1\"],\n",
        "        [\"2\", \"ojaswi\", \"company 2\"],\n",
        "        [\"3\", \"bobby\", \"company 3\"],\n",
        "        [\"4\", \"rohith\", \"company 2\"]]\n",
        "\n",
        "columns = ['ID', 'Employee_NAME', 'Company_Name']\n",
        "df = spark.createDataFrame(data, columns)\n",
        "df.dropDuplicates().show()"
      ],
      "metadata": {
        "colab": {
          "base_uri": "https://localhost:8080/"
        },
        "id": "nXBdpTKaxp4h",
        "outputId": "2d201650-3e2e-4599-dd7d-ba11185a9c90"
      },
      "execution_count": null,
      "outputs": [
        {
          "output_type": "stream",
          "name": "stdout",
          "text": [
            "+---+-------------+------------+\n",
            "| ID|Employee_NAME|Company_Name|\n",
            "+---+-------------+------------+\n",
            "|  2|       ojaswi|   company 2|\n",
            "|  1|       sravan|   company 1|\n",
            "|  3|        bobby|   company 3|\n",
            "|  4|       rohith|   company 2|\n",
            "|  6|       rohith|   company 2|\n",
            "|  5|      gnanesh|   company 1|\n",
            "+---+-------------+------------+\n",
            "\n"
          ]
        }
      ]
    },
    {
      "cell_type": "markdown",
      "source": [
        "Remove duplicate rows by using a distinct function"
      ],
      "metadata": {
        "id": "q1j-tPKCzscE"
      }
    },
    {
      "cell_type": "code",
      "source": [
        "df.distinct().show()"
      ],
      "metadata": {
        "colab": {
          "base_uri": "https://localhost:8080/"
        },
        "id": "-rYUg4MA61Af",
        "outputId": "72ce5777-c6a4-4207-e25a-345cbbb0c02b"
      },
      "execution_count": null,
      "outputs": [
        {
          "output_type": "stream",
          "name": "stdout",
          "text": [
            "+---+-------------+------------+\n",
            "| ID|Employee_NAME|Company_Name|\n",
            "+---+-------------+------------+\n",
            "|  2|       ojaswi|   company 2|\n",
            "|  1|       sravan|   company 1|\n",
            "|  3|        bobby|   company 3|\n",
            "|  4|       rohith|   company 2|\n",
            "|  6|       rohith|   company 2|\n",
            "|  5|      gnanesh|   company 1|\n",
            "+---+-------------+------------+\n",
            "\n"
          ]
        }
      ]
    },
    {
      "cell_type": "markdown",
      "source": [
        "**Using** **Conditons**"
      ],
      "metadata": {
        "id": "p_afk24z7LAX"
      }
    },
    {
      "cell_type": "code",
      "source": [
        "from pyspark.sql.functions import col\n",
        "df.where(col(\"ID\").cast(\"int\")>4).show()"
      ],
      "metadata": {
        "colab": {
          "base_uri": "https://localhost:8080/"
        },
        "id": "_q_KJqE8D2ZK",
        "outputId": "028d36ec-2c12-4495-e231-40ac78f6d8b1"
      },
      "execution_count": null,
      "outputs": [
        {
          "output_type": "stream",
          "name": "stdout",
          "text": [
            "+---+-------------+------------+\n",
            "| ID|Employee_NAME|Company_Name|\n",
            "+---+-------------+------------+\n",
            "|  6|       rohith|   company 2|\n",
            "|  5|      gnanesh|   company 1|\n",
            "+---+-------------+------------+\n",
            "\n"
          ]
        }
      ]
    },
    {
      "cell_type": "code",
      "source": [
        "df.where(col(\"Company_Name\") != 'company 1').show()"
      ],
      "metadata": {
        "colab": {
          "base_uri": "https://localhost:8080/"
        },
        "id": "Q_m3qAeZGFU_",
        "outputId": "758a2d2b-ba28-475e-cb1b-0f493c48b754"
      },
      "execution_count": null,
      "outputs": [
        {
          "output_type": "stream",
          "name": "stdout",
          "text": [
            "+---+-------------+------------+\n",
            "| ID|Employee_NAME|Company_Name|\n",
            "+---+-------------+------------+\n",
            "|  2|       ojaswi|   company 2|\n",
            "|  3|        bobby|   company 3|\n",
            "|  2|       ojaswi|   company 2|\n",
            "|  6|       rohith|   company 2|\n",
            "|  2|       ojaswi|   company 2|\n",
            "|  3|        bobby|   company 3|\n",
            "|  4|       rohith|   company 2|\n",
            "+---+-------------+------------+\n",
            "\n"
          ]
        }
      ]
    },
    {
      "cell_type": "markdown",
      "source": [
        "filter"
      ],
      "metadata": {
        "id": "-AfUTrEZG18u"
      }
    },
    {
      "cell_type": "code",
      "source": [
        "df.filter(df.ID != 4).show()"
      ],
      "metadata": {
        "colab": {
          "base_uri": "https://localhost:8080/"
        },
        "id": "KiWn9PIlG0-L",
        "outputId": "8d8fa6fc-9b22-4f7d-8ae0-bffe48aa57a7"
      },
      "execution_count": null,
      "outputs": [
        {
          "output_type": "stream",
          "name": "stdout",
          "text": [
            "+---+-------------+------------+\n",
            "| ID|Employee_NAME|Company_Name|\n",
            "+---+-------------+------------+\n",
            "|  1|       sravan|   company 1|\n",
            "|  2|       ojaswi|   company 2|\n",
            "|  3|        bobby|   company 3|\n",
            "|  1|       sravan|   company 1|\n",
            "|  2|       ojaswi|   company 2|\n",
            "|  6|       rohith|   company 2|\n",
            "|  5|      gnanesh|   company 1|\n",
            "|  2|       ojaswi|   company 2|\n",
            "|  3|        bobby|   company 3|\n",
            "+---+-------------+------------+\n",
            "\n"
          ]
        }
      ]
    },
    {
      "cell_type": "markdown",
      "source": [
        "**sorting**"
      ],
      "metadata": {
        "id": "LpX5msoP5o2G"
      }
    },
    {
      "cell_type": "code",
      "source": [
        "from pyspark.sql import SparkSession\n",
        "import pandas as pd\n",
        "from google.colab import drive\n",
        "spark = SparkSession.builder.master(\"local[1]\").appName(\"Sorting Example\").getOrCreate()\n",
        "sc = spark.sparkContext\n",
        "df = spark.read.csv('/content/college_student_placement_dataset (1).csv', header= True, inferSchema=True)\n",
        "df.show()"
      ],
      "metadata": {
        "id": "q_dkUIMo6VI9",
        "colab": {
          "base_uri": "https://localhost:8080/"
        },
        "outputId": "e9bc29ef-3041-4ba7-d89b-bdfb19aeddcf"
      },
      "execution_count": null,
      "outputs": [
        {
          "output_type": "stream",
          "name": "stdout",
          "text": [
            "+----------+---+---------------+-----+--------------------+---------------------+----------------------+--------------------+------------------+---------+\n",
            "|College_ID| IQ|Prev_Sem_Result| CGPA|Academic_Performance|Internship_Experience|Extra_Curricular_Score|Communication_Skills|Projects_Completed|Placement|\n",
            "+----------+---+---------------+-----+--------------------+---------------------+----------------------+--------------------+------------------+---------+\n",
            "|   CLG0030|107|           6.61| 6.28|                   8|                   No|                     8|                   8|                 4|       No|\n",
            "|   CLG0061| 97|           5.52| 5.37|                   8|                   No|                     7|                   8|                 0|       No|\n",
            "|   CLG0036|109|           5.36| 5.83|                   9|                   No|                     3|                   1|                 1|       No|\n",
            "|   CLG0055|122|           5.47| 5.75|                   6|                  Yes|                     1|                   6|                 1|       No|\n",
            "|   CLG0004| 96|           7.91| 7.69|                   7|                   No|                     8|                  10|                 2|       No|\n",
            "|   CLG0015| 96|           5.26| 5.32|                   7|                   No|                     5|                   8|                 0|       No|\n",
            "|   CLG0071|123|           6.68| 6.58|                   5|                   No|                     7|                   8|                 2|      Yes|\n",
            "|   CLG0096|111|           8.77| 8.76|                   7|                   No|                     3|                   1|                 2|      Yes|\n",
            "|   CLG0097| 92|           6.47| 6.33|                   9|                   No|                     7|                   8|                 5|       No|\n",
            "|   CLG0057|108|           8.82|  8.6|                   4|                   No|                     5|                   9|                 1|       No|\n",
            "|   CLG0063| 93|           8.73|  8.9|                   2|                  Yes|                     5|                   6|                 0|       No|\n",
            "|   CLG0077| 93|           6.23| 6.51|                   8|                   No|                     5|                   7|                 4|       No|\n",
            "|   CLG0064|103|           8.64| 9.01|                   7|                  Yes|                     8|                   6|                 1|       No|\n",
            "|   CLG0017| 71|           8.74|  8.4|                   6|                   No|                     0|                   5|                 2|       No|\n",
            "|   CLG0053| 74|           6.99| 7.31|                   7|                   No|                     0|                   1|                 2|       No|\n",
            "|   CLG0040| 91|           6.05|  5.8|                   3|                   No|                     4|                   2|                 3|       No|\n",
            "|   CLG0070| 84|           7.61| 7.54|                   6|                   No|                     0|                  10|                 0|       No|\n",
            "|   CLG0050|104|           9.61|10.01|                  10|                  Yes|                     9|                   2|                 4|       No|\n",
            "|   CLG0068| 86|            8.2| 8.15|                   7|                   No|                     8|                   9|                 4|      Yes|\n",
            "|   CLG0015| 78|           5.86| 5.56|                   7|                  Yes|                     3|                   6|                 2|       No|\n",
            "+----------+---+---------------+-----+--------------------+---------------------+----------------------+--------------------+------------------+---------+\n",
            "only showing top 20 rows\n",
            "\n"
          ]
        }
      ]
    },
    {
      "cell_type": "markdown",
      "source": [
        "asc"
      ],
      "metadata": {
        "id": "UwULLPOK7ODf"
      }
    },
    {
      "cell_type": "code",
      "source": [
        "df.sort(\"CGPA\").show()\n"
      ],
      "metadata": {
        "colab": {
          "base_uri": "https://localhost:8080/"
        },
        "id": "hKgFJwPl6TpP",
        "outputId": "e5d060f2-58ab-4325-c585-983a2fe2d96c"
      },
      "execution_count": null,
      "outputs": [
        {
          "output_type": "stream",
          "name": "stdout",
          "text": [
            "+----------+---+---------------+----+--------------------+---------------------+----------------------+--------------------+------------------+---------+\n",
            "|College_ID| IQ|Prev_Sem_Result|CGPA|Academic_Performance|Internship_Experience|Extra_Curricular_Score|Communication_Skills|Projects_Completed|Placement|\n",
            "+----------+---+---------------+----+--------------------+---------------------+----------------------+--------------------+------------------+---------+\n",
            "|   CLG0044|113|           5.03|4.54|                   6|                  Yes|                     9|                   5|                 4|       No|\n",
            "|   CLG0017| 99|           5.01|4.56|                   5|                  Yes|                     0|                   9|                 4|       No|\n",
            "|   CLG0025| 97|           5.06|4.57|                   6|                   No|                     7|                   5|                 2|       No|\n",
            "|   CLG0005|123|           5.02|4.58|                   3|                  Yes|                     2|                   9|                 5|      Yes|\n",
            "|   CLG0029| 98|           5.03|4.59|                  10|                   No|                    10|                   4|                 0|       No|\n",
            "|   CLG0090| 98|           5.06|4.59|                   8|                   No|                     3|                   3|                 0|       No|\n",
            "|   CLG0067|130|           5.04|4.59|                   3|                  Yes|                     1|                  10|                 4|      Yes|\n",
            "|   CLG0011|110|           5.04| 4.6|                   1|                   No|                     0|                   4|                 1|       No|\n",
            "|   CLG0050| 92|           5.09| 4.6|                   8|                   No|                     4|                   3|                 2|       No|\n",
            "|   CLG0023|101|           5.02|4.61|                   5|                   No|                     7|                   3|                 4|       No|\n",
            "|   CLG0078|103|           5.01|4.61|                   2|                  Yes|                     0|                  10|                 4|       No|\n",
            "|   CLG0085|109|           5.03|4.61|                   4|                   No|                    10|                  10|                 5|       No|\n",
            "|   CLG0009| 93|           5.05|4.61|                   2|                   No|                     7|                   7|                 1|       No|\n",
            "|   CLG0069|105|            5.0|4.61|                   8|                   No|                     7|                   3|                 1|       No|\n",
            "|   CLG0010|103|           5.05|4.61|                   3|                  Yes|                     6|                   2|                 4|       No|\n",
            "|   CLG0026| 81|           5.07|4.62|                  10|                   No|                     7|                   9|                 5|       No|\n",
            "|   CLG0076| 73|            5.0|4.62|                   9|                   No|                     1|                   6|                 4|       No|\n",
            "|   CLG0066| 95|           5.08|4.63|                   3|                  Yes|                     7|                   2|                 4|       No|\n",
            "|   CLG0004|104|           5.05|4.64|                  10|                  Yes|                     2|                   5|                 1|       No|\n",
            "|   CLG0053| 77|           5.08|4.65|                   4|                  Yes|                     3|                   1|                 3|       No|\n",
            "+----------+---+---------------+----+--------------------+---------------------+----------------------+--------------------+------------------+---------+\n",
            "only showing top 20 rows\n",
            "\n"
          ]
        }
      ]
    },
    {
      "cell_type": "code",
      "source": [
        "from pyspark.sql.functions import col\n",
        "df.sort(\"Prev_Sem_Result\",\"CGPA\").show()"
      ],
      "metadata": {
        "colab": {
          "base_uri": "https://localhost:8080/"
        },
        "id": "JJawfFXjATMk",
        "outputId": "9793bda2-a13a-4370-a037-fb36cdc556d4"
      },
      "execution_count": null,
      "outputs": [
        {
          "output_type": "stream",
          "name": "stdout",
          "text": [
            "+----------+---+---------------+----+--------------------+---------------------+----------------------+--------------------+------------------+---------+\n",
            "|College_ID| IQ|Prev_Sem_Result|CGPA|Academic_Performance|Internship_Experience|Extra_Curricular_Score|Communication_Skills|Projects_Completed|Placement|\n",
            "+----------+---+---------------+----+--------------------+---------------------+----------------------+--------------------+------------------+---------+\n",
            "|   CLG0069|105|            5.0|4.61|                   8|                   No|                     7|                   3|                 1|       No|\n",
            "|   CLG0076| 73|            5.0|4.62|                   9|                   No|                     1|                   6|                 4|       No|\n",
            "|   CLG0004| 88|            5.0|4.69|                   3|                   No|                     0|                   2|                 0|       No|\n",
            "|   CLG0038|108|            5.0| 4.7|                   6|                   No|                     8|                   7|                 3|       No|\n",
            "|   CLG0069| 86|            5.0|4.72|                   7|                  Yes|                    10|                   6|                 0|       No|\n",
            "|   CLG0088| 90|            5.0|4.81|                   7|                   No|                     3|                   6|                 4|       No|\n",
            "|   CLG0088| 73|            5.0|4.86|                   8|                   No|                     7|                   4|                 2|       No|\n",
            "|   CLG0097|117|            5.0|4.87|                   3|                  Yes|                     8|                   6|                 1|       No|\n",
            "|   CLG0046| 92|            5.0|4.95|                   4|                  Yes|                     1|                   5|                 5|       No|\n",
            "|   CLG0036|118|            5.0|5.41|                   2|                   No|                     9|                   5|                 1|       No|\n",
            "|   CLG0017| 99|           5.01|4.56|                   5|                  Yes|                     0|                   9|                 4|       No|\n",
            "|   CLG0078|103|           5.01|4.61|                   2|                  Yes|                     0|                  10|                 4|       No|\n",
            "|   CLG0068|116|           5.01|4.66|                   9|                   No|                     4|                   6|                 1|       No|\n",
            "|   CLG0055| 99|           5.01| 4.8|                   8|                   No|                     3|                   1|                 1|       No|\n",
            "|   CLG0085|114|           5.01|4.83|                   5|                   No|                     2|                   5|                 0|       No|\n",
            "|   CLG0061| 82|           5.01|4.92|                  10|                   No|                     5|                   8|                 3|       No|\n",
            "|   CLG0005|116|           5.01|4.94|                   8|                   No|                     3|                   8|                 1|       No|\n",
            "|   CLG0071|101|           5.01|4.94|                   1|                   No|                     2|                   9|                 5|       No|\n",
            "|   CLG0041| 99|           5.01|4.97|                   6|                  Yes|                     7|                   7|                 4|       No|\n",
            "|   CLG0012| 81|           5.01|4.97|                  10|                   No|                     8|                  10|                 2|       No|\n",
            "+----------+---+---------------+----+--------------------+---------------------+----------------------+--------------------+------------------+---------+\n",
            "only showing top 20 rows\n",
            "\n"
          ]
        }
      ]
    },
    {
      "cell_type": "code",
      "source": [
        "from pyspark.sql.functions import col\n",
        "df.sort(col(\"Prev_Sem_Result\").asc(), col(\"CGPA\").desc()).show()"
      ],
      "metadata": {
        "colab": {
          "base_uri": "https://localhost:8080/"
        },
        "id": "Cbpe9CNUBOks",
        "outputId": "a360f89c-1d50-4070-f57b-6533090c9190"
      },
      "execution_count": null,
      "outputs": [
        {
          "output_type": "stream",
          "name": "stdout",
          "text": [
            "+----------+---+---------------+----+--------------------+---------------------+----------------------+--------------------+------------------+---------+\n",
            "|College_ID| IQ|Prev_Sem_Result|CGPA|Academic_Performance|Internship_Experience|Extra_Curricular_Score|Communication_Skills|Projects_Completed|Placement|\n",
            "+----------+---+---------------+----+--------------------+---------------------+----------------------+--------------------+------------------+---------+\n",
            "|   CLG0036|118|            5.0|5.41|                   2|                   No|                     9|                   5|                 1|       No|\n",
            "|   CLG0046| 92|            5.0|4.95|                   4|                  Yes|                     1|                   5|                 5|       No|\n",
            "|   CLG0097|117|            5.0|4.87|                   3|                  Yes|                     8|                   6|                 1|       No|\n",
            "|   CLG0088| 73|            5.0|4.86|                   8|                   No|                     7|                   4|                 2|       No|\n",
            "|   CLG0088| 90|            5.0|4.81|                   7|                   No|                     3|                   6|                 4|       No|\n",
            "|   CLG0069| 86|            5.0|4.72|                   7|                  Yes|                    10|                   6|                 0|       No|\n",
            "|   CLG0038|108|            5.0| 4.7|                   6|                   No|                     8|                   7|                 3|       No|\n",
            "|   CLG0004| 88|            5.0|4.69|                   3|                   No|                     0|                   2|                 0|       No|\n",
            "|   CLG0076| 73|            5.0|4.62|                   9|                   No|                     1|                   6|                 4|       No|\n",
            "|   CLG0069|105|            5.0|4.61|                   8|                   No|                     7|                   3|                 1|       No|\n",
            "|   CLG0045|112|           5.01|5.41|                   7|                   No|                    10|                   9|                 1|       No|\n",
            "|   CLG0033| 92|           5.01|5.35|                   2|                   No|                     4|                   4|                 3|       No|\n",
            "|   CLG0085|113|           5.01|5.28|                   8|                  Yes|                     2|                   5|                 4|       No|\n",
            "|   CLG0034| 88|           5.01|5.04|                   3|                   No|                     9|                   7|                 0|       No|\n",
            "|   CLG0036| 90|           5.01|4.98|                  10|                   No|                     4|                   2|                 2|       No|\n",
            "|   CLG0041| 99|           5.01|4.97|                   6|                  Yes|                     7|                   7|                 4|       No|\n",
            "|   CLG0012| 81|           5.01|4.97|                  10|                   No|                     8|                  10|                 2|       No|\n",
            "|   CLG0071|101|           5.01|4.94|                   1|                   No|                     2|                   9|                 5|       No|\n",
            "|   CLG0005|116|           5.01|4.94|                   8|                   No|                     3|                   8|                 1|       No|\n",
            "|   CLG0061| 82|           5.01|4.92|                  10|                   No|                     5|                   8|                 3|       No|\n",
            "+----------+---+---------------+----+--------------------+---------------------+----------------------+--------------------+------------------+---------+\n",
            "only showing top 20 rows\n",
            "\n"
          ]
        }
      ]
    },
    {
      "cell_type": "code",
      "source": [
        "df.orderBy(col(\"CGPA\").asc(), col(\"Academic_Performance\").asc()).show()\n",
        "df.orderBy(col(\"CGPA\").desc(), col(\"Academic_Performance\").desc()).show()\n",
        "df.orderBy(col(\"Academic_Performance\").desc()).show()"
      ],
      "metadata": {
        "colab": {
          "base_uri": "https://localhost:8080/"
        },
        "id": "0I2-4P7FB-bJ",
        "outputId": "5eb680c7-9d3d-4cea-e6c3-6293f50719e4"
      },
      "execution_count": null,
      "outputs": [
        {
          "output_type": "stream",
          "name": "stdout",
          "text": [
            "+----------+---+---------------+----+--------------------+---------------------+----------------------+--------------------+------------------+---------+\n",
            "|College_ID| IQ|Prev_Sem_Result|CGPA|Academic_Performance|Internship_Experience|Extra_Curricular_Score|Communication_Skills|Projects_Completed|Placement|\n",
            "+----------+---+---------------+----+--------------------+---------------------+----------------------+--------------------+------------------+---------+\n",
            "|   CLG0044|113|           5.03|4.54|                   6|                  Yes|                     9|                   5|                 4|       No|\n",
            "|   CLG0017| 99|           5.01|4.56|                   5|                  Yes|                     0|                   9|                 4|       No|\n",
            "|   CLG0025| 97|           5.06|4.57|                   6|                   No|                     7|                   5|                 2|       No|\n",
            "|   CLG0005|123|           5.02|4.58|                   3|                  Yes|                     2|                   9|                 5|      Yes|\n",
            "|   CLG0067|130|           5.04|4.59|                   3|                  Yes|                     1|                  10|                 4|      Yes|\n",
            "|   CLG0090| 98|           5.06|4.59|                   8|                   No|                     3|                   3|                 0|       No|\n",
            "|   CLG0029| 98|           5.03|4.59|                  10|                   No|                    10|                   4|                 0|       No|\n",
            "|   CLG0011|110|           5.04| 4.6|                   1|                   No|                     0|                   4|                 1|       No|\n",
            "|   CLG0050| 92|           5.09| 4.6|                   8|                   No|                     4|                   3|                 2|       No|\n",
            "|   CLG0078|103|           5.01|4.61|                   2|                  Yes|                     0|                  10|                 4|       No|\n",
            "|   CLG0009| 93|           5.05|4.61|                   2|                   No|                     7|                   7|                 1|       No|\n",
            "|   CLG0010|103|           5.05|4.61|                   3|                  Yes|                     6|                   2|                 4|       No|\n",
            "|   CLG0085|109|           5.03|4.61|                   4|                   No|                    10|                  10|                 5|       No|\n",
            "|   CLG0023|101|           5.02|4.61|                   5|                   No|                     7|                   3|                 4|       No|\n",
            "|   CLG0069|105|            5.0|4.61|                   8|                   No|                     7|                   3|                 1|       No|\n",
            "|   CLG0076| 73|            5.0|4.62|                   9|                   No|                     1|                   6|                 4|       No|\n",
            "|   CLG0026| 81|           5.07|4.62|                  10|                   No|                     7|                   9|                 5|       No|\n",
            "|   CLG0066| 95|           5.08|4.63|                   3|                  Yes|                     7|                   2|                 4|       No|\n",
            "|   CLG0004|104|           5.05|4.64|                  10|                  Yes|                     2|                   5|                 1|       No|\n",
            "|   CLG0053| 77|           5.08|4.65|                   4|                  Yes|                     3|                   1|                 3|       No|\n",
            "+----------+---+---------------+----+--------------------+---------------------+----------------------+--------------------+------------------+---------+\n",
            "only showing top 20 rows\n",
            "\n",
            "+----------+---+---------------+-----+--------------------+---------------------+----------------------+--------------------+------------------+---------+\n",
            "|College_ID| IQ|Prev_Sem_Result| CGPA|Academic_Performance|Internship_Experience|Extra_Curricular_Score|Communication_Skills|Projects_Completed|Placement|\n",
            "+----------+---+---------------+-----+--------------------+---------------------+----------------------+--------------------+------------------+---------+\n",
            "|   CLG0027| 79|           10.0|10.46|                   1|                  Yes|                     1|                   9|                 5|      Yes|\n",
            "|   CLG0076| 82|           9.99|10.46|                   1|                   No|                     6|                   7|                 1|       No|\n",
            "|   CLG0065| 73|           9.98|10.45|                   6|                   No|                     2|                   8|                 1|       No|\n",
            "|   CLG0072| 82|           9.99|10.45|                   4|                  Yes|                     7|                   4|                 0|       No|\n",
            "|   CLG0010| 91|           9.97|10.44|                   7|                   No|                     1|                   3|                 5|       No|\n",
            "|   CLG0054|109|           9.96|10.42|                  10|                   No|                     3|                   4|                 0|       No|\n",
            "|   CLG0089| 87|           9.95|10.42|                  10|                   No|                     5|                   6|                 3|       No|\n",
            "|   CLG0059| 73|           9.95|10.41|                   1|                  Yes|                     2|                   7|                 4|       No|\n",
            "|   CLG0044| 92|           9.96| 10.4|                   3|                   No|                     5|                   4|                 1|       No|\n",
            "|   CLG0067| 97|           9.93| 10.4|                   3|                   No|                    10|                   6|                 5|       No|\n",
            "|   CLG0056| 89|           9.99|10.39|                  10|                   No|                     4|                  10|                 5|      Yes|\n",
            "|   CLG0083| 77|           9.96|10.39|                   8|                   No|                     6|                   7|                 0|       No|\n",
            "|   CLG0068|136|           10.0|10.38|                   8|                  Yes|                     2|                   1|                 1|       No|\n",
            "|   CLG0043| 93|           9.89|10.38|                   7|                  Yes|                     5|                   7|                 2|       No|\n",
            "|   CLG0023| 86|           9.96|10.38|                   6|                   No|                     6|                   9|                 5|      Yes|\n",
            "|   CLG0016|110|           9.99|10.38|                   4|                   No|                     3|                  10|                 0|       No|\n",
            "|   CLG0001| 91|           9.88|10.38|                   3|                   No|                     5|                   8|                 2|      Yes|\n",
            "|   CLG0088|104|           9.93|10.38|                   1|                   No|                     7|                   2|                 3|       No|\n",
            "|   CLG0003| 81|           9.92|10.37|                  10|                   No|                     9|                   5|                 5|       No|\n",
            "|   CLG0009| 87|           9.93|10.37|                   8|                  Yes|                     1|                   9|                 3|      Yes|\n",
            "+----------+---+---------------+-----+--------------------+---------------------+----------------------+--------------------+------------------+---------+\n",
            "only showing top 20 rows\n",
            "\n",
            "+----------+---+---------------+----+--------------------+---------------------+----------------------+--------------------+------------------+---------+\n",
            "|College_ID| IQ|Prev_Sem_Result|CGPA|Academic_Performance|Internship_Experience|Extra_Curricular_Score|Communication_Skills|Projects_Completed|Placement|\n",
            "+----------+---+---------------+----+--------------------+---------------------+----------------------+--------------------+------------------+---------+\n",
            "|   CLG0077| 92|           7.41|6.92|                  10|                   No|                     5|                   8|                 4|       No|\n",
            "|   CLG0032|115|           6.07|6.47|                  10|                   No|                     1|                   6|                 3|       No|\n",
            "|   CLG0011| 84|           7.79| 7.3|                  10|                  Yes|                     0|                   8|                 3|       No|\n",
            "|   CLG0089|115|           5.56|5.14|                  10|                  Yes|                     6|                   3|                 0|       No|\n",
            "|   CLG0099|123|           5.26|5.45|                  10|                  Yes|                     5|                  10|                 1|       No|\n",
            "|   CLG0006| 80|            5.9|5.96|                  10|                  Yes|                     6|                   7|                 1|       No|\n",
            "|   CLG0053| 75|           6.44|6.39|                  10|                   No|                     1|                  10|                 5|       No|\n",
            "|   CLG0016|105|           5.36|5.11|                  10|                   No|                     2|                   8|                 0|       No|\n",
            "|   CLG0065|103|           6.49|6.08|                  10|                   No|                     1|                   7|                 0|       No|\n",
            "|   CLG0028| 98|           6.29|6.53|                  10|                  Yes|                    10|                   1|                 1|       No|\n",
            "|   CLG0012| 81|           5.01|4.97|                  10|                   No|                     8|                  10|                 2|       No|\n",
            "|   CLG0038| 95|           6.24|6.16|                  10|                   No|                     2|                  10|                 2|       No|\n",
            "|   CLG0072|104|           9.81|9.45|                  10|                   No|                     6|                   7|                 5|       No|\n",
            "|   CLG0066|104|           9.19|9.39|                  10|                  Yes|                     3|                  10|                 4|      Yes|\n",
            "|   CLG0085| 89|           8.06|8.31|                  10|                   No|                     8|                   4|                 4|       No|\n",
            "|   CLG0087|112|            6.5|6.09|                  10|                  Yes|                     4|                  10|                 5|      Yes|\n",
            "|   CLG0007| 88|            7.0|6.69|                  10|                  Yes|                     5|                   6|                 2|       No|\n",
            "|   CLG0076| 73|           8.72|8.48|                  10|                  Yes|                     0|                   5|                 5|       No|\n",
            "|   CLG0038|121|           6.39|6.15|                  10|                  Yes|                     4|                  10|                 1|       No|\n",
            "|   CLG0036|102|           6.64|6.39|                  10|                   No|                     0|                   6|                 5|       No|\n",
            "+----------+---+---------------+----+--------------------+---------------------+----------------------+--------------------+------------------+---------+\n",
            "only showing top 20 rows\n",
            "\n"
          ]
        }
      ]
    },
    {
      "cell_type": "code",
      "source": [
        "from pyspark.sql import SparkSession\n",
        "import pandas as pd\n",
        "from google.colab import drive\n",
        "spark = SparkSession.builder.master(\"local[1]\").appName(\"Sorting Example\").getOrCreate()\n",
        "sc = spark.sparkContext\n",
        "df = spark.read.csv('/content/LoanData (1).csv', header= True, inferSchema=True)\n",
        "df.show()"
      ],
      "metadata": {
        "colab": {
          "base_uri": "https://localhost:8080/"
        },
        "id": "RcqonT3eG9IF",
        "outputId": "d3202ffc-f000-4262-ae77-c661c6ac5da0"
      },
      "execution_count": null,
      "outputs": [
        {
          "output_type": "stream",
          "name": "stdout",
          "text": [
            "+--------+------+-------+----------+------------+-------------+---------------+-----------------+----------+----------------+--------------+-------------+-----------+\n",
            "| Loan_ID|Gender|Married|Dependents|   Education|Self_Employed|ApplicantIncome|CoapplicantIncome|LoanAmount|Loan_Amount_Term|Credit_History|Property_Area|Loan_Status|\n",
            "+--------+------+-------+----------+------------+-------------+---------------+-----------------+----------+----------------+--------------+-------------+-----------+\n",
            "|LP001002|  Male|     No|         0|    Graduate|           No|           5849|              0.0|      NULL|             360|             1|        Urban|          Y|\n",
            "|LP001003|  Male|    Yes|         1|    Graduate|           No|           4583|           1508.0|       128|             360|             1|        Rural|          N|\n",
            "|LP001005|  Male|    Yes|         0|    Graduate|          Yes|           3000|              0.0|        66|             360|             1|        Urban|          Y|\n",
            "|LP001006|  Male|    Yes|         0|Not Graduate|           No|           2583|           2358.0|       120|             360|             1|        Urban|          Y|\n",
            "|LP001008|  Male|     No|         0|    Graduate|           No|           6000|              0.0|       141|             360|             1|        Urban|          Y|\n",
            "|LP001011|  Male|    Yes|         2|    Graduate|          Yes|           5417|           4196.0|       267|             360|             1|        Urban|          Y|\n",
            "|LP001013|  Male|    Yes|         0|Not Graduate|           No|           2333|           1516.0|        95|             360|             1|        Urban|          Y|\n",
            "|LP001014|  Male|    Yes|        3+|    Graduate|           No|           3036|           2504.0|       158|             360|             0|    Semiurban|          N|\n",
            "|LP001018|  Male|    Yes|         2|    Graduate|           No|           4006|           1526.0|       168|             360|             1|        Urban|          Y|\n",
            "|LP001020|  Male|    Yes|         1|    Graduate|           No|          12841|          10968.0|       349|             360|             1|    Semiurban|          N|\n",
            "|LP001024|  Male|    Yes|         2|    Graduate|           No|           3200|            700.0|        70|             360|             1|        Urban|          Y|\n",
            "|LP001027|  Male|    Yes|         2|    Graduate|         NULL|           2500|           1840.0|       109|             360|             1|        Urban|          Y|\n",
            "|LP001028|  Male|    Yes|         2|    Graduate|           No|           3073|           8106.0|       200|             360|             1|        Urban|          Y|\n",
            "|LP001029|  Male|     No|         0|    Graduate|           No|           1853|           2840.0|       114|             360|             1|        Rural|          N|\n",
            "|LP001030|  Male|    Yes|         2|    Graduate|           No|           1299|           1086.0|        17|             120|             1|        Urban|          Y|\n",
            "|LP001032|  Male|     No|         0|    Graduate|           No|           4950|              0.0|       125|             360|             1|        Urban|          Y|\n",
            "|LP001034|  Male|     No|         1|Not Graduate|           No|           3596|              0.0|       100|             240|          NULL|        Urban|          Y|\n",
            "|LP001036|Female|     No|         0|    Graduate|           No|           3510|              0.0|        76|             360|             0|        Urban|          N|\n",
            "|LP001038|  Male|    Yes|         0|Not Graduate|           No|           4887|              0.0|       133|             360|             1|        Rural|          N|\n",
            "|LP001041|  Male|    Yes|         0|    Graduate|         NULL|           2600|           3500.0|       115|            NULL|             1|        Urban|          Y|\n",
            "+--------+------+-------+----------+------------+-------------+---------------+-----------------+----------+----------------+--------------+-------------+-----------+\n",
            "only showing top 20 rows\n",
            "\n"
          ]
        }
      ]
    },
    {
      "cell_type": "code",
      "source": [
        "from pyspark.sql.functions import asc_nulls_first, asc_nulls_last, desc_nulls_first, desc_nulls_last\n",
        "df.orderBy(asc_nulls_first(\"Credit_History\")).show() # Ascending, nulls at top\n",
        "df.orderBy(desc_nulls_last(\"Credit_History\")).show() # Descending, nulls at bottom"
      ],
      "metadata": {
        "colab": {
          "base_uri": "https://localhost:8080/"
        },
        "id": "c2hUOaHIHMqa",
        "outputId": "e869b17d-0ad8-449a-e632-a24ecf5db531"
      },
      "execution_count": null,
      "outputs": [
        {
          "output_type": "stream",
          "name": "stdout",
          "text": [
            "+--------+------+-------+----------+------------+-------------+---------------+-----------------+----------+----------------+--------------+-------------+-----------+\n",
            "| Loan_ID|Gender|Married|Dependents|   Education|Self_Employed|ApplicantIncome|CoapplicantIncome|LoanAmount|Loan_Amount_Term|Credit_History|Property_Area|Loan_Status|\n",
            "+--------+------+-------+----------+------------+-------------+---------------+-----------------+----------+----------------+--------------+-------------+-----------+\n",
            "|LP001405|  Male|    Yes|         1|    Graduate|           No|           2214|           1398.0|        85|             360|          NULL|        Urban|          Y|\n",
            "|LP002178|  Male|    Yes|         0|    Graduate|           No|           3013|           3033.0|        95|             300|          NULL|        Urban|          Y|\n",
            "|LP001443|Female|     No|         0|    Graduate|           No|           3692|              0.0|        93|             360|          NULL|        Rural|          Y|\n",
            "|LP001052|  Male|    Yes|         1|    Graduate|         NULL|           3717|           2925.0|       151|             360|          NULL|    Semiurban|          N|\n",
            "|LP001465|  Male|    Yes|         0|    Graduate|           No|           6080|           2569.0|       182|             360|          NULL|        Rural|          N|\n",
            "|LP001123|  Male|    Yes|         0|    Graduate|           No|           2400|              0.0|        75|             360|          NULL|        Urban|          Y|\n",
            "|LP001469|  Male|     No|         0|    Graduate|          Yes|          20166|              0.0|       650|             480|          NULL|        Urban|          Y|\n",
            "|LP001273|  Male|    Yes|         0|    Graduate|           No|           6000|           2250.0|       265|             360|          NULL|    Semiurban|          N|\n",
            "|LP001541|  Male|    Yes|         1|    Graduate|           No|           6000|              0.0|       160|             360|          NULL|        Rural|          Y|\n",
            "|LP001326|  Male|     No|         0|    Graduate|         NULL|           6782|              0.0|      NULL|             360|          NULL|        Urban|          N|\n",
            "|LP001634|  Male|     No|         0|    Graduate|           No|           1916|           5063.0|        67|             360|          NULL|        Rural|          N|\n",
            "|LP001864|  Male|    Yes|        3+|Not Graduate|           No|           4931|              0.0|       128|             360|          NULL|    Semiurban|          N|\n",
            "|LP002137|  Male|    Yes|         0|    Graduate|           No|           6333|           4583.0|       259|             360|          NULL|    Semiurban|          Y|\n",
            "|LP001865|  Male|    Yes|         1|    Graduate|           No|           6083|           4250.0|       330|             360|          NULL|        Urban|          Y|\n",
            "|LP001091|  Male|    Yes|         1|    Graduate|         NULL|           4166|           3369.0|       201|             360|          NULL|        Urban|          N|\n",
            "|LP001908|Female|    Yes|         0|Not Graduate|           No|           4100|              0.0|       124|             360|          NULL|        Rural|          Y|\n",
            "|LP001280|  Male|    Yes|         2|Not Graduate|           No|           3333|           2000.0|        99|             360|          NULL|    Semiurban|          Y|\n",
            "|LP001998|  Male|    Yes|         2|Not Graduate|           No|           7667|              0.0|       185|             360|          NULL|        Rural|          Y|\n",
            "|LP001671|Female|    Yes|         0|    Graduate|           No|           3416|           2816.0|       113|             360|          NULL|    Semiurban|          Y|\n",
            "|LP002008|  Male|    Yes|         2|    Graduate|          Yes|           5746|              0.0|       144|              84|          NULL|        Rural|          Y|\n",
            "+--------+------+-------+----------+------------+-------------+---------------+-----------------+----------+----------------+--------------+-------------+-----------+\n",
            "only showing top 20 rows\n",
            "\n",
            "+--------+------+-------+----------+------------+-------------+---------------+-----------------+----------+----------------+--------------+-------------+-----------+\n",
            "| Loan_ID|Gender|Married|Dependents|   Education|Self_Employed|ApplicantIncome|CoapplicantIncome|LoanAmount|Loan_Amount_Term|Credit_History|Property_Area|Loan_Status|\n",
            "+--------+------+-------+----------+------------+-------------+---------------+-----------------+----------+----------------+--------------+-------------+-----------+\n",
            "|LP001046|  Male|    Yes|         1|    Graduate|           No|           5955|           5625.0|       315|             360|             1|        Urban|          Y|\n",
            "|LP001136|  Male|    Yes|         0|Not Graduate|          Yes|           4695|              0.0|        96|            NULL|             1|        Urban|          Y|\n",
            "|LP001003|  Male|    Yes|         1|    Graduate|           No|           4583|           1508.0|       128|             360|             1|        Rural|          N|\n",
            "|LP001066|  Male|    Yes|         0|    Graduate|          Yes|           9560|              0.0|       191|             360|             1|    Semiurban|          Y|\n",
            "|LP001005|  Male|    Yes|         0|    Graduate|          Yes|           3000|              0.0|        66|             360|             1|        Urban|          Y|\n",
            "|LP001068|  Male|    Yes|         0|    Graduate|           No|           2799|           2253.0|       122|             360|             1|    Semiurban|          Y|\n",
            "|LP001008|  Male|     No|         0|    Graduate|           No|           6000|              0.0|       141|             360|             1|        Urban|          Y|\n",
            "|LP001073|  Male|    Yes|         2|Not Graduate|           No|           4226|           1040.0|       110|             360|             1|        Urban|          Y|\n",
            "|LP001013|  Male|    Yes|         0|Not Graduate|           No|           2333|           1516.0|        95|             360|             1|        Urban|          Y|\n",
            "|LP001086|  Male|     No|         0|Not Graduate|           No|           1442|              0.0|        35|             360|             1|        Urban|          N|\n",
            "|LP001020|  Male|    Yes|         1|    Graduate|           No|          12841|          10968.0|       349|             360|             1|    Semiurban|          N|\n",
            "|LP001087|Female|     No|         2|    Graduate|         NULL|           3750|           2083.0|       120|             360|             1|    Semiurban|          Y|\n",
            "|LP001027|  Male|    Yes|         2|    Graduate|         NULL|           2500|           1840.0|       109|             360|             1|        Urban|          Y|\n",
            "|LP001095|  Male|     No|         0|    Graduate|           No|           3167|              0.0|        74|             360|             1|        Urban|          N|\n",
            "|LP001029|  Male|     No|         0|    Graduate|           No|           1853|           2840.0|       114|             360|             1|        Rural|          N|\n",
            "|LP001097|  Male|     No|         1|    Graduate|          Yes|           4692|              0.0|       106|             360|             1|        Rural|          N|\n",
            "|LP001032|  Male|     No|         0|    Graduate|           No|           4950|              0.0|       125|             360|             1|        Urban|          Y|\n",
            "|LP001098|  Male|    Yes|         0|    Graduate|           No|           3500|           1667.0|       114|             360|             1|    Semiurban|          Y|\n",
            "|LP001041|  Male|    Yes|         0|    Graduate|         NULL|           2600|           3500.0|       115|            NULL|             1|        Urban|          Y|\n",
            "|LP001100|  Male|     No|        3+|    Graduate|           No|          12500|           3000.0|       320|             360|             1|        Rural|          N|\n",
            "+--------+------+-------+----------+------------+-------------+---------------+-----------------+----------+----------------+--------------+-------------+-----------+\n",
            "only showing top 20 rows\n",
            "\n"
          ]
        }
      ]
    },
    {
      "cell_type": "markdown",
      "source": [
        "Aggregate function"
      ],
      "metadata": {
        "id": "FIhFO1cqID8L"
      }
    },
    {
      "cell_type": "code",
      "source": [
        "from pyspark.sql import SparkSession\n",
        "import pandas as pd\n",
        "from google.colab import drive\n",
        "spark = SparkSession.builder.master(\"local[1]\").appName(\"Sorting Example\").getOrCreate()\n",
        "sc = spark.sparkContext\n",
        "df = spark.read.csv('/content/salary.csv', header= True, inferSchema=True)\n",
        "df.show(30, truncate = False)"
      ],
      "metadata": {
        "colab": {
          "base_uri": "https://localhost:8080/"
        },
        "id": "QRUdsKuLINvG",
        "outputId": "cda94941-f051-473d-c7fb-7cbb611fe7e4"
      },
      "execution_count": null,
      "outputs": [
        {
          "output_type": "stream",
          "name": "stdout",
          "text": [
            "+------+---+----+----------+--------+\n",
            "|name  |id |age |department|salary  |\n",
            "+------+---+----+----------+--------+\n",
            "|user1 |1  |25.0|Jr manager|98000.0 |\n",
            "|user2 |2  |30.0|sr manager|100000.0|\n",
            "|user3 |6  |35.0|sr manager|100000.0|\n",
            "|user4 |4  |32.0|head      |70000.0 |\n",
            "|user5 |1  |45.0|Jr manager|60000.0 |\n",
            "|user6 |6  |47.0|head2     |45000.0 |\n",
            "|user7 |5  |21.0|worker    |25000.0 |\n",
            "|user8 |1  |22.0|Jr manager|50000.0 |\n",
            "|user9 |10 |54.0|lead      |45000.0 |\n",
            "|user10|59 |52.0|lead2     |50000.0 |\n",
            "|user11|6  |25.0|head2     |50000.0 |\n",
            "|user12|2  |27.0|sr manager|70000.0 |\n",
            "|user13|59 |54.0|lead2     |45000.0 |\n",
            "|user14|2  |25.0|sr manager|70000.0 |\n",
            "|user15|1  |32.0|Jr manager|50000.0 |\n",
            "|user16|3  |37.0|worker    |25000.0 |\n",
            "|user17|74 |63.0|Manager   |68000.0 |\n",
            "|user18|7  |25.0|head      |45000.0 |\n",
            "|user19|10 |32.0|lvl2 head |52000.0 |\n",
            "|user20|10 |32.0|lvl2 head |52000.0 |\n",
            "|user21|12 |NULL|NULL      |NULL    |\n",
            "|user22|13 |NULL|NULL      |12000.0 |\n",
            "|user23|13 |NULL|NULL      |140000.0|\n",
            "|user24|99 |43.0|head      |50000.0 |\n",
            "|user25|100|24.0|NULL      |12000.0 |\n",
            "+------+---+----+----------+--------+\n",
            "\n"
          ]
        }
      ]
    },
    {
      "cell_type": "code",
      "source": [
        "from pyspark.sql import functions\n",
        "df.groupby('department').agg(functions.min('salary'),\n",
        "                       functions.max('salary'),\n",
        "                       functions.sum('salary'),\n",
        "                       functions.mean('salary'),\n",
        "                       functions.count('salary'),\n",
        "                       functions.avg('salary'),\n",
        "                       functions.first('salary'),\n",
        "                       functions.last('salary'),\n",
        "                       functions.kurtosis('salary'),\n",
        "                       functions.skewness('salary'),\n",
        "                       functions.stddev('salary'),\n",
        "                       functions.stddev_pop('salary'),\n",
        "                       functions.stddev_samp('salary'),\n",
        "                       functions.sumDistinct('salary'),\n",
        "                       functions.variance('salary'),\n",
        "                       functions.var_samp('salary'),\n",
        "                       functions.var_pop('salary'),).show()"
      ],
      "metadata": {
        "colab": {
          "base_uri": "https://localhost:8080/"
        },
        "id": "YVbx-qu9KxvC",
        "outputId": "0dce1d9f-608e-4a23-84b7-736df4c7fc11"
      },
      "execution_count": null,
      "outputs": [
        {
          "output_type": "stream",
          "name": "stderr",
          "text": [
            "/usr/local/lib/python3.11/dist-packages/pyspark/sql/functions.py:988: FutureWarning: Deprecated in 3.2, use sum_distinct instead.\n",
            "  warnings.warn(\"Deprecated in 3.2, use sum_distinct instead.\", FutureWarning)\n"
          ]
        },
        {
          "output_type": "stream",
          "name": "stdout",
          "text": [
            "+----------+-----------+-----------+-----------+------------------+-------------+------------------+-------------+------------+-------------------+------------------+------------------+------------------+-------------------+--------------------+-------------------+-------------------+--------------------+\n",
            "|department|min(salary)|max(salary)|sum(salary)|       avg(salary)|count(salary)|       avg(salary)|first(salary)|last(salary)|   kurtosis(salary)|  skewness(salary)|    stddev(salary)|stddev_pop(salary)|stddev_samp(salary)|sum(DISTINCT salary)|   var_samp(salary)|   var_samp(salary)|     var_pop(salary)|\n",
            "+----------+-----------+-----------+-----------+------------------+-------------+------------------+-------------+------------+-------------------+------------------+------------------+------------------+-------------------+--------------------+-------------------+-------------------+--------------------+\n",
            "|      NULL|    12000.0|   140000.0|   164000.0|54666.666666666664|            3|54666.666666666664|      12000.0|    140000.0|               -1.5|0.7071067811865475| 73900.83445627209| 60339.77866125206|  73900.83445627209|            152000.0|5.461333333333333E9|5.461333333333333E9| 3.640888888888889E9|\n",
            "|Jr manager|    50000.0|    98000.0|   258000.0|           64500.0|            4|           64500.0|      60000.0|     50000.0|-0.7924152946680865|1.0165248108608964|22825.424421026655|19767.397400770795| 22825.424421026655|            208000.0|             5.21E8|             5.21E8|            3.9075E8|\n",
            "|      head|    45000.0|    70000.0|   165000.0|           55000.0|            3|           55000.0|      45000.0|     50000.0|               -1.5|0.5951700641394974|13228.756555322952|10801.234497346433| 13228.756555322952|            165000.0|             1.75E8|             1.75E8|1.1666666666666667E8|\n",
            "|sr manager|    70000.0|   100000.0|   340000.0|           85000.0|            4|           85000.0|      70000.0|    100000.0|               -2.0|               0.0|17320.508075688773|           15000.0| 17320.508075688773|            170000.0|              3.0E8|              3.0E8|              2.25E8|\n",
            "|     head2|    45000.0|    50000.0|    95000.0|           47500.0|            2|           47500.0|      45000.0|     50000.0|               -2.0|               0.0|3535.5339059327375|            2500.0| 3535.5339059327375|             95000.0|             1.25E7|             1.25E7|           6250000.0|\n",
            "| lvl2 head|    52000.0|    52000.0|   104000.0|           52000.0|            2|           52000.0|      52000.0|     52000.0|               NULL|              NULL|               0.0|               0.0|                0.0|             52000.0|                0.0|                0.0|                 0.0|\n",
            "|      lead|    45000.0|    45000.0|    45000.0|           45000.0|            1|           45000.0|      45000.0|     45000.0|               NULL|              NULL|              NULL|               0.0|               NULL|             45000.0|               NULL|               NULL|                 0.0|\n",
            "|   Manager|    68000.0|    68000.0|    68000.0|           68000.0|            1|           68000.0|      68000.0|     68000.0|               NULL|              NULL|              NULL|               0.0|               NULL|             68000.0|               NULL|               NULL|                 0.0|\n",
            "|     lead2|    45000.0|    50000.0|    95000.0|           47500.0|            2|           47500.0|      45000.0|     50000.0|               -2.0|               0.0|3535.5339059327375|            2500.0| 3535.5339059327375|             95000.0|             1.25E7|             1.25E7|           6250000.0|\n",
            "|    worker|    25000.0|    25000.0|    50000.0|           25000.0|            2|           25000.0|      25000.0|     25000.0|               NULL|              NULL|               0.0|               0.0|                0.0|             25000.0|                0.0|                0.0|                 0.0|\n",
            "+----------+-----------+-----------+-----------+------------------+-------------+------------------+-------------+------------+-------------------+------------------+------------------+------------------+-------------------+--------------------+-------------------+-------------------+--------------------+\n",
            "\n"
          ]
        }
      ]
    },
    {
      "cell_type": "code",
      "source": [
        "from pyspark.sql import functions\n",
        "df.groupby('department', 'age').agg(functions.min('salary'),\n",
        "                       functions.max('salary'),\n",
        "                       functions.sum('salary'),\n",
        "                       functions.mean('salary'),\n",
        "                       functions.count('salary'),\n",
        "                       functions.avg('salary')).show()"
      ],
      "metadata": {
        "colab": {
          "base_uri": "https://localhost:8080/"
        },
        "id": "S7OsirqkLQ_6",
        "outputId": "abbdf74a-45dc-415a-85c3-85f804338cc7"
      },
      "execution_count": null,
      "outputs": [
        {
          "output_type": "stream",
          "name": "stdout",
          "text": [
            "+----------+----+-----------+-----------+-----------+-----------+-------------+-----------+\n",
            "|department| age|min(salary)|max(salary)|sum(salary)|avg(salary)|count(salary)|avg(salary)|\n",
            "+----------+----+-----------+-----------+-----------+-----------+-------------+-----------+\n",
            "|      lead|54.0|    45000.0|    45000.0|    45000.0|    45000.0|            1|    45000.0|\n",
            "|    worker|37.0|    25000.0|    25000.0|    25000.0|    25000.0|            1|    25000.0|\n",
            "|     head2|25.0|    50000.0|    50000.0|    50000.0|    50000.0|            1|    50000.0|\n",
            "|    worker|21.0|    25000.0|    25000.0|    25000.0|    25000.0|            1|    25000.0|\n",
            "|      NULL|NULL|    12000.0|   140000.0|   152000.0|    76000.0|            2|    76000.0|\n",
            "|   Manager|63.0|    68000.0|    68000.0|    68000.0|    68000.0|            1|    68000.0|\n",
            "|sr manager|30.0|   100000.0|   100000.0|   100000.0|   100000.0|            1|   100000.0|\n",
            "|Jr manager|45.0|    60000.0|    60000.0|    60000.0|    60000.0|            1|    60000.0|\n",
            "|sr manager|27.0|    70000.0|    70000.0|    70000.0|    70000.0|            1|    70000.0|\n",
            "|     lead2|52.0|    50000.0|    50000.0|    50000.0|    50000.0|            1|    50000.0|\n",
            "|Jr manager|32.0|    50000.0|    50000.0|    50000.0|    50000.0|            1|    50000.0|\n",
            "| lvl2 head|32.0|    52000.0|    52000.0|   104000.0|    52000.0|            2|    52000.0|\n",
            "|Jr manager|22.0|    50000.0|    50000.0|    50000.0|    50000.0|            1|    50000.0|\n",
            "|sr manager|25.0|    70000.0|    70000.0|    70000.0|    70000.0|            1|    70000.0|\n",
            "|     lead2|54.0|    45000.0|    45000.0|    45000.0|    45000.0|            1|    45000.0|\n",
            "|sr manager|35.0|   100000.0|   100000.0|   100000.0|   100000.0|            1|   100000.0|\n",
            "|Jr manager|25.0|    98000.0|    98000.0|    98000.0|    98000.0|            1|    98000.0|\n",
            "|     head2|47.0|    45000.0|    45000.0|    45000.0|    45000.0|            1|    45000.0|\n",
            "|      head|25.0|    45000.0|    45000.0|    45000.0|    45000.0|            1|    45000.0|\n",
            "|      NULL|24.0|    12000.0|    12000.0|    12000.0|    12000.0|            1|    12000.0|\n",
            "+----------+----+-----------+-----------+-----------+-----------+-------------+-----------+\n",
            "only showing top 20 rows\n",
            "\n"
          ]
        }
      ]
    },
    {
      "cell_type": "code",
      "source": [
        "import pyspark\n",
        "from pyspark.sql import SparkSession\n",
        "from pyspark.sql.functions import approx_count_distinct,collect_list\n",
        "from pyspark.sql.functions import collect_set,sum,avg,max,countDistinct,count\n",
        "from pyspark.sql.functions import first, last, kurtosis, min, mean, skewness\n",
        "from pyspark.sql.functions import stddev, stddev_samp, stddev_pop, sumDistinct\n",
        "from pyspark.sql.functions import variance,var_samp,  var_pop\n",
        "\n",
        "spark = SparkSession.builder.appName('SparkByExamples.com').getOrCreate()\n",
        "\n",
        "simpleData = [(\"James\", \"Sales\", 3000),\n",
        "    (\"Michael\", \"Sales\", 4600),\n",
        "    (\"Robert\", \"Sales\", 4100),\n",
        "    (\"Maria\", \"Finance\", 3000),\n",
        "    (\"James\", \"Sales\", 3000),\n",
        "    (\"Scott\", \"Finance\", 3300),\n",
        "    (\"Jen\", \"Finance\", 3900),\n",
        "    (\"Jeff\", \"Marketing\", 3000),\n",
        "    (\"Kumar\", \"Marketing\", 2000),\n",
        "    (\"Saif\", \"Sales\", 4100)\n",
        "  ]\n",
        "schema = [\"employee_name\", \"department\", \"salary\"]\n",
        "\n",
        "\n",
        "df = spark.createDataFrame(data=simpleData, schema = schema)\n",
        "df.printSchema()\n",
        "df.show(truncate=False)\n",
        "\n",
        "print(\"approx_count_distinct: \" + \\\n",
        "      str(df.select(approx_count_distinct(\"salary\")).collect()[0][0]))\n",
        "\n",
        "print(\"avg: \" + str(df.select(avg(\"salary\")).collect()[0][0]))\n",
        "\n",
        "df.select(collect_list(\"salary\")).show(truncate=False)\n",
        "\n",
        "df.select(collect_set(\"salary\")).show(truncate=False)\n",
        "\n",
        "df2 = df.select(countDistinct(\"department\", \"salary\"))\n",
        "df2.show(truncate=False)\n",
        "print(\"Distinct Count of Department &amp; Salary: \"+str(df2.collect()[0][0]))\n",
        "\n",
        "print(\"count: \"+str(df.select(count(\"salary\")).collect()[0]))\n",
        "df.select(first(\"salary\")).show(truncate=False)\n",
        "df.select(last(\"salary\")).show(truncate=False)\n",
        "df.select(kurtosis(\"salary\")).show(truncate=False)\n",
        "df.select(max(\"salary\")).show(truncate=False)\n",
        "df.select(min(\"salary\")).show(truncate=False)\n",
        "df.select(mean(\"salary\")).show(truncate=False)\n",
        "df.select(skewness(\"salary\")).show(truncate=False)\n",
        "df.select(stddev(\"salary\"), stddev_samp(\"salary\"), \\\n",
        "    stddev_pop(\"salary\")).show(truncate=False)\n",
        "df.select(sum(\"salary\")).show(truncate=False)\n",
        "df.select(sumDistinct(\"salary\")).show(truncate=False)\n",
        "df.select(variance(\"salary\"),var_samp(\"salary\"),var_pop(\"salary\")) \\\n",
        "  .show(truncate=False)"
      ],
      "metadata": {
        "colab": {
          "base_uri": "https://localhost:8080/"
        },
        "id": "K5ysXFSkLwSZ",
        "outputId": "e239e50f-1c33-47b9-f59b-cc5aaed2a5f9"
      },
      "execution_count": null,
      "outputs": [
        {
          "output_type": "stream",
          "name": "stdout",
          "text": [
            "root\n",
            " |-- employee_name: string (nullable = true)\n",
            " |-- department: string (nullable = true)\n",
            " |-- salary: long (nullable = true)\n",
            "\n",
            "+-------------+----------+------+\n",
            "|employee_name|department|salary|\n",
            "+-------------+----------+------+\n",
            "|James        |Sales     |3000  |\n",
            "|Michael      |Sales     |4600  |\n",
            "|Robert       |Sales     |4100  |\n",
            "|Maria        |Finance   |3000  |\n",
            "|James        |Sales     |3000  |\n",
            "|Scott        |Finance   |3300  |\n",
            "|Jen          |Finance   |3900  |\n",
            "|Jeff         |Marketing |3000  |\n",
            "|Kumar        |Marketing |2000  |\n",
            "|Saif         |Sales     |4100  |\n",
            "+-------------+----------+------+\n",
            "\n",
            "approx_count_distinct: 6\n",
            "avg: 3400.0\n",
            "+------------------------------------------------------------+\n",
            "|collect_list(salary)                                        |\n",
            "+------------------------------------------------------------+\n",
            "|[3000, 4600, 4100, 3000, 3000, 3300, 3900, 3000, 2000, 4100]|\n",
            "+------------------------------------------------------------+\n",
            "\n",
            "+------------------------------------+\n",
            "|collect_set(salary)                 |\n",
            "+------------------------------------+\n",
            "|[4600, 3000, 3900, 4100, 3300, 2000]|\n",
            "+------------------------------------+\n",
            "\n",
            "+----------------------------------+\n",
            "|count(DISTINCT department, salary)|\n",
            "+----------------------------------+\n",
            "|8                                 |\n",
            "+----------------------------------+\n",
            "\n",
            "Distinct Count of Department &amp; Salary: 8\n",
            "count: Row(count(salary)=10)\n",
            "+-------------+\n",
            "|first(salary)|\n",
            "+-------------+\n",
            "|3000         |\n",
            "+-------------+\n",
            "\n",
            "+------------+\n",
            "|last(salary)|\n",
            "+------------+\n",
            "|4100        |\n",
            "+------------+\n",
            "\n",
            "+-------------------+\n",
            "|kurtosis(salary)   |\n",
            "+-------------------+\n",
            "|-0.6467803030303032|\n",
            "+-------------------+\n",
            "\n",
            "+-----------+\n",
            "|max(salary)|\n",
            "+-----------+\n",
            "|4600       |\n",
            "+-----------+\n",
            "\n",
            "+-----------+\n",
            "|min(salary)|\n",
            "+-----------+\n",
            "|2000       |\n",
            "+-----------+\n",
            "\n",
            "+-----------+\n",
            "|avg(salary)|\n",
            "+-----------+\n",
            "|3400.0     |\n",
            "+-----------+\n",
            "\n",
            "+--------------------+\n",
            "|skewness(salary)    |\n",
            "+--------------------+\n",
            "|-0.12041791181069571|\n",
            "+--------------------+\n",
            "\n",
            "+-----------------+-------------------+------------------+\n",
            "|stddev(salary)   |stddev_samp(salary)|stddev_pop(salary)|\n",
            "+-----------------+-------------------+------------------+\n",
            "|765.9416862050705|765.9416862050705  |726.636084983398  |\n",
            "+-----------------+-------------------+------------------+\n",
            "\n",
            "+-----------+\n",
            "|sum(salary)|\n",
            "+-----------+\n",
            "|34000      |\n",
            "+-----------+\n",
            "\n",
            "+--------------------+\n",
            "|sum(DISTINCT salary)|\n",
            "+--------------------+\n",
            "|20900               |\n",
            "+--------------------+\n",
            "\n",
            "+-----------------+-----------------+---------------+\n",
            "|var_samp(salary) |var_samp(salary) |var_pop(salary)|\n",
            "+-----------------+-----------------+---------------+\n",
            "|586666.6666666666|586666.6666666666|528000.0       |\n",
            "+-----------------+-----------------+---------------+\n",
            "\n"
          ]
        }
      ]
    },
    {
      "cell_type": "markdown",
      "source": [
        "group by"
      ],
      "metadata": {
        "id": "NU0OPx5MlItn"
      }
    },
    {
      "cell_type": "code",
      "source": [
        "from pyspark.sql import SparkSession\n",
        "from pyspark.sql import functions\n",
        "spark = SparkSession.builder \\\n",
        "                    .appName('Group By examples') \\\n",
        "                    .getOrCreate()\n",
        "data = [(\"James\",\"Sales\",\"NY\",90000,34,10000),\n",
        "    (\"Michael\",\"Sales\",\"NV\",86000,56,20000),\n",
        "    (\"Robert\",\"Sales\",\"CA\",81000,30,23000),\n",
        "    (\"Maria\",\"Finance\",\"CA\",90000,24,23000),\n",
        "    (\"Raman\",\"Finance\",\"DE\",99000,40,24000),\n",
        "    (\"Scott\",\"Finance\",\"NY\",83000,36,19000),\n",
        "    (\"Jen\",\"Finance\",\"NY\",79000,53,15000),\n",
        "    (\"Jeff\",\"Marketing\",\"NV\",80000,25,18000),\n",
        "    (\"Kumar\",\"Marketing\",\"NJ\",91000,50,21000)]\n",
        "schema = ['employee_name', \"department\", \"state\", \"salary\", \"age\", \"bonus\"]\n",
        "df = spark.createDataFrame(data = data, schema = schema)\n",
        "df.printSchema()\n",
        "df.show(truncate = False)"
      ],
      "metadata": {
        "colab": {
          "base_uri": "https://localhost:8080/"
        },
        "id": "NHaEuffAlLdJ",
        "outputId": "c988b12e-f8ce-4ca2-a5b0-c97ebc5dbd6f"
      },
      "execution_count": null,
      "outputs": [
        {
          "output_type": "stream",
          "name": "stdout",
          "text": [
            "root\n",
            " |-- employee_name: string (nullable = true)\n",
            " |-- department: string (nullable = true)\n",
            " |-- state: string (nullable = true)\n",
            " |-- salary: long (nullable = true)\n",
            " |-- age: long (nullable = true)\n",
            " |-- bonus: long (nullable = true)\n",
            "\n",
            "+-------------+----------+-----+------+---+-----+\n",
            "|employee_name|department|state|salary|age|bonus|\n",
            "+-------------+----------+-----+------+---+-----+\n",
            "|James        |Sales     |NY   |90000 |34 |10000|\n",
            "|Michael      |Sales     |NV   |86000 |56 |20000|\n",
            "|Robert       |Sales     |CA   |81000 |30 |23000|\n",
            "|Maria        |Finance   |CA   |90000 |24 |23000|\n",
            "|Raman        |Finance   |DE   |99000 |40 |24000|\n",
            "|Scott        |Finance   |NY   |83000 |36 |19000|\n",
            "|Jen          |Finance   |NY   |79000 |53 |15000|\n",
            "|Jeff         |Marketing |NV   |80000 |25 |18000|\n",
            "|Kumar        |Marketing |NJ   |91000 |50 |21000|\n",
            "+-------------+----------+-----+------+---+-----+\n",
            "\n"
          ]
        }
      ]
    },
    {
      "cell_type": "code",
      "source": [
        "df.groupBy(\"state\").sum(\"salary\").show()"
      ],
      "metadata": {
        "colab": {
          "base_uri": "https://localhost:8080/"
        },
        "id": "Dv68l1r-mAF6",
        "outputId": "8a7d701a-5130-467e-f4ea-450a7247dfb7"
      },
      "execution_count": null,
      "outputs": [
        {
          "output_type": "stream",
          "name": "stdout",
          "text": [
            "+-----+-----------+\n",
            "|state|sum(salary)|\n",
            "+-----+-----------+\n",
            "|   NV|     166000|\n",
            "|   CA|     171000|\n",
            "|   NY|     252000|\n",
            "|   NJ|      91000|\n",
            "|   DE|      99000|\n",
            "+-----+-----------+\n",
            "\n"
          ]
        }
      ]
    },
    {
      "cell_type": "code",
      "source": [
        "dfgroup = df.groupBy(\"state\").agg(functions.sum(\"salary\").alias(\"sum_salary\"))\n",
        "dfgroup.show()"
      ],
      "metadata": {
        "colab": {
          "base_uri": "https://localhost:8080/"
        },
        "id": "KEp9d1NJmpjW",
        "outputId": "f9a61c1f-0d32-433c-eb97-e474ccfc1e86"
      },
      "execution_count": null,
      "outputs": [
        {
          "output_type": "stream",
          "name": "stdout",
          "text": [
            "+-----+----------+\n",
            "|state|sum_salary|\n",
            "+-----+----------+\n",
            "|   NV|    166000|\n",
            "|   CA|    171000|\n",
            "|   NY|    252000|\n",
            "|   NJ|     91000|\n",
            "|   DE|     99000|\n",
            "+-----+----------+\n",
            "\n"
          ]
        }
      ]
    },
    {
      "cell_type": "code",
      "source": [
        "df_filter = dfgroup.filter(dfgroup.sum_salary >100000)\n",
        "df_filter.show()"
      ],
      "metadata": {
        "colab": {
          "base_uri": "https://localhost:8080/"
        },
        "id": "xjBfs1sDnaeP",
        "outputId": "5fc7e70b-1e54-409a-fa2a-d1fd0ce4a7ff"
      },
      "execution_count": null,
      "outputs": [
        {
          "output_type": "stream",
          "name": "stdout",
          "text": [
            "+-----+----------+\n",
            "|state|sum_salary|\n",
            "+-----+----------+\n",
            "|   NV|    166000|\n",
            "|   CA|    171000|\n",
            "|   NY|    252000|\n",
            "+-----+----------+\n",
            "\n"
          ]
        }
      ]
    },
    {
      "cell_type": "code",
      "source": [
        "df_filter.sort(\"sum_salary\").show()\n",
        "df_filter.sort(functions.desc(\"sum_salary\")).show()"
      ],
      "metadata": {
        "colab": {
          "base_uri": "https://localhost:8080/"
        },
        "id": "9xAUwYYJoDxL",
        "outputId": "41f539a8-4478-420f-baa1-b76f2d582f15"
      },
      "execution_count": null,
      "outputs": [
        {
          "output_type": "stream",
          "name": "stdout",
          "text": [
            "+-----+----------+\n",
            "|state|sum_salary|\n",
            "+-----+----------+\n",
            "|   NV|    166000|\n",
            "|   CA|    171000|\n",
            "|   NY|    252000|\n",
            "+-----+----------+\n",
            "\n",
            "+-----+----------+\n",
            "|state|sum_salary|\n",
            "+-----+----------+\n",
            "|   NY|    252000|\n",
            "|   CA|    171000|\n",
            "|   NV|    166000|\n",
            "+-----+----------+\n",
            "\n"
          ]
        }
      ]
    },
    {
      "cell_type": "markdown",
      "source": [
        "**Joins**"
      ],
      "metadata": {
        "id": "8YzoEXuRoRQu"
      }
    },
    {
      "cell_type": "code",
      "source": [
        "d1 = [[\"1\", \"sravan\", \"company 1\"],     #first dataframe\n",
        "        [\"2\", \"ojaswi\", \"company 1\"],\n",
        "        [\"3\", \"rohith\", \"company 2\"],\n",
        "        [\"4\", \"sridevi\", \"company 1\"]]\n",
        "cols = ['id', 'Name', 'Company']\n",
        "df1 = spark.createDataFrame(d1, cols)\n",
        "df1.show()\n",
        "d2 = [(\"1\", \"45000\", \"IT\"),             #second dataframe\n",
        "      (\"2\", \"145000\", \"Manager\"),\n",
        "      (\"6\", \"45000\", \"HR\"),\n",
        "      (\"5\", \"34000\", \"Sales\")]\n",
        "cols2 = ['id', 'salary', 'department']\n",
        "df2 = spark.createDataFrame(d2, cols2)\n",
        "df2.show()"
      ],
      "metadata": {
        "colab": {
          "base_uri": "https://localhost:8080/"
        },
        "id": "dsuw95kWsn7p",
        "outputId": "889c62e9-cc4d-4373-f853-26c416329935"
      },
      "execution_count": null,
      "outputs": [
        {
          "output_type": "stream",
          "name": "stdout",
          "text": [
            "+---+-------+---------+\n",
            "| id|   Name|  Company|\n",
            "+---+-------+---------+\n",
            "|  1| sravan|company 1|\n",
            "|  2| ojaswi|company 1|\n",
            "|  3| rohith|company 2|\n",
            "|  4|sridevi|company 1|\n",
            "+---+-------+---------+\n",
            "\n",
            "+---+------+----------+\n",
            "| id|salary|department|\n",
            "+---+------+----------+\n",
            "|  1| 45000|        IT|\n",
            "|  2|145000|   Manager|\n",
            "|  6| 45000|        HR|\n",
            "|  5| 34000|     Sales|\n",
            "+---+------+----------+\n",
            "\n"
          ]
        }
      ]
    },
    {
      "cell_type": "markdown",
      "source": [
        "inner"
      ],
      "metadata": {
        "id": "SrYzbbygtZ8N"
      }
    },
    {
      "cell_type": "code",
      "source": [
        "df1.join(df2, df1.id == df2.id, \"inner\").show()"
      ],
      "metadata": {
        "colab": {
          "base_uri": "https://localhost:8080/"
        },
        "id": "W5SJfP6WtY0y",
        "outputId": "e2d651ec-8d80-4be3-cf6d-c92af6ad0e50"
      },
      "execution_count": null,
      "outputs": [
        {
          "output_type": "stream",
          "name": "stdout",
          "text": [
            "+---+------+---------+---+------+----------+\n",
            "| id|  Name|  Company| id|salary|department|\n",
            "+---+------+---------+---+------+----------+\n",
            "|  1|sravan|company 1|  1| 45000|        IT|\n",
            "|  2|ojaswi|company 1|  2|145000|   Manager|\n",
            "+---+------+---------+---+------+----------+\n",
            "\n"
          ]
        }
      ]
    },
    {
      "cell_type": "markdown",
      "source": [
        "fullouter"
      ],
      "metadata": {
        "id": "y8uZWzYcuBkp"
      }
    },
    {
      "cell_type": "code",
      "source": [
        "df1.join(df2, df1.id == df2.id, \"outer\").show()"
      ],
      "metadata": {
        "colab": {
          "base_uri": "https://localhost:8080/"
        },
        "id": "i2wsvetHuAoi",
        "outputId": "8da6ee05-faf4-467b-b012-d657c134dfae"
      },
      "execution_count": null,
      "outputs": [
        {
          "output_type": "stream",
          "name": "stdout",
          "text": [
            "+----+-------+---------+----+------+----------+\n",
            "|  id|   Name|  Company|  id|salary|department|\n",
            "+----+-------+---------+----+------+----------+\n",
            "|   1| sravan|company 1|   1| 45000|        IT|\n",
            "|   2| ojaswi|company 1|   2|145000|   Manager|\n",
            "|   3| rohith|company 2|NULL|  NULL|      NULL|\n",
            "|   4|sridevi|company 1|NULL|  NULL|      NULL|\n",
            "|NULL|   NULL|     NULL|   5| 34000|     Sales|\n",
            "|NULL|   NULL|     NULL|   6| 45000|        HR|\n",
            "+----+-------+---------+----+------+----------+\n",
            "\n"
          ]
        }
      ]
    },
    {
      "cell_type": "code",
      "source": [
        "df1.join(df2, df1.id == df2.id, \"full\").show()"
      ],
      "metadata": {
        "colab": {
          "base_uri": "https://localhost:8080/"
        },
        "id": "iN79tGjauNwK",
        "outputId": "0671d4d3-8596-4ae0-c8c6-766111e7b50e"
      },
      "execution_count": null,
      "outputs": [
        {
          "output_type": "stream",
          "name": "stdout",
          "text": [
            "+----+-------+---------+----+------+----------+\n",
            "|  id|   Name|  Company|  id|salary|department|\n",
            "+----+-------+---------+----+------+----------+\n",
            "|   1| sravan|company 1|   1| 45000|        IT|\n",
            "|   2| ojaswi|company 1|   2|145000|   Manager|\n",
            "|   3| rohith|company 2|NULL|  NULL|      NULL|\n",
            "|   4|sridevi|company 1|NULL|  NULL|      NULL|\n",
            "|NULL|   NULL|     NULL|   5| 34000|     Sales|\n",
            "|NULL|   NULL|     NULL|   6| 45000|        HR|\n",
            "+----+-------+---------+----+------+----------+\n",
            "\n"
          ]
        }
      ]
    },
    {
      "cell_type": "code",
      "source": [
        "df1.join(df2, df1.id == df2.id, \"fullouter\").show()"
      ],
      "metadata": {
        "colab": {
          "base_uri": "https://localhost:8080/"
        },
        "id": "JmxfPWe0u_ta",
        "outputId": "62eef6b0-1c8f-4001-8edd-1bd39c5a7e1b"
      },
      "execution_count": null,
      "outputs": [
        {
          "output_type": "stream",
          "name": "stdout",
          "text": [
            "+----+-------+---------+----+------+----------+\n",
            "|  id|   Name|  Company|  id|salary|department|\n",
            "+----+-------+---------+----+------+----------+\n",
            "|   1| sravan|company 1|   1| 45000|        IT|\n",
            "|   2| ojaswi|company 1|   2|145000|   Manager|\n",
            "|   3| rohith|company 2|NULL|  NULL|      NULL|\n",
            "|   4|sridevi|company 1|NULL|  NULL|      NULL|\n",
            "|NULL|   NULL|     NULL|   5| 34000|     Sales|\n",
            "|NULL|   NULL|     NULL|   6| 45000|        HR|\n",
            "+----+-------+---------+----+------+----------+\n",
            "\n"
          ]
        }
      ]
    },
    {
      "cell_type": "markdown",
      "source": [
        "Left"
      ],
      "metadata": {
        "id": "G9KaKntvvay9"
      }
    },
    {
      "cell_type": "code",
      "source": [
        "df1.join(df2, df1.id == df2.id, \"left\").show()"
      ],
      "metadata": {
        "colab": {
          "base_uri": "https://localhost:8080/"
        },
        "id": "On20N325vcrV",
        "outputId": "2b3a6c66-b2ae-43b8-bd31-733c83b3f370"
      },
      "execution_count": null,
      "outputs": [
        {
          "output_type": "stream",
          "name": "stdout",
          "text": [
            "+---+-------+---------+----+------+----------+\n",
            "| id|   Name|  Company|  id|salary|department|\n",
            "+---+-------+---------+----+------+----------+\n",
            "|  1| sravan|company 1|   1| 45000|        IT|\n",
            "|  2| ojaswi|company 1|   2|145000|   Manager|\n",
            "|  3| rohith|company 2|NULL|  NULL|      NULL|\n",
            "|  4|sridevi|company 1|NULL|  NULL|      NULL|\n",
            "+---+-------+---------+----+------+----------+\n",
            "\n"
          ]
        }
      ]
    },
    {
      "cell_type": "code",
      "source": [
        "df1.join(df2, df1.id == df2.id, \"leftouter\").show()"
      ],
      "metadata": {
        "colab": {
          "base_uri": "https://localhost:8080/"
        },
        "id": "dewLSVKRvmYg",
        "outputId": "1ed99957-7582-4b38-cf8e-daecd0d3469f"
      },
      "execution_count": null,
      "outputs": [
        {
          "output_type": "stream",
          "name": "stdout",
          "text": [
            "+---+-------+---------+----+------+----------+\n",
            "| id|   Name|  Company|  id|salary|department|\n",
            "+---+-------+---------+----+------+----------+\n",
            "|  1| sravan|company 1|   1| 45000|        IT|\n",
            "|  2| ojaswi|company 1|   2|145000|   Manager|\n",
            "|  3| rohith|company 2|NULL|  NULL|      NULL|\n",
            "|  4|sridevi|company 1|NULL|  NULL|      NULL|\n",
            "+---+-------+---------+----+------+----------+\n",
            "\n"
          ]
        }
      ]
    },
    {
      "cell_type": "markdown",
      "source": [
        "right"
      ],
      "metadata": {
        "id": "tkRC2LBVwCt2"
      }
    },
    {
      "cell_type": "code",
      "source": [
        "df1.join(df2, df1.id == df2.id, \"right\").show()"
      ],
      "metadata": {
        "colab": {
          "base_uri": "https://localhost:8080/"
        },
        "id": "Q7S3BjIXwEDN",
        "outputId": "5658998b-c02f-47ac-8d67-e2475df3314d"
      },
      "execution_count": null,
      "outputs": [
        {
          "output_type": "stream",
          "name": "stdout",
          "text": [
            "+----+------+---------+---+------+----------+\n",
            "|  id|  Name|  Company| id|salary|department|\n",
            "+----+------+---------+---+------+----------+\n",
            "|   1|sravan|company 1|  1| 45000|        IT|\n",
            "|   2|ojaswi|company 1|  2|145000|   Manager|\n",
            "|NULL|  NULL|     NULL|  5| 34000|     Sales|\n",
            "|NULL|  NULL|     NULL|  6| 45000|        HR|\n",
            "+----+------+---------+---+------+----------+\n",
            "\n"
          ]
        }
      ]
    },
    {
      "cell_type": "code",
      "source": [
        "df1.join(df2, df1.id == df2.id, \"rightouter\").show()"
      ],
      "metadata": {
        "colab": {
          "base_uri": "https://localhost:8080/"
        },
        "id": "MS-DQz5nwMQ9",
        "outputId": "2ab0aab1-9735-48e8-bba9-c85de601f9de"
      },
      "execution_count": null,
      "outputs": [
        {
          "output_type": "stream",
          "name": "stdout",
          "text": [
            "+----+------+---------+---+------+----------+\n",
            "|  id|  Name|  Company| id|salary|department|\n",
            "+----+------+---------+---+------+----------+\n",
            "|   1|sravan|company 1|  1| 45000|        IT|\n",
            "|   2|ojaswi|company 1|  2|145000|   Manager|\n",
            "|NULL|  NULL|     NULL|  5| 34000|     Sales|\n",
            "|NULL|  NULL|     NULL|  6| 45000|        HR|\n",
            "+----+------+---------+---+------+----------+\n",
            "\n"
          ]
        }
      ]
    },
    {
      "cell_type": "markdown",
      "source": [
        "Left semi"
      ],
      "metadata": {
        "id": "2tKOW-rQxCG7"
      }
    },
    {
      "cell_type": "code",
      "source": [
        "df1.join(df2, df1.id == df2.id, \"leftsemi\").show()"
      ],
      "metadata": {
        "colab": {
          "base_uri": "https://localhost:8080/"
        },
        "id": "VF13fuwExFOr",
        "outputId": "4d5c504f-235e-4a1c-f466-1b1ed7b3347a"
      },
      "execution_count": null,
      "outputs": [
        {
          "output_type": "stream",
          "name": "stdout",
          "text": [
            "+---+------+---------+\n",
            "| id|  Name|  Company|\n",
            "+---+------+---------+\n",
            "|  1|sravan|company 1|\n",
            "|  2|ojaswi|company 1|\n",
            "+---+------+---------+\n",
            "\n"
          ]
        }
      ]
    },
    {
      "cell_type": "markdown",
      "source": [
        "Left anti"
      ],
      "metadata": {
        "id": "vPZat56cxc98"
      }
    },
    {
      "cell_type": "code",
      "source": [
        "df1.join(df2, df1.id == df2.id, \"leftanti\").show()"
      ],
      "metadata": {
        "colab": {
          "base_uri": "https://localhost:8080/"
        },
        "id": "dimgALj0xeqb",
        "outputId": "01d6eb55-67dc-422d-ee5c-4dd4308cc207"
      },
      "execution_count": null,
      "outputs": [
        {
          "output_type": "stream",
          "name": "stdout",
          "text": [
            "+---+-------+---------+\n",
            "| id|   Name|  Company|\n",
            "+---+-------+---------+\n",
            "|  3| rohith|company 2|\n",
            "|  4|sridevi|company 1|\n",
            "+---+-------+---------+\n",
            "\n"
          ]
        }
      ]
    },
    {
      "cell_type": "markdown",
      "source": [
        "Null"
      ],
      "metadata": {
        "id": "8kdXTE6XyRj_"
      }
    },
    {
      "cell_type": "code",
      "source": [
        "from pyspark.sql import SparkSession\n",
        "# Create Spark session\n",
        "spark = SparkSession.builder.appName(\"NullValuesExample\").getOrCreate()\n",
        "# Data with None for NULL values\n",
        "data = [\n",
        "    (1, \"John\", \"IT\", 29, 4, 5000, 101),\n",
        "    (2, \"Alice\", \"HR\", None, 2, None, 102),\n",
        "    (3, None, \"Sales\", 35, None, 7000, None),\n",
        "    (4, \"Bob\", None, None, None, None, None),\n",
        "    (5, \"Eve\", \"Finance\", 40, 10, 10000, 105),\n",
        "    (6, None, None, None, None, None, None),\n",
        "]\n",
        "# Column names\n",
        "columns = [\"Employee_ID\", \"Name\", \"Department\", \"Age\", \"Experience (yrs)\", \"Salary ($)\", \"Manager_ID\"]\n",
        "# Create DataFrame\n",
        "df = spark.createDataFrame(data, columns)\n",
        "# Show DataFrame\n",
        "df.show()\n",
        "df.printSchema()\n"
      ],
      "metadata": {
        "colab": {
          "base_uri": "https://localhost:8080/"
        },
        "id": "f8ETYAwoyTrk",
        "outputId": "19bd3fc4-12c7-46a3-8309-1b0932b39f2e"
      },
      "execution_count": null,
      "outputs": [
        {
          "output_type": "stream",
          "name": "stdout",
          "text": [
            "+-----------+-----+----------+----+----------------+----------+----------+\n",
            "|Employee_ID| Name|Department| Age|Experience (yrs)|Salary ($)|Manager_ID|\n",
            "+-----------+-----+----------+----+----------------+----------+----------+\n",
            "|          1| John|        IT|  29|               4|      5000|       101|\n",
            "|          2|Alice|        HR|NULL|               2|      NULL|       102|\n",
            "|          3| NULL|     Sales|  35|            NULL|      7000|      NULL|\n",
            "|          4|  Bob|      NULL|NULL|            NULL|      NULL|      NULL|\n",
            "|          5|  Eve|   Finance|  40|              10|     10000|       105|\n",
            "|          6| NULL|      NULL|NULL|            NULL|      NULL|      NULL|\n",
            "+-----------+-----+----------+----+----------------+----------+----------+\n",
            "\n",
            "root\n",
            " |-- Employee_ID: long (nullable = true)\n",
            " |-- Name: string (nullable = true)\n",
            " |-- Department: string (nullable = true)\n",
            " |-- Age: long (nullable = true)\n",
            " |-- Experience (yrs): long (nullable = true)\n",
            " |-- Salary ($): long (nullable = true)\n",
            " |-- Manager_ID: long (nullable = true)\n",
            "\n"
          ]
        }
      ]
    },
    {
      "cell_type": "code",
      "source": [
        "df.printSchema()"
      ],
      "metadata": {
        "colab": {
          "base_uri": "https://localhost:8080/"
        },
        "id": "Vodl1TP9ypUK",
        "outputId": "d810d1c6-4314-441b-dbee-892ea43d8016"
      },
      "execution_count": null,
      "outputs": [
        {
          "output_type": "stream",
          "name": "stdout",
          "text": [
            "root\n",
            " |-- Employee_ID: long (nullable = true)\n",
            " |-- Name: string (nullable = true)\n",
            " |-- Department: string (nullable = true)\n",
            " |-- Age: long (nullable = true)\n",
            " |-- Experience (yrs): long (nullable = true)\n",
            " |-- Salary ($): long (nullable = true)\n",
            " |-- Manager_ID: long (nullable = true)\n",
            "\n"
          ]
        }
      ]
    },
    {
      "cell_type": "code",
      "source": [
        "df.na.drop().show()"
      ],
      "metadata": {
        "colab": {
          "base_uri": "https://localhost:8080/"
        },
        "id": "2wuOdROOzbnr",
        "outputId": "3ced3062-492c-47a9-a955-c6d4ecff2347"
      },
      "execution_count": null,
      "outputs": [
        {
          "output_type": "stream",
          "name": "stdout",
          "text": [
            "+-----------+----+----------+---+----------------+----------+----------+\n",
            "|Employee_ID|Name|Department|Age|Experience (yrs)|Salary ($)|Manager_ID|\n",
            "+-----------+----+----------+---+----------------+----------+----------+\n",
            "|          1|John|        IT| 29|               4|      5000|       101|\n",
            "|          5| Eve|   Finance| 40|              10|     10000|       105|\n",
            "+-----------+----+----------+---+----------------+----------+----------+\n",
            "\n"
          ]
        }
      ]
    },
    {
      "cell_type": "code",
      "source": [
        "df.na.drop(how=\"any\").show()\n",
        "df.na.drop(how=\"all\").show()"
      ],
      "metadata": {
        "colab": {
          "base_uri": "https://localhost:8080/"
        },
        "id": "bM217WZBz5Ax",
        "outputId": "eca0ff68-3807-4784-db31-d2ef15e9f6be"
      },
      "execution_count": null,
      "outputs": [
        {
          "output_type": "stream",
          "name": "stdout",
          "text": [
            "+-----------+----+----------+---+----------------+----------+----------+\n",
            "|Employee_ID|Name|Department|Age|Experience (yrs)|Salary ($)|Manager_ID|\n",
            "+-----------+----+----------+---+----------------+----------+----------+\n",
            "|          1|John|        IT| 29|               4|      5000|       101|\n",
            "|          5| Eve|   Finance| 40|              10|     10000|       105|\n",
            "+-----------+----+----------+---+----------------+----------+----------+\n",
            "\n",
            "+-----------+-----+----------+----+----------------+----------+----------+\n",
            "|Employee_ID| Name|Department| Age|Experience (yrs)|Salary ($)|Manager_ID|\n",
            "+-----------+-----+----------+----+----------------+----------+----------+\n",
            "|          1| John|        IT|  29|               4|      5000|       101|\n",
            "|          2|Alice|        HR|NULL|               2|      NULL|       102|\n",
            "|          3| NULL|     Sales|  35|            NULL|      7000|      NULL|\n",
            "|          4|  Bob|      NULL|NULL|            NULL|      NULL|      NULL|\n",
            "|          5|  Eve|   Finance|  40|              10|     10000|       105|\n",
            "|          6| NULL|      NULL|NULL|            NULL|      NULL|      NULL|\n",
            "+-----------+-----+----------+----+----------------+----------+----------+\n",
            "\n"
          ]
        }
      ]
    },
    {
      "cell_type": "code",
      "source": [
        "df.na.drop(thresh=2).show() #Keeps rows with at least 2 non-null values, drops others."
      ],
      "metadata": {
        "colab": {
          "base_uri": "https://localhost:8080/"
        },
        "id": "Jij-4ZiC0Kl3",
        "outputId": "e556a293-6d2b-491e-ab04-883cdfd74127"
      },
      "execution_count": null,
      "outputs": [
        {
          "output_type": "stream",
          "name": "stdout",
          "text": [
            "+-----------+-----+----------+----+----------------+----------+----------+\n",
            "|Employee_ID| Name|Department| Age|Experience (yrs)|Salary ($)|Manager_ID|\n",
            "+-----------+-----+----------+----+----------------+----------+----------+\n",
            "|          1| John|        IT|  29|               4|      5000|       101|\n",
            "|          2|Alice|        HR|NULL|               2|      NULL|       102|\n",
            "|          3| NULL|     Sales|  35|            NULL|      7000|      NULL|\n",
            "|          4|  Bob|      NULL|NULL|            NULL|      NULL|      NULL|\n",
            "|          5|  Eve|   Finance|  40|              10|     10000|       105|\n",
            "+-----------+-----+----------+----+----------------+----------+----------+\n",
            "\n"
          ]
        }
      ]
    },
    {
      "cell_type": "code",
      "source": [
        "df.na.drop(how=\"any\", subset=[\"Experience (yrs)\"]).show()"
      ],
      "metadata": {
        "colab": {
          "base_uri": "https://localhost:8080/"
        },
        "id": "cDE27lfG0cx1",
        "outputId": "a082a465-4362-4c17-d65f-d4b34a8939b9"
      },
      "execution_count": null,
      "outputs": [
        {
          "output_type": "stream",
          "name": "stdout",
          "text": [
            "+-----------+-----+----------+----+----------------+----------+----------+\n",
            "|Employee_ID| Name|Department| Age|Experience (yrs)|Salary ($)|Manager_ID|\n",
            "+-----------+-----+----------+----+----------------+----------+----------+\n",
            "|          1| John|        IT|  29|               4|      5000|       101|\n",
            "|          2|Alice|        HR|NULL|               2|      NULL|       102|\n",
            "|          5|  Eve|   Finance|  40|              10|     10000|       105|\n",
            "+-----------+-----+----------+----+----------------+----------+----------+\n",
            "\n"
          ]
        }
      ]
    },
    {
      "cell_type": "code",
      "source": [
        "df.na.drop(how=\"any\", subset=[\"Age\", \"Department\"]).show()"
      ],
      "metadata": {
        "id": "JiEoiZQE0wjk",
        "outputId": "070f0ef7-dca9-4662-e843-848a3a07199d",
        "colab": {
          "base_uri": "https://localhost:8080/"
        }
      },
      "execution_count": null,
      "outputs": [
        {
          "output_type": "stream",
          "name": "stdout",
          "text": [
            "+-----------+----+----------+---+----------------+----------+----------+\n",
            "|Employee_ID|Name|Department|Age|Experience (yrs)|Salary ($)|Manager_ID|\n",
            "+-----------+----+----------+---+----------------+----------+----------+\n",
            "|          1|John|        IT| 29|               4|      5000|       101|\n",
            "|          3|NULL|     Sales| 35|            NULL|      7000|      NULL|\n",
            "|          5| Eve|   Finance| 40|              10|     10000|       105|\n",
            "+-----------+----+----------+---+----------------+----------+----------+\n",
            "\n"
          ]
        }
      ]
    },
    {
      "cell_type": "markdown",
      "source": [
        "Fill null"
      ],
      "metadata": {
        "id": "2nkf-9l0FvQY"
      }
    },
    {
      "cell_type": "code",
      "source": [
        "df.na.fill('NA', 'Name').show() #Fill String Column\n",
        "df.na.fill(0, subset =[\"Age\",\"Experience (yrs)\",\"Salary ($)\",\"Manager_ID\"]).show() #Fill Numeric Column\n",
        "df.na.fill('NA', subset=[\"Name\", \"Department\"]).show()"
      ],
      "metadata": {
        "colab": {
          "base_uri": "https://localhost:8080/"
        },
        "id": "_r5_fdZyFxA9",
        "outputId": "868e2473-d99d-4e22-b794-4a7cbb39d025"
      },
      "execution_count": null,
      "outputs": [
        {
          "output_type": "stream",
          "name": "stdout",
          "text": [
            "+-----------+-----+----------+----+----------------+----------+----------+\n",
            "|Employee_ID| Name|Department| Age|Experience (yrs)|Salary ($)|Manager_ID|\n",
            "+-----------+-----+----------+----+----------------+----------+----------+\n",
            "|          1| John|        IT|  29|               4|      5000|       101|\n",
            "|          2|Alice|        HR|NULL|               2|      NULL|       102|\n",
            "|          3|   NA|     Sales|  35|            NULL|      7000|      NULL|\n",
            "|          4|  Bob|      NULL|NULL|            NULL|      NULL|      NULL|\n",
            "|          5|  Eve|   Finance|  40|              10|     10000|       105|\n",
            "|          6|   NA|      NULL|NULL|            NULL|      NULL|      NULL|\n",
            "+-----------+-----+----------+----+----------------+----------+----------+\n",
            "\n",
            "+-----------+-----+----------+---+----------------+----------+----------+\n",
            "|Employee_ID| Name|Department|Age|Experience (yrs)|Salary ($)|Manager_ID|\n",
            "+-----------+-----+----------+---+----------------+----------+----------+\n",
            "|          1| John|        IT| 29|               4|      5000|       101|\n",
            "|          2|Alice|        HR|  0|               2|         0|       102|\n",
            "|          3| NULL|     Sales| 35|               0|      7000|         0|\n",
            "|          4|  Bob|      NULL|  0|               0|         0|         0|\n",
            "|          5|  Eve|   Finance| 40|              10|     10000|       105|\n",
            "|          6| NULL|      NULL|  0|               0|         0|         0|\n",
            "+-----------+-----+----------+---+----------------+----------+----------+\n",
            "\n",
            "+-----------+-----+----------+----+----------------+----------+----------+\n",
            "|Employee_ID| Name|Department| Age|Experience (yrs)|Salary ($)|Manager_ID|\n",
            "+-----------+-----+----------+----+----------------+----------+----------+\n",
            "|          1| John|        IT|  29|               4|      5000|       101|\n",
            "|          2|Alice|        HR|NULL|               2|      NULL|       102|\n",
            "|          3|   NA|     Sales|  35|            NULL|      7000|      NULL|\n",
            "|          4|  Bob|        NA|NULL|            NULL|      NULL|      NULL|\n",
            "|          5|  Eve|   Finance|  40|              10|     10000|       105|\n",
            "|          6|   NA|        NA|NULL|            NULL|      NULL|      NULL|\n",
            "+-----------+-----+----------+----+----------------+----------+----------+\n",
            "\n"
          ]
        }
      ]
    },
    {
      "cell_type": "code",
      "source": [
        "df.na.fill('').show() # Replaces NULL with empty string for all string columns\n",
        "df.na.fill(0).show()  # Replaces NULL with 0 for all numeric columns"
      ],
      "metadata": {
        "colab": {
          "base_uri": "https://localhost:8080/"
        },
        "id": "N6V2fW72JQrb",
        "outputId": "c3967156-6cfb-433e-d4b9-5ddc6571fa9f"
      },
      "execution_count": null,
      "outputs": [
        {
          "output_type": "stream",
          "name": "stdout",
          "text": [
            "+-----------+-----+----------+----+----------------+----------+----------+\n",
            "|Employee_ID| Name|Department| Age|Experience (yrs)|Salary ($)|Manager_ID|\n",
            "+-----------+-----+----------+----+----------------+----------+----------+\n",
            "|          1| John|        IT|  29|               4|      5000|       101|\n",
            "|          2|Alice|        HR|NULL|               2|      NULL|       102|\n",
            "|          3|     |     Sales|  35|            NULL|      7000|      NULL|\n",
            "|          4|  Bob|          |NULL|            NULL|      NULL|      NULL|\n",
            "|          5|  Eve|   Finance|  40|              10|     10000|       105|\n",
            "|          6|     |          |NULL|            NULL|      NULL|      NULL|\n",
            "+-----------+-----+----------+----+----------------+----------+----------+\n",
            "\n",
            "+-----------+-----+----------+---+----------------+----------+----------+\n",
            "|Employee_ID| Name|Department|Age|Experience (yrs)|Salary ($)|Manager_ID|\n",
            "+-----------+-----+----------+---+----------------+----------+----------+\n",
            "|          1| John|        IT| 29|               4|      5000|       101|\n",
            "|          2|Alice|        HR|  0|               2|         0|       102|\n",
            "|          3| NULL|     Sales| 35|               0|      7000|         0|\n",
            "|          4|  Bob|      NULL|  0|               0|         0|         0|\n",
            "|          5|  Eve|   Finance| 40|              10|     10000|       105|\n",
            "|          6| NULL|      NULL|  0|               0|         0|         0|\n",
            "+-----------+-----+----------+---+----------------+----------+----------+\n",
            "\n"
          ]
        }
      ]
    },
    {
      "cell_type": "code",
      "source": [
        "df.na.fill({\"Name\":\"Unknown\", \"Salary ($)\": 0}).show()"
      ],
      "metadata": {
        "colab": {
          "base_uri": "https://localhost:8080/"
        },
        "id": "gvgtwOXsJiJD",
        "outputId": "063e35bb-0d12-41ce-a390-094411fb20a9"
      },
      "execution_count": null,
      "outputs": [
        {
          "output_type": "stream",
          "name": "stdout",
          "text": [
            "+-----------+-------+----------+----+----------------+----------+----------+\n",
            "|Employee_ID|   Name|Department| Age|Experience (yrs)|Salary ($)|Manager_ID|\n",
            "+-----------+-------+----------+----+----------------+----------+----------+\n",
            "|          1|   John|        IT|  29|               4|      5000|       101|\n",
            "|          2|  Alice|        HR|NULL|               2|         0|       102|\n",
            "|          3|Unknown|     Sales|  35|            NULL|      7000|      NULL|\n",
            "|          4|    Bob|      NULL|NULL|            NULL|         0|      NULL|\n",
            "|          5|    Eve|   Finance|  40|              10|     10000|       105|\n",
            "|          6|Unknown|      NULL|NULL|            NULL|         0|      NULL|\n",
            "+-----------+-------+----------+----+----------------+----------+----------+\n",
            "\n"
          ]
        }
      ]
    },
    {
      "cell_type": "markdown",
      "source": [
        "Mean\n"
      ],
      "metadata": {
        "id": "6mc4-9uIJ_uM"
      }
    },
    {
      "cell_type": "code",
      "source": [
        "from pyspark.ml.feature import Imputer\n",
        "imputer = Imputer(\n",
        "    inputCols = ['Age', 'Experience (yrs)', 'Salary ($)'],\n",
        "    outputCols=[\"{}_imputed\".format(c) for c in ['Age', 'Experience (yrs)', 'Salary ($)']]).setStrategy(\"mean\")\n",
        "df_imputed = imputer.fit(df).transform(df)\n",
        "df_imputed.show()"
      ],
      "metadata": {
        "colab": {
          "base_uri": "https://localhost:8080/"
        },
        "id": "uNmqP1qEKA6V",
        "outputId": "0f65ff07-7e9a-4167-b067-aaa3197b2fa0"
      },
      "execution_count": null,
      "outputs": [
        {
          "output_type": "stream",
          "name": "stdout",
          "text": [
            "+-----------+-----+----------+----+----------------+----------+----------+-----------+------------------------+------------------+\n",
            "|Employee_ID| Name|Department| Age|Experience (yrs)|Salary ($)|Manager_ID|Age_imputed|Experience (yrs)_imputed|Salary ($)_imputed|\n",
            "+-----------+-----+----------+----+----------------+----------+----------+-----------+------------------------+------------------+\n",
            "|          1| John|        IT|  29|               4|      5000|       101|         29|                       4|              5000|\n",
            "|          2|Alice|        HR|NULL|               2|      NULL|       102|         34|                       2|              7333|\n",
            "|          3| NULL|     Sales|  35|            NULL|      7000|      NULL|         35|                       5|              7000|\n",
            "|          4|  Bob|      NULL|NULL|            NULL|      NULL|      NULL|         34|                       5|              7333|\n",
            "|          5|  Eve|   Finance|  40|              10|     10000|       105|         40|                      10|             10000|\n",
            "|          6| NULL|      NULL|NULL|            NULL|      NULL|      NULL|         34|                       5|              7333|\n",
            "+-----------+-----+----------+----+----------------+----------+----------+-----------+------------------------+------------------+\n",
            "\n"
          ]
        }
      ]
    },
    {
      "cell_type": "markdown",
      "source": [
        "Median"
      ],
      "metadata": {
        "id": "w8P0zvNdKdUo"
      }
    },
    {
      "cell_type": "code",
      "source": [
        "from pyspark.ml.feature import Imputer\n",
        "imputer = Imputer(\n",
        "    inputCols = ['Age', 'Experience (yrs)', 'Salary ($)'],\n",
        "    outputCols=[\"{}_imputed\".format(c) for c in ['Age', 'Experience (yrs)', 'Salary ($)']]).setStrategy(\"median\")\n",
        "df_imputed = imputer.fit(df).transform(df)\n",
        "df_imputed.show()"
      ],
      "metadata": {
        "colab": {
          "base_uri": "https://localhost:8080/"
        },
        "id": "kW-TIZ4IKeez",
        "outputId": "d5b899bc-77ca-4ca8-e6b7-5e880f188c19"
      },
      "execution_count": null,
      "outputs": [
        {
          "output_type": "stream",
          "name": "stdout",
          "text": [
            "+-----------+-----+----------+----+----------------+----------+----------+-----------+------------------------+------------------+\n",
            "|Employee_ID| Name|Department| Age|Experience (yrs)|Salary ($)|Manager_ID|Age_imputed|Experience (yrs)_imputed|Salary ($)_imputed|\n",
            "+-----------+-----+----------+----+----------------+----------+----------+-----------+------------------------+------------------+\n",
            "|          1| John|        IT|  29|               4|      5000|       101|         29|                       4|              5000|\n",
            "|          2|Alice|        HR|NULL|               2|      NULL|       102|         35|                       2|              7000|\n",
            "|          3| NULL|     Sales|  35|            NULL|      7000|      NULL|         35|                       4|              7000|\n",
            "|          4|  Bob|      NULL|NULL|            NULL|      NULL|      NULL|         35|                       4|              7000|\n",
            "|          5|  Eve|   Finance|  40|              10|     10000|       105|         40|                      10|             10000|\n",
            "|          6| NULL|      NULL|NULL|            NULL|      NULL|      NULL|         35|                       4|              7000|\n",
            "+-----------+-----+----------+----+----------------+----------+----------+-----------+------------------------+------------------+\n",
            "\n"
          ]
        }
      ]
    },
    {
      "cell_type": "markdown",
      "source": [
        "Mode\n"
      ],
      "metadata": {
        "id": "HgbcfXtRKrzd"
      }
    },
    {
      "cell_type": "code",
      "source": [
        "from pyspark.ml.feature import Imputer\n",
        "imputer = Imputer(\n",
        "    inputCols = ['Age', 'Experience (yrs)', 'Salary ($)'],\n",
        "    outputCols=[\"{}_imputed\".format(c) for c in ['Age', 'Experience (yrs)', 'Salary ($)']]).setStrategy(\"mode\")\n",
        "df_imputed = imputer.fit(df).transform(df)\n",
        "df_imputed.show()"
      ],
      "metadata": {
        "colab": {
          "base_uri": "https://localhost:8080/"
        },
        "id": "dyeinthAKs93",
        "outputId": "49367ab0-3f9b-432e-e0a2-027228a7515f"
      },
      "execution_count": null,
      "outputs": [
        {
          "output_type": "stream",
          "name": "stdout",
          "text": [
            "+-----------+-----+----------+----+----------------+----------+----------+-----------+------------------------+------------------+\n",
            "|Employee_ID| Name|Department| Age|Experience (yrs)|Salary ($)|Manager_ID|Age_imputed|Experience (yrs)_imputed|Salary ($)_imputed|\n",
            "+-----------+-----+----------+----+----------------+----------+----------+-----------+------------------------+------------------+\n",
            "|          1| John|        IT|  29|               4|      5000|       101|         29|                       4|              5000|\n",
            "|          2|Alice|        HR|NULL|               2|      NULL|       102|         29|                       2|              5000|\n",
            "|          3| NULL|     Sales|  35|            NULL|      7000|      NULL|         35|                       2|              7000|\n",
            "|          4|  Bob|      NULL|NULL|            NULL|      NULL|      NULL|         29|                       2|              5000|\n",
            "|          5|  Eve|   Finance|  40|              10|     10000|       105|         40|                      10|             10000|\n",
            "|          6| NULL|      NULL|NULL|            NULL|      NULL|      NULL|         29|                       2|              5000|\n",
            "+-----------+-----+----------+----+----------------+----------+----------+-----------+------------------------+------------------+\n",
            "\n"
          ]
        }
      ]
    },
    {
      "cell_type": "code",
      "source": [
        "from pyspark.sql.functions import col\n",
        "df.filter(col(\"Age\").isNull()).show() # Only rows with NULL salary\n",
        "df.filter(col(\"Salary ($)\").isNotNull()).show() # Only rows without NULL salary"
      ],
      "metadata": {
        "colab": {
          "base_uri": "https://localhost:8080/"
        },
        "id": "jeWpDaAuL31d",
        "outputId": "91c52008-afa1-4a6a-ba45-4a21d3a0ff6c"
      },
      "execution_count": null,
      "outputs": [
        {
          "output_type": "stream",
          "name": "stdout",
          "text": [
            "+-----------+-----+----------+----+----------------+----------+----------+\n",
            "|Employee_ID| Name|Department| Age|Experience (yrs)|Salary ($)|Manager_ID|\n",
            "+-----------+-----+----------+----+----------------+----------+----------+\n",
            "|          2|Alice|        HR|NULL|               2|      NULL|       102|\n",
            "|          4|  Bob|      NULL|NULL|            NULL|      NULL|      NULL|\n",
            "|          6| NULL|      NULL|NULL|            NULL|      NULL|      NULL|\n",
            "+-----------+-----+----------+----+----------------+----------+----------+\n",
            "\n",
            "+-----------+----+----------+---+----------------+----------+----------+\n",
            "|Employee_ID|Name|Department|Age|Experience (yrs)|Salary ($)|Manager_ID|\n",
            "+-----------+----+----------+---+----------------+----------+----------+\n",
            "|          1|John|        IT| 29|               4|      5000|       101|\n",
            "|          3|NULL|     Sales| 35|            NULL|      7000|      NULL|\n",
            "|          5| Eve|   Finance| 40|              10|     10000|       105|\n",
            "+-----------+----+----------+---+----------------+----------+----------+\n",
            "\n"
          ]
        }
      ]
    },
    {
      "cell_type": "code",
      "source": [
        "from pyspark.sql.functions import coalesce\n",
        "df.withColumn(\"Final_Salary\", coalesce(col(\"Salary ($)\"), col(\"Experience (yrs)\"))).show()"
      ],
      "metadata": {
        "colab": {
          "base_uri": "https://localhost:8080/"
        },
        "id": "r6ofiOaTMXxa",
        "outputId": "b0923cd0-598b-475f-d439-fbaccb7a7831"
      },
      "execution_count": null,
      "outputs": [
        {
          "output_type": "stream",
          "name": "stdout",
          "text": [
            "+-----------+-----+----------+----+----------------+----------+----------+------------+\n",
            "|Employee_ID| Name|Department| Age|Experience (yrs)|Salary ($)|Manager_ID|Final_Salary|\n",
            "+-----------+-----+----------+----+----------------+----------+----------+------------+\n",
            "|          1| John|        IT|  29|               4|      5000|       101|        5000|\n",
            "|          2|Alice|        HR|NULL|               2|      NULL|       102|           2|\n",
            "|          3| NULL|     Sales|  35|            NULL|      7000|      NULL|        7000|\n",
            "|          4|  Bob|      NULL|NULL|            NULL|      NULL|      NULL|        NULL|\n",
            "|          5|  Eve|   Finance|  40|              10|     10000|       105|       10000|\n",
            "|          6| NULL|      NULL|NULL|            NULL|      NULL|      NULL|        NULL|\n",
            "+-----------+-----+----------+----+----------------+----------+----------+------------+\n",
            "\n"
          ]
        }
      ]
    },
    {
      "cell_type": "markdown",
      "source": [
        "AGG FUNCTION - NULL"
      ],
      "metadata": {
        "id": "vpZBMzM6NB2z"
      }
    },
    {
      "cell_type": "code",
      "source": [
        "from pyspark.sql.functions import avg\n",
        "df.select(avg(\"Salary ($)\")).show()"
      ],
      "metadata": {
        "colab": {
          "base_uri": "https://localhost:8080/"
        },
        "id": "yAMwEICONEvh",
        "outputId": "fa558a86-992c-4c3b-d765-339ebdc65054"
      },
      "execution_count": null,
      "outputs": [
        {
          "output_type": "stream",
          "name": "stdout",
          "text": [
            "+-----------------+\n",
            "|  avg(Salary ($))|\n",
            "+-----------------+\n",
            "|7333.333333333333|\n",
            "+-----------------+\n",
            "\n"
          ]
        }
      ]
    },
    {
      "cell_type": "markdown",
      "source": [
        "null - join"
      ],
      "metadata": {
        "id": "P9lGluJENZkL"
      }
    },
    {
      "cell_type": "code",
      "source": [
        "from pyspark.sql import SparkSession\n",
        "spark = SparkSession.builder.appName(\"NullValuesExample\").getOrCreate()\n",
        "d1 = [(1, \"John\", \"IT\", 29, 4, 5000, 101),\n",
        "    (2, \"Alice\", \"HR\", None, 2, None, 102),\n",
        "    (3, None, \"Sales\", 35, None, 7000, None),\n",
        "    (4, \"Bob\", None, None, None, None, None),\n",
        "    (5, \"Eve\", \"Finance\", 40, 10, 10000, 105),\n",
        "    (6, None, None, None, None, None, None),]\n",
        "d2 = [(None, \"Alice\", \"HR\", None, 2, None, 102),\n",
        "    (3, None, \"Sales\", 35, None, 7000, None),\n",
        "    (5, \"Eve\", \"Finance\", 40, 10, 10000, 105),\n",
        "    (None, None, None, None, None, None, None),]\n",
        "columns = [\"Employee_ID\", \"Name\", \"Department\", \"Age\", \"Experience (yrs)\", \"Salary ($)\", \"Manager_ID\"]\n",
        "df1 = spark.createDataFrame(d1, columns)\n",
        "df2 = spark.createDataFrame(d1, columns)\n",
        "df1.show()\n",
        "df1.printSchema()\n",
        "df2.show()\n",
        "df2.printSchema()\n"
      ],
      "metadata": {
        "colab": {
          "base_uri": "https://localhost:8080/"
        },
        "id": "6aUf3eSPNbq-",
        "outputId": "8c15a29c-1b3c-43b3-fd65-b24559a27526"
      },
      "execution_count": null,
      "outputs": [
        {
          "output_type": "stream",
          "name": "stdout",
          "text": [
            "+-----------+-----+----------+----+----------------+----------+----------+\n",
            "|Employee_ID| Name|Department| Age|Experience (yrs)|Salary ($)|Manager_ID|\n",
            "+-----------+-----+----------+----+----------------+----------+----------+\n",
            "|          1| John|        IT|  29|               4|      5000|       101|\n",
            "|          2|Alice|        HR|NULL|               2|      NULL|       102|\n",
            "|          3| NULL|     Sales|  35|            NULL|      7000|      NULL|\n",
            "|          4|  Bob|      NULL|NULL|            NULL|      NULL|      NULL|\n",
            "|          5|  Eve|   Finance|  40|              10|     10000|       105|\n",
            "|          6| NULL|      NULL|NULL|            NULL|      NULL|      NULL|\n",
            "+-----------+-----+----------+----+----------------+----------+----------+\n",
            "\n",
            "root\n",
            " |-- Employee_ID: long (nullable = true)\n",
            " |-- Name: string (nullable = true)\n",
            " |-- Department: string (nullable = true)\n",
            " |-- Age: long (nullable = true)\n",
            " |-- Experience (yrs): long (nullable = true)\n",
            " |-- Salary ($): long (nullable = true)\n",
            " |-- Manager_ID: long (nullable = true)\n",
            "\n",
            "+-----------+-----+----------+----+----------------+----------+----------+\n",
            "|Employee_ID| Name|Department| Age|Experience (yrs)|Salary ($)|Manager_ID|\n",
            "+-----------+-----+----------+----+----------------+----------+----------+\n",
            "|          1| John|        IT|  29|               4|      5000|       101|\n",
            "|          2|Alice|        HR|NULL|               2|      NULL|       102|\n",
            "|          3| NULL|     Sales|  35|            NULL|      7000|      NULL|\n",
            "|          4|  Bob|      NULL|NULL|            NULL|      NULL|      NULL|\n",
            "|          5|  Eve|   Finance|  40|              10|     10000|       105|\n",
            "|          6| NULL|      NULL|NULL|            NULL|      NULL|      NULL|\n",
            "+-----------+-----+----------+----+----------------+----------+----------+\n",
            "\n",
            "root\n",
            " |-- Employee_ID: long (nullable = true)\n",
            " |-- Name: string (nullable = true)\n",
            " |-- Department: string (nullable = true)\n",
            " |-- Age: long (nullable = true)\n",
            " |-- Experience (yrs): long (nullable = true)\n",
            " |-- Salary ($): long (nullable = true)\n",
            " |-- Manager_ID: long (nullable = true)\n",
            "\n"
          ]
        }
      ]
    },
    {
      "cell_type": "code",
      "source": [
        "df1.join(df2, df1.Employee_ID == df2.Employee_ID, \"left\").show()"
      ],
      "metadata": {
        "colab": {
          "base_uri": "https://localhost:8080/"
        },
        "id": "qREcWislQwNj",
        "outputId": "2ebf7dc9-20b7-4b94-d950-dfb8baed035b"
      },
      "execution_count": null,
      "outputs": [
        {
          "output_type": "stream",
          "name": "stdout",
          "text": [
            "+-----------+-----+----------+----+----------------+----------+----------+-----------+-----+----------+----+----------------+----------+----------+\n",
            "|Employee_ID| Name|Department| Age|Experience (yrs)|Salary ($)|Manager_ID|Employee_ID| Name|Department| Age|Experience (yrs)|Salary ($)|Manager_ID|\n",
            "+-----------+-----+----------+----+----------------+----------+----------+-----------+-----+----------+----+----------------+----------+----------+\n",
            "|          1| John|        IT|  29|               4|      5000|       101|          1| John|        IT|  29|               4|      5000|       101|\n",
            "|          3| NULL|     Sales|  35|            NULL|      7000|      NULL|          3| NULL|     Sales|  35|            NULL|      7000|      NULL|\n",
            "|          2|Alice|        HR|NULL|               2|      NULL|       102|          2|Alice|        HR|NULL|               2|      NULL|       102|\n",
            "|          6| NULL|      NULL|NULL|            NULL|      NULL|      NULL|          6| NULL|      NULL|NULL|            NULL|      NULL|      NULL|\n",
            "|          5|  Eve|   Finance|  40|              10|     10000|       105|          5|  Eve|   Finance|  40|              10|     10000|       105|\n",
            "|          4|  Bob|      NULL|NULL|            NULL|      NULL|      NULL|          4|  Bob|      NULL|NULL|            NULL|      NULL|      NULL|\n",
            "+-----------+-----+----------+----+----------------+----------+----------+-----------+-----+----------+----+----------------+----------+----------+\n",
            "\n"
          ]
        }
      ]
    },
    {
      "cell_type": "markdown",
      "source": [
        "When - otherwise"
      ],
      "metadata": {
        "id": "xR6R1xcRRqJR"
      }
    },
    {
      "cell_type": "code",
      "source": [
        "from pyspark.sql import SparkSession\n",
        "\n",
        "spark = SparkSession.builder.appName('SparkByExamples.com').getOrCreate()\n",
        "\n",
        "data = [(\"James\",\"M\",60000),\n",
        "        (\"Michael\",\"M\",70000),\n",
        "        (\"Robert\",None,400000),\n",
        "        (\"Maria\",\"F\",500000),\n",
        "        (\"Jen\",\"\",None)]\n",
        "\n",
        "columns = [\"name\",\"gender\",\"salary\"]\n",
        "\n",
        "df = spark.createDataFrame(data, schema=columns)\n",
        "df.show()"
      ],
      "metadata": {
        "colab": {
          "base_uri": "https://localhost:8080/"
        },
        "id": "hLs4Wc2bRsuF",
        "outputId": "d824e813-57d0-4c44-8e8c-87bf47602cad"
      },
      "execution_count": null,
      "outputs": [
        {
          "output_type": "stream",
          "name": "stdout",
          "text": [
            "+-------+------+------+\n",
            "|   name|gender|salary|\n",
            "+-------+------+------+\n",
            "|  James|     M| 60000|\n",
            "|Michael|     M| 70000|\n",
            "| Robert|  NULL|400000|\n",
            "|  Maria|     F|500000|\n",
            "|    Jen|      |  NULL|\n",
            "+-------+------+------+\n",
            "\n"
          ]
        }
      ]
    },
    {
      "cell_type": "code",
      "source": [
        "from pyspark.sql.functions import when,col\n",
        "df2 = df.withColumn(\n",
        "    \"new_gender\",\n",
        "    when(df.gender == \"M\", \"Male\")\n",
        "    .when(df.gender == \"F\", \"Female\")\n",
        "    .when(df.gender.isNull(), \"Not Specified\")\n",
        "    .when(df.gender == \"\", \"Not Specified\")\n",
        "    .otherwise(df.gender))\n",
        "df2.show()"
      ],
      "metadata": {
        "colab": {
          "base_uri": "https://localhost:8080/"
        },
        "id": "D8BbmUGJR9hx",
        "outputId": "71b1cbd2-3c2a-4f31-b16b-bb2e008f5ba8"
      },
      "execution_count": null,
      "outputs": [
        {
          "output_type": "stream",
          "name": "stdout",
          "text": [
            "+-------+------+------+-------------+\n",
            "|   name|gender|salary|   new_gender|\n",
            "+-------+------+------+-------------+\n",
            "|  James|     M| 60000|         Male|\n",
            "|Michael|     M| 70000|         Male|\n",
            "| Robert|  NULL|400000|Not Specified|\n",
            "|  Maria|     F|500000|       Female|\n",
            "|    Jen|      |  NULL|Not Specified|\n",
            "+-------+------+------+-------------+\n",
            "\n"
          ]
        }
      ]
    },
    {
      "cell_type": "code",
      "source": [
        "df2 = df.select(\n",
        "    col(\"*\"),\n",
        "    when(df.gender == \"M\", \"Male\")\n",
        "    .when(df.gender == \"F\", \"Female\")\n",
        "    .when(df.gender.isNull(), \"Not Specified\")\n",
        "    .when(df.gender == \"\", \"Not Specified\")\n",
        "    .otherwise(df.gender)\n",
        "    .alias(\"New_Gender\"))\n",
        "df2.show()"
      ],
      "metadata": {
        "colab": {
          "base_uri": "https://localhost:8080/"
        },
        "id": "QtbGDXa_SGqx",
        "outputId": "02505152-6c21-4951-d5c9-760e645786c7"
      },
      "execution_count": null,
      "outputs": [
        {
          "output_type": "stream",
          "name": "stdout",
          "text": [
            "+-------+------+------+-------------+\n",
            "|   name|gender|salary|   New_Gender|\n",
            "+-------+------+------+-------------+\n",
            "|  James|     M| 60000|         Male|\n",
            "|Michael|     M| 70000|         Male|\n",
            "| Robert|  NULL|400000|Not Specified|\n",
            "|  Maria|     F|500000|       Female|\n",
            "|    Jen|      |  NULL|Not Specified|\n",
            "+-------+------+------+-------------+\n",
            "\n"
          ]
        }
      ]
    },
    {
      "cell_type": "code",
      "source": [
        "from pyspark.sql.functions import expr\n",
        "\n",
        "df3 = df.withColumn(\n",
        "    \"New_gender\",\n",
        "    expr(\"CASE WHEN gender == 'M' THEN 'Male' \"\n",
        "          \"WHEN gender == 'F' THEN 'Female' \"\n",
        "          \"WHEN gender IS NULL THEN 'Not Specified' \"\n",
        "          \"WHEN gender == '' THEN 'Not Specified' \"\n",
        "          \"ELSE gender END\")\n",
        ")\n",
        "df3.show()"
      ],
      "metadata": {
        "colab": {
          "base_uri": "https://localhost:8080/"
        },
        "id": "4GU38f-IS4IB",
        "outputId": "d3906f03-8eca-453f-81f7-b83372cf0d52"
      },
      "execution_count": null,
      "outputs": [
        {
          "output_type": "stream",
          "name": "stdout",
          "text": [
            "+-------+------+------+-------------+\n",
            "|   name|gender|salary|   New_gender|\n",
            "+-------+------+------+-------------+\n",
            "|  James|     M| 60000|         Male|\n",
            "|Michael|     M| 70000|         Male|\n",
            "| Robert|  NULL|400000|Not Specified|\n",
            "|  Maria|     F|500000|       Female|\n",
            "|    Jen|      |  NULL|Not Specified|\n",
            "+-------+------+------+-------------+\n",
            "\n"
          ]
        }
      ]
    },
    {
      "cell_type": "code",
      "source": [
        "df4 = df.select(\n",
        "    col(\"*\"),\n",
        "    expr(\n",
        "        \"CASE WHEN gender == 'M' THEN 'Male' \"\n",
        "        \"WHEN gender == 'F' THEN 'Female' \"\n",
        "        \"WHEN gender IS NULL THEN 'Not Specified' \"\n",
        "        \"WHEN gender == '' THEN 'Not Specified' \"\n",
        "        \"ELSE gender END\").alias(\"New_Gender\"))\n",
        "df4.show()"
      ],
      "metadata": {
        "colab": {
          "base_uri": "https://localhost:8080/"
        },
        "id": "FF-84J2MTEr4",
        "outputId": "92e4bef4-5cb4-4748-b73d-5a04aa2015b7"
      },
      "execution_count": null,
      "outputs": [
        {
          "output_type": "stream",
          "name": "stdout",
          "text": [
            "+-------+------+------+-------------+\n",
            "|   name|gender|salary|   New_Gender|\n",
            "+-------+------+------+-------------+\n",
            "|  James|     M| 60000|         Male|\n",
            "|Michael|     M| 70000|         Male|\n",
            "| Robert|  NULL|400000|Not Specified|\n",
            "|  Maria|     F|500000|       Female|\n",
            "|    Jen|      |  NULL|Not Specified|\n",
            "+-------+------+------+-------------+\n",
            "\n"
          ]
        }
      ]
    },
    {
      "cell_type": "code",
      "source": [
        "df.createOrReplaceTempView(\"Emp\")\n",
        "spark.sql(\"\"\"\n",
        "    select name,\n",
        "    case when gender = 'M' then 'Male'\n",
        "         when gender = 'F' then 'Female'\n",
        "         when gender = '' then 'Not Specified'\n",
        "         when gender is null then 'Not Specified'\n",
        "         else gender end as new_gender\n",
        "    from Emp\n",
        "\"\"\").show()"
      ],
      "metadata": {
        "colab": {
          "base_uri": "https://localhost:8080/"
        },
        "id": "sZGslCRlTd_d",
        "outputId": "c3066321-c2d4-4991-9381-385c9fea685d"
      },
      "execution_count": null,
      "outputs": [
        {
          "output_type": "stream",
          "name": "stdout",
          "text": [
            "+-------+-------------+\n",
            "|   name|   new_gender|\n",
            "+-------+-------------+\n",
            "|  James|         Male|\n",
            "|Michael|         Male|\n",
            "| Robert|Not Specified|\n",
            "|  Maria|       Female|\n",
            "|    Jen|Not Specified|\n",
            "+-------+-------------+\n",
            "\n"
          ]
        }
      ]
    },
    {
      "cell_type": "markdown",
      "source": [
        "Union , union all"
      ],
      "metadata": {
        "id": "AQuzG5RyWeZH"
      }
    },
    {
      "cell_type": "code",
      "source": [
        "from pyspark.sql import SparkSession\n",
        "spark = SparkSession.builder.appName('SparkByExamples.com').getOrCreate()\n",
        "\n",
        "# First DataFrame\n",
        "data1 = [(\"James\",\"Sales\",\"NY\",90000,34,10000),\n",
        "         (\"Michael\",\"Sales\",\"NY\",86000,56,20000),\n",
        "         (\"Robert\",\"Sales\",\"CA\",81000,30,23000),\n",
        "         (\"Maria\",\"Finance\",\"CA\",90000,24,23000)]\n",
        "columns = [\"employee_name\",\"department\",\"state\",\"salary\",\"age\",\"bonus\"]\n",
        "df = spark.createDataFrame(data1, schema=columns)\n",
        "\n",
        "# Second DataFrame\n",
        "data2 = [(\"James\",\"Sales\",\"NY\",90000,34,10000),\n",
        "         (\"Maria\",\"Finance\",\"CA\",90000,24,23000),\n",
        "         (\"Jen\",\"Finance\",\"NY\",79000,53,15000),\n",
        "         (\"Jeff\",\"Marketing\",\"CA\",80000,25,18000),\n",
        "         (\"Kumar\",\"Marketing\",\"NY\",91000,50,21000)]\n",
        "df2 = spark.createDataFrame(data2, schema=columns)\n"
      ],
      "metadata": {
        "id": "Vy-5JvxmWjC_"
      },
      "execution_count": null,
      "outputs": []
    },
    {
      "cell_type": "code",
      "source": [
        "union_df = df.union(df2)\n",
        "union_df.show(truncate=False)"
      ],
      "metadata": {
        "colab": {
          "base_uri": "https://localhost:8080/"
        },
        "id": "2KVKJ8coXH37",
        "outputId": "54dff2cd-4c74-4db7-c92e-ca80a5ac2acf"
      },
      "execution_count": null,
      "outputs": [
        {
          "output_type": "stream",
          "name": "stdout",
          "text": [
            "+-------------+----------+-----+------+---+-----+\n",
            "|employee_name|department|state|salary|age|bonus|\n",
            "+-------------+----------+-----+------+---+-----+\n",
            "|James        |Sales     |NY   |90000 |34 |10000|\n",
            "|Michael      |Sales     |NY   |86000 |56 |20000|\n",
            "|Robert       |Sales     |CA   |81000 |30 |23000|\n",
            "|Maria        |Finance   |CA   |90000 |24 |23000|\n",
            "|James        |Sales     |NY   |90000 |34 |10000|\n",
            "|Maria        |Finance   |CA   |90000 |24 |23000|\n",
            "|Jen          |Finance   |NY   |79000 |53 |15000|\n",
            "|Jeff         |Marketing |CA   |80000 |25 |18000|\n",
            "|Kumar        |Marketing |NY   |91000 |50 |21000|\n",
            "+-------------+----------+-----+------+---+-----+\n",
            "\n"
          ]
        }
      ]
    },
    {
      "cell_type": "code",
      "source": [
        "union_df = df.union(df2).distinct()\n",
        "union_df.show(truncate=False)"
      ],
      "metadata": {
        "colab": {
          "base_uri": "https://localhost:8080/"
        },
        "id": "htbKmkQ7Xe-K",
        "outputId": "cd9e053f-fae8-4192-e2ac-0bad71bae085"
      },
      "execution_count": null,
      "outputs": [
        {
          "output_type": "stream",
          "name": "stdout",
          "text": [
            "+-------------+----------+-----+------+---+-----+\n",
            "|employee_name|department|state|salary|age|bonus|\n",
            "+-------------+----------+-----+------+---+-----+\n",
            "|James        |Sales     |NY   |90000 |34 |10000|\n",
            "|Michael      |Sales     |NY   |86000 |56 |20000|\n",
            "|Maria        |Finance   |CA   |90000 |24 |23000|\n",
            "|Robert       |Sales     |CA   |81000 |30 |23000|\n",
            "|Kumar        |Marketing |NY   |91000 |50 |21000|\n",
            "|Jen          |Finance   |NY   |79000 |53 |15000|\n",
            "|Jeff         |Marketing |CA   |80000 |25 |18000|\n",
            "+-------------+----------+-----+------+---+-----+\n",
            "\n"
          ]
        }
      ]
    },
    {
      "cell_type": "code",
      "source": [
        "unionall_df = df.unionAll(df2)\n",
        "unionall_df.show(truncate=False)"
      ],
      "metadata": {
        "colab": {
          "base_uri": "https://localhost:8080/"
        },
        "id": "0uHCK3BWX0sB",
        "outputId": "a9a50b32-7d71-4f61-b77a-879cf604335b"
      },
      "execution_count": null,
      "outputs": [
        {
          "output_type": "stream",
          "name": "stdout",
          "text": [
            "+-------------+----------+-----+------+---+-----+\n",
            "|employee_name|department|state|salary|age|bonus|\n",
            "+-------------+----------+-----+------+---+-----+\n",
            "|James        |Sales     |NY   |90000 |34 |10000|\n",
            "|Michael      |Sales     |NY   |86000 |56 |20000|\n",
            "|Robert       |Sales     |CA   |81000 |30 |23000|\n",
            "|Maria        |Finance   |CA   |90000 |24 |23000|\n",
            "|James        |Sales     |NY   |90000 |34 |10000|\n",
            "|Maria        |Finance   |CA   |90000 |24 |23000|\n",
            "|Jen          |Finance   |NY   |79000 |53 |15000|\n",
            "|Jeff         |Marketing |CA   |80000 |25 |18000|\n",
            "|Kumar        |Marketing |NY   |91000 |50 |21000|\n",
            "+-------------+----------+-----+------+---+-----+\n",
            "\n"
          ]
        }
      ]
    },
    {
      "cell_type": "code",
      "source": [
        "unionall_df = df.unionAll(df2).distinct()\n",
        "unionall_df.show(truncate=False)"
      ],
      "metadata": {
        "id": "xyj0yyXaYGRv",
        "outputId": "070bd9f7-dded-48f7-e1ed-cb0fcd92fe70",
        "colab": {
          "base_uri": "https://localhost:8080/"
        }
      },
      "execution_count": null,
      "outputs": [
        {
          "output_type": "stream",
          "name": "stdout",
          "text": [
            "+-------------+----------+-----+------+---+-----+\n",
            "|employee_name|department|state|salary|age|bonus|\n",
            "+-------------+----------+-----+------+---+-----+\n",
            "|James        |Sales     |NY   |90000 |34 |10000|\n",
            "|Michael      |Sales     |NY   |86000 |56 |20000|\n",
            "|Maria        |Finance   |CA   |90000 |24 |23000|\n",
            "|Robert       |Sales     |CA   |81000 |30 |23000|\n",
            "|Kumar        |Marketing |NY   |91000 |50 |21000|\n",
            "|Jen          |Finance   |NY   |79000 |53 |15000|\n",
            "|Jeff         |Marketing |CA   |80000 |25 |18000|\n",
            "+-------------+----------+-----+------+---+-----+\n",
            "\n"
          ]
        }
      ]
    },
    {
      "cell_type": "markdown",
      "source": [
        "window function"
      ],
      "metadata": {
        "id": "Ke3OP_FjTb2G"
      }
    },
    {
      "cell_type": "code",
      "source": [
        "from pyspark.sql import SparkSession\n",
        "spark = SparkSession.builder.appName('WindowFunctions').getOrCreate()\n",
        "data = [\n",
        "    (\"James\", \"Sales\", 3000),\n",
        "    (\"Michael\", \"Sales\", 4600),\n",
        "    (\"Robert\", \"Sales\", 4100),\n",
        "    (\"Maria\", \"Finance\", 3000),\n",
        "    (\"James\", \"Sales\", 3000),\n",
        "    (\"Scott\", \"Finance\", 3300),\n",
        "    (\"Jen\", \"Finance\", 3900),\n",
        "    (\"Jeff\", \"Marketing\", 3000),\n",
        "    (\"Kumar\", \"Marketing\", 2000),\n",
        "    (\"Saif\", \"Sales\", 4100)]\n",
        "columns = [\"employee_name\", \"department\", \"salary\"]\n",
        "df = spark.createDataFrame(data, schema=columns)\n",
        "df.show()\n"
      ],
      "metadata": {
        "colab": {
          "base_uri": "https://localhost:8080/"
        },
        "id": "1UP6NSGETdt6",
        "outputId": "c907517a-3a47-41f1-b09f-68fde5566626"
      },
      "execution_count": null,
      "outputs": [
        {
          "output_type": "stream",
          "name": "stdout",
          "text": [
            "+-------------+----------+------+\n",
            "|employee_name|department|salary|\n",
            "+-------------+----------+------+\n",
            "|        James|     Sales|  3000|\n",
            "|      Michael|     Sales|  4600|\n",
            "|       Robert|     Sales|  4100|\n",
            "|        Maria|   Finance|  3000|\n",
            "|        James|     Sales|  3000|\n",
            "|        Scott|   Finance|  3300|\n",
            "|          Jen|   Finance|  3900|\n",
            "|         Jeff| Marketing|  3000|\n",
            "|        Kumar| Marketing|  2000|\n",
            "|         Saif|     Sales|  4100|\n",
            "+-------------+----------+------+\n",
            "\n"
          ]
        }
      ]
    },
    {
      "cell_type": "code",
      "source": [
        "from pyspark.sql.window import Window\n",
        "from pyspark.sql.functions import row_number, rank, dense_rank, percent_rank, ntile\n",
        "\n",
        "windowSpec = Window.partitionBy(\"department\").orderBy(\"salary\")\n",
        "\n",
        "#row number\n",
        "df.withColumn(\"row_number\", row_number().over(windowSpec)).show()\n",
        "\n",
        "#rank\n",
        "df.withColumn(\"rank\", rank().over(windowSpec)).show()\n",
        "\n",
        "#dense rank\n",
        "df.withColumn(\"Dense_rank\", dense_rank().over(windowSpec)).show()\n",
        "\n",
        "#percent rank\n",
        "df.withColumn(\"Percent_rank\", percent_rank().over(windowSpec)).show()\n",
        "\n",
        "# ntile\n",
        "df.withColumn(\"Ntile\", ntile(2).over(windowSpec)).show()\n"
      ],
      "metadata": {
        "colab": {
          "base_uri": "https://localhost:8080/"
        },
        "id": "D9t9s4FmUOIS",
        "outputId": "a52a1eec-67f0-44fc-8dbb-3abf8d0f1f55"
      },
      "execution_count": null,
      "outputs": [
        {
          "output_type": "stream",
          "name": "stdout",
          "text": [
            "+-------------+----------+------+----------+\n",
            "|employee_name|department|salary|row_number|\n",
            "+-------------+----------+------+----------+\n",
            "|        Maria|   Finance|  3000|         1|\n",
            "|        Scott|   Finance|  3300|         2|\n",
            "|          Jen|   Finance|  3900|         3|\n",
            "|        Kumar| Marketing|  2000|         1|\n",
            "|         Jeff| Marketing|  3000|         2|\n",
            "|        James|     Sales|  3000|         1|\n",
            "|        James|     Sales|  3000|         2|\n",
            "|       Robert|     Sales|  4100|         3|\n",
            "|         Saif|     Sales|  4100|         4|\n",
            "|      Michael|     Sales|  4600|         5|\n",
            "+-------------+----------+------+----------+\n",
            "\n",
            "+-------------+----------+------+----+\n",
            "|employee_name|department|salary|rank|\n",
            "+-------------+----------+------+----+\n",
            "|        Maria|   Finance|  3000|   1|\n",
            "|        Scott|   Finance|  3300|   2|\n",
            "|          Jen|   Finance|  3900|   3|\n",
            "|        Kumar| Marketing|  2000|   1|\n",
            "|         Jeff| Marketing|  3000|   2|\n",
            "|        James|     Sales|  3000|   1|\n",
            "|        James|     Sales|  3000|   1|\n",
            "|       Robert|     Sales|  4100|   3|\n",
            "|         Saif|     Sales|  4100|   3|\n",
            "|      Michael|     Sales|  4600|   5|\n",
            "+-------------+----------+------+----+\n",
            "\n",
            "+-------------+----------+------+----------+\n",
            "|employee_name|department|salary|Dense_rank|\n",
            "+-------------+----------+------+----------+\n",
            "|        Maria|   Finance|  3000|         1|\n",
            "|        Scott|   Finance|  3300|         2|\n",
            "|          Jen|   Finance|  3900|         3|\n",
            "|        Kumar| Marketing|  2000|         1|\n",
            "|         Jeff| Marketing|  3000|         2|\n",
            "|        James|     Sales|  3000|         1|\n",
            "|        James|     Sales|  3000|         1|\n",
            "|       Robert|     Sales|  4100|         2|\n",
            "|         Saif|     Sales|  4100|         2|\n",
            "|      Michael|     Sales|  4600|         3|\n",
            "+-------------+----------+------+----------+\n",
            "\n",
            "+-------------+----------+------+------------+\n",
            "|employee_name|department|salary|Percent_rank|\n",
            "+-------------+----------+------+------------+\n",
            "|        Maria|   Finance|  3000|         0.0|\n",
            "|        Scott|   Finance|  3300|         0.5|\n",
            "|          Jen|   Finance|  3900|         1.0|\n",
            "|        Kumar| Marketing|  2000|         0.0|\n",
            "|         Jeff| Marketing|  3000|         1.0|\n",
            "|        James|     Sales|  3000|         0.0|\n",
            "|        James|     Sales|  3000|         0.0|\n",
            "|       Robert|     Sales|  4100|         0.5|\n",
            "|         Saif|     Sales|  4100|         0.5|\n",
            "|      Michael|     Sales|  4600|         1.0|\n",
            "+-------------+----------+------+------------+\n",
            "\n",
            "+-------------+----------+------+-----+\n",
            "|employee_name|department|salary|Ntile|\n",
            "+-------------+----------+------+-----+\n",
            "|        Maria|   Finance|  3000|    1|\n",
            "|        Scott|   Finance|  3300|    1|\n",
            "|          Jen|   Finance|  3900|    2|\n",
            "|        Kumar| Marketing|  2000|    1|\n",
            "|         Jeff| Marketing|  3000|    2|\n",
            "|        James|     Sales|  3000|    1|\n",
            "|        James|     Sales|  3000|    1|\n",
            "|       Robert|     Sales|  4100|    1|\n",
            "|         Saif|     Sales|  4100|    2|\n",
            "|      Michael|     Sales|  4600|    2|\n",
            "+-------------+----------+------+-----+\n",
            "\n"
          ]
        }
      ]
    },
    {
      "cell_type": "code",
      "source": [
        "from pyspark.sql.functions import cume_dist, lag, lead\n",
        "#cume_dist\n",
        "df.withColumn(\"cume_dist\", cume_dist().over(windowSpec)).show()\n",
        "#lag\n",
        "df.withColumn(\"Lag\", lag(\"salary\", 2).over(windowSpec)).show()\n",
        "#lead\n",
        "df.withColumn(\"Lead\", lead(\"salary\",2).over(windowSpec)).show()"
      ],
      "metadata": {
        "colab": {
          "base_uri": "https://localhost:8080/"
        },
        "id": "pZwKNg-ZaBjX",
        "outputId": "b0d438d1-2496-4b23-a9ee-39666059e040"
      },
      "execution_count": null,
      "outputs": [
        {
          "output_type": "stream",
          "name": "stdout",
          "text": [
            "+-------------+----------+------+------------------+\n",
            "|employee_name|department|salary|         cume_dist|\n",
            "+-------------+----------+------+------------------+\n",
            "|        Maria|   Finance|  3000|0.3333333333333333|\n",
            "|        Scott|   Finance|  3300|0.6666666666666666|\n",
            "|          Jen|   Finance|  3900|               1.0|\n",
            "|        Kumar| Marketing|  2000|               0.5|\n",
            "|         Jeff| Marketing|  3000|               1.0|\n",
            "|        James|     Sales|  3000|               0.4|\n",
            "|        James|     Sales|  3000|               0.4|\n",
            "|       Robert|     Sales|  4100|               0.8|\n",
            "|         Saif|     Sales|  4100|               0.8|\n",
            "|      Michael|     Sales|  4600|               1.0|\n",
            "+-------------+----------+------+------------------+\n",
            "\n",
            "+-------------+----------+------+----+\n",
            "|employee_name|department|salary| Lag|\n",
            "+-------------+----------+------+----+\n",
            "|        Maria|   Finance|  3000|NULL|\n",
            "|        Scott|   Finance|  3300|NULL|\n",
            "|          Jen|   Finance|  3900|3000|\n",
            "|        Kumar| Marketing|  2000|NULL|\n",
            "|         Jeff| Marketing|  3000|NULL|\n",
            "|        James|     Sales|  3000|NULL|\n",
            "|        James|     Sales|  3000|NULL|\n",
            "|       Robert|     Sales|  4100|3000|\n",
            "|         Saif|     Sales|  4100|3000|\n",
            "|      Michael|     Sales|  4600|4100|\n",
            "+-------------+----------+------+----+\n",
            "\n",
            "+-------------+----------+------+----+\n",
            "|employee_name|department|salary|Lead|\n",
            "+-------------+----------+------+----+\n",
            "|        Maria|   Finance|  3000|3900|\n",
            "|        Scott|   Finance|  3300|NULL|\n",
            "|          Jen|   Finance|  3900|NULL|\n",
            "|        Kumar| Marketing|  2000|NULL|\n",
            "|         Jeff| Marketing|  3000|NULL|\n",
            "|        James|     Sales|  3000|4100|\n",
            "|        James|     Sales|  3000|4100|\n",
            "|       Robert|     Sales|  4100|4600|\n",
            "|         Saif|     Sales|  4100|NULL|\n",
            "|      Michael|     Sales|  4600|NULL|\n",
            "+-------------+----------+------+----+\n",
            "\n"
          ]
        }
      ]
    },
    {
      "cell_type": "code",
      "source": [
        "from pyspark.sql.functions import col, avg, sum, min, max\n",
        "windowSpecAgg = Window.partitionBy(\"department\")\n",
        "df.withColumn(\"avg_salary\", avg(col(\"salary\")).over(windowSpecAgg))\\\n",
        "  .withColumn(\"total_salary\", sum(col(\"salary\")).over(windowSpecAgg))\\\n",
        "  .withColumn(\"min_salary\", min(col(\"salary\")).over(windowSpecAgg))\\\n",
        "  .withColumn(\"max_salary\", max(col(\"salary\")).over(windowSpecAgg))\\\n",
        "  .show()"
      ],
      "metadata": {
        "id": "AEwD-wVKcgZE",
        "outputId": "5bf5dc2c-615c-44e0-ac88-6b7a2efdf3ea",
        "colab": {
          "base_uri": "https://localhost:8080/"
        }
      },
      "execution_count": null,
      "outputs": [
        {
          "output_type": "stream",
          "name": "stdout",
          "text": [
            "+-------------+----------+------+----------+------------+----------+----------+\n",
            "|employee_name|department|salary|avg_salary|total_salary|min_salary|max_salary|\n",
            "+-------------+----------+------+----------+------------+----------+----------+\n",
            "|        Maria|   Finance|  3000|    3400.0|       10200|      3000|      3900|\n",
            "|        Scott|   Finance|  3300|    3400.0|       10200|      3000|      3900|\n",
            "|          Jen|   Finance|  3900|    3400.0|       10200|      3000|      3900|\n",
            "|         Jeff| Marketing|  3000|    2500.0|        5000|      2000|      3000|\n",
            "|        Kumar| Marketing|  2000|    2500.0|        5000|      2000|      3000|\n",
            "|        James|     Sales|  3000|    3760.0|       18800|      3000|      4600|\n",
            "|      Michael|     Sales|  4600|    3760.0|       18800|      3000|      4600|\n",
            "|       Robert|     Sales|  4100|    3760.0|       18800|      3000|      4600|\n",
            "|        James|     Sales|  3000|    3760.0|       18800|      3000|      4600|\n",
            "|         Saif|     Sales|  4100|    3760.0|       18800|      3000|      4600|\n",
            "+-------------+----------+------+----------+------------+----------+----------+\n",
            "\n"
          ]
        }
      ]
    }
  ]
}
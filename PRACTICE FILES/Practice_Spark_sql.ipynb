{
  "cells": [
    {
      "cell_type": "markdown",
      "metadata": {
        "application/vnd.databricks.v1+cell": {
          "cellMetadata": {},
          "inputWidgets": {},
          "nuid": "96816ed7-b08a-4ca3-abb9-f99880c3535d",
          "showTitle": false,
          "tableResultSettingsMap": {},
          "title": ""
        },
        "id": "kqZsprJf3_Rr"
      },
      "source": [
        "\n",
        "## Overview\n",
        "\n",
        "This notebook will show you how to create and query a table or DataFrame that you uploaded to DBFS. [DBFS](https://docs.databricks.com/user-guide/dbfs-databricks-file-system.html) is a Databricks File System that allows you to store data for querying inside of Databricks. This notebook assumes that you have a file already inside of DBFS that you would like to read from.\n",
        "\n",
        "This notebook is written in **Python** so the default cell type is Python. However, you can use different languages by using the `%LANGUAGE` syntax. Python, Scala, SQL, and R are all supported."
      ]
    },
    {
      "cell_type": "code",
      "execution_count": null,
      "metadata": {
        "application/vnd.databricks.v1+cell": {
          "cellMetadata": {
            "byteLimit": 2048000,
            "rowLimit": 10000
          },
          "inputWidgets": {},
          "nuid": "6482be4c-f067-47c9-b0ac-35c938b94601",
          "showTitle": false,
          "tableResultSettingsMap": {},
          "title": ""
        },
        "id": "WzxucMIS3_Rz",
        "outputId": "6aa99bea-243f-4f67-8f24-aee7d7da6209"
      },
      "outputs": [
        {
          "output_type": "display_data",
          "data": {
            "text/html": [
              "<style scoped>\n",
              "  .table-result-container {\n",
              "    max-height: 300px;\n",
              "    overflow: auto;\n",
              "  }\n",
              "  table, th, td {\n",
              "    border: 1px solid black;\n",
              "    border-collapse: collapse;\n",
              "  }\n",
              "  th, td {\n",
              "    padding: 5px;\n",
              "  }\n",
              "  th {\n",
              "    text-align: left;\n",
              "  }\n",
              "</style><div class='table-result-container'><table class='table-result'><thead style='background-color: white'><tr><th>_c0</th><th>_c1</th><th>_c2</th><th>_c3</th><th>_c4</th></tr></thead><tbody><tr><td>RecordNumber</td><td>Country</td><td>City</td><td>Zipcode</td><td>State</td></tr><tr><td>1</td><td>US</td><td>PARC PARQUE</td><td>704</td><td>PR</td></tr><tr><td>2</td><td>US</td><td>PASEO COSTA DEL SUR</td><td>704</td><td>PR</td></tr><tr><td>10</td><td>US</td><td>BDA SAN LUIS</td><td>709</td><td>PR</td></tr><tr><td>49347</td><td>US</td><td>HOLT</td><td>32564</td><td>FL</td></tr><tr><td>49348</td><td>US</td><td>HOMOSASSA</td><td>34487</td><td>FL</td></tr><tr><td>61391</td><td>US</td><td>CINGULAR WIRELESS</td><td>76166</td><td>TX</td></tr><tr><td>61392</td><td>US</td><td>FORT WORTH</td><td>76177</td><td>TX</td></tr><tr><td>61393</td><td>US</td><td>FT WORTH</td><td>76177</td><td>TX</td></tr><tr><td>54356</td><td>US</td><td>SPRUCE PINE</td><td>35585</td><td>AL</td></tr><tr><td>76511</td><td>US</td><td>ASH HILL</td><td>27007</td><td>NC</td></tr><tr><td>4</td><td>US</td><td>URB EUGENE RICE</td><td>704</td><td>PR</td></tr><tr><td>39827</td><td>US</td><td>MESA</td><td>85209</td><td>AZ</td></tr><tr><td>39828</td><td>US</td><td>MESA</td><td>85210</td><td>AZ</td></tr><tr><td>49345</td><td>US</td><td>HILLIARD</td><td>32046</td><td>FL</td></tr><tr><td>49346</td><td>US</td><td>HOLDER</td><td>34445</td><td>FL</td></tr><tr><td>3</td><td>US</td><td>SECT LANAUSSE</td><td>704</td><td>PR</td></tr><tr><td>54354</td><td>US</td><td>SPRING GARDEN</td><td>36275</td><td>AL</td></tr><tr><td>54355</td><td>US</td><td>SPRINGVILLE</td><td>35146</td><td>AL</td></tr><tr><td>76512</td><td>US</td><td>ASHEBORO</td><td>27203</td><td>NC</td></tr><tr><td>76513</td><td>US</td><td>ASHEBORO</td><td>27204</td><td>NC</td></tr></tbody></table></div>"
            ]
          },
          "metadata": {
            "application/vnd.databricks.v1+output": {
              "addedWidgets": {},
              "aggData": [],
              "aggError": "",
              "aggOverflow": false,
              "aggSchema": [],
              "aggSeriesLimitReached": false,
              "aggType": "",
              "arguments": {},
              "columnCustomDisplayInfos": {},
              "data": [
                [
                  "RecordNumber",
                  "Country",
                  "City",
                  "Zipcode",
                  "State"
                ],
                [
                  "1",
                  "US",
                  "PARC PARQUE",
                  "704",
                  "PR"
                ],
                [
                  "2",
                  "US",
                  "PASEO COSTA DEL SUR",
                  "704",
                  "PR"
                ],
                [
                  "10",
                  "US",
                  "BDA SAN LUIS",
                  "709",
                  "PR"
                ],
                [
                  "49347",
                  "US",
                  "HOLT",
                  "32564",
                  "FL"
                ],
                [
                  "49348",
                  "US",
                  "HOMOSASSA",
                  "34487",
                  "FL"
                ],
                [
                  "61391",
                  "US",
                  "CINGULAR WIRELESS",
                  "76166",
                  "TX"
                ],
                [
                  "61392",
                  "US",
                  "FORT WORTH",
                  "76177",
                  "TX"
                ],
                [
                  "61393",
                  "US",
                  "FT WORTH",
                  "76177",
                  "TX"
                ],
                [
                  "54356",
                  "US",
                  "SPRUCE PINE",
                  "35585",
                  "AL"
                ],
                [
                  "76511",
                  "US",
                  "ASH HILL",
                  "27007",
                  "NC"
                ],
                [
                  "4",
                  "US",
                  "URB EUGENE RICE",
                  "704",
                  "PR"
                ],
                [
                  "39827",
                  "US",
                  "MESA",
                  "85209",
                  "AZ"
                ],
                [
                  "39828",
                  "US",
                  "MESA",
                  "85210",
                  "AZ"
                ],
                [
                  "49345",
                  "US",
                  "HILLIARD",
                  "32046",
                  "FL"
                ],
                [
                  "49346",
                  "US",
                  "HOLDER",
                  "34445",
                  "FL"
                ],
                [
                  "3",
                  "US",
                  "SECT LANAUSSE",
                  "704",
                  "PR"
                ],
                [
                  "54354",
                  "US",
                  "SPRING GARDEN",
                  "36275",
                  "AL"
                ],
                [
                  "54355",
                  "US",
                  "SPRINGVILLE",
                  "35146",
                  "AL"
                ],
                [
                  "76512",
                  "US",
                  "ASHEBORO",
                  "27203",
                  "NC"
                ],
                [
                  "76513",
                  "US",
                  "ASHEBORO",
                  "27204",
                  "NC"
                ]
              ],
              "datasetInfos": [],
              "dbfsResultPath": null,
              "isJsonSchema": true,
              "metadata": {},
              "overflow": false,
              "plotOptions": {
                "customPlotOptions": {},
                "displayType": "table",
                "pivotAggregation": null,
                "pivotColumns": null,
                "xColumns": null,
                "yColumns": null
              },
              "removedWidgets": [],
              "schema": [
                {
                  "metadata": "{}",
                  "name": "_c0",
                  "type": "\"string\""
                },
                {
                  "metadata": "{}",
                  "name": "_c1",
                  "type": "\"string\""
                },
                {
                  "metadata": "{}",
                  "name": "_c2",
                  "type": "\"string\""
                },
                {
                  "metadata": "{}",
                  "name": "_c3",
                  "type": "\"string\""
                },
                {
                  "metadata": "{}",
                  "name": "_c4",
                  "type": "\"string\""
                }
              ],
              "type": "table"
            }
          }
        }
      ],
      "source": [
        "# File location and type\n",
        "file_location = \"/FileStore/tables/simple_zipcodes-1.csv\"\n",
        "file_type = \"csv\"\n",
        "\n",
        "# CSV options\n",
        "infer_schema = \"false\"\n",
        "first_row_is_header = \"false\"\n",
        "delimiter = \",\"\n",
        "\n",
        "# The applied options are for CSV files. For other file types, these will be ignored.\n",
        "df = spark.read.format(file_type) \\\n",
        "  .option(\"inferSchema\", infer_schema) \\\n",
        "  .option(\"header\", first_row_is_header) \\\n",
        "  .option(\"sep\", delimiter) \\\n",
        "  .load(file_location)\n",
        "\n",
        "display(df)\n",
        "df.createOrReplaceTempView(\"tempdata\")"
      ]
    },
    {
      "cell_type": "code",
      "execution_count": null,
      "metadata": {
        "application/vnd.databricks.v1+cell": {
          "cellMetadata": {
            "byteLimit": 2048000,
            "implicitDf": true,
            "rowLimit": 10000
          },
          "inputWidgets": {},
          "nuid": "b5f66379-6f7f-42ec-8e82-d0e0926a1721",
          "showTitle": false,
          "tableResultSettingsMap": {},
          "title": ""
        },
        "id": "DgbPbR053_R3",
        "outputId": "4bc5204b-cce1-438c-d93f-7a4c64153efe"
      },
      "outputs": [
        {
          "output_type": "stream",
          "name": "stdout",
          "text": [
            "+------------+-------+-------------------+-------+-----+\n|         _c0|    _c1|                _c2|    _c3|  _c4|\n+------------+-------+-------------------+-------+-----+\n|RecordNumber|Country|               City|Zipcode|State|\n|           1|     US|        PARC PARQUE|    704|   PR|\n|           2|     US|PASEO COSTA DEL SUR|    704|   PR|\n|          10|     US|       BDA SAN LUIS|    709|   PR|\n|       49347|     US|               HOLT|  32564|   FL|\n|       49348|     US|          HOMOSASSA|  34487|   FL|\n|       61391|     US|  CINGULAR WIRELESS|  76166|   TX|\n|       61392|     US|         FORT WORTH|  76177|   TX|\n|       61393|     US|           FT WORTH|  76177|   TX|\n|       54356|     US|        SPRUCE PINE|  35585|   AL|\n|       76511|     US|           ASH HILL|  27007|   NC|\n|           4|     US|    URB EUGENE RICE|    704|   PR|\n|       39827|     US|               MESA|  85209|   AZ|\n|       39828|     US|               MESA|  85210|   AZ|\n|       49345|     US|           HILLIARD|  32046|   FL|\n|       49346|     US|             HOLDER|  34445|   FL|\n|           3|     US|      SECT LANAUSSE|    704|   PR|\n|       54354|     US|      SPRING GARDEN|  36275|   AL|\n|       54355|     US|        SPRINGVILLE|  35146|   AL|\n|       76512|     US|           ASHEBORO|  27203|   NC|\n+------------+-------+-------------------+-------+-----+\nonly showing top 20 rows\n\n+------------+-------+\n|         _c0|    _c1|\n+------------+-------+\n|RecordNumber|Country|\n|           1|     US|\n|           2|     US|\n|          10|     US|\n|       49347|     US|\n+------------+-------+\nonly showing top 5 rows\n\n"
          ]
        }
      ],
      "source": [
        "spark.sql(\"select * from tempdata\").show()\n",
        "df.select(\"_c0\",\"_c1\").show(5)"
      ]
    },
    {
      "cell_type": "code",
      "execution_count": null,
      "metadata": {
        "application/vnd.databricks.v1+cell": {
          "cellMetadata": {
            "byteLimit": 2048000,
            "rowLimit": 10000
          },
          "inputWidgets": {},
          "nuid": "86b42761-2dfd-4282-9fc5-0fbacd6dde09",
          "showTitle": false,
          "tableResultSettingsMap": {},
          "title": ""
        },
        "id": "skns79Aj3_R4",
        "outputId": "6ec0151f-7997-46a9-bcb1-29b450e6132d"
      },
      "outputs": [
        {
          "output_type": "stream",
          "name": "stdout",
          "text": [
            "+-----+---+----+-----+---+\n|  _c0|_c1| _c2|  _c3|_c4|\n+-----+---+----+-----+---+\n|39827| US|MESA|85209| AZ|\n|39828| US|MESA|85210| AZ|\n+-----+---+----+-----+---+\n\n"
          ]
        }
      ],
      "source": [
        "spark.sql(\"\"\"SELECT * From tempdata WHERE _c4='AZ'\"\"\").show(5)"
      ]
    },
    {
      "cell_type": "code",
      "execution_count": null,
      "metadata": {
        "application/vnd.databricks.v1+cell": {
          "cellMetadata": {
            "byteLimit": 2048000,
            "rowLimit": 10000
          },
          "inputWidgets": {},
          "nuid": "23dca3dc-ca46-49bd-95e8-be0251419aa9",
          "showTitle": false,
          "tableResultSettingsMap": {},
          "title": ""
        },
        "id": "Qn-wNAl03_R6",
        "outputId": "cade1763-ef8a-4422-c108-9a7cd72e05de"
      },
      "outputs": [
        {
          "output_type": "display_data",
          "data": {
            "text/html": [
              "<style scoped>\n",
              "  .table-result-container {\n",
              "    max-height: 300px;\n",
              "    overflow: auto;\n",
              "  }\n",
              "  table, th, td {\n",
              "    border: 1px solid black;\n",
              "    border-collapse: collapse;\n",
              "  }\n",
              "  th, td {\n",
              "    padding: 5px;\n",
              "  }\n",
              "  th {\n",
              "    text-align: left;\n",
              "  }\n",
              "</style><div class='table-result-container'><table class='table-result'><thead style='background-color: white'><tr><th>RecordNumber</th><th>Country</th><th>City</th><th>Zipcode</th><th>State</th></tr></thead><tbody><tr><td>1</td><td>US</td><td>PARC PARQUE</td><td>704</td><td>PR</td></tr><tr><td>2</td><td>US</td><td>PASEO COSTA DEL SUR</td><td>704</td><td>PR</td></tr><tr><td>10</td><td>US</td><td>BDA SAN LUIS</td><td>709</td><td>PR</td></tr><tr><td>49347</td><td>US</td><td>HOLT</td><td>32564</td><td>FL</td></tr><tr><td>49348</td><td>US</td><td>HOMOSASSA</td><td>34487</td><td>FL</td></tr><tr><td>61391</td><td>US</td><td>CINGULAR WIRELESS</td><td>76166</td><td>TX</td></tr><tr><td>61392</td><td>US</td><td>FORT WORTH</td><td>76177</td><td>TX</td></tr><tr><td>61393</td><td>US</td><td>FT WORTH</td><td>76177</td><td>TX</td></tr><tr><td>54356</td><td>US</td><td>SPRUCE PINE</td><td>35585</td><td>AL</td></tr><tr><td>76511</td><td>US</td><td>ASH HILL</td><td>27007</td><td>NC</td></tr><tr><td>4</td><td>US</td><td>URB EUGENE RICE</td><td>704</td><td>PR</td></tr><tr><td>39827</td><td>US</td><td>MESA</td><td>85209</td><td>AZ</td></tr><tr><td>39828</td><td>US</td><td>MESA</td><td>85210</td><td>AZ</td></tr><tr><td>49345</td><td>US</td><td>HILLIARD</td><td>32046</td><td>FL</td></tr><tr><td>49346</td><td>US</td><td>HOLDER</td><td>34445</td><td>FL</td></tr><tr><td>3</td><td>US</td><td>SECT LANAUSSE</td><td>704</td><td>PR</td></tr><tr><td>54354</td><td>US</td><td>SPRING GARDEN</td><td>36275</td><td>AL</td></tr><tr><td>54355</td><td>US</td><td>SPRINGVILLE</td><td>35146</td><td>AL</td></tr><tr><td>76512</td><td>US</td><td>ASHEBORO</td><td>27203</td><td>NC</td></tr><tr><td>76513</td><td>US</td><td>ASHEBORO</td><td>27204</td><td>NC</td></tr></tbody></table></div>"
            ]
          },
          "metadata": {
            "application/vnd.databricks.v1+output": {
              "addedWidgets": {},
              "aggData": [],
              "aggError": "",
              "aggOverflow": false,
              "aggSchema": [],
              "aggSeriesLimitReached": false,
              "aggType": "",
              "arguments": {},
              "columnCustomDisplayInfos": {},
              "data": [
                [
                  "1",
                  "US",
                  "PARC PARQUE",
                  "704",
                  "PR"
                ],
                [
                  "2",
                  "US",
                  "PASEO COSTA DEL SUR",
                  "704",
                  "PR"
                ],
                [
                  "10",
                  "US",
                  "BDA SAN LUIS",
                  "709",
                  "PR"
                ],
                [
                  "49347",
                  "US",
                  "HOLT",
                  "32564",
                  "FL"
                ],
                [
                  "49348",
                  "US",
                  "HOMOSASSA",
                  "34487",
                  "FL"
                ],
                [
                  "61391",
                  "US",
                  "CINGULAR WIRELESS",
                  "76166",
                  "TX"
                ],
                [
                  "61392",
                  "US",
                  "FORT WORTH",
                  "76177",
                  "TX"
                ],
                [
                  "61393",
                  "US",
                  "FT WORTH",
                  "76177",
                  "TX"
                ],
                [
                  "54356",
                  "US",
                  "SPRUCE PINE",
                  "35585",
                  "AL"
                ],
                [
                  "76511",
                  "US",
                  "ASH HILL",
                  "27007",
                  "NC"
                ],
                [
                  "4",
                  "US",
                  "URB EUGENE RICE",
                  "704",
                  "PR"
                ],
                [
                  "39827",
                  "US",
                  "MESA",
                  "85209",
                  "AZ"
                ],
                [
                  "39828",
                  "US",
                  "MESA",
                  "85210",
                  "AZ"
                ],
                [
                  "49345",
                  "US",
                  "HILLIARD",
                  "32046",
                  "FL"
                ],
                [
                  "49346",
                  "US",
                  "HOLDER",
                  "34445",
                  "FL"
                ],
                [
                  "3",
                  "US",
                  "SECT LANAUSSE",
                  "704",
                  "PR"
                ],
                [
                  "54354",
                  "US",
                  "SPRING GARDEN",
                  "36275",
                  "AL"
                ],
                [
                  "54355",
                  "US",
                  "SPRINGVILLE",
                  "35146",
                  "AL"
                ],
                [
                  "76512",
                  "US",
                  "ASHEBORO",
                  "27203",
                  "NC"
                ],
                [
                  "76513",
                  "US",
                  "ASHEBORO",
                  "27204",
                  "NC"
                ]
              ],
              "datasetInfos": [],
              "dbfsResultPath": null,
              "isJsonSchema": true,
              "metadata": {},
              "overflow": false,
              "plotOptions": {
                "customPlotOptions": {},
                "displayType": "table",
                "pivotAggregation": null,
                "pivotColumns": null,
                "xColumns": null,
                "yColumns": null
              },
              "removedWidgets": [],
              "schema": [
                {
                  "metadata": "{}",
                  "name": "RecordNumber",
                  "type": "\"string\""
                },
                {
                  "metadata": "{}",
                  "name": "Country",
                  "type": "\"string\""
                },
                {
                  "metadata": "{}",
                  "name": "City",
                  "type": "\"string\""
                },
                {
                  "metadata": "{}",
                  "name": "Zipcode",
                  "type": "\"string\""
                },
                {
                  "metadata": "{}",
                  "name": "State",
                  "type": "\"string\""
                }
              ],
              "type": "table"
            }
          }
        }
      ],
      "source": [
        "# File location and type\n",
        "file_location = \"/FileStore/tables/simple_zipcodes-1.csv\"\n",
        "file_type = \"csv\"\n",
        "\n",
        "# CSV options\n",
        "infer_schema = \"false\"\n",
        "first_row_is_header = \"true\"\n",
        "delimiter = \",\"\n",
        "\n",
        "# The applied options are for CSV files. For other file types, these will be ignored.\n",
        "df = spark.read.format(file_type) \\\n",
        "  .option(\"inferSchema\", infer_schema) \\\n",
        "  .option(\"header\", first_row_is_header) \\\n",
        "  .option(\"sep\", delimiter) \\\n",
        "  .load(file_location)\n",
        "\n",
        "display(df)\n",
        "df.createOrReplaceTempView(\"customer\")"
      ]
    },
    {
      "cell_type": "code",
      "execution_count": null,
      "metadata": {
        "application/vnd.databricks.v1+cell": {
          "cellMetadata": {
            "byteLimit": 2048000,
            "rowLimit": 10000
          },
          "inputWidgets": {},
          "nuid": "4867ca65-fa07-45d9-84c2-f4c50d33b0e9",
          "showTitle": false,
          "tableResultSettingsMap": {},
          "title": ""
        },
        "id": "PmEcZEu43_R8",
        "outputId": "8d6f32dd-eaae-444a-9e88-10af9e8254b1"
      },
      "outputs": [
        {
          "output_type": "stream",
          "name": "stdout",
          "text": [
            "+------------+-------+-------------------+-------+-----+\n|RecordNumber|Country|               City|Zipcode|State|\n+------------+-------+-------------------+-------+-----+\n|           1|     US|        PARC PARQUE|    704|   PR|\n|           2|     US|PASEO COSTA DEL SUR|    704|   PR|\n|          10|     US|       BDA SAN LUIS|    709|   PR|\n|       49347|     US|               HOLT|  32564|   FL|\n|       49348|     US|          HOMOSASSA|  34487|   FL|\n|       61391|     US|  CINGULAR WIRELESS|  76166|   TX|\n|       61392|     US|         FORT WORTH|  76177|   TX|\n|       61393|     US|           FT WORTH|  76177|   TX|\n|       54356|     US|        SPRUCE PINE|  35585|   AL|\n|       76511|     US|           ASH HILL|  27007|   NC|\n|           4|     US|    URB EUGENE RICE|    704|   PR|\n|       39827|     US|               MESA|  85209|   AZ|\n|       39828|     US|               MESA|  85210|   AZ|\n|       49345|     US|           HILLIARD|  32046|   FL|\n|       49346|     US|             HOLDER|  34445|   FL|\n|           3|     US|      SECT LANAUSSE|    704|   PR|\n|       54354|     US|      SPRING GARDEN|  36275|   AL|\n|       54355|     US|        SPRINGVILLE|  35146|   AL|\n|       76512|     US|           ASHEBORO|  27203|   NC|\n|       76513|     US|           ASHEBORO|  27204|   NC|\n+------------+-------+-------------------+-------+-----+\n\n+------------+-------+\n|RecordNumber|Country|\n+------------+-------+\n|           1|     US|\n|           2|     US|\n|          10|     US|\n|       49347|     US|\n|       49348|     US|\n+------------+-------+\nonly showing top 5 rows\n\n"
          ]
        }
      ],
      "source": [
        "spark.sql(\"select * from customer\").show()\n",
        "df.select(\"RecordNumber\",\"Country\").show(5)\n"
      ]
    },
    {
      "cell_type": "code",
      "execution_count": null,
      "metadata": {
        "application/vnd.databricks.v1+cell": {
          "cellMetadata": {
            "byteLimit": 2048000,
            "rowLimit": 10000
          },
          "inputWidgets": {},
          "nuid": "fedbf165-f621-489f-ab1e-5cd08aa4fd22",
          "showTitle": false,
          "tableResultSettingsMap": {},
          "title": ""
        },
        "id": "RTDn-wuJ3_SA",
        "outputId": "e14da7e9-5dd2-49fc-9a2a-fb0dcb70c2e3"
      },
      "outputs": [
        {
          "output_type": "stream",
          "name": "stdout",
          "text": [
            "+------------+-------+-------------------+-------+-----+\n|RecordNumber|Country|               City|Zipcode|State|\n+------------+-------+-------------------+-------+-----+\n|           1|     US|        PARC PARQUE|    704|   PR|\n|           2|     US|PASEO COSTA DEL SUR|    704|   PR|\n|          10|     US|       BDA SAN LUIS|    709|   PR|\n|           4|     US|    URB EUGENE RICE|    704|   PR|\n|           3|     US|      SECT LANAUSSE|    704|   PR|\n+------------+-------+-------------------+-------+-----+\n\n"
          ]
        }
      ],
      "source": [
        "spark.sql(\"\"\"SELECT * From customer WHERE state='PR'\"\"\").show(5)"
      ]
    },
    {
      "cell_type": "code",
      "execution_count": null,
      "metadata": {
        "application/vnd.databricks.v1+cell": {
          "cellMetadata": {
            "byteLimit": 2048000,
            "rowLimit": 10000
          },
          "inputWidgets": {},
          "nuid": "6494d2cb-210a-46dc-998e-771e94bf0b39",
          "showTitle": false,
          "tableResultSettingsMap": {},
          "title": ""
        },
        "id": "NGHSRVaA3_SD",
        "outputId": "3696f053-08e5-4d45-b418-175ca92c8168"
      },
      "outputs": [
        {
          "output_type": "stream",
          "name": "stdout",
          "text": [
            "+------------+-------+-------------------+-------+-----+\n|RecordNumber|Country|               City|Zipcode|State|\n+------------+-------+-------------------+-------+-----+\n|       39827|     US|               MESA|  85209|   AZ|\n|       39828|     US|               MESA|  85210|   AZ|\n|       49347|     US|               HOLT|  32564|   FL|\n|       49348|     US|          HOMOSASSA|  34487|   FL|\n|       49345|     US|           HILLIARD|  32046|   FL|\n|       49346|     US|             HOLDER|  34445|   FL|\n|           1|     US|        PARC PARQUE|    704|   PR|\n|           2|     US|PASEO COSTA DEL SUR|    704|   PR|\n|          10|     US|       BDA SAN LUIS|    709|   PR|\n|           4|     US|    URB EUGENE RICE|    704|   PR|\n+------------+-------+-------------------+-------+-----+\nonly showing top 10 rows\n\n"
          ]
        }
      ],
      "source": [
        "spark.sql(\"\"\"select * FROM customer WHERE state in ('PR','AZ','FL')order by state \"\"\").show(10)"
      ]
    },
    {
      "cell_type": "code",
      "execution_count": null,
      "metadata": {
        "application/vnd.databricks.v1+cell": {
          "cellMetadata": {
            "byteLimit": 2048000,
            "rowLimit": 10000
          },
          "inputWidgets": {},
          "nuid": "be5b15e9-0587-4f43-926e-b64ac699e8f8",
          "showTitle": false,
          "tableResultSettingsMap": {},
          "title": ""
        },
        "id": "Ul17km1-3_SF",
        "outputId": "0ec2a1b8-25b7-4c42-bb50-abe96cadb464"
      },
      "outputs": [
        {
          "output_type": "stream",
          "name": "stdout",
          "text": [
            "+-----+-----+\n|state|count|\n+-----+-----+\n|   AZ|    2|\n|   NC|    3|\n|   AL|    3|\n|   TX|    3|\n|   FL|    4|\n|   PR|    5|\n+-----+-----+\n\n"
          ]
        }
      ],
      "source": [
        "spark.sql(\"\"\"SELECT state,count(*) as count FROM customer GROUP BY state\"\"\").show()"
      ]
    }
  ],
  "metadata": {
    "application/vnd.databricks.v1+notebook": {
      "dashboards": [],
      "environmentMetadata": null,
      "language": "python",
      "notebookMetadata": {
        "mostRecentlyExecutedCommandWithImplicitDF": {
          "commandId": -1,
          "dataframes": [
            "_sqldf"
          ]
        },
        "pythonIndentUnit": 4
      },
      "notebookName": "Spark sql examples",
      "widgets": {}
    },
    "colab": {
      "provenance": []
    }
  },
  "nbformat": 4,
  "nbformat_minor": 0
}
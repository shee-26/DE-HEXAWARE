{
 "cells": [
  {
   "cell_type": "markdown",
   "metadata": {
    "application/vnd.databricks.v1+cell": {
     "cellMetadata": {
      "byteLimit": 2048000,
      "rowLimit": 10000
     },
     "inputWidgets": {},
     "nuid": "276ed62a-8991-456c-b248-19ab2406cd2b",
     "showTitle": false,
     "tableResultSettingsMap": {},
     "title": ""
    }
   },
   "source": [
    "##Number of doctors in each specialization"
   ]
  },
  {
   "cell_type": "code",
   "execution_count": 0,
   "metadata": {
    "application/vnd.databricks.v1+cell": {
     "cellMetadata": {
      "byteLimit": 2048000,
      "implicitDf": true,
      "rowLimit": 10000
     },
     "inputWidgets": {},
     "nuid": "1832b60a-2fc8-4a92-8209-44d2d67ff048",
     "showTitle": false,
     "tableResultSettingsMap": {},
     "title": ""
    }
   },
   "outputs": [
    {
     "output_type": "display_data",
     "data": {
      "text/html": [
       "<style scoped>\n",
       "  .table-result-container {\n",
       "    max-height: 300px;\n",
       "    overflow: auto;\n",
       "  }\n",
       "  table, th, td {\n",
       "    border: 1px solid black;\n",
       "    border-collapse: collapse;\n",
       "  }\n",
       "  th, td {\n",
       "    padding: 5px;\n",
       "  }\n",
       "  th {\n",
       "    text-align: left;\n",
       "  }\n",
       "</style><div class='table-result-container'><table class='table-result'><thead style='background-color: white'><tr><th>specialization</th><th>number_of_doctors</th></tr></thead><tbody><tr><td>infectious disease</td><td>37</td></tr><tr><td>oncologist</td><td>35</td></tr><tr><td>gastroenterology</td><td>33</td></tr><tr><td>otolaryngologists</td><td>32</td></tr><tr><td>emergency medicine</td><td>31</td></tr><tr><td>dermatology</td><td>29</td></tr><tr><td>allergists</td><td>28</td></tr><tr><td>internists</td><td>28</td></tr><tr><td>pulmonologists</td><td>27</td></tr><tr><td>nephrology</td><td>26</td></tr><tr><td>ophthalmology</td><td>25</td></tr><tr><td>anesthesiology</td><td>25</td></tr><tr><td>neurology</td><td>24</td></tr><tr><td>obstetric anesthesiologists</td><td>24</td></tr><tr><td>surgery</td><td>24</td></tr><tr><td>cardiology</td><td>23</td></tr><tr><td>pediatrics</td><td>23</td></tr><tr><td>endocrinologist</td><td>21</td></tr><tr><td>radiology</td><td>21</td></tr><tr><td>geriatrician</td><td>20</td></tr><tr><td>psychiatry</td><td>20</td></tr><tr><td>family medicine</td><td>19</td></tr><tr><td>critical care medicine</td><td>15</td></tr><tr><td>hospice and palliative care</td><td>10</td></tr></tbody></table></div>"
      ]
     },
     "metadata": {
      "application/vnd.databricks.v1+output": {
       "addedWidgets": {},
       "aggData": [],
       "aggError": "",
       "aggOverflow": false,
       "aggSchema": [],
       "aggSeriesLimitReached": false,
       "aggType": "",
       "arguments": {},
       "columnCustomDisplayInfos": {},
       "data": [
        [
         "infectious disease",
         37
        ],
        [
         "oncologist",
         35
        ],
        [
         "gastroenterology",
         33
        ],
        [
         "otolaryngologists",
         32
        ],
        [
         "emergency medicine",
         31
        ],
        [
         "dermatology",
         29
        ],
        [
         "allergists",
         28
        ],
        [
         "internists",
         28
        ],
        [
         "pulmonologists",
         27
        ],
        [
         "nephrology",
         26
        ],
        [
         "ophthalmology",
         25
        ],
        [
         "anesthesiology",
         25
        ],
        [
         "neurology",
         24
        ],
        [
         "obstetric anesthesiologists",
         24
        ],
        [
         "surgery",
         24
        ],
        [
         "cardiology",
         23
        ],
        [
         "pediatrics",
         23
        ],
        [
         "endocrinologist",
         21
        ],
        [
         "radiology",
         21
        ],
        [
         "geriatrician",
         20
        ],
        [
         "psychiatry",
         20
        ],
        [
         "family medicine",
         19
        ],
        [
         "critical care medicine",
         15
        ],
        [
         "hospice and palliative care",
         10
        ]
       ],
       "datasetInfos": [],
       "dbfsResultPath": null,
       "isJsonSchema": true,
       "metadata": {
        "dataframeName": "_sqldf",
        "executionCount": 1
       },
       "overflow": false,
       "plotOptions": {
        "customPlotOptions": {},
        "displayType": "table",
        "pivotAggregation": null,
        "pivotColumns": null,
        "xColumns": null,
        "yColumns": null
       },
       "removedWidgets": [],
       "schema": [
        {
         "metadata": "{}",
         "name": "specialization",
         "type": "\"string\""
        },
        {
         "metadata": "{}",
         "name": "number_of_doctors",
         "type": "\"long\""
        }
       ],
       "type": "table"
      }
     },
     "output_type": "display_data"
    }
   ],
   "source": [
    "%sql\n",
    "SELECT specialization, COUNT(DISTINCT doctor_id) AS number_of_doctors\n",
    "FROM healthcare_analysis.specialization_summary\n",
    "GROUP BY specialization\n",
    "ORDER BY number_of_doctors DESC;"
   ]
  },
  {
   "cell_type": "markdown",
   "metadata": {
    "application/vnd.databricks.v1+cell": {
     "cellMetadata": {
      "byteLimit": 2048000,
      "rowLimit": 10000
     },
     "inputWidgets": {},
     "nuid": "41ccc7cd-9115-4784-8e6d-4238a0f792c1",
     "showTitle": false,
     "tableResultSettingsMap": {},
     "title": ""
    }
   },
   "source": [
    "## Doctors with highest revenue in each specialization"
   ]
  },
  {
   "cell_type": "code",
   "execution_count": 0,
   "metadata": {
    "application/vnd.databricks.v1+cell": {
     "cellMetadata": {
      "byteLimit": 2048000,
      "implicitDf": true,
      "rowLimit": 10000
     },
     "inputWidgets": {},
     "nuid": "269dfc19-3b70-41ce-b696-e73b6ba6fa24",
     "showTitle": false,
     "tableResultSettingsMap": {},
     "title": ""
    }
   },
   "outputs": [
    {
     "output_type": "display_data",
     "data": {
      "text/html": [
       "<style scoped>\n",
       "  .table-result-container {\n",
       "    max-height: 300px;\n",
       "    overflow: auto;\n",
       "  }\n",
       "  table, th, td {\n",
       "    border: 1px solid black;\n",
       "    border-collapse: collapse;\n",
       "  }\n",
       "  th, td {\n",
       "    padding: 5px;\n",
       "  }\n",
       "  th {\n",
       "    text-align: left;\n",
       "  }\n",
       "</style><div class='table-result-container'><table class='table-result'><thead style='background-color: white'><tr><th>specialization</th><th>doctor_id</th><th>doctor_name</th><th>total_revenue</th></tr></thead><tbody><tr><td>allergists</td><td>975</td><td>Hettie</td><td>2173939.0</td></tr><tr><td>anesthesiology</td><td>792</td><td>Leanna</td><td>3680845.0</td></tr><tr><td>cardiology</td><td>237</td><td>Suzette</td><td>1830079.0</td></tr><tr><td>critical care medicine</td><td>452</td><td>Minne</td><td>3593294.0</td></tr><tr><td>dermatology</td><td>801</td><td>Brooks</td><td>3436703.0</td></tr><tr><td>emergency medicine</td><td>877</td><td>Vevay</td><td>2113058.0</td></tr><tr><td>endocrinologist</td><td>300</td><td>Roxane</td><td>1889420.0</td></tr><tr><td>family medicine</td><td>189</td><td>Max</td><td>3283643.0</td></tr><tr><td>gastroenterology</td><td>129</td><td>Aurelie</td><td>3204079.0</td></tr><tr><td>geriatrician</td><td>667</td><td>Gloria</td><td>5846564.0</td></tr><tr><td>hospice and palliative care</td><td>407</td><td>Bill</td><td>3436703.0</td></tr><tr><td>infectious disease</td><td>574</td><td>Ronna</td><td>2206483.0</td></tr><tr><td>internists</td><td>362</td><td>Charissa</td><td>1896039.0</td></tr><tr><td>nephrology</td><td>443</td><td>Renie</td><td>1354711.0</td></tr><tr><td>neurology</td><td>976</td><td>Netty</td><td>3283643.0</td></tr><tr><td>obstetric anesthesiologists</td><td>427</td><td>Jeanna</td><td>3024970.0</td></tr><tr><td>oncologist</td><td>170</td><td>Quintina</td><td>3306665.0</td></tr><tr><td>ophthalmology</td><td>558</td><td>Adriana</td><td>1879878.0</td></tr><tr><td>otolaryngologists</td><td>688</td><td>Constance</td><td>2340164.0</td></tr><tr><td>pediatrics</td><td>639</td><td>Arabel</td><td>2618062.0</td></tr><tr><td>psychiatry</td><td>463</td><td>Edith</td><td>1780068.0</td></tr><tr><td>pulmonologists</td><td>262</td><td>Maye</td><td>2382142.0</td></tr><tr><td>radiology</td><td>926</td><td>Sashenka</td><td>2317324.0</td></tr><tr><td>surgery</td><td>243</td><td>Edith</td><td>3436703.0</td></tr></tbody></table></div>"
      ]
     },
     "metadata": {
      "application/vnd.databricks.v1+output": {
       "addedWidgets": {},
       "aggData": [],
       "aggError": "",
       "aggOverflow": false,
       "aggSchema": [],
       "aggSeriesLimitReached": false,
       "aggType": "",
       "arguments": {},
       "columnCustomDisplayInfos": {},
       "data": [
        [
         "allergists",
         975,
         "Hettie",
         2173939.0
        ],
        [
         "anesthesiology",
         792,
         "Leanna",
         3680845.0
        ],
        [
         "cardiology",
         237,
         "Suzette",
         1830079.0
        ],
        [
         "critical care medicine",
         452,
         "Minne",
         3593294.0
        ],
        [
         "dermatology",
         801,
         "Brooks",
         3436703.0
        ],
        [
         "emergency medicine",
         877,
         "Vevay",
         2113058.0
        ],
        [
         "endocrinologist",
         300,
         "Roxane",
         1889420.0
        ],
        [
         "family medicine",
         189,
         "Max",
         3283643.0
        ],
        [
         "gastroenterology",
         129,
         "Aurelie",
         3204079.0
        ],
        [
         "geriatrician",
         667,
         "Gloria",
         5846564.0
        ],
        [
         "hospice and palliative care",
         407,
         "Bill",
         3436703.0
        ],
        [
         "infectious disease",
         574,
         "Ronna",
         2206483.0
        ],
        [
         "internists",
         362,
         "Charissa",
         1896039.0
        ],
        [
         "nephrology",
         443,
         "Renie",
         1354711.0
        ],
        [
         "neurology",
         976,
         "Netty",
         3283643.0
        ],
        [
         "obstetric anesthesiologists",
         427,
         "Jeanna",
         3024970.0
        ],
        [
         "oncologist",
         170,
         "Quintina",
         3306665.0
        ],
        [
         "ophthalmology",
         558,
         "Adriana",
         1879878.0
        ],
        [
         "otolaryngologists",
         688,
         "Constance",
         2340164.0
        ],
        [
         "pediatrics",
         639,
         "Arabel",
         2618062.0
        ],
        [
         "psychiatry",
         463,
         "Edith",
         1780068.0
        ],
        [
         "pulmonologists",
         262,
         "Maye",
         2382142.0
        ],
        [
         "radiology",
         926,
         "Sashenka",
         2317324.0
        ],
        [
         "surgery",
         243,
         "Edith",
         3436703.0
        ]
       ],
       "datasetInfos": [],
       "dbfsResultPath": null,
       "isJsonSchema": true,
       "metadata": {
        "dataframeName": "_sqldf",
        "executionCount": 2
       },
       "overflow": false,
       "plotOptions": {
        "customPlotOptions": {},
        "displayType": "table",
        "pivotAggregation": null,
        "pivotColumns": null,
        "xColumns": null,
        "yColumns": null
       },
       "removedWidgets": [],
       "schema": [
        {
         "metadata": "{}",
         "name": "specialization",
         "type": "\"string\""
        },
        {
         "metadata": "{}",
         "name": "doctor_id",
         "type": "\"integer\""
        },
        {
         "metadata": "{}",
         "name": "doctor_name",
         "type": "\"string\""
        },
        {
         "metadata": "{}",
         "name": "total_revenue",
         "type": "\"double\""
        }
       ],
       "type": "table"
      }
     },
     "output_type": "display_data"
    }
   ],
   "source": [
    "%sql\n",
    "SELECT specialization, doctor_id, doctor_name, total_revenue\n",
    "FROM (\n",
    "    SELECT \n",
    "        specialization,\n",
    "        doctor_id,\n",
    "        doctor_name,\n",
    "        total_revenue,\n",
    "        ROW_NUMBER() OVER (PARTITION BY specialization ORDER BY total_revenue DESC) AS rank\n",
    "    FROM healthcare_analysis.specialization_summary\n",
    ") ranked\n",
    "WHERE rank = 1;\n"
   ]
  },
  {
   "cell_type": "markdown",
   "metadata": {
    "application/vnd.databricks.v1+cell": {
     "cellMetadata": {
      "byteLimit": 2048000,
      "rowLimit": 10000
     },
     "inputWidgets": {},
     "nuid": "f3362522-cc0f-4b3e-9244-bd8f6c3c10d2",
     "showTitle": false,
     "tableResultSettingsMap": {},
     "title": ""
    }
   },
   "source": [
    "##Top 3 doctors in each specialization"
   ]
  },
  {
   "cell_type": "code",
   "execution_count": 0,
   "metadata": {
    "application/vnd.databricks.v1+cell": {
     "cellMetadata": {
      "byteLimit": 2048000,
      "implicitDf": true,
      "rowLimit": 10000
     },
     "inputWidgets": {},
     "nuid": "b338ce7b-8153-4e06-b4e3-411c43d407ef",
     "showTitle": false,
     "tableResultSettingsMap": {},
     "title": ""
    }
   },
   "outputs": [
    {
     "output_type": "display_data",
     "data": {
      "text/html": [
       "<style scoped>\n",
       "  .table-result-container {\n",
       "    max-height: 300px;\n",
       "    overflow: auto;\n",
       "  }\n",
       "  table, th, td {\n",
       "    border: 1px solid black;\n",
       "    border-collapse: collapse;\n",
       "  }\n",
       "  th, td {\n",
       "    padding: 5px;\n",
       "  }\n",
       "  th {\n",
       "    text-align: left;\n",
       "  }\n",
       "</style><div class='table-result-container'><table class='table-result'><thead style='background-color: white'><tr><th>specialization</th><th>doctor_id</th><th>doctor_name</th><th>total_revenue</th><th>rank</th></tr></thead><tbody><tr><td>allergists</td><td>975</td><td>Hettie</td><td>2173939.0</td><td>1</td></tr><tr><td>allergists</td><td>619</td><td>Shannah</td><td>1987601.0</td><td>2</td></tr><tr><td>allergists</td><td>430</td><td>Eolanda</td><td>1691230.0</td><td>3</td></tr><tr><td>anesthesiology</td><td>792</td><td>Leanna</td><td>3680845.0</td><td>1</td></tr><tr><td>anesthesiology</td><td>602</td><td>Tabbatha</td><td>1050834.0</td><td>2</td></tr><tr><td>anesthesiology</td><td>499</td><td>Karlee</td><td>1017914.0</td><td>3</td></tr><tr><td>cardiology</td><td>237</td><td>Suzette</td><td>1830079.0</td><td>1</td></tr><tr><td>cardiology</td><td>633</td><td>Laure</td><td>1318526.0</td><td>2</td></tr><tr><td>cardiology</td><td>661</td><td>Darlleen</td><td>1232251.0</td><td>3</td></tr><tr><td>critical care medicine</td><td>452</td><td>Minne</td><td>3593294.0</td><td>1</td></tr><tr><td>critical care medicine</td><td>479</td><td>Madeleine</td><td>1778975.0</td><td>2</td></tr><tr><td>critical care medicine</td><td>530</td><td>Jeanna</td><td>1501693.0</td><td>3</td></tr><tr><td>dermatology</td><td>801</td><td>Brooks</td><td>3436703.0</td><td>1</td></tr><tr><td>dermatology</td><td>589</td><td>Calla</td><td>2371464.0</td><td>2</td></tr><tr><td>dermatology</td><td>967</td><td>Katuscha</td><td>1984094.0</td><td>3</td></tr><tr><td>emergency medicine</td><td>877</td><td>Vevay</td><td>2113058.0</td><td>1</td></tr><tr><td>emergency medicine</td><td>903</td><td>Lindie</td><td>1323199.0</td><td>2</td></tr><tr><td>emergency medicine</td><td>224</td><td>Dorene</td><td>1239542.0</td><td>3</td></tr><tr><td>endocrinologist</td><td>300</td><td>Roxane</td><td>1889420.0</td><td>1</td></tr><tr><td>endocrinologist</td><td>947</td><td>Allis</td><td>1657795.0</td><td>2</td></tr><tr><td>endocrinologist</td><td>917</td><td>Addia</td><td>1627686.0</td><td>3</td></tr><tr><td>family medicine</td><td>189</td><td>Max</td><td>3283643.0</td><td>1</td></tr><tr><td>family medicine</td><td>420</td><td>Anestassia</td><td>1285050.0</td><td>2</td></tr><tr><td>family medicine</td><td>222</td><td>Zia</td><td>1105788.0</td><td>3</td></tr><tr><td>gastroenterology</td><td>129</td><td>Aurelie</td><td>3204079.0</td><td>1</td></tr><tr><td>gastroenterology</td><td>768</td><td>Giustina</td><td>2604089.0</td><td>2</td></tr><tr><td>gastroenterology</td><td>438</td><td>Iseabal</td><td>2500369.0</td><td>3</td></tr><tr><td>geriatrician</td><td>667</td><td>Gloria</td><td>5846564.0</td><td>1</td></tr><tr><td>geriatrician</td><td>145</td><td>Kerrin</td><td>2040902.0</td><td>2</td></tr><tr><td>geriatrician</td><td>617</td><td>Charissa</td><td>1824589.0</td><td>3</td></tr><tr><td>hospice and palliative care</td><td>407</td><td>Bill</td><td>3436703.0</td><td>1</td></tr><tr><td>hospice and palliative care</td><td>256</td><td>Inga</td><td>1072874.0</td><td>2</td></tr><tr><td>hospice and palliative care</td><td>378</td><td>Concettina</td><td>654032.0</td><td>3</td></tr><tr><td>infectious disease</td><td>574</td><td>Ronna</td><td>2206483.0</td><td>1</td></tr><tr><td>infectious disease</td><td>328</td><td>Atlanta</td><td>1987601.0</td><td>2</td></tr><tr><td>infectious disease</td><td>999</td><td>Wynne</td><td>1889128.0</td><td>3</td></tr><tr><td>internists</td><td>362</td><td>Charissa</td><td>1896039.0</td><td>1</td></tr><tr><td>internists</td><td>692</td><td>Nariko</td><td>1889420.0</td><td>2</td></tr><tr><td>internists</td><td>405</td><td>Correy</td><td>1113433.0</td><td>3</td></tr><tr><td>nephrology</td><td>443</td><td>Renie</td><td>1354711.0</td><td>1</td></tr><tr><td>nephrology</td><td>314</td><td>Ernesta</td><td>1268098.0</td><td>2</td></tr><tr><td>nephrology</td><td>486</td><td>Janis</td><td>1266525.0</td><td>3</td></tr><tr><td>neurology</td><td>976</td><td>Netty</td><td>3283643.0</td><td>1</td></tr><tr><td>neurology</td><td>308</td><td>Glynnis</td><td>1889128.0</td><td>2</td></tr><tr><td>neurology</td><td>214</td><td>Gretal</td><td>1370777.0</td><td>3</td></tr><tr><td>obstetric anesthesiologists</td><td>427</td><td>Jeanna</td><td>3024970.0</td><td>1</td></tr><tr><td>obstetric anesthesiologists</td><td>997</td><td>Georgina</td><td>2037322.0</td><td>2</td></tr><tr><td>obstetric anesthesiologists</td><td>929</td><td>Aryn</td><td>1752721.0</td><td>3</td></tr><tr><td>oncologist</td><td>170</td><td>Quintina</td><td>3306665.0</td><td>1</td></tr><tr><td>oncologist</td><td>341</td><td>Camile</td><td>2219170.0</td><td>2</td></tr><tr><td>oncologist</td><td>502</td><td>Nikki</td><td>1673188.0</td><td>3</td></tr><tr><td>ophthalmology</td><td>558</td><td>Adriana</td><td>1879878.0</td><td>1</td></tr><tr><td>ophthalmology</td><td>637</td><td>Lorenza</td><td>1376889.0</td><td>2</td></tr><tr><td>ophthalmology</td><td>388</td><td>Danika</td><td>1144958.0</td><td>3</td></tr><tr><td>otolaryngologists</td><td>688</td><td>Constance</td><td>2340164.0</td><td>1</td></tr><tr><td>otolaryngologists</td><td>485</td><td>Tera</td><td>2089028.0</td><td>2</td></tr><tr><td>otolaryngologists</td><td>679</td><td>Debee</td><td>1987975.0</td><td>3</td></tr><tr><td>pediatrics</td><td>639</td><td>Arabel</td><td>2618062.0</td><td>1</td></tr><tr><td>pediatrics</td><td>534</td><td>Pierette</td><td>1501693.0</td><td>2</td></tr><tr><td>pediatrics</td><td>662</td><td>Nadine</td><td>1137768.0</td><td>3</td></tr><tr><td>psychiatry</td><td>463</td><td>Edith</td><td>1780068.0</td><td>1</td></tr><tr><td>psychiatry</td><td>347</td><td>Jacquetta</td><td>1350236.0</td><td>2</td></tr><tr><td>psychiatry</td><td>501</td><td>Cathyleen</td><td>926937.0</td><td>3</td></tr><tr><td>pulmonologists</td><td>262</td><td>Maye</td><td>2382142.0</td><td>1</td></tr><tr><td>pulmonologists</td><td>197</td><td>Ofilia</td><td>1586483.0</td><td>2</td></tr><tr><td>pulmonologists</td><td>291</td><td>Gusella</td><td>1144958.0</td><td>3</td></tr><tr><td>radiology</td><td>926</td><td>Sashenka</td><td>2317324.0</td><td>1</td></tr><tr><td>radiology</td><td>800</td><td>Hermione</td><td>2273242.0</td><td>2</td></tr><tr><td>radiology</td><td>186</td><td>Sidoney</td><td>1571290.0</td><td>3</td></tr><tr><td>surgery</td><td>243</td><td>Edith</td><td>3436703.0</td><td>1</td></tr><tr><td>surgery</td><td>615</td><td>Sonni</td><td>1573612.0</td><td>2</td></tr><tr><td>surgery</td><td>201</td><td>Fred</td><td>1364962.0</td><td>3</td></tr></tbody></table></div>"
      ]
     },
     "metadata": {
      "application/vnd.databricks.v1+output": {
       "addedWidgets": {},
       "aggData": [],
       "aggError": "",
       "aggOverflow": false,
       "aggSchema": [],
       "aggSeriesLimitReached": false,
       "aggType": "",
       "arguments": {},
       "columnCustomDisplayInfos": {},
       "data": [
        [
         "allergists",
         975,
         "Hettie",
         2173939.0,
         1
        ],
        [
         "allergists",
         619,
         "Shannah",
         1987601.0,
         2
        ],
        [
         "allergists",
         430,
         "Eolanda",
         1691230.0,
         3
        ],
        [
         "anesthesiology",
         792,
         "Leanna",
         3680845.0,
         1
        ],
        [
         "anesthesiology",
         602,
         "Tabbatha",
         1050834.0,
         2
        ],
        [
         "anesthesiology",
         499,
         "Karlee",
         1017914.0,
         3
        ],
        [
         "cardiology",
         237,
         "Suzette",
         1830079.0,
         1
        ],
        [
         "cardiology",
         633,
         "Laure",
         1318526.0,
         2
        ],
        [
         "cardiology",
         661,
         "Darlleen",
         1232251.0,
         3
        ],
        [
         "critical care medicine",
         452,
         "Minne",
         3593294.0,
         1
        ],
        [
         "critical care medicine",
         479,
         "Madeleine",
         1778975.0,
         2
        ],
        [
         "critical care medicine",
         530,
         "Jeanna",
         1501693.0,
         3
        ],
        [
         "dermatology",
         801,
         "Brooks",
         3436703.0,
         1
        ],
        [
         "dermatology",
         589,
         "Calla",
         2371464.0,
         2
        ],
        [
         "dermatology",
         967,
         "Katuscha",
         1984094.0,
         3
        ],
        [
         "emergency medicine",
         877,
         "Vevay",
         2113058.0,
         1
        ],
        [
         "emergency medicine",
         903,
         "Lindie",
         1323199.0,
         2
        ],
        [
         "emergency medicine",
         224,
         "Dorene",
         1239542.0,
         3
        ],
        [
         "endocrinologist",
         300,
         "Roxane",
         1889420.0,
         1
        ],
        [
         "endocrinologist",
         947,
         "Allis",
         1657795.0,
         2
        ],
        [
         "endocrinologist",
         917,
         "Addia",
         1627686.0,
         3
        ],
        [
         "family medicine",
         189,
         "Max",
         3283643.0,
         1
        ],
        [
         "family medicine",
         420,
         "Anestassia",
         1285050.0,
         2
        ],
        [
         "family medicine",
         222,
         "Zia",
         1105788.0,
         3
        ],
        [
         "gastroenterology",
         129,
         "Aurelie",
         3204079.0,
         1
        ],
        [
         "gastroenterology",
         768,
         "Giustina",
         2604089.0,
         2
        ],
        [
         "gastroenterology",
         438,
         "Iseabal",
         2500369.0,
         3
        ],
        [
         "geriatrician",
         667,
         "Gloria",
         5846564.0,
         1
        ],
        [
         "geriatrician",
         145,
         "Kerrin",
         2040902.0,
         2
        ],
        [
         "geriatrician",
         617,
         "Charissa",
         1824589.0,
         3
        ],
        [
         "hospice and palliative care",
         407,
         "Bill",
         3436703.0,
         1
        ],
        [
         "hospice and palliative care",
         256,
         "Inga",
         1072874.0,
         2
        ],
        [
         "hospice and palliative care",
         378,
         "Concettina",
         654032.0,
         3
        ],
        [
         "infectious disease",
         574,
         "Ronna",
         2206483.0,
         1
        ],
        [
         "infectious disease",
         328,
         "Atlanta",
         1987601.0,
         2
        ],
        [
         "infectious disease",
         999,
         "Wynne",
         1889128.0,
         3
        ],
        [
         "internists",
         362,
         "Charissa",
         1896039.0,
         1
        ],
        [
         "internists",
         692,
         "Nariko",
         1889420.0,
         2
        ],
        [
         "internists",
         405,
         "Correy",
         1113433.0,
         3
        ],
        [
         "nephrology",
         443,
         "Renie",
         1354711.0,
         1
        ],
        [
         "nephrology",
         314,
         "Ernesta",
         1268098.0,
         2
        ],
        [
         "nephrology",
         486,
         "Janis",
         1266525.0,
         3
        ],
        [
         "neurology",
         976,
         "Netty",
         3283643.0,
         1
        ],
        [
         "neurology",
         308,
         "Glynnis",
         1889128.0,
         2
        ],
        [
         "neurology",
         214,
         "Gretal",
         1370777.0,
         3
        ],
        [
         "obstetric anesthesiologists",
         427,
         "Jeanna",
         3024970.0,
         1
        ],
        [
         "obstetric anesthesiologists",
         997,
         "Georgina",
         2037322.0,
         2
        ],
        [
         "obstetric anesthesiologists",
         929,
         "Aryn",
         1752721.0,
         3
        ],
        [
         "oncologist",
         170,
         "Quintina",
         3306665.0,
         1
        ],
        [
         "oncologist",
         341,
         "Camile",
         2219170.0,
         2
        ],
        [
         "oncologist",
         502,
         "Nikki",
         1673188.0,
         3
        ],
        [
         "ophthalmology",
         558,
         "Adriana",
         1879878.0,
         1
        ],
        [
         "ophthalmology",
         637,
         "Lorenza",
         1376889.0,
         2
        ],
        [
         "ophthalmology",
         388,
         "Danika",
         1144958.0,
         3
        ],
        [
         "otolaryngologists",
         688,
         "Constance",
         2340164.0,
         1
        ],
        [
         "otolaryngologists",
         485,
         "Tera",
         2089028.0,
         2
        ],
        [
         "otolaryngologists",
         679,
         "Debee",
         1987975.0,
         3
        ],
        [
         "pediatrics",
         639,
         "Arabel",
         2618062.0,
         1
        ],
        [
         "pediatrics",
         534,
         "Pierette",
         1501693.0,
         2
        ],
        [
         "pediatrics",
         662,
         "Nadine",
         1137768.0,
         3
        ],
        [
         "psychiatry",
         463,
         "Edith",
         1780068.0,
         1
        ],
        [
         "psychiatry",
         347,
         "Jacquetta",
         1350236.0,
         2
        ],
        [
         "psychiatry",
         501,
         "Cathyleen",
         926937.0,
         3
        ],
        [
         "pulmonologists",
         262,
         "Maye",
         2382142.0,
         1
        ],
        [
         "pulmonologists",
         197,
         "Ofilia",
         1586483.0,
         2
        ],
        [
         "pulmonologists",
         291,
         "Gusella",
         1144958.0,
         3
        ],
        [
         "radiology",
         926,
         "Sashenka",
         2317324.0,
         1
        ],
        [
         "radiology",
         800,
         "Hermione",
         2273242.0,
         2
        ],
        [
         "radiology",
         186,
         "Sidoney",
         1571290.0,
         3
        ],
        [
         "surgery",
         243,
         "Edith",
         3436703.0,
         1
        ],
        [
         "surgery",
         615,
         "Sonni",
         1573612.0,
         2
        ],
        [
         "surgery",
         201,
         "Fred",
         1364962.0,
         3
        ]
       ],
       "datasetInfos": [],
       "dbfsResultPath": null,
       "isJsonSchema": true,
       "metadata": {
        "dataframeName": "_sqldf",
        "executionCount": 3
       },
       "overflow": false,
       "plotOptions": {
        "customPlotOptions": {},
        "displayType": "table",
        "pivotAggregation": null,
        "pivotColumns": null,
        "xColumns": null,
        "yColumns": null
       },
       "removedWidgets": [],
       "schema": [
        {
         "metadata": "{}",
         "name": "specialization",
         "type": "\"string\""
        },
        {
         "metadata": "{}",
         "name": "doctor_id",
         "type": "\"integer\""
        },
        {
         "metadata": "{}",
         "name": "doctor_name",
         "type": "\"string\""
        },
        {
         "metadata": "{}",
         "name": "total_revenue",
         "type": "\"double\""
        },
        {
         "metadata": "{}",
         "name": "rank",
         "type": "\"integer\""
        }
       ],
       "type": "table"
      }
     },
     "output_type": "display_data"
    }
   ],
   "source": [
    "%sql\n",
    "SELECT specialization, doctor_id, doctor_name, total_revenue, rank\n",
    "FROM (\n",
    "    SELECT \n",
    "        specialization,\n",
    "        doctor_id,\n",
    "        doctor_name,\n",
    "        total_revenue,\n",
    "        ROW_NUMBER() OVER (PARTITION BY specialization ORDER BY total_revenue DESC) AS rank\n",
    "    FROM healthcare_analysis.specialization_summary\n",
    ") ranked\n",
    "WHERE rank <= 3\n",
    "ORDER BY specialization, rank;\n"
   ]
  },
  {
   "cell_type": "markdown",
   "metadata": {
    "application/vnd.databricks.v1+cell": {
     "cellMetadata": {
      "byteLimit": 2048000,
      "rowLimit": 10000
     },
     "inputWidgets": {},
     "nuid": "35451860-ab51-4708-98bf-f00e649c4dc0",
     "showTitle": false,
     "tableResultSettingsMap": {},
     "title": ""
    }
   },
   "source": [
    "## Which specialization has the highest demand and lowest demand"
   ]
  },
  {
   "cell_type": "code",
   "execution_count": 0,
   "metadata": {
    "application/vnd.databricks.v1+cell": {
     "cellMetadata": {
      "byteLimit": 2048000,
      "implicitDf": true,
      "rowLimit": 10000
     },
     "inputWidgets": {},
     "nuid": "9e5099ae-ad81-43e1-9ff9-c841633c2c02",
     "showTitle": false,
     "tableResultSettingsMap": {},
     "title": ""
    }
   },
   "outputs": [
    {
     "output_type": "display_data",
     "data": {
      "text/html": [
       "<style scoped>\n",
       "  .table-result-container {\n",
       "    max-height: 300px;\n",
       "    overflow: auto;\n",
       "  }\n",
       "  table, th, td {\n",
       "    border: 1px solid black;\n",
       "    border-collapse: collapse;\n",
       "  }\n",
       "  th, td {\n",
       "    padding: 5px;\n",
       "  }\n",
       "  th {\n",
       "    text-align: left;\n",
       "  }\n",
       "</style><div class='table-result-container'><table class='table-result'><thead style='background-color: white'><tr><th>specialization</th><th>specialization_demand_level</th></tr></thead><tbody><tr><td>infectious disease</td><td>High Demand</td></tr></tbody></table></div>"
      ]
     },
     "metadata": {
      "application/vnd.databricks.v1+output": {
       "addedWidgets": {},
       "aggData": [],
       "aggError": "",
       "aggOverflow": false,
       "aggSchema": [],
       "aggSeriesLimitReached": false,
       "aggType": "",
       "arguments": {},
       "columnCustomDisplayInfos": {},
       "data": [
        [
         "infectious disease",
         "High Demand"
        ]
       ],
       "datasetInfos": [],
       "dbfsResultPath": null,
       "isJsonSchema": true,
       "metadata": {
        "dataframeName": "_sqldf",
        "executionCount": 4
       },
       "overflow": false,
       "plotOptions": {
        "customPlotOptions": {},
        "displayType": "table",
        "pivotAggregation": null,
        "pivotColumns": null,
        "xColumns": null,
        "yColumns": null
       },
       "removedWidgets": [],
       "schema": [
        {
         "metadata": "{}",
         "name": "specialization",
         "type": "\"string\""
        },
        {
         "metadata": "{}",
         "name": "specialization_demand_level",
         "type": "\"string\""
        }
       ],
       "type": "table"
      }
     },
     "output_type": "display_data"
    }
   ],
   "source": [
    "%sql\n",
    "-- Highest demand specialization\n",
    "SELECT specialization, specialization_demand_level\n",
    "FROM healthcare_analysis.specialization_summary\n",
    "WHERE specialization_demand_level = 'High Demand'\n",
    "GROUP BY specialization, specialization_demand_level\n",
    "ORDER BY COUNT(doctor_id) DESC\n",
    "LIMIT 1;\n"
   ]
  },
  {
   "cell_type": "code",
   "execution_count": 0,
   "metadata": {
    "application/vnd.databricks.v1+cell": {
     "cellMetadata": {
      "byteLimit": 2048000,
      "implicitDf": true,
      "rowLimit": 10000
     },
     "inputWidgets": {},
     "nuid": "a983dae3-ed1a-4082-8eb7-ff419ac7bbbc",
     "showTitle": false,
     "tableResultSettingsMap": {},
     "title": ""
    }
   },
   "outputs": [
    {
     "output_type": "display_data",
     "data": {
      "text/html": [
       "<style scoped>\n",
       "  .table-result-container {\n",
       "    max-height: 300px;\n",
       "    overflow: auto;\n",
       "  }\n",
       "  table, th, td {\n",
       "    border: 1px solid black;\n",
       "    border-collapse: collapse;\n",
       "  }\n",
       "  th, td {\n",
       "    padding: 5px;\n",
       "  }\n",
       "  th {\n",
       "    text-align: left;\n",
       "  }\n",
       "</style><div class='table-result-container'><table class='table-result'><thead style='background-color: white'><tr><th>specialization</th><th>specialization_demand_level</th></tr></thead><tbody><tr><td>hospice and palliative care</td><td>Low Demand</td></tr></tbody></table></div>"
      ]
     },
     "metadata": {
      "application/vnd.databricks.v1+output": {
       "addedWidgets": {},
       "aggData": [],
       "aggError": "",
       "aggOverflow": false,
       "aggSchema": [],
       "aggSeriesLimitReached": false,
       "aggType": "",
       "arguments": {},
       "columnCustomDisplayInfos": {},
       "data": [
        [
         "hospice and palliative care",
         "Low Demand"
        ]
       ],
       "datasetInfos": [],
       "dbfsResultPath": null,
       "isJsonSchema": true,
       "metadata": {
        "dataframeName": "_sqldf",
        "executionCount": 5
       },
       "overflow": false,
       "plotOptions": {
        "customPlotOptions": {},
        "displayType": "table",
        "pivotAggregation": null,
        "pivotColumns": null,
        "xColumns": null,
        "yColumns": null
       },
       "removedWidgets": [],
       "schema": [
        {
         "metadata": "{}",
         "name": "specialization",
         "type": "\"string\""
        },
        {
         "metadata": "{}",
         "name": "specialization_demand_level",
         "type": "\"string\""
        }
       ],
       "type": "table"
      }
     },
     "output_type": "display_data"
    }
   ],
   "source": [
    "%sql\n",
    "-- Lowest demand specialization\n",
    "SELECT specialization, specialization_demand_level\n",
    "FROM healthcare_analysis.specialization_summary\n",
    "WHERE specialization_demand_level = 'Low Demand'\n",
    "GROUP BY specialization, specialization_demand_level\n",
    "ORDER BY COUNT(doctor_id) ASC\n",
    "LIMIT 1;"
   ]
  },
  {
   "cell_type": "markdown",
   "metadata": {
    "application/vnd.databricks.v1+cell": {
     "cellMetadata": {
      "byteLimit": 2048000,
      "rowLimit": 10000
     },
     "inputWidgets": {},
     "nuid": "e3cb3e51-7082-4e84-8fab-e5bc361d6459",
     "showTitle": false,
     "tableResultSettingsMap": {},
     "title": ""
    }
   },
   "source": [
    "## Which specialization has the highest workload"
   ]
  },
  {
   "cell_type": "code",
   "execution_count": 0,
   "metadata": {
    "application/vnd.databricks.v1+cell": {
     "cellMetadata": {
      "byteLimit": 2048000,
      "implicitDf": true,
      "rowLimit": 10000
     },
     "inputWidgets": {},
     "nuid": "feca331d-9af0-4cac-b371-51e774c276d5",
     "showTitle": false,
     "tableResultSettingsMap": {},
     "title": ""
    }
   },
   "outputs": [
    {
     "output_type": "display_data",
     "data": {
      "text/html": [
       "<style scoped>\n",
       "  .table-result-container {\n",
       "    max-height: 300px;\n",
       "    overflow: auto;\n",
       "  }\n",
       "  table, th, td {\n",
       "    border: 1px solid black;\n",
       "    border-collapse: collapse;\n",
       "  }\n",
       "  th, td {\n",
       "    padding: 5px;\n",
       "  }\n",
       "  th {\n",
       "    text-align: left;\n",
       "  }\n",
       "</style><div class='table-result-container'><table class='table-result'><thead style='background-color: white'><tr><th>specialization</th><th>total_appointments</th></tr></thead><tbody><tr><td>infectious disease</td><td>925</td></tr></tbody></table></div>"
      ]
     },
     "metadata": {
      "application/vnd.databricks.v1+output": {
       "addedWidgets": {},
       "aggData": [],
       "aggError": "",
       "aggOverflow": false,
       "aggSchema": [],
       "aggSeriesLimitReached": false,
       "aggType": "",
       "arguments": {},
       "columnCustomDisplayInfos": {},
       "data": [
        [
         "infectious disease",
         925
        ]
       ],
       "datasetInfos": [],
       "dbfsResultPath": null,
       "isJsonSchema": true,
       "metadata": {
        "dataframeName": "_sqldf",
        "executionCount": 6
       },
       "overflow": false,
       "plotOptions": {
        "customPlotOptions": {},
        "displayType": "table",
        "pivotAggregation": null,
        "pivotColumns": null,
        "xColumns": null,
        "yColumns": null
       },
       "removedWidgets": [],
       "schema": [
        {
         "metadata": "{}",
         "name": "specialization",
         "type": "\"string\""
        },
        {
         "metadata": "{}",
         "name": "total_appointments",
         "type": "\"long\""
        }
       ],
       "type": "table"
      }
     },
     "output_type": "display_data"
    }
   ],
   "source": [
    "%sql\n",
    "SELECT specialization, SUM(specialization_total_appointments) AS total_appointments\n",
    "FROM healthcare_analysis.specialization_summary\n",
    "GROUP BY specialization\n",
    "ORDER BY total_appointments DESC\n",
    "LIMIT 1;\n"
   ]
  },
  {
   "cell_type": "markdown",
   "metadata": {
    "application/vnd.databricks.v1+cell": {
     "cellMetadata": {
      "byteLimit": 2048000,
      "rowLimit": 10000
     },
     "inputWidgets": {},
     "nuid": "7358257d-e575-49d7-adf9-e5320889af39",
     "showTitle": false,
     "tableResultSettingsMap": {},
     "title": ""
    }
   },
   "source": [
    "## Doctor who earns the highest in the hospital"
   ]
  },
  {
   "cell_type": "code",
   "execution_count": 0,
   "metadata": {
    "application/vnd.databricks.v1+cell": {
     "cellMetadata": {
      "byteLimit": 2048000,
      "implicitDf": true,
      "rowLimit": 10000
     },
     "inputWidgets": {},
     "nuid": "12520634-1605-42af-b17e-6eb7105cc96e",
     "showTitle": false,
     "tableResultSettingsMap": {},
     "title": ""
    }
   },
   "outputs": [
    {
     "output_type": "display_data",
     "data": {
      "text/html": [
       "<style scoped>\n",
       "  .table-result-container {\n",
       "    max-height: 300px;\n",
       "    overflow: auto;\n",
       "  }\n",
       "  table, th, td {\n",
       "    border: 1px solid black;\n",
       "    border-collapse: collapse;\n",
       "  }\n",
       "  th, td {\n",
       "    padding: 5px;\n",
       "  }\n",
       "  th {\n",
       "    text-align: left;\n",
       "  }\n",
       "</style><div class='table-result-container'><table class='table-result'><thead style='background-color: white'><tr><th>doctor_id</th><th>doctor_name</th><th>specialization</th><th>total_revenue</th></tr></thead><tbody><tr><td>667</td><td>Gloria</td><td>geriatrician</td><td>5846564.0</td></tr></tbody></table></div>"
      ]
     },
     "metadata": {
      "application/vnd.databricks.v1+output": {
       "addedWidgets": {},
       "aggData": [],
       "aggError": "",
       "aggOverflow": false,
       "aggSchema": [],
       "aggSeriesLimitReached": false,
       "aggType": "",
       "arguments": {},
       "columnCustomDisplayInfos": {},
       "data": [
        [
         667,
         "Gloria",
         "geriatrician",
         5846564.0
        ]
       ],
       "datasetInfos": [],
       "dbfsResultPath": null,
       "isJsonSchema": true,
       "metadata": {
        "dataframeName": "_sqldf",
        "executionCount": 7
       },
       "overflow": false,
       "plotOptions": {
        "customPlotOptions": {},
        "displayType": "table",
        "pivotAggregation": null,
        "pivotColumns": null,
        "xColumns": null,
        "yColumns": null
       },
       "removedWidgets": [],
       "schema": [
        {
         "metadata": "{}",
         "name": "doctor_id",
         "type": "\"integer\""
        },
        {
         "metadata": "{}",
         "name": "doctor_name",
         "type": "\"string\""
        },
        {
         "metadata": "{}",
         "name": "specialization",
         "type": "\"string\""
        },
        {
         "metadata": "{}",
         "name": "total_revenue",
         "type": "\"double\""
        }
       ],
       "type": "table"
      }
     },
     "output_type": "display_data"
    }
   ],
   "source": [
    "%sql\n",
    "SELECT doctor_id, doctor_name, specialization, total_revenue\n",
    "FROM healthcare_analysis.specialization_summary\n",
    "ORDER BY total_revenue DESC\n",
    "LIMIT 1;\n"
   ]
  }
 ],
 "metadata": {
  "application/vnd.databricks.v1+notebook": {
   "computePreferences": null,
   "dashboards": [],
   "environmentMetadata": null,
   "inputWidgetPreferences": null,
   "language": "python",
   "notebookMetadata": {
    "mostRecentlyExecutedCommandWithImplicitDF": {
     "commandId": 5750272696920231,
     "dataframes": [
      "_sqldf"
     ]
    }
   },
   "notebookName": "Specialization_analysis",
   "widgets": {}
  },
  "language_info": {
   "name": "python"
  }
 },
 "nbformat": 4,
 "nbformat_minor": 0
}
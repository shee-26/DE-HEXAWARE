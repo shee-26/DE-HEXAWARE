{
 "cells": [
  {
   "cell_type": "code",
   "execution_count": 0,
   "metadata": {
    "application/vnd.databricks.v1+cell": {
     "cellMetadata": {
      "byteLimit": 2048000,
      "rowLimit": 10000
     },
     "inputWidgets": {},
     "nuid": "f42fda80-b4b7-4a34-ac38-9789b74d86f9",
     "showTitle": false,
     "tableResultSettingsMap": {},
     "title": ""
    }
   },
   "outputs": [],
   "source": [
    "spark.conf.set(\n",
    "    \"fs.azure.account.key.projectadf1.dfs.core.windows.net\",\n",
    "    \"CSiXNWhibZG0fqyBMd04Qn4++bAtOoS+HwZt5IWin/Pk9UrUimppMcGnXCzGUICGV/PCey4nuGzs+AStQ5MAfQ==\")"
   ]
  },
  {
   "cell_type": "code",
   "execution_count": 0,
   "metadata": {
    "application/vnd.databricks.v1+cell": {
     "cellMetadata": {
      "byteLimit": 2048000,
      "rowLimit": 10000
     },
     "inputWidgets": {},
     "nuid": "cfed9438-5586-4076-9e58-cecbad6f4fbb",
     "showTitle": false,
     "tableResultSettingsMap": {},
     "title": ""
    }
   },
   "outputs": [],
   "source": [
    "from pyspark.sql.functions import col, to_timestamp, concat, date_format, current_timestamp\n",
    "appointments_raw_df = spark.read.table(\"healthcare_raw.appointments\")"
   ]
  },
  {
   "cell_type": "code",
   "execution_count": 0,
   "metadata": {
    "application/vnd.databricks.v1+cell": {
     "cellMetadata": {
      "byteLimit": 2048000,
      "rowLimit": 10000
     },
     "inputWidgets": {},
     "nuid": "4337f44c-7e8b-4bde-94ce-0812649f2282",
     "showTitle": false,
     "tableResultSettingsMap": {},
     "title": ""
    }
   },
   "outputs": [],
   "source": [
    "from pyspark.sql.functions import col, to_date, to_timestamp, date_format, dayofmonth, current_timestamp\n",
    "\n",
    "appointments_cleaned_df = (appointments_raw_df\n",
    "    # Keep Date column as-is (string from CSV)\n",
    "    .withColumn(\"appointment_date\", col(\"Date\"))\n",
    "    \n",
    "    # Convert to proper date for extracting parts\n",
    "    .withColumn(\"date_parsed\", to_date(col(\"Date\"), \"dd-MM-yyyy\"))\n",
    "    \n",
    "    # Extract year, month, and day\n",
    "    .withColumn(\"appointment_year\", date_format(col(\"date_parsed\"), \"yyyy\"))\n",
    "    .withColumn(\"appointment_month\", date_format(col(\"date_parsed\"), \"MM\"))\n",
    "    .withColumn(\"appointment_day\", dayofmonth(col(\"date_parsed\")))\n",
    "    \n",
    "    # Parse Time column (ISO timestamp)\n",
    "    .withColumn(\"appointment_timestamp\", to_timestamp(col(\"Time\"), \"yyyy-MM-dd'T'HH:mm:ss.SSS'Z'\"))\n",
    "    \n",
    "    # Add ingestion timestamp\n",
    "    .withColumn(\"ingestion_date\", current_timestamp())\n",
    "    \n",
    "    # Deduplicate\n",
    "    .dropDuplicates([\"AppointmentID\"])\n",
    "    \n",
    "    # Final selection\n",
    "    .select(\n",
    "        col(\"AppointmentID\").alias(\"appointment_id\"),\n",
    "        \"appointment_timestamp\",\n",
    "        \"appointment_date\",       # original string from CSV\n",
    "        \"appointment_year\",\n",
    "        \"appointment_month\",\n",
    "        \"appointment_day\",        # new day column (int 1–31)\n",
    "        col(\"PatientID\").alias(\"patient_id\"),\n",
    "        col(\"DoctorID\").alias(\"doctor_id\"),\n",
    "        \"ingestion_date\"\n",
    "    )\n",
    ")\n"
   ]
  },
  {
   "cell_type": "code",
   "execution_count": 0,
   "metadata": {
    "application/vnd.databricks.v1+cell": {
     "cellMetadata": {
      "byteLimit": 2048000,
      "rowLimit": 10000
     },
     "inputWidgets": {},
     "nuid": "66c3664a-bd47-4739-bf3a-ab7ce104ea44",
     "showTitle": false,
     "tableResultSettingsMap": {},
     "title": ""
    }
   },
   "outputs": [],
   "source": [
    "(appointments_cleaned_df.write\n",
    "    .mode(\"overwrite\")\n",
    "    .format(\"delta\")\n",
    "    .partitionBy(\"appointment_year\")\n",
    "    .saveAsTable(\"healthcare_processed.appointment\"))"
   ]
  },
  {
   "cell_type": "code",
   "execution_count": 0,
   "metadata": {
    "application/vnd.databricks.v1+cell": {
     "cellMetadata": {
      "byteLimit": 2048000,
      "rowLimit": 10000
     },
     "inputWidgets": {},
     "nuid": "7051dc19-c795-425f-b5c7-e7a4de4cf191",
     "showTitle": false,
     "tableResultSettingsMap": {},
     "title": ""
    }
   },
   "outputs": [
    {
     "output_type": "stream",
     "name": "stdout",
     "output_type": "stream",
     "text": [
      "root\n |-- appointment_id: integer (nullable = true)\n |-- appointment_timestamp: timestamp (nullable = true)\n |-- appointment_date: date (nullable = true)\n |-- appointment_year: string (nullable = true)\n |-- appointment_month: string (nullable = true)\n |-- appointment_day: integer (nullable = true)\n |-- patient_id: integer (nullable = true)\n |-- doctor_id: integer (nullable = true)\n |-- ingestion_date: timestamp (nullable = false)\n\n"
     ]
    }
   ],
   "source": [
    "appointments_cleaned_df.printSchema()"
   ]
  },
  {
   "cell_type": "code",
   "execution_count": 0,
   "metadata": {
    "application/vnd.databricks.v1+cell": {
     "cellMetadata": {
      "byteLimit": 2048000,
      "rowLimit": 10000
     },
     "inputWidgets": {},
     "nuid": "b524bcf7-ccb6-4c6c-b7ca-6febe5939fc5",
     "showTitle": false,
     "tableResultSettingsMap": {},
     "title": ""
    }
   },
   "outputs": [],
   "source": [
    "appointments_cleaned_df.write.mode(\"overwrite\").parquet(f\"abfss://source@projectadf1.dfs.core.windows.net/appointments\")"
   ]
  },
  {
   "cell_type": "code",
   "execution_count": 0,
   "metadata": {
    "application/vnd.databricks.v1+cell": {
     "cellMetadata": {
      "byteLimit": 2048000,
      "rowLimit": 10000
     },
     "inputWidgets": {},
     "nuid": "7550155d-d1c7-4ddc-916a-e4b3a8912de1",
     "showTitle": false,
     "tableResultSettingsMap": {},
     "title": ""
    }
   },
   "outputs": [
    {
     "output_type": "display_data",
     "data": {
      "text/html": [
       "<style scoped>\n",
       "  .table-result-container {\n",
       "    max-height: 300px;\n",
       "    overflow: auto;\n",
       "  }\n",
       "  table, th, td {\n",
       "    border: 1px solid black;\n",
       "    border-collapse: collapse;\n",
       "  }\n",
       "  th, td {\n",
       "    padding: 5px;\n",
       "  }\n",
       "  th {\n",
       "    text-align: left;\n",
       "  }\n",
       "</style><div class='table-result-container'><table class='table-result'><thead style='background-color: white'><tr><th>appointment_id</th><th>appointment_timestamp</th><th>appointment_date</th><th>appointment_year</th><th>appointment_month</th><th>appointment_day</th><th>patient_id</th><th>doctor_id</th><th>ingestion_date</th></tr></thead><tbody><tr><td>105</td><td>2023-12-23T14:33:46.41Z</td><td>2020-01-29</td><td>2020</td><td>01</td><td>29</td><td>270</td><td>912</td><td>2025-08-25T10:14:19.164Z</td></tr><tr><td>109</td><td>2023-12-23T14:33:46.41Z</td><td>2020-11-08</td><td>2020</td><td>11</td><td>8</td><td>439</td><td>480</td><td>2025-08-25T10:14:19.164Z</td></tr><tr><td>121</td><td>2023-12-23T14:33:46.411Z</td><td>2020-04-17</td><td>2020</td><td>04</td><td>17</td><td>323</td><td>660</td><td>2025-08-25T10:14:19.164Z</td></tr><tr><td>126</td><td>2023-12-23T14:33:46.414Z</td><td>2020-07-12</td><td>2020</td><td>07</td><td>12</td><td>190</td><td>731</td><td>2025-08-25T10:14:19.164Z</td></tr><tr><td>131</td><td>2023-12-23T14:33:46.41Z</td><td>2020-12-24</td><td>2020</td><td>12</td><td>24</td><td>927</td><td>449</td><td>2025-08-25T10:14:19.164Z</td></tr></tbody></table></div>"
      ]
     },
     "metadata": {
      "application/vnd.databricks.v1+output": {
       "addedWidgets": {},
       "aggData": [],
       "aggError": "",
       "aggOverflow": false,
       "aggSchema": [],
       "aggSeriesLimitReached": false,
       "aggType": "",
       "arguments": {},
       "columnCustomDisplayInfos": {},
       "data": [
        [
         105,
         "2023-12-23T14:33:46.41Z",
         "2020-01-29",
         "2020",
         "01",
         29,
         270,
         912,
         "2025-08-25T10:14:19.164Z"
        ],
        [
         109,
         "2023-12-23T14:33:46.41Z",
         "2020-11-08",
         "2020",
         "11",
         8,
         439,
         480,
         "2025-08-25T10:14:19.164Z"
        ],
        [
         121,
         "2023-12-23T14:33:46.411Z",
         "2020-04-17",
         "2020",
         "04",
         17,
         323,
         660,
         "2025-08-25T10:14:19.164Z"
        ],
        [
         126,
         "2023-12-23T14:33:46.414Z",
         "2020-07-12",
         "2020",
         "07",
         12,
         190,
         731,
         "2025-08-25T10:14:19.164Z"
        ],
        [
         131,
         "2023-12-23T14:33:46.41Z",
         "2020-12-24",
         "2020",
         "12",
         24,
         927,
         449,
         "2025-08-25T10:14:19.164Z"
        ]
       ],
       "datasetInfos": [],
       "dbfsResultPath": null,
       "isJsonSchema": true,
       "metadata": {},
       "overflow": false,
       "plotOptions": {
        "customPlotOptions": {},
        "displayType": "table",
        "pivotAggregation": null,
        "pivotColumns": null,
        "xColumns": null,
        "yColumns": null
       },
       "removedWidgets": [],
       "schema": [
        {
         "metadata": "{}",
         "name": "appointment_id",
         "type": "\"integer\""
        },
        {
         "metadata": "{}",
         "name": "appointment_timestamp",
         "type": "\"timestamp\""
        },
        {
         "metadata": "{}",
         "name": "appointment_date",
         "type": "\"date\""
        },
        {
         "metadata": "{}",
         "name": "appointment_year",
         "type": "\"string\""
        },
        {
         "metadata": "{}",
         "name": "appointment_month",
         "type": "\"string\""
        },
        {
         "metadata": "{}",
         "name": "appointment_day",
         "type": "\"integer\""
        },
        {
         "metadata": "{}",
         "name": "patient_id",
         "type": "\"integer\""
        },
        {
         "metadata": "{}",
         "name": "doctor_id",
         "type": "\"integer\""
        },
        {
         "metadata": "{}",
         "name": "ingestion_date",
         "type": "\"timestamp\""
        }
       ],
       "type": "table"
      }
     },
     "output_type": "display_data"
    },
    {
     "output_type": "stream",
     "name": "stdout",
     "output_type": "stream",
     "text": [
      "Appointments ingestion completed successfully!\n"
     ]
    }
   ],
   "source": [
    "display(spark.read.table(\"healthcare_processed.appointment\").limit(5))\n",
    "print(\"Appointments ingestion completed successfully!\")"
   ]
  },
  {
   "cell_type": "code",
   "execution_count": 0,
   "metadata": {
    "application/vnd.databricks.v1+cell": {
     "cellMetadata": {
      "byteLimit": 2048000,
      "rowLimit": 10000
     },
     "inputWidgets": {},
     "nuid": "ab47d824-a771-4bcf-94d1-f1ba9bb08a9c",
     "showTitle": false,
     "tableResultSettingsMap": {},
     "title": ""
    }
   },
   "outputs": [],
   "source": [
    "dbutils.notebook.exit(\"Success\")"
   ]
  }
 ],
 "metadata": {
  "application/vnd.databricks.v1+notebook": {
   "computePreferences": null,
   "dashboards": [],
   "environmentMetadata": null,
   "inputWidgetPreferences": null,
   "language": "python",
   "notebookMetadata": {
    "pythonIndentUnit": 4
   },
   "notebookName": "ingest_appoinment",
   "widgets": {}
  },
  "language_info": {
   "name": "python"
  }
 },
 "nbformat": 4,
 "nbformat_minor": 0
}
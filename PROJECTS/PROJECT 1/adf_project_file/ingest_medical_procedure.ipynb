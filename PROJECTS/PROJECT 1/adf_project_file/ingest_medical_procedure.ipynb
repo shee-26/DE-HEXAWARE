{
 "cells": [
  {
   "cell_type": "code",
   "execution_count": 0,
   "metadata": {
    "application/vnd.databricks.v1+cell": {
     "cellMetadata": {
      "byteLimit": 2048000,
      "rowLimit": 10000
     },
     "inputWidgets": {},
     "nuid": "9e4b8667-27a2-4262-8175-499eed6819d4",
     "showTitle": false,
     "tableResultSettingsMap": {},
     "title": ""
    }
   },
   "outputs": [],
   "source": [
    "spark.conf.set(\n",
    "    \"fs.azure.account.key.projectadf1.dfs.core.windows.net\",\n",
    "    \"CSiXNWhibZG0fqyBMd04Qn4++bAtOoS+HwZt5IWin/Pk9UrUimppMcGnXCzGUICGV/PCey4nuGzs+AStQ5MAfQ==\")"
   ]
  },
  {
   "cell_type": "code",
   "execution_count": 0,
   "metadata": {
    "application/vnd.databricks.v1+cell": {
     "cellMetadata": {
      "byteLimit": 2048000,
      "rowLimit": 10000
     },
     "inputWidgets": {},
     "nuid": "c0a26fb4-8b08-4c0c-902f-a747eca68d3d",
     "showTitle": false,
     "tableResultSettingsMap": {},
     "title": ""
    }
   },
   "outputs": [],
   "source": [
    "from pyspark.sql.functions import col, trim, lower, initcap, current_timestamp\n",
    "\n",
    "procedures_raw_df = spark.read.table(\"healthcare_raw.medical_procedure\")\n"
   ]
  },
  {
   "cell_type": "code",
   "execution_count": 0,
   "metadata": {
    "application/vnd.databricks.v1+cell": {
     "cellMetadata": {
      "byteLimit": 2048000,
      "rowLimit": 10000
     },
     "inputWidgets": {},
     "nuid": "33516c26-f9ba-4687-8635-fbb85c338c2f",
     "showTitle": false,
     "tableResultSettingsMap": {},
     "title": ""
    }
   },
   "outputs": [],
   "source": [
    "procedures_cleaned_df = (procedures_raw_df\n",
    "    # Clean text fields\n",
    "    .withColumn(\"procedure_name\", trim(initcap(col(\"ProcedureName\"))))\n",
    "    \n",
    "    # Data validation: Ensure required fields are present\n",
    "    .filter(col(\"ProcedureName\").isNotNull() & col(\"AppointmentID\").isNotNull())\n",
    "    \n",
    "    # Remove duplicates (same procedure for same appointment shouldn't happen)\n",
    "    .dropDuplicates([\"ProcedureID\", \"AppointmentID\"])\n",
    "    \n",
    "    # Add audit column\n",
    "    .withColumn(\"ingestion_date\", current_timestamp())\n",
    "    \n",
    "    # Select and rename final columns\n",
    "    .select(\n",
    "        col(\"ProcedureID\").alias(\"procedure_id\"),\n",
    "        \"procedure_name\",\n",
    "        col(\"AppointmentID\").alias(\"appointment_id\"),\n",
    "        \"ingestion_date\"\n",
    "    )\n",
    ")\n"
   ]
  },
  {
   "cell_type": "code",
   "execution_count": 0,
   "metadata": {
    "application/vnd.databricks.v1+cell": {
     "cellMetadata": {
      "byteLimit": 2048000,
      "rowLimit": 10000
     },
     "inputWidgets": {},
     "nuid": "ca028476-8457-4415-a4b7-9a76b245bea0",
     "showTitle": false,
     "tableResultSettingsMap": {},
     "title": ""
    }
   },
   "outputs": [],
   "source": [
    "procedures_cleaned_df.write.mode(\"overwrite\").format(\"delta\").saveAsTable(\"healthcare_processed.medical_procedures\")\n",
    "\n",
    "# Write to cloud storage\n",
    "procedures_cleaned_df.write.mode(\"overwrite\").parquet(f\"abfss://source@projectadf1.dfs.core.windows.net/medical_procedures\")\n"
   ]
  },
  {
   "cell_type": "code",
   "execution_count": 0,
   "metadata": {
    "application/vnd.databricks.v1+cell": {
     "cellMetadata": {
      "byteLimit": 2048000,
      "rowLimit": 10000
     },
     "inputWidgets": {},
     "nuid": "ff61f08f-f479-4105-83ce-13ba4e6f7c6f",
     "showTitle": false,
     "tableResultSettingsMap": {},
     "title": ""
    }
   },
   "outputs": [],
   "source": [
    "dbutils.notebook.exit(\"Success\")"
   ]
  }
 ],
 "metadata": {
  "application/vnd.databricks.v1+notebook": {
   "computePreferences": null,
   "dashboards": [],
   "environmentMetadata": null,
   "inputWidgetPreferences": null,
   "language": "python",
   "notebookMetadata": {
    "pythonIndentUnit": 4
   },
   "notebookName": "ingest_medical_procedure",
   "widgets": {}
  },
  "language_info": {
   "name": "python"
  }
 },
 "nbformat": 4,
 "nbformat_minor": 0
}
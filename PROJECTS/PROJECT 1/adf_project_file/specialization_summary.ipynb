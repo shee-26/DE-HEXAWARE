{
 "cells": [
  {
   "cell_type": "code",
   "execution_count": 0,
   "metadata": {
    "application/vnd.databricks.v1+cell": {
     "cellMetadata": {
      "byteLimit": 2048000,
      "rowLimit": 10000
     },
     "inputWidgets": {},
     "nuid": "8b58a765-9dd4-4153-8ba5-6f21447b082d",
     "showTitle": false,
     "tableResultSettingsMap": {},
     "title": ""
    }
   },
   "outputs": [],
   "source": [
    "spark.conf.set(\n",
    "    \"fs.azure.account.key.projectadf1.dfs.core.windows.net\",\n",
    "    \"CSiXNWhibZG0fqyBMd04Qn4++bAtOoS+HwZt5IWin/Pk9UrUimppMcGnXCzGUICGV/PCey4nuGzs+AStQ5MAfQ==\")"
   ]
  },
  {
   "cell_type": "markdown",
   "metadata": {
    "application/vnd.databricks.v1+cell": {
     "cellMetadata": {
      "byteLimit": 2048000,
      "rowLimit": 10000
     },
     "inputWidgets": {},
     "nuid": "4b972c87-ab84-4d26-a9a2-663004510768",
     "showTitle": false,
     "tableResultSettingsMap": {},
     "title": ""
    }
   },
   "source": [
    "## Read required processed data"
   ]
  },
  {
   "cell_type": "code",
   "execution_count": 0,
   "metadata": {
    "application/vnd.databricks.v1+cell": {
     "cellMetadata": {
      "byteLimit": 2048000,
      "rowLimit": 10000
     },
     "inputWidgets": {},
     "nuid": "48cf0fc1-ae58-4df0-a587-06e817c6fdb1",
     "showTitle": false,
     "tableResultSettingsMap": {},
     "title": ""
    }
   },
   "outputs": [],
   "source": [
    "appointments_df = spark.read.format(\"parquet\").load(f\"abfss://source@projectadf1.dfs.core.windows.net/appointments\")\n",
    "doctors_df = spark.read.format(\"parquet\").load(f\"abfss://source@projectadf1.dfs.core.windows.net/doctors\")\n",
    "billing_df = spark.read.format(\"parquet\").load(f\"abfss://source@projectadf1.dfs.core.windows.net/billing\")"
   ]
  },
  {
   "cell_type": "markdown",
   "metadata": {
    "application/vnd.databricks.v1+cell": {
     "cellMetadata": {
      "byteLimit": 2048000,
      "rowLimit": 10000
     },
     "inputWidgets": {},
     "nuid": "4a799d3e-b2c6-42cb-a8a0-fe29176a3225",
     "showTitle": false,
     "tableResultSettingsMap": {},
     "title": ""
    }
   },
   "source": [
    "## Show schema to confirm column names"
   ]
  },
  {
   "cell_type": "code",
   "execution_count": 0,
   "metadata": {
    "application/vnd.databricks.v1+cell": {
     "cellMetadata": {
      "byteLimit": 2048000,
      "rowLimit": 10000
     },
     "inputWidgets": {},
     "nuid": "f547d1a1-d37d-4371-af68-c713ab773bd1",
     "showTitle": false,
     "tableResultSettingsMap": {},
     "title": ""
    }
   },
   "outputs": [
    {
     "output_type": "stream",
     "name": "stdout",
     "output_type": "stream",
     "text": [
      "root\n |-- appointment_id: integer (nullable = true)\n |-- appointment_timestamp: timestamp (nullable = true)\n |-- appointment_date: date (nullable = true)\n |-- appointment_year: string (nullable = true)\n |-- appointment_month: string (nullable = true)\n |-- appointment_day: integer (nullable = true)\n |-- patient_id: integer (nullable = true)\n |-- doctor_id: integer (nullable = true)\n |-- ingestion_date: timestamp (nullable = true)\n\nroot\n |-- invoice_id: integer (nullable = true)\n |-- patient_id: integer (nullable = true)\n |-- items: string (nullable = true)\n |-- amount: double (nullable = true)\n\n"
     ]
    }
   ],
   "source": [
    "appointments_df.printSchema()\n",
    "billing_df.printSchema()"
   ]
  },
  {
   "cell_type": "markdown",
   "metadata": {
    "application/vnd.databricks.v1+cell": {
     "cellMetadata": {
      "byteLimit": 2048000,
      "rowLimit": 10000
     },
     "inputWidgets": {},
     "nuid": "1f2f6601-48b6-4c65-bd74-2320d338fd15",
     "showTitle": false,
     "tableResultSettingsMap": {},
     "title": ""
    }
   },
   "source": [
    "## Transformation 1: Number of doctors in each specialization"
   ]
  },
  {
   "cell_type": "code",
   "execution_count": 0,
   "metadata": {
    "application/vnd.databricks.v1+cell": {
     "cellMetadata": {
      "byteLimit": 2048000,
      "rowLimit": 10000
     },
     "inputWidgets": {},
     "nuid": "79c48f66-a715-429b-b9b6-548ab53bf9bd",
     "showTitle": false,
     "tableResultSettingsMap": {},
     "title": ""
    }
   },
   "outputs": [
    {
     "output_type": "stream",
     "name": "stdout",
     "output_type": "stream",
     "text": [
      "Number of doctors per specialization:\n+--------------------+-----------------+\n|      specialization|number_of_doctors|\n+--------------------+-----------------+\n|          cardiology|               23|\n|  infectious disease|               37|\n|        geriatrician|               20|\n|    gastroenterology|               33|\n|          psychiatry|               20|\n|critical care med...|               15|\n|  emergency medicine|               31|\n|       ophthalmology|               25|\n|      pulmonologists|               27|\n|          nephrology|               26|\n|     endocrinologist|               21|\n|   otolaryngologists|               32|\n|           neurology|               24|\n|     family medicine|               19|\n|          allergists|               28|\n|          internists|               28|\n|obstetric anesthe...|               24|\n|         dermatology|               29|\n|           radiology|               21|\n|      anesthesiology|               25|\n+--------------------+-----------------+\nonly showing top 20 rows\n\n"
     ]
    }
   ],
   "source": [
    "# Transformation 1: Number of doctors in each specialization\n",
    "from pyspark.sql.functions import count\n",
    "doctors_per_specialization = doctors_df.groupBy(\"specialization\").agg(\n",
    "count(\"doctor_id\").alias(\"number_of_doctors\")\n",
    ")\n",
    "print(\"Number of doctors per specialization:\")\n",
    "doctors_per_specialization.show()"
   ]
  },
  {
   "cell_type": "markdown",
   "metadata": {
    "application/vnd.databricks.v1+cell": {
     "cellMetadata": {
      "byteLimit": 2048000,
      "rowLimit": 10000
     },
     "inputWidgets": {},
     "nuid": "07548f74-be55-46f4-9a25-f9398ec14304",
     "showTitle": false,
     "tableResultSettingsMap": {},
     "title": ""
    }
   },
   "source": [
    "## Transformation 2: Revenue per year by doctor and specialization\n"
   ]
  },
  {
   "cell_type": "code",
   "execution_count": 0,
   "metadata": {
    "application/vnd.databricks.v1+cell": {
     "cellMetadata": {
      "byteLimit": 2048000,
      "rowLimit": 10000
     },
     "inputWidgets": {},
     "nuid": "bc600a16-7f4b-4480-acc5-8d582837b507",
     "showTitle": false,
     "tableResultSettingsMap": {},
     "title": ""
    }
   },
   "outputs": [
    {
     "output_type": "stream",
     "name": "stdout",
     "output_type": "stream",
     "text": [
      "Revenue by doctor and year:\n+---------+-----------+--------------------+----------------+--------------+\n|doctor_id|doctor_name|      specialization|appointment_year|yearly_revenue|\n+---------+-----------+--------------------+----------------+--------------+\n|      667|     Gloria|        geriatrician|            2023|     4035149.0|\n|      801|     Brooks|         dermatology|            2023|     3436703.0|\n|      452|      Minne|critical care med...|            2023|     3436703.0|\n|      189|        Max|     family medicine|            2023|     3283643.0|\n|      639|     Arabel|          pediatrics|            2023|     2618062.0|\n|      262|       Maye|      pulmonologists|            2023|     2382142.0|\n|      170|   Quintina|          oncologist|            2023|     2281671.0|\n|      975|     Hettie|          allergists|            2023|     2173939.0|\n|      997|   Georgina|obstetric anesthe...|            2023|     2037322.0|\n|      692|     Nariko|          internists|            2023|     1889420.0|\n|      300|     Roxane|     endocrinologist|            2023|     1889420.0|\n|      308|    Glynnis|           neurology|            2023|     1889128.0|\n|      558|    Adriana|       ophthalmology|            2023|     1879878.0|\n|      877|      Vevay|  emergency medicine|            2023|     1791430.0|\n|      947|      Allis|     endocrinologist|            2023|     1657795.0|\n|      951|  Priscilla|obstetric anesthe...|            2023|     1590102.0|\n|      530|     Jeanna|critical care med...|            2023|     1501693.0|\n|      943|       Doro|obstetric anesthe...|            2023|     1437505.0|\n|      479|  Madeleine|critical care med...|            2023|     1318526.0|\n|      420| Anestassia|     family medicine|            2023|     1285050.0|\n+---------+-----------+--------------------+----------------+--------------+\nonly showing top 20 rows\n\n"
     ]
    }
   ],
   "source": [
    "from pyspark.sql.functions import sum, col\n",
    "\n",
    "# Join billing with appointments using patient_id to get doctor_id and year, then with doctors for specialization\n",
    "revenue_by_doctor_year = billing_df.join(\n",
    "    appointments_df.select(\"patient_id\", \"doctor_id\", \"appointment_year\"),\n",
    "    \"patient_id\",\n",
    "    \"inner\"\n",
    ").join(\n",
    "    doctors_df.select(\"doctor_id\", \"doctor_name\", \"specialization\"),\n",
    "    \"doctor_id\",\n",
    "    \"inner\"\n",
    ").groupBy(\"doctor_id\", \"doctor_name\", \"specialization\", \"appointment_year\").agg(\n",
    "    sum(\"amount\").alias(\"yearly_revenue\")\n",
    ")\n",
    "\n",
    "print(\"Revenue by doctor and year:\")\n",
    "revenue_by_doctor_year.orderBy(\"appointment_year\", \"yearly_revenue\", ascending=False).show()"
   ]
  },
  {
   "cell_type": "markdown",
   "metadata": {
    "application/vnd.databricks.v1+cell": {
     "cellMetadata": {
      "byteLimit": 2048000,
      "rowLimit": 10000
     },
     "inputWidgets": {},
     "nuid": "ddec2a1a-e41f-4372-8406-c6c7a98891ee",
     "showTitle": false,
     "tableResultSettingsMap": {},
     "title": ""
    }
   },
   "source": [
    "## Transformation 3: Total revenue for each doctor by year\n"
   ]
  },
  {
   "cell_type": "code",
   "execution_count": 0,
   "metadata": {
    "application/vnd.databricks.v1+cell": {
     "cellMetadata": {
      "byteLimit": 2048000,
      "rowLimit": 10000
     },
     "inputWidgets": {},
     "nuid": "918b8fb3-1bc2-437d-8ff0-880a2337b11b",
     "showTitle": false,
     "tableResultSettingsMap": {},
     "title": ""
    }
   },
   "outputs": [
    {
     "output_type": "stream",
     "name": "stdout",
     "output_type": "stream",
     "text": [
      "Total revenue per doctor by year:\n+---------+-----------+--------------------+----------------+--------------------+\n|doctor_id|doctor_name|      specialization|appointment_year|total_yearly_revenue|\n+---------+-----------+--------------------+----------------+--------------------+\n|      667|     Gloria|        geriatrician|            2023|           4035149.0|\n|      801|     Brooks|         dermatology|            2023|           3436703.0|\n|      452|      Minne|critical care med...|            2023|           3436703.0|\n|      189|        Max|     family medicine|            2023|           3283643.0|\n|      639|     Arabel|          pediatrics|            2023|           2618062.0|\n|      262|       Maye|      pulmonologists|            2023|           2382142.0|\n|      170|   Quintina|          oncologist|            2023|           2281671.0|\n|      975|     Hettie|          allergists|            2023|           2173939.0|\n|      997|   Georgina|obstetric anesthe...|            2023|           2037322.0|\n|      692|     Nariko|          internists|            2023|           1889420.0|\n|      300|     Roxane|     endocrinologist|            2023|           1889420.0|\n|      308|    Glynnis|           neurology|            2023|           1889128.0|\n|      558|    Adriana|       ophthalmology|            2023|           1879878.0|\n|      877|      Vevay|  emergency medicine|            2023|           1791430.0|\n|      947|      Allis|     endocrinologist|            2023|           1657795.0|\n|      951|  Priscilla|obstetric anesthe...|            2023|           1590102.0|\n|      530|     Jeanna|critical care med...|            2023|           1501693.0|\n|      943|       Doro|obstetric anesthe...|            2023|           1437505.0|\n|      479|  Madeleine|critical care med...|            2023|           1318526.0|\n|      420| Anestassia|     family medicine|            2023|           1285050.0|\n+---------+-----------+--------------------+----------------+--------------------+\nonly showing top 20 rows\n\n"
     ]
    }
   ],
   "source": [
    "total_revenue_by_doctor_year = revenue_by_doctor_year.groupBy(\"doctor_id\", \"doctor_name\", \"specialization\", \"appointment_year\").agg(\n",
    "    sum(\"yearly_revenue\").alias(\"total_yearly_revenue\")\n",
    ")\n",
    "\n",
    "print(\"Total revenue per doctor by year:\")\n",
    "total_revenue_by_doctor_year.orderBy(\"appointment_year\", \"total_yearly_revenue\", ascending=False).show()"
   ]
  },
  {
   "cell_type": "markdown",
   "metadata": {
    "application/vnd.databricks.v1+cell": {
     "cellMetadata": {
      "byteLimit": 2048000,
      "rowLimit": 10000
     },
     "inputWidgets": {},
     "nuid": "425f0985-d92d-4451-b708-da7a671b8c64",
     "showTitle": false,
     "tableResultSettingsMap": {},
     "title": ""
    }
   },
   "source": [
    "## Transformation 4: Yearly specilization count for each year"
   ]
  },
  {
   "cell_type": "code",
   "execution_count": 0,
   "metadata": {
    "application/vnd.databricks.v1+cell": {
     "cellMetadata": {
      "byteLimit": 2048000,
      "rowLimit": 10000
     },
     "inputWidgets": {},
     "nuid": "3827c9b4-4e02-4a3e-85bf-8d677beffcac",
     "showTitle": false,
     "tableResultSettingsMap": {},
     "title": ""
    }
   },
   "outputs": [
    {
     "output_type": "stream",
     "name": "stdout",
     "output_type": "stream",
     "text": [
      "Yearly appointment count per specialization:\n+--------------------+--------+------------------------+\n|      specialization|year_int|yearly_appointment_count|\n+--------------------+--------+------------------------+\n|     endocrinologist|    2023|                       7|\n|          oncologist|    2023|                       6|\n|       ophthalmology|    2023|                       6|\n|          nephrology|    2023|                       5|\n|          allergists|    2023|                       5|\n|obstetric anesthe...|    2023|                       5|\n|  infectious disease|    2023|                       5|\n|          pediatrics|    2023|                       5|\n|         dermatology|    2023|                       5|\n|      anesthesiology|    2023|                       5|\n|        geriatrician|    2023|                       5|\n|          cardiology|    2023|                       4|\n|critical care med...|    2023|                       4|\n|  emergency medicine|    2023|                       4|\n|          internists|    2023|                       4|\n|      pulmonologists|    2023|                       4|\n|           neurology|    2023|                       4|\n|    gastroenterology|    2023|                       3|\n|   otolaryngologists|    2023|                       2|\n|           radiology|    2023|                       2|\n+--------------------+--------+------------------------+\nonly showing top 20 rows\n\n"
     ]
    }
   ],
   "source": [
    "from pyspark.sql.functions import col, count\n",
    "\n",
    "# Ensure year is integer\n",
    "appointments_clean = appointments_df.withColumn(\n",
    "    \"year_int\", col(\"appointment_year\").cast(\"int\")\n",
    ")\n",
    "\n",
    "# Join with doctors to bring specialization info\n",
    "yearly_specialization_appointments = (\n",
    "    appointments_clean.join(\n",
    "        doctors_df.select(\"doctor_id\", \"specialization\"),\n",
    "        \"doctor_id\",\n",
    "        \"inner\"\n",
    "    )\n",
    "    .groupBy(\"specialization\", \"year_int\")\n",
    "    .agg(count(\"appointment_id\").alias(\"yearly_appointment_count\"))\n",
    "    .orderBy(\"year_int\", \"yearly_appointment_count\", ascending=False)\n",
    ")\n",
    "\n",
    "print(\"Yearly appointment count per specialization:\")\n",
    "yearly_specialization_appointments.show()\n"
   ]
  },
  {
   "cell_type": "code",
   "execution_count": 0,
   "metadata": {
    "application/vnd.databricks.v1+cell": {
     "cellMetadata": {
      "byteLimit": 2048000,
      "rowLimit": 10000
     },
     "inputWidgets": {},
     "nuid": "f49079bb-8c78-45bd-880b-61020ce433ba",
     "showTitle": false,
     "tableResultSettingsMap": {},
     "title": ""
    }
   },
   "outputs": [
    {
     "output_type": "stream",
     "name": "stdout",
     "output_type": "stream",
     "text": [
      "Range of yearly specialization appointment counts:\n+---------+---------+-----------------+\n|min_count|max_count|        avg_count|\n+---------+---------+-----------------+\n|        1|        9|4.252631578947368|\n+---------+---------+-----------------+\n\n"
     ]
    }
   ],
   "source": [
    "from pyspark.sql.functions import min, max, avg\n",
    "\n",
    "yearly_stats = yearly_specialization_appointments.agg(\n",
    "    min(\"yearly_appointment_count\").alias(\"min_count\"),\n",
    "    max(\"yearly_appointment_count\").alias(\"max_count\"),\n",
    "    avg(\"yearly_appointment_count\").alias(\"avg_count\")\n",
    ")\n",
    "\n",
    "print(\"Range of yearly specialization appointment counts:\")\n",
    "yearly_stats.show()\n"
   ]
  },
  {
   "cell_type": "code",
   "execution_count": 0,
   "metadata": {
    "application/vnd.databricks.v1+cell": {
     "cellMetadata": {
      "byteLimit": 2048000,
      "rowLimit": 10000
     },
     "inputWidgets": {},
     "nuid": "1ab00920-e6ba-4988-8461-a3c28a74bab0",
     "showTitle": false,
     "tableResultSettingsMap": {},
     "title": ""
    }
   },
   "outputs": [],
   "source": [
    "from pyspark.sql.functions import when\n",
    "\n",
    "# Join with doctors to bring specialization info\n",
    "specialization_demand_yearly = (\n",
    "    yearly_specialization_appointments.groupBy(\"specialization\")\n",
    "    .agg(avg(\"yearly_appointment_count\").alias(\"avg_yearly_appointments\"))\n",
    "    .withColumn(\n",
    "        \"specialization_demand_level\",\n",
    "        when(\n",
    "            (col(\"avg_yearly_appointments\") >= 5.5), \"High Demand\"\n",
    "        )\n",
    "        .when(\n",
    "            (col(\"avg_yearly_appointments\") >= 4.25) & (col(\"avg_yearly_appointments\") < 5.5),\n",
    "            \"Medium Demand\"\n",
    "        )\n",
    "        .otherwise(\"Low Demand\")\n",
    "    )\n",
    ")\n"
   ]
  },
  {
   "cell_type": "code",
   "execution_count": 0,
   "metadata": {
    "application/vnd.databricks.v1+cell": {
     "cellMetadata": {
      "byteLimit": 2048000,
      "rowLimit": 10000
     },
     "inputWidgets": {},
     "nuid": "1fb3287d-c3d7-4ff7-bf51-e5ae49d6b457",
     "showTitle": false,
     "tableResultSettingsMap": {},
     "title": ""
    }
   },
   "outputs": [
    {
     "output_type": "display_data",
     "data": {
      "text/html": [
       "<style scoped>\n",
       "  .table-result-container {\n",
       "    max-height: 300px;\n",
       "    overflow: auto;\n",
       "  }\n",
       "  table, th, td {\n",
       "    border: 1px solid black;\n",
       "    border-collapse: collapse;\n",
       "  }\n",
       "  th, td {\n",
       "    padding: 5px;\n",
       "  }\n",
       "  th {\n",
       "    text-align: left;\n",
       "  }\n",
       "</style><div class='table-result-container'><table class='table-result'><thead style='background-color: white'><tr><th>specialization</th><th>avg_yearly_appointments</th><th>specialization_demand_level</th></tr></thead><tbody><tr><td>cardiology</td><td>3.5</td><td>Low Demand</td></tr><tr><td>infectious disease</td><td>6.25</td><td>High Demand</td></tr><tr><td>geriatrician</td><td>4.5</td><td>Medium Demand</td></tr><tr><td>gastroenterology</td><td>5.75</td><td>High Demand</td></tr><tr><td>psychiatry</td><td>3.0</td><td>Low Demand</td></tr><tr><td>critical care medicine</td><td>2.75</td><td>Low Demand</td></tr><tr><td>emergency medicine</td><td>5.0</td><td>Medium Demand</td></tr><tr><td>ophthalmology</td><td>5.25</td><td>Medium Demand</td></tr><tr><td>pulmonologists</td><td>5.0</td><td>Medium Demand</td></tr><tr><td>nephrology</td><td>3.75</td><td>Low Demand</td></tr><tr><td>endocrinologist</td><td>3.25</td><td>Low Demand</td></tr><tr><td>otolaryngologists</td><td>5.25</td><td>Medium Demand</td></tr><tr><td>neurology</td><td>4.0</td><td>Low Demand</td></tr><tr><td>family medicine</td><td>2.0</td><td>Low Demand</td></tr><tr><td>allergists</td><td>4.0</td><td>Low Demand</td></tr><tr><td>internists</td><td>5.25</td><td>Medium Demand</td></tr><tr><td>obstetric anesthesiologists</td><td>4.25</td><td>Medium Demand</td></tr><tr><td>dermatology</td><td>5.75</td><td>High Demand</td></tr><tr><td>radiology</td><td>3.75</td><td>Low Demand</td></tr><tr><td>anesthesiology</td><td>3.75</td><td>Low Demand</td></tr><tr><td>hospice and palliative care</td><td>1.75</td><td>Low Demand</td></tr><tr><td>oncologist</td><td>6.0</td><td>High Demand</td></tr><tr><td>surgery</td><td>4.666666666666667</td><td>Medium Demand</td></tr><tr><td>pediatrics</td><td>3.75</td><td>Low Demand</td></tr></tbody></table></div>"
      ]
     },
     "metadata": {
      "application/vnd.databricks.v1+output": {
       "addedWidgets": {},
       "aggData": [],
       "aggError": "",
       "aggOverflow": false,
       "aggSchema": [],
       "aggSeriesLimitReached": false,
       "aggType": "",
       "arguments": {},
       "columnCustomDisplayInfos": {},
       "data": [
        [
         "cardiology",
         3.5,
         "Low Demand"
        ],
        [
         "infectious disease",
         6.25,
         "High Demand"
        ],
        [
         "geriatrician",
         4.5,
         "Medium Demand"
        ],
        [
         "gastroenterology",
         5.75,
         "High Demand"
        ],
        [
         "psychiatry",
         3.0,
         "Low Demand"
        ],
        [
         "critical care medicine",
         2.75,
         "Low Demand"
        ],
        [
         "emergency medicine",
         5.0,
         "Medium Demand"
        ],
        [
         "ophthalmology",
         5.25,
         "Medium Demand"
        ],
        [
         "pulmonologists",
         5.0,
         "Medium Demand"
        ],
        [
         "nephrology",
         3.75,
         "Low Demand"
        ],
        [
         "endocrinologist",
         3.25,
         "Low Demand"
        ],
        [
         "otolaryngologists",
         5.25,
         "Medium Demand"
        ],
        [
         "neurology",
         4.0,
         "Low Demand"
        ],
        [
         "family medicine",
         2.0,
         "Low Demand"
        ],
        [
         "allergists",
         4.0,
         "Low Demand"
        ],
        [
         "internists",
         5.25,
         "Medium Demand"
        ],
        [
         "obstetric anesthesiologists",
         4.25,
         "Medium Demand"
        ],
        [
         "dermatology",
         5.75,
         "High Demand"
        ],
        [
         "radiology",
         3.75,
         "Low Demand"
        ],
        [
         "anesthesiology",
         3.75,
         "Low Demand"
        ],
        [
         "hospice and palliative care",
         1.75,
         "Low Demand"
        ],
        [
         "oncologist",
         6.0,
         "High Demand"
        ],
        [
         "surgery",
         4.666666666666667,
         "Medium Demand"
        ],
        [
         "pediatrics",
         3.75,
         "Low Demand"
        ]
       ],
       "datasetInfos": [],
       "dbfsResultPath": null,
       "isJsonSchema": true,
       "metadata": {},
       "overflow": false,
       "plotOptions": {
        "customPlotOptions": {},
        "displayType": "table",
        "pivotAggregation": null,
        "pivotColumns": null,
        "xColumns": null,
        "yColumns": null
       },
       "removedWidgets": [],
       "schema": [
        {
         "metadata": "{}",
         "name": "specialization",
         "type": "\"string\""
        },
        {
         "metadata": "{}",
         "name": "avg_yearly_appointments",
         "type": "\"double\""
        },
        {
         "metadata": "{}",
         "name": "specialization_demand_level",
         "type": "\"string\""
        }
       ],
       "type": "table"
      }
     },
     "output_type": "display_data"
    }
   ],
   "source": [
    "specialization_demand_yearly.display()"
   ]
  },
  {
   "cell_type": "markdown",
   "metadata": {
    "application/vnd.databricks.v1+cell": {
     "cellMetadata": {
      "byteLimit": 2048000,
      "rowLimit": 10000
     },
     "inputWidgets": {},
     "nuid": "4c88de4c-7e0b-454e-aea8-2a18c0c95275",
     "showTitle": false,
     "tableResultSettingsMap": {},
     "title": ""
    }
   },
   "source": [
    "## Transformation 5: Yearly revenue trend for each specialization\n"
   ]
  },
  {
   "cell_type": "code",
   "execution_count": 0,
   "metadata": {
    "application/vnd.databricks.v1+cell": {
     "cellMetadata": {
      "byteLimit": 2048000,
      "rowLimit": 10000
     },
     "inputWidgets": {},
     "nuid": "48b40a55-007d-4dc7-8430-5b69cd685fbc",
     "showTitle": false,
     "tableResultSettingsMap": {},
     "title": ""
    }
   },
   "outputs": [
    {
     "output_type": "stream",
     "name": "stdout",
     "output_type": "stream",
     "text": [
      "Specialization revenue trend:\n+--------------------+----------------+-----------------------------------+-----------------+----------------------+\n|      specialization|appointment_year|total_yearly_revenue_specialization|number_of_doctors|avg_revenue_per_doctor|\n+--------------------+----------------+-----------------------------------+-----------------+----------------------+\n|     endocrinologist|            2023|                          7830487.0|                7|             1118641.0|\n|critical care med...|            2023|                          6256922.0|                3|    2085640.6666666667|\n|obstetric anesthe...|            2023|                          5815321.0|                4|            1453830.25|\n|        geriatrician|            2023|                          4844910.0|                2|             2422455.0|\n|          pediatrics|            2023|                          4644340.0|                3|    1548113.3333333333|\n|     family medicine|            2023|                          4568693.0|                2|             2284346.5|\n|         dermatology|            2023|                          4316799.0|                3|             1438933.0|\n|       ophthalmology|            2023|                          4219545.0|                4|            1054886.25|\n|          allergists|            2023|                          4035233.0|                5|              807046.6|\n|          oncologist|            2023|                          3824928.0|                3|             1274976.0|\n|           neurology|            2023|                          3463635.0|                3|             1154545.0|\n|  emergency medicine|            2023|                          3178864.0|                3|    1059621.3333333333|\n|          internists|            2023|                          3150301.0|                3|    1050100.3333333333|\n|      pulmonologists|            2023|                          2920806.0|                2|             1460403.0|\n|      anesthesiology|            2023|                          2453069.0|                3|     817689.6666666666|\n|  infectious disease|            2023|                          2136485.0|                4|             534121.25|\n|    gastroenterology|            2023|                          1990879.0|                3|     663626.3333333334|\n|          nephrology|            2023|                          1475604.0|                3|              491868.0|\n|          psychiatry|            2023|                          1192206.0|                1|             1192206.0|\n|hospice and palli...|            2023|                           654032.0|                1|              654032.0|\n+--------------------+----------------+-----------------------------------+-----------------+----------------------+\nonly showing top 20 rows\n\n"
     ]
    }
   ],
   "source": [
    "# Transformation 8: Yearly revenue trend for each specialization\n",
    "specialization_revenue_trend = revenue_by_doctor_year.groupBy(\"specialization\", \"appointment_year\").agg(\n",
    "    sum(\"yearly_revenue\").alias(\"total_yearly_revenue_specialization\"),\n",
    "    count(\"doctor_id\").alias(\"number_of_doctors\")\n",
    ").withColumn(\n",
    "    \"avg_revenue_per_doctor\", col(\"total_yearly_revenue_specialization\") / col(\"number_of_doctors\")\n",
    ")\n",
    "\n",
    "print(\"Specialization revenue trend:\")\n",
    "specialization_revenue_trend.orderBy(\"appointment_year\", \"total_yearly_revenue_specialization\", ascending=False).show()"
   ]
  },
  {
   "cell_type": "markdown",
   "metadata": {
    "application/vnd.databricks.v1+cell": {
     "cellMetadata": {
      "byteLimit": 2048000,
      "rowLimit": 10000
     },
     "inputWidgets": {},
     "nuid": "f7f62814-eefc-4213-b318-b2af5475fc17",
     "showTitle": false,
     "tableResultSettingsMap": {},
     "title": ""
    }
   },
   "source": [
    "## Which specialization has the highest workload"
   ]
  },
  {
   "cell_type": "code",
   "execution_count": 0,
   "metadata": {
    "application/vnd.databricks.v1+cell": {
     "cellMetadata": {
      "byteLimit": 2048000,
      "rowLimit": 10000
     },
     "inputWidgets": {},
     "nuid": "83df6dd7-6e02-400a-8cc8-b838e3be6324",
     "showTitle": false,
     "tableResultSettingsMap": {},
     "title": ""
    }
   },
   "outputs": [
    {
     "output_type": "stream",
     "name": "stdout",
     "output_type": "stream",
     "text": [
      "+--------------------+------------------+\n|      specialization|total_appointments|\n+--------------------+------------------+\n|  infectious disease|                25|\n|          oncologist|                24|\n|    gastroenterology|                23|\n|         dermatology|                23|\n|       ophthalmology|                21|\n|   otolaryngologists|                21|\n|          internists|                21|\n|  emergency medicine|                20|\n|      pulmonologists|                20|\n|        geriatrician|                18|\n|obstetric anesthe...|                17|\n|           neurology|                16|\n|          allergists|                16|\n|          nephrology|                15|\n|           radiology|                15|\n|      anesthesiology|                15|\n|          pediatrics|                15|\n|          cardiology|                14|\n|             surgery|                14|\n|     endocrinologist|                13|\n+--------------------+------------------+\nonly showing top 20 rows\n\n"
     ]
    }
   ],
   "source": [
    "from pyspark.sql.functions import sum\n",
    "\n",
    "specialization_workload = (\n",
    "    yearly_specialization_appointments\n",
    "    .groupBy(\"specialization\")\n",
    "    .agg(sum(\"yearly_appointment_count\").alias(\"total_appointments\"))\n",
    "    .orderBy(\"total_appointments\", ascending=False)\n",
    ")\n",
    "\n",
    "specialization_workload.show()"
   ]
  },
  {
   "cell_type": "code",
   "execution_count": 0,
   "metadata": {
    "application/vnd.databricks.v1+cell": {
     "cellMetadata": {
      "byteLimit": 2048000,
      "rowLimit": 10000
     },
     "inputWidgets": {},
     "nuid": "6b7b51b2-a124-4832-bd8b-cd9853df7509",
     "showTitle": false,
     "tableResultSettingsMap": {},
     "title": ""
    }
   },
   "outputs": [
    {
     "output_type": "stream",
     "name": "stdout",
     "output_type": "stream",
     "text": [
      "Specialization Workload Classification:\n+---------------------------+------------------+---------------+\n|specialization             |total_appointments|workload_level |\n+---------------------------+------------------+---------------+\n|infectious disease         |25                |High Workload  |\n|oncologist                 |24                |High Workload  |\n|gastroenterology           |23                |High Workload  |\n|dermatology                |23                |High Workload  |\n|ophthalmology              |21                |Medium Workload|\n|otolaryngologists          |21                |Medium Workload|\n|internists                 |21                |Medium Workload|\n|emergency medicine         |20                |Medium Workload|\n|pulmonologists             |20                |Medium Workload|\n|geriatrician               |18                |Medium Workload|\n|obstetric anesthesiologists|17                |Medium Workload|\n|neurology                  |16                |Low Workload   |\n|allergists                 |16                |Low Workload   |\n|nephrology                 |15                |Low Workload   |\n|radiology                  |15                |Low Workload   |\n|anesthesiology             |15                |Low Workload   |\n|pediatrics                 |15                |Low Workload   |\n|cardiology                 |14                |Low Workload   |\n|surgery                    |14                |Low Workload   |\n|endocrinologist            |13                |Low Workload   |\n+---------------------------+------------------+---------------+\nonly showing top 20 rows\n\n"
     ]
    }
   ],
   "source": [
    "from pyspark.sql.functions import when, col\n",
    "\n",
    "specialization_workload_classified = (\n",
    "    specialization_workload\n",
    "    .withColumn(\n",
    "        \"workload_level\",\n",
    "        when(col(\"total_appointments\") >= 22, \"High Workload\")\n",
    "        .when((col(\"total_appointments\") >= 17) & (col(\"total_appointments\") < 22), \"Medium Workload\")\n",
    "        .otherwise(\"Low Workload\")\n",
    "    )\n",
    "    .orderBy(\"total_appointments\", ascending=False)\n",
    ")\n",
    "\n",
    "print(\"Specialization Workload Classification:\")\n",
    "specialization_workload_classified.show(truncate=False)\n"
   ]
  },
  {
   "cell_type": "markdown",
   "metadata": {
    "application/vnd.databricks.v1+cell": {
     "cellMetadata": {
      "byteLimit": 2048000,
      "rowLimit": 10000
     },
     "inputWidgets": {},
     "nuid": "5218996f-248a-4997-ad2c-b3bc562b7a9e",
     "showTitle": false,
     "tableResultSettingsMap": {},
     "title": ""
    }
   },
   "source": [
    "## Find the most common procedure"
   ]
  },
  {
   "cell_type": "code",
   "execution_count": 0,
   "metadata": {
    "application/vnd.databricks.v1+cell": {
     "cellMetadata": {
      "byteLimit": 2048000,
      "rowLimit": 10000
     },
     "inputWidgets": {},
     "nuid": "da6f151a-94c0-4093-b35f-0476b1e288c5",
     "showTitle": false,
     "tableResultSettingsMap": {},
     "title": ""
    }
   },
   "outputs": [],
   "source": [
    "procedures_df = spark.read.format(\"parquet\").load(f\"abfss://source@projectadf1.dfs.core.windows.net/medical_procedures\")"
   ]
  },
  {
   "cell_type": "code",
   "execution_count": 0,
   "metadata": {
    "application/vnd.databricks.v1+cell": {
     "cellMetadata": {
      "byteLimit": 2048000,
      "rowLimit": 10000
     },
     "inputWidgets": {},
     "nuid": "6b79422b-b942-419a-a738-f10c61450966",
     "showTitle": false,
     "tableResultSettingsMap": {},
     "title": ""
    }
   },
   "outputs": [
    {
     "output_type": "stream",
     "name": "stdout",
     "output_type": "stream",
     "text": [
      "+--------------------+---------------+\n|      procedure_name|procedure_count|\n+--------------------+---------------+\n|X-rays, Ct Scans,...|             26|\n|Coronary Artery B...|             25|\n|Comprehensive Ger...|             24|\n|Interventional Ra...|             23|\n|Laser Therapy For...|             22|\n|Sedation For Mino...|             22|\n|     General Surgery|             22|\n|Dermatologic Surgery|             22|\n|    Cataract Surgery|             21|\n|Intensive Care Ma...|             21|\n|         Colonoscopy|             21|\n|     Allergy Testing|             21|\n|           Endoscopy|             21|\n|Advanced Cardiac ...|             21|\n|Immunotherapy (al...|             20|\n|        Liver Biopsy|             20|\n|         Rhinoplasty|             19|\n|   Surgical Oncology|             19|\n|Medication Manage...|             19|\n|Hormone Replaceme...|             18|\n+--------------------+---------------+\nonly showing top 20 rows\n\n"
     ]
    }
   ],
   "source": [
    "from pyspark.sql.functions import count\n",
    "\n",
    "common_procedure = (\n",
    "    procedures_df\n",
    "    .groupBy(\"procedure_name\")\n",
    "    .agg(count(\"*\").alias(\"procedure_count\"))\n",
    "    .orderBy(\"procedure_count\", ascending=False)\n",
    ")\n",
    "\n",
    "common_procedure.show()\n"
   ]
  },
  {
   "cell_type": "markdown",
   "metadata": {
    "application/vnd.databricks.v1+cell": {
     "cellMetadata": {
      "byteLimit": 2048000,
      "rowLimit": 10000
     },
     "inputWidgets": {},
     "nuid": "59b8de11-9d2e-4db5-b701-78617e56ca43",
     "showTitle": false,
     "tableResultSettingsMap": {},
     "title": ""
    }
   },
   "source": [
    "##Rank by specialization "
   ]
  },
  {
   "cell_type": "code",
   "execution_count": 0,
   "metadata": {
    "application/vnd.databricks.v1+cell": {
     "cellMetadata": {
      "byteLimit": 2048000,
      "rowLimit": 10000
     },
     "inputWidgets": {},
     "nuid": "c47251e0-ea5c-4faf-ae22-820333cbf6aa",
     "showTitle": false,
     "tableResultSettingsMap": {},
     "title": ""
    }
   },
   "outputs": [
    {
     "output_type": "display_data",
     "data": {
      "text/html": [
       "<style scoped>\n",
       "  .table-result-container {\n",
       "    max-height: 300px;\n",
       "    overflow: auto;\n",
       "  }\n",
       "  table, th, td {\n",
       "    border: 1px solid black;\n",
       "    border-collapse: collapse;\n",
       "  }\n",
       "  th, td {\n",
       "    padding: 5px;\n",
       "  }\n",
       "  th {\n",
       "    text-align: left;\n",
       "  }\n",
       "</style><div class='table-result-container'><table class='table-result'><thead style='background-color: white'><tr><th>doctor_id</th><th>total_revenue</th><th>doctor_name</th><th>specialization</th><th>specialization_rank</th></tr></thead><tbody><tr><td>975</td><td>2173939.0</td><td>Hettie</td><td>allergists</td><td>1</td></tr><tr><td>619</td><td>1987601.0</td><td>Shannah</td><td>allergists</td><td>2</td></tr><tr><td>430</td><td>1691230.0</td><td>Eolanda</td><td>allergists</td><td>3</td></tr><tr><td>742</td><td>908837.0</td><td>Gui</td><td>allergists</td><td>4</td></tr><tr><td>417</td><td>769686.0</td><td>Molli</td><td>allergists</td><td>5</td></tr><tr><td>551</td><td>672878.0</td><td>Morganica</td><td>allergists</td><td>6</td></tr><tr><td>944</td><td>555759.0</td><td>Elena</td><td>allergists</td><td>7</td></tr><tr><td>101</td><td>545986.0</td><td>Mireielle</td><td>allergists</td><td>8</td></tr><tr><td>275</td><td>408017.0</td><td>Danny</td><td>allergists</td><td>9</td></tr><tr><td>925</td><td>366652.0</td><td>Hyacinthe</td><td>allergists</td><td>10</td></tr><tr><td>792</td><td>3680845.0</td><td>Leanna</td><td>anesthesiology</td><td>1</td></tr><tr><td>602</td><td>1050834.0</td><td>Tabbatha</td><td>anesthesiology</td><td>2</td></tr><tr><td>499</td><td>1017914.0</td><td>Karlee</td><td>anesthesiology</td><td>3</td></tr><tr><td>179</td><td>859275.0</td><td>Petronia</td><td>anesthesiology</td><td>4</td></tr><tr><td>807</td><td>794496.0</td><td>Nollie</td><td>anesthesiology</td><td>5</td></tr><tr><td>829</td><td>409394.0</td><td>Molli</td><td>anesthesiology</td><td>6</td></tr><tr><td>237</td><td>1830079.0</td><td>Suzette</td><td>cardiology</td><td>1</td></tr><tr><td>633</td><td>1318526.0</td><td>Laure</td><td>cardiology</td><td>2</td></tr><tr><td>661</td><td>1232251.0</td><td>Darlleen</td><td>cardiology</td><td>3</td></tr><tr><td>254</td><td>545986.0</td><td>Moyna</td><td>cardiology</td><td>4</td></tr></tbody></table></div>"
      ]
     },
     "metadata": {
      "application/vnd.databricks.v1+output": {
       "addedWidgets": {},
       "aggData": [],
       "aggError": "",
       "aggOverflow": false,
       "aggSchema": [],
       "aggSeriesLimitReached": false,
       "aggType": "",
       "arguments": {},
       "columnCustomDisplayInfos": {},
       "data": [
        [
         975,
         2173939.0,
         "Hettie",
         "allergists",
         1
        ],
        [
         619,
         1987601.0,
         "Shannah",
         "allergists",
         2
        ],
        [
         430,
         1691230.0,
         "Eolanda",
         "allergists",
         3
        ],
        [
         742,
         908837.0,
         "Gui",
         "allergists",
         4
        ],
        [
         417,
         769686.0,
         "Molli",
         "allergists",
         5
        ],
        [
         551,
         672878.0,
         "Morganica",
         "allergists",
         6
        ],
        [
         944,
         555759.0,
         "Elena",
         "allergists",
         7
        ],
        [
         101,
         545986.0,
         "Mireielle",
         "allergists",
         8
        ],
        [
         275,
         408017.0,
         "Danny",
         "allergists",
         9
        ],
        [
         925,
         366652.0,
         "Hyacinthe",
         "allergists",
         10
        ],
        [
         792,
         3680845.0,
         "Leanna",
         "anesthesiology",
         1
        ],
        [
         602,
         1050834.0,
         "Tabbatha",
         "anesthesiology",
         2
        ],
        [
         499,
         1017914.0,
         "Karlee",
         "anesthesiology",
         3
        ],
        [
         179,
         859275.0,
         "Petronia",
         "anesthesiology",
         4
        ],
        [
         807,
         794496.0,
         "Nollie",
         "anesthesiology",
         5
        ],
        [
         829,
         409394.0,
         "Molli",
         "anesthesiology",
         6
        ],
        [
         237,
         1830079.0,
         "Suzette",
         "cardiology",
         1
        ],
        [
         633,
         1318526.0,
         "Laure",
         "cardiology",
         2
        ],
        [
         661,
         1232251.0,
         "Darlleen",
         "cardiology",
         3
        ],
        [
         254,
         545986.0,
         "Moyna",
         "cardiology",
         4
        ]
       ],
       "datasetInfos": [],
       "dbfsResultPath": null,
       "isJsonSchema": true,
       "metadata": {},
       "overflow": false,
       "plotOptions": {
        "customPlotOptions": {},
        "displayType": "table",
        "pivotAggregation": null,
        "pivotColumns": null,
        "xColumns": null,
        "yColumns": null
       },
       "removedWidgets": [],
       "schema": [
        {
         "metadata": "{}",
         "name": "doctor_id",
         "type": "\"integer\""
        },
        {
         "metadata": "{}",
         "name": "total_revenue",
         "type": "\"double\""
        },
        {
         "metadata": "{}",
         "name": "doctor_name",
         "type": "\"string\""
        },
        {
         "metadata": "{}",
         "name": "specialization",
         "type": "\"string\""
        },
        {
         "metadata": "{}",
         "name": "specialization_rank",
         "type": "\"integer\""
        }
       ],
       "type": "table"
      }
     },
     "output_type": "display_data"
    }
   ],
   "source": [
    "from pyspark.sql.window import Window\n",
    "from pyspark.sql.functions import rank, col, sum\n",
    "\n",
    "# Base: doctors with career revenue (before joining everything else)\n",
    "doctor_revenue_base = total_revenue_by_doctor_year.groupBy(\"doctor_id\").agg(\n",
    "    sum(\"total_yearly_revenue\").alias(\"total_revenue\")\n",
    ").join(\n",
    "    doctors_df.select(\"doctor_id\", \"doctor_name\", \"specialization\"),\n",
    "    \"doctor_id\",\n",
    "    \"inner\"\n",
    ")\n",
    "\n",
    "# Define ranking window by specialization\n",
    "specialization_rank_window = Window.partitionBy(\"specialization\").orderBy(col(\"total_revenue\").desc())\n",
    "\n",
    "# Add rank column\n",
    "doctor_performance_df = doctor_revenue_base.withColumn(\n",
    "    \"specialization_rank\",\n",
    "    rank().over(specialization_rank_window)\n",
    ")\n",
    "\n",
    "# Preview top 20\n",
    "doctor_performance_df.limit(20).display()\n"
   ]
  },
  {
   "cell_type": "code",
   "execution_count": 0,
   "metadata": {
    "application/vnd.databricks.v1+cell": {
     "cellMetadata": {
      "byteLimit": 2048000,
      "rowLimit": 10000
     },
     "inputWidgets": {},
     "nuid": "9f47b9ec-9bb6-4ea2-9dc9-ff79b2f74ef0",
     "showTitle": false,
     "tableResultSettingsMap": {},
     "title": ""
    }
   },
   "outputs": [],
   "source": [
    "from pyspark.sql.functions import coalesce, lit, sum, current_timestamp\n",
    "\n",
    "# Start with doctor-level base info\n",
    "final_summary_df = doctors_df.select(\n",
    "    \"doctor_id\",\n",
    "    \"doctor_name\",\n",
    "    \"specialization\",\n",
    "    \"contact_info\"\n",
    ")\n",
    "\n",
    "# Skip doctor_total_appointments join since you don’t need it\n",
    "\n",
    "# Join with revenue by year (career total revenue)\n",
    "final_summary_df = final_summary_df.join(\n",
    "    total_revenue_by_doctor_year.groupBy(\"doctor_id\")\n",
    "    .agg(sum(\"total_yearly_revenue\").alias(\"total_revenue\")),\n",
    "    \"doctor_id\",\n",
    "    \"left\"\n",
    ").withColumn(\"total_revenue\", coalesce(col(\"total_revenue\"), lit(0.0)))\n",
    "\n",
    "# Join with specialization demand classification\n",
    "final_summary_df = final_summary_df.join(\n",
    "    specialization_demand_yearly.select(\n",
    "        \"specialization\",\n",
    "        \"specialization_demand_level\"\n",
    "    ),\n",
    "    \"specialization\",\n",
    "    \"left\"\n",
    ").withColumn(\"specialization_demand_level\", coalesce(col(\"specialization_demand_level\"), lit(\"Unknown\")))\n",
    "\n",
    "# Join with specialization workload classification\n",
    "final_summary_df = final_summary_df.join(\n",
    "    specialization_workload_classified.select(\n",
    "        \"specialization\",\n",
    "        col(\"total_appointments\").alias(\"specialization_total_appointments\"),\n",
    "        \"workload_level\"\n",
    "    ),\n",
    "    \"specialization\",\n",
    "    \"left\"\n",
    ").withColumn(\"specialization_total_appointments\", coalesce(col(\"specialization_total_appointments\"), lit(0))) \\\n",
    " .withColumn(\"workload_level\", coalesce(col(\"workload_level\"), lit(\"Unknown\")))\n",
    "\n",
    "# Add lineage timestamp\n",
    "final_summary_df = final_summary_df.withColumn(\"ingestion_date\", current_timestamp())\n"
   ]
  },
  {
   "cell_type": "code",
   "execution_count": 0,
   "metadata": {
    "application/vnd.databricks.v1+cell": {
     "cellMetadata": {
      "byteLimit": 2048000,
      "implicitDf": true,
      "rowLimit": 10000
     },
     "inputWidgets": {},
     "nuid": "cc1f27cc-bf00-4937-9394-81b9657fc0a1",
     "showTitle": false,
     "tableResultSettingsMap": {},
     "title": ""
    }
   },
   "outputs": [
    {
     "output_type": "display_data",
     "data": {
      "text/html": [
       "<style scoped>\n",
       "  .table-result-container {\n",
       "    max-height: 300px;\n",
       "    overflow: auto;\n",
       "  }\n",
       "  table, th, td {\n",
       "    border: 1px solid black;\n",
       "    border-collapse: collapse;\n",
       "  }\n",
       "  th, td {\n",
       "    padding: 5px;\n",
       "  }\n",
       "  th {\n",
       "    text-align: left;\n",
       "  }\n",
       "</style><div class='table-result-container'><table class='table-result'><thead style='background-color: white'><tr></tr></thead><tbody></tbody></table></div>"
      ]
     },
     "metadata": {
      "application/vnd.databricks.v1+output": {
       "addedWidgets": {},
       "aggData": [],
       "aggError": "",
       "aggOverflow": false,
       "aggSchema": [],
       "aggSeriesLimitReached": false,
       "aggType": "",
       "arguments": {},
       "columnCustomDisplayInfos": {},
       "data": [],
       "datasetInfos": [],
       "dbfsResultPath": null,
       "isJsonSchema": true,
       "metadata": {
        "dataframeName": null
       },
       "overflow": false,
       "plotOptions": {
        "customPlotOptions": {},
        "displayType": "table",
        "pivotAggregation": null,
        "pivotColumns": null,
        "xColumns": null,
        "yColumns": null
       },
       "removedWidgets": [],
       "schema": [],
       "type": "table"
      }
     },
     "output_type": "display_data"
    }
   ],
   "source": [
    "%sql\n",
    "drop table if exists healthcare_analysis.specialization_summary"
   ]
  },
  {
   "cell_type": "code",
   "execution_count": 0,
   "metadata": {
    "application/vnd.databricks.v1+cell": {
     "cellMetadata": {
      "byteLimit": 2048000,
      "rowLimit": 10000
     },
     "inputWidgets": {},
     "nuid": "14824c5d-dddb-4ecb-b2bb-060808b05781",
     "showTitle": false,
     "tableResultSettingsMap": {},
     "title": ""
    }
   },
   "outputs": [],
   "source": [
    "final_summary_df.write.mode(\"overwrite\").format(\"delta\").saveAsTable(\"healthcare_analysis.specialization_summary\")"
   ]
  },
  {
   "cell_type": "code",
   "execution_count": 0,
   "metadata": {
    "application/vnd.databricks.v1+cell": {
     "cellMetadata": {
      "byteLimit": 2048000,
      "rowLimit": 10000
     },
     "inputWidgets": {},
     "nuid": "a06c627f-bba6-4f0e-949c-437c4222fbaf",
     "showTitle": false,
     "tableResultSettingsMap": {},
     "title": ""
    }
   },
   "outputs": [],
   "source": [
    "final_summary_df.write.mode(\"overwrite\").parquet(f\"abfss://destination@projectadf1.dfs.core.windows.net/specialization_summary\")"
   ]
  },
  {
   "cell_type": "code",
   "execution_count": 0,
   "metadata": {
    "application/vnd.databricks.v1+cell": {
     "cellMetadata": {
      "byteLimit": 2048000,
      "implicitDf": true,
      "rowLimit": 10000
     },
     "inputWidgets": {},
     "nuid": "ca35dbc3-fc91-49be-9629-551500b0f3d9",
     "showTitle": false,
     "tableResultSettingsMap": {},
     "title": ""
    }
   },
   "outputs": [
    {
     "output_type": "display_data",
     "data": {
      "text/html": [
       "<style scoped>\n",
       "  .table-result-container {\n",
       "    max-height: 300px;\n",
       "    overflow: auto;\n",
       "  }\n",
       "  table, th, td {\n",
       "    border: 1px solid black;\n",
       "    border-collapse: collapse;\n",
       "  }\n",
       "  th, td {\n",
       "    padding: 5px;\n",
       "  }\n",
       "  th {\n",
       "    text-align: left;\n",
       "  }\n",
       "</style><div class='table-result-container'><table class='table-result'><thead style='background-color: white'><tr><th>specialization</th><th>doctor_id</th><th>doctor_name</th><th>contact_info</th><th>total_revenue</th><th>specialization_demand_level</th><th>specialization_total_appointments</th><th>workload_level</th><th>ingestion_date</th></tr></thead><tbody><tr><td>psychiatry</td><td>463</td><td>Edith</td><td>.@yopmail.com</td><td>1780068.0</td><td>Low Demand</td><td>12</td><td>Low Workload</td><td>2025-08-25T10:18:01.501Z</td></tr><tr><td>surgery</td><td>243</td><td>Edith</td><td>.@yopmail.com</td><td>3436703.0</td><td>Medium Demand</td><td>14</td><td>Low Workload</td><td>2025-08-25T10:18:01.501Z</td></tr><tr><td>otolaryngologists</td><td>540</td><td>Talya</td><td>.@yopmail.com</td><td>0.0</td><td>Medium Demand</td><td>21</td><td>Medium Workload</td><td>2025-08-25T10:18:01.501Z</td></tr><tr><td>infectious disease</td><td>858</td><td>Jolyn</td><td>.@yopmail.com</td><td>0.0</td><td>High Demand</td><td>25</td><td>High Workload</td><td>2025-08-25T10:18:01.501Z</td></tr><tr><td>psychiatry</td><td>897</td><td>Vinita</td><td>.@yopmail.com</td><td>0.0</td><td>Low Demand</td><td>12</td><td>Low Workload</td><td>2025-08-25T10:18:01.501Z</td></tr><tr><td>oncologist</td><td>516</td><td>Corene</td><td>.@yopmail.com</td><td>0.0</td><td>High Demand</td><td>24</td><td>High Workload</td><td>2025-08-25T10:18:01.501Z</td></tr><tr><td>allergists</td><td>451</td><td>Steffane</td><td>.@yopmail.com</td><td>0.0</td><td>Low Demand</td><td>16</td><td>Low Workload</td><td>2025-08-25T10:18:01.501Z</td></tr><tr><td>internists</td><td>580</td><td>Lynnea</td><td>.@yopmail.com</td><td>834252.0</td><td>Medium Demand</td><td>21</td><td>Medium Workload</td><td>2025-08-25T10:18:01.501Z</td></tr><tr><td>dermatology</td><td>808</td><td>Max</td><td>.@yopmail.com</td><td>0.0</td><td>High Demand</td><td>23</td><td>High Workload</td><td>2025-08-25T10:18:01.501Z</td></tr><tr><td>ophthalmology</td><td>879</td><td>Micheline</td><td>.@yopmail.com</td><td>185051.0</td><td>Medium Demand</td><td>21</td><td>Medium Workload</td><td>2025-08-25T10:18:01.501Z</td></tr><tr><td>psychiatry</td><td>883</td><td>Teriann</td><td>.@yopmail.com</td><td>0.0</td><td>Low Demand</td><td>12</td><td>Low Workload</td><td>2025-08-25T10:18:01.501Z</td></tr><tr><td>nephrology</td><td>255</td><td>Harmonia</td><td>.@yopmail.com</td><td>637413.0</td><td>Low Demand</td><td>15</td><td>Low Workload</td><td>2025-08-25T10:18:01.501Z</td></tr><tr><td>dermatology</td><td>481</td><td>Carilyn</td><td>.@yopmail.com</td><td>0.0</td><td>High Demand</td><td>23</td><td>High Workload</td><td>2025-08-25T10:18:01.501Z</td></tr><tr><td>pulmonologists</td><td>799</td><td>Fina</td><td>.@yopmail.com</td><td>631644.0</td><td>Medium Demand</td><td>20</td><td>Medium Workload</td><td>2025-08-25T10:18:01.501Z</td></tr><tr><td>nephrology</td><td>804</td><td>Rivalee</td><td>.@yopmail.com</td><td>0.0</td><td>Low Demand</td><td>15</td><td>Low Workload</td><td>2025-08-25T10:18:01.501Z</td></tr><tr><td>internists</td><td>898</td><td>Georgetta</td><td>.@yopmail.com</td><td>259509.0</td><td>Medium Demand</td><td>21</td><td>Medium Workload</td><td>2025-08-25T10:18:01.501Z</td></tr><tr><td>internists</td><td>133</td><td>Adelle</td><td>.@yopmail.com</td><td>0.0</td><td>Medium Demand</td><td>21</td><td>Medium Workload</td><td>2025-08-25T10:18:01.501Z</td></tr><tr><td>cardiology</td><td>296</td><td>Brandise</td><td>.@yopmail.com</td><td>144064.0</td><td>Low Demand</td><td>14</td><td>Low Workload</td><td>2025-08-25T10:18:01.501Z</td></tr><tr><td>oncologist</td><td>472</td><td>Mildrid</td><td>.@yopmail.com</td><td>0.0</td><td>High Demand</td><td>24</td><td>High Workload</td><td>2025-08-25T10:18:01.501Z</td></tr><tr><td>hospice and palliative care</td><td>853</td><td>Elka</td><td>.@yopmail.com</td><td>0.0</td><td>Low Demand</td><td>7</td><td>Low Workload</td><td>2025-08-25T10:18:01.501Z</td></tr><tr><td>otolaryngologists</td><td>322</td><td>Deloria</td><td>.@yopmail.com</td><td>0.0</td><td>Medium Demand</td><td>21</td><td>Medium Workload</td><td>2025-08-25T10:18:01.501Z</td></tr><tr><td>endocrinologist</td><td>321</td><td>Gloria</td><td>.@yopmail.com</td><td>761099.0</td><td>Low Demand</td><td>13</td><td>Low Workload</td><td>2025-08-25T10:18:01.501Z</td></tr><tr><td>internists</td><td>362</td><td>Charissa</td><td>.@yopmail.com</td><td>1896039.0</td><td>Medium Demand</td><td>21</td><td>Medium Workload</td><td>2025-08-25T10:18:01.501Z</td></tr><tr><td>cardiology</td><td>633</td><td>Laure</td><td>.@yopmail.com</td><td>1318526.0</td><td>Low Demand</td><td>14</td><td>Low Workload</td><td>2025-08-25T10:18:01.501Z</td></tr><tr><td>oncologist</td><td>857</td><td>Bobbi</td><td>.@yopmail.com</td><td>0.0</td><td>High Demand</td><td>24</td><td>High Workload</td><td>2025-08-25T10:18:01.501Z</td></tr><tr><td>radiology</td><td>974</td><td>Laure</td><td>.@yopmail.com</td><td>0.0</td><td>Low Demand</td><td>15</td><td>Low Workload</td><td>2025-08-25T10:18:01.501Z</td></tr><tr><td>surgery</td><td>375</td><td>Talya</td><td>.@yopmail.com</td><td>0.0</td><td>Medium Demand</td><td>14</td><td>Low Workload</td><td>2025-08-25T10:18:01.501Z</td></tr><tr><td>pediatrics</td><td>593</td><td>Sara-ann</td><td>.@yopmail.com</td><td>94809.0</td><td>Low Demand</td><td>15</td><td>Low Workload</td><td>2025-08-25T10:18:01.501Z</td></tr><tr><td>geriatrician</td><td>597</td><td>Marti</td><td>.@yopmail.com</td><td>0.0</td><td>Medium Demand</td><td>18</td><td>Medium Workload</td><td>2025-08-25T10:18:01.501Z</td></tr><tr><td>neurology</td><td>976</td><td>Netty</td><td>.@yopmail.com</td><td>3283643.0</td><td>Low Demand</td><td>16</td><td>Low Workload</td><td>2025-08-25T10:18:01.501Z</td></tr><tr><td>surgery</td><td>108</td><td>Addia</td><td>.@yopmail.com</td><td>877174.0</td><td>Medium Demand</td><td>14</td><td>Low Workload</td><td>2025-08-25T10:18:01.501Z</td></tr><tr><td>pulmonologists</td><td>155</td><td>Alleen</td><td>.@yopmail.com</td><td>114657.0</td><td>Medium Demand</td><td>20</td><td>Medium Workload</td><td>2025-08-25T10:18:01.501Z</td></tr><tr><td>ophthalmology</td><td>683</td><td>Nerta</td><td>.@yopmail.com</td><td>0.0</td><td>Medium Demand</td><td>21</td><td>Medium Workload</td><td>2025-08-25T10:18:01.501Z</td></tr><tr><td>obstetric anesthesiologists</td><td>744</td><td>Lolita</td><td>.@yopmail.com</td><td>408017.0</td><td>Medium Demand</td><td>17</td><td>Medium Workload</td><td>2025-08-25T10:18:01.501Z</td></tr><tr><td>endocrinologist</td><td>368</td><td>Rhea</td><td>.@yopmail.com</td><td>372518.0</td><td>Low Demand</td><td>13</td><td>Low Workload</td><td>2025-08-25T10:18:01.501Z</td></tr><tr><td>critical care medicine</td><td>530</td><td>Jeanna</td><td>.@yopmail.com</td><td>1501693.0</td><td>Low Demand</td><td>11</td><td>Low Workload</td><td>2025-08-25T10:18:01.501Z</td></tr><tr><td>otolaryngologists</td><td>642</td><td>Sallie</td><td>.@yopmail.com</td><td>1678715.0</td><td>Medium Demand</td><td>21</td><td>Medium Workload</td><td>2025-08-25T10:18:01.501Z</td></tr><tr><td>allergists</td><td>101</td><td>Mireielle</td><td>.@yopmail.com</td><td>545986.0</td><td>Low Demand</td><td>16</td><td>Low Workload</td><td>2025-08-25T10:18:01.501Z</td></tr><tr><td>endocrinologist</td><td>115</td><td>Ronna</td><td>.@yopmail.com</td><td>0.0</td><td>Low Demand</td><td>13</td><td>Low Workload</td><td>2025-08-25T10:18:01.501Z</td></tr><tr><td>gastroenterology</td><td>126</td><td>Marleah</td><td>.@yopmail.com</td><td>0.0</td><td>High Demand</td><td>23</td><td>High Workload</td><td>2025-08-25T10:18:01.501Z</td></tr><tr><td>allergists</td><td>830</td><td>Julieta</td><td>.@yopmail.com</td><td>0.0</td><td>Low Demand</td><td>16</td><td>Low Workload</td><td>2025-08-25T10:18:01.501Z</td></tr><tr><td>gastroenterology</td><td>847</td><td>Nita</td><td>.@yopmail.com</td><td>0.0</td><td>High Demand</td><td>23</td><td>High Workload</td><td>2025-08-25T10:18:01.501Z</td></tr><tr><td>oncologist</td><td>939</td><td>Melodie</td><td>.@yopmail.com</td><td>0.0</td><td>High Demand</td><td>24</td><td>High Workload</td><td>2025-08-25T10:18:01.501Z</td></tr><tr><td>psychiatry</td><td>183</td><td>Shauna</td><td>.@yopmail.com</td><td>742667.0</td><td>Low Demand</td><td>12</td><td>Low Workload</td><td>2025-08-25T10:18:01.501Z</td></tr><tr><td>nephrology</td><td>210</td><td>Dorene</td><td>.@yopmail.com</td><td>975444.0</td><td>Low Demand</td><td>15</td><td>Low Workload</td><td>2025-08-25T10:18:01.501Z</td></tr><tr><td>ophthalmology</td><td>497</td><td>Tierney</td><td>.@yopmail.com</td><td>0.0</td><td>Medium Demand</td><td>21</td><td>Medium Workload</td><td>2025-08-25T10:18:01.501Z</td></tr><tr><td>critical care medicine</td><td>596</td><td>Sue</td><td>.@yopmail.com</td><td>0.0</td><td>Low Demand</td><td>11</td><td>Low Workload</td><td>2025-08-25T10:18:01.501Z</td></tr><tr><td>endocrinologist</td><td>300</td><td>Roxane</td><td>.@yopmail.com</td><td>1889420.0</td><td>Low Demand</td><td>13</td><td>Low Workload</td><td>2025-08-25T10:18:01.501Z</td></tr><tr><td>otolaryngologists</td><td>787</td><td>Taffy</td><td>.@yopmail.com</td><td>0.0</td><td>Medium Demand</td><td>21</td><td>Medium Workload</td><td>2025-08-25T10:18:01.501Z</td></tr><tr><td>surgery</td><td>842</td><td>Aaren</td><td>.@yopmail.com</td><td>0.0</td><td>Medium Demand</td><td>14</td><td>Low Workload</td><td>2025-08-25T10:18:01.501Z</td></tr><tr><td>neurology</td><td>587</td><td>Starla</td><td>.@yopmail.com</td><td>0.0</td><td>Low Demand</td><td>16</td><td>Low Workload</td><td>2025-08-25T10:18:01.501Z</td></tr><tr><td>neurology</td><td>731</td><td>Joane</td><td>.@yopmail.com</td><td>1277829.0</td><td>Low Demand</td><td>16</td><td>Low Workload</td><td>2025-08-25T10:18:01.501Z</td></tr><tr><td>geriatrician</td><td>667</td><td>Gloria</td><td>.@yopmail.com</td><td>5846564.0</td><td>Medium Demand</td><td>18</td><td>Medium Workload</td><td>2025-08-25T10:18:01.501Z</td></tr><tr><td>otolaryngologists</td><td>688</td><td>Constance</td><td>.@yopmail.com</td><td>2340164.0</td><td>Medium Demand</td><td>21</td><td>Medium Workload</td><td>2025-08-25T10:18:01.501Z</td></tr><tr><td>nephrology</td><td>723</td><td>Katleen</td><td>.@yopmail.com</td><td>0.0</td><td>Low Demand</td><td>15</td><td>Low Workload</td><td>2025-08-25T10:18:01.501Z</td></tr><tr><td>pediatrics</td><td>914</td><td>Ronna</td><td>.@yopmail.com</td><td>590977.0</td><td>Low Demand</td><td>15</td><td>Low Workload</td><td>2025-08-25T10:18:01.501Z</td></tr><tr><td>neurology</td><td>332</td><td>Jinny</td><td>.@yopmail.com</td><td>0.0</td><td>Low Demand</td><td>16</td><td>Low Workload</td><td>2025-08-25T10:18:01.501Z</td></tr><tr><td>psychiatry</td><td>501</td><td>Cathyleen</td><td>.@yopmail.com</td><td>926937.0</td><td>Low Demand</td><td>12</td><td>Low Workload</td><td>2025-08-25T10:18:01.501Z</td></tr><tr><td>obstetric anesthesiologists</td><td>577</td><td>Tilly</td><td>.@yopmail.com</td><td>0.0</td><td>Medium Demand</td><td>17</td><td>Medium Workload</td><td>2025-08-25T10:18:01.501Z</td></tr><tr><td>infectious disease</td><td>626</td><td>Glynnis</td><td>.@yopmail.com</td><td>0.0</td><td>High Demand</td><td>25</td><td>High Workload</td><td>2025-08-25T10:18:01.501Z</td></tr><tr><td>cardiology</td><td>831</td><td>Trudie</td><td>.@yopmail.com</td><td>0.0</td><td>Low Demand</td><td>14</td><td>Low Workload</td><td>2025-08-25T10:18:01.501Z</td></tr><tr><td>infectious disease</td><td>159</td><td>Georgetta</td><td>.@yopmail.com</td><td>0.0</td><td>High Demand</td><td>25</td><td>High Workload</td><td>2025-08-25T10:18:01.501Z</td></tr><tr><td>dermatology</td><td>811</td><td>Lucille</td><td>.@yopmail.com</td><td>1104329.0</td><td>High Demand</td><td>23</td><td>High Workload</td><td>2025-08-25T10:18:01.501Z</td></tr><tr><td>obstetric anesthesiologists</td><td>844</td><td>Tybie</td><td>.@yopmail.com</td><td>0.0</td><td>Medium Demand</td><td>17</td><td>Medium Workload</td><td>2025-08-25T10:18:01.501Z</td></tr><tr><td>surgery</td><td>908</td><td>Oralee</td><td>.@yopmail.com</td><td>0.0</td><td>Medium Demand</td><td>14</td><td>Low Workload</td><td>2025-08-25T10:18:01.501Z</td></tr><tr><td>ophthalmology</td><td>916</td><td>Ninnetta</td><td>.@yopmail.com</td><td>0.0</td><td>Medium Demand</td><td>21</td><td>Medium Workload</td><td>2025-08-25T10:18:01.501Z</td></tr><tr><td>emergency medicine</td><td>806</td><td>Melisent</td><td>.@yopmail.com</td><td>0.0</td><td>Medium Demand</td><td>20</td><td>Medium Workload</td><td>2025-08-25T10:18:01.501Z</td></tr><tr><td>endocrinologist</td><td>103</td><td>Elie</td><td>.@yopmail.com</td><td>0.0</td><td>Low Demand</td><td>13</td><td>Low Workload</td><td>2025-08-25T10:18:01.501Z</td></tr><tr><td>radiology</td><td>236</td><td>Morganica</td><td>.@yopmail.com</td><td>0.0</td><td>Low Demand</td><td>15</td><td>Low Workload</td><td>2025-08-25T10:18:01.501Z</td></tr><tr><td>neurology</td><td>329</td><td>Natka</td><td>.@yopmail.com</td><td>0.0</td><td>Low Demand</td><td>16</td><td>Low Workload</td><td>2025-08-25T10:18:01.501Z</td></tr><tr><td>emergency medicine</td><td>460</td><td>Tani</td><td>.@yopmail.com</td><td>592444.0</td><td>Medium Demand</td><td>20</td><td>Medium Workload</td><td>2025-08-25T10:18:01.501Z</td></tr><tr><td>otolaryngologists</td><td>350</td><td>Estell</td><td>.@yopmail.com</td><td>0.0</td><td>Medium Demand</td><td>21</td><td>Medium Workload</td><td>2025-08-25T10:18:01.501Z</td></tr><tr><td>gastroenterology</td><td>984</td><td>Dacia</td><td>.@yopmail.com</td><td>0.0</td><td>High Demand</td><td>23</td><td>High Workload</td><td>2025-08-25T10:18:01.501Z</td></tr><tr><td>gastroenterology</td><td>223</td><td>Konstance</td><td>.@yopmail.com</td><td>0.0</td><td>High Demand</td><td>23</td><td>High Workload</td><td>2025-08-25T10:18:01.501Z</td></tr><tr><td>cardiology</td><td>738</td><td>Hollie</td><td>.@yopmail.com</td><td>0.0</td><td>Low Demand</td><td>14</td><td>Low Workload</td><td>2025-08-25T10:18:01.501Z</td></tr><tr><td>critical care medicine</td><td>860</td><td>Ericka</td><td>.@yopmail.com</td><td>0.0</td><td>Low Demand</td><td>11</td><td>Low Workload</td><td>2025-08-25T10:18:01.501Z</td></tr><tr><td>ophthalmology</td><td>388</td><td>Danika</td><td>.@yopmail.com</td><td>1144958.0</td><td>Medium Demand</td><td>21</td><td>Medium Workload</td><td>2025-08-25T10:18:01.501Z</td></tr><tr><td>allergists</td><td>417</td><td>Molli</td><td>.@yopmail.com</td><td>769686.0</td><td>Low Demand</td><td>16</td><td>Low Workload</td><td>2025-08-25T10:18:01.501Z</td></tr><tr><td>critical care medicine</td><td>548</td><td>Karlee</td><td>.@yopmail.com</td><td>763879.0</td><td>Low Demand</td><td>11</td><td>Low Workload</td><td>2025-08-25T10:18:01.501Z</td></tr><tr><td>anesthesiology</td><td>602</td><td>Tabbatha</td><td>.@yopmail.com</td><td>1050834.0</td><td>Low Demand</td><td>15</td><td>Low Workload</td><td>2025-08-25T10:18:01.501Z</td></tr><tr><td>obstetric anesthesiologists</td><td>663</td><td>Maisey</td><td>.@yopmail.com</td><td>0.0</td><td>Medium Demand</td><td>17</td><td>Medium Workload</td><td>2025-08-25T10:18:01.501Z</td></tr><tr><td>radiology</td><td>926</td><td>Sashenka</td><td>.@yopmail.com</td><td>2317324.0</td><td>Low Demand</td><td>15</td><td>Low Workload</td><td>2025-08-25T10:18:01.501Z</td></tr><tr><td>pulmonologists</td><td>707</td><td>Cassandra</td><td>.@yopmail.com</td><td>0.0</td><td>Medium Demand</td><td>20</td><td>Medium Workload</td><td>2025-08-25T10:18:01.501Z</td></tr><tr><td>dermatology</td><td>822</td><td>Elise</td><td>.@yopmail.com</td><td>0.0</td><td>High Demand</td><td>23</td><td>High Workload</td><td>2025-08-25T10:18:01.501Z</td></tr><tr><td>family medicine</td><td>222</td><td>Zia</td><td>.@yopmail.com</td><td>1105788.0</td><td>Low Demand</td><td>8</td><td>Low Workload</td><td>2025-08-25T10:18:01.501Z</td></tr><tr><td>internists</td><td>285</td><td>Gabriellia</td><td>.@yopmail.com</td><td>0.0</td><td>Medium Demand</td><td>21</td><td>Medium Workload</td><td>2025-08-25T10:18:01.501Z</td></tr><tr><td>endocrinologist</td><td>875</td><td>Marjie</td><td>.@yopmail.com</td><td>0.0</td><td>Low Demand</td><td>13</td><td>Low Workload</td><td>2025-08-25T10:18:01.501Z</td></tr><tr><td>oncologist</td><td>209</td><td>Nicoli</td><td>.@yopmail.com</td><td>0.0</td><td>High Demand</td><td>24</td><td>High Workload</td><td>2025-08-25T10:18:01.501Z</td></tr><tr><td>geriatrician</td><td>372</td><td>Myrtice</td><td>.@yopmail.com</td><td>0.0</td><td>Medium Demand</td><td>18</td><td>Medium Workload</td><td>2025-08-25T10:18:01.501Z</td></tr><tr><td>psychiatry</td><td>604</td><td>Karena</td><td>.@yopmail.com</td><td>0.0</td><td>Low Demand</td><td>12</td><td>Low Workload</td><td>2025-08-25T10:18:01.501Z</td></tr><tr><td>neurology</td><td>995</td><td>Lanae</td><td>.@yopmail.com</td><td>0.0</td><td>Low Demand</td><td>16</td><td>Low Workload</td><td>2025-08-25T10:18:01.501Z</td></tr><tr><td>anesthesiology</td><td>319</td><td>Betta</td><td>.@yopmail.com</td><td>0.0</td><td>Low Demand</td><td>15</td><td>Low Workload</td><td>2025-08-25T10:18:01.501Z</td></tr><tr><td>ophthalmology</td><td>493</td><td>Micheline</td><td>.@yopmail.com</td><td>558782.0</td><td>Medium Demand</td><td>21</td><td>Medium Workload</td><td>2025-08-25T10:18:01.501Z</td></tr><tr><td>endocrinologist</td><td>625</td><td>Beverley</td><td>.@yopmail.com</td><td>0.0</td><td>Low Demand</td><td>13</td><td>Low Workload</td><td>2025-08-25T10:18:01.501Z</td></tr><tr><td>infectious disease</td><td>157</td><td>Mellicent</td><td>.@yopmail.com</td><td>0.0</td><td>High Demand</td><td>25</td><td>High Workload</td><td>2025-08-25T10:18:01.501Z</td></tr><tr><td>geriatrician</td><td>232</td><td>Tani</td><td>.@yopmail.com</td><td>0.0</td><td>Medium Demand</td><td>18</td><td>Medium Workload</td><td>2025-08-25T10:18:01.501Z</td></tr><tr><td>surgery</td><td>924</td><td>Roslyn</td><td>.@yopmail.com</td><td>156466.0</td><td>Medium Demand</td><td>14</td><td>Low Workload</td><td>2025-08-25T10:18:01.501Z</td></tr><tr><td>anesthesiology</td><td>346</td><td>Coral</td><td>.@yopmail.com</td><td>0.0</td><td>Low Demand</td><td>15</td><td>Low Workload</td><td>2025-08-25T10:18:01.501Z</td></tr><tr><td>surgery</td><td>476</td><td>Lory</td><td>.@yopmail.com</td><td>0.0</td><td>Medium Demand</td><td>14</td><td>Low Workload</td><td>2025-08-25T10:18:01.501Z</td></tr><tr><td>neurology</td><td>539</td><td>Hallie</td><td>.@yopmail.com</td><td>683055.0</td><td>Low Demand</td><td>16</td><td>Low Workload</td><td>2025-08-25T10:18:01.501Z</td></tr><tr><td>anesthesiology</td><td>599</td><td>Abbie</td><td>.@yopmail.com</td><td>0.0</td><td>Low Demand</td><td>15</td><td>Low Workload</td><td>2025-08-25T10:18:01.501Z</td></tr><tr><td>internists</td><td>725</td><td>Kary</td><td>.@yopmail.com</td><td>0.0</td><td>Medium Demand</td><td>21</td><td>Medium Workload</td><td>2025-08-25T10:18:01.501Z</td></tr><tr><td>emergency medicine</td><td>855</td><td>Di</td><td>.@yopmail.com</td><td>0.0</td><td>Medium Demand</td><td>20</td><td>Medium Workload</td><td>2025-08-25T10:18:01.501Z</td></tr><tr><td>dermatology</td><td>861</td><td>Cyndie</td><td>.@yopmail.com</td><td>0.0</td><td>High Demand</td><td>23</td><td>High Workload</td><td>2025-08-25T10:18:01.501Z</td></tr><tr><td>emergency medicine</td><td>224</td><td>Dorene</td><td>.@yopmail.com</td><td>1239542.0</td><td>Medium Demand</td><td>20</td><td>Medium Workload</td><td>2025-08-25T10:18:01.501Z</td></tr><tr><td>endocrinologist</td><td>519</td><td>Maryellen</td><td>.@yopmail.com</td><td>0.0</td><td>Low Demand</td><td>13</td><td>Low Workload</td><td>2025-08-25T10:18:01.501Z</td></tr><tr><td>infectious disease</td><td>654</td><td>Danika</td><td>.@yopmail.com</td><td>648597.0</td><td>High Demand</td><td>25</td><td>High Workload</td><td>2025-08-25T10:18:01.501Z</td></tr><tr><td>surgery</td><td>140</td><td>Mureil</td><td>.@yopmail.com</td><td>1009929.0</td><td>Medium Demand</td><td>14</td><td>Low Workload</td><td>2025-08-25T10:18:01.501Z</td></tr><tr><td>neurology</td><td>416</td><td>Jere</td><td>.@yopmail.com</td><td>0.0</td><td>Low Demand</td><td>16</td><td>Low Workload</td><td>2025-08-25T10:18:01.501Z</td></tr><tr><td>surgery</td><td>556</td><td>Wileen</td><td>.@yopmail.com</td><td>0.0</td><td>Medium Demand</td><td>14</td><td>Low Workload</td><td>2025-08-25T10:18:01.501Z</td></tr><tr><td>obstetric anesthesiologists</td><td>827</td><td>Lanae</td><td>.@yopmail.com</td><td>0.0</td><td>Medium Demand</td><td>17</td><td>Medium Workload</td><td>2025-08-25T10:18:01.501Z</td></tr><tr><td>internists</td><td>444</td><td>Daryl</td><td>.@yopmail.com</td><td>0.0</td><td>Medium Demand</td><td>21</td><td>Medium Workload</td><td>2025-08-25T10:18:01.501Z</td></tr><tr><td>anesthesiology</td><td>665</td><td>Ricky</td><td>.@yopmail.com</td><td>0.0</td><td>Low Demand</td><td>15</td><td>Low Workload</td><td>2025-08-25T10:18:01.501Z</td></tr><tr><td>nephrology</td><td>305</td><td>Christy</td><td>.@yopmail.com</td><td>0.0</td><td>Low Demand</td><td>15</td><td>Low Workload</td><td>2025-08-25T10:18:01.501Z</td></tr><tr><td>allergists</td><td>353</td><td>Flory</td><td>.@yopmail.com</td><td>0.0</td><td>Low Demand</td><td>16</td><td>Low Workload</td><td>2025-08-25T10:18:01.501Z</td></tr><tr><td>pediatrics</td><td>355</td><td>Romona</td><td>.@yopmail.com</td><td>244088.0</td><td>Low Demand</td><td>15</td><td>Low Workload</td><td>2025-08-25T10:18:01.501Z</td></tr><tr><td>ophthalmology</td><td>618</td><td>Laurene</td><td>.@yopmail.com</td><td>1111653.0</td><td>Medium Demand</td><td>21</td><td>Medium Workload</td><td>2025-08-25T10:18:01.501Z</td></tr><tr><td>allergists</td><td>694</td><td>Tami</td><td>.@yopmail.com</td><td>0.0</td><td>Low Demand</td><td>16</td><td>Low Workload</td><td>2025-08-25T10:18:01.501Z</td></tr><tr><td>endocrinologist</td><td>696</td><td>Alejandra</td><td>.@yopmail.com</td><td>0.0</td><td>Low Demand</td><td>13</td><td>Low Workload</td><td>2025-08-25T10:18:01.501Z</td></tr><tr><td>ophthalmology</td><td>747</td><td>Elie</td><td>.@yopmail.com</td><td>0.0</td><td>Medium Demand</td><td>21</td><td>Medium Workload</td><td>2025-08-25T10:18:01.501Z</td></tr><tr><td>pulmonologists</td><td>291</td><td>Gusella</td><td>.@yopmail.com</td><td>1144958.0</td><td>Medium Demand</td><td>20</td><td>Medium Workload</td><td>2025-08-25T10:18:01.501Z</td></tr><tr><td>dermatology</td><td>386</td><td>Selia</td><td>.@yopmail.com</td><td>590977.0</td><td>High Demand</td><td>23</td><td>High Workload</td><td>2025-08-25T10:18:01.501Z</td></tr><tr><td>emergency medicine</td><td>955</td><td>Gretal</td><td>.@yopmail.com</td><td>0.0</td><td>Medium Demand</td><td>20</td><td>Medium Workload</td><td>2025-08-25T10:18:01.501Z</td></tr><tr><td>critical care medicine</td><td>435</td><td>Randa</td><td>.@yopmail.com</td><td>0.0</td><td>Low Demand</td><td>11</td><td>Low Workload</td><td>2025-08-25T10:18:01.501Z</td></tr><tr><td>dermatology</td><td>473</td><td>Dulcinea</td><td>.@yopmail.com</td><td>0.0</td><td>High Demand</td><td>23</td><td>High Workload</td><td>2025-08-25T10:18:01.501Z</td></tr><tr><td>cardiology</td><td>581</td><td>Myriam</td><td>.@yopmail.com</td><td>448957.0</td><td>Low Demand</td><td>14</td><td>Low Workload</td><td>2025-08-25T10:18:01.501Z</td></tr><tr><td>pulmonologists</td><td>603</td><td>Christal</td><td>.@yopmail.com</td><td>0.0</td><td>Medium Demand</td><td>20</td><td>Medium Workload</td><td>2025-08-25T10:18:01.501Z</td></tr><tr><td>oncologist</td><td>748</td><td>Nanete</td><td>.@yopmail.com</td><td>315514.0</td><td>High Demand</td><td>24</td><td>High Workload</td><td>2025-08-25T10:18:01.501Z</td></tr><tr><td>pediatrics</td><td>912</td><td>Hallie</td><td>.@yopmail.com</td><td>0.0</td><td>Low Demand</td><td>15</td><td>Low Workload</td><td>2025-08-25T10:18:01.501Z</td></tr><tr><td>oncologist</td><td>935</td><td>Misha</td><td>.@yopmail.com</td><td>0.0</td><td>High Demand</td><td>24</td><td>High Workload</td><td>2025-08-25T10:18:01.501Z</td></tr><tr><td>infectious disease</td><td>704</td><td>Sybille</td><td>.@yopmail.com</td><td>0.0</td><td>High Demand</td><td>25</td><td>High Workload</td><td>2025-08-25T10:18:01.501Z</td></tr><tr><td>pediatrics</td><td>512</td><td>Arlina</td><td>.@yopmail.com</td><td>0.0</td><td>Low Demand</td><td>15</td><td>Low Workload</td><td>2025-08-25T10:18:01.501Z</td></tr><tr><td>gastroenterology</td><td>363</td><td>Joleen</td><td>.@yopmail.com</td><td>379148.0</td><td>High Demand</td><td>23</td><td>High Workload</td><td>2025-08-25T10:18:01.501Z</td></tr><tr><td>gastroenterology</td><td>768</td><td>Giustina</td><td>.@yopmail.com</td><td>2604089.0</td><td>High Demand</td><td>23</td><td>High Workload</td><td>2025-08-25T10:18:01.501Z</td></tr><tr><td>emergency medicine</td><td>770</td><td>Karly</td><td>.@yopmail.com</td><td>888730.0</td><td>Medium Demand</td><td>20</td><td>Medium Workload</td><td>2025-08-25T10:18:01.501Z</td></tr><tr><td>dermatology</td><td>777</td><td>Aimil</td><td>.@yopmail.com</td><td>878717.0</td><td>High Demand</td><td>23</td><td>High Workload</td><td>2025-08-25T10:18:01.501Z</td></tr><tr><td>emergency medicine</td><td>715</td><td>Hope</td><td>.@yopmail.com</td><td>269786.0</td><td>Medium Demand</td><td>20</td><td>Medium Workload</td><td>2025-08-25T10:18:01.501Z</td></tr><tr><td>ophthalmology</td><td>274</td><td>Fawne</td><td>.@yopmail.com</td><td>0.0</td><td>Medium Demand</td><td>21</td><td>Medium Workload</td><td>2025-08-25T10:18:01.501Z</td></tr><tr><td>otolaryngologists</td><td>182</td><td>Belva</td><td>.@yopmail.com</td><td>843109.0</td><td>Medium Demand</td><td>21</td><td>Medium Workload</td><td>2025-08-25T10:18:01.501Z</td></tr><tr><td>dermatology</td><td>442</td><td>Randa</td><td>.@yopmail.com</td><td>0.0</td><td>High Demand</td><td>23</td><td>High Workload</td><td>2025-08-25T10:18:01.501Z</td></tr><tr><td>nephrology</td><td>689</td><td>Juliane</td><td>.@yopmail.com</td><td>0.0</td><td>Low Demand</td><td>15</td><td>Low Workload</td><td>2025-08-25T10:18:01.501Z</td></tr><tr><td>infectious disease</td><td>699</td><td>Chickie</td><td>.@yopmail.com</td><td>0.0</td><td>High Demand</td><td>25</td><td>High Workload</td><td>2025-08-25T10:18:01.501Z</td></tr><tr><td>anesthesiology</td><td>792</td><td>Leanna</td><td>.@yopmail.com</td><td>3680845.0</td><td>Low Demand</td><td>15</td><td>Low Workload</td><td>2025-08-25T10:18:01.501Z</td></tr><tr><td>geriatrician</td><td>218</td><td>Carree</td><td>.@yopmail.com</td><td>0.0</td><td>Medium Demand</td><td>18</td><td>Medium Workload</td><td>2025-08-25T10:18:01.501Z</td></tr><tr><td>anesthesiology</td><td>348</td><td>Modestia</td><td>.@yopmail.com</td><td>0.0</td><td>Low Demand</td><td>15</td><td>Low Workload</td><td>2025-08-25T10:18:01.501Z</td></tr><tr><td>otolaryngologists</td><td>734</td><td>Chrystel</td><td>.@yopmail.com</td><td>384096.0</td><td>Medium Demand</td><td>21</td><td>Medium Workload</td><td>2025-08-25T10:18:01.501Z</td></tr><tr><td>endocrinologist</td><td>474</td><td>Karly</td><td>.@yopmail.com</td><td>700723.0</td><td>Low Demand</td><td>13</td><td>Low Workload</td><td>2025-08-25T10:18:01.501Z</td></tr><tr><td>ophthalmology</td><td>636</td><td>Chrystel</td><td>.@yopmail.com</td><td>0.0</td><td>Medium Demand</td><td>21</td><td>Medium Workload</td><td>2025-08-25T10:18:01.501Z</td></tr><tr><td>oncologist</td><td>760</td><td>Orsola</td><td>.@yopmail.com</td><td>0.0</td><td>High Demand</td><td>24</td><td>High Workload</td><td>2025-08-25T10:18:01.501Z</td></tr><tr><td>otolaryngologists</td><td>168</td><td>Mellicent</td><td>.@yopmail.com</td><td>0.0</td><td>Medium Demand</td><td>21</td><td>Medium Workload</td><td>2025-08-25T10:18:01.501Z</td></tr><tr><td>endocrinologist</td><td>572</td><td>Catrina</td><td>.@yopmail.com</td><td>929120.0</td><td>Low Demand</td><td>13</td><td>Low Workload</td><td>2025-08-25T10:18:01.501Z</td></tr><tr><td>obstetric anesthesiologists</td><td>852</td><td>Dennie</td><td>.@yopmail.com</td><td>0.0</td><td>Medium Demand</td><td>17</td><td>Medium Workload</td><td>2025-08-25T10:18:01.501Z</td></tr><tr><td>infectious disease</td><td>887</td><td>Marita</td><td>.@yopmail.com</td><td>0.0</td><td>High Demand</td><td>25</td><td>High Workload</td><td>2025-08-25T10:18:01.501Z</td></tr><tr><td>infectious disease</td><td>142</td><td>Felice</td><td>.@yopmail.com</td><td>0.0</td><td>High Demand</td><td>25</td><td>High Workload</td><td>2025-08-25T10:18:01.501Z</td></tr><tr><td>emergency medicine</td><td>178</td><td>Shaylyn</td><td>.@yopmail.com</td><td>0.0</td><td>Medium Demand</td><td>20</td><td>Medium Workload</td><td>2025-08-25T10:18:01.501Z</td></tr><tr><td>allergists</td><td>925</td><td>Hyacinthe</td><td>.@yopmail.com</td><td>366652.0</td><td>Low Demand</td><td>16</td><td>Low Workload</td><td>2025-08-25T10:18:01.501Z</td></tr><tr><td>neurology</td><td>308</td><td>Glynnis</td><td>.@yopmail.com</td><td>1889128.0</td><td>Low Demand</td><td>16</td><td>Low Workload</td><td>2025-08-25T10:18:01.501Z</td></tr><tr><td>infectious disease</td><td>328</td><td>Atlanta</td><td>.@yopmail.com</td><td>1987601.0</td><td>High Demand</td><td>25</td><td>High Workload</td><td>2025-08-25T10:18:01.501Z</td></tr><tr><td>emergency medicine</td><td>164</td><td>Alyssa</td><td>.@yopmail.com</td><td>0.0</td><td>Medium Demand</td><td>20</td><td>Medium Workload</td><td>2025-08-25T10:18:01.501Z</td></tr><tr><td>family medicine</td><td>470</td><td>Etta</td><td>.@yopmail.com</td><td>0.0</td><td>Low Demand</td><td>8</td><td>Low Workload</td><td>2025-08-25T10:18:01.501Z</td></tr><tr><td>gastroenterology</td><td>169</td><td>Maud</td><td>.@yopmail.com</td><td>0.0</td><td>High Demand</td><td>23</td><td>High Workload</td><td>2025-08-25T10:18:01.501Z</td></tr><tr><td>emergency medicine</td><td>500</td><td>Verla</td><td>.@yopmail.com</td><td>0.0</td><td>Medium Demand</td><td>20</td><td>Medium Workload</td><td>2025-08-25T10:18:01.501Z</td></tr><tr><td>surgery</td><td>139</td><td>Aurelie</td><td>.@yopmail.com</td><td>0.0</td><td>Medium Demand</td><td>14</td><td>Low Workload</td><td>2025-08-25T10:18:01.501Z</td></tr><tr><td>anesthesiology</td><td>359</td><td>Hollie</td><td>.@yopmail.com</td><td>0.0</td><td>Low Demand</td><td>15</td><td>Low Workload</td><td>2025-08-25T10:18:01.501Z</td></tr><tr><td>critical care medicine</td><td>479</td><td>Madeleine</td><td>.@yopmail.com</td><td>1778975.0</td><td>Low Demand</td><td>11</td><td>Low Workload</td><td>2025-08-25T10:18:01.501Z</td></tr><tr><td>infectious disease</td><td>340</td><td>Sheelagh</td><td>.@yopmail.com</td><td>450744.0</td><td>High Demand</td><td>25</td><td>High Workload</td><td>2025-08-25T10:18:01.501Z</td></tr><tr><td>oncologist</td><td>431</td><td>Ermengarde</td><td>.@yopmail.com</td><td>0.0</td><td>High Demand</td><td>24</td><td>High Workload</td><td>2025-08-25T10:18:01.501Z</td></tr><tr><td>internists</td><td>692</td><td>Nariko</td><td>.@yopmail.com</td><td>1889420.0</td><td>Medium Demand</td><td>21</td><td>Medium Workload</td><td>2025-08-25T10:18:01.501Z</td></tr><tr><td>psychiatry</td><td>881</td><td>Carmencita</td><td>.@yopmail.com</td><td>0.0</td><td>Low Demand</td><td>12</td><td>Low Workload</td><td>2025-08-25T10:18:01.501Z</td></tr><tr><td>pediatrics</td><td>250</td><td>Morganica</td><td>.@yopmail.com</td><td>0.0</td><td>Low Demand</td><td>15</td><td>Low Workload</td><td>2025-08-25T10:18:01.501Z</td></tr><tr><td>critical care medicine</td><td>377</td><td>Marsiella</td><td>.@yopmail.com</td><td>501491.0</td><td>Low Demand</td><td>11</td><td>Low Workload</td><td>2025-08-25T10:18:01.501Z</td></tr><tr><td>critical care medicine</td><td>432</td><td>Lorie</td><td>.@yopmail.com</td><td>0.0</td><td>Low Demand</td><td>11</td><td>Low Workload</td><td>2025-08-25T10:18:01.501Z</td></tr><tr><td>anesthesiology</td><td>582</td><td>Petronia</td><td>.@yopmail.com</td><td>0.0</td><td>Low Demand</td><td>15</td><td>Low Workload</td><td>2025-08-25T10:18:01.501Z</td></tr><tr><td>family medicine</td><td>570</td><td>Elise</td><td>.@yopmail.com</td><td>0.0</td><td>Low Demand</td><td>8</td><td>Low Workload</td><td>2025-08-25T10:18:01.501Z</td></tr><tr><td>cardiology</td><td>868</td><td>Livvyy</td><td>.@yopmail.com</td><td>0.0</td><td>Low Demand</td><td>14</td><td>Low Workload</td><td>2025-08-25T10:18:01.501Z</td></tr><tr><td>otolaryngologists</td><td>920</td><td>Nerta</td><td>.@yopmail.com</td><td>0.0</td><td>Medium Demand</td><td>21</td><td>Medium Workload</td><td>2025-08-25T10:18:01.501Z</td></tr><tr><td>geriatrician</td><td>306</td><td>Georgina</td><td>.@yopmail.com</td><td>809761.0</td><td>Medium Demand</td><td>18</td><td>Medium Workload</td><td>2025-08-25T10:18:01.501Z</td></tr><tr><td>internists</td><td>339</td><td>Brandise</td><td>.@yopmail.com</td><td>0.0</td><td>Medium Demand</td><td>21</td><td>Medium Workload</td><td>2025-08-25T10:18:01.501Z</td></tr><tr><td>ophthalmology</td><td>919</td><td>Lucy</td><td>.@yopmail.com</td><td>0.0</td><td>Medium Demand</td><td>21</td><td>Medium Workload</td><td>2025-08-25T10:18:01.501Z</td></tr><tr><td>anesthesiology</td><td>923</td><td>Hope</td><td>.@yopmail.com</td><td>0.0</td><td>Low Demand</td><td>15</td><td>Low Workload</td><td>2025-08-25T10:18:01.501Z</td></tr><tr><td>allergists</td><td>944</td><td>Elena</td><td>.@yopmail.com</td><td>555759.0</td><td>Low Demand</td><td>16</td><td>Low Workload</td><td>2025-08-25T10:18:01.501Z</td></tr><tr><td>dermatology</td><td>120</td><td>Lilith</td><td>.@yopmail.com</td><td>317648.0</td><td>High Demand</td><td>23</td><td>High Workload</td><td>2025-08-25T10:18:01.501Z</td></tr><tr><td>otolaryngologists</td><td>559</td><td>Ottilie</td><td>.@yopmail.com</td><td>0.0</td><td>Medium Demand</td><td>21</td><td>Medium Workload</td><td>2025-08-25T10:18:01.501Z</td></tr><tr><td>infectious disease</td><td>491</td><td>Jinny</td><td>.@yopmail.com</td><td>0.0</td><td>High Demand</td><td>25</td><td>High Workload</td><td>2025-08-25T10:18:01.501Z</td></tr><tr><td>radiology</td><td>634</td><td>Jacenta</td><td>.@yopmail.com</td><td>929397.0</td><td>Low Demand</td><td>15</td><td>Low Workload</td><td>2025-08-25T10:18:01.501Z</td></tr><tr><td>radiology</td><td>235</td><td>Mariann</td><td>.@yopmail.com</td><td>0.0</td><td>Low Demand</td><td>15</td><td>Low Workload</td><td>2025-08-25T10:18:01.501Z</td></tr><tr><td>pediatrics</td><td>545</td><td>Oona</td><td>.@yopmail.com</td><td>0.0</td><td>Low Demand</td><td>15</td><td>Low Workload</td><td>2025-08-25T10:18:01.501Z</td></tr><tr><td>otolaryngologists</td><td>776</td><td>Carilyn</td><td>.@yopmail.com</td><td>0.0</td><td>Medium Demand</td><td>21</td><td>Medium Workload</td><td>2025-08-25T10:18:01.501Z</td></tr><tr><td>critical care medicine</td><td>452</td><td>Minne</td><td>.@yopmail.com</td><td>3593294.0</td><td>Low Demand</td><td>11</td><td>Low Workload</td><td>2025-08-25T10:18:01.501Z</td></tr><tr><td>pulmonologists</td><td>266</td><td>Tera</td><td>.@yopmail.com</td><td>133113.0</td><td>Medium Demand</td><td>20</td><td>Medium Workload</td><td>2025-08-25T10:18:01.501Z</td></tr><tr><td>oncologist</td><td>650</td><td>Genevra</td><td>.@yopmail.com</td><td>700723.0</td><td>High Demand</td><td>24</td><td>High Workload</td><td>2025-08-25T10:18:01.501Z</td></tr><tr><td>critical care medicine</td><td>163</td><td>Candi</td><td>.@yopmail.com</td><td>0.0</td><td>Low Demand</td><td>11</td><td>Low Workload</td><td>2025-08-25T10:18:01.501Z</td></tr><tr><td>neurology</td><td>191</td><td>Britte</td><td>.@yopmail.com</td><td>475014.0</td><td>Low Demand</td><td>16</td><td>Low Workload</td><td>2025-08-25T10:18:01.501Z</td></tr><tr><td>emergency medicine</td><td>268</td><td>Demetris</td><td>.@yopmail.com</td><td>0.0</td><td>Medium Demand</td><td>20</td><td>Medium Workload</td><td>2025-08-25T10:18:01.501Z</td></tr><tr><td>cardiology</td><td>258</td><td>Joeann</td><td>.@yopmail.com</td><td>0.0</td><td>Low Demand</td><td>14</td><td>Low Workload</td><td>2025-08-25T10:18:01.501Z</td></tr><tr><td>oncologist</td><td>709</td><td>Gretal</td><td>.@yopmail.com</td><td>1062385.0</td><td>High Demand</td><td>24</td><td>High Workload</td><td>2025-08-25T10:18:01.501Z</td></tr><tr><td>geriatrician</td><td>959</td><td>Sharai</td><td>.@yopmail.com</td><td>608597.0</td><td>Medium Demand</td><td>18</td><td>Medium Workload</td><td>2025-08-25T10:18:01.501Z</td></tr><tr><td>cardiology</td><td>729</td><td>Louella</td><td>.@yopmail.com</td><td>0.0</td><td>Low Demand</td><td>14</td><td>Low Workload</td><td>2025-08-25T10:18:01.501Z</td></tr><tr><td>internists</td><td>397</td><td>Merry</td><td>.@yopmail.com</td><td>0.0</td><td>Medium Demand</td><td>21</td><td>Medium Workload</td><td>2025-08-25T10:18:01.501Z</td></tr><tr><td>allergists</td><td>430</td><td>Eolanda</td><td>.@yopmail.com</td><td>1691230.0</td><td>Low Demand</td><td>16</td><td>Low Workload</td><td>2025-08-25T10:18:01.501Z</td></tr><tr><td>anesthesiology</td><td>754</td><td>Riannon</td><td>.@yopmail.com</td><td>0.0</td><td>Low Demand</td><td>15</td><td>Low Workload</td><td>2025-08-25T10:18:01.501Z</td></tr><tr><td>infectious disease</td><td>419</td><td>Livvyy</td><td>.@yopmail.com</td><td>700723.0</td><td>High Demand</td><td>25</td><td>High Workload</td><td>2025-08-25T10:18:01.501Z</td></tr><tr><td>infectious disease</td><td>542</td><td>Sandie</td><td>.@yopmail.com</td><td>1389961.0</td><td>High Demand</td><td>25</td><td>High Workload</td><td>2025-08-25T10:18:01.501Z</td></tr><tr><td>infectious disease</td><td>560</td><td>Letizia</td><td>.@yopmail.com</td><td>0.0</td><td>High Demand</td><td>25</td><td>High Workload</td><td>2025-08-25T10:18:01.501Z</td></tr><tr><td>infectious disease</td><td>415</td><td>Lacie</td><td>.@yopmail.com</td><td>379148.0</td><td>High Demand</td><td>25</td><td>High Workload</td><td>2025-08-25T10:18:01.501Z</td></tr><tr><td>nephrology</td><td>644</td><td>Corina</td><td>.@yopmail.com</td><td>732970.0</td><td>Low Demand</td><td>15</td><td>Low Workload</td><td>2025-08-25T10:18:01.501Z</td></tr><tr><td>psychiatry</td><td>826</td><td>Rosene</td><td>.@yopmail.com</td><td>0.0</td><td>Low Demand</td><td>12</td><td>Low Workload</td><td>2025-08-25T10:18:01.501Z</td></tr><tr><td>otolaryngologists</td><td>117</td><td>Karena</td><td>.@yopmail.com</td><td>1118905.0</td><td>Medium Demand</td><td>21</td><td>Medium Workload</td><td>2025-08-25T10:18:01.501Z</td></tr><tr><td>neurology</td><td>227</td><td>Millie</td><td>.@yopmail.com</td><td>0.0</td><td>Low Demand</td><td>16</td><td>Low Workload</td><td>2025-08-25T10:18:01.501Z</td></tr><tr><td>dermatology</td><td>504</td><td>Averyl</td><td>.@yopmail.com</td><td>0.0</td><td>High Demand</td><td>23</td><td>High Workload</td><td>2025-08-25T10:18:01.501Z</td></tr><tr><td>pediatrics</td><td>598</td><td>Fanchon</td><td>.@yopmail.com</td><td>0.0</td><td>Low Demand</td><td>15</td><td>Low Workload</td><td>2025-08-25T10:18:01.501Z</td></tr><tr><td>nephrology</td><td>764</td><td>Lolita</td><td>.@yopmail.com</td><td>0.0</td><td>Low Demand</td><td>15</td><td>Low Workload</td><td>2025-08-25T10:18:01.501Z</td></tr><tr><td>gastroenterology</td><td>886</td><td>Calla</td><td>.@yopmail.com</td><td>0.0</td><td>High Demand</td><td>23</td><td>High Workload</td><td>2025-08-25T10:18:01.501Z</td></tr><tr><td>neurology</td><td>936</td><td>Carolina</td><td>.@yopmail.com</td><td>1346124.0</td><td>Low Demand</td><td>16</td><td>Low Workload</td><td>2025-08-25T10:18:01.501Z</td></tr><tr><td>pulmonologists</td><td>154</td><td>Leanna</td><td>.@yopmail.com</td><td>538664.0</td><td>Medium Demand</td><td>20</td><td>Medium Workload</td><td>2025-08-25T10:18:01.501Z</td></tr><tr><td>pediatrics</td><td>309</td><td>Sybille</td><td>.@yopmail.com</td><td>0.0</td><td>Low Demand</td><td>15</td><td>Low Workload</td><td>2025-08-25T10:18:01.501Z</td></tr><tr><td>psychiatry</td><td>425</td><td>Amara</td><td>.@yopmail.com</td><td>58453.0</td><td>Low Demand</td><td>12</td><td>Low Workload</td><td>2025-08-25T10:18:01.501Z</td></tr><tr><td>otolaryngologists</td><td>931</td><td>Micheline</td><td>.@yopmail.com</td><td>1496295.0</td><td>Medium Demand</td><td>21</td><td>Medium Workload</td><td>2025-08-25T10:18:01.501Z</td></tr><tr><td>psychiatry</td><td>347</td><td>Jacquetta</td><td>.@yopmail.com</td><td>1350236.0</td><td>Low Demand</td><td>12</td><td>Low Workload</td><td>2025-08-25T10:18:01.501Z</td></tr><tr><td>internists</td><td>447</td><td>Asia</td><td>.@yopmail.com</td><td>0.0</td><td>Medium Demand</td><td>21</td><td>Medium Workload</td><td>2025-08-25T10:18:01.501Z</td></tr><tr><td>oncologist</td><td>455</td><td>Maryellen</td><td>.@yopmail.com</td><td>0.0</td><td>High Demand</td><td>24</td><td>High Workload</td><td>2025-08-25T10:18:01.501Z</td></tr><tr><td>hospice and palliative care</td><td>484</td><td>Nanete</td><td>.@yopmail.com</td><td>0.0</td><td>Low Demand</td><td>7</td><td>Low Workload</td><td>2025-08-25T10:18:01.501Z</td></tr><tr><td>internists</td><td>607</td><td>Jenilee</td><td>.@yopmail.com</td><td>0.0</td><td>Medium Demand</td><td>21</td><td>Medium Workload</td><td>2025-08-25T10:18:01.501Z</td></tr><tr><td>otolaryngologists</td><td>845</td><td>Jaclyn</td><td>.@yopmail.com</td><td>954389.0</td><td>Medium Demand</td><td>21</td><td>Medium Workload</td><td>2025-08-25T10:18:01.501Z</td></tr><tr><td>pulmonologists</td><td>262</td><td>Maye</td><td>.@yopmail.com</td><td>2382142.0</td><td>Medium Demand</td><td>20</td><td>Medium Workload</td><td>2025-08-25T10:18:01.501Z</td></tr><tr><td>obstetric anesthesiologists</td><td>929</td><td>Aryn</td><td>.@yopmail.com</td><td>1752721.0</td><td>Medium Demand</td><td>17</td><td>Medium Workload</td><td>2025-08-25T10:18:01.501Z</td></tr><tr><td>pediatrics</td><td>112</td><td>Josephine</td><td>.@yopmail.com</td><td>0.0</td><td>Low Demand</td><td>15</td><td>Low Workload</td><td>2025-08-25T10:18:01.501Z</td></tr><tr><td>family medicine</td><td>269</td><td>Cathyleen</td><td>.@yopmail.com</td><td>0.0</td><td>Low Demand</td><td>8</td><td>Low Workload</td><td>2025-08-25T10:18:01.501Z</td></tr><tr><td>psychiatry</td><td>327</td><td>Heddie</td><td>.@yopmail.com</td><td>0.0</td><td>Low Demand</td><td>12</td><td>Low Workload</td><td>2025-08-25T10:18:01.501Z</td></tr><tr><td>geriatrician</td><td>563</td><td>Chere</td><td>.@yopmail.com</td><td>0.0</td><td>Medium Demand</td><td>18</td><td>Medium Workload</td><td>2025-08-25T10:18:01.501Z</td></tr><tr><td>surgery</td><td>615</td><td>Sonni</td><td>.@yopmail.com</td><td>1573612.0</td><td>Medium Demand</td><td>14</td><td>Low Workload</td><td>2025-08-25T10:18:01.501Z</td></tr><tr><td>family medicine</td><td>849</td><td>Florie</td><td>.@yopmail.com</td><td>0.0</td><td>Low Demand</td><td>8</td><td>Low Workload</td><td>2025-08-25T10:18:01.501Z</td></tr><tr><td>psychiatry</td><td>165</td><td>Monika</td><td>.@yopmail.com</td><td>349500.0</td><td>Low Demand</td><td>12</td><td>Low Workload</td><td>2025-08-25T10:18:01.501Z</td></tr><tr><td>dermatology</td><td>775</td><td>Tera</td><td>.@yopmail.com</td><td>615587.0</td><td>High Demand</td><td>23</td><td>High Workload</td><td>2025-08-25T10:18:01.501Z</td></tr><tr><td>otolaryngologists</td><td>358</td><td>Gerrie</td><td>.@yopmail.com</td><td>0.0</td><td>Medium Demand</td><td>21</td><td>Medium Workload</td><td>2025-08-25T10:18:01.501Z</td></tr><tr><td>pulmonologists</td><td>843</td><td>Leeanne</td><td>.@yopmail.com</td><td>0.0</td><td>Medium Demand</td><td>20</td><td>Medium Workload</td><td>2025-08-25T10:18:01.501Z</td></tr><tr><td>emergency medicine</td><td>854</td><td>Talya</td><td>.@yopmail.com</td><td>0.0</td><td>Medium Demand</td><td>20</td><td>Medium Workload</td><td>2025-08-25T10:18:01.501Z</td></tr><tr><td>anesthesiology</td><td>179</td><td>Petronia</td><td>.@yopmail.com</td><td>859275.0</td><td>Low Demand</td><td>15</td><td>Low Workload</td><td>2025-08-25T10:18:01.501Z</td></tr><tr><td>family medicine</td><td>189</td><td>Max</td><td>.@yopmail.com</td><td>3283643.0</td><td>Low Demand</td><td>8</td><td>Low Workload</td><td>2025-08-25T10:18:01.501Z</td></tr><tr><td>otolaryngologists</td><td>207</td><td>Rayna</td><td>.@yopmail.com</td><td>0.0</td><td>Medium Demand</td><td>21</td><td>Medium Workload</td><td>2025-08-25T10:18:01.501Z</td></tr><tr><td>nephrology</td><td>489</td><td>Sam</td><td>.@yopmail.com</td><td>0.0</td><td>Low Demand</td><td>15</td><td>Low Workload</td><td>2025-08-25T10:18:01.501Z</td></tr><tr><td>pediatrics</td><td>675</td><td>Brietta</td><td>.@yopmail.com</td><td>0.0</td><td>Low Demand</td><td>15</td><td>Low Workload</td><td>2025-08-25T10:18:01.501Z</td></tr><tr><td>pulmonologists</td><td>383</td><td>Catrina</td><td>.@yopmail.com</td><td>836090.0</td><td>Medium Demand</td><td>20</td><td>Medium Workload</td><td>2025-08-25T10:18:01.501Z</td></tr><tr><td>pulmonologists</td><td>127</td><td>Pollyanna</td><td>.@yopmail.com</td><td>0.0</td><td>Medium Demand</td><td>20</td><td>Medium Workload</td><td>2025-08-25T10:18:01.501Z</td></tr><tr><td>family medicine</td><td>461</td><td>Mady</td><td>.@yopmail.com</td><td>0.0</td><td>Low Demand</td><td>8</td><td>Low Workload</td><td>2025-08-25T10:18:01.501Z</td></tr><tr><td>oncologist</td><td>502</td><td>Nikki</td><td>.@yopmail.com</td><td>1673188.0</td><td>High Demand</td><td>24</td><td>High Workload</td><td>2025-08-25T10:18:01.501Z</td></tr><tr><td>pediatrics</td><td>819</td><td>Nanete</td><td>.@yopmail.com</td><td>626659.0</td><td>Low Demand</td><td>15</td><td>Low Workload</td><td>2025-08-25T10:18:01.501Z</td></tr><tr><td>cardiology</td><td>937</td><td>Robinia</td><td>.@yopmail.com</td><td>0.0</td><td>Low Demand</td><td>14</td><td>Low Workload</td><td>2025-08-25T10:18:01.501Z</td></tr><tr><td>pulmonologists</td><td>197</td><td>Ofilia</td><td>.@yopmail.com</td><td>1586483.0</td><td>Medium Demand</td><td>20</td><td>Medium Workload</td><td>2025-08-25T10:18:01.501Z</td></tr><tr><td>nephrology</td><td>486</td><td>Janis</td><td>.@yopmail.com</td><td>1266525.0</td><td>Low Demand</td><td>15</td><td>Low Workload</td><td>2025-08-25T10:18:01.501Z</td></tr><tr><td>emergency medicine</td><td>903</td><td>Lindie</td><td>.@yopmail.com</td><td>1323199.0</td><td>Medium Demand</td><td>20</td><td>Medium Workload</td><td>2025-08-25T10:18:01.501Z</td></tr><tr><td>oncologist</td><td>993</td><td>Sadie</td><td>.@yopmail.com</td><td>109954.0</td><td>High Demand</td><td>24</td><td>High Workload</td><td>2025-08-25T10:18:01.501Z</td></tr><tr><td>emergency medicine</td><td>547</td><td>Yolane</td><td>.@yopmail.com</td><td>1163170.0</td><td>Medium Demand</td><td>20</td><td>Medium Workload</td><td>2025-08-25T10:18:01.501Z</td></tr><tr><td>pulmonologists</td><td>202</td><td>Di</td><td>.@yopmail.com</td><td>940376.0</td><td>Medium Demand</td><td>20</td><td>Medium Workload</td><td>2025-08-25T10:18:01.501Z</td></tr><tr><td>nephrology</td><td>374</td><td>Giustina</td><td>.@yopmail.com</td><td>0.0</td><td>Low Demand</td><td>15</td><td>Low Workload</td><td>2025-08-25T10:18:01.501Z</td></tr><tr><td>allergists</td><td>564</td><td>Mahalia</td><td>.@yopmail.com</td><td>0.0</td><td>Low Demand</td><td>16</td><td>Low Workload</td><td>2025-08-25T10:18:01.501Z</td></tr><tr><td>allergists</td><td>619</td><td>Shannah</td><td>.@yopmail.com</td><td>1987601.0</td><td>Low Demand</td><td>16</td><td>Low Workload</td><td>2025-08-25T10:18:01.501Z</td></tr><tr><td>family medicine</td><td>231</td><td>Ida</td><td>.@yopmail.com</td><td>0.0</td><td>Low Demand</td><td>8</td><td>Low Workload</td><td>2025-08-25T10:18:01.501Z</td></tr><tr><td>oncologist</td><td>552</td><td>Florencia</td><td>.@yopmail.com</td><td>0.0</td><td>High Demand</td><td>24</td><td>High Workload</td><td>2025-08-25T10:18:01.501Z</td></tr><tr><td>oncologist</td><td>324</td><td>Christal</td><td>.@yopmail.com</td><td>0.0</td><td>High Demand</td><td>24</td><td>High Workload</td><td>2025-08-25T10:18:01.501Z</td></tr><tr><td>gastroenterology</td><td>586</td><td>Desirae</td><td>.@yopmail.com</td><td>715291.0</td><td>High Demand</td><td>23</td><td>High Workload</td><td>2025-08-25T10:18:01.501Z</td></tr><tr><td>radiology</td><td>286</td><td>Arlina</td><td>.@yopmail.com</td><td>0.0</td><td>Low Demand</td><td>15</td><td>Low Workload</td><td>2025-08-25T10:18:01.501Z</td></tr><tr><td>pediatrics</td><td>398</td><td>Misha</td><td>.@yopmail.com</td><td>0.0</td><td>Low Demand</td><td>15</td><td>Low Workload</td><td>2025-08-25T10:18:01.501Z</td></tr><tr><td>pulmonologists</td><td>505</td><td>Jobi</td><td>.@yopmail.com</td><td>0.0</td><td>Medium Demand</td><td>20</td><td>Medium Workload</td><td>2025-08-25T10:18:01.501Z</td></tr><tr><td>endocrinologist</td><td>538</td><td>Gisela</td><td>.@yopmail.com</td><td>0.0</td><td>Low Demand</td><td>13</td><td>Low Workload</td><td>2025-08-25T10:18:01.501Z</td></tr><tr><td>nephrology</td><td>387</td><td>Nadine</td><td>.@yopmail.com</td><td>0.0</td><td>Low Demand</td><td>15</td><td>Low Workload</td><td>2025-08-25T10:18:01.501Z</td></tr><tr><td>allergists</td><td>423</td><td>Carree</td><td>.@yopmail.com</td><td>0.0</td><td>Low Demand</td><td>16</td><td>Low Workload</td><td>2025-08-25T10:18:01.501Z</td></tr><tr><td>radiology</td><td>746</td><td>Gusty</td><td>.@yopmail.com</td><td>0.0</td><td>Low Demand</td><td>15</td><td>Low Workload</td><td>2025-08-25T10:18:01.501Z</td></tr><tr><td>family medicine</td><td>498</td><td>Carmela</td><td>.@yopmail.com</td><td>0.0</td><td>Low Demand</td><td>8</td><td>Low Workload</td><td>2025-08-25T10:18:01.501Z</td></tr><tr><td>nephrology</td><td>583</td><td>Gabi</td><td>.@yopmail.com</td><td>0.0</td><td>Low Demand</td><td>15</td><td>Low Workload</td><td>2025-08-25T10:18:01.501Z</td></tr><tr><td>dermatology</td><td>594</td><td>Gilda</td><td>.@yopmail.com</td><td>0.0</td><td>High Demand</td><td>23</td><td>High Workload</td><td>2025-08-25T10:18:01.501Z</td></tr><tr><td>radiology</td><td>610</td><td>Yvonne</td><td>.@yopmail.com</td><td>0.0</td><td>Low Demand</td><td>15</td><td>Low Workload</td><td>2025-08-25T10:18:01.501Z</td></tr><tr><td>surgery</td><td>761</td><td>Jobi</td><td>.@yopmail.com</td><td>109954.0</td><td>Medium Demand</td><td>14</td><td>Low Workload</td><td>2025-08-25T10:18:01.501Z</td></tr><tr><td>infectious disease</td><td>880</td><td>Imojean</td><td>.@yopmail.com</td><td>0.0</td><td>High Demand</td><td>25</td><td>High Workload</td><td>2025-08-25T10:18:01.501Z</td></tr><tr><td>otolaryngologists</td><td>485</td><td>Tera</td><td>.@yopmail.com</td><td>2089028.0</td><td>Medium Demand</td><td>21</td><td>Medium Workload</td><td>2025-08-25T10:18:01.501Z</td></tr><tr><td>allergists</td><td>742</td><td>Gui</td><td>.@yopmail.com</td><td>908837.0</td><td>Low Demand</td><td>16</td><td>Low Workload</td><td>2025-08-25T10:18:01.501Z</td></tr><tr><td>dermatology</td><td>838</td><td>Michaelina</td><td>.@yopmail.com</td><td>492242.0</td><td>High Demand</td><td>23</td><td>High Workload</td><td>2025-08-25T10:18:01.501Z</td></tr><tr><td>obstetric anesthesiologists</td><td>870</td><td>Johna</td><td>.@yopmail.com</td><td>0.0</td><td>Medium Demand</td><td>17</td><td>Medium Workload</td><td>2025-08-25T10:18:01.501Z</td></tr><tr><td>radiology</td><td>900</td><td>Norine</td><td>.@yopmail.com</td><td>0.0</td><td>Low Demand</td><td>15</td><td>Low Workload</td><td>2025-08-25T10:18:01.501Z</td></tr><tr><td>nephrology</td><td>437</td><td>Tera</td><td>.@yopmail.com</td><td>121894.0</td><td>Low Demand</td><td>15</td><td>Low Workload</td><td>2025-08-25T10:18:01.501Z</td></tr><tr><td>anesthesiology</td><td>829</td><td>Molli</td><td>.@yopmail.com</td><td>409394.0</td><td>Low Demand</td><td>15</td><td>Low Workload</td><td>2025-08-25T10:18:01.501Z</td></tr><tr><td>cardiology</td><td>217</td><td>Celestyna</td><td>.@yopmail.com</td><td>0.0</td><td>Low Demand</td><td>14</td><td>Low Workload</td><td>2025-08-25T10:18:01.501Z</td></tr><tr><td>anesthesiology</td><td>290</td><td>Bernie</td><td>.@yopmail.com</td><td>0.0</td><td>Low Demand</td><td>15</td><td>Low Workload</td><td>2025-08-25T10:18:01.501Z</td></tr><tr><td>hospice and palliative care</td><td>733</td><td>Teriann</td><td>.@yopmail.com</td><td>0.0</td><td>Low Demand</td><td>7</td><td>Low Workload</td><td>2025-08-25T10:18:01.501Z</td></tr><tr><td>radiology</td><td>800</td><td>Hermione</td><td>.@yopmail.com</td><td>2273242.0</td><td>Low Demand</td><td>15</td><td>Low Workload</td><td>2025-08-25T10:18:01.501Z</td></tr><tr><td>dermatology</td><td>884</td><td>Randa</td><td>.@yopmail.com</td><td>134921.0</td><td>High Demand</td><td>23</td><td>High Workload</td><td>2025-08-25T10:18:01.501Z</td></tr><tr><td>surgery</td><td>948</td><td>Kirstin</td><td>.@yopmail.com</td><td>0.0</td><td>Medium Demand</td><td>14</td><td>Low Workload</td><td>2025-08-25T10:18:01.501Z</td></tr><tr><td>nephrology</td><td>229</td><td>Krystle</td><td>.@yopmail.com</td><td>0.0</td><td>Low Demand</td><td>15</td><td>Low Workload</td><td>2025-08-25T10:18:01.501Z</td></tr><tr><td>anesthesiology</td><td>537</td><td>Carmela</td><td>.@yopmail.com</td><td>0.0</td><td>Low Demand</td><td>15</td><td>Low Workload</td><td>2025-08-25T10:18:01.501Z</td></tr><tr><td>oncologist</td><td>173</td><td>Charissa</td><td>.@yopmail.com</td><td>662732.0</td><td>High Demand</td><td>24</td><td>High Workload</td><td>2025-08-25T10:18:01.501Z</td></tr><tr><td>emergency medicine</td><td>220</td><td>Carly</td><td>.@yopmail.com</td><td>0.0</td><td>Medium Demand</td><td>20</td><td>Medium Workload</td><td>2025-08-25T10:18:01.501Z</td></tr><tr><td>geriatrician</td><td>494</td><td>Mildrid</td><td>.@yopmail.com</td><td>520455.0</td><td>Medium Demand</td><td>18</td><td>Medium Workload</td><td>2025-08-25T10:18:01.501Z</td></tr><tr><td>surgery</td><td>669</td><td>Fredericka</td><td>.@yopmail.com</td><td>0.0</td><td>Medium Demand</td><td>14</td><td>Low Workload</td><td>2025-08-25T10:18:01.501Z</td></tr><tr><td>nephrology</td><td>713</td><td>Morganica</td><td>.@yopmail.com</td><td>0.0</td><td>Low Demand</td><td>15</td><td>Low Workload</td><td>2025-08-25T10:18:01.501Z</td></tr><tr><td>otolaryngologists</td><td>810</td><td>Wendi</td><td>.@yopmail.com</td><td>0.0</td><td>Medium Demand</td><td>21</td><td>Medium Workload</td><td>2025-08-25T10:18:01.501Z</td></tr><tr><td>internists</td><td>890</td><td>Fredericka</td><td>.@yopmail.com</td><td>0.0</td><td>Medium Demand</td><td>21</td><td>Medium Workload</td><td>2025-08-25T10:18:01.501Z</td></tr><tr><td>hospice and palliative care</td><td>445</td><td>Cyb</td><td>.@yopmail.com</td><td>0.0</td><td>Low Demand</td><td>7</td><td>Low Workload</td><td>2025-08-25T10:18:01.501Z</td></tr><tr><td>emergency medicine</td><td>100</td><td>Thalia</td><td>.@yopmail.com</td><td>0.0</td><td>Medium Demand</td><td>20</td><td>Medium Workload</td><td>2025-08-25T10:18:01.501Z</td></tr><tr><td>allergists</td><td>241</td><td>Merci</td><td>.@yopmail.com</td><td>0.0</td><td>Low Demand</td><td>16</td><td>Low Workload</td><td>2025-08-25T10:18:01.501Z</td></tr><tr><td>infectious disease</td><td>449</td><td>Harmonia</td><td>.@yopmail.com</td><td>0.0</td><td>High Demand</td><td>25</td><td>High Workload</td><td>2025-08-25T10:18:01.501Z</td></tr><tr><td>family medicine</td><td>450</td><td>Evita</td><td>.@yopmail.com</td><td>0.0</td><td>Low Demand</td><td>8</td><td>Low Workload</td><td>2025-08-25T10:18:01.501Z</td></tr><tr><td>otolaryngologists</td><td>495</td><td>Aeriela</td><td>.@yopmail.com</td><td>0.0</td><td>Medium Demand</td><td>21</td><td>Medium Workload</td><td>2025-08-25T10:18:01.501Z</td></tr><tr><td>neurology</td><td>757</td><td>Mariele</td><td>.@yopmail.com</td><td>331820.0</td><td>Low Demand</td><td>16</td><td>Low Workload</td><td>2025-08-25T10:18:01.501Z</td></tr><tr><td>family medicine</td><td>930</td><td>Raf</td><td>.@yopmail.com</td><td>0.0</td><td>Low Demand</td><td>8</td><td>Low Workload</td><td>2025-08-25T10:18:01.501Z</td></tr><tr><td>gastroenterology</td><td>161</td><td>Jolyn</td><td>.@yopmail.com</td><td>965827.0</td><td>High Demand</td><td>23</td><td>High Workload</td><td>2025-08-25T10:18:01.501Z</td></tr><tr><td>endocrinologist</td><td>555</td><td>Misha</td><td>.@yopmail.com</td><td>0.0</td><td>Low Demand</td><td>13</td><td>Low Workload</td><td>2025-08-25T10:18:01.501Z</td></tr><tr><td>dermatology</td><td>687</td><td>Juliane</td><td>.@yopmail.com</td><td>0.0</td><td>High Demand</td><td>23</td><td>High Workload</td><td>2025-08-25T10:18:01.501Z</td></tr><tr><td>otolaryngologists</td><td>679</td><td>Debee</td><td>.@yopmail.com</td><td>1987975.0</td><td>Medium Demand</td><td>21</td><td>Medium Workload</td><td>2025-08-25T10:18:01.501Z</td></tr><tr><td>pulmonologists</td><td>629</td><td>Ada</td><td>.@yopmail.com</td><td>0.0</td><td>Medium Demand</td><td>20</td><td>Medium Workload</td><td>2025-08-25T10:18:01.501Z</td></tr><tr><td>neurology</td><td>672</td><td>Gerianna</td><td>.@yopmail.com</td><td>0.0</td><td>Low Demand</td><td>16</td><td>Low Workload</td><td>2025-08-25T10:18:01.501Z</td></tr><tr><td>oncologist</td><td>736</td><td>Candi</td><td>.@yopmail.com</td><td>0.0</td><td>High Demand</td><td>24</td><td>High Workload</td><td>2025-08-25T10:18:01.501Z</td></tr><tr><td>allergists</td><td>791</td><td>Charmaine</td><td>.@yopmail.com</td><td>0.0</td><td>Low Demand</td><td>16</td><td>Low Workload</td><td>2025-08-25T10:18:01.501Z</td></tr><tr><td>geriatrician</td><td>162</td><td>Beth</td><td>.@yopmail.com</td><td>0.0</td><td>Medium Demand</td><td>18</td><td>Medium Workload</td><td>2025-08-25T10:18:01.501Z</td></tr><tr><td>ophthalmology</td><td>637</td><td>Lorenza</td><td>.@yopmail.com</td><td>1376889.0</td><td>Medium Demand</td><td>21</td><td>Medium Workload</td><td>2025-08-25T10:18:01.501Z</td></tr><tr><td>emergency medicine</td><td>877</td><td>Vevay</td><td>.@yopmail.com</td><td>2113058.0</td><td>Medium Demand</td><td>20</td><td>Medium Workload</td><td>2025-08-25T10:18:01.501Z</td></tr><tr><td>family medicine</td><td>238</td><td>Patricia</td><td>.@yopmail.com</td><td>0.0</td><td>Low Demand</td><td>8</td><td>Low Workload</td><td>2025-08-25T10:18:01.501Z</td></tr><tr><td>psychiatry</td><td>648</td><td>Marcelline</td><td>.@yopmail.com</td><td>0.0</td><td>Low Demand</td><td>12</td><td>Low Workload</td><td>2025-08-25T10:18:01.501Z</td></tr><tr><td>ophthalmology</td><td>136</td><td>Veda</td><td>.@yopmail.com</td><td>0.0</td><td>Medium Demand</td><td>21</td><td>Medium Workload</td><td>2025-08-25T10:18:01.501Z</td></tr><tr><td>obstetric anesthesiologists</td><td>453</td><td>Evaleen</td><td>.@yopmail.com</td><td>0.0</td><td>Medium Demand</td><td>17</td><td>Medium Workload</td><td>2025-08-25T10:18:01.501Z</td></tr><tr><td>neurology</td><td>720</td><td>Jere</td><td>.@yopmail.com</td><td>0.0</td><td>Low Demand</td><td>16</td><td>Low Workload</td><td>2025-08-25T10:18:01.501Z</td></tr><tr><td>oncologist</td><td>856</td><td>Arabel</td><td>.@yopmail.com</td><td>148700.0</td><td>High Demand</td><td>24</td><td>High Workload</td><td>2025-08-25T10:18:01.501Z</td></tr><tr><td>nephrology</td><td>1000</td><td>Brana</td><td>.@yopmail.com</td><td>0.0</td><td>Low Demand</td><td>15</td><td>Low Workload</td><td>2025-08-25T10:18:01.501Z</td></tr><tr><td>internists</td><td>247</td><td>Nyssa</td><td>.@yopmail.com</td><td>50442.0</td><td>Medium Demand</td><td>21</td><td>Medium Workload</td><td>2025-08-25T10:18:01.501Z</td></tr><tr><td>nephrology</td><td>314</td><td>Ernesta</td><td>.@yopmail.com</td><td>1268098.0</td><td>Low Demand</td><td>15</td><td>Low Workload</td><td>2025-08-25T10:18:01.501Z</td></tr><tr><td>geriatrician</td><td>664</td><td>Flo</td><td>.@yopmail.com</td><td>0.0</td><td>Medium Demand</td><td>18</td><td>Medium Workload</td><td>2025-08-25T10:18:01.501Z</td></tr><tr><td>endocrinologist</td><td>691</td><td>Andeee</td><td>.@yopmail.com</td><td>825064.0</td><td>Low Demand</td><td>13</td><td>Low Workload</td><td>2025-08-25T10:18:01.501Z</td></tr><tr><td>gastroenterology</td><td>728</td><td>Eugine</td><td>.@yopmail.com</td><td>734519.0</td><td>High Demand</td><td>23</td><td>High Workload</td><td>2025-08-25T10:18:01.501Z</td></tr><tr><td>psychiatry</td><td>565</td><td>Dione</td><td>.@yopmail.com</td><td>0.0</td><td>Low Demand</td><td>12</td><td>Low Workload</td><td>2025-08-25T10:18:01.501Z</td></tr><tr><td>radiology</td><td>171</td><td>Meriel</td><td>.@yopmail.com</td><td>0.0</td><td>Low Demand</td><td>15</td><td>Low Workload</td><td>2025-08-25T10:18:01.501Z</td></tr><tr><td>otolaryngologists</td><td>434</td><td>Verla</td><td>.@yopmail.com</td><td>0.0</td><td>Medium Demand</td><td>21</td><td>Medium Workload</td><td>2025-08-25T10:18:01.501Z</td></tr><tr><td>gastroenterology</td><td>439</td><td>Noelle</td><td>.@yopmail.com</td><td>301351.0</td><td>High Demand</td><td>23</td><td>High Workload</td><td>2025-08-25T10:18:01.501Z</td></tr><tr><td>nephrology</td><td>443</td><td>Renie</td><td>.@yopmail.com</td><td>1354711.0</td><td>Low Demand</td><td>15</td><td>Low Workload</td><td>2025-08-25T10:18:01.501Z</td></tr><tr><td>pulmonologists</td><td>956</td><td>Merry</td><td>.@yopmail.com</td><td>0.0</td><td>Medium Demand</td><td>20</td><td>Medium Workload</td><td>2025-08-25T10:18:01.501Z</td></tr><tr><td>surgery</td><td>194</td><td>Phedra</td><td>.@yopmail.com</td><td>0.0</td><td>Medium Demand</td><td>14</td><td>Low Workload</td><td>2025-08-25T10:18:01.501Z</td></tr><tr><td>internists</td><td>277</td><td>Chere</td><td>.@yopmail.com</td><td>482591.0</td><td>Medium Demand</td><td>21</td><td>Medium Workload</td><td>2025-08-25T10:18:01.501Z</td></tr><tr><td>pulmonologists</td><td>428</td><td>Moyna</td><td>.@yopmail.com</td><td>0.0</td><td>Medium Demand</td><td>20</td><td>Medium Workload</td><td>2025-08-25T10:18:01.501Z</td></tr><tr><td>cardiology</td><td>794</td><td>Henriette</td><td>.@yopmail.com</td><td>497541.0</td><td>Low Demand</td><td>14</td><td>Low Workload</td><td>2025-08-25T10:18:01.501Z</td></tr><tr><td>otolaryngologists</td><td>957</td><td>Sissy</td><td>.@yopmail.com</td><td>87017.0</td><td>Medium Demand</td><td>21</td><td>Medium Workload</td><td>2025-08-25T10:18:01.501Z</td></tr><tr><td>oncologist</td><td>994</td><td>Cristabel</td><td>.@yopmail.com</td><td>1091295.0</td><td>High Demand</td><td>24</td><td>High Workload</td><td>2025-08-25T10:18:01.501Z</td></tr><tr><td>oncologist</td><td>391</td><td>Annabela</td><td>.@yopmail.com</td><td>0.0</td><td>High Demand</td><td>24</td><td>High Workload</td><td>2025-08-25T10:18:01.501Z</td></tr><tr><td>gastroenterology</td><td>438</td><td>Iseabal</td><td>.@yopmail.com</td><td>2500369.0</td><td>High Demand</td><td>23</td><td>High Workload</td><td>2025-08-25T10:18:01.501Z</td></tr><tr><td>infectious disease</td><td>532</td><td>Mureil</td><td>.@yopmail.com</td><td>995778.0</td><td>High Demand</td><td>25</td><td>High Workload</td><td>2025-08-25T10:18:01.501Z</td></tr><tr><td>dermatology</td><td>706</td><td>Robbi</td><td>.@yopmail.com</td><td>0.0</td><td>High Demand</td><td>23</td><td>High Workload</td><td>2025-08-25T10:18:01.501Z</td></tr><tr><td>geriatrician</td><td>821</td><td>Farrah</td><td>.@yopmail.com</td><td>0.0</td><td>Medium Demand</td><td>18</td><td>Medium Workload</td><td>2025-08-25T10:18:01.501Z</td></tr><tr><td>gastroenterology</td><td>129</td><td>Aurelie</td><td>.@yopmail.com</td><td>3204079.0</td><td>High Demand</td><td>23</td><td>High Workload</td><td>2025-08-25T10:18:01.501Z</td></tr><tr><td>ophthalmology</td><td>448</td><td>Laurene</td><td>.@yopmail.com</td><td>0.0</td><td>Medium Demand</td><td>21</td><td>Medium Workload</td><td>2025-08-25T10:18:01.501Z</td></tr><tr><td>neurology</td><td>928</td><td>Doralynne</td><td>.@yopmail.com</td><td>1242687.0</td><td>Low Demand</td><td>16</td><td>Low Workload</td><td>2025-08-25T10:18:01.501Z</td></tr><tr><td>critical care medicine</td><td>400</td><td>Moyna</td><td>.@yopmail.com</td><td>183912.0</td><td>Low Demand</td><td>11</td><td>Low Workload</td><td>2025-08-25T10:18:01.501Z</td></tr><tr><td>radiology</td><td>543</td><td>Orelia</td><td>.@yopmail.com</td><td>1158745.0</td><td>Low Demand</td><td>15</td><td>Low Workload</td><td>2025-08-25T10:18:01.501Z</td></tr><tr><td>endocrinologist</td><td>524</td><td>Christy</td><td>.@yopmail.com</td><td>681424.0</td><td>Low Demand</td><td>13</td><td>Low Workload</td><td>2025-08-25T10:18:01.501Z</td></tr><tr><td>pulmonologists</td><td>533</td><td>Agathe</td><td>.@yopmail.com</td><td>0.0</td><td>Medium Demand</td><td>20</td><td>Medium Workload</td><td>2025-08-25T10:18:01.501Z</td></tr><tr><td>cardiology</td><td>661</td><td>Darlleen</td><td>.@yopmail.com</td><td>1232251.0</td><td>Low Demand</td><td>14</td><td>Low Workload</td><td>2025-08-25T10:18:01.501Z</td></tr><tr><td>internists</td><td>239</td><td>Frieda</td><td>.@yopmail.com</td><td>0.0</td><td>Medium Demand</td><td>21</td><td>Medium Workload</td><td>2025-08-25T10:18:01.501Z</td></tr><tr><td>gastroenterology</td><td>312</td><td>Kimmy</td><td>.@yopmail.com</td><td>0.0</td><td>High Demand</td><td>23</td><td>High Workload</td><td>2025-08-25T10:18:01.501Z</td></tr><tr><td>infectious disease</td><td>389</td><td>Max</td><td>.@yopmail.com</td><td>369728.0</td><td>High Demand</td><td>25</td><td>High Workload</td><td>2025-08-25T10:18:01.501Z</td></tr><tr><td>otolaryngologists</td><td>869</td><td>Aili</td><td>.@yopmail.com</td><td>0.0</td><td>Medium Demand</td><td>21</td><td>Medium Workload</td><td>2025-08-25T10:18:01.501Z</td></tr><tr><td>allergists</td><td>885</td><td>Lilith</td><td>.@yopmail.com</td><td>0.0</td><td>Low Demand</td><td>16</td><td>Low Workload</td><td>2025-08-25T10:18:01.501Z</td></tr><tr><td>hospice and palliative care</td><td>403</td><td>Mallory</td><td>.@yopmail.com</td><td>0.0</td><td>Low Demand</td><td>7</td><td>Low Workload</td><td>2025-08-25T10:18:01.501Z</td></tr><tr><td>gastroenterology</td><td>779</td><td>Nerta</td><td>.@yopmail.com</td><td>0.0</td><td>High Demand</td><td>23</td><td>High Workload</td><td>2025-08-25T10:18:01.501Z</td></tr><tr><td>pediatrics</td><td>459</td><td>Alex</td><td>.@yopmail.com</td><td>1050834.0</td><td>Low Demand</td><td>15</td><td>Low Workload</td><td>2025-08-25T10:18:01.501Z</td></tr><tr><td>pediatrics</td><td>509</td><td>Hope</td><td>.@yopmail.com</td><td>0.0</td><td>Low Demand</td><td>15</td><td>Low Workload</td><td>2025-08-25T10:18:01.501Z</td></tr><tr><td>oncologist</td><td>907</td><td>Ida</td><td>.@yopmail.com</td><td>0.0</td><td>High Demand</td><td>24</td><td>High Workload</td><td>2025-08-25T10:18:01.501Z</td></tr><tr><td>pediatrics</td><td>361</td><td>Sashenka</td><td>.@yopmail.com</td><td>0.0</td><td>Low Demand</td><td>15</td><td>Low Workload</td><td>2025-08-25T10:18:01.501Z</td></tr><tr><td>dermatology</td><td>589</td><td>Calla</td><td>.@yopmail.com</td><td>2371464.0</td><td>High Demand</td><td>23</td><td>High Workload</td><td>2025-08-25T10:18:01.501Z</td></tr><tr><td>gastroenterology</td><td>814</td><td>Rani</td><td>.@yopmail.com</td><td>0.0</td><td>High Demand</td><td>23</td><td>High Workload</td><td>2025-08-25T10:18:01.501Z</td></tr><tr><td>otolaryngologists</td><td>848</td><td>Tina</td><td>.@yopmail.com</td><td>0.0</td><td>Medium Demand</td><td>21</td><td>Medium Workload</td><td>2025-08-25T10:18:01.501Z</td></tr><tr><td>oncologist</td><td>658</td><td>Corina</td><td>.@yopmail.com</td><td>480872.0</td><td>High Demand</td><td>24</td><td>High Workload</td><td>2025-08-25T10:18:01.501Z</td></tr><tr><td>obstetric anesthesiologists</td><td>750</td><td>Dode</td><td>.@yopmail.com</td><td>1169281.0</td><td>Medium Demand</td><td>17</td><td>Medium Workload</td><td>2025-08-25T10:18:01.501Z</td></tr><tr><td>internists</td><td>771</td><td>Karena</td><td>.@yopmail.com</td><td>408676.0</td><td>Medium Demand</td><td>21</td><td>Medium Workload</td><td>2025-08-25T10:18:01.501Z</td></tr><tr><td>obstetric anesthesiologists</td><td>951</td><td>Priscilla</td><td>.@yopmail.com</td><td>1590102.0</td><td>Medium Demand</td><td>17</td><td>Medium Workload</td><td>2025-08-25T10:18:01.501Z</td></tr><tr><td>emergency medicine</td><td>267</td><td>Demetris</td><td>.@yopmail.com</td><td>0.0</td><td>Medium Demand</td><td>20</td><td>Medium Workload</td><td>2025-08-25T10:18:01.501Z</td></tr><tr><td>cardiology</td><td>527</td><td>Cristabel</td><td>.@yopmail.com</td><td>0.0</td><td>Low Demand</td><td>14</td><td>Low Workload</td><td>2025-08-25T10:18:01.501Z</td></tr><tr><td>otolaryngologists</td><td>569</td><td>Corina</td><td>.@yopmail.com</td><td>0.0</td><td>Medium Demand</td><td>21</td><td>Medium Workload</td><td>2025-08-25T10:18:01.501Z</td></tr><tr><td>geriatrician</td><td>769</td><td>Corry</td><td>.@yopmail.com</td><td>0.0</td><td>Medium Demand</td><td>18</td><td>Medium Workload</td><td>2025-08-25T10:18:01.501Z</td></tr><tr><td>pulmonologists</td><td>938</td><td>Hermione</td><td>.@yopmail.com</td><td>0.0</td><td>Medium Demand</td><td>20</td><td>Medium Workload</td><td>2025-08-25T10:18:01.501Z</td></tr><tr><td>emergency medicine</td><td>977</td><td>June</td><td>.@yopmail.com</td><td>423459.0</td><td>Medium Demand</td><td>20</td><td>Medium Workload</td><td>2025-08-25T10:18:01.501Z</td></tr><tr><td>gastroenterology</td><td>759</td><td>Leona</td><td>.@yopmail.com</td><td>1262138.0</td><td>High Demand</td><td>23</td><td>High Workload</td><td>2025-08-25T10:18:01.501Z</td></tr><tr><td>internists</td><td>812</td><td>Marylou</td><td>.@yopmail.com</td><td>0.0</td><td>Medium Demand</td><td>21</td><td>Medium Workload</td><td>2025-08-25T10:18:01.501Z</td></tr><tr><td>psychiatry</td><td>952</td><td>Ingrid</td><td>.@yopmail.com</td><td>0.0</td><td>Low Demand</td><td>12</td><td>Low Workload</td><td>2025-08-25T10:18:01.501Z</td></tr><tr><td>gastroenterology</td><td>261</td><td>Kylynn</td><td>.@yopmail.com</td><td>0.0</td><td>High Demand</td><td>23</td><td>High Workload</td><td>2025-08-25T10:18:01.501Z</td></tr><tr><td>ophthalmology</td><td>418</td><td>Danny</td><td>.@yopmail.com</td><td>0.0</td><td>Medium Demand</td><td>21</td><td>Medium Workload</td><td>2025-08-25T10:18:01.501Z</td></tr><tr><td>oncologist</td><td>946</td><td>Zsa Zsa</td><td>.@yopmail.com</td><td>0.0</td><td>High Demand</td><td>24</td><td>High Workload</td><td>2025-08-25T10:18:01.501Z</td></tr><tr><td>pulmonologists</td><td>181</td><td>Britte</td><td>.@yopmail.com</td><td>865126.0</td><td>Medium Demand</td><td>20</td><td>Medium Workload</td><td>2025-08-25T10:18:01.501Z</td></tr><tr><td>family medicine</td><td>249</td><td>Nataline</td><td>.@yopmail.com</td><td>0.0</td><td>Low Demand</td><td>8</td><td>Low Workload</td><td>2025-08-25T10:18:01.501Z</td></tr><tr><td>nephrology</td><td>364</td><td>Aurelie</td><td>.@yopmail.com</td><td>0.0</td><td>Low Demand</td><td>15</td><td>Low Workload</td><td>2025-08-25T10:18:01.501Z</td></tr><tr><td>surgery</td><td>510</td><td>Ada</td><td>.@yopmail.com</td><td>0.0</td><td>Medium Demand</td><td>14</td><td>Low Workload</td><td>2025-08-25T10:18:01.501Z</td></tr><tr><td>endocrinologist</td><td>288</td><td>Frank</td><td>.@yopmail.com</td><td>0.0</td><td>Low Demand</td><td>13</td><td>Low Workload</td><td>2025-08-25T10:18:01.501Z</td></tr><tr><td>infectious disease</td><td>889</td><td>Paola</td><td>.@yopmail.com</td><td>1747344.0</td><td>High Demand</td><td>25</td><td>High Workload</td><td>2025-08-25T10:18:01.501Z</td></tr><tr><td>surgery</td><td>245</td><td>Mahalia</td><td>.@yopmail.com</td><td>0.0</td><td>Medium Demand</td><td>14</td><td>Low Workload</td><td>2025-08-25T10:18:01.501Z</td></tr><tr><td>obstetric anesthesiologists</td><td>427</td><td>Jeanna</td><td>.@yopmail.com</td><td>3024970.0</td><td>Medium Demand</td><td>17</td><td>Medium Workload</td><td>2025-08-25T10:18:01.501Z</td></tr><tr><td>allergists</td><td>763</td><td>Vonny</td><td>.@yopmail.com</td><td>0.0</td><td>Low Demand</td><td>16</td><td>Low Workload</td><td>2025-08-25T10:18:01.501Z</td></tr><tr><td>gastroenterology</td><td>816</td><td>Linet</td><td>.@yopmail.com</td><td>0.0</td><td>High Demand</td><td>23</td><td>High Workload</td><td>2025-08-25T10:18:01.501Z</td></tr><tr><td>radiology</td><td>113</td><td>Shaylyn</td><td>.@yopmail.com</td><td>0.0</td><td>Low Demand</td><td>15</td><td>Low Workload</td><td>2025-08-25T10:18:01.501Z</td></tr><tr><td>cardiology</td><td>237</td><td>Suzette</td><td>.@yopmail.com</td><td>1830079.0</td><td>Low Demand</td><td>14</td><td>Low Workload</td><td>2025-08-25T10:18:01.501Z</td></tr><tr><td>radiology</td><td>895</td><td>Kary</td><td>.@yopmail.com</td><td>0.0</td><td>Low Demand</td><td>15</td><td>Low Workload</td><td>2025-08-25T10:18:01.501Z</td></tr><tr><td>otolaryngologists</td><td>645</td><td>Asia</td><td>.@yopmail.com</td><td>0.0</td><td>Medium Demand</td><td>21</td><td>Medium Workload</td><td>2025-08-25T10:18:01.501Z</td></tr><tr><td>pulmonologists</td><td>893</td><td>Michaelina</td><td>.@yopmail.com</td><td>0.0</td><td>Medium Demand</td><td>20</td><td>Medium Workload</td><td>2025-08-25T10:18:01.501Z</td></tr><tr><td>nephrology</td><td>408</td><td>Pamella</td><td>.@yopmail.com</td><td>0.0</td><td>Low Demand</td><td>15</td><td>Low Workload</td><td>2025-08-25T10:18:01.501Z</td></tr><tr><td>emergency medicine</td><td>730</td><td>Luci</td><td>.@yopmail.com</td><td>390250.0</td><td>Medium Demand</td><td>20</td><td>Medium Workload</td><td>2025-08-25T10:18:01.501Z</td></tr><tr><td>infectious disease</td><td>156</td><td>Claudina</td><td>.@yopmail.com</td><td>0.0</td><td>High Demand</td><td>25</td><td>High Workload</td><td>2025-08-25T10:18:01.501Z</td></tr><tr><td>infectious disease</td><td>480</td><td>Leontine</td><td>.@yopmail.com</td><td>0.0</td><td>High Demand</td><td>25</td><td>High Workload</td><td>2025-08-25T10:18:01.501Z</td></tr><tr><td>critical care medicine</td><td>143</td><td>Rebeca</td><td>.@yopmail.com</td><td>0.0</td><td>Low Demand</td><td>11</td><td>Low Workload</td><td>2025-08-25T10:18:01.501Z</td></tr><tr><td>emergency medicine</td><td>219</td><td>Estell</td><td>.@yopmail.com</td><td>917941.0</td><td>Medium Demand</td><td>20</td><td>Medium Workload</td><td>2025-08-25T10:18:01.501Z</td></tr><tr><td>dermatology</td><td>967</td><td>Katuscha</td><td>.@yopmail.com</td><td>1984094.0</td><td>High Demand</td><td>23</td><td>High Workload</td><td>2025-08-25T10:18:01.501Z</td></tr><tr><td>psychiatry</td><td>411</td><td>Shel</td><td>.@yopmail.com</td><td>0.0</td><td>Low Demand</td><td>12</td><td>Low Workload</td><td>2025-08-25T10:18:01.501Z</td></tr><tr><td>infectious disease</td><td>477</td><td>Ekaterina</td><td>.@yopmail.com</td><td>0.0</td><td>High Demand</td><td>25</td><td>High Workload</td><td>2025-08-25T10:18:01.501Z</td></tr><tr><td>nephrology</td><td>740</td><td>Charissa</td><td>.@yopmail.com</td><td>0.0</td><td>Low Demand</td><td>15</td><td>Low Workload</td><td>2025-08-25T10:18:01.501Z</td></tr><tr><td>pediatrics</td><td>968</td><td>Kathy</td><td>.@yopmail.com</td><td>0.0</td><td>Low Demand</td><td>15</td><td>Low Workload</td><td>2025-08-25T10:18:01.501Z</td></tr><tr><td>obstetric anesthesiologists</td><td>226</td><td>Minda</td><td>.@yopmail.com</td><td>0.0</td><td>Medium Demand</td><td>17</td><td>Medium Workload</td><td>2025-08-25T10:18:01.501Z</td></tr><tr><td>family medicine</td><td>651</td><td>Emelina</td><td>.@yopmail.com</td><td>1085403.0</td><td>Low Demand</td><td>8</td><td>Low Workload</td><td>2025-08-25T10:18:01.501Z</td></tr><tr><td>pulmonologists</td><td>789</td><td>Karena</td><td>.@yopmail.com</td><td>0.0</td><td>Medium Demand</td><td>20</td><td>Medium Workload</td><td>2025-08-25T10:18:01.501Z</td></tr><tr><td>internists</td><td>464</td><td>Alex</td><td>.@yopmail.com</td><td>0.0</td><td>Medium Demand</td><td>21</td><td>Medium Workload</td><td>2025-08-25T10:18:01.501Z</td></tr><tr><td>internists</td><td>526</td><td>Karly</td><td>.@yopmail.com</td><td>0.0</td><td>Medium Demand</td><td>21</td><td>Medium Workload</td><td>2025-08-25T10:18:01.501Z</td></tr><tr><td>gastroenterology</td><td>528</td><td>Pierette</td><td>.@yopmail.com</td><td>0.0</td><td>High Demand</td><td>23</td><td>High Workload</td><td>2025-08-25T10:18:01.501Z</td></tr><tr><td>ophthalmology</td><td>558</td><td>Adriana</td><td>.@yopmail.com</td><td>1879878.0</td><td>Medium Demand</td><td>21</td><td>Medium Workload</td><td>2025-08-25T10:18:01.501Z</td></tr><tr><td>neurology</td><td>214</td><td>Gretal</td><td>.@yopmail.com</td><td>1370777.0</td><td>Low Demand</td><td>16</td><td>Low Workload</td><td>2025-08-25T10:18:01.501Z</td></tr><tr><td>surgery</td><td>335</td><td>Romona</td><td>.@yopmail.com</td><td>0.0</td><td>Medium Demand</td><td>14</td><td>Low Workload</td><td>2025-08-25T10:18:01.501Z</td></tr><tr><td>neurology</td><td>338</td><td>Taffy</td><td>.@yopmail.com</td><td>0.0</td><td>Low Demand</td><td>16</td><td>Low Workload</td><td>2025-08-25T10:18:01.501Z</td></tr><tr><td>internists</td><td>352</td><td>Ellette</td><td>.@yopmail.com</td><td>0.0</td><td>Medium Demand</td><td>21</td><td>Medium Workload</td><td>2025-08-25T10:18:01.501Z</td></tr><tr><td>cardiology</td><td>492</td><td>Berta</td><td>.@yopmail.com</td><td>0.0</td><td>Low Demand</td><td>14</td><td>Low Workload</td><td>2025-08-25T10:18:01.501Z</td></tr><tr><td>allergists</td><td>798</td><td>Vere</td><td>.@yopmail.com</td><td>0.0</td><td>Low Demand</td><td>16</td><td>Low Workload</td><td>2025-08-25T10:18:01.501Z</td></tr><tr><td>emergency medicine</td><td>866</td><td>Cathyleen</td><td>.@yopmail.com</td><td>0.0</td><td>Medium Demand</td><td>20</td><td>Medium Workload</td><td>2025-08-25T10:18:01.501Z</td></tr><tr><td>hospice and palliative care</td><td>256</td><td>Inga</td><td>.@yopmail.com</td><td>1072874.0</td><td>Low Demand</td><td>7</td><td>Low Workload</td><td>2025-08-25T10:18:01.501Z</td></tr><tr><td>infectious disease</td><td>678</td><td>Dania</td><td>.@yopmail.com</td><td>509379.0</td><td>High Demand</td><td>25</td><td>High Workload</td><td>2025-08-25T10:18:01.501Z</td></tr><tr><td>dermatology</td><td>714</td><td>Brianna</td><td>.@yopmail.com</td><td>707194.0</td><td>High Demand</td><td>23</td><td>High Workload</td><td>2025-08-25T10:18:01.501Z</td></tr><tr><td>neurology</td><td>911</td><td>Lorne</td><td>.@yopmail.com</td><td>0.0</td><td>Low Demand</td><td>16</td><td>Low Workload</td><td>2025-08-25T10:18:01.501Z</td></tr><tr><td>psychiatry</td><td>933</td><td>Ernesta</td><td>.@yopmail.com</td><td>0.0</td><td>Low Demand</td><td>12</td><td>Low Workload</td><td>2025-08-25T10:18:01.501Z</td></tr><tr><td>infectious disease</td><td>287</td><td>Ida</td><td>.@yopmail.com</td><td>0.0</td><td>High Demand</td><td>25</td><td>High Workload</td><td>2025-08-25T10:18:01.501Z</td></tr><tr><td>dermatology</td><td>345</td><td>Phedra</td><td>.@yopmail.com</td><td>0.0</td><td>High Demand</td><td>23</td><td>High Workload</td><td>2025-08-25T10:18:01.501Z</td></tr><tr><td>cardiology</td><td>490</td><td>Gratia</td><td>.@yopmail.com</td><td>0.0</td><td>Low Demand</td><td>14</td><td>Low Workload</td><td>2025-08-25T10:18:01.501Z</td></tr><tr><td>oncologist</td><td>752</td><td>Regina</td><td>.@yopmail.com</td><td>1350715.0</td><td>High Demand</td><td>24</td><td>High Workload</td><td>2025-08-25T10:18:01.501Z</td></tr><tr><td>obstetric anesthesiologists</td><td>767</td><td>Joeann</td><td>.@yopmail.com</td><td>0.0</td><td>Medium Demand</td><td>17</td><td>Medium Workload</td><td>2025-08-25T10:18:01.501Z</td></tr><tr><td>family medicine</td><td>790</td><td>Cacilie</td><td>.@yopmail.com</td><td>730503.0</td><td>Low Demand</td><td>8</td><td>Low Workload</td><td>2025-08-25T10:18:01.501Z</td></tr><tr><td>neurology</td><td>828</td><td>Sheree</td><td>.@yopmail.com</td><td>0.0</td><td>Low Demand</td><td>16</td><td>Low Workload</td><td>2025-08-25T10:18:01.501Z</td></tr><tr><td>gastroenterology</td><td>863</td><td>Dione</td><td>.@yopmail.com</td><td>0.0</td><td>High Demand</td><td>23</td><td>High Workload</td><td>2025-08-25T10:18:01.501Z</td></tr><tr><td>gastroenterology</td><td>990</td><td>Vanessa</td><td>.@yopmail.com</td><td>0.0</td><td>High Demand</td><td>23</td><td>High Workload</td><td>2025-08-25T10:18:01.501Z</td></tr><tr><td>allergists</td><td>371</td><td>Maridel</td><td>.@yopmail.com</td><td>0.0</td><td>Low Demand</td><td>16</td><td>Low Workload</td><td>2025-08-25T10:18:01.501Z</td></tr><tr><td>psychiatry</td><td>382</td><td>Annice</td><td>.@yopmail.com</td><td>0.0</td><td>Low Demand</td><td>12</td><td>Low Workload</td><td>2025-08-25T10:18:01.501Z</td></tr><tr><td>emergency medicine</td><td>630</td><td>Amii</td><td>.@yopmail.com</td><td>0.0</td><td>Medium Demand</td><td>20</td><td>Medium Workload</td><td>2025-08-25T10:18:01.501Z</td></tr><tr><td>psychiatry</td><td>786</td><td>Marnia</td><td>.@yopmail.com</td><td>0.0</td><td>Low Demand</td><td>12</td><td>Low Workload</td><td>2025-08-25T10:18:01.501Z</td></tr><tr><td>infectious disease</td><td>203</td><td>Kore</td><td>.@yopmail.com</td><td>118150.0</td><td>High Demand</td><td>25</td><td>High Workload</td><td>2025-08-25T10:18:01.501Z</td></tr><tr><td>surgery</td><td>221</td><td>Daryl</td><td>.@yopmail.com</td><td>642717.0</td><td>Medium Demand</td><td>14</td><td>Low Workload</td><td>2025-08-25T10:18:01.501Z</td></tr><tr><td>ophthalmology</td><td>265</td><td>Joelly</td><td>.@yopmail.com</td><td>0.0</td><td>Medium Demand</td><td>21</td><td>Medium Workload</td><td>2025-08-25T10:18:01.501Z</td></tr><tr><td>oncologist</td><td>457</td><td>Siana</td><td>.@yopmail.com</td><td>0.0</td><td>High Demand</td><td>24</td><td>High Workload</td><td>2025-08-25T10:18:01.501Z</td></tr><tr><td>radiology</td><td>640</td><td>Rani</td><td>.@yopmail.com</td><td>0.0</td><td>Low Demand</td><td>15</td><td>Low Workload</td><td>2025-08-25T10:18:01.501Z</td></tr><tr><td>pediatrics</td><td>662</td><td>Nadine</td><td>.@yopmail.com</td><td>1137768.0</td><td>Low Demand</td><td>15</td><td>Low Workload</td><td>2025-08-25T10:18:01.501Z</td></tr><tr><td>internists</td><td>141</td><td>Dennie</td><td>.@yopmail.com</td><td>0.0</td><td>Medium Demand</td><td>21</td><td>Medium Workload</td><td>2025-08-25T10:18:01.501Z</td></tr><tr><td>internists</td><td>151</td><td>Karly</td><td>.@yopmail.com</td><td>0.0</td><td>Medium Demand</td><td>21</td><td>Medium Workload</td><td>2025-08-25T10:18:01.501Z</td></tr><tr><td>oncologist</td><td>341</td><td>Camile</td><td>.@yopmail.com</td><td>2219170.0</td><td>High Demand</td><td>24</td><td>High Workload</td><td>2025-08-25T10:18:01.501Z</td></tr><tr><td>otolaryngologists</td><td>414</td><td>Joeann</td><td>.@yopmail.com</td><td>0.0</td><td>Medium Demand</td><td>21</td><td>Medium Workload</td><td>2025-08-25T10:18:01.501Z</td></tr><tr><td>anesthesiology</td><td>433</td><td>Beverley</td><td>.@yopmail.com</td><td>0.0</td><td>Low Demand</td><td>15</td><td>Low Workload</td><td>2025-08-25T10:18:01.501Z</td></tr><tr><td>oncologist</td><td>712</td><td>Emmey</td><td>.@yopmail.com</td><td>0.0</td><td>High Demand</td><td>24</td><td>High Workload</td><td>2025-08-25T10:18:01.501Z</td></tr><tr><td>psychiatry</td><td>859</td><td>Tomasina</td><td>.@yopmail.com</td><td>0.0</td><td>Low Demand</td><td>12</td><td>Low Workload</td><td>2025-08-25T10:18:01.501Z</td></tr><tr><td>endocrinologist</td><td>899</td><td>Tiffie</td><td>.@yopmail.com</td><td>262153.0</td><td>Low Demand</td><td>13</td><td>Low Workload</td><td>2025-08-25T10:18:01.501Z</td></tr><tr><td>gastroenterology</td><td>334</td><td>Orelia</td><td>.@yopmail.com</td><td>0.0</td><td>High Demand</td><td>23</td><td>High Workload</td><td>2025-08-25T10:18:01.501Z</td></tr><tr><td>dermatology</td><td>801</td><td>Brooks</td><td>.@yopmail.com</td><td>3436703.0</td><td>High Demand</td><td>23</td><td>High Workload</td><td>2025-08-25T10:18:01.501Z</td></tr><tr><td>obstetric anesthesiologists</td><td>943</td><td>Doro</td><td>.@yopmail.com</td><td>1437505.0</td><td>Medium Demand</td><td>17</td><td>Medium Workload</td><td>2025-08-25T10:18:01.501Z</td></tr><tr><td>surgery</td><td>953</td><td>Andeee</td><td>.@yopmail.com</td><td>0.0</td><td>Medium Demand</td><td>14</td><td>Low Workload</td><td>2025-08-25T10:18:01.501Z</td></tr><tr><td>family medicine</td><td>978</td><td>Lila</td><td>.@yopmail.com</td><td>0.0</td><td>Low Demand</td><td>8</td><td>Low Workload</td><td>2025-08-25T10:18:01.501Z</td></tr><tr><td>geriatrician</td><td>145</td><td>Kerrin</td><td>.@yopmail.com</td><td>2040902.0</td><td>Medium Demand</td><td>18</td><td>Medium Workload</td><td>2025-08-25T10:18:01.501Z</td></tr><tr><td>oncologist</td><td>272</td><td>Nikki</td><td>.@yopmail.com</td><td>0.0</td><td>High Demand</td><td>24</td><td>High Workload</td><td>2025-08-25T10:18:01.501Z</td></tr><tr><td>geriatrician</td><td>488</td><td>Rosanne</td><td>.@yopmail.com</td><td>0.0</td><td>Medium Demand</td><td>18</td><td>Medium Workload</td><td>2025-08-25T10:18:01.501Z</td></tr><tr><td>cardiology</td><td>515</td><td>Chickie</td><td>.@yopmail.com</td><td>0.0</td><td>Low Demand</td><td>14</td><td>Low Workload</td><td>2025-08-25T10:18:01.501Z</td></tr><tr><td>emergency medicine</td><td>680</td><td>Emma</td><td>.@yopmail.com</td><td>0.0</td><td>Medium Demand</td><td>20</td><td>Medium Workload</td><td>2025-08-25T10:18:01.501Z</td></tr><tr><td>cardiology</td><td>254</td><td>Moyna</td><td>.@yopmail.com</td><td>545986.0</td><td>Low Demand</td><td>14</td><td>Low Workload</td><td>2025-08-25T10:18:01.501Z</td></tr><tr><td>hospice and palliative care</td><td>378</td><td>Concettina</td><td>.@yopmail.com</td><td>654032.0</td><td>Low Demand</td><td>7</td><td>Low Workload</td><td>2025-08-25T10:18:01.501Z</td></tr><tr><td>otolaryngologists</td><td>487</td><td>Sidoney</td><td>.@yopmail.com</td><td>0.0</td><td>Medium Demand</td><td>21</td><td>Medium Workload</td><td>2025-08-25T10:18:01.501Z</td></tr><tr><td>pediatrics</td><td>639</td><td>Arabel</td><td>.@yopmail.com</td><td>2618062.0</td><td>Low Demand</td><td>15</td><td>Low Workload</td><td>2025-08-25T10:18:01.501Z</td></tr><tr><td>ophthalmology</td><td>940</td><td>Yolane</td><td>.@yopmail.com</td><td>0.0</td><td>Medium Demand</td><td>21</td><td>Medium Workload</td><td>2025-08-25T10:18:01.501Z</td></tr><tr><td>hospice and palliative care</td><td>213</td><td>Sidoney</td><td>.@yopmail.com</td><td>282554.0</td><td>Low Demand</td><td>7</td><td>Low Workload</td><td>2025-08-25T10:18:01.501Z</td></tr><tr><td>internists</td><td>228</td><td>Dagmar</td><td>.@yopmail.com</td><td>0.0</td><td>Medium Demand</td><td>21</td><td>Medium Workload</td><td>2025-08-25T10:18:01.501Z</td></tr><tr><td>pediatrics</td><td>534</td><td>Pierette</td><td>.@yopmail.com</td><td>1501693.0</td><td>Low Demand</td><td>15</td><td>Low Workload</td><td>2025-08-25T10:18:01.501Z</td></tr><tr><td>obstetric anesthesiologists</td><td>997</td><td>Georgina</td><td>.@yopmail.com</td><td>2037322.0</td><td>Medium Demand</td><td>17</td><td>Medium Workload</td><td>2025-08-25T10:18:01.501Z</td></tr><tr><td>infectious disease</td><td>303</td><td>Sherrie</td><td>.@yopmail.com</td><td>0.0</td><td>High Demand</td><td>25</td><td>High Workload</td><td>2025-08-25T10:18:01.501Z</td></tr><tr><td>emergency medicine</td><td>426</td><td>Asia</td><td>.@yopmail.com</td><td>156466.0</td><td>Medium Demand</td><td>20</td><td>Medium Workload</td><td>2025-08-25T10:18:01.501Z</td></tr><tr><td>infectious disease</td><td>574</td><td>Ronna</td><td>.@yopmail.com</td><td>2206483.0</td><td>High Demand</td><td>25</td><td>High Workload</td><td>2025-08-25T10:18:01.501Z</td></tr><tr><td>critical care medicine</td><td>749</td><td>Charlena</td><td>.@yopmail.com</td><td>0.0</td><td>Low Demand</td><td>11</td><td>Low Workload</td><td>2025-08-25T10:18:01.501Z</td></tr><tr><td>oncologist</td><td>170</td><td>Quintina</td><td>.@yopmail.com</td><td>3306665.0</td><td>High Demand</td><td>24</td><td>High Workload</td><td>2025-08-25T10:18:01.501Z</td></tr><tr><td>neurology</td><td>354</td><td>Tersina</td><td>.@yopmail.com</td><td>0.0</td><td>Low Demand</td><td>16</td><td>Low Workload</td><td>2025-08-25T10:18:01.501Z</td></tr><tr><td>dermatology</td><td>702</td><td>Clarice</td><td>.@yopmail.com</td><td>0.0</td><td>High Demand</td><td>23</td><td>High Workload</td><td>2025-08-25T10:18:01.501Z</td></tr><tr><td>surgery</td><td>708</td><td>Brynna</td><td>.@yopmail.com</td><td>0.0</td><td>Medium Demand</td><td>14</td><td>Low Workload</td><td>2025-08-25T10:18:01.501Z</td></tr><tr><td>anesthesiology</td><td>807</td><td>Nollie</td><td>.@yopmail.com</td><td>794496.0</td><td>Low Demand</td><td>15</td><td>Low Workload</td><td>2025-08-25T10:18:01.501Z</td></tr><tr><td>geriatrician</td><td>536</td><td>Dorene</td><td>.@yopmail.com</td><td>990268.0</td><td>Medium Demand</td><td>18</td><td>Medium Workload</td><td>2025-08-25T10:18:01.501Z</td></tr><tr><td>gastroenterology</td><td>611</td><td>Shell</td><td>.@yopmail.com</td><td>0.0</td><td>High Demand</td><td>23</td><td>High Workload</td><td>2025-08-25T10:18:01.501Z</td></tr><tr><td>pediatrics</td><td>612</td><td>Krystle</td><td>.@yopmail.com</td><td>975444.0</td><td>Low Demand</td><td>15</td><td>Low Workload</td><td>2025-08-25T10:18:01.501Z</td></tr><tr><td>infectious disease</td><td>668</td><td>Jessamyn</td><td>.@yopmail.com</td><td>0.0</td><td>High Demand</td><td>25</td><td>High Workload</td><td>2025-08-25T10:18:01.501Z</td></tr><tr><td>emergency medicine</td><td>105</td><td>Lynea</td><td>.@yopmail.com</td><td>0.0</td><td>Medium Demand</td><td>20</td><td>Medium Workload</td><td>2025-08-25T10:18:01.501Z</td></tr><tr><td>gastroenterology</td><td>370</td><td>Liana</td><td>.@yopmail.com</td><td>0.0</td><td>High Demand</td><td>23</td><td>High Workload</td><td>2025-08-25T10:18:01.501Z</td></tr><tr><td>ophthalmology</td><td>913</td><td>Kelly</td><td>.@yopmail.com</td><td>0.0</td><td>Medium Demand</td><td>21</td><td>Medium Workload</td><td>2025-08-25T10:18:01.501Z</td></tr><tr><td>anesthesiology</td><td>188</td><td>Shaine</td><td>.@yopmail.com</td><td>0.0</td><td>Low Demand</td><td>15</td><td>Low Workload</td><td>2025-08-25T10:18:01.501Z</td></tr><tr><td>oncologist</td><td>726</td><td>Tabbatha</td><td>.@yopmail.com</td><td>1184196.0</td><td>High Demand</td><td>24</td><td>High Workload</td><td>2025-08-25T10:18:01.501Z</td></tr><tr><td>allergists</td><td>837</td><td>Beatriz</td><td>.@yopmail.com</td><td>0.0</td><td>Low Demand</td><td>16</td><td>Low Workload</td><td>2025-08-25T10:18:01.501Z</td></tr><tr><td>cardiology</td><td>204</td><td>Dyann</td><td>.@yopmail.com</td><td>0.0</td><td>Low Demand</td><td>14</td><td>Low Workload</td><td>2025-08-25T10:18:01.501Z</td></tr><tr><td>emergency medicine</td><td>421</td><td>Chickie</td><td>.@yopmail.com</td><td>799018.0</td><td>Medium Demand</td><td>20</td><td>Medium Workload</td><td>2025-08-25T10:18:01.501Z</td></tr><tr><td>dermatology</td><td>888</td><td>Grier</td><td>.@yopmail.com</td><td>1091939.0</td><td>High Demand</td><td>23</td><td>High Workload</td><td>2025-08-25T10:18:01.501Z</td></tr><tr><td>cardiology</td><td>110</td><td>Maud</td><td>.@yopmail.com</td><td>0.0</td><td>Low Demand</td><td>14</td><td>Low Workload</td><td>2025-08-25T10:18:01.501Z</td></tr><tr><td>oncologist</td><td>369</td><td>Nannie</td><td>.@yopmail.com</td><td>0.0</td><td>High Demand</td><td>24</td><td>High Workload</td><td>2025-08-25T10:18:01.501Z</td></tr><tr><td>obstetric anesthesiologists</td><td>825</td><td>Roberta</td><td>.@yopmail.com</td><td>0.0</td><td>Medium Demand</td><td>17</td><td>Medium Workload</td><td>2025-08-25T10:18:01.501Z</td></tr><tr><td>geriatrician</td><td>106</td><td>Constance</td><td>.@yopmail.com</td><td>0.0</td><td>Medium Demand</td><td>18</td><td>Medium Workload</td><td>2025-08-25T10:18:01.501Z</td></tr><tr><td>gastroenterology</td><td>260</td><td>Dorthy</td><td>.@yopmail.com</td><td>0.0</td><td>High Demand</td><td>23</td><td>High Workload</td><td>2025-08-25T10:18:01.501Z</td></tr><tr><td>infectious disease</td><td>561</td><td>Elka</td><td>.@yopmail.com</td><td>0.0</td><td>High Demand</td><td>25</td><td>High Workload</td><td>2025-08-25T10:18:01.501Z</td></tr><tr><td>infectious disease</td><td>116</td><td>Shell</td><td>.@yopmail.com</td><td>713514.0</td><td>High Demand</td><td>25</td><td>High Workload</td><td>2025-08-25T10:18:01.501Z</td></tr><tr><td>ophthalmology</td><td>147</td><td>Shaylyn</td><td>.@yopmail.com</td><td>0.0</td><td>Medium Demand</td><td>21</td><td>Medium Workload</td><td>2025-08-25T10:18:01.501Z</td></tr><tr><td>anesthesiology</td><td>910</td><td>Minda</td><td>.@yopmail.com</td><td>0.0</td><td>Low Demand</td><td>15</td><td>Low Workload</td><td>2025-08-25T10:18:01.501Z</td></tr><tr><td>cardiology</td><td>198</td><td>Tilly</td><td>.@yopmail.com</td><td>0.0</td><td>Low Demand</td><td>14</td><td>Low Workload</td><td>2025-08-25T10:18:01.501Z</td></tr><tr><td>pulmonologists</td><td>317</td><td>Corina</td><td>.@yopmail.com</td><td>0.0</td><td>Medium Demand</td><td>20</td><td>Medium Workload</td><td>2025-08-25T10:18:01.501Z</td></tr><tr><td>internists</td><td>600</td><td>Philis</td><td>.@yopmail.com</td><td>0.0</td><td>Medium Demand</td><td>21</td><td>Medium Workload</td><td>2025-08-25T10:18:01.501Z</td></tr><tr><td>radiology</td><td>638</td><td>Flo</td><td>.@yopmail.com</td><td>0.0</td><td>Low Demand</td><td>15</td><td>Low Workload</td><td>2025-08-25T10:18:01.501Z</td></tr><tr><td>obstetric anesthesiologists</td><td>805</td><td>Magdalena</td><td>.@yopmail.com</td><td>0.0</td><td>Medium Demand</td><td>17</td><td>Medium Workload</td><td>2025-08-25T10:18:01.501Z</td></tr><tr><td>gastroenterology</td><td>344</td><td>Aurore</td><td>.@yopmail.com</td><td>912485.0</td><td>High Demand</td><td>23</td><td>High Workload</td><td>2025-08-25T10:18:01.501Z</td></tr><tr><td>geriatrician</td><td>349</td><td>Edee</td><td>.@yopmail.com</td><td>0.0</td><td>Medium Demand</td><td>18</td><td>Medium Workload</td><td>2025-08-25T10:18:01.501Z</td></tr><tr><td>anesthesiology</td><td>657</td><td>Ebonee</td><td>.@yopmail.com</td><td>0.0</td><td>Low Demand</td><td>15</td><td>Low Workload</td><td>2025-08-25T10:18:01.501Z</td></tr><tr><td>allergists</td><td>975</td><td>Hettie</td><td>.@yopmail.com</td><td>2173939.0</td><td>Low Demand</td><td>16</td><td>Low Workload</td><td>2025-08-25T10:18:01.501Z</td></tr><tr><td>emergency medicine</td><td>342</td><td>Olivette</td><td>.@yopmail.com</td><td>0.0</td><td>Medium Demand</td><td>20</td><td>Medium Workload</td><td>2025-08-25T10:18:01.501Z</td></tr><tr><td>ophthalmology</td><td>373</td><td>Delilah</td><td>.@yopmail.com</td><td>0.0</td><td>Medium Demand</td><td>21</td><td>Medium Workload</td><td>2025-08-25T10:18:01.501Z</td></tr><tr><td>hospice and palliative care</td><td>379</td><td>Roz</td><td>.@yopmail.com</td><td>0.0</td><td>Low Demand</td><td>7</td><td>Low Workload</td><td>2025-08-25T10:18:01.501Z</td></tr><tr><td>infectious disease</td><td>832</td><td>Ulrike</td><td>.@yopmail.com</td><td>318612.0</td><td>High Demand</td><td>25</td><td>High Workload</td><td>2025-08-25T10:18:01.501Z</td></tr><tr><td>obstetric anesthesiologists</td><td>965</td><td>Flory</td><td>.@yopmail.com</td><td>1212292.0</td><td>Medium Demand</td><td>17</td><td>Medium Workload</td><td>2025-08-25T10:18:01.501Z</td></tr><tr><td>infectious disease</td><td>971</td><td>Moyna</td><td>.@yopmail.com</td><td>450981.0</td><td>High Demand</td><td>25</td><td>High Workload</td><td>2025-08-25T10:18:01.501Z</td></tr><tr><td>nephrology</td><td>158</td><td>Chere</td><td>.@yopmail.com</td><td>0.0</td><td>Low Demand</td><td>15</td><td>Low Workload</td><td>2025-08-25T10:18:01.501Z</td></tr><tr><td>gastroenterology</td><td>242</td><td>Blondelle</td><td>.@yopmail.com</td><td>961653.0</td><td>High Demand</td><td>23</td><td>High Workload</td><td>2025-08-25T10:18:01.501Z</td></tr><tr><td>allergists</td><td>270</td><td>Brooks</td><td>.@yopmail.com</td><td>0.0</td><td>Low Demand</td><td>16</td><td>Low Workload</td><td>2025-08-25T10:18:01.501Z</td></tr><tr><td>oncologist</td><td>284</td><td>Ketti</td><td>.@yopmail.com</td><td>383764.0</td><td>High Demand</td><td>24</td><td>High Workload</td><td>2025-08-25T10:18:01.501Z</td></tr><tr><td>surgery</td><td>135</td><td>Gilligan</td><td>.@yopmail.com</td><td>0.0</td><td>Medium Demand</td><td>14</td><td>Low Workload</td><td>2025-08-25T10:18:01.501Z</td></tr><tr><td>anesthesiology</td><td>499</td><td>Karlee</td><td>.@yopmail.com</td><td>1017914.0</td><td>Low Demand</td><td>15</td><td>Low Workload</td><td>2025-08-25T10:18:01.501Z</td></tr><tr><td>dermatology</td><td>522</td><td>Asia</td><td>.@yopmail.com</td><td>156591.0</td><td>High Demand</td><td>23</td><td>High Workload</td><td>2025-08-25T10:18:01.501Z</td></tr><tr><td>geriatrician</td><td>902</td><td>Tressa</td><td>.@yopmail.com</td><td>0.0</td><td>Medium Demand</td><td>18</td><td>Medium Workload</td><td>2025-08-25T10:18:01.501Z</td></tr><tr><td>nephrology</td><td>119</td><td>Flory</td><td>.@yopmail.com</td><td>573139.0</td><td>Low Demand</td><td>15</td><td>Low Workload</td><td>2025-08-25T10:18:01.501Z</td></tr><tr><td>pediatrics</td><td>466</td><td>Ninnetta</td><td>.@yopmail.com</td><td>0.0</td><td>Low Demand</td><td>15</td><td>Low Workload</td><td>2025-08-25T10:18:01.501Z</td></tr><tr><td>gastroenterology</td><td>506</td><td>Annora</td><td>.@yopmail.com</td><td>0.0</td><td>High Demand</td><td>23</td><td>High Workload</td><td>2025-08-25T10:18:01.501Z</td></tr><tr><td>surgery</td><td>566</td><td>Leontine</td><td>.@yopmail.com</td><td>538767.0</td><td>Medium Demand</td><td>14</td><td>Low Workload</td><td>2025-08-25T10:18:01.501Z</td></tr><tr><td>endocrinologist</td><td>909</td><td>Jean</td><td>.@yopmail.com</td><td>269609.0</td><td>Low Demand</td><td>13</td><td>Low Workload</td><td>2025-08-25T10:18:01.501Z</td></tr><tr><td>surgery</td><td>201</td><td>Fred</td><td>.@yopmail.com</td><td>1364962.0</td><td>Medium Demand</td><td>14</td><td>Low Workload</td><td>2025-08-25T10:18:01.501Z</td></tr><tr><td>dermatology</td><td>778</td><td>Brana</td><td>.@yopmail.com</td><td>0.0</td><td>High Demand</td><td>23</td><td>High Workload</td><td>2025-08-25T10:18:01.501Z</td></tr><tr><td>otolaryngologists</td><td>803</td><td>Bernardine</td><td>.@yopmail.com</td><td>0.0</td><td>Medium Demand</td><td>21</td><td>Medium Workload</td><td>2025-08-25T10:18:01.501Z</td></tr><tr><td>cardiology</td><td>892</td><td>Brynna</td><td>.@yopmail.com</td><td>0.0</td><td>Low Demand</td><td>14</td><td>Low Workload</td><td>2025-08-25T10:18:01.501Z</td></tr><tr><td>allergists</td><td>131</td><td>Ana</td><td>.@yopmail.com</td><td>0.0</td><td>Low Demand</td><td>16</td><td>Low Workload</td><td>2025-08-25T10:18:01.501Z</td></tr><tr><td>obstetric anesthesiologists</td><td>149</td><td>Krystle</td><td>.@yopmail.com</td><td>0.0</td><td>Medium Demand</td><td>17</td><td>Medium Workload</td><td>2025-08-25T10:18:01.501Z</td></tr><tr><td>endocrinologist</td><td>276</td><td>Nelle</td><td>.@yopmail.com</td><td>0.0</td><td>Low Demand</td><td>13</td><td>Low Workload</td><td>2025-08-25T10:18:01.501Z</td></tr><tr><td>infectious disease</td><td>365</td><td>Ricky</td><td>.@yopmail.com</td><td>394135.0</td><td>High Demand</td><td>25</td><td>High Workload</td><td>2025-08-25T10:18:01.501Z</td></tr><tr><td>family medicine</td><td>773</td><td>Heddie</td><td>.@yopmail.com</td><td>0.0</td><td>Low Demand</td><td>8</td><td>Low Workload</td><td>2025-08-25T10:18:01.501Z</td></tr><tr><td>neurology</td><td>820</td><td>Christal</td><td>.@yopmail.com</td><td>642717.0</td><td>Low Demand</td><td>16</td><td>Low Workload</td><td>2025-08-25T10:18:01.501Z</td></tr><tr><td>infectious disease</td><td>999</td><td>Wynne</td><td>.@yopmail.com</td><td>1889128.0</td><td>High Demand</td><td>25</td><td>High Workload</td><td>2025-08-25T10:18:01.501Z</td></tr><tr><td>allergists</td><td>294</td><td>Almeta</td><td>.@yopmail.com</td><td>0.0</td><td>Low Demand</td><td>16</td><td>Low Workload</td><td>2025-08-25T10:18:01.501Z</td></tr><tr><td>dermatology</td><td>905</td><td>Minne</td><td>.@yopmail.com</td><td>0.0</td><td>High Demand</td><td>23</td><td>High Workload</td><td>2025-08-25T10:18:01.501Z</td></tr><tr><td>otolaryngologists</td><td>118</td><td>Vanessa</td><td>.@yopmail.com</td><td>0.0</td><td>Medium Demand</td><td>21</td><td>Medium Workload</td><td>2025-08-25T10:18:01.501Z</td></tr><tr><td>pulmonologists</td><td>573</td><td>Gerianna</td><td>.@yopmail.com</td><td>676614.0</td><td>Medium Demand</td><td>20</td><td>Medium Workload</td><td>2025-08-25T10:18:01.501Z</td></tr><tr><td>obstetric anesthesiologists</td><td>722</td><td>Catrina</td><td>.@yopmail.com</td><td>1164858.0</td><td>Medium Demand</td><td>17</td><td>Medium Workload</td><td>2025-08-25T10:18:01.501Z</td></tr><tr><td>nephrology</td><td>124</td><td>Steffane</td><td>.@yopmail.com</td><td>0.0</td><td>Low Demand</td><td>15</td><td>Low Workload</td><td>2025-08-25T10:18:01.501Z</td></tr><tr><td>radiology</td><td>281</td><td>Zondra</td><td>.@yopmail.com</td><td>0.0</td><td>Low Demand</td><td>15</td><td>Low Workload</td><td>2025-08-25T10:18:01.501Z</td></tr><tr><td>ophthalmology</td><td>942</td><td>Ada</td><td>.@yopmail.com</td><td>0.0</td><td>Medium Demand</td><td>21</td><td>Medium Workload</td><td>2025-08-25T10:18:01.501Z</td></tr><tr><td>obstetric anesthesiologists</td><td>985</td><td>Anestassia</td><td>.@yopmail.com</td><td>0.0</td><td>Medium Demand</td><td>17</td><td>Medium Workload</td><td>2025-08-25T10:18:01.501Z</td></tr><tr><td>cardiology</td><td>184</td><td>Clementine</td><td>.@yopmail.com</td><td>0.0</td><td>Low Demand</td><td>14</td><td>Low Workload</td><td>2025-08-25T10:18:01.501Z</td></tr><tr><td>oncologist</td><td>652</td><td>Jessy</td><td>.@yopmail.com</td><td>0.0</td><td>High Demand</td><td>24</td><td>High Workload</td><td>2025-08-25T10:18:01.501Z</td></tr><tr><td>internists</td><td>405</td><td>Correy</td><td>.@yopmail.com</td><td>1113433.0</td><td>Medium Demand</td><td>21</td><td>Medium Workload</td><td>2025-08-25T10:18:01.501Z</td></tr><tr><td>internists</td><td>557</td><td>Peri</td><td>.@yopmail.com</td><td>643347.0</td><td>Medium Demand</td><td>21</td><td>Medium Workload</td><td>2025-08-25T10:18:01.501Z</td></tr><tr><td>ophthalmology</td><td>700</td><td>Katleen</td><td>.@yopmail.com</td><td>0.0</td><td>Medium Demand</td><td>21</td><td>Medium Workload</td><td>2025-08-25T10:18:01.501Z</td></tr><tr><td>pulmonologists</td><td>915</td><td>Marti</td><td>.@yopmail.com</td><td>0.0</td><td>Medium Demand</td><td>20</td><td>Medium Workload</td><td>2025-08-25T10:18:01.501Z</td></tr><tr><td>radiology</td><td>186</td><td>Sidoney</td><td>.@yopmail.com</td><td>1571290.0</td><td>Low Demand</td><td>15</td><td>Low Workload</td><td>2025-08-25T10:18:01.501Z</td></tr><tr><td>allergists</td><td>275</td><td>Danny</td><td>.@yopmail.com</td><td>408017.0</td><td>Low Demand</td><td>16</td><td>Low Workload</td><td>2025-08-25T10:18:01.501Z</td></tr><tr><td>oncologist</td><td>282</td><td>Cherilyn</td><td>.@yopmail.com</td><td>0.0</td><td>High Demand</td><td>24</td><td>High Workload</td><td>2025-08-25T10:18:01.501Z</td></tr><tr><td>ophthalmology</td><td>605</td><td>Jean</td><td>.@yopmail.com</td><td>794496.0</td><td>Medium Demand</td><td>21</td><td>Medium Workload</td><td>2025-08-25T10:18:01.501Z</td></tr><tr><td>allergists</td><td>802</td><td>Kial</td><td>.@yopmail.com</td><td>0.0</td><td>Low Demand</td><td>16</td><td>Low Workload</td><td>2025-08-25T10:18:01.501Z</td></tr><tr><td>emergency medicine</td><td>894</td><td>Helsa</td><td>.@yopmail.com</td><td>38172.0</td><td>Medium Demand</td><td>20</td><td>Medium Workload</td><td>2025-08-25T10:18:01.501Z</td></tr><tr><td>pulmonologists</td><td>616</td><td>Roseline</td><td>.@yopmail.com</td><td>999556.0</td><td>Medium Demand</td><td>20</td><td>Medium Workload</td><td>2025-08-25T10:18:01.501Z</td></tr><tr><td>critical care medicine</td><td>628</td><td>Shell</td><td>.@yopmail.com</td><td>359806.0</td><td>Low Demand</td><td>11</td><td>Low Workload</td><td>2025-08-25T10:18:01.501Z</td></tr><tr><td>emergency medicine</td><td>632</td><td>Melina</td><td>.@yopmail.com</td><td>0.0</td><td>Medium Demand</td><td>20</td><td>Medium Workload</td><td>2025-08-25T10:18:01.501Z</td></tr><tr><td>obstetric anesthesiologists</td><td>681</td><td>Addia</td><td>.@yopmail.com</td><td>0.0</td><td>Medium Demand</td><td>17</td><td>Medium Workload</td><td>2025-08-25T10:18:01.501Z</td></tr><tr><td>critical care medicine</td><td>964</td><td>Emelina</td><td>.@yopmail.com</td><td>0.0</td><td>Low Demand</td><td>11</td><td>Low Workload</td><td>2025-08-25T10:18:01.501Z</td></tr><tr><td>anesthesiology</td><td>716</td><td>Misha</td><td>.@yopmail.com</td><td>0.0</td><td>Low Demand</td><td>15</td><td>Low Workload</td><td>2025-08-25T10:18:01.501Z</td></tr><tr><td>anesthesiology</td><td>252</td><td>Quintina</td><td>.@yopmail.com</td><td>0.0</td><td>Low Demand</td><td>15</td><td>Low Workload</td><td>2025-08-25T10:18:01.501Z</td></tr><tr><td>anesthesiology</td><td>399</td><td>Madeleine</td><td>.@yopmail.com</td><td>0.0</td><td>Low Demand</td><td>15</td><td>Low Workload</td><td>2025-08-25T10:18:01.501Z</td></tr><tr><td>allergists</td><td>551</td><td>Morganica</td><td>.@yopmail.com</td><td>672878.0</td><td>Low Demand</td><td>16</td><td>Low Workload</td><td>2025-08-25T10:18:01.501Z</td></tr><tr><td>radiology</td><td>153</td><td>Chastity</td><td>.@yopmail.com</td><td>0.0</td><td>Low Demand</td><td>15</td><td>Low Workload</td><td>2025-08-25T10:18:01.501Z</td></tr><tr><td>family medicine</td><td>420</td><td>Anestassia</td><td>.@yopmail.com</td><td>1285050.0</td><td>Low Demand</td><td>8</td><td>Low Workload</td><td>2025-08-25T10:18:01.501Z</td></tr><tr><td>obstetric anesthesiologists</td><td>705</td><td>Rosene</td><td>.@yopmail.com</td><td>0.0</td><td>Medium Demand</td><td>17</td><td>Medium Workload</td><td>2025-08-25T10:18:01.501Z</td></tr><tr><td>radiology</td><td>785</td><td>Shandie</td><td>.@yopmail.com</td><td>575431.0</td><td>Low Demand</td><td>15</td><td>Low Workload</td><td>2025-08-25T10:18:01.501Z</td></tr><tr><td>infectious disease</td><td>851</td><td>Bertine</td><td>.@yopmail.com</td><td>990268.0</td><td>High Demand</td><td>25</td><td>High Workload</td><td>2025-08-25T10:18:01.501Z</td></tr><tr><td>pediatrics</td><td>745</td><td>Lenna</td><td>.@yopmail.com</td><td>0.0</td><td>Low Demand</td><td>15</td><td>Low Workload</td><td>2025-08-25T10:18:01.501Z</td></tr><tr><td>neurology</td><td>927</td><td>Ezmeralda</td><td>.@yopmail.com</td><td>501491.0</td><td>Low Demand</td><td>16</td><td>Low Workload</td><td>2025-08-25T10:18:01.501Z</td></tr><tr><td>gastroenterology</td><td>949</td><td>Gilligan</td><td>.@yopmail.com</td><td>0.0</td><td>High Demand</td><td>23</td><td>High Workload</td><td>2025-08-25T10:18:01.501Z</td></tr><tr><td>anesthesiology</td><td>475</td><td>Mariele</td><td>.@yopmail.com</td><td>0.0</td><td>Low Demand</td><td>15</td><td>Low Workload</td><td>2025-08-25T10:18:01.501Z</td></tr><tr><td>endocrinologist</td><td>947</td><td>Allis</td><td>.@yopmail.com</td><td>1657795.0</td><td>Low Demand</td><td>13</td><td>Low Workload</td><td>2025-08-25T10:18:01.501Z</td></tr><tr><td>pulmonologists</td><td>138</td><td>Rosaline</td><td>.@yopmail.com</td><td>0.0</td><td>Medium Demand</td><td>20</td><td>Medium Workload</td><td>2025-08-25T10:18:01.501Z</td></tr><tr><td>internists</td><td>755</td><td>Alejandra</td><td>.@yopmail.com</td><td>625373.0</td><td>Medium Demand</td><td>21</td><td>Medium Workload</td><td>2025-08-25T10:18:01.501Z</td></tr><tr><td>neurology</td><td>934</td><td>Lorie</td><td>.@yopmail.com</td><td>0.0</td><td>Low Demand</td><td>16</td><td>Low Workload</td><td>2025-08-25T10:18:01.501Z</td></tr><tr><td>emergency medicine</td><td>104</td><td>Cacilie</td><td>.@yopmail.com</td><td>0.0</td><td>Medium Demand</td><td>20</td><td>Medium Workload</td><td>2025-08-25T10:18:01.501Z</td></tr><tr><td>radiology</td><td>468</td><td>Tamqrah</td><td>.@yopmail.com</td><td>0.0</td><td>Low Demand</td><td>15</td><td>Low Workload</td><td>2025-08-25T10:18:01.501Z</td></tr><tr><td>nephrology</td><td>483</td><td>Kellen</td><td>.@yopmail.com</td><td>259509.0</td><td>Low Demand</td><td>15</td><td>Low Workload</td><td>2025-08-25T10:18:01.501Z</td></tr><tr><td>ophthalmology</td><td>656</td><td>Merrie</td><td>.@yopmail.com</td><td>400213.0</td><td>Medium Demand</td><td>21</td><td>Medium Workload</td><td>2025-08-25T10:18:01.501Z</td></tr><tr><td>endocrinologist</td><td>917</td><td>Addia</td><td>.@yopmail.com</td><td>1627686.0</td><td>Low Demand</td><td>13</td><td>Low Workload</td><td>2025-08-25T10:18:01.501Z</td></tr><tr><td>otolaryngologists</td><td>932</td><td>Ira</td><td>.@yopmail.com</td><td>1419671.0</td><td>Medium Demand</td><td>21</td><td>Medium Workload</td><td>2025-08-25T10:18:01.501Z</td></tr><tr><td>dermatology</td><td>878</td><td>Ann-marie</td><td>.@yopmail.com</td><td>0.0</td><td>High Demand</td><td>23</td><td>High Workload</td><td>2025-08-25T10:18:01.501Z</td></tr><tr><td>dermatology</td><td>991</td><td>Ericka</td><td>.@yopmail.com</td><td>859275.0</td><td>High Demand</td><td>23</td><td>High Workload</td><td>2025-08-25T10:18:01.501Z</td></tr><tr><td>hospice and palliative care</td><td>407</td><td>Bill</td><td>.@yopmail.com</td><td>3436703.0</td><td>Low Demand</td><td>7</td><td>Low Workload</td><td>2025-08-25T10:18:01.501Z</td></tr><tr><td>gastroenterology</td><td>521</td><td>Aeriela</td><td>.@yopmail.com</td><td>0.0</td><td>High Demand</td><td>23</td><td>High Workload</td><td>2025-08-25T10:18:01.501Z</td></tr><tr><td>family medicine</td><td>788</td><td>Leontine</td><td>.@yopmail.com</td><td>0.0</td><td>Low Demand</td><td>8</td><td>Low Workload</td><td>2025-08-25T10:18:01.501Z</td></tr><tr><td>geriatrician</td><td>617</td><td>Charissa</td><td>.@yopmail.com</td><td>1824589.0</td><td>Medium Demand</td><td>18</td><td>Medium Workload</td><td>2025-08-25T10:18:01.501Z</td></tr><tr><td>allergists</td><td>954</td><td>Grier</td><td>.@yopmail.com</td><td>0.0</td><td>Low Demand</td><td>16</td><td>Low Workload</td><td>2025-08-25T10:18:01.501Z</td></tr><tr><td>gastroenterology</td><td>401</td><td>Joelly</td><td>.@yopmail.com</td><td>0.0</td><td>High Demand</td><td>23</td><td>High Workload</td><td>2025-08-25T10:18:01.501Z</td></tr></tbody></table></div>"
      ]
     },
     "metadata": {
      "application/vnd.databricks.v1+output": {
       "addedWidgets": {},
       "aggData": [],
       "aggError": "",
       "aggOverflow": false,
       "aggSchema": [],
       "aggSeriesLimitReached": false,
       "aggType": "",
       "arguments": {},
       "columnCustomDisplayInfos": {},
       "data": [
        [
         "psychiatry",
         463,
         "Edith",
         ".@yopmail.com",
         1780068.0,
         "Low Demand",
         12,
         "Low Workload",
         "2025-08-25T10:18:01.501Z"
        ],
        [
         "surgery",
         243,
         "Edith",
         ".@yopmail.com",
         3436703.0,
         "Medium Demand",
         14,
         "Low Workload",
         "2025-08-25T10:18:01.501Z"
        ],
        [
         "otolaryngologists",
         540,
         "Talya",
         ".@yopmail.com",
         0.0,
         "Medium Demand",
         21,
         "Medium Workload",
         "2025-08-25T10:18:01.501Z"
        ],
        [
         "infectious disease",
         858,
         "Jolyn",
         ".@yopmail.com",
         0.0,
         "High Demand",
         25,
         "High Workload",
         "2025-08-25T10:18:01.501Z"
        ],
        [
         "psychiatry",
         897,
         "Vinita",
         ".@yopmail.com",
         0.0,
         "Low Demand",
         12,
         "Low Workload",
         "2025-08-25T10:18:01.501Z"
        ],
        [
         "oncologist",
         516,
         "Corene",
         ".@yopmail.com",
         0.0,
         "High Demand",
         24,
         "High Workload",
         "2025-08-25T10:18:01.501Z"
        ],
        [
         "allergists",
         451,
         "Steffane",
         ".@yopmail.com",
         0.0,
         "Low Demand",
         16,
         "Low Workload",
         "2025-08-25T10:18:01.501Z"
        ],
        [
         "internists",
         580,
         "Lynnea",
         ".@yopmail.com",
         834252.0,
         "Medium Demand",
         21,
         "Medium Workload",
         "2025-08-25T10:18:01.501Z"
        ],
        [
         "dermatology",
         808,
         "Max",
         ".@yopmail.com",
         0.0,
         "High Demand",
         23,
         "High Workload",
         "2025-08-25T10:18:01.501Z"
        ],
        [
         "ophthalmology",
         879,
         "Micheline",
         ".@yopmail.com",
         185051.0,
         "Medium Demand",
         21,
         "Medium Workload",
         "2025-08-25T10:18:01.501Z"
        ],
        [
         "psychiatry",
         883,
         "Teriann",
         ".@yopmail.com",
         0.0,
         "Low Demand",
         12,
         "Low Workload",
         "2025-08-25T10:18:01.501Z"
        ],
        [
         "nephrology",
         255,
         "Harmonia",
         ".@yopmail.com",
         637413.0,
         "Low Demand",
         15,
         "Low Workload",
         "2025-08-25T10:18:01.501Z"
        ],
        [
         "dermatology",
         481,
         "Carilyn",
         ".@yopmail.com",
         0.0,
         "High Demand",
         23,
         "High Workload",
         "2025-08-25T10:18:01.501Z"
        ],
        [
         "pulmonologists",
         799,
         "Fina",
         ".@yopmail.com",
         631644.0,
         "Medium Demand",
         20,
         "Medium Workload",
         "2025-08-25T10:18:01.501Z"
        ],
        [
         "nephrology",
         804,
         "Rivalee",
         ".@yopmail.com",
         0.0,
         "Low Demand",
         15,
         "Low Workload",
         "2025-08-25T10:18:01.501Z"
        ],
        [
         "internists",
         898,
         "Georgetta",
         ".@yopmail.com",
         259509.0,
         "Medium Demand",
         21,
         "Medium Workload",
         "2025-08-25T10:18:01.501Z"
        ],
        [
         "internists",
         133,
         "Adelle",
         ".@yopmail.com",
         0.0,
         "Medium Demand",
         21,
         "Medium Workload",
         "2025-08-25T10:18:01.501Z"
        ],
        [
         "cardiology",
         296,
         "Brandise",
         ".@yopmail.com",
         144064.0,
         "Low Demand",
         14,
         "Low Workload",
         "2025-08-25T10:18:01.501Z"
        ],
        [
         "oncologist",
         472,
         "Mildrid",
         ".@yopmail.com",
         0.0,
         "High Demand",
         24,
         "High Workload",
         "2025-08-25T10:18:01.501Z"
        ],
        [
         "hospice and palliative care",
         853,
         "Elka",
         ".@yopmail.com",
         0.0,
         "Low Demand",
         7,
         "Low Workload",
         "2025-08-25T10:18:01.501Z"
        ],
        [
         "otolaryngologists",
         322,
         "Deloria",
         ".@yopmail.com",
         0.0,
         "Medium Demand",
         21,
         "Medium Workload",
         "2025-08-25T10:18:01.501Z"
        ],
        [
         "endocrinologist",
         321,
         "Gloria",
         ".@yopmail.com",
         761099.0,
         "Low Demand",
         13,
         "Low Workload",
         "2025-08-25T10:18:01.501Z"
        ],
        [
         "internists",
         362,
         "Charissa",
         ".@yopmail.com",
         1896039.0,
         "Medium Demand",
         21,
         "Medium Workload",
         "2025-08-25T10:18:01.501Z"
        ],
        [
         "cardiology",
         633,
         "Laure",
         ".@yopmail.com",
         1318526.0,
         "Low Demand",
         14,
         "Low Workload",
         "2025-08-25T10:18:01.501Z"
        ],
        [
         "oncologist",
         857,
         "Bobbi",
         ".@yopmail.com",
         0.0,
         "High Demand",
         24,
         "High Workload",
         "2025-08-25T10:18:01.501Z"
        ],
        [
         "radiology",
         974,
         "Laure",
         ".@yopmail.com",
         0.0,
         "Low Demand",
         15,
         "Low Workload",
         "2025-08-25T10:18:01.501Z"
        ],
        [
         "surgery",
         375,
         "Talya",
         ".@yopmail.com",
         0.0,
         "Medium Demand",
         14,
         "Low Workload",
         "2025-08-25T10:18:01.501Z"
        ],
        [
         "pediatrics",
         593,
         "Sara-ann",
         ".@yopmail.com",
         94809.0,
         "Low Demand",
         15,
         "Low Workload",
         "2025-08-25T10:18:01.501Z"
        ],
        [
         "geriatrician",
         597,
         "Marti",
         ".@yopmail.com",
         0.0,
         "Medium Demand",
         18,
         "Medium Workload",
         "2025-08-25T10:18:01.501Z"
        ],
        [
         "neurology",
         976,
         "Netty",
         ".@yopmail.com",
         3283643.0,
         "Low Demand",
         16,
         "Low Workload",
         "2025-08-25T10:18:01.501Z"
        ],
        [
         "surgery",
         108,
         "Addia",
         ".@yopmail.com",
         877174.0,
         "Medium Demand",
         14,
         "Low Workload",
         "2025-08-25T10:18:01.501Z"
        ],
        [
         "pulmonologists",
         155,
         "Alleen",
         ".@yopmail.com",
         114657.0,
         "Medium Demand",
         20,
         "Medium Workload",
         "2025-08-25T10:18:01.501Z"
        ],
        [
         "ophthalmology",
         683,
         "Nerta",
         ".@yopmail.com",
         0.0,
         "Medium Demand",
         21,
         "Medium Workload",
         "2025-08-25T10:18:01.501Z"
        ],
        [
         "obstetric anesthesiologists",
         744,
         "Lolita",
         ".@yopmail.com",
         408017.0,
         "Medium Demand",
         17,
         "Medium Workload",
         "2025-08-25T10:18:01.501Z"
        ],
        [
         "endocrinologist",
         368,
         "Rhea",
         ".@yopmail.com",
         372518.0,
         "Low Demand",
         13,
         "Low Workload",
         "2025-08-25T10:18:01.501Z"
        ],
        [
         "critical care medicine",
         530,
         "Jeanna",
         ".@yopmail.com",
         1501693.0,
         "Low Demand",
         11,
         "Low Workload",
         "2025-08-25T10:18:01.501Z"
        ],
        [
         "otolaryngologists",
         642,
         "Sallie",
         ".@yopmail.com",
         1678715.0,
         "Medium Demand",
         21,
         "Medium Workload",
         "2025-08-25T10:18:01.501Z"
        ],
        [
         "allergists",
         101,
         "Mireielle",
         ".@yopmail.com",
         545986.0,
         "Low Demand",
         16,
         "Low Workload",
         "2025-08-25T10:18:01.501Z"
        ],
        [
         "endocrinologist",
         115,
         "Ronna",
         ".@yopmail.com",
         0.0,
         "Low Demand",
         13,
         "Low Workload",
         "2025-08-25T10:18:01.501Z"
        ],
        [
         "gastroenterology",
         126,
         "Marleah",
         ".@yopmail.com",
         0.0,
         "High Demand",
         23,
         "High Workload",
         "2025-08-25T10:18:01.501Z"
        ],
        [
         "allergists",
         830,
         "Julieta",
         ".@yopmail.com",
         0.0,
         "Low Demand",
         16,
         "Low Workload",
         "2025-08-25T10:18:01.501Z"
        ],
        [
         "gastroenterology",
         847,
         "Nita",
         ".@yopmail.com",
         0.0,
         "High Demand",
         23,
         "High Workload",
         "2025-08-25T10:18:01.501Z"
        ],
        [
         "oncologist",
         939,
         "Melodie",
         ".@yopmail.com",
         0.0,
         "High Demand",
         24,
         "High Workload",
         "2025-08-25T10:18:01.501Z"
        ],
        [
         "psychiatry",
         183,
         "Shauna",
         ".@yopmail.com",
         742667.0,
         "Low Demand",
         12,
         "Low Workload",
         "2025-08-25T10:18:01.501Z"
        ],
        [
         "nephrology",
         210,
         "Dorene",
         ".@yopmail.com",
         975444.0,
         "Low Demand",
         15,
         "Low Workload",
         "2025-08-25T10:18:01.501Z"
        ],
        [
         "ophthalmology",
         497,
         "Tierney",
         ".@yopmail.com",
         0.0,
         "Medium Demand",
         21,
         "Medium Workload",
         "2025-08-25T10:18:01.501Z"
        ],
        [
         "critical care medicine",
         596,
         "Sue",
         ".@yopmail.com",
         0.0,
         "Low Demand",
         11,
         "Low Workload",
         "2025-08-25T10:18:01.501Z"
        ],
        [
         "endocrinologist",
         300,
         "Roxane",
         ".@yopmail.com",
         1889420.0,
         "Low Demand",
         13,
         "Low Workload",
         "2025-08-25T10:18:01.501Z"
        ],
        [
         "otolaryngologists",
         787,
         "Taffy",
         ".@yopmail.com",
         0.0,
         "Medium Demand",
         21,
         "Medium Workload",
         "2025-08-25T10:18:01.501Z"
        ],
        [
         "surgery",
         842,
         "Aaren",
         ".@yopmail.com",
         0.0,
         "Medium Demand",
         14,
         "Low Workload",
         "2025-08-25T10:18:01.501Z"
        ],
        [
         "neurology",
         587,
         "Starla",
         ".@yopmail.com",
         0.0,
         "Low Demand",
         16,
         "Low Workload",
         "2025-08-25T10:18:01.501Z"
        ],
        [
         "neurology",
         731,
         "Joane",
         ".@yopmail.com",
         1277829.0,
         "Low Demand",
         16,
         "Low Workload",
         "2025-08-25T10:18:01.501Z"
        ],
        [
         "geriatrician",
         667,
         "Gloria",
         ".@yopmail.com",
         5846564.0,
         "Medium Demand",
         18,
         "Medium Workload",
         "2025-08-25T10:18:01.501Z"
        ],
        [
         "otolaryngologists",
         688,
         "Constance",
         ".@yopmail.com",
         2340164.0,
         "Medium Demand",
         21,
         "Medium Workload",
         "2025-08-25T10:18:01.501Z"
        ],
        [
         "nephrology",
         723,
         "Katleen",
         ".@yopmail.com",
         0.0,
         "Low Demand",
         15,
         "Low Workload",
         "2025-08-25T10:18:01.501Z"
        ],
        [
         "pediatrics",
         914,
         "Ronna",
         ".@yopmail.com",
         590977.0,
         "Low Demand",
         15,
         "Low Workload",
         "2025-08-25T10:18:01.501Z"
        ],
        [
         "neurology",
         332,
         "Jinny",
         ".@yopmail.com",
         0.0,
         "Low Demand",
         16,
         "Low Workload",
         "2025-08-25T10:18:01.501Z"
        ],
        [
         "psychiatry",
         501,
         "Cathyleen",
         ".@yopmail.com",
         926937.0,
         "Low Demand",
         12,
         "Low Workload",
         "2025-08-25T10:18:01.501Z"
        ],
        [
         "obstetric anesthesiologists",
         577,
         "Tilly",
         ".@yopmail.com",
         0.0,
         "Medium Demand",
         17,
         "Medium Workload",
         "2025-08-25T10:18:01.501Z"
        ],
        [
         "infectious disease",
         626,
         "Glynnis",
         ".@yopmail.com",
         0.0,
         "High Demand",
         25,
         "High Workload",
         "2025-08-25T10:18:01.501Z"
        ],
        [
         "cardiology",
         831,
         "Trudie",
         ".@yopmail.com",
         0.0,
         "Low Demand",
         14,
         "Low Workload",
         "2025-08-25T10:18:01.501Z"
        ],
        [
         "infectious disease",
         159,
         "Georgetta",
         ".@yopmail.com",
         0.0,
         "High Demand",
         25,
         "High Workload",
         "2025-08-25T10:18:01.501Z"
        ],
        [
         "dermatology",
         811,
         "Lucille",
         ".@yopmail.com",
         1104329.0,
         "High Demand",
         23,
         "High Workload",
         "2025-08-25T10:18:01.501Z"
        ],
        [
         "obstetric anesthesiologists",
         844,
         "Tybie",
         ".@yopmail.com",
         0.0,
         "Medium Demand",
         17,
         "Medium Workload",
         "2025-08-25T10:18:01.501Z"
        ],
        [
         "surgery",
         908,
         "Oralee",
         ".@yopmail.com",
         0.0,
         "Medium Demand",
         14,
         "Low Workload",
         "2025-08-25T10:18:01.501Z"
        ],
        [
         "ophthalmology",
         916,
         "Ninnetta",
         ".@yopmail.com",
         0.0,
         "Medium Demand",
         21,
         "Medium Workload",
         "2025-08-25T10:18:01.501Z"
        ],
        [
         "emergency medicine",
         806,
         "Melisent",
         ".@yopmail.com",
         0.0,
         "Medium Demand",
         20,
         "Medium Workload",
         "2025-08-25T10:18:01.501Z"
        ],
        [
         "endocrinologist",
         103,
         "Elie",
         ".@yopmail.com",
         0.0,
         "Low Demand",
         13,
         "Low Workload",
         "2025-08-25T10:18:01.501Z"
        ],
        [
         "radiology",
         236,
         "Morganica",
         ".@yopmail.com",
         0.0,
         "Low Demand",
         15,
         "Low Workload",
         "2025-08-25T10:18:01.501Z"
        ],
        [
         "neurology",
         329,
         "Natka",
         ".@yopmail.com",
         0.0,
         "Low Demand",
         16,
         "Low Workload",
         "2025-08-25T10:18:01.501Z"
        ],
        [
         "emergency medicine",
         460,
         "Tani",
         ".@yopmail.com",
         592444.0,
         "Medium Demand",
         20,
         "Medium Workload",
         "2025-08-25T10:18:01.501Z"
        ],
        [
         "otolaryngologists",
         350,
         "Estell",
         ".@yopmail.com",
         0.0,
         "Medium Demand",
         21,
         "Medium Workload",
         "2025-08-25T10:18:01.501Z"
        ],
        [
         "gastroenterology",
         984,
         "Dacia",
         ".@yopmail.com",
         0.0,
         "High Demand",
         23,
         "High Workload",
         "2025-08-25T10:18:01.501Z"
        ],
        [
         "gastroenterology",
         223,
         "Konstance",
         ".@yopmail.com",
         0.0,
         "High Demand",
         23,
         "High Workload",
         "2025-08-25T10:18:01.501Z"
        ],
        [
         "cardiology",
         738,
         "Hollie",
         ".@yopmail.com",
         0.0,
         "Low Demand",
         14,
         "Low Workload",
         "2025-08-25T10:18:01.501Z"
        ],
        [
         "critical care medicine",
         860,
         "Ericka",
         ".@yopmail.com",
         0.0,
         "Low Demand",
         11,
         "Low Workload",
         "2025-08-25T10:18:01.501Z"
        ],
        [
         "ophthalmology",
         388,
         "Danika",
         ".@yopmail.com",
         1144958.0,
         "Medium Demand",
         21,
         "Medium Workload",
         "2025-08-25T10:18:01.501Z"
        ],
        [
         "allergists",
         417,
         "Molli",
         ".@yopmail.com",
         769686.0,
         "Low Demand",
         16,
         "Low Workload",
         "2025-08-25T10:18:01.501Z"
        ],
        [
         "critical care medicine",
         548,
         "Karlee",
         ".@yopmail.com",
         763879.0,
         "Low Demand",
         11,
         "Low Workload",
         "2025-08-25T10:18:01.501Z"
        ],
        [
         "anesthesiology",
         602,
         "Tabbatha",
         ".@yopmail.com",
         1050834.0,
         "Low Demand",
         15,
         "Low Workload",
         "2025-08-25T10:18:01.501Z"
        ],
        [
         "obstetric anesthesiologists",
         663,
         "Maisey",
         ".@yopmail.com",
         0.0,
         "Medium Demand",
         17,
         "Medium Workload",
         "2025-08-25T10:18:01.501Z"
        ],
        [
         "radiology",
         926,
         "Sashenka",
         ".@yopmail.com",
         2317324.0,
         "Low Demand",
         15,
         "Low Workload",
         "2025-08-25T10:18:01.501Z"
        ],
        [
         "pulmonologists",
         707,
         "Cassandra",
         ".@yopmail.com",
         0.0,
         "Medium Demand",
         20,
         "Medium Workload",
         "2025-08-25T10:18:01.501Z"
        ],
        [
         "dermatology",
         822,
         "Elise",
         ".@yopmail.com",
         0.0,
         "High Demand",
         23,
         "High Workload",
         "2025-08-25T10:18:01.501Z"
        ],
        [
         "family medicine",
         222,
         "Zia",
         ".@yopmail.com",
         1105788.0,
         "Low Demand",
         8,
         "Low Workload",
         "2025-08-25T10:18:01.501Z"
        ],
        [
         "internists",
         285,
         "Gabriellia",
         ".@yopmail.com",
         0.0,
         "Medium Demand",
         21,
         "Medium Workload",
         "2025-08-25T10:18:01.501Z"
        ],
        [
         "endocrinologist",
         875,
         "Marjie",
         ".@yopmail.com",
         0.0,
         "Low Demand",
         13,
         "Low Workload",
         "2025-08-25T10:18:01.501Z"
        ],
        [
         "oncologist",
         209,
         "Nicoli",
         ".@yopmail.com",
         0.0,
         "High Demand",
         24,
         "High Workload",
         "2025-08-25T10:18:01.501Z"
        ],
        [
         "geriatrician",
         372,
         "Myrtice",
         ".@yopmail.com",
         0.0,
         "Medium Demand",
         18,
         "Medium Workload",
         "2025-08-25T10:18:01.501Z"
        ],
        [
         "psychiatry",
         604,
         "Karena",
         ".@yopmail.com",
         0.0,
         "Low Demand",
         12,
         "Low Workload",
         "2025-08-25T10:18:01.501Z"
        ],
        [
         "neurology",
         995,
         "Lanae",
         ".@yopmail.com",
         0.0,
         "Low Demand",
         16,
         "Low Workload",
         "2025-08-25T10:18:01.501Z"
        ],
        [
         "anesthesiology",
         319,
         "Betta",
         ".@yopmail.com",
         0.0,
         "Low Demand",
         15,
         "Low Workload",
         "2025-08-25T10:18:01.501Z"
        ],
        [
         "ophthalmology",
         493,
         "Micheline",
         ".@yopmail.com",
         558782.0,
         "Medium Demand",
         21,
         "Medium Workload",
         "2025-08-25T10:18:01.501Z"
        ],
        [
         "endocrinologist",
         625,
         "Beverley",
         ".@yopmail.com",
         0.0,
         "Low Demand",
         13,
         "Low Workload",
         "2025-08-25T10:18:01.501Z"
        ],
        [
         "infectious disease",
         157,
         "Mellicent",
         ".@yopmail.com",
         0.0,
         "High Demand",
         25,
         "High Workload",
         "2025-08-25T10:18:01.501Z"
        ],
        [
         "geriatrician",
         232,
         "Tani",
         ".@yopmail.com",
         0.0,
         "Medium Demand",
         18,
         "Medium Workload",
         "2025-08-25T10:18:01.501Z"
        ],
        [
         "surgery",
         924,
         "Roslyn",
         ".@yopmail.com",
         156466.0,
         "Medium Demand",
         14,
         "Low Workload",
         "2025-08-25T10:18:01.501Z"
        ],
        [
         "anesthesiology",
         346,
         "Coral",
         ".@yopmail.com",
         0.0,
         "Low Demand",
         15,
         "Low Workload",
         "2025-08-25T10:18:01.501Z"
        ],
        [
         "surgery",
         476,
         "Lory",
         ".@yopmail.com",
         0.0,
         "Medium Demand",
         14,
         "Low Workload",
         "2025-08-25T10:18:01.501Z"
        ],
        [
         "neurology",
         539,
         "Hallie",
         ".@yopmail.com",
         683055.0,
         "Low Demand",
         16,
         "Low Workload",
         "2025-08-25T10:18:01.501Z"
        ],
        [
         "anesthesiology",
         599,
         "Abbie",
         ".@yopmail.com",
         0.0,
         "Low Demand",
         15,
         "Low Workload",
         "2025-08-25T10:18:01.501Z"
        ],
        [
         "internists",
         725,
         "Kary",
         ".@yopmail.com",
         0.0,
         "Medium Demand",
         21,
         "Medium Workload",
         "2025-08-25T10:18:01.501Z"
        ],
        [
         "emergency medicine",
         855,
         "Di",
         ".@yopmail.com",
         0.0,
         "Medium Demand",
         20,
         "Medium Workload",
         "2025-08-25T10:18:01.501Z"
        ],
        [
         "dermatology",
         861,
         "Cyndie",
         ".@yopmail.com",
         0.0,
         "High Demand",
         23,
         "High Workload",
         "2025-08-25T10:18:01.501Z"
        ],
        [
         "emergency medicine",
         224,
         "Dorene",
         ".@yopmail.com",
         1239542.0,
         "Medium Demand",
         20,
         "Medium Workload",
         "2025-08-25T10:18:01.501Z"
        ],
        [
         "endocrinologist",
         519,
         "Maryellen",
         ".@yopmail.com",
         0.0,
         "Low Demand",
         13,
         "Low Workload",
         "2025-08-25T10:18:01.501Z"
        ],
        [
         "infectious disease",
         654,
         "Danika",
         ".@yopmail.com",
         648597.0,
         "High Demand",
         25,
         "High Workload",
         "2025-08-25T10:18:01.501Z"
        ],
        [
         "surgery",
         140,
         "Mureil",
         ".@yopmail.com",
         1009929.0,
         "Medium Demand",
         14,
         "Low Workload",
         "2025-08-25T10:18:01.501Z"
        ],
        [
         "neurology",
         416,
         "Jere",
         ".@yopmail.com",
         0.0,
         "Low Demand",
         16,
         "Low Workload",
         "2025-08-25T10:18:01.501Z"
        ],
        [
         "surgery",
         556,
         "Wileen",
         ".@yopmail.com",
         0.0,
         "Medium Demand",
         14,
         "Low Workload",
         "2025-08-25T10:18:01.501Z"
        ],
        [
         "obstetric anesthesiologists",
         827,
         "Lanae",
         ".@yopmail.com",
         0.0,
         "Medium Demand",
         17,
         "Medium Workload",
         "2025-08-25T10:18:01.501Z"
        ],
        [
         "internists",
         444,
         "Daryl",
         ".@yopmail.com",
         0.0,
         "Medium Demand",
         21,
         "Medium Workload",
         "2025-08-25T10:18:01.501Z"
        ],
        [
         "anesthesiology",
         665,
         "Ricky",
         ".@yopmail.com",
         0.0,
         "Low Demand",
         15,
         "Low Workload",
         "2025-08-25T10:18:01.501Z"
        ],
        [
         "nephrology",
         305,
         "Christy",
         ".@yopmail.com",
         0.0,
         "Low Demand",
         15,
         "Low Workload",
         "2025-08-25T10:18:01.501Z"
        ],
        [
         "allergists",
         353,
         "Flory",
         ".@yopmail.com",
         0.0,
         "Low Demand",
         16,
         "Low Workload",
         "2025-08-25T10:18:01.501Z"
        ],
        [
         "pediatrics",
         355,
         "Romona",
         ".@yopmail.com",
         244088.0,
         "Low Demand",
         15,
         "Low Workload",
         "2025-08-25T10:18:01.501Z"
        ],
        [
         "ophthalmology",
         618,
         "Laurene",
         ".@yopmail.com",
         1111653.0,
         "Medium Demand",
         21,
         "Medium Workload",
         "2025-08-25T10:18:01.501Z"
        ],
        [
         "allergists",
         694,
         "Tami",
         ".@yopmail.com",
         0.0,
         "Low Demand",
         16,
         "Low Workload",
         "2025-08-25T10:18:01.501Z"
        ],
        [
         "endocrinologist",
         696,
         "Alejandra",
         ".@yopmail.com",
         0.0,
         "Low Demand",
         13,
         "Low Workload",
         "2025-08-25T10:18:01.501Z"
        ],
        [
         "ophthalmology",
         747,
         "Elie",
         ".@yopmail.com",
         0.0,
         "Medium Demand",
         21,
         "Medium Workload",
         "2025-08-25T10:18:01.501Z"
        ],
        [
         "pulmonologists",
         291,
         "Gusella",
         ".@yopmail.com",
         1144958.0,
         "Medium Demand",
         20,
         "Medium Workload",
         "2025-08-25T10:18:01.501Z"
        ],
        [
         "dermatology",
         386,
         "Selia",
         ".@yopmail.com",
         590977.0,
         "High Demand",
         23,
         "High Workload",
         "2025-08-25T10:18:01.501Z"
        ],
        [
         "emergency medicine",
         955,
         "Gretal",
         ".@yopmail.com",
         0.0,
         "Medium Demand",
         20,
         "Medium Workload",
         "2025-08-25T10:18:01.501Z"
        ],
        [
         "critical care medicine",
         435,
         "Randa",
         ".@yopmail.com",
         0.0,
         "Low Demand",
         11,
         "Low Workload",
         "2025-08-25T10:18:01.501Z"
        ],
        [
         "dermatology",
         473,
         "Dulcinea",
         ".@yopmail.com",
         0.0,
         "High Demand",
         23,
         "High Workload",
         "2025-08-25T10:18:01.501Z"
        ],
        [
         "cardiology",
         581,
         "Myriam",
         ".@yopmail.com",
         448957.0,
         "Low Demand",
         14,
         "Low Workload",
         "2025-08-25T10:18:01.501Z"
        ],
        [
         "pulmonologists",
         603,
         "Christal",
         ".@yopmail.com",
         0.0,
         "Medium Demand",
         20,
         "Medium Workload",
         "2025-08-25T10:18:01.501Z"
        ],
        [
         "oncologist",
         748,
         "Nanete",
         ".@yopmail.com",
         315514.0,
         "High Demand",
         24,
         "High Workload",
         "2025-08-25T10:18:01.501Z"
        ],
        [
         "pediatrics",
         912,
         "Hallie",
         ".@yopmail.com",
         0.0,
         "Low Demand",
         15,
         "Low Workload",
         "2025-08-25T10:18:01.501Z"
        ],
        [
         "oncologist",
         935,
         "Misha",
         ".@yopmail.com",
         0.0,
         "High Demand",
         24,
         "High Workload",
         "2025-08-25T10:18:01.501Z"
        ],
        [
         "infectious disease",
         704,
         "Sybille",
         ".@yopmail.com",
         0.0,
         "High Demand",
         25,
         "High Workload",
         "2025-08-25T10:18:01.501Z"
        ],
        [
         "pediatrics",
         512,
         "Arlina",
         ".@yopmail.com",
         0.0,
         "Low Demand",
         15,
         "Low Workload",
         "2025-08-25T10:18:01.501Z"
        ],
        [
         "gastroenterology",
         363,
         "Joleen",
         ".@yopmail.com",
         379148.0,
         "High Demand",
         23,
         "High Workload",
         "2025-08-25T10:18:01.501Z"
        ],
        [
         "gastroenterology",
         768,
         "Giustina",
         ".@yopmail.com",
         2604089.0,
         "High Demand",
         23,
         "High Workload",
         "2025-08-25T10:18:01.501Z"
        ],
        [
         "emergency medicine",
         770,
         "Karly",
         ".@yopmail.com",
         888730.0,
         "Medium Demand",
         20,
         "Medium Workload",
         "2025-08-25T10:18:01.501Z"
        ],
        [
         "dermatology",
         777,
         "Aimil",
         ".@yopmail.com",
         878717.0,
         "High Demand",
         23,
         "High Workload",
         "2025-08-25T10:18:01.501Z"
        ],
        [
         "emergency medicine",
         715,
         "Hope",
         ".@yopmail.com",
         269786.0,
         "Medium Demand",
         20,
         "Medium Workload",
         "2025-08-25T10:18:01.501Z"
        ],
        [
         "ophthalmology",
         274,
         "Fawne",
         ".@yopmail.com",
         0.0,
         "Medium Demand",
         21,
         "Medium Workload",
         "2025-08-25T10:18:01.501Z"
        ],
        [
         "otolaryngologists",
         182,
         "Belva",
         ".@yopmail.com",
         843109.0,
         "Medium Demand",
         21,
         "Medium Workload",
         "2025-08-25T10:18:01.501Z"
        ],
        [
         "dermatology",
         442,
         "Randa",
         ".@yopmail.com",
         0.0,
         "High Demand",
         23,
         "High Workload",
         "2025-08-25T10:18:01.501Z"
        ],
        [
         "nephrology",
         689,
         "Juliane",
         ".@yopmail.com",
         0.0,
         "Low Demand",
         15,
         "Low Workload",
         "2025-08-25T10:18:01.501Z"
        ],
        [
         "infectious disease",
         699,
         "Chickie",
         ".@yopmail.com",
         0.0,
         "High Demand",
         25,
         "High Workload",
         "2025-08-25T10:18:01.501Z"
        ],
        [
         "anesthesiology",
         792,
         "Leanna",
         ".@yopmail.com",
         3680845.0,
         "Low Demand",
         15,
         "Low Workload",
         "2025-08-25T10:18:01.501Z"
        ],
        [
         "geriatrician",
         218,
         "Carree",
         ".@yopmail.com",
         0.0,
         "Medium Demand",
         18,
         "Medium Workload",
         "2025-08-25T10:18:01.501Z"
        ],
        [
         "anesthesiology",
         348,
         "Modestia",
         ".@yopmail.com",
         0.0,
         "Low Demand",
         15,
         "Low Workload",
         "2025-08-25T10:18:01.501Z"
        ],
        [
         "otolaryngologists",
         734,
         "Chrystel",
         ".@yopmail.com",
         384096.0,
         "Medium Demand",
         21,
         "Medium Workload",
         "2025-08-25T10:18:01.501Z"
        ],
        [
         "endocrinologist",
         474,
         "Karly",
         ".@yopmail.com",
         700723.0,
         "Low Demand",
         13,
         "Low Workload",
         "2025-08-25T10:18:01.501Z"
        ],
        [
         "ophthalmology",
         636,
         "Chrystel",
         ".@yopmail.com",
         0.0,
         "Medium Demand",
         21,
         "Medium Workload",
         "2025-08-25T10:18:01.501Z"
        ],
        [
         "oncologist",
         760,
         "Orsola",
         ".@yopmail.com",
         0.0,
         "High Demand",
         24,
         "High Workload",
         "2025-08-25T10:18:01.501Z"
        ],
        [
         "otolaryngologists",
         168,
         "Mellicent",
         ".@yopmail.com",
         0.0,
         "Medium Demand",
         21,
         "Medium Workload",
         "2025-08-25T10:18:01.501Z"
        ],
        [
         "endocrinologist",
         572,
         "Catrina",
         ".@yopmail.com",
         929120.0,
         "Low Demand",
         13,
         "Low Workload",
         "2025-08-25T10:18:01.501Z"
        ],
        [
         "obstetric anesthesiologists",
         852,
         "Dennie",
         ".@yopmail.com",
         0.0,
         "Medium Demand",
         17,
         "Medium Workload",
         "2025-08-25T10:18:01.501Z"
        ],
        [
         "infectious disease",
         887,
         "Marita",
         ".@yopmail.com",
         0.0,
         "High Demand",
         25,
         "High Workload",
         "2025-08-25T10:18:01.501Z"
        ],
        [
         "infectious disease",
         142,
         "Felice",
         ".@yopmail.com",
         0.0,
         "High Demand",
         25,
         "High Workload",
         "2025-08-25T10:18:01.501Z"
        ],
        [
         "emergency medicine",
         178,
         "Shaylyn",
         ".@yopmail.com",
         0.0,
         "Medium Demand",
         20,
         "Medium Workload",
         "2025-08-25T10:18:01.501Z"
        ],
        [
         "allergists",
         925,
         "Hyacinthe",
         ".@yopmail.com",
         366652.0,
         "Low Demand",
         16,
         "Low Workload",
         "2025-08-25T10:18:01.501Z"
        ],
        [
         "neurology",
         308,
         "Glynnis",
         ".@yopmail.com",
         1889128.0,
         "Low Demand",
         16,
         "Low Workload",
         "2025-08-25T10:18:01.501Z"
        ],
        [
         "infectious disease",
         328,
         "Atlanta",
         ".@yopmail.com",
         1987601.0,
         "High Demand",
         25,
         "High Workload",
         "2025-08-25T10:18:01.501Z"
        ],
        [
         "emergency medicine",
         164,
         "Alyssa",
         ".@yopmail.com",
         0.0,
         "Medium Demand",
         20,
         "Medium Workload",
         "2025-08-25T10:18:01.501Z"
        ],
        [
         "family medicine",
         470,
         "Etta",
         ".@yopmail.com",
         0.0,
         "Low Demand",
         8,
         "Low Workload",
         "2025-08-25T10:18:01.501Z"
        ],
        [
         "gastroenterology",
         169,
         "Maud",
         ".@yopmail.com",
         0.0,
         "High Demand",
         23,
         "High Workload",
         "2025-08-25T10:18:01.501Z"
        ],
        [
         "emergency medicine",
         500,
         "Verla",
         ".@yopmail.com",
         0.0,
         "Medium Demand",
         20,
         "Medium Workload",
         "2025-08-25T10:18:01.501Z"
        ],
        [
         "surgery",
         139,
         "Aurelie",
         ".@yopmail.com",
         0.0,
         "Medium Demand",
         14,
         "Low Workload",
         "2025-08-25T10:18:01.501Z"
        ],
        [
         "anesthesiology",
         359,
         "Hollie",
         ".@yopmail.com",
         0.0,
         "Low Demand",
         15,
         "Low Workload",
         "2025-08-25T10:18:01.501Z"
        ],
        [
         "critical care medicine",
         479,
         "Madeleine",
         ".@yopmail.com",
         1778975.0,
         "Low Demand",
         11,
         "Low Workload",
         "2025-08-25T10:18:01.501Z"
        ],
        [
         "infectious disease",
         340,
         "Sheelagh",
         ".@yopmail.com",
         450744.0,
         "High Demand",
         25,
         "High Workload",
         "2025-08-25T10:18:01.501Z"
        ],
        [
         "oncologist",
         431,
         "Ermengarde",
         ".@yopmail.com",
         0.0,
         "High Demand",
         24,
         "High Workload",
         "2025-08-25T10:18:01.501Z"
        ],
        [
         "internists",
         692,
         "Nariko",
         ".@yopmail.com",
         1889420.0,
         "Medium Demand",
         21,
         "Medium Workload",
         "2025-08-25T10:18:01.501Z"
        ],
        [
         "psychiatry",
         881,
         "Carmencita",
         ".@yopmail.com",
         0.0,
         "Low Demand",
         12,
         "Low Workload",
         "2025-08-25T10:18:01.501Z"
        ],
        [
         "pediatrics",
         250,
         "Morganica",
         ".@yopmail.com",
         0.0,
         "Low Demand",
         15,
         "Low Workload",
         "2025-08-25T10:18:01.501Z"
        ],
        [
         "critical care medicine",
         377,
         "Marsiella",
         ".@yopmail.com",
         501491.0,
         "Low Demand",
         11,
         "Low Workload",
         "2025-08-25T10:18:01.501Z"
        ],
        [
         "critical care medicine",
         432,
         "Lorie",
         ".@yopmail.com",
         0.0,
         "Low Demand",
         11,
         "Low Workload",
         "2025-08-25T10:18:01.501Z"
        ],
        [
         "anesthesiology",
         582,
         "Petronia",
         ".@yopmail.com",
         0.0,
         "Low Demand",
         15,
         "Low Workload",
         "2025-08-25T10:18:01.501Z"
        ],
        [
         "family medicine",
         570,
         "Elise",
         ".@yopmail.com",
         0.0,
         "Low Demand",
         8,
         "Low Workload",
         "2025-08-25T10:18:01.501Z"
        ],
        [
         "cardiology",
         868,
         "Livvyy",
         ".@yopmail.com",
         0.0,
         "Low Demand",
         14,
         "Low Workload",
         "2025-08-25T10:18:01.501Z"
        ],
        [
         "otolaryngologists",
         920,
         "Nerta",
         ".@yopmail.com",
         0.0,
         "Medium Demand",
         21,
         "Medium Workload",
         "2025-08-25T10:18:01.501Z"
        ],
        [
         "geriatrician",
         306,
         "Georgina",
         ".@yopmail.com",
         809761.0,
         "Medium Demand",
         18,
         "Medium Workload",
         "2025-08-25T10:18:01.501Z"
        ],
        [
         "internists",
         339,
         "Brandise",
         ".@yopmail.com",
         0.0,
         "Medium Demand",
         21,
         "Medium Workload",
         "2025-08-25T10:18:01.501Z"
        ],
        [
         "ophthalmology",
         919,
         "Lucy",
         ".@yopmail.com",
         0.0,
         "Medium Demand",
         21,
         "Medium Workload",
         "2025-08-25T10:18:01.501Z"
        ],
        [
         "anesthesiology",
         923,
         "Hope",
         ".@yopmail.com",
         0.0,
         "Low Demand",
         15,
         "Low Workload",
         "2025-08-25T10:18:01.501Z"
        ],
        [
         "allergists",
         944,
         "Elena",
         ".@yopmail.com",
         555759.0,
         "Low Demand",
         16,
         "Low Workload",
         "2025-08-25T10:18:01.501Z"
        ],
        [
         "dermatology",
         120,
         "Lilith",
         ".@yopmail.com",
         317648.0,
         "High Demand",
         23,
         "High Workload",
         "2025-08-25T10:18:01.501Z"
        ],
        [
         "otolaryngologists",
         559,
         "Ottilie",
         ".@yopmail.com",
         0.0,
         "Medium Demand",
         21,
         "Medium Workload",
         "2025-08-25T10:18:01.501Z"
        ],
        [
         "infectious disease",
         491,
         "Jinny",
         ".@yopmail.com",
         0.0,
         "High Demand",
         25,
         "High Workload",
         "2025-08-25T10:18:01.501Z"
        ],
        [
         "radiology",
         634,
         "Jacenta",
         ".@yopmail.com",
         929397.0,
         "Low Demand",
         15,
         "Low Workload",
         "2025-08-25T10:18:01.501Z"
        ],
        [
         "radiology",
         235,
         "Mariann",
         ".@yopmail.com",
         0.0,
         "Low Demand",
         15,
         "Low Workload",
         "2025-08-25T10:18:01.501Z"
        ],
        [
         "pediatrics",
         545,
         "Oona",
         ".@yopmail.com",
         0.0,
         "Low Demand",
         15,
         "Low Workload",
         "2025-08-25T10:18:01.501Z"
        ],
        [
         "otolaryngologists",
         776,
         "Carilyn",
         ".@yopmail.com",
         0.0,
         "Medium Demand",
         21,
         "Medium Workload",
         "2025-08-25T10:18:01.501Z"
        ],
        [
         "critical care medicine",
         452,
         "Minne",
         ".@yopmail.com",
         3593294.0,
         "Low Demand",
         11,
         "Low Workload",
         "2025-08-25T10:18:01.501Z"
        ],
        [
         "pulmonologists",
         266,
         "Tera",
         ".@yopmail.com",
         133113.0,
         "Medium Demand",
         20,
         "Medium Workload",
         "2025-08-25T10:18:01.501Z"
        ],
        [
         "oncologist",
         650,
         "Genevra",
         ".@yopmail.com",
         700723.0,
         "High Demand",
         24,
         "High Workload",
         "2025-08-25T10:18:01.501Z"
        ],
        [
         "critical care medicine",
         163,
         "Candi",
         ".@yopmail.com",
         0.0,
         "Low Demand",
         11,
         "Low Workload",
         "2025-08-25T10:18:01.501Z"
        ],
        [
         "neurology",
         191,
         "Britte",
         ".@yopmail.com",
         475014.0,
         "Low Demand",
         16,
         "Low Workload",
         "2025-08-25T10:18:01.501Z"
        ],
        [
         "emergency medicine",
         268,
         "Demetris",
         ".@yopmail.com",
         0.0,
         "Medium Demand",
         20,
         "Medium Workload",
         "2025-08-25T10:18:01.501Z"
        ],
        [
         "cardiology",
         258,
         "Joeann",
         ".@yopmail.com",
         0.0,
         "Low Demand",
         14,
         "Low Workload",
         "2025-08-25T10:18:01.501Z"
        ],
        [
         "oncologist",
         709,
         "Gretal",
         ".@yopmail.com",
         1062385.0,
         "High Demand",
         24,
         "High Workload",
         "2025-08-25T10:18:01.501Z"
        ],
        [
         "geriatrician",
         959,
         "Sharai",
         ".@yopmail.com",
         608597.0,
         "Medium Demand",
         18,
         "Medium Workload",
         "2025-08-25T10:18:01.501Z"
        ],
        [
         "cardiology",
         729,
         "Louella",
         ".@yopmail.com",
         0.0,
         "Low Demand",
         14,
         "Low Workload",
         "2025-08-25T10:18:01.501Z"
        ],
        [
         "internists",
         397,
         "Merry",
         ".@yopmail.com",
         0.0,
         "Medium Demand",
         21,
         "Medium Workload",
         "2025-08-25T10:18:01.501Z"
        ],
        [
         "allergists",
         430,
         "Eolanda",
         ".@yopmail.com",
         1691230.0,
         "Low Demand",
         16,
         "Low Workload",
         "2025-08-25T10:18:01.501Z"
        ],
        [
         "anesthesiology",
         754,
         "Riannon",
         ".@yopmail.com",
         0.0,
         "Low Demand",
         15,
         "Low Workload",
         "2025-08-25T10:18:01.501Z"
        ],
        [
         "infectious disease",
         419,
         "Livvyy",
         ".@yopmail.com",
         700723.0,
         "High Demand",
         25,
         "High Workload",
         "2025-08-25T10:18:01.501Z"
        ],
        [
         "infectious disease",
         542,
         "Sandie",
         ".@yopmail.com",
         1389961.0,
         "High Demand",
         25,
         "High Workload",
         "2025-08-25T10:18:01.501Z"
        ],
        [
         "infectious disease",
         560,
         "Letizia",
         ".@yopmail.com",
         0.0,
         "High Demand",
         25,
         "High Workload",
         "2025-08-25T10:18:01.501Z"
        ],
        [
         "infectious disease",
         415,
         "Lacie",
         ".@yopmail.com",
         379148.0,
         "High Demand",
         25,
         "High Workload",
         "2025-08-25T10:18:01.501Z"
        ],
        [
         "nephrology",
         644,
         "Corina",
         ".@yopmail.com",
         732970.0,
         "Low Demand",
         15,
         "Low Workload",
         "2025-08-25T10:18:01.501Z"
        ],
        [
         "psychiatry",
         826,
         "Rosene",
         ".@yopmail.com",
         0.0,
         "Low Demand",
         12,
         "Low Workload",
         "2025-08-25T10:18:01.501Z"
        ],
        [
         "otolaryngologists",
         117,
         "Karena",
         ".@yopmail.com",
         1118905.0,
         "Medium Demand",
         21,
         "Medium Workload",
         "2025-08-25T10:18:01.501Z"
        ],
        [
         "neurology",
         227,
         "Millie",
         ".@yopmail.com",
         0.0,
         "Low Demand",
         16,
         "Low Workload",
         "2025-08-25T10:18:01.501Z"
        ],
        [
         "dermatology",
         504,
         "Averyl",
         ".@yopmail.com",
         0.0,
         "High Demand",
         23,
         "High Workload",
         "2025-08-25T10:18:01.501Z"
        ],
        [
         "pediatrics",
         598,
         "Fanchon",
         ".@yopmail.com",
         0.0,
         "Low Demand",
         15,
         "Low Workload",
         "2025-08-25T10:18:01.501Z"
        ],
        [
         "nephrology",
         764,
         "Lolita",
         ".@yopmail.com",
         0.0,
         "Low Demand",
         15,
         "Low Workload",
         "2025-08-25T10:18:01.501Z"
        ],
        [
         "gastroenterology",
         886,
         "Calla",
         ".@yopmail.com",
         0.0,
         "High Demand",
         23,
         "High Workload",
         "2025-08-25T10:18:01.501Z"
        ],
        [
         "neurology",
         936,
         "Carolina",
         ".@yopmail.com",
         1346124.0,
         "Low Demand",
         16,
         "Low Workload",
         "2025-08-25T10:18:01.501Z"
        ],
        [
         "pulmonologists",
         154,
         "Leanna",
         ".@yopmail.com",
         538664.0,
         "Medium Demand",
         20,
         "Medium Workload",
         "2025-08-25T10:18:01.501Z"
        ],
        [
         "pediatrics",
         309,
         "Sybille",
         ".@yopmail.com",
         0.0,
         "Low Demand",
         15,
         "Low Workload",
         "2025-08-25T10:18:01.501Z"
        ],
        [
         "psychiatry",
         425,
         "Amara",
         ".@yopmail.com",
         58453.0,
         "Low Demand",
         12,
         "Low Workload",
         "2025-08-25T10:18:01.501Z"
        ],
        [
         "otolaryngologists",
         931,
         "Micheline",
         ".@yopmail.com",
         1496295.0,
         "Medium Demand",
         21,
         "Medium Workload",
         "2025-08-25T10:18:01.501Z"
        ],
        [
         "psychiatry",
         347,
         "Jacquetta",
         ".@yopmail.com",
         1350236.0,
         "Low Demand",
         12,
         "Low Workload",
         "2025-08-25T10:18:01.501Z"
        ],
        [
         "internists",
         447,
         "Asia",
         ".@yopmail.com",
         0.0,
         "Medium Demand",
         21,
         "Medium Workload",
         "2025-08-25T10:18:01.501Z"
        ],
        [
         "oncologist",
         455,
         "Maryellen",
         ".@yopmail.com",
         0.0,
         "High Demand",
         24,
         "High Workload",
         "2025-08-25T10:18:01.501Z"
        ],
        [
         "hospice and palliative care",
         484,
         "Nanete",
         ".@yopmail.com",
         0.0,
         "Low Demand",
         7,
         "Low Workload",
         "2025-08-25T10:18:01.501Z"
        ],
        [
         "internists",
         607,
         "Jenilee",
         ".@yopmail.com",
         0.0,
         "Medium Demand",
         21,
         "Medium Workload",
         "2025-08-25T10:18:01.501Z"
        ],
        [
         "otolaryngologists",
         845,
         "Jaclyn",
         ".@yopmail.com",
         954389.0,
         "Medium Demand",
         21,
         "Medium Workload",
         "2025-08-25T10:18:01.501Z"
        ],
        [
         "pulmonologists",
         262,
         "Maye",
         ".@yopmail.com",
         2382142.0,
         "Medium Demand",
         20,
         "Medium Workload",
         "2025-08-25T10:18:01.501Z"
        ],
        [
         "obstetric anesthesiologists",
         929,
         "Aryn",
         ".@yopmail.com",
         1752721.0,
         "Medium Demand",
         17,
         "Medium Workload",
         "2025-08-25T10:18:01.501Z"
        ],
        [
         "pediatrics",
         112,
         "Josephine",
         ".@yopmail.com",
         0.0,
         "Low Demand",
         15,
         "Low Workload",
         "2025-08-25T10:18:01.501Z"
        ],
        [
         "family medicine",
         269,
         "Cathyleen",
         ".@yopmail.com",
         0.0,
         "Low Demand",
         8,
         "Low Workload",
         "2025-08-25T10:18:01.501Z"
        ],
        [
         "psychiatry",
         327,
         "Heddie",
         ".@yopmail.com",
         0.0,
         "Low Demand",
         12,
         "Low Workload",
         "2025-08-25T10:18:01.501Z"
        ],
        [
         "geriatrician",
         563,
         "Chere",
         ".@yopmail.com",
         0.0,
         "Medium Demand",
         18,
         "Medium Workload",
         "2025-08-25T10:18:01.501Z"
        ],
        [
         "surgery",
         615,
         "Sonni",
         ".@yopmail.com",
         1573612.0,
         "Medium Demand",
         14,
         "Low Workload",
         "2025-08-25T10:18:01.501Z"
        ],
        [
         "family medicine",
         849,
         "Florie",
         ".@yopmail.com",
         0.0,
         "Low Demand",
         8,
         "Low Workload",
         "2025-08-25T10:18:01.501Z"
        ],
        [
         "psychiatry",
         165,
         "Monika",
         ".@yopmail.com",
         349500.0,
         "Low Demand",
         12,
         "Low Workload",
         "2025-08-25T10:18:01.501Z"
        ],
        [
         "dermatology",
         775,
         "Tera",
         ".@yopmail.com",
         615587.0,
         "High Demand",
         23,
         "High Workload",
         "2025-08-25T10:18:01.501Z"
        ],
        [
         "otolaryngologists",
         358,
         "Gerrie",
         ".@yopmail.com",
         0.0,
         "Medium Demand",
         21,
         "Medium Workload",
         "2025-08-25T10:18:01.501Z"
        ],
        [
         "pulmonologists",
         843,
         "Leeanne",
         ".@yopmail.com",
         0.0,
         "Medium Demand",
         20,
         "Medium Workload",
         "2025-08-25T10:18:01.501Z"
        ],
        [
         "emergency medicine",
         854,
         "Talya",
         ".@yopmail.com",
         0.0,
         "Medium Demand",
         20,
         "Medium Workload",
         "2025-08-25T10:18:01.501Z"
        ],
        [
         "anesthesiology",
         179,
         "Petronia",
         ".@yopmail.com",
         859275.0,
         "Low Demand",
         15,
         "Low Workload",
         "2025-08-25T10:18:01.501Z"
        ],
        [
         "family medicine",
         189,
         "Max",
         ".@yopmail.com",
         3283643.0,
         "Low Demand",
         8,
         "Low Workload",
         "2025-08-25T10:18:01.501Z"
        ],
        [
         "otolaryngologists",
         207,
         "Rayna",
         ".@yopmail.com",
         0.0,
         "Medium Demand",
         21,
         "Medium Workload",
         "2025-08-25T10:18:01.501Z"
        ],
        [
         "nephrology",
         489,
         "Sam",
         ".@yopmail.com",
         0.0,
         "Low Demand",
         15,
         "Low Workload",
         "2025-08-25T10:18:01.501Z"
        ],
        [
         "pediatrics",
         675,
         "Brietta",
         ".@yopmail.com",
         0.0,
         "Low Demand",
         15,
         "Low Workload",
         "2025-08-25T10:18:01.501Z"
        ],
        [
         "pulmonologists",
         383,
         "Catrina",
         ".@yopmail.com",
         836090.0,
         "Medium Demand",
         20,
         "Medium Workload",
         "2025-08-25T10:18:01.501Z"
        ],
        [
         "pulmonologists",
         127,
         "Pollyanna",
         ".@yopmail.com",
         0.0,
         "Medium Demand",
         20,
         "Medium Workload",
         "2025-08-25T10:18:01.501Z"
        ],
        [
         "family medicine",
         461,
         "Mady",
         ".@yopmail.com",
         0.0,
         "Low Demand",
         8,
         "Low Workload",
         "2025-08-25T10:18:01.501Z"
        ],
        [
         "oncologist",
         502,
         "Nikki",
         ".@yopmail.com",
         1673188.0,
         "High Demand",
         24,
         "High Workload",
         "2025-08-25T10:18:01.501Z"
        ],
        [
         "pediatrics",
         819,
         "Nanete",
         ".@yopmail.com",
         626659.0,
         "Low Demand",
         15,
         "Low Workload",
         "2025-08-25T10:18:01.501Z"
        ],
        [
         "cardiology",
         937,
         "Robinia",
         ".@yopmail.com",
         0.0,
         "Low Demand",
         14,
         "Low Workload",
         "2025-08-25T10:18:01.501Z"
        ],
        [
         "pulmonologists",
         197,
         "Ofilia",
         ".@yopmail.com",
         1586483.0,
         "Medium Demand",
         20,
         "Medium Workload",
         "2025-08-25T10:18:01.501Z"
        ],
        [
         "nephrology",
         486,
         "Janis",
         ".@yopmail.com",
         1266525.0,
         "Low Demand",
         15,
         "Low Workload",
         "2025-08-25T10:18:01.501Z"
        ],
        [
         "emergency medicine",
         903,
         "Lindie",
         ".@yopmail.com",
         1323199.0,
         "Medium Demand",
         20,
         "Medium Workload",
         "2025-08-25T10:18:01.501Z"
        ],
        [
         "oncologist",
         993,
         "Sadie",
         ".@yopmail.com",
         109954.0,
         "High Demand",
         24,
         "High Workload",
         "2025-08-25T10:18:01.501Z"
        ],
        [
         "emergency medicine",
         547,
         "Yolane",
         ".@yopmail.com",
         1163170.0,
         "Medium Demand",
         20,
         "Medium Workload",
         "2025-08-25T10:18:01.501Z"
        ],
        [
         "pulmonologists",
         202,
         "Di",
         ".@yopmail.com",
         940376.0,
         "Medium Demand",
         20,
         "Medium Workload",
         "2025-08-25T10:18:01.501Z"
        ],
        [
         "nephrology",
         374,
         "Giustina",
         ".@yopmail.com",
         0.0,
         "Low Demand",
         15,
         "Low Workload",
         "2025-08-25T10:18:01.501Z"
        ],
        [
         "allergists",
         564,
         "Mahalia",
         ".@yopmail.com",
         0.0,
         "Low Demand",
         16,
         "Low Workload",
         "2025-08-25T10:18:01.501Z"
        ],
        [
         "allergists",
         619,
         "Shannah",
         ".@yopmail.com",
         1987601.0,
         "Low Demand",
         16,
         "Low Workload",
         "2025-08-25T10:18:01.501Z"
        ],
        [
         "family medicine",
         231,
         "Ida",
         ".@yopmail.com",
         0.0,
         "Low Demand",
         8,
         "Low Workload",
         "2025-08-25T10:18:01.501Z"
        ],
        [
         "oncologist",
         552,
         "Florencia",
         ".@yopmail.com",
         0.0,
         "High Demand",
         24,
         "High Workload",
         "2025-08-25T10:18:01.501Z"
        ],
        [
         "oncologist",
         324,
         "Christal",
         ".@yopmail.com",
         0.0,
         "High Demand",
         24,
         "High Workload",
         "2025-08-25T10:18:01.501Z"
        ],
        [
         "gastroenterology",
         586,
         "Desirae",
         ".@yopmail.com",
         715291.0,
         "High Demand",
         23,
         "High Workload",
         "2025-08-25T10:18:01.501Z"
        ],
        [
         "radiology",
         286,
         "Arlina",
         ".@yopmail.com",
         0.0,
         "Low Demand",
         15,
         "Low Workload",
         "2025-08-25T10:18:01.501Z"
        ],
        [
         "pediatrics",
         398,
         "Misha",
         ".@yopmail.com",
         0.0,
         "Low Demand",
         15,
         "Low Workload",
         "2025-08-25T10:18:01.501Z"
        ],
        [
         "pulmonologists",
         505,
         "Jobi",
         ".@yopmail.com",
         0.0,
         "Medium Demand",
         20,
         "Medium Workload",
         "2025-08-25T10:18:01.501Z"
        ],
        [
         "endocrinologist",
         538,
         "Gisela",
         ".@yopmail.com",
         0.0,
         "Low Demand",
         13,
         "Low Workload",
         "2025-08-25T10:18:01.501Z"
        ],
        [
         "nephrology",
         387,
         "Nadine",
         ".@yopmail.com",
         0.0,
         "Low Demand",
         15,
         "Low Workload",
         "2025-08-25T10:18:01.501Z"
        ],
        [
         "allergists",
         423,
         "Carree",
         ".@yopmail.com",
         0.0,
         "Low Demand",
         16,
         "Low Workload",
         "2025-08-25T10:18:01.501Z"
        ],
        [
         "radiology",
         746,
         "Gusty",
         ".@yopmail.com",
         0.0,
         "Low Demand",
         15,
         "Low Workload",
         "2025-08-25T10:18:01.501Z"
        ],
        [
         "family medicine",
         498,
         "Carmela",
         ".@yopmail.com",
         0.0,
         "Low Demand",
         8,
         "Low Workload",
         "2025-08-25T10:18:01.501Z"
        ],
        [
         "nephrology",
         583,
         "Gabi",
         ".@yopmail.com",
         0.0,
         "Low Demand",
         15,
         "Low Workload",
         "2025-08-25T10:18:01.501Z"
        ],
        [
         "dermatology",
         594,
         "Gilda",
         ".@yopmail.com",
         0.0,
         "High Demand",
         23,
         "High Workload",
         "2025-08-25T10:18:01.501Z"
        ],
        [
         "radiology",
         610,
         "Yvonne",
         ".@yopmail.com",
         0.0,
         "Low Demand",
         15,
         "Low Workload",
         "2025-08-25T10:18:01.501Z"
        ],
        [
         "surgery",
         761,
         "Jobi",
         ".@yopmail.com",
         109954.0,
         "Medium Demand",
         14,
         "Low Workload",
         "2025-08-25T10:18:01.501Z"
        ],
        [
         "infectious disease",
         880,
         "Imojean",
         ".@yopmail.com",
         0.0,
         "High Demand",
         25,
         "High Workload",
         "2025-08-25T10:18:01.501Z"
        ],
        [
         "otolaryngologists",
         485,
         "Tera",
         ".@yopmail.com",
         2089028.0,
         "Medium Demand",
         21,
         "Medium Workload",
         "2025-08-25T10:18:01.501Z"
        ],
        [
         "allergists",
         742,
         "Gui",
         ".@yopmail.com",
         908837.0,
         "Low Demand",
         16,
         "Low Workload",
         "2025-08-25T10:18:01.501Z"
        ],
        [
         "dermatology",
         838,
         "Michaelina",
         ".@yopmail.com",
         492242.0,
         "High Demand",
         23,
         "High Workload",
         "2025-08-25T10:18:01.501Z"
        ],
        [
         "obstetric anesthesiologists",
         870,
         "Johna",
         ".@yopmail.com",
         0.0,
         "Medium Demand",
         17,
         "Medium Workload",
         "2025-08-25T10:18:01.501Z"
        ],
        [
         "radiology",
         900,
         "Norine",
         ".@yopmail.com",
         0.0,
         "Low Demand",
         15,
         "Low Workload",
         "2025-08-25T10:18:01.501Z"
        ],
        [
         "nephrology",
         437,
         "Tera",
         ".@yopmail.com",
         121894.0,
         "Low Demand",
         15,
         "Low Workload",
         "2025-08-25T10:18:01.501Z"
        ],
        [
         "anesthesiology",
         829,
         "Molli",
         ".@yopmail.com",
         409394.0,
         "Low Demand",
         15,
         "Low Workload",
         "2025-08-25T10:18:01.501Z"
        ],
        [
         "cardiology",
         217,
         "Celestyna",
         ".@yopmail.com",
         0.0,
         "Low Demand",
         14,
         "Low Workload",
         "2025-08-25T10:18:01.501Z"
        ],
        [
         "anesthesiology",
         290,
         "Bernie",
         ".@yopmail.com",
         0.0,
         "Low Demand",
         15,
         "Low Workload",
         "2025-08-25T10:18:01.501Z"
        ],
        [
         "hospice and palliative care",
         733,
         "Teriann",
         ".@yopmail.com",
         0.0,
         "Low Demand",
         7,
         "Low Workload",
         "2025-08-25T10:18:01.501Z"
        ],
        [
         "radiology",
         800,
         "Hermione",
         ".@yopmail.com",
         2273242.0,
         "Low Demand",
         15,
         "Low Workload",
         "2025-08-25T10:18:01.501Z"
        ],
        [
         "dermatology",
         884,
         "Randa",
         ".@yopmail.com",
         134921.0,
         "High Demand",
         23,
         "High Workload",
         "2025-08-25T10:18:01.501Z"
        ],
        [
         "surgery",
         948,
         "Kirstin",
         ".@yopmail.com",
         0.0,
         "Medium Demand",
         14,
         "Low Workload",
         "2025-08-25T10:18:01.501Z"
        ],
        [
         "nephrology",
         229,
         "Krystle",
         ".@yopmail.com",
         0.0,
         "Low Demand",
         15,
         "Low Workload",
         "2025-08-25T10:18:01.501Z"
        ],
        [
         "anesthesiology",
         537,
         "Carmela",
         ".@yopmail.com",
         0.0,
         "Low Demand",
         15,
         "Low Workload",
         "2025-08-25T10:18:01.501Z"
        ],
        [
         "oncologist",
         173,
         "Charissa",
         ".@yopmail.com",
         662732.0,
         "High Demand",
         24,
         "High Workload",
         "2025-08-25T10:18:01.501Z"
        ],
        [
         "emergency medicine",
         220,
         "Carly",
         ".@yopmail.com",
         0.0,
         "Medium Demand",
         20,
         "Medium Workload",
         "2025-08-25T10:18:01.501Z"
        ],
        [
         "geriatrician",
         494,
         "Mildrid",
         ".@yopmail.com",
         520455.0,
         "Medium Demand",
         18,
         "Medium Workload",
         "2025-08-25T10:18:01.501Z"
        ],
        [
         "surgery",
         669,
         "Fredericka",
         ".@yopmail.com",
         0.0,
         "Medium Demand",
         14,
         "Low Workload",
         "2025-08-25T10:18:01.501Z"
        ],
        [
         "nephrology",
         713,
         "Morganica",
         ".@yopmail.com",
         0.0,
         "Low Demand",
         15,
         "Low Workload",
         "2025-08-25T10:18:01.501Z"
        ],
        [
         "otolaryngologists",
         810,
         "Wendi",
         ".@yopmail.com",
         0.0,
         "Medium Demand",
         21,
         "Medium Workload",
         "2025-08-25T10:18:01.501Z"
        ],
        [
         "internists",
         890,
         "Fredericka",
         ".@yopmail.com",
         0.0,
         "Medium Demand",
         21,
         "Medium Workload",
         "2025-08-25T10:18:01.501Z"
        ],
        [
         "hospice and palliative care",
         445,
         "Cyb",
         ".@yopmail.com",
         0.0,
         "Low Demand",
         7,
         "Low Workload",
         "2025-08-25T10:18:01.501Z"
        ],
        [
         "emergency medicine",
         100,
         "Thalia",
         ".@yopmail.com",
         0.0,
         "Medium Demand",
         20,
         "Medium Workload",
         "2025-08-25T10:18:01.501Z"
        ],
        [
         "allergists",
         241,
         "Merci",
         ".@yopmail.com",
         0.0,
         "Low Demand",
         16,
         "Low Workload",
         "2025-08-25T10:18:01.501Z"
        ],
        [
         "infectious disease",
         449,
         "Harmonia",
         ".@yopmail.com",
         0.0,
         "High Demand",
         25,
         "High Workload",
         "2025-08-25T10:18:01.501Z"
        ],
        [
         "family medicine",
         450,
         "Evita",
         ".@yopmail.com",
         0.0,
         "Low Demand",
         8,
         "Low Workload",
         "2025-08-25T10:18:01.501Z"
        ],
        [
         "otolaryngologists",
         495,
         "Aeriela",
         ".@yopmail.com",
         0.0,
         "Medium Demand",
         21,
         "Medium Workload",
         "2025-08-25T10:18:01.501Z"
        ],
        [
         "neurology",
         757,
         "Mariele",
         ".@yopmail.com",
         331820.0,
         "Low Demand",
         16,
         "Low Workload",
         "2025-08-25T10:18:01.501Z"
        ],
        [
         "family medicine",
         930,
         "Raf",
         ".@yopmail.com",
         0.0,
         "Low Demand",
         8,
         "Low Workload",
         "2025-08-25T10:18:01.501Z"
        ],
        [
         "gastroenterology",
         161,
         "Jolyn",
         ".@yopmail.com",
         965827.0,
         "High Demand",
         23,
         "High Workload",
         "2025-08-25T10:18:01.501Z"
        ],
        [
         "endocrinologist",
         555,
         "Misha",
         ".@yopmail.com",
         0.0,
         "Low Demand",
         13,
         "Low Workload",
         "2025-08-25T10:18:01.501Z"
        ],
        [
         "dermatology",
         687,
         "Juliane",
         ".@yopmail.com",
         0.0,
         "High Demand",
         23,
         "High Workload",
         "2025-08-25T10:18:01.501Z"
        ],
        [
         "otolaryngologists",
         679,
         "Debee",
         ".@yopmail.com",
         1987975.0,
         "Medium Demand",
         21,
         "Medium Workload",
         "2025-08-25T10:18:01.501Z"
        ],
        [
         "pulmonologists",
         629,
         "Ada",
         ".@yopmail.com",
         0.0,
         "Medium Demand",
         20,
         "Medium Workload",
         "2025-08-25T10:18:01.501Z"
        ],
        [
         "neurology",
         672,
         "Gerianna",
         ".@yopmail.com",
         0.0,
         "Low Demand",
         16,
         "Low Workload",
         "2025-08-25T10:18:01.501Z"
        ],
        [
         "oncologist",
         736,
         "Candi",
         ".@yopmail.com",
         0.0,
         "High Demand",
         24,
         "High Workload",
         "2025-08-25T10:18:01.501Z"
        ],
        [
         "allergists",
         791,
         "Charmaine",
         ".@yopmail.com",
         0.0,
         "Low Demand",
         16,
         "Low Workload",
         "2025-08-25T10:18:01.501Z"
        ],
        [
         "geriatrician",
         162,
         "Beth",
         ".@yopmail.com",
         0.0,
         "Medium Demand",
         18,
         "Medium Workload",
         "2025-08-25T10:18:01.501Z"
        ],
        [
         "ophthalmology",
         637,
         "Lorenza",
         ".@yopmail.com",
         1376889.0,
         "Medium Demand",
         21,
         "Medium Workload",
         "2025-08-25T10:18:01.501Z"
        ],
        [
         "emergency medicine",
         877,
         "Vevay",
         ".@yopmail.com",
         2113058.0,
         "Medium Demand",
         20,
         "Medium Workload",
         "2025-08-25T10:18:01.501Z"
        ],
        [
         "family medicine",
         238,
         "Patricia",
         ".@yopmail.com",
         0.0,
         "Low Demand",
         8,
         "Low Workload",
         "2025-08-25T10:18:01.501Z"
        ],
        [
         "psychiatry",
         648,
         "Marcelline",
         ".@yopmail.com",
         0.0,
         "Low Demand",
         12,
         "Low Workload",
         "2025-08-25T10:18:01.501Z"
        ],
        [
         "ophthalmology",
         136,
         "Veda",
         ".@yopmail.com",
         0.0,
         "Medium Demand",
         21,
         "Medium Workload",
         "2025-08-25T10:18:01.501Z"
        ],
        [
         "obstetric anesthesiologists",
         453,
         "Evaleen",
         ".@yopmail.com",
         0.0,
         "Medium Demand",
         17,
         "Medium Workload",
         "2025-08-25T10:18:01.501Z"
        ],
        [
         "neurology",
         720,
         "Jere",
         ".@yopmail.com",
         0.0,
         "Low Demand",
         16,
         "Low Workload",
         "2025-08-25T10:18:01.501Z"
        ],
        [
         "oncologist",
         856,
         "Arabel",
         ".@yopmail.com",
         148700.0,
         "High Demand",
         24,
         "High Workload",
         "2025-08-25T10:18:01.501Z"
        ],
        [
         "nephrology",
         1000,
         "Brana",
         ".@yopmail.com",
         0.0,
         "Low Demand",
         15,
         "Low Workload",
         "2025-08-25T10:18:01.501Z"
        ],
        [
         "internists",
         247,
         "Nyssa",
         ".@yopmail.com",
         50442.0,
         "Medium Demand",
         21,
         "Medium Workload",
         "2025-08-25T10:18:01.501Z"
        ],
        [
         "nephrology",
         314,
         "Ernesta",
         ".@yopmail.com",
         1268098.0,
         "Low Demand",
         15,
         "Low Workload",
         "2025-08-25T10:18:01.501Z"
        ],
        [
         "geriatrician",
         664,
         "Flo",
         ".@yopmail.com",
         0.0,
         "Medium Demand",
         18,
         "Medium Workload",
         "2025-08-25T10:18:01.501Z"
        ],
        [
         "endocrinologist",
         691,
         "Andeee",
         ".@yopmail.com",
         825064.0,
         "Low Demand",
         13,
         "Low Workload",
         "2025-08-25T10:18:01.501Z"
        ],
        [
         "gastroenterology",
         728,
         "Eugine",
         ".@yopmail.com",
         734519.0,
         "High Demand",
         23,
         "High Workload",
         "2025-08-25T10:18:01.501Z"
        ],
        [
         "psychiatry",
         565,
         "Dione",
         ".@yopmail.com",
         0.0,
         "Low Demand",
         12,
         "Low Workload",
         "2025-08-25T10:18:01.501Z"
        ],
        [
         "radiology",
         171,
         "Meriel",
         ".@yopmail.com",
         0.0,
         "Low Demand",
         15,
         "Low Workload",
         "2025-08-25T10:18:01.501Z"
        ],
        [
         "otolaryngologists",
         434,
         "Verla",
         ".@yopmail.com",
         0.0,
         "Medium Demand",
         21,
         "Medium Workload",
         "2025-08-25T10:18:01.501Z"
        ],
        [
         "gastroenterology",
         439,
         "Noelle",
         ".@yopmail.com",
         301351.0,
         "High Demand",
         23,
         "High Workload",
         "2025-08-25T10:18:01.501Z"
        ],
        [
         "nephrology",
         443,
         "Renie",
         ".@yopmail.com",
         1354711.0,
         "Low Demand",
         15,
         "Low Workload",
         "2025-08-25T10:18:01.501Z"
        ],
        [
         "pulmonologists",
         956,
         "Merry",
         ".@yopmail.com",
         0.0,
         "Medium Demand",
         20,
         "Medium Workload",
         "2025-08-25T10:18:01.501Z"
        ],
        [
         "surgery",
         194,
         "Phedra",
         ".@yopmail.com",
         0.0,
         "Medium Demand",
         14,
         "Low Workload",
         "2025-08-25T10:18:01.501Z"
        ],
        [
         "internists",
         277,
         "Chere",
         ".@yopmail.com",
         482591.0,
         "Medium Demand",
         21,
         "Medium Workload",
         "2025-08-25T10:18:01.501Z"
        ],
        [
         "pulmonologists",
         428,
         "Moyna",
         ".@yopmail.com",
         0.0,
         "Medium Demand",
         20,
         "Medium Workload",
         "2025-08-25T10:18:01.501Z"
        ],
        [
         "cardiology",
         794,
         "Henriette",
         ".@yopmail.com",
         497541.0,
         "Low Demand",
         14,
         "Low Workload",
         "2025-08-25T10:18:01.501Z"
        ],
        [
         "otolaryngologists",
         957,
         "Sissy",
         ".@yopmail.com",
         87017.0,
         "Medium Demand",
         21,
         "Medium Workload",
         "2025-08-25T10:18:01.501Z"
        ],
        [
         "oncologist",
         994,
         "Cristabel",
         ".@yopmail.com",
         1091295.0,
         "High Demand",
         24,
         "High Workload",
         "2025-08-25T10:18:01.501Z"
        ],
        [
         "oncologist",
         391,
         "Annabela",
         ".@yopmail.com",
         0.0,
         "High Demand",
         24,
         "High Workload",
         "2025-08-25T10:18:01.501Z"
        ],
        [
         "gastroenterology",
         438,
         "Iseabal",
         ".@yopmail.com",
         2500369.0,
         "High Demand",
         23,
         "High Workload",
         "2025-08-25T10:18:01.501Z"
        ],
        [
         "infectious disease",
         532,
         "Mureil",
         ".@yopmail.com",
         995778.0,
         "High Demand",
         25,
         "High Workload",
         "2025-08-25T10:18:01.501Z"
        ],
        [
         "dermatology",
         706,
         "Robbi",
         ".@yopmail.com",
         0.0,
         "High Demand",
         23,
         "High Workload",
         "2025-08-25T10:18:01.501Z"
        ],
        [
         "geriatrician",
         821,
         "Farrah",
         ".@yopmail.com",
         0.0,
         "Medium Demand",
         18,
         "Medium Workload",
         "2025-08-25T10:18:01.501Z"
        ],
        [
         "gastroenterology",
         129,
         "Aurelie",
         ".@yopmail.com",
         3204079.0,
         "High Demand",
         23,
         "High Workload",
         "2025-08-25T10:18:01.501Z"
        ],
        [
         "ophthalmology",
         448,
         "Laurene",
         ".@yopmail.com",
         0.0,
         "Medium Demand",
         21,
         "Medium Workload",
         "2025-08-25T10:18:01.501Z"
        ],
        [
         "neurology",
         928,
         "Doralynne",
         ".@yopmail.com",
         1242687.0,
         "Low Demand",
         16,
         "Low Workload",
         "2025-08-25T10:18:01.501Z"
        ],
        [
         "critical care medicine",
         400,
         "Moyna",
         ".@yopmail.com",
         183912.0,
         "Low Demand",
         11,
         "Low Workload",
         "2025-08-25T10:18:01.501Z"
        ],
        [
         "radiology",
         543,
         "Orelia",
         ".@yopmail.com",
         1158745.0,
         "Low Demand",
         15,
         "Low Workload",
         "2025-08-25T10:18:01.501Z"
        ],
        [
         "endocrinologist",
         524,
         "Christy",
         ".@yopmail.com",
         681424.0,
         "Low Demand",
         13,
         "Low Workload",
         "2025-08-25T10:18:01.501Z"
        ],
        [
         "pulmonologists",
         533,
         "Agathe",
         ".@yopmail.com",
         0.0,
         "Medium Demand",
         20,
         "Medium Workload",
         "2025-08-25T10:18:01.501Z"
        ],
        [
         "cardiology",
         661,
         "Darlleen",
         ".@yopmail.com",
         1232251.0,
         "Low Demand",
         14,
         "Low Workload",
         "2025-08-25T10:18:01.501Z"
        ],
        [
         "internists",
         239,
         "Frieda",
         ".@yopmail.com",
         0.0,
         "Medium Demand",
         21,
         "Medium Workload",
         "2025-08-25T10:18:01.501Z"
        ],
        [
         "gastroenterology",
         312,
         "Kimmy",
         ".@yopmail.com",
         0.0,
         "High Demand",
         23,
         "High Workload",
         "2025-08-25T10:18:01.501Z"
        ],
        [
         "infectious disease",
         389,
         "Max",
         ".@yopmail.com",
         369728.0,
         "High Demand",
         25,
         "High Workload",
         "2025-08-25T10:18:01.501Z"
        ],
        [
         "otolaryngologists",
         869,
         "Aili",
         ".@yopmail.com",
         0.0,
         "Medium Demand",
         21,
         "Medium Workload",
         "2025-08-25T10:18:01.501Z"
        ],
        [
         "allergists",
         885,
         "Lilith",
         ".@yopmail.com",
         0.0,
         "Low Demand",
         16,
         "Low Workload",
         "2025-08-25T10:18:01.501Z"
        ],
        [
         "hospice and palliative care",
         403,
         "Mallory",
         ".@yopmail.com",
         0.0,
         "Low Demand",
         7,
         "Low Workload",
         "2025-08-25T10:18:01.501Z"
        ],
        [
         "gastroenterology",
         779,
         "Nerta",
         ".@yopmail.com",
         0.0,
         "High Demand",
         23,
         "High Workload",
         "2025-08-25T10:18:01.501Z"
        ],
        [
         "pediatrics",
         459,
         "Alex",
         ".@yopmail.com",
         1050834.0,
         "Low Demand",
         15,
         "Low Workload",
         "2025-08-25T10:18:01.501Z"
        ],
        [
         "pediatrics",
         509,
         "Hope",
         ".@yopmail.com",
         0.0,
         "Low Demand",
         15,
         "Low Workload",
         "2025-08-25T10:18:01.501Z"
        ],
        [
         "oncologist",
         907,
         "Ida",
         ".@yopmail.com",
         0.0,
         "High Demand",
         24,
         "High Workload",
         "2025-08-25T10:18:01.501Z"
        ],
        [
         "pediatrics",
         361,
         "Sashenka",
         ".@yopmail.com",
         0.0,
         "Low Demand",
         15,
         "Low Workload",
         "2025-08-25T10:18:01.501Z"
        ],
        [
         "dermatology",
         589,
         "Calla",
         ".@yopmail.com",
         2371464.0,
         "High Demand",
         23,
         "High Workload",
         "2025-08-25T10:18:01.501Z"
        ],
        [
         "gastroenterology",
         814,
         "Rani",
         ".@yopmail.com",
         0.0,
         "High Demand",
         23,
         "High Workload",
         "2025-08-25T10:18:01.501Z"
        ],
        [
         "otolaryngologists",
         848,
         "Tina",
         ".@yopmail.com",
         0.0,
         "Medium Demand",
         21,
         "Medium Workload",
         "2025-08-25T10:18:01.501Z"
        ],
        [
         "oncologist",
         658,
         "Corina",
         ".@yopmail.com",
         480872.0,
         "High Demand",
         24,
         "High Workload",
         "2025-08-25T10:18:01.501Z"
        ],
        [
         "obstetric anesthesiologists",
         750,
         "Dode",
         ".@yopmail.com",
         1169281.0,
         "Medium Demand",
         17,
         "Medium Workload",
         "2025-08-25T10:18:01.501Z"
        ],
        [
         "internists",
         771,
         "Karena",
         ".@yopmail.com",
         408676.0,
         "Medium Demand",
         21,
         "Medium Workload",
         "2025-08-25T10:18:01.501Z"
        ],
        [
         "obstetric anesthesiologists",
         951,
         "Priscilla",
         ".@yopmail.com",
         1590102.0,
         "Medium Demand",
         17,
         "Medium Workload",
         "2025-08-25T10:18:01.501Z"
        ],
        [
         "emergency medicine",
         267,
         "Demetris",
         ".@yopmail.com",
         0.0,
         "Medium Demand",
         20,
         "Medium Workload",
         "2025-08-25T10:18:01.501Z"
        ],
        [
         "cardiology",
         527,
         "Cristabel",
         ".@yopmail.com",
         0.0,
         "Low Demand",
         14,
         "Low Workload",
         "2025-08-25T10:18:01.501Z"
        ],
        [
         "otolaryngologists",
         569,
         "Corina",
         ".@yopmail.com",
         0.0,
         "Medium Demand",
         21,
         "Medium Workload",
         "2025-08-25T10:18:01.501Z"
        ],
        [
         "geriatrician",
         769,
         "Corry",
         ".@yopmail.com",
         0.0,
         "Medium Demand",
         18,
         "Medium Workload",
         "2025-08-25T10:18:01.501Z"
        ],
        [
         "pulmonologists",
         938,
         "Hermione",
         ".@yopmail.com",
         0.0,
         "Medium Demand",
         20,
         "Medium Workload",
         "2025-08-25T10:18:01.501Z"
        ],
        [
         "emergency medicine",
         977,
         "June",
         ".@yopmail.com",
         423459.0,
         "Medium Demand",
         20,
         "Medium Workload",
         "2025-08-25T10:18:01.501Z"
        ],
        [
         "gastroenterology",
         759,
         "Leona",
         ".@yopmail.com",
         1262138.0,
         "High Demand",
         23,
         "High Workload",
         "2025-08-25T10:18:01.501Z"
        ],
        [
         "internists",
         812,
         "Marylou",
         ".@yopmail.com",
         0.0,
         "Medium Demand",
         21,
         "Medium Workload",
         "2025-08-25T10:18:01.501Z"
        ],
        [
         "psychiatry",
         952,
         "Ingrid",
         ".@yopmail.com",
         0.0,
         "Low Demand",
         12,
         "Low Workload",
         "2025-08-25T10:18:01.501Z"
        ],
        [
         "gastroenterology",
         261,
         "Kylynn",
         ".@yopmail.com",
         0.0,
         "High Demand",
         23,
         "High Workload",
         "2025-08-25T10:18:01.501Z"
        ],
        [
         "ophthalmology",
         418,
         "Danny",
         ".@yopmail.com",
         0.0,
         "Medium Demand",
         21,
         "Medium Workload",
         "2025-08-25T10:18:01.501Z"
        ],
        [
         "oncologist",
         946,
         "Zsa Zsa",
         ".@yopmail.com",
         0.0,
         "High Demand",
         24,
         "High Workload",
         "2025-08-25T10:18:01.501Z"
        ],
        [
         "pulmonologists",
         181,
         "Britte",
         ".@yopmail.com",
         865126.0,
         "Medium Demand",
         20,
         "Medium Workload",
         "2025-08-25T10:18:01.501Z"
        ],
        [
         "family medicine",
         249,
         "Nataline",
         ".@yopmail.com",
         0.0,
         "Low Demand",
         8,
         "Low Workload",
         "2025-08-25T10:18:01.501Z"
        ],
        [
         "nephrology",
         364,
         "Aurelie",
         ".@yopmail.com",
         0.0,
         "Low Demand",
         15,
         "Low Workload",
         "2025-08-25T10:18:01.501Z"
        ],
        [
         "surgery",
         510,
         "Ada",
         ".@yopmail.com",
         0.0,
         "Medium Demand",
         14,
         "Low Workload",
         "2025-08-25T10:18:01.501Z"
        ],
        [
         "endocrinologist",
         288,
         "Frank",
         ".@yopmail.com",
         0.0,
         "Low Demand",
         13,
         "Low Workload",
         "2025-08-25T10:18:01.501Z"
        ],
        [
         "infectious disease",
         889,
         "Paola",
         ".@yopmail.com",
         1747344.0,
         "High Demand",
         25,
         "High Workload",
         "2025-08-25T10:18:01.501Z"
        ],
        [
         "surgery",
         245,
         "Mahalia",
         ".@yopmail.com",
         0.0,
         "Medium Demand",
         14,
         "Low Workload",
         "2025-08-25T10:18:01.501Z"
        ],
        [
         "obstetric anesthesiologists",
         427,
         "Jeanna",
         ".@yopmail.com",
         3024970.0,
         "Medium Demand",
         17,
         "Medium Workload",
         "2025-08-25T10:18:01.501Z"
        ],
        [
         "allergists",
         763,
         "Vonny",
         ".@yopmail.com",
         0.0,
         "Low Demand",
         16,
         "Low Workload",
         "2025-08-25T10:18:01.501Z"
        ],
        [
         "gastroenterology",
         816,
         "Linet",
         ".@yopmail.com",
         0.0,
         "High Demand",
         23,
         "High Workload",
         "2025-08-25T10:18:01.501Z"
        ],
        [
         "radiology",
         113,
         "Shaylyn",
         ".@yopmail.com",
         0.0,
         "Low Demand",
         15,
         "Low Workload",
         "2025-08-25T10:18:01.501Z"
        ],
        [
         "cardiology",
         237,
         "Suzette",
         ".@yopmail.com",
         1830079.0,
         "Low Demand",
         14,
         "Low Workload",
         "2025-08-25T10:18:01.501Z"
        ],
        [
         "radiology",
         895,
         "Kary",
         ".@yopmail.com",
         0.0,
         "Low Demand",
         15,
         "Low Workload",
         "2025-08-25T10:18:01.501Z"
        ],
        [
         "otolaryngologists",
         645,
         "Asia",
         ".@yopmail.com",
         0.0,
         "Medium Demand",
         21,
         "Medium Workload",
         "2025-08-25T10:18:01.501Z"
        ],
        [
         "pulmonologists",
         893,
         "Michaelina",
         ".@yopmail.com",
         0.0,
         "Medium Demand",
         20,
         "Medium Workload",
         "2025-08-25T10:18:01.501Z"
        ],
        [
         "nephrology",
         408,
         "Pamella",
         ".@yopmail.com",
         0.0,
         "Low Demand",
         15,
         "Low Workload",
         "2025-08-25T10:18:01.501Z"
        ],
        [
         "emergency medicine",
         730,
         "Luci",
         ".@yopmail.com",
         390250.0,
         "Medium Demand",
         20,
         "Medium Workload",
         "2025-08-25T10:18:01.501Z"
        ],
        [
         "infectious disease",
         156,
         "Claudina",
         ".@yopmail.com",
         0.0,
         "High Demand",
         25,
         "High Workload",
         "2025-08-25T10:18:01.501Z"
        ],
        [
         "infectious disease",
         480,
         "Leontine",
         ".@yopmail.com",
         0.0,
         "High Demand",
         25,
         "High Workload",
         "2025-08-25T10:18:01.501Z"
        ],
        [
         "critical care medicine",
         143,
         "Rebeca",
         ".@yopmail.com",
         0.0,
         "Low Demand",
         11,
         "Low Workload",
         "2025-08-25T10:18:01.501Z"
        ],
        [
         "emergency medicine",
         219,
         "Estell",
         ".@yopmail.com",
         917941.0,
         "Medium Demand",
         20,
         "Medium Workload",
         "2025-08-25T10:18:01.501Z"
        ],
        [
         "dermatology",
         967,
         "Katuscha",
         ".@yopmail.com",
         1984094.0,
         "High Demand",
         23,
         "High Workload",
         "2025-08-25T10:18:01.501Z"
        ],
        [
         "psychiatry",
         411,
         "Shel",
         ".@yopmail.com",
         0.0,
         "Low Demand",
         12,
         "Low Workload",
         "2025-08-25T10:18:01.501Z"
        ],
        [
         "infectious disease",
         477,
         "Ekaterina",
         ".@yopmail.com",
         0.0,
         "High Demand",
         25,
         "High Workload",
         "2025-08-25T10:18:01.501Z"
        ],
        [
         "nephrology",
         740,
         "Charissa",
         ".@yopmail.com",
         0.0,
         "Low Demand",
         15,
         "Low Workload",
         "2025-08-25T10:18:01.501Z"
        ],
        [
         "pediatrics",
         968,
         "Kathy",
         ".@yopmail.com",
         0.0,
         "Low Demand",
         15,
         "Low Workload",
         "2025-08-25T10:18:01.501Z"
        ],
        [
         "obstetric anesthesiologists",
         226,
         "Minda",
         ".@yopmail.com",
         0.0,
         "Medium Demand",
         17,
         "Medium Workload",
         "2025-08-25T10:18:01.501Z"
        ],
        [
         "family medicine",
         651,
         "Emelina",
         ".@yopmail.com",
         1085403.0,
         "Low Demand",
         8,
         "Low Workload",
         "2025-08-25T10:18:01.501Z"
        ],
        [
         "pulmonologists",
         789,
         "Karena",
         ".@yopmail.com",
         0.0,
         "Medium Demand",
         20,
         "Medium Workload",
         "2025-08-25T10:18:01.501Z"
        ],
        [
         "internists",
         464,
         "Alex",
         ".@yopmail.com",
         0.0,
         "Medium Demand",
         21,
         "Medium Workload",
         "2025-08-25T10:18:01.501Z"
        ],
        [
         "internists",
         526,
         "Karly",
         ".@yopmail.com",
         0.0,
         "Medium Demand",
         21,
         "Medium Workload",
         "2025-08-25T10:18:01.501Z"
        ],
        [
         "gastroenterology",
         528,
         "Pierette",
         ".@yopmail.com",
         0.0,
         "High Demand",
         23,
         "High Workload",
         "2025-08-25T10:18:01.501Z"
        ],
        [
         "ophthalmology",
         558,
         "Adriana",
         ".@yopmail.com",
         1879878.0,
         "Medium Demand",
         21,
         "Medium Workload",
         "2025-08-25T10:18:01.501Z"
        ],
        [
         "neurology",
         214,
         "Gretal",
         ".@yopmail.com",
         1370777.0,
         "Low Demand",
         16,
         "Low Workload",
         "2025-08-25T10:18:01.501Z"
        ],
        [
         "surgery",
         335,
         "Romona",
         ".@yopmail.com",
         0.0,
         "Medium Demand",
         14,
         "Low Workload",
         "2025-08-25T10:18:01.501Z"
        ],
        [
         "neurology",
         338,
         "Taffy",
         ".@yopmail.com",
         0.0,
         "Low Demand",
         16,
         "Low Workload",
         "2025-08-25T10:18:01.501Z"
        ],
        [
         "internists",
         352,
         "Ellette",
         ".@yopmail.com",
         0.0,
         "Medium Demand",
         21,
         "Medium Workload",
         "2025-08-25T10:18:01.501Z"
        ],
        [
         "cardiology",
         492,
         "Berta",
         ".@yopmail.com",
         0.0,
         "Low Demand",
         14,
         "Low Workload",
         "2025-08-25T10:18:01.501Z"
        ],
        [
         "allergists",
         798,
         "Vere",
         ".@yopmail.com",
         0.0,
         "Low Demand",
         16,
         "Low Workload",
         "2025-08-25T10:18:01.501Z"
        ],
        [
         "emergency medicine",
         866,
         "Cathyleen",
         ".@yopmail.com",
         0.0,
         "Medium Demand",
         20,
         "Medium Workload",
         "2025-08-25T10:18:01.501Z"
        ],
        [
         "hospice and palliative care",
         256,
         "Inga",
         ".@yopmail.com",
         1072874.0,
         "Low Demand",
         7,
         "Low Workload",
         "2025-08-25T10:18:01.501Z"
        ],
        [
         "infectious disease",
         678,
         "Dania",
         ".@yopmail.com",
         509379.0,
         "High Demand",
         25,
         "High Workload",
         "2025-08-25T10:18:01.501Z"
        ],
        [
         "dermatology",
         714,
         "Brianna",
         ".@yopmail.com",
         707194.0,
         "High Demand",
         23,
         "High Workload",
         "2025-08-25T10:18:01.501Z"
        ],
        [
         "neurology",
         911,
         "Lorne",
         ".@yopmail.com",
         0.0,
         "Low Demand",
         16,
         "Low Workload",
         "2025-08-25T10:18:01.501Z"
        ],
        [
         "psychiatry",
         933,
         "Ernesta",
         ".@yopmail.com",
         0.0,
         "Low Demand",
         12,
         "Low Workload",
         "2025-08-25T10:18:01.501Z"
        ],
        [
         "infectious disease",
         287,
         "Ida",
         ".@yopmail.com",
         0.0,
         "High Demand",
         25,
         "High Workload",
         "2025-08-25T10:18:01.501Z"
        ],
        [
         "dermatology",
         345,
         "Phedra",
         ".@yopmail.com",
         0.0,
         "High Demand",
         23,
         "High Workload",
         "2025-08-25T10:18:01.501Z"
        ],
        [
         "cardiology",
         490,
         "Gratia",
         ".@yopmail.com",
         0.0,
         "Low Demand",
         14,
         "Low Workload",
         "2025-08-25T10:18:01.501Z"
        ],
        [
         "oncologist",
         752,
         "Regina",
         ".@yopmail.com",
         1350715.0,
         "High Demand",
         24,
         "High Workload",
         "2025-08-25T10:18:01.501Z"
        ],
        [
         "obstetric anesthesiologists",
         767,
         "Joeann",
         ".@yopmail.com",
         0.0,
         "Medium Demand",
         17,
         "Medium Workload",
         "2025-08-25T10:18:01.501Z"
        ],
        [
         "family medicine",
         790,
         "Cacilie",
         ".@yopmail.com",
         730503.0,
         "Low Demand",
         8,
         "Low Workload",
         "2025-08-25T10:18:01.501Z"
        ],
        [
         "neurology",
         828,
         "Sheree",
         ".@yopmail.com",
         0.0,
         "Low Demand",
         16,
         "Low Workload",
         "2025-08-25T10:18:01.501Z"
        ],
        [
         "gastroenterology",
         863,
         "Dione",
         ".@yopmail.com",
         0.0,
         "High Demand",
         23,
         "High Workload",
         "2025-08-25T10:18:01.501Z"
        ],
        [
         "gastroenterology",
         990,
         "Vanessa",
         ".@yopmail.com",
         0.0,
         "High Demand",
         23,
         "High Workload",
         "2025-08-25T10:18:01.501Z"
        ],
        [
         "allergists",
         371,
         "Maridel",
         ".@yopmail.com",
         0.0,
         "Low Demand",
         16,
         "Low Workload",
         "2025-08-25T10:18:01.501Z"
        ],
        [
         "psychiatry",
         382,
         "Annice",
         ".@yopmail.com",
         0.0,
         "Low Demand",
         12,
         "Low Workload",
         "2025-08-25T10:18:01.501Z"
        ],
        [
         "emergency medicine",
         630,
         "Amii",
         ".@yopmail.com",
         0.0,
         "Medium Demand",
         20,
         "Medium Workload",
         "2025-08-25T10:18:01.501Z"
        ],
        [
         "psychiatry",
         786,
         "Marnia",
         ".@yopmail.com",
         0.0,
         "Low Demand",
         12,
         "Low Workload",
         "2025-08-25T10:18:01.501Z"
        ],
        [
         "infectious disease",
         203,
         "Kore",
         ".@yopmail.com",
         118150.0,
         "High Demand",
         25,
         "High Workload",
         "2025-08-25T10:18:01.501Z"
        ],
        [
         "surgery",
         221,
         "Daryl",
         ".@yopmail.com",
         642717.0,
         "Medium Demand",
         14,
         "Low Workload",
         "2025-08-25T10:18:01.501Z"
        ],
        [
         "ophthalmology",
         265,
         "Joelly",
         ".@yopmail.com",
         0.0,
         "Medium Demand",
         21,
         "Medium Workload",
         "2025-08-25T10:18:01.501Z"
        ],
        [
         "oncologist",
         457,
         "Siana",
         ".@yopmail.com",
         0.0,
         "High Demand",
         24,
         "High Workload",
         "2025-08-25T10:18:01.501Z"
        ],
        [
         "radiology",
         640,
         "Rani",
         ".@yopmail.com",
         0.0,
         "Low Demand",
         15,
         "Low Workload",
         "2025-08-25T10:18:01.501Z"
        ],
        [
         "pediatrics",
         662,
         "Nadine",
         ".@yopmail.com",
         1137768.0,
         "Low Demand",
         15,
         "Low Workload",
         "2025-08-25T10:18:01.501Z"
        ],
        [
         "internists",
         141,
         "Dennie",
         ".@yopmail.com",
         0.0,
         "Medium Demand",
         21,
         "Medium Workload",
         "2025-08-25T10:18:01.501Z"
        ],
        [
         "internists",
         151,
         "Karly",
         ".@yopmail.com",
         0.0,
         "Medium Demand",
         21,
         "Medium Workload",
         "2025-08-25T10:18:01.501Z"
        ],
        [
         "oncologist",
         341,
         "Camile",
         ".@yopmail.com",
         2219170.0,
         "High Demand",
         24,
         "High Workload",
         "2025-08-25T10:18:01.501Z"
        ],
        [
         "otolaryngologists",
         414,
         "Joeann",
         ".@yopmail.com",
         0.0,
         "Medium Demand",
         21,
         "Medium Workload",
         "2025-08-25T10:18:01.501Z"
        ],
        [
         "anesthesiology",
         433,
         "Beverley",
         ".@yopmail.com",
         0.0,
         "Low Demand",
         15,
         "Low Workload",
         "2025-08-25T10:18:01.501Z"
        ],
        [
         "oncologist",
         712,
         "Emmey",
         ".@yopmail.com",
         0.0,
         "High Demand",
         24,
         "High Workload",
         "2025-08-25T10:18:01.501Z"
        ],
        [
         "psychiatry",
         859,
         "Tomasina",
         ".@yopmail.com",
         0.0,
         "Low Demand",
         12,
         "Low Workload",
         "2025-08-25T10:18:01.501Z"
        ],
        [
         "endocrinologist",
         899,
         "Tiffie",
         ".@yopmail.com",
         262153.0,
         "Low Demand",
         13,
         "Low Workload",
         "2025-08-25T10:18:01.501Z"
        ],
        [
         "gastroenterology",
         334,
         "Orelia",
         ".@yopmail.com",
         0.0,
         "High Demand",
         23,
         "High Workload",
         "2025-08-25T10:18:01.501Z"
        ],
        [
         "dermatology",
         801,
         "Brooks",
         ".@yopmail.com",
         3436703.0,
         "High Demand",
         23,
         "High Workload",
         "2025-08-25T10:18:01.501Z"
        ],
        [
         "obstetric anesthesiologists",
         943,
         "Doro",
         ".@yopmail.com",
         1437505.0,
         "Medium Demand",
         17,
         "Medium Workload",
         "2025-08-25T10:18:01.501Z"
        ],
        [
         "surgery",
         953,
         "Andeee",
         ".@yopmail.com",
         0.0,
         "Medium Demand",
         14,
         "Low Workload",
         "2025-08-25T10:18:01.501Z"
        ],
        [
         "family medicine",
         978,
         "Lila",
         ".@yopmail.com",
         0.0,
         "Low Demand",
         8,
         "Low Workload",
         "2025-08-25T10:18:01.501Z"
        ],
        [
         "geriatrician",
         145,
         "Kerrin",
         ".@yopmail.com",
         2040902.0,
         "Medium Demand",
         18,
         "Medium Workload",
         "2025-08-25T10:18:01.501Z"
        ],
        [
         "oncologist",
         272,
         "Nikki",
         ".@yopmail.com",
         0.0,
         "High Demand",
         24,
         "High Workload",
         "2025-08-25T10:18:01.501Z"
        ],
        [
         "geriatrician",
         488,
         "Rosanne",
         ".@yopmail.com",
         0.0,
         "Medium Demand",
         18,
         "Medium Workload",
         "2025-08-25T10:18:01.501Z"
        ],
        [
         "cardiology",
         515,
         "Chickie",
         ".@yopmail.com",
         0.0,
         "Low Demand",
         14,
         "Low Workload",
         "2025-08-25T10:18:01.501Z"
        ],
        [
         "emergency medicine",
         680,
         "Emma",
         ".@yopmail.com",
         0.0,
         "Medium Demand",
         20,
         "Medium Workload",
         "2025-08-25T10:18:01.501Z"
        ],
        [
         "cardiology",
         254,
         "Moyna",
         ".@yopmail.com",
         545986.0,
         "Low Demand",
         14,
         "Low Workload",
         "2025-08-25T10:18:01.501Z"
        ],
        [
         "hospice and palliative care",
         378,
         "Concettina",
         ".@yopmail.com",
         654032.0,
         "Low Demand",
         7,
         "Low Workload",
         "2025-08-25T10:18:01.501Z"
        ],
        [
         "otolaryngologists",
         487,
         "Sidoney",
         ".@yopmail.com",
         0.0,
         "Medium Demand",
         21,
         "Medium Workload",
         "2025-08-25T10:18:01.501Z"
        ],
        [
         "pediatrics",
         639,
         "Arabel",
         ".@yopmail.com",
         2618062.0,
         "Low Demand",
         15,
         "Low Workload",
         "2025-08-25T10:18:01.501Z"
        ],
        [
         "ophthalmology",
         940,
         "Yolane",
         ".@yopmail.com",
         0.0,
         "Medium Demand",
         21,
         "Medium Workload",
         "2025-08-25T10:18:01.501Z"
        ],
        [
         "hospice and palliative care",
         213,
         "Sidoney",
         ".@yopmail.com",
         282554.0,
         "Low Demand",
         7,
         "Low Workload",
         "2025-08-25T10:18:01.501Z"
        ],
        [
         "internists",
         228,
         "Dagmar",
         ".@yopmail.com",
         0.0,
         "Medium Demand",
         21,
         "Medium Workload",
         "2025-08-25T10:18:01.501Z"
        ],
        [
         "pediatrics",
         534,
         "Pierette",
         ".@yopmail.com",
         1501693.0,
         "Low Demand",
         15,
         "Low Workload",
         "2025-08-25T10:18:01.501Z"
        ],
        [
         "obstetric anesthesiologists",
         997,
         "Georgina",
         ".@yopmail.com",
         2037322.0,
         "Medium Demand",
         17,
         "Medium Workload",
         "2025-08-25T10:18:01.501Z"
        ],
        [
         "infectious disease",
         303,
         "Sherrie",
         ".@yopmail.com",
         0.0,
         "High Demand",
         25,
         "High Workload",
         "2025-08-25T10:18:01.501Z"
        ],
        [
         "emergency medicine",
         426,
         "Asia",
         ".@yopmail.com",
         156466.0,
         "Medium Demand",
         20,
         "Medium Workload",
         "2025-08-25T10:18:01.501Z"
        ],
        [
         "infectious disease",
         574,
         "Ronna",
         ".@yopmail.com",
         2206483.0,
         "High Demand",
         25,
         "High Workload",
         "2025-08-25T10:18:01.501Z"
        ],
        [
         "critical care medicine",
         749,
         "Charlena",
         ".@yopmail.com",
         0.0,
         "Low Demand",
         11,
         "Low Workload",
         "2025-08-25T10:18:01.501Z"
        ],
        [
         "oncologist",
         170,
         "Quintina",
         ".@yopmail.com",
         3306665.0,
         "High Demand",
         24,
         "High Workload",
         "2025-08-25T10:18:01.501Z"
        ],
        [
         "neurology",
         354,
         "Tersina",
         ".@yopmail.com",
         0.0,
         "Low Demand",
         16,
         "Low Workload",
         "2025-08-25T10:18:01.501Z"
        ],
        [
         "dermatology",
         702,
         "Clarice",
         ".@yopmail.com",
         0.0,
         "High Demand",
         23,
         "High Workload",
         "2025-08-25T10:18:01.501Z"
        ],
        [
         "surgery",
         708,
         "Brynna",
         ".@yopmail.com",
         0.0,
         "Medium Demand",
         14,
         "Low Workload",
         "2025-08-25T10:18:01.501Z"
        ],
        [
         "anesthesiology",
         807,
         "Nollie",
         ".@yopmail.com",
         794496.0,
         "Low Demand",
         15,
         "Low Workload",
         "2025-08-25T10:18:01.501Z"
        ],
        [
         "geriatrician",
         536,
         "Dorene",
         ".@yopmail.com",
         990268.0,
         "Medium Demand",
         18,
         "Medium Workload",
         "2025-08-25T10:18:01.501Z"
        ],
        [
         "gastroenterology",
         611,
         "Shell",
         ".@yopmail.com",
         0.0,
         "High Demand",
         23,
         "High Workload",
         "2025-08-25T10:18:01.501Z"
        ],
        [
         "pediatrics",
         612,
         "Krystle",
         ".@yopmail.com",
         975444.0,
         "Low Demand",
         15,
         "Low Workload",
         "2025-08-25T10:18:01.501Z"
        ],
        [
         "infectious disease",
         668,
         "Jessamyn",
         ".@yopmail.com",
         0.0,
         "High Demand",
         25,
         "High Workload",
         "2025-08-25T10:18:01.501Z"
        ],
        [
         "emergency medicine",
         105,
         "Lynea",
         ".@yopmail.com",
         0.0,
         "Medium Demand",
         20,
         "Medium Workload",
         "2025-08-25T10:18:01.501Z"
        ],
        [
         "gastroenterology",
         370,
         "Liana",
         ".@yopmail.com",
         0.0,
         "High Demand",
         23,
         "High Workload",
         "2025-08-25T10:18:01.501Z"
        ],
        [
         "ophthalmology",
         913,
         "Kelly",
         ".@yopmail.com",
         0.0,
         "Medium Demand",
         21,
         "Medium Workload",
         "2025-08-25T10:18:01.501Z"
        ],
        [
         "anesthesiology",
         188,
         "Shaine",
         ".@yopmail.com",
         0.0,
         "Low Demand",
         15,
         "Low Workload",
         "2025-08-25T10:18:01.501Z"
        ],
        [
         "oncologist",
         726,
         "Tabbatha",
         ".@yopmail.com",
         1184196.0,
         "High Demand",
         24,
         "High Workload",
         "2025-08-25T10:18:01.501Z"
        ],
        [
         "allergists",
         837,
         "Beatriz",
         ".@yopmail.com",
         0.0,
         "Low Demand",
         16,
         "Low Workload",
         "2025-08-25T10:18:01.501Z"
        ],
        [
         "cardiology",
         204,
         "Dyann",
         ".@yopmail.com",
         0.0,
         "Low Demand",
         14,
         "Low Workload",
         "2025-08-25T10:18:01.501Z"
        ],
        [
         "emergency medicine",
         421,
         "Chickie",
         ".@yopmail.com",
         799018.0,
         "Medium Demand",
         20,
         "Medium Workload",
         "2025-08-25T10:18:01.501Z"
        ],
        [
         "dermatology",
         888,
         "Grier",
         ".@yopmail.com",
         1091939.0,
         "High Demand",
         23,
         "High Workload",
         "2025-08-25T10:18:01.501Z"
        ],
        [
         "cardiology",
         110,
         "Maud",
         ".@yopmail.com",
         0.0,
         "Low Demand",
         14,
         "Low Workload",
         "2025-08-25T10:18:01.501Z"
        ],
        [
         "oncologist",
         369,
         "Nannie",
         ".@yopmail.com",
         0.0,
         "High Demand",
         24,
         "High Workload",
         "2025-08-25T10:18:01.501Z"
        ],
        [
         "obstetric anesthesiologists",
         825,
         "Roberta",
         ".@yopmail.com",
         0.0,
         "Medium Demand",
         17,
         "Medium Workload",
         "2025-08-25T10:18:01.501Z"
        ],
        [
         "geriatrician",
         106,
         "Constance",
         ".@yopmail.com",
         0.0,
         "Medium Demand",
         18,
         "Medium Workload",
         "2025-08-25T10:18:01.501Z"
        ],
        [
         "gastroenterology",
         260,
         "Dorthy",
         ".@yopmail.com",
         0.0,
         "High Demand",
         23,
         "High Workload",
         "2025-08-25T10:18:01.501Z"
        ],
        [
         "infectious disease",
         561,
         "Elka",
         ".@yopmail.com",
         0.0,
         "High Demand",
         25,
         "High Workload",
         "2025-08-25T10:18:01.501Z"
        ],
        [
         "infectious disease",
         116,
         "Shell",
         ".@yopmail.com",
         713514.0,
         "High Demand",
         25,
         "High Workload",
         "2025-08-25T10:18:01.501Z"
        ],
        [
         "ophthalmology",
         147,
         "Shaylyn",
         ".@yopmail.com",
         0.0,
         "Medium Demand",
         21,
         "Medium Workload",
         "2025-08-25T10:18:01.501Z"
        ],
        [
         "anesthesiology",
         910,
         "Minda",
         ".@yopmail.com",
         0.0,
         "Low Demand",
         15,
         "Low Workload",
         "2025-08-25T10:18:01.501Z"
        ],
        [
         "cardiology",
         198,
         "Tilly",
         ".@yopmail.com",
         0.0,
         "Low Demand",
         14,
         "Low Workload",
         "2025-08-25T10:18:01.501Z"
        ],
        [
         "pulmonologists",
         317,
         "Corina",
         ".@yopmail.com",
         0.0,
         "Medium Demand",
         20,
         "Medium Workload",
         "2025-08-25T10:18:01.501Z"
        ],
        [
         "internists",
         600,
         "Philis",
         ".@yopmail.com",
         0.0,
         "Medium Demand",
         21,
         "Medium Workload",
         "2025-08-25T10:18:01.501Z"
        ],
        [
         "radiology",
         638,
         "Flo",
         ".@yopmail.com",
         0.0,
         "Low Demand",
         15,
         "Low Workload",
         "2025-08-25T10:18:01.501Z"
        ],
        [
         "obstetric anesthesiologists",
         805,
         "Magdalena",
         ".@yopmail.com",
         0.0,
         "Medium Demand",
         17,
         "Medium Workload",
         "2025-08-25T10:18:01.501Z"
        ],
        [
         "gastroenterology",
         344,
         "Aurore",
         ".@yopmail.com",
         912485.0,
         "High Demand",
         23,
         "High Workload",
         "2025-08-25T10:18:01.501Z"
        ],
        [
         "geriatrician",
         349,
         "Edee",
         ".@yopmail.com",
         0.0,
         "Medium Demand",
         18,
         "Medium Workload",
         "2025-08-25T10:18:01.501Z"
        ],
        [
         "anesthesiology",
         657,
         "Ebonee",
         ".@yopmail.com",
         0.0,
         "Low Demand",
         15,
         "Low Workload",
         "2025-08-25T10:18:01.501Z"
        ],
        [
         "allergists",
         975,
         "Hettie",
         ".@yopmail.com",
         2173939.0,
         "Low Demand",
         16,
         "Low Workload",
         "2025-08-25T10:18:01.501Z"
        ],
        [
         "emergency medicine",
         342,
         "Olivette",
         ".@yopmail.com",
         0.0,
         "Medium Demand",
         20,
         "Medium Workload",
         "2025-08-25T10:18:01.501Z"
        ],
        [
         "ophthalmology",
         373,
         "Delilah",
         ".@yopmail.com",
         0.0,
         "Medium Demand",
         21,
         "Medium Workload",
         "2025-08-25T10:18:01.501Z"
        ],
        [
         "hospice and palliative care",
         379,
         "Roz",
         ".@yopmail.com",
         0.0,
         "Low Demand",
         7,
         "Low Workload",
         "2025-08-25T10:18:01.501Z"
        ],
        [
         "infectious disease",
         832,
         "Ulrike",
         ".@yopmail.com",
         318612.0,
         "High Demand",
         25,
         "High Workload",
         "2025-08-25T10:18:01.501Z"
        ],
        [
         "obstetric anesthesiologists",
         965,
         "Flory",
         ".@yopmail.com",
         1212292.0,
         "Medium Demand",
         17,
         "Medium Workload",
         "2025-08-25T10:18:01.501Z"
        ],
        [
         "infectious disease",
         971,
         "Moyna",
         ".@yopmail.com",
         450981.0,
         "High Demand",
         25,
         "High Workload",
         "2025-08-25T10:18:01.501Z"
        ],
        [
         "nephrology",
         158,
         "Chere",
         ".@yopmail.com",
         0.0,
         "Low Demand",
         15,
         "Low Workload",
         "2025-08-25T10:18:01.501Z"
        ],
        [
         "gastroenterology",
         242,
         "Blondelle",
         ".@yopmail.com",
         961653.0,
         "High Demand",
         23,
         "High Workload",
         "2025-08-25T10:18:01.501Z"
        ],
        [
         "allergists",
         270,
         "Brooks",
         ".@yopmail.com",
         0.0,
         "Low Demand",
         16,
         "Low Workload",
         "2025-08-25T10:18:01.501Z"
        ],
        [
         "oncologist",
         284,
         "Ketti",
         ".@yopmail.com",
         383764.0,
         "High Demand",
         24,
         "High Workload",
         "2025-08-25T10:18:01.501Z"
        ],
        [
         "surgery",
         135,
         "Gilligan",
         ".@yopmail.com",
         0.0,
         "Medium Demand",
         14,
         "Low Workload",
         "2025-08-25T10:18:01.501Z"
        ],
        [
         "anesthesiology",
         499,
         "Karlee",
         ".@yopmail.com",
         1017914.0,
         "Low Demand",
         15,
         "Low Workload",
         "2025-08-25T10:18:01.501Z"
        ],
        [
         "dermatology",
         522,
         "Asia",
         ".@yopmail.com",
         156591.0,
         "High Demand",
         23,
         "High Workload",
         "2025-08-25T10:18:01.501Z"
        ],
        [
         "geriatrician",
         902,
         "Tressa",
         ".@yopmail.com",
         0.0,
         "Medium Demand",
         18,
         "Medium Workload",
         "2025-08-25T10:18:01.501Z"
        ],
        [
         "nephrology",
         119,
         "Flory",
         ".@yopmail.com",
         573139.0,
         "Low Demand",
         15,
         "Low Workload",
         "2025-08-25T10:18:01.501Z"
        ],
        [
         "pediatrics",
         466,
         "Ninnetta",
         ".@yopmail.com",
         0.0,
         "Low Demand",
         15,
         "Low Workload",
         "2025-08-25T10:18:01.501Z"
        ],
        [
         "gastroenterology",
         506,
         "Annora",
         ".@yopmail.com",
         0.0,
         "High Demand",
         23,
         "High Workload",
         "2025-08-25T10:18:01.501Z"
        ],
        [
         "surgery",
         566,
         "Leontine",
         ".@yopmail.com",
         538767.0,
         "Medium Demand",
         14,
         "Low Workload",
         "2025-08-25T10:18:01.501Z"
        ],
        [
         "endocrinologist",
         909,
         "Jean",
         ".@yopmail.com",
         269609.0,
         "Low Demand",
         13,
         "Low Workload",
         "2025-08-25T10:18:01.501Z"
        ],
        [
         "surgery",
         201,
         "Fred",
         ".@yopmail.com",
         1364962.0,
         "Medium Demand",
         14,
         "Low Workload",
         "2025-08-25T10:18:01.501Z"
        ],
        [
         "dermatology",
         778,
         "Brana",
         ".@yopmail.com",
         0.0,
         "High Demand",
         23,
         "High Workload",
         "2025-08-25T10:18:01.501Z"
        ],
        [
         "otolaryngologists",
         803,
         "Bernardine",
         ".@yopmail.com",
         0.0,
         "Medium Demand",
         21,
         "Medium Workload",
         "2025-08-25T10:18:01.501Z"
        ],
        [
         "cardiology",
         892,
         "Brynna",
         ".@yopmail.com",
         0.0,
         "Low Demand",
         14,
         "Low Workload",
         "2025-08-25T10:18:01.501Z"
        ],
        [
         "allergists",
         131,
         "Ana",
         ".@yopmail.com",
         0.0,
         "Low Demand",
         16,
         "Low Workload",
         "2025-08-25T10:18:01.501Z"
        ],
        [
         "obstetric anesthesiologists",
         149,
         "Krystle",
         ".@yopmail.com",
         0.0,
         "Medium Demand",
         17,
         "Medium Workload",
         "2025-08-25T10:18:01.501Z"
        ],
        [
         "endocrinologist",
         276,
         "Nelle",
         ".@yopmail.com",
         0.0,
         "Low Demand",
         13,
         "Low Workload",
         "2025-08-25T10:18:01.501Z"
        ],
        [
         "infectious disease",
         365,
         "Ricky",
         ".@yopmail.com",
         394135.0,
         "High Demand",
         25,
         "High Workload",
         "2025-08-25T10:18:01.501Z"
        ],
        [
         "family medicine",
         773,
         "Heddie",
         ".@yopmail.com",
         0.0,
         "Low Demand",
         8,
         "Low Workload",
         "2025-08-25T10:18:01.501Z"
        ],
        [
         "neurology",
         820,
         "Christal",
         ".@yopmail.com",
         642717.0,
         "Low Demand",
         16,
         "Low Workload",
         "2025-08-25T10:18:01.501Z"
        ],
        [
         "infectious disease",
         999,
         "Wynne",
         ".@yopmail.com",
         1889128.0,
         "High Demand",
         25,
         "High Workload",
         "2025-08-25T10:18:01.501Z"
        ],
        [
         "allergists",
         294,
         "Almeta",
         ".@yopmail.com",
         0.0,
         "Low Demand",
         16,
         "Low Workload",
         "2025-08-25T10:18:01.501Z"
        ],
        [
         "dermatology",
         905,
         "Minne",
         ".@yopmail.com",
         0.0,
         "High Demand",
         23,
         "High Workload",
         "2025-08-25T10:18:01.501Z"
        ],
        [
         "otolaryngologists",
         118,
         "Vanessa",
         ".@yopmail.com",
         0.0,
         "Medium Demand",
         21,
         "Medium Workload",
         "2025-08-25T10:18:01.501Z"
        ],
        [
         "pulmonologists",
         573,
         "Gerianna",
         ".@yopmail.com",
         676614.0,
         "Medium Demand",
         20,
         "Medium Workload",
         "2025-08-25T10:18:01.501Z"
        ],
        [
         "obstetric anesthesiologists",
         722,
         "Catrina",
         ".@yopmail.com",
         1164858.0,
         "Medium Demand",
         17,
         "Medium Workload",
         "2025-08-25T10:18:01.501Z"
        ],
        [
         "nephrology",
         124,
         "Steffane",
         ".@yopmail.com",
         0.0,
         "Low Demand",
         15,
         "Low Workload",
         "2025-08-25T10:18:01.501Z"
        ],
        [
         "radiology",
         281,
         "Zondra",
         ".@yopmail.com",
         0.0,
         "Low Demand",
         15,
         "Low Workload",
         "2025-08-25T10:18:01.501Z"
        ],
        [
         "ophthalmology",
         942,
         "Ada",
         ".@yopmail.com",
         0.0,
         "Medium Demand",
         21,
         "Medium Workload",
         "2025-08-25T10:18:01.501Z"
        ],
        [
         "obstetric anesthesiologists",
         985,
         "Anestassia",
         ".@yopmail.com",
         0.0,
         "Medium Demand",
         17,
         "Medium Workload",
         "2025-08-25T10:18:01.501Z"
        ],
        [
         "cardiology",
         184,
         "Clementine",
         ".@yopmail.com",
         0.0,
         "Low Demand",
         14,
         "Low Workload",
         "2025-08-25T10:18:01.501Z"
        ],
        [
         "oncologist",
         652,
         "Jessy",
         ".@yopmail.com",
         0.0,
         "High Demand",
         24,
         "High Workload",
         "2025-08-25T10:18:01.501Z"
        ],
        [
         "internists",
         405,
         "Correy",
         ".@yopmail.com",
         1113433.0,
         "Medium Demand",
         21,
         "Medium Workload",
         "2025-08-25T10:18:01.501Z"
        ],
        [
         "internists",
         557,
         "Peri",
         ".@yopmail.com",
         643347.0,
         "Medium Demand",
         21,
         "Medium Workload",
         "2025-08-25T10:18:01.501Z"
        ],
        [
         "ophthalmology",
         700,
         "Katleen",
         ".@yopmail.com",
         0.0,
         "Medium Demand",
         21,
         "Medium Workload",
         "2025-08-25T10:18:01.501Z"
        ],
        [
         "pulmonologists",
         915,
         "Marti",
         ".@yopmail.com",
         0.0,
         "Medium Demand",
         20,
         "Medium Workload",
         "2025-08-25T10:18:01.501Z"
        ],
        [
         "radiology",
         186,
         "Sidoney",
         ".@yopmail.com",
         1571290.0,
         "Low Demand",
         15,
         "Low Workload",
         "2025-08-25T10:18:01.501Z"
        ],
        [
         "allergists",
         275,
         "Danny",
         ".@yopmail.com",
         408017.0,
         "Low Demand",
         16,
         "Low Workload",
         "2025-08-25T10:18:01.501Z"
        ],
        [
         "oncologist",
         282,
         "Cherilyn",
         ".@yopmail.com",
         0.0,
         "High Demand",
         24,
         "High Workload",
         "2025-08-25T10:18:01.501Z"
        ],
        [
         "ophthalmology",
         605,
         "Jean",
         ".@yopmail.com",
         794496.0,
         "Medium Demand",
         21,
         "Medium Workload",
         "2025-08-25T10:18:01.501Z"
        ],
        [
         "allergists",
         802,
         "Kial",
         ".@yopmail.com",
         0.0,
         "Low Demand",
         16,
         "Low Workload",
         "2025-08-25T10:18:01.501Z"
        ],
        [
         "emergency medicine",
         894,
         "Helsa",
         ".@yopmail.com",
         38172.0,
         "Medium Demand",
         20,
         "Medium Workload",
         "2025-08-25T10:18:01.501Z"
        ],
        [
         "pulmonologists",
         616,
         "Roseline",
         ".@yopmail.com",
         999556.0,
         "Medium Demand",
         20,
         "Medium Workload",
         "2025-08-25T10:18:01.501Z"
        ],
        [
         "critical care medicine",
         628,
         "Shell",
         ".@yopmail.com",
         359806.0,
         "Low Demand",
         11,
         "Low Workload",
         "2025-08-25T10:18:01.501Z"
        ],
        [
         "emergency medicine",
         632,
         "Melina",
         ".@yopmail.com",
         0.0,
         "Medium Demand",
         20,
         "Medium Workload",
         "2025-08-25T10:18:01.501Z"
        ],
        [
         "obstetric anesthesiologists",
         681,
         "Addia",
         ".@yopmail.com",
         0.0,
         "Medium Demand",
         17,
         "Medium Workload",
         "2025-08-25T10:18:01.501Z"
        ],
        [
         "critical care medicine",
         964,
         "Emelina",
         ".@yopmail.com",
         0.0,
         "Low Demand",
         11,
         "Low Workload",
         "2025-08-25T10:18:01.501Z"
        ],
        [
         "anesthesiology",
         716,
         "Misha",
         ".@yopmail.com",
         0.0,
         "Low Demand",
         15,
         "Low Workload",
         "2025-08-25T10:18:01.501Z"
        ],
        [
         "anesthesiology",
         252,
         "Quintina",
         ".@yopmail.com",
         0.0,
         "Low Demand",
         15,
         "Low Workload",
         "2025-08-25T10:18:01.501Z"
        ],
        [
         "anesthesiology",
         399,
         "Madeleine",
         ".@yopmail.com",
         0.0,
         "Low Demand",
         15,
         "Low Workload",
         "2025-08-25T10:18:01.501Z"
        ],
        [
         "allergists",
         551,
         "Morganica",
         ".@yopmail.com",
         672878.0,
         "Low Demand",
         16,
         "Low Workload",
         "2025-08-25T10:18:01.501Z"
        ],
        [
         "radiology",
         153,
         "Chastity",
         ".@yopmail.com",
         0.0,
         "Low Demand",
         15,
         "Low Workload",
         "2025-08-25T10:18:01.501Z"
        ],
        [
         "family medicine",
         420,
         "Anestassia",
         ".@yopmail.com",
         1285050.0,
         "Low Demand",
         8,
         "Low Workload",
         "2025-08-25T10:18:01.501Z"
        ],
        [
         "obstetric anesthesiologists",
         705,
         "Rosene",
         ".@yopmail.com",
         0.0,
         "Medium Demand",
         17,
         "Medium Workload",
         "2025-08-25T10:18:01.501Z"
        ],
        [
         "radiology",
         785,
         "Shandie",
         ".@yopmail.com",
         575431.0,
         "Low Demand",
         15,
         "Low Workload",
         "2025-08-25T10:18:01.501Z"
        ],
        [
         "infectious disease",
         851,
         "Bertine",
         ".@yopmail.com",
         990268.0,
         "High Demand",
         25,
         "High Workload",
         "2025-08-25T10:18:01.501Z"
        ],
        [
         "pediatrics",
         745,
         "Lenna",
         ".@yopmail.com",
         0.0,
         "Low Demand",
         15,
         "Low Workload",
         "2025-08-25T10:18:01.501Z"
        ],
        [
         "neurology",
         927,
         "Ezmeralda",
         ".@yopmail.com",
         501491.0,
         "Low Demand",
         16,
         "Low Workload",
         "2025-08-25T10:18:01.501Z"
        ],
        [
         "gastroenterology",
         949,
         "Gilligan",
         ".@yopmail.com",
         0.0,
         "High Demand",
         23,
         "High Workload",
         "2025-08-25T10:18:01.501Z"
        ],
        [
         "anesthesiology",
         475,
         "Mariele",
         ".@yopmail.com",
         0.0,
         "Low Demand",
         15,
         "Low Workload",
         "2025-08-25T10:18:01.501Z"
        ],
        [
         "endocrinologist",
         947,
         "Allis",
         ".@yopmail.com",
         1657795.0,
         "Low Demand",
         13,
         "Low Workload",
         "2025-08-25T10:18:01.501Z"
        ],
        [
         "pulmonologists",
         138,
         "Rosaline",
         ".@yopmail.com",
         0.0,
         "Medium Demand",
         20,
         "Medium Workload",
         "2025-08-25T10:18:01.501Z"
        ],
        [
         "internists",
         755,
         "Alejandra",
         ".@yopmail.com",
         625373.0,
         "Medium Demand",
         21,
         "Medium Workload",
         "2025-08-25T10:18:01.501Z"
        ],
        [
         "neurology",
         934,
         "Lorie",
         ".@yopmail.com",
         0.0,
         "Low Demand",
         16,
         "Low Workload",
         "2025-08-25T10:18:01.501Z"
        ],
        [
         "emergency medicine",
         104,
         "Cacilie",
         ".@yopmail.com",
         0.0,
         "Medium Demand",
         20,
         "Medium Workload",
         "2025-08-25T10:18:01.501Z"
        ],
        [
         "radiology",
         468,
         "Tamqrah",
         ".@yopmail.com",
         0.0,
         "Low Demand",
         15,
         "Low Workload",
         "2025-08-25T10:18:01.501Z"
        ],
        [
         "nephrology",
         483,
         "Kellen",
         ".@yopmail.com",
         259509.0,
         "Low Demand",
         15,
         "Low Workload",
         "2025-08-25T10:18:01.501Z"
        ],
        [
         "ophthalmology",
         656,
         "Merrie",
         ".@yopmail.com",
         400213.0,
         "Medium Demand",
         21,
         "Medium Workload",
         "2025-08-25T10:18:01.501Z"
        ],
        [
         "endocrinologist",
         917,
         "Addia",
         ".@yopmail.com",
         1627686.0,
         "Low Demand",
         13,
         "Low Workload",
         "2025-08-25T10:18:01.501Z"
        ],
        [
         "otolaryngologists",
         932,
         "Ira",
         ".@yopmail.com",
         1419671.0,
         "Medium Demand",
         21,
         "Medium Workload",
         "2025-08-25T10:18:01.501Z"
        ],
        [
         "dermatology",
         878,
         "Ann-marie",
         ".@yopmail.com",
         0.0,
         "High Demand",
         23,
         "High Workload",
         "2025-08-25T10:18:01.501Z"
        ],
        [
         "dermatology",
         991,
         "Ericka",
         ".@yopmail.com",
         859275.0,
         "High Demand",
         23,
         "High Workload",
         "2025-08-25T10:18:01.501Z"
        ],
        [
         "hospice and palliative care",
         407,
         "Bill",
         ".@yopmail.com",
         3436703.0,
         "Low Demand",
         7,
         "Low Workload",
         "2025-08-25T10:18:01.501Z"
        ],
        [
         "gastroenterology",
         521,
         "Aeriela",
         ".@yopmail.com",
         0.0,
         "High Demand",
         23,
         "High Workload",
         "2025-08-25T10:18:01.501Z"
        ],
        [
         "family medicine",
         788,
         "Leontine",
         ".@yopmail.com",
         0.0,
         "Low Demand",
         8,
         "Low Workload",
         "2025-08-25T10:18:01.501Z"
        ],
        [
         "geriatrician",
         617,
         "Charissa",
         ".@yopmail.com",
         1824589.0,
         "Medium Demand",
         18,
         "Medium Workload",
         "2025-08-25T10:18:01.501Z"
        ],
        [
         "allergists",
         954,
         "Grier",
         ".@yopmail.com",
         0.0,
         "Low Demand",
         16,
         "Low Workload",
         "2025-08-25T10:18:01.501Z"
        ],
        [
         "gastroenterology",
         401,
         "Joelly",
         ".@yopmail.com",
         0.0,
         "High Demand",
         23,
         "High Workload",
         "2025-08-25T10:18:01.501Z"
        ]
       ],
       "datasetInfos": [],
       "dbfsResultPath": null,
       "isJsonSchema": true,
       "metadata": {
        "dataframeName": "_sqldf",
        "executionCount": 20
       },
       "overflow": false,
       "plotOptions": {
        "customPlotOptions": {},
        "displayType": "table",
        "pivotAggregation": null,
        "pivotColumns": null,
        "xColumns": null,
        "yColumns": null
       },
       "removedWidgets": [],
       "schema": [
        {
         "metadata": "{}",
         "name": "specialization",
         "type": "\"string\""
        },
        {
         "metadata": "{}",
         "name": "doctor_id",
         "type": "\"integer\""
        },
        {
         "metadata": "{}",
         "name": "doctor_name",
         "type": "\"string\""
        },
        {
         "metadata": "{}",
         "name": "contact_info",
         "type": "\"string\""
        },
        {
         "metadata": "{}",
         "name": "total_revenue",
         "type": "\"double\""
        },
        {
         "metadata": "{}",
         "name": "specialization_demand_level",
         "type": "\"string\""
        },
        {
         "metadata": "{}",
         "name": "specialization_total_appointments",
         "type": "\"long\""
        },
        {
         "metadata": "{}",
         "name": "workload_level",
         "type": "\"string\""
        },
        {
         "metadata": "{}",
         "name": "ingestion_date",
         "type": "\"timestamp\""
        }
       ],
       "type": "table"
      }
     },
     "output_type": "display_data"
    }
   ],
   "source": [
    "%sql\n",
    "SELECT * FROM healthcare_analysis.specialization_summary;"
   ]
  },
  {
   "cell_type": "code",
   "execution_count": 0,
   "metadata": {
    "application/vnd.databricks.v1+cell": {
     "cellMetadata": {
      "byteLimit": 2048000,
      "rowLimit": 10000
     },
     "inputWidgets": {},
     "nuid": "60d2a793-5513-44a5-bf2b-52530114e624",
     "showTitle": false,
     "tableResultSettingsMap": {},
     "title": ""
    }
   },
   "outputs": [
    {
     "output_type": "stream",
     "name": "stdout",
     "output_type": "stream",
     "text": [
      "root\n |-- specialization: string (nullable = true)\n |-- doctor_id: integer (nullable = true)\n |-- doctor_name: string (nullable = true)\n |-- contact_info: string (nullable = true)\n |-- total_revenue: double (nullable = false)\n |-- specialization_demand_level: string (nullable = false)\n |-- specialization_total_appointments: long (nullable = false)\n |-- workload_level: string (nullable = false)\n |-- ingestion_date: timestamp (nullable = false)\n\n"
     ]
    }
   ],
   "source": [
    "final_summary_df.printSchema()"
   ]
  }
 ],
 "metadata": {
  "application/vnd.databricks.v1+notebook": {
   "computePreferences": null,
   "dashboards": [],
   "environmentMetadata": null,
   "inputWidgetPreferences": null,
   "language": "python",
   "notebookMetadata": {
    "mostRecentlyExecutedCommandWithImplicitDF": {
     "commandId": 5750272696920209,
     "dataframes": [
      "_sqldf"
     ]
    },
    "pythonIndentUnit": 4
   },
   "notebookName": "specialization_summary",
   "widgets": {}
  },
  "language_info": {
   "name": "python"
  }
 },
 "nbformat": 4,
 "nbformat_minor": 0
}
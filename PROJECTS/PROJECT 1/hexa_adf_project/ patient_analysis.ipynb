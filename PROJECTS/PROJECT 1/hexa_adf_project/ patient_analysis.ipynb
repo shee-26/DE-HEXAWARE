{
 "cells": [
  {
   "cell_type": "markdown",
   "metadata": {
    "application/vnd.databricks.v1+cell": {
     "cellMetadata": {
      "byteLimit": 2048000,
      "rowLimit": 10000
     },
     "inputWidgets": {},
     "nuid": "93d2bcb7-5000-4324-b001-627bb8769ba9",
     "showTitle": false,
     "tableResultSettingsMap": {},
     "title": ""
    }
   },
   "source": [
    "## Day of Week & Weekend Analysis"
   ]
  },
  {
   "cell_type": "code",
   "execution_count": 0,
   "metadata": {
    "application/vnd.databricks.v1+cell": {
     "cellMetadata": {
      "byteLimit": 2048000,
      "implicitDf": true,
      "rowLimit": 10000
     },
     "inputWidgets": {},
     "nuid": "043e3757-f461-47db-8b35-a36691a94722",
     "showTitle": false,
     "tableResultSettingsMap": {},
     "title": ""
    }
   },
   "outputs": [
    {
     "output_type": "display_data",
     "data": {
      "text/html": [
       "<style scoped>\n",
       "  .table-result-container {\n",
       "    max-height: 300px;\n",
       "    overflow: auto;\n",
       "  }\n",
       "  table, th, td {\n",
       "    border: 1px solid black;\n",
       "    border-collapse: collapse;\n",
       "  }\n",
       "  th, td {\n",
       "    padding: 5px;\n",
       "  }\n",
       "  th {\n",
       "    text-align: left;\n",
       "  }\n",
       "</style><div class='table-result-container'><table class='table-result'><thead style='background-color: white'><tr><th>day_name</th><th>day_type</th><th>total_appointments</th></tr></thead><tbody><tr><td>Monday</td><td>Weekday</td><td>63</td></tr><tr><td>Wednesday</td><td>Weekday</td><td>62</td></tr><tr><td>Friday</td><td>Weekday</td><td>59</td></tr><tr><td>Thursday</td><td>Weekday</td><td>54</td></tr><tr><td>Sunday</td><td>Weekend</td><td>53</td></tr><tr><td>Saturday</td><td>Weekend</td><td>52</td></tr><tr><td>Tuesday</td><td>Weekday</td><td>51</td></tr></tbody></table></div>"
      ]
     },
     "metadata": {
      "application/vnd.databricks.v1+output": {
       "addedWidgets": {},
       "aggData": [],
       "aggError": "",
       "aggOverflow": false,
       "aggSchema": [],
       "aggSeriesLimitReached": false,
       "aggType": "",
       "arguments": {},
       "columnCustomDisplayInfos": {},
       "data": [
        [
         "Monday",
         "Weekday",
         63
        ],
        [
         "Wednesday",
         "Weekday",
         62
        ],
        [
         "Friday",
         "Weekday",
         59
        ],
        [
         "Thursday",
         "Weekday",
         54
        ],
        [
         "Sunday",
         "Weekend",
         53
        ],
        [
         "Saturday",
         "Weekend",
         52
        ],
        [
         "Tuesday",
         "Weekday",
         51
        ]
       ],
       "datasetInfos": [],
       "dbfsResultPath": null,
       "isJsonSchema": true,
       "metadata": {
        "dataframeName": "_sqldf",
        "executionCount": 1
       },
       "overflow": false,
       "plotOptions": {
        "customPlotOptions": {},
        "displayType": "table",
        "pivotAggregation": null,
        "pivotColumns": null,
        "xColumns": null,
        "yColumns": null
       },
       "removedWidgets": [],
       "schema": [
        {
         "metadata": "{}",
         "name": "day_name",
         "type": "\"string\""
        },
        {
         "metadata": "{}",
         "name": "day_type",
         "type": "\"string\""
        },
        {
         "metadata": "{}",
         "name": "total_appointments",
         "type": "\"long\""
        }
       ],
       "type": "table"
      }
     },
     "output_type": "display_data"
    }
   ],
   "source": [
    "%sql\n",
    "-- Count appointments per day of week\n",
    "SELECT \n",
    "    day_name,\n",
    "    day_type,\n",
    "    COUNT(*) AS total_appointments\n",
    "FROM healthcare_analysis.patient_appointment_summary\n",
    "GROUP BY day_name, day_type\n",
    "ORDER BY total_appointments DESC;\n"
   ]
  },
  {
   "cell_type": "markdown",
   "metadata": {
    "application/vnd.databricks.v1+cell": {
     "cellMetadata": {
      "byteLimit": 2048000,
      "rowLimit": 10000
     },
     "inputWidgets": {},
     "nuid": "4dca918d-2d94-47e0-9739-44994e777ae9",
     "showTitle": false,
     "tableResultSettingsMap": {},
     "title": ""
    }
   },
   "source": [
    "## Peak duration of Month (Early / Mid / Late Month)"
   ]
  },
  {
   "cell_type": "code",
   "execution_count": 0,
   "metadata": {
    "application/vnd.databricks.v1+cell": {
     "cellMetadata": {
      "byteLimit": 2048000,
      "implicitDf": true,
      "rowLimit": 10000
     },
     "inputWidgets": {},
     "nuid": "0b154bc7-6961-4e8d-8d2a-da70973b0428",
     "showTitle": false,
     "tableResultSettingsMap": {},
     "title": ""
    }
   },
   "outputs": [
    {
     "output_type": "display_data",
     "data": {
      "text/html": [
       "<style scoped>\n",
       "  .table-result-container {\n",
       "    max-height: 300px;\n",
       "    overflow: auto;\n",
       "  }\n",
       "  table, th, td {\n",
       "    border: 1px solid black;\n",
       "    border-collapse: collapse;\n",
       "  }\n",
       "  th, td {\n",
       "    padding: 5px;\n",
       "  }\n",
       "  th {\n",
       "    text-align: left;\n",
       "  }\n",
       "</style><div class='table-result-container'><table class='table-result'><thead style='background-color: white'><tr><th>day_bucket</th><th>total_appointments</th></tr></thead><tbody><tr><td>Late Month</td><td>161</td></tr><tr><td>Early Month</td><td>120</td></tr><tr><td>Mid Month</td><td>113</td></tr></tbody></table></div>"
      ]
     },
     "metadata": {
      "application/vnd.databricks.v1+output": {
       "addedWidgets": {},
       "aggData": [],
       "aggError": "",
       "aggOverflow": false,
       "aggSchema": [],
       "aggSeriesLimitReached": false,
       "aggType": "",
       "arguments": {},
       "columnCustomDisplayInfos": {},
       "data": [
        [
         "Late Month",
         161
        ],
        [
         "Early Month",
         120
        ],
        [
         "Mid Month",
         113
        ]
       ],
       "datasetInfos": [],
       "dbfsResultPath": null,
       "isJsonSchema": true,
       "metadata": {
        "dataframeName": "_sqldf",
        "executionCount": 2
       },
       "overflow": false,
       "plotOptions": {
        "customPlotOptions": {},
        "displayType": "table",
        "pivotAggregation": null,
        "pivotColumns": null,
        "xColumns": null,
        "yColumns": null
       },
       "removedWidgets": [],
       "schema": [
        {
         "metadata": "{}",
         "name": "day_bucket",
         "type": "\"string\""
        },
        {
         "metadata": "{}",
         "name": "total_appointments",
         "type": "\"long\""
        }
       ],
       "type": "table"
      }
     },
     "output_type": "display_data"
    }
   ],
   "source": [
    "%sql\n",
    "SELECT \n",
    "    day_bucket,\n",
    "    COUNT(*) AS total_appointments\n",
    "FROM healthcare_analysis.patient_appointment_summary\n",
    "GROUP BY day_bucket\n",
    "ORDER BY total_appointments DESC;\n",
    "\n"
   ]
  },
  {
   "cell_type": "markdown",
   "metadata": {
    "application/vnd.databricks.v1+cell": {
     "cellMetadata": {
      "byteLimit": 2048000,
      "rowLimit": 10000
     },
     "inputWidgets": {},
     "nuid": "b04b89a5-f368-4f8c-a109-9126c21f8ddd",
     "showTitle": false,
     "tableResultSettingsMap": {},
     "title": ""
    }
   },
   "source": [
    "## First vs Returning Patients"
   ]
  },
  {
   "cell_type": "code",
   "execution_count": 0,
   "metadata": {
    "application/vnd.databricks.v1+cell": {
     "cellMetadata": {
      "byteLimit": 2048000,
      "implicitDf": true,
      "rowLimit": 10000
     },
     "inputWidgets": {},
     "nuid": "09ca1ca7-ac3d-4629-ac71-d3b3476bd750",
     "showTitle": false,
     "tableResultSettingsMap": {},
     "title": ""
    }
   },
   "outputs": [
    {
     "output_type": "display_data",
     "data": {
      "text/html": [
       "<style scoped>\n",
       "  .table-result-container {\n",
       "    max-height: 300px;\n",
       "    overflow: auto;\n",
       "  }\n",
       "  table, th, td {\n",
       "    border: 1px solid black;\n",
       "    border-collapse: collapse;\n",
       "  }\n",
       "  th, td {\n",
       "    padding: 5px;\n",
       "  }\n",
       "  th {\n",
       "    text-align: left;\n",
       "  }\n",
       "</style><div class='table-result-container'><table class='table-result'><thead style='background-color: white'><tr><th>is_first_appointment</th><th>total_appointments</th><th>unique_patients</th></tr></thead><tbody><tr><td>true</td><td>219</td><td>219</td></tr><tr><td>false</td><td>175</td><td>93</td></tr></tbody></table></div>"
      ]
     },
     "metadata": {
      "application/vnd.databricks.v1+output": {
       "addedWidgets": {},
       "aggData": [],
       "aggError": "",
       "aggOverflow": false,
       "aggSchema": [],
       "aggSeriesLimitReached": false,
       "aggType": "",
       "arguments": {},
       "columnCustomDisplayInfos": {},
       "data": [
        [
         true,
         219,
         219
        ],
        [
         false,
         175,
         93
        ]
       ],
       "datasetInfos": [],
       "dbfsResultPath": null,
       "isJsonSchema": true,
       "metadata": {
        "dataframeName": "_sqldf",
        "executionCount": 3
       },
       "overflow": false,
       "plotOptions": {
        "customPlotOptions": {},
        "displayType": "table",
        "pivotAggregation": null,
        "pivotColumns": null,
        "xColumns": null,
        "yColumns": null
       },
       "removedWidgets": [],
       "schema": [
        {
         "metadata": "{}",
         "name": "is_first_appointment",
         "type": "\"boolean\""
        },
        {
         "metadata": "{}",
         "name": "total_appointments",
         "type": "\"long\""
        },
        {
         "metadata": "{}",
         "name": "unique_patients",
         "type": "\"long\""
        }
       ],
       "type": "table"
      }
     },
     "output_type": "display_data"
    }
   ],
   "source": [
    "%sql\n",
    "SELECT \n",
    "    is_first_appointment,\n",
    "    COUNT(*) AS total_appointments,\n",
    "    COUNT(DISTINCT patient_id) AS unique_patients\n",
    "FROM healthcare_analysis.patient_appointment_summary\n",
    "GROUP BY is_first_appointment;\n"
   ]
  },
  {
   "cell_type": "markdown",
   "metadata": {
    "application/vnd.databricks.v1+cell": {
     "cellMetadata": {
      "byteLimit": 2048000,
      "rowLimit": 10000
     },
     "inputWidgets": {},
     "nuid": "56240098-f7a4-4c4f-b9f2-c7a831b56e2e",
     "showTitle": false,
     "tableResultSettingsMap": {},
     "title": ""
    }
   },
   "source": [
    "## Top 10 patients based on their payment details"
   ]
  },
  {
   "cell_type": "code",
   "execution_count": 0,
   "metadata": {
    "application/vnd.databricks.v1+cell": {
     "cellMetadata": {
      "byteLimit": 2048000,
      "implicitDf": true,
      "rowLimit": 10000
     },
     "inputWidgets": {},
     "nuid": "54ce469d-d100-4216-bdc3-ebd9c27a6f63",
     "showTitle": false,
     "tableResultSettingsMap": {},
     "title": ""
    }
   },
   "outputs": [
    {
     "output_type": "display_data",
     "data": {
      "text/html": [
       "<style scoped>\n",
       "  .table-result-container {\n",
       "    max-height: 300px;\n",
       "    overflow: auto;\n",
       "  }\n",
       "  table, th, td {\n",
       "    border: 1px solid black;\n",
       "    border-collapse: collapse;\n",
       "  }\n",
       "  th, td {\n",
       "    padding: 5px;\n",
       "  }\n",
       "  th {\n",
       "    text-align: left;\n",
       "  }\n",
       "</style><div class='table-result-container'><table class='table-result'><thead style='background-color: white'><tr><th>patient_id</th><th>patient_name</th><th>total_payment</th></tr></thead><tbody><tr><td>368</td><td>Stephanie Agle</td><td>2.7493624E7</td></tr><tr><td>779</td><td>Candi Shaver</td><td>1.3134572E7</td></tr><tr><td>381</td><td>Chickie Hazlett</td><td>7298356.0</td></tr><tr><td>961</td><td>Ruthe Garbe</td><td>5668260.0</td></tr><tr><td>694</td><td>Paola Swigart</td><td>5529024.0</td></tr><tr><td>409</td><td>Netty Moseley</td><td>5370324.0</td></tr><tr><td>339</td><td>Mellicent Viddah</td><td>4373994.0</td></tr><tr><td>546</td><td>Aimil Suzetta</td><td>4347878.0</td></tr><tr><td>994</td><td>Gui Turne</td><td>4312515.0</td></tr><tr><td>817</td><td>Trixi Skurnik</td><td>4038372.0</td></tr></tbody></table></div>"
      ]
     },
     "metadata": {
      "application/vnd.databricks.v1+output": {
       "addedWidgets": {},
       "aggData": [],
       "aggError": "",
       "aggOverflow": false,
       "aggSchema": [],
       "aggSeriesLimitReached": false,
       "aggType": "",
       "arguments": {},
       "columnCustomDisplayInfos": {},
       "data": [
        [
         368,
         "Stephanie Agle",
         2.7493624E7
        ],
        [
         779,
         "Candi Shaver",
         1.3134572E7
        ],
        [
         381,
         "Chickie Hazlett",
         7298356.0
        ],
        [
         961,
         "Ruthe Garbe",
         5668260.0
        ],
        [
         694,
         "Paola Swigart",
         5529024.0
        ],
        [
         409,
         "Netty Moseley",
         5370324.0
        ],
        [
         339,
         "Mellicent Viddah",
         4373994.0
        ],
        [
         546,
         "Aimil Suzetta",
         4347878.0
        ],
        [
         994,
         "Gui Turne",
         4312515.0
        ],
        [
         817,
         "Trixi Skurnik",
         4038372.0
        ]
       ],
       "datasetInfos": [],
       "dbfsResultPath": null,
       "isJsonSchema": true,
       "metadata": {
        "dataframeName": "_sqldf",
        "executionCount": 4
       },
       "overflow": false,
       "plotOptions": {
        "customPlotOptions": {},
        "displayType": "table",
        "pivotAggregation": null,
        "pivotColumns": null,
        "xColumns": null,
        "yColumns": null
       },
       "removedWidgets": [],
       "schema": [
        {
         "metadata": "{}",
         "name": "patient_id",
         "type": "\"integer\""
        },
        {
         "metadata": "{}",
         "name": "patient_name",
         "type": "\"string\""
        },
        {
         "metadata": "{}",
         "name": "total_payment",
         "type": "\"double\""
        }
       ],
       "type": "table"
      }
     },
     "output_type": "display_data"
    }
   ],
   "source": [
    "%sql\n",
    "SELECT \n",
    "    patient_id,\n",
    "    patient_name,\n",
    "    SUM(total_amount) AS total_payment\n",
    "FROM healthcare_analysis.patient_appointment_summary\n",
    "GROUP BY patient_id, patient_name\n",
    "ORDER BY total_payment DESC\n",
    "LIMIT 10;\n"
   ]
  }
 ],
 "metadata": {
  "application/vnd.databricks.v1+notebook": {
   "computePreferences": null,
   "dashboards": [],
   "environmentMetadata": null,
   "inputWidgetPreferences": null,
   "language": "python",
   "notebookMetadata": {
    "mostRecentlyExecutedCommandWithImplicitDF": {
     "commandId": 5750272696920218,
     "dataframes": [
      "_sqldf"
     ]
    },
    "pythonIndentUnit": 4
   },
   "notebookName": "patient_analysis",
   "widgets": {}
  },
  "language_info": {
   "name": "python"
  }
 },
 "nbformat": 4,
 "nbformat_minor": 0
}

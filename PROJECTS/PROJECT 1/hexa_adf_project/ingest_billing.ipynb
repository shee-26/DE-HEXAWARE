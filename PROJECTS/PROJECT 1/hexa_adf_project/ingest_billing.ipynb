{
 "cells": [
  {
   "cell_type": "code",
   "execution_count": 0,
   "metadata": {
    "application/vnd.databricks.v1+cell": {
     "cellMetadata": {
      "byteLimit": 2048000,
      "rowLimit": 10000
     },
     "inputWidgets": {},
     "nuid": "6d45e4c1-fedb-4289-9aad-5f03122599bb",
     "showTitle": false,
     "tableResultSettingsMap": {},
     "title": ""
    }
   },
   "outputs": [],
   "source": [
    "spark.conf.set(\n",
    "    \"fs.azure.account.key.projectadf1.dfs.core.windows.net\",\n",
    "    \"CSiXNWhibZG0fqyBMd049UrUimppMcGnXCzGUICGV/PCtQ5MAfQ==\")"
   ]
  },
  {
   "cell_type": "code",
   "execution_count": 0,
   "metadata": {
    "application/vnd.databricks.v1+cell": {
     "cellMetadata": {
      "byteLimit": 2048000,
      "rowLimit": 10000
     },
     "inputWidgets": {},
     "nuid": "9dea57ec-418d-4977-95be-08faa4656d31",
     "showTitle": false,
     "tableResultSettingsMap": {},
     "title": ""
    }
   },
   "outputs": [],
   "source": [
    "from pyspark.sql.functions import col, trim, round, current_timestamp, when\n",
    "from pyspark.sql.types import DoubleType\n",
    "\n",
    "billing_raw_df = spark.read.table(\"healthcare_raw.billing\")"
   ]
  },
  {
   "cell_type": "code",
   "execution_count": 0,
   "metadata": {
    "application/vnd.databricks.v1+cell": {
     "cellMetadata": {
      "byteLimit": 2048000,
      "rowLimit": 10000
     },
     "inputWidgets": {},
     "nuid": "46ef7cbb-3b57-45f4-8e15-1c4cf7d18790",
     "showTitle": false,
     "tableResultSettingsMap": {},
     "title": ""
    }
   },
   "outputs": [
    {
     "data": {
      "text/html": [
       "<style scoped>\n",
       "  .table-result-container {\n",
       "    max-height: 300px;\n",
       "    overflow: auto;\n",
       "  }\n",
       "  table, th, td {\n",
       "    border: 1px solid black;\n",
       "    border-collapse: collapse;\n",
       "  }\n",
       "  th, td {\n",
       "    padding: 5px;\n",
       "  }\n",
       "  th {\n",
       "    text-align: left;\n",
       "  }\n",
       "</style><div class='table-result-container'><table class='table-result'><thead style='background-color: white'><tr><th>invoice_id</th><th>patient_id</th><th>items</th><th>amount</th></tr></thead><tbody><tr><td>null</td><td>894</td><td>Immunizations</td><td>956065.0</td></tr><tr><td>null</td><td>448</td><td>Cataract surgery</td><td>188997.0</td></tr><tr><td>null</td><td>618</td><td>Pediatric surgery</td><td>524091.0</td></tr><tr><td>null</td><td>117</td><td>Rhinoplasty</td><td>901393.0</td></tr><tr><td>null</td><td>374</td><td>Antibiotic therapy</td><td>448957.0</td></tr><tr><td>null</td><td>852</td><td>Emergency surgical procedures</td><td>869041.0</td></tr><tr><td>null</td><td>834</td><td>Pediatric surgery</td><td>492022.0</td></tr><tr><td>null</td><td>140</td><td>Hemodynamic monitoring</td><td>644410.0</td></tr><tr><td>null</td><td>459</td><td>Emergency surgical procedures</td><td>295907.0</td></tr><tr><td>null</td><td>734</td><td>Immunotherapy (allergy shots)</td><td>766908.0</td></tr><tr><td>null</td><td>261</td><td>Cochlear implant surgery</td><td>108949.0</td></tr><tr><td>null</td><td>166</td><td>Chemotherapy</td><td>750380.0</td></tr><tr><td>null</td><td>545</td><td>Nephrectomy</td><td>665629.0</td></tr><tr><td>null</td><td>776</td><td>Pediatric surgery</td><td>764479.0</td></tr><tr><td>null</td><td>448</td><td>Chronic disease management</td><td>190397.0</td></tr><tr><td>null</td><td>230</td><td>Bronchoscopy</td><td>704129.0</td></tr><tr><td>null</td><td>582</td><td>Lumbar puncture</td><td>179636.0</td></tr><tr><td>null</td><td>136</td><td>Trauma resuscitation</td><td>35845.0</td></tr><tr><td>null</td><td>384</td><td>Well-child check-ups</td><td>567942.0</td></tr><tr><td>null</td><td>619</td><td>Retinal surgery</td><td>883238.0</td></tr><tr><td>null</td><td>141</td><td>Angioplasty and stent placement</td><td>666508.0</td></tr><tr><td>null</td><td>617</td><td>Orthopedic surgery</td><td>296067.0</td></tr><tr><td>null</td><td>611</td><td>Colonoscopy</td><td>262153.0</td></tr><tr><td>null</td><td>744</td><td>Orthopedic surgery</td><td>749548.0</td></tr><tr><td>null</td><td>526</td><td>Pulmonary function tests</td><td>552989.0</td></tr><tr><td>null</td><td>711</td><td>Hemodynamic monitoring</td><td>955371.0</td></tr><tr><td>null</td><td>210</td><td>Dermatologic surgery</td><td>991256.0</td></tr><tr><td>null</td><td>570</td><td>Tonsillectomy and adenoidectomy</td><td>884277.0</td></tr><tr><td>null</td><td>261</td><td>Endoscopy</td><td>905728.0</td></tr><tr><td>null</td><td>201</td><td>Immunotherapy (allergy shots)</td><td>715311.0</td></tr><tr><td>null</td><td>730</td><td>Anesthetic care during childbirth</td><td>388002.0</td></tr><tr><td>null</td><td>418</td><td>Emotional and spiritual support</td><td>103848.0</td></tr><tr><td>null</td><td>379</td><td>Hormone replacement therapy</td><td>356212.0</td></tr><tr><td>null</td><td>971</td><td>Surgical oncology</td><td>192687.0</td></tr><tr><td>null</td><td>609</td><td>Bronchoscopy</td><td>607358.0</td></tr><tr><td>null</td><td>791</td><td>Coronary artery bypass surgery</td><td>321628.0</td></tr><tr><td>null</td><td>562</td><td>General anesthesia for surgeries</td><td>607507.0</td></tr><tr><td>null</td><td>421</td><td>Surgical oncology</td><td>962869.0</td></tr><tr><td>null</td><td>215</td><td>Rhinoplasty</td><td>954389.0</td></tr><tr><td>null</td><td>348</td><td>Pacemaker implantation</td><td>552675.0</td></tr><tr><td>null</td><td>389</td><td>Surgical oncology</td><td>450473.0</td></tr><tr><td>null</td><td>681</td><td>Liver biopsy</td><td>693542.0</td></tr><tr><td>null</td><td>801</td><td>Nephrectomy</td><td>650987.0</td></tr><tr><td>null</td><td>880</td><td>Plastic surgery</td><td>75844.0</td></tr><tr><td>null</td><td>352</td><td>Cochlear implant surgery</td><td>476800.0</td></tr><tr><td>null</td><td>227</td><td>Coronary artery bypass surgery</td><td>262975.0</td></tr><tr><td>null</td><td>528</td><td>Minor surgical procedures</td><td>910472.0</td></tr><tr><td>null</td><td>295</td><td>General anesthesia for surgeries</td><td>282554.0</td></tr><tr><td>null</td><td>990</td><td>Thyroid biopsy</td><td>424540.0</td></tr><tr><td>null</td><td>660</td><td>Lumbar puncture</td><td>416180.0</td></tr><tr><td>null</td><td>493</td><td>Immunotherapy (allergy shots)</td><td>722562.0</td></tr><tr><td>null</td><td>242</td><td>Insulin pump management for diabetes</td><td>720623.0</td></tr><tr><td>null</td><td>834</td><td>Liver biopsy</td><td>98221.0</td></tr><tr><td>null</td><td>906</td><td>MRI for brain imaging</td><td>985403.0</td></tr><tr><td>null</td><td>708</td><td>Chemotherapy</td><td>234572.0</td></tr><tr><td>null</td><td>692</td><td>Retinal surgery</td><td>870314.0</td></tr><tr><td>null</td><td>766</td><td>Dermatologic surgery</td><td>580361.0</td></tr><tr><td>null</td><td>356</td><td>Sedation for minor procedures</td><td>928305.0</td></tr><tr><td>null</td><td>724</td><td>Dialysis</td><td>900844.0</td></tr><tr><td>null</td><td>238</td><td>Cosmetic procedures (e.g., Botox, fillers)</td><td>450981.0</td></tr><tr><td>null</td><td>120</td><td>Management of complex medical conditions</td><td>809324.0</td></tr><tr><td>null</td><td>733</td><td>General anesthesia for surgeries</td><td>649728.0</td></tr><tr><td>null</td><td>940</td><td>Anesthetic care during childbirth</td><td>63245.0</td></tr><tr><td>null</td><td>491</td><td>Chemotherapy</td><td>298822.0</td></tr><tr><td>null</td><td>994</td><td>EEG (Electroencephalogram)</td><td>900365.0</td></tr><tr><td>null</td><td>415</td><td>Medication management</td><td>828141.0</td></tr><tr><td>null</td><td>481</td><td>Chemotherapy</td><td>801876.0</td></tr><tr><td>null</td><td>899</td><td>Psychotherapy</td><td>91102.0</td></tr><tr><td>null</td><td>245</td><td>Colonoscopy</td><td>764617.0</td></tr><tr><td>null</td><td>877</td><td>Insulin pump management for diabetes</td><td>688334.0</td></tr><tr><td>null</td><td>959</td><td>Chemotherapy</td><td>154402.0</td></tr><tr><td>null</td><td>575</td><td>Cochlear implant surgery</td><td>626748.0</td></tr><tr><td>null</td><td>498</td><td>Pediatric surgery</td><td>692480.0</td></tr><tr><td>null</td><td>715</td><td>Chemotherapy</td><td>515834.0</td></tr><tr><td>null</td><td>905</td><td>Orthopedic surgery</td><td>473353.0</td></tr><tr><td>null</td><td>725</td><td>Intensive care management</td><td>867765.0</td></tr><tr><td>null</td><td>963</td><td>Minor surgical procedures</td><td>876578.0</td></tr><tr><td>null</td><td>876</td><td>Intensive care management</td><td>309808.0</td></tr><tr><td>null</td><td>103</td><td>Nephrectomy</td><td>203301.0</td></tr><tr><td>null</td><td>839</td><td>Electroconvulsive therapy (ECT)</td><td>156466.0</td></tr><tr><td>null</td><td>411</td><td>EEG (Electroencephalogram)</td><td>902529.0</td></tr><tr><td>null</td><td>469</td><td>Liver biopsy</td><td>366652.0</td></tr><tr><td>null</td><td>533</td><td>null</td><td>219005.0</td></tr><tr><td>null</td><td>940</td><td>Retinal surgery</td><td>615537.0</td></tr><tr><td>null</td><td>441</td><td>Chronic disease management</td><td>423463.0</td></tr><tr><td>null</td><td>793</td><td>Internal medicine consultations</td><td>280282.0</td></tr><tr><td>null</td><td>635</td><td>Interventional radiology procedures</td><td>924473.0</td></tr><tr><td>null</td><td>493</td><td>General health check-ups</td><td>381767.0</td></tr><tr><td>null</td><td>859</td><td>Symptom management for end-of-life care</td><td>450744.0</td></tr><tr><td>null</td><td>253</td><td>Management of complex infections</td><td>632840.0</td></tr><tr><td>null</td><td>368</td><td>Cardiology:</td><td>689203.0</td></tr><tr><td>null</td><td>929</td><td>Cochlear implant surgery</td><td>276991.0</td></tr><tr><td>null</td><td>952</td><td>Polypharmacy management</td><td>405744.0</td></tr><tr><td>null</td><td>951</td><td>Epidural analgesia during labor</td><td>332061.0</td></tr><tr><td>null</td><td>929</td><td>Symptom management for end-of-life care</td><td>25537.0</td></tr><tr><td>null</td><td>546</td><td>Allergy testing</td><td>226964.0</td></tr><tr><td>null</td><td>480</td><td>Rhinoplasty</td><td>278389.0</td></tr><tr><td>null</td><td>474</td><td>General surgery</td><td>545638.0</td></tr><tr><td>null</td><td>685</td><td>Advanced cardiac life support</td><td>895531.0</td></tr><tr><td>null</td><td>188</td><td>Insulin pump management for diabetes</td><td>655839.0</td></tr><tr><td>null</td><td>220</td><td>Coronary artery bypass surgery</td><td>585434.0</td></tr><tr><td>null</td><td>620</td><td>General surgery</td><td>793561.0</td></tr><tr><td>null</td><td>208</td><td>General health check-ups</td><td>765894.0</td></tr><tr><td>null</td><td>899</td><td>Dementia care</td><td>924083.0</td></tr><tr><td>null</td><td>525</td><td>Epidural analgesia during labor</td><td>383809.0</td></tr><tr><td>null</td><td>353</td><td>Epidural analgesia during labor</td><td>220815.0</td></tr><tr><td>null</td><td>515</td><td>Surgical oncology</td><td>386388.0</td></tr><tr><td>null</td><td>106</td><td>Electroconvulsive therapy (ECT)</td><td>319541.0</td></tr><tr><td>null</td><td>904</td><td>Allergy testing</td><td>948140.0</td></tr><tr><td>null</td><td>218</td><td>null</td><td>239334.0</td></tr><tr><td>null</td><td>674</td><td>Chemotherapy</td><td>821103.0</td></tr><tr><td>null</td><td>402</td><td>Well-child check-ups</td><td>864650.0</td></tr><tr><td>null</td><td>253</td><td>Psychotherapy</td><td>49621.0</td></tr><tr><td>null</td><td>344</td><td>Thyroid biopsy</td><td>729350.0</td></tr><tr><td>null</td><td>368</td><td>Chronic disease management</td><td>887604.0</td></tr><tr><td>null</td><td>399</td><td>LASIK eye surgery</td><td>244141.0</td></tr><tr><td>null</td><td>787</td><td>Bronchoscopy</td><td>888730.0</td></tr><tr><td>null</td><td>730</td><td>Epidural analgesia during labor</td><td>305293.0</td></tr><tr><td>null</td><td>978</td><td>Symptom management for end-of-life care</td><td>470905.0</td></tr><tr><td>null</td><td>888</td><td>Pediatric surgery</td><td>996843.0</td></tr><tr><td>null</td><td>932</td><td>Internal medicine consultations</td><td>781027.0</td></tr><tr><td>null</td><td>131</td><td>Internal medicine consultations</td><td>97304.0</td></tr><tr><td>null</td><td>604</td><td>General health check-ups</td><td>42169.0</td></tr><tr><td>null</td><td>435</td><td>Allergy testing</td><td>540435.0</td></tr><tr><td>null</td><td>915</td><td>null</td><td>413376.0</td></tr><tr><td>null</td><td>122</td><td>Pediatric surgery</td><td>468251.0</td></tr><tr><td>null</td><td>730</td><td>Internal medicine consultations</td><td>46847.0</td></tr><tr><td>null</td><td>277</td><td>Colonoscopy</td><td>312611.0</td></tr><tr><td>null</td><td>789</td><td>Insulin pump management for diabetes</td><td>575756.0</td></tr><tr><td>null</td><td>376</td><td>Internal medicine consultations</td><td>148326.0</td></tr><tr><td>null</td><td>712</td><td>General surgery</td><td>366347.0</td></tr><tr><td>null</td><td>570</td><td>Pediatric surgery</td><td>615284.0</td></tr><tr><td>null</td><td>848</td><td>Antibiotic therapy</td><td>508208.0</td></tr><tr><td>null</td><td>490</td><td>Electroconvulsive therapy (ECT)</td><td>873461.0</td></tr><tr><td>null</td><td>535</td><td>Pediatric surgery</td><td>156161.0</td></tr><tr><td>null</td><td>198</td><td>Colonoscopy</td><td>416538.0</td></tr><tr><td>null</td><td>470</td><td>Advanced cardiac life support</td><td>424080.0</td></tr><tr><td>null</td><td>440</td><td>General surgery</td><td>760289.0</td></tr><tr><td>null</td><td>779</td><td>Well-child check-ups</td><td>569888.0</td></tr><tr><td>null</td><td>679</td><td>Anesthetic care during childbirth</td><td>469669.0</td></tr><tr><td>null</td><td>783</td><td>Medication management</td><td>750662.0</td></tr><tr><td>null</td><td>852</td><td>Pulmonary function tests</td><td>951438.0</td></tr><tr><td>null</td><td>967</td><td>Rhinoplasty</td><td>384254.0</td></tr><tr><td>null</td><td>526</td><td>Rhinoplasty</td><td>133562.0</td></tr><tr><td>null</td><td>757</td><td>Sedation for minor procedures</td><td>948642.0</td></tr><tr><td>null</td><td>103</td><td>General anesthesia for surgeries</td><td>941657.0</td></tr><tr><td>null</td><td>733</td><td>Medication management</td><td>166012.0</td></tr><tr><td>null</td><td>926</td><td>Laser therapy for skin conditions</td><td>953783.0</td></tr><tr><td>null</td><td>437</td><td>Polypharmacy management</td><td>409394.0</td></tr><tr><td>null</td><td>519</td><td>Cosmetic procedures (e.g., Botox, fillers)</td><td>642717.0</td></tr><tr><td>null</td><td>633</td><td>Hormone replacement therapy</td><td>454678.0</td></tr><tr><td>null</td><td>482</td><td>Antibiotic therapy</td><td>477578.0</td></tr><tr><td>null</td><td>866</td><td>Dialysis</td><td>893710.0</td></tr><tr><td>null</td><td>371</td><td>Management of complex medical conditions</td><td>16114.0</td></tr><tr><td>null</td><td>379</td><td>Hemodynamic monitoring</td><td>592511.0</td></tr><tr><td>null</td><td>880</td><td>Tonsillectomy and adenoidectomy</td><td>247308.0</td></tr><tr><td>null</td><td>574</td><td>null</td><td>331820.0</td></tr><tr><td>null</td><td>422</td><td>Interventional radiology procedures</td><td>815557.0</td></tr><tr><td>null</td><td>510</td><td>MRI for brain imaging</td><td>282519.0</td></tr><tr><td>null</td><td>817</td><td>Insulin pump management for diabetes</td><td>460464.0</td></tr><tr><td>null</td><td>774</td><td>Emergency surgical procedures</td><td>209903.0</td></tr><tr><td>null</td><td>248</td><td>Mechanical ventilation</td><td>723691.0</td></tr><tr><td>null</td><td>977</td><td>Lumbar puncture</td><td>346690.0</td></tr><tr><td>null</td><td>451</td><td>Chemotherapy</td><td>153618.0</td></tr><tr><td>null</td><td>605</td><td>Insulin pump management for diabetes</td><td>49414.0</td></tr><tr><td>null</td><td>375</td><td>Tonsillectomy and adenoidectomy</td><td>153283.0</td></tr><tr><td>null</td><td>232</td><td>Angioplasty and stent placement</td><td>682887.0</td></tr><tr><td>null</td><td>260</td><td>Epidural analgesia during labor</td><td>903256.0</td></tr><tr><td>null</td><td>225</td><td>Advanced cardiac life support</td><td>395603.0</td></tr><tr><td>null</td><td>116</td><td>Angioplasty and stent placement</td><td>786064.0</td></tr><tr><td>null</td><td>463</td><td>Tonsillectomy and adenoidectomy</td><td>432009.0</td></tr><tr><td>null</td><td>584</td><td>Kidney transplant</td><td>151978.0</td></tr><tr><td>null</td><td>882</td><td>Radiation therapy</td><td>654032.0</td></tr><tr><td>null</td><td>438</td><td>Insulin pump management for diabetes</td><td>835261.0</td></tr><tr><td>null</td><td>438</td><td>null</td><td>499716.0</td></tr><tr><td>null</td><td>669</td><td>Psychotherapy</td><td>144064.0</td></tr><tr><td>null</td><td>211</td><td>Radiation therapy</td><td>771276.0</td></tr><tr><td>null</td><td>347</td><td>Trauma resuscitation</td><td>413952.0</td></tr><tr><td>null</td><td>416</td><td>Angioplasty and stent placement</td><td>984498.0</td></tr><tr><td>null</td><td>815</td><td>Emotional and spiritual support</td><td>394358.0</td></tr><tr><td>null</td><td>674</td><td>Chemotherapy</td><td>711179.0</td></tr><tr><td>null</td><td>745</td><td>Chemotherapy</td><td>577282.0</td></tr><tr><td>null</td><td>869</td><td>Sedation for minor procedures</td><td>514863.0</td></tr><tr><td>null</td><td>584</td><td>Trauma resuscitation</td><td>959064.0</td></tr><tr><td>null</td><td>762</td><td>General surgery</td><td>568290.0</td></tr><tr><td>null</td><td>971</td><td>Endoscopy</td><td>81330.0</td></tr><tr><td>null</td><td>896</td><td>Cosmetic procedures (e.g., Botox, fillers)</td><td>382492.0</td></tr><tr><td>null</td><td>784</td><td>Immunotherapy (allergy shots)</td><td>340127.0</td></tr><tr><td>null</td><td>111</td><td>Emergency surgical procedures</td><td>431618.0</td></tr><tr><td>null</td><td>938</td><td>Mechanical ventilation</td><td>77621.0</td></tr><tr><td>null</td><td>387</td><td>Interventional radiology procedures</td><td>45792.0</td></tr><tr><td>null</td><td>300</td><td>Immunizations</td><td>417044.0</td></tr><tr><td>null</td><td>221</td><td>Pulmonary function tests</td><td>327902.0</td></tr><tr><td>null</td><td>625</td><td>Rhinoplasty</td><td>247936.0</td></tr><tr><td>null</td><td>730</td><td>Polypharmacy management</td><td>824555.0</td></tr><tr><td>null</td><td>553</td><td>Antibiotic therapy</td><td>144746.0</td></tr><tr><td>null</td><td>285</td><td>Coronary artery bypass surgery</td><td>599162.0</td></tr><tr><td>null</td><td>693</td><td>General anesthesia for surgeries</td><td>155419.0</td></tr><tr><td>null</td><td>668</td><td>Sedation for minor procedures</td><td>537831.0</td></tr><tr><td>null</td><td>441</td><td>Symptom management for end-of-life care</td><td>302640.0</td></tr><tr><td>null</td><td>353</td><td>Intensive care management</td><td>654548.0</td></tr><tr><td>null</td><td>595</td><td>Immunizations</td><td>470194.0</td></tr><tr><td>null</td><td>514</td><td>Comprehensive geriatric assessment</td><td>844791.0</td></tr><tr><td>null</td><td>777</td><td>Dementia care</td><td>175417.0</td></tr><tr><td>null</td><td>766</td><td>Liver biopsy</td><td>152609.0</td></tr><tr><td>null</td><td>985</td><td>Kidney transplant</td><td>621978.0</td></tr><tr><td>null</td><td>854</td><td>Pacemaker implantation</td><td>465336.0</td></tr><tr><td>null</td><td>712</td><td>Sedation for minor procedures</td><td>538956.0</td></tr><tr><td>null</td><td>174</td><td>Colonoscopy</td><td>314854.0</td></tr><tr><td>null</td><td>802</td><td>Interventional radiology procedures</td><td>676614.0</td></tr><tr><td>null</td><td>160</td><td>Epidural anesthesia for pain management</td><td>129839.0</td></tr><tr><td>null</td><td>964</td><td>Dermatologic surgery</td><td>379606.0</td></tr><tr><td>null</td><td>102</td><td>Pediatric surgery</td><td>711796.0</td></tr><tr><td>null</td><td>876</td><td>Orthopedic surgery</td><td>300087.0</td></tr><tr><td>null</td><td>890</td><td>Medication management</td><td>121894.0</td></tr><tr><td>null</td><td>498</td><td>General surgery</td><td>803815.0</td></tr><tr><td>null</td><td>841</td><td>Antibiotic therapy</td><td>389534.0</td></tr><tr><td>null</td><td>603</td><td>Chemotherapy</td><td>439472.0</td></tr><tr><td>null</td><td>222</td><td>Liver biopsy</td><td>817408.0</td></tr><tr><td>null</td><td>635</td><td>Plastic surgery</td><td>818863.0</td></tr><tr><td>null</td><td>342</td><td>Retinal surgery</td><td>10834.0</td></tr><tr><td>null</td><td>428</td><td>Sedation for minor procedures</td><td>171729.0</td></tr><tr><td>null</td><td>409</td><td>Coronary artery bypass surgery</td><td>527922.0</td></tr><tr><td>null</td><td>940</td><td>Endoscopy</td><td>907701.0</td></tr><tr><td>null</td><td>993</td><td>Immunotherapy (allergy shots)</td><td>94809.0</td></tr><tr><td>null</td><td>241</td><td>Hormone replacement therapy</td><td>996207.0</td></tr><tr><td>null</td><td>727</td><td>Tonsillectomy and adenoidectomy</td><td>952276.0</td></tr><tr><td>null</td><td>144</td><td>Cosmetic procedures (e.g., Botox, fillers)</td><td>242216.0</td></tr><tr><td>null</td><td>584</td><td>Thyroid biopsy</td><td>619107.0</td></tr><tr><td>null</td><td>627</td><td>Well-child check-ups</td><td>977858.0</td></tr><tr><td>null</td><td>605</td><td>Polypharmacy management</td><td>657358.0</td></tr><tr><td>null</td><td>769</td><td>Electroconvulsive therapy (ECT)</td><td>95725.0</td></tr><tr><td>null</td><td>319</td><td>Radiation therapy</td><td>633427.0</td></tr><tr><td>null</td><td>515</td><td>Trauma resuscitation</td><td>545690.0</td></tr><tr><td>null</td><td>909</td><td>Well-child check-ups</td><td>244088.0</td></tr><tr><td>null</td><td>711</td><td>Dermatologic surgery</td><td>268511.0</td></tr><tr><td>null</td><td>566</td><td>Retinal surgery</td><td>836483.0</td></tr><tr><td>null</td><td>930</td><td>Immunizations</td><td>506212.0</td></tr><tr><td>null</td><td>261</td><td>Well-child check-ups</td><td>804856.0</td></tr><tr><td>null</td><td>326</td><td>Medication management</td><td>147892.0</td></tr><tr><td>null</td><td>671</td><td>Lumbar puncture</td><td>601928.0</td></tr><tr><td>null</td><td>361</td><td>EEG (Electroencephalogram)</td><td>598915.0</td></tr><tr><td>null</td><td>536</td><td>Well-child check-ups</td><td>919301.0</td></tr><tr><td>null</td><td>633</td><td>Hormone replacement therapy</td><td>485744.0</td></tr><tr><td>null</td><td>174</td><td>Well-child check-ups</td><td>952306.0</td></tr><tr><td>null</td><td>928</td><td>Psychotherapy</td><td>635555.0</td></tr><tr><td>null</td><td>586</td><td>Chemotherapy</td><td>383764.0</td></tr><tr><td>null</td><td>792</td><td>Comprehensive geriatric assessment</td><td>564187.0</td></tr><tr><td>null</td><td>990</td><td>Advanced cardiac life support</td><td>76951.0</td></tr><tr><td>null</td><td>528</td><td>Cataract surgery</td><td>923796.0</td></tr><tr><td>null</td><td>174</td><td>Insulin pump management for diabetes</td><td>664899.0</td></tr><tr><td>null</td><td>771</td><td>Dialysis</td><td>642820.0</td></tr><tr><td>null</td><td>251</td><td>Sedation for minor procedures</td><td>232609.0</td></tr><tr><td>null</td><td>598</td><td>Cataract surgery</td><td>671226.0</td></tr><tr><td>null</td><td>951</td><td>Polypharmacy management</td><td>516859.0</td></tr><tr><td>null</td><td>447</td><td>General surgery</td><td>44519.0</td></tr><tr><td>null</td><td>861</td><td>Pacemaker implantation</td><td>807722.0</td></tr><tr><td>null</td><td>221</td><td>Anesthetic care during childbirth</td><td>914785.0</td></tr><tr><td>null</td><td>742</td><td>Symptom management for end-of-life care</td><td>398678.0</td></tr><tr><td>null</td><td>399</td><td>Symptom management for end-of-life care</td><td>557429.0</td></tr><tr><td>null</td><td>198</td><td>Interventional radiology procedures</td><td>984094.0</td></tr><tr><td>null</td><td>473</td><td>Sedation for minor procedures</td><td>538796.0</td></tr><tr><td>null</td><td>584</td><td>null</td><td>298685.0</td></tr><tr><td>null</td><td>558</td><td>Management of complex medical conditions</td><td>630451.0</td></tr><tr><td>null</td><td>361</td><td>General surgery</td><td>358390.0</td></tr><tr><td>null</td><td>779</td><td>Dementia care</td><td>802419.0</td></tr><tr><td>null</td><td>292</td><td>Anesthetic care during childbirth</td><td>790367.0</td></tr><tr><td>null</td><td>668</td><td>Comprehensive geriatric assessment</td><td>353305.0</td></tr><tr><td>null</td><td>994</td><td>Management of complex medical conditions</td><td>537140.0</td></tr><tr><td>null</td><td>910</td><td>Bronchoscopy</td><td>902884.0</td></tr><tr><td>null</td><td>328</td><td>Immunizations</td><td>766185.0</td></tr><tr><td>null</td><td>413</td><td>Orthopedic surgery</td><td>547551.0</td></tr><tr><td>null</td><td>398</td><td>Rhinoplasty</td><td>660324.0</td></tr><tr><td>null</td><td>822</td><td>Surgical oncology</td><td>899081.0</td></tr><tr><td>null</td><td>507</td><td>Chronic disease management</td><td>990073.0</td></tr><tr><td>null</td><td>455</td><td>Dementia care</td><td>287082.0</td></tr><tr><td>null</td><td>489</td><td>Endoscopy</td><td>448594.0</td></tr><tr><td>null</td><td>615</td><td>Electroconvulsive therapy (ECT)</td><td>285134.0</td></tr><tr><td>null</td><td>779</td><td>Laser therapy for skin conditions</td><td>777974.0</td></tr><tr><td>null</td><td>291</td><td>Plastic surgery</td><td>991090.0</td></tr><tr><td>null</td><td>207</td><td>Pediatric surgery</td><td>413129.0</td></tr><tr><td>null</td><td>191</td><td>Cataract surgery</td><td>433939.0</td></tr><tr><td>null</td><td>377</td><td>Liver biopsy</td><td>995778.0</td></tr><tr><td>null</td><td>962</td><td>Bronchoscopy</td><td>45265.0</td></tr><tr><td>null</td><td>291</td><td>Lumbar puncture</td><td>757458.0</td></tr><tr><td>null</td><td>684</td><td>LASIK eye surgery</td><td>398995.0</td></tr><tr><td>null</td><td>291</td><td>Medication management</td><td>309792.0</td></tr><tr><td>null</td><td>197</td><td>Hormone replacement therapy</td><td>860972.0</td></tr><tr><td>null</td><td>264</td><td>Ventilation support</td><td>81526.0</td></tr><tr><td>null</td><td>240</td><td>Insulin pump management for diabetes</td><td>718804.0</td></tr><tr><td>null</td><td>460</td><td>Coronary artery bypass surgery</td><td>267695.0</td></tr><tr><td>null</td><td>673</td><td>Insulin pump management for diabetes</td><td>831409.0</td></tr><tr><td>null</td><td>456</td><td>Mechanical ventilation</td><td>526662.0</td></tr><tr><td>null</td><td>612</td><td>Trauma resuscitation</td><td>301437.0</td></tr><tr><td>null</td><td>368</td><td>Colonoscopy</td><td>910288.0</td></tr><tr><td>null</td><td>747</td><td>Medication management</td><td>826278.0</td></tr><tr><td>null</td><td>273</td><td>Epidural anesthesia for pain management</td><td>866660.0</td></tr><tr><td>null</td><td>644</td><td>Epidural analgesia during labor</td><td>566923.0</td></tr><tr><td>null</td><td>617</td><td>Colonoscopy</td><td>162253.0</td></tr><tr><td>null</td><td>482</td><td>Endoscopy</td><td>86619.0</td></tr><tr><td>null</td><td>623</td><td>Thyroid biopsy</td><td>24885.0</td></tr><tr><td>null</td><td>117</td><td>Thyroid biopsy</td><td>223481.0</td></tr><tr><td>null</td><td>240</td><td>Insulin pump management for diabetes</td><td>696773.0</td></tr><tr><td>null</td><td>810</td><td>Medication management</td><td>315305.0</td></tr><tr><td>null</td><td>476</td><td>Symptom management for end-of-life care</td><td>107731.0</td></tr><tr><td>null</td><td>394</td><td>Well-child check-ups</td><td>618046.0</td></tr><tr><td>null</td><td>195</td><td>Rhinoplasty</td><td>598801.0</td></tr><tr><td>null</td><td>467</td><td>Advanced cardiac life support</td><td>767774.0</td></tr><tr><td>null</td><td>163</td><td>Thyroid biopsy</td><td>565069.0</td></tr><tr><td>null</td><td>904</td><td>Retinal surgery</td><td>404047.0</td></tr><tr><td>null</td><td>982</td><td>Cataract surgery</td><td>90548.0</td></tr><tr><td>null</td><td>381</td><td>Chemotherapy</td><td>989313.0</td></tr><tr><td>null</td><td>746</td><td>Pediatric surgery</td><td>932758.0</td></tr><tr><td>null</td><td>154</td><td>Laser therapy for skin conditions</td><td>359806.0</td></tr><tr><td>null</td><td>610</td><td>Pulmonary function tests</td><td>693155.0</td></tr><tr><td>null</td><td>544</td><td>Tonsillectomy and adenoidectomy</td><td>258869.0</td></tr><tr><td>null</td><td>433</td><td>Well-child check-ups</td><td>241867.0</td></tr><tr><td>null</td><td>930</td><td>Bronchoscopy</td><td>769064.0</td></tr><tr><td>null</td><td>780</td><td>Plastic surgery</td><td>996348.0</td></tr><tr><td>null</td><td>513</td><td>Pulmonary function tests</td><td>891368.0</td></tr><tr><td>null</td><td>749</td><td>Dialysis</td><td>231224.0</td></tr><tr><td>null</td><td>648</td><td>Endoscopy</td><td>675371.0</td></tr><tr><td>null</td><td>254</td><td>Cardiology:</td><td>501983.0</td></tr><tr><td>null</td><td>644</td><td>Minor surgical procedures</td><td>899765.0</td></tr><tr><td>null</td><td>150</td><td>Lumbar puncture</td><td>253434.0</td></tr><tr><td>null</td><td>635</td><td>Bronchoscopy</td><td>610779.0</td></tr><tr><td>null</td><td>111</td><td>Interventional radiology procedures</td><td>37837.0</td></tr><tr><td>null</td><td>115</td><td>Kidney transplant</td><td>486003.0</td></tr><tr><td>null</td><td>851</td><td>Dialysis</td><td>835185.0</td></tr><tr><td>null</td><td>634</td><td>General health check-ups</td><td>260457.0</td></tr><tr><td>null</td><td>265</td><td>General surgery</td><td>355176.0</td></tr><tr><td>null</td><td>518</td><td>X-rays, CT scans, MRI scans</td><td>27009.0</td></tr><tr><td>null</td><td>456</td><td>EEG (Electroencephalogram)</td><td>787377.0</td></tr><tr><td>null</td><td>546</td><td>Thyroid biopsy</td><td>738406.0</td></tr><tr><td>null</td><td>333</td><td>Laser therapy for skin conditions</td><td>67674.0</td></tr><tr><td>null</td><td>444</td><td>Dementia care</td><td>484979.0</td></tr><tr><td>null</td><td>816</td><td>Chronic disease management</td><td>951259.0</td></tr><tr><td>null</td><td>551</td><td>Radiation therapy</td><td>506833.0</td></tr><tr><td>null</td><td>555</td><td>Coronary artery bypass surgery</td><td>256281.0</td></tr><tr><td>null</td><td>682</td><td>Advanced cardiac life support</td><td>342446.0</td></tr><tr><td>null</td><td>935</td><td>Interventional radiology procedures</td><td>785210.0</td></tr><tr><td>null</td><td>761</td><td>Angioplasty and stent placement</td><td>609808.0</td></tr><tr><td>null</td><td>959</td><td>Psychotherapy</td><td>863512.0</td></tr><tr><td>null</td><td>742</td><td>Cosmetic procedures (e.g., Botox, fillers)</td><td>166944.0</td></tr><tr><td>null</td><td>373</td><td>Polypharmacy management</td><td>43166.0</td></tr><tr><td>null</td><td>931</td><td>Coronary artery bypass surgery</td><td>913490.0</td></tr><tr><td>null</td><td>632</td><td>Orthopedic surgery</td><td>749261.0</td></tr><tr><td>null</td><td>783</td><td>Endoscopy</td><td>783989.0</td></tr><tr><td>null</td><td>466</td><td>Pediatric surgery</td><td>88500.0</td></tr><tr><td>null</td><td>938</td><td>Radiation therapy</td><td>904810.0</td></tr><tr><td>null</td><td>451</td><td>LASIK eye surgery</td><td>136281.0</td></tr><tr><td>null</td><td>829</td><td>Cardiology:</td><td>715308.0</td></tr><tr><td>null</td><td>595</td><td>Rhinoplasty</td><td>348064.0</td></tr><tr><td>null</td><td>453</td><td>Cardiology:</td><td>340854.0</td></tr><tr><td>null</td><td>961</td><td>Minor surgical procedures</td><td>400378.0</td></tr><tr><td>null</td><td>961</td><td>Pacemaker implantation</td><td>515173.0</td></tr><tr><td>null</td><td>480</td><td>General health check-ups</td><td>462984.0</td></tr><tr><td>null</td><td>373</td><td>General surgery</td><td>866273.0</td></tr><tr><td>null</td><td>587</td><td>Radiation therapy</td><td>356956.0</td></tr><tr><td>null</td><td>143</td><td>Kidney transplant</td><td>418879.0</td></tr><tr><td>null</td><td>806</td><td>Liver biopsy</td><td>104586.0</td></tr><tr><td>null</td><td>693</td><td>Immunotherapy (allergy shots)</td><td>612786.0</td></tr><tr><td>null</td><td>370</td><td>X-rays, CT scans, MRI scans</td><td>558138.0</td></tr><tr><td>null</td><td>417</td><td>Coronary artery bypass surgery</td><td>993763.0</td></tr><tr><td>null</td><td>526</td><td>Symptom management for end-of-life care</td><td>505655.0</td></tr><tr><td>null</td><td>240</td><td>General health check-ups</td><td>845706.0</td></tr><tr><td>null</td><td>858</td><td>Nephrectomy</td><td>885552.0</td></tr><tr><td>null</td><td>281</td><td>Radiation therapy</td><td>156591.0</td></tr><tr><td>null</td><td>193</td><td>Intensive care management</td><td>653320.0</td></tr><tr><td>null</td><td>780</td><td>Emergency surgical procedures</td><td>982497.0</td></tr><tr><td>null</td><td>641</td><td>Laser therapy for skin conditions</td><td>608597.0</td></tr><tr><td>null</td><td>506</td><td>Immunotherapy (allergy shots)</td><td>351011.0</td></tr><tr><td>null</td><td>891</td><td>Psychotherapy</td><td>513684.0</td></tr><tr><td>null</td><td>143</td><td>Comprehensive geriatric assessment</td><td>931836.0</td></tr><tr><td>null</td><td>622</td><td>Epidural anesthesia for pain management</td><td>148653.0</td></tr><tr><td>null</td><td>306</td><td>Dementia care</td><td>622737.0</td></tr><tr><td>null</td><td>345</td><td>Retinal surgery</td><td>683055.0</td></tr><tr><td>null</td><td>308</td><td>Pacemaker implantation</td><td>637413.0</td></tr><tr><td>null</td><td>278</td><td>Colonoscopy</td><td>538664.0</td></tr><tr><td>null</td><td>986</td><td>Intensive care management</td><td>515928.0</td></tr><tr><td>null</td><td>615</td><td>Insulin pump management for diabetes</td><td>189880.0</td></tr><tr><td>null</td><td>258</td><td>Cochlear implant surgery</td><td>568639.0</td></tr><tr><td>null</td><td>999</td><td>Pacemaker implantation</td><td>348587.0</td></tr><tr><td>null</td><td>178</td><td>Pediatric surgery</td><td>604228.0</td></tr><tr><td>null</td><td>403</td><td>Plastic surgery</td><td>15151.0</td></tr><tr><td>null</td><td>789</td><td>Cardiology:</td><td>458313.0</td></tr><tr><td>null</td><td>381</td><td>Comprehensive geriatric assessment</td><td>835276.0</td></tr><tr><td>null</td><td>928</td><td>Cosmetic procedures (e.g., Botox, fillers)</td><td>342677.0</td></tr><tr><td>null</td><td>842</td><td>Management of complex infections</td><td>182219.0</td></tr><tr><td>null</td><td>640</td><td>null</td><td>152046.0</td></tr><tr><td>null</td><td>109</td><td>Tonsillectomy and adenoidectomy</td><td>837856.0</td></tr><tr><td>null</td><td>138</td><td>Orthopedic surgery</td><td>801951.0</td></tr><tr><td>null</td><td>516</td><td>Rhinoplasty</td><td>248502.0</td></tr><tr><td>null</td><td>397</td><td>Retinal surgery</td><td>126338.0</td></tr><tr><td>null</td><td>341</td><td>Medication management</td><td>153320.0</td></tr><tr><td>null</td><td>601</td><td>Management of complex medical conditions</td><td>88881.0</td></tr><tr><td>null</td><td>447</td><td>Management of complex infections</td><td>214990.0</td></tr><tr><td>null</td><td>901</td><td>Surgical oncology</td><td>974269.0</td></tr><tr><td>null</td><td>505</td><td>Dermatologic surgery</td><td>860359.0</td></tr><tr><td>null</td><td>722</td><td>Intensive care management</td><td>554697.0</td></tr><tr><td>null</td><td>515</td><td>Mechanical ventilation</td><td>905507.0</td></tr><tr><td>null</td><td>543</td><td>Pacemaker implantation</td><td>366455.0</td></tr><tr><td>null</td><td>769</td><td>Symptom management for end-of-life care</td><td>652909.0</td></tr><tr><td>null</td><td>104</td><td>Symptom management for end-of-life care</td><td>891700.0</td></tr><tr><td>null</td><td>448</td><td>Anesthetic care during childbirth</td><td>686742.0</td></tr><tr><td>null</td><td>566</td><td>Intensive care management</td><td>720877.0</td></tr><tr><td>null</td><td>363</td><td>null</td><td>832506.0</td></tr><tr><td>null</td><td>259</td><td>Electroconvulsive therapy (ECT)</td><td>807446.0</td></tr><tr><td>null</td><td>518</td><td>Endoscopy</td><td>61338.0</td></tr><tr><td>null</td><td>703</td><td>Tonsillectomy and adenoidectomy</td><td>519205.0</td></tr><tr><td>null</td><td>694</td><td>Dialysis</td><td>784050.0</td></tr><tr><td>null</td><td>935</td><td>Epidural analgesia during labor</td><td>447041.0</td></tr><tr><td>null</td><td>254</td><td>EEG (Electroencephalogram)</td><td>643696.0</td></tr><tr><td>null</td><td>954</td><td>Thyroid biopsy</td><td>843109.0</td></tr><tr><td>null</td><td>506</td><td>Angioplasty and stent placement</td><td>775192.0</td></tr><tr><td>null</td><td>762</td><td>Well-child check-ups</td><td>613435.0</td></tr><tr><td>null</td><td>690</td><td>Dermatologic surgery</td><td>414086.0</td></tr><tr><td>null</td><td>833</td><td>Electroconvulsive therapy (ECT)</td><td>330215.0</td></tr><tr><td>null</td><td>892</td><td>Psychotherapy</td><td>74387.0</td></tr><tr><td>null</td><td>509</td><td>Pulmonary function tests</td><td>21661.0</td></tr><tr><td>null</td><td>608</td><td>Emotional and spiritual support</td><td>789491.0</td></tr><tr><td>null</td><td>661</td><td>Advanced cardiac life support</td><td>872428.0</td></tr><tr><td>null</td><td>355</td><td>Minor surgical procedures</td><td>693982.0</td></tr><tr><td>null</td><td>792</td><td>X-rays, CT scans, MRI scans</td><td>339244.0</td></tr><tr><td>null</td><td>415</td><td>Chronic disease management</td><td>510621.0</td></tr><tr><td>null</td><td>373</td><td>Dermatologic surgery</td><td>357323.0</td></tr><tr><td>null</td><td>409</td><td>Hormone replacement therapy</td><td>684279.0</td></tr><tr><td>null</td><td>506</td><td>Polypharmacy management</td><td>129644.0</td></tr><tr><td>null</td><td>214</td><td>Anesthetic care during childbirth</td><td>707194.0</td></tr><tr><td>null</td><td>758</td><td>Emotional and spiritual support</td><td>940376.0</td></tr><tr><td>null</td><td>159</td><td>Pulmonary function tests</td><td>206481.0</td></tr><tr><td>null</td><td>915</td><td>Colonoscopy</td><td>691347.0</td></tr><tr><td>null</td><td>930</td><td>Endoscopy</td><td>604602.0</td></tr><tr><td>null</td><td>229</td><td>EEG (Electroencephalogram)</td><td>483365.0</td></tr><tr><td>null</td><td>767</td><td>Antibiotic therapy</td><td>456527.0</td></tr><tr><td>null</td><td>806</td><td>Symptom management for end-of-life care</td><td>789640.0</td></tr><tr><td>null</td><td>739</td><td>Trauma resuscitation</td><td>453602.0</td></tr><tr><td>null</td><td>138</td><td>Emotional and spiritual support</td><td>586045.0</td></tr><tr><td>null</td><td>1000</td><td>Colonoscopy</td><td>853016.0</td></tr><tr><td>null</td><td>649</td><td>Immunizations</td><td>367537.0</td></tr><tr><td>null</td><td>105</td><td>Immunizations</td><td>888749.0</td></tr><tr><td>null</td><td>629</td><td>Intensive care management</td><td>426049.0</td></tr><tr><td>null</td><td>277</td><td>Endoscopy</td><td>521186.0</td></tr><tr><td>null</td><td>910</td><td>Tonsillectomy and adenoidectomy</td><td>862384.0</td></tr><tr><td>null</td><td>556</td><td>Epidural anesthesia for pain management</td><td>908592.0</td></tr><tr><td>null</td><td>436</td><td>Management of complex infections</td><td>143895.0</td></tr><tr><td>null</td><td>830</td><td>Insulin pump management for diabetes</td><td>673632.0</td></tr><tr><td>null</td><td>416</td><td>Pediatric surgery</td><td>68135.0</td></tr><tr><td>null</td><td>774</td><td>Hemodynamic monitoring</td><td>46028.0</td></tr><tr><td>null</td><td>458</td><td>Sedation for minor procedures</td><td>974018.0</td></tr><tr><td>null</td><td>832</td><td>Lumbar puncture</td><td>983953.0</td></tr><tr><td>null</td><td>245</td><td>Medication management</td><td>146794.0</td></tr><tr><td>null</td><td>435</td><td>Kidney transplant</td><td>157660.0</td></tr><tr><td>null</td><td>806</td><td>Mechanical ventilation</td><td>743571.0</td></tr><tr><td>null</td><td>507</td><td>X-rays, CT scans, MRI scans</td><td>801357.0</td></tr><tr><td>null</td><td>504</td><td>Dementia care</td><td>291178.0</td></tr><tr><td>null</td><td>231</td><td>Kidney transplant</td><td>39498.0</td></tr><tr><td>null</td><td>522</td><td>Psychotherapy</td><td>891578.0</td></tr><tr><td>null</td><td>838</td><td>null</td><td>27467.0</td></tr><tr><td>null</td><td>917</td><td>Cardiology:</td><td>480745.0</td></tr><tr><td>null</td><td>352</td><td>Hormone replacement therapy</td><td>171797.0</td></tr><tr><td>null</td><td>383</td><td>Epidural analgesia during labor</td><td>237555.0</td></tr><tr><td>null</td><td>506</td><td>Antibiotic therapy</td><td>977957.0</td></tr><tr><td>null</td><td>668</td><td>Pacemaker implantation</td><td>464006.0</td></tr><tr><td>null</td><td>389</td><td>Medication management</td><td>181171.0</td></tr><tr><td>null</td><td>972</td><td>Symptom management for end-of-life care</td><td>658438.0</td></tr><tr><td>null</td><td>897</td><td>Insulin pump management for diabetes</td><td>663228.0</td></tr><tr><td>null</td><td>788</td><td>Dialysis</td><td>875415.0</td></tr><tr><td>null</td><td>963</td><td>Emergency surgical procedures</td><td>608334.0</td></tr><tr><td>null</td><td>202</td><td>Rhinoplasty</td><td>200890.0</td></tr><tr><td>null</td><td>306</td><td>Hormone replacement therapy</td><td>685274.0</td></tr><tr><td>null</td><td>302</td><td>EEG (Electroencephalogram)</td><td>521269.0</td></tr><tr><td>null</td><td>401</td><td>LASIK eye surgery</td><td>512652.0</td></tr><tr><td>null</td><td>194</td><td>Dialysis</td><td>125035.0</td></tr><tr><td>null</td><td>841</td><td>MRI for brain imaging</td><td>375591.0</td></tr><tr><td>null</td><td>703</td><td>Bronchoscopy</td><td>870433.0</td></tr><tr><td>null</td><td>404</td><td>EEG (Electroencephalogram)</td><td>590977.0</td></tr><tr><td>null</td><td>499</td><td>Liver biopsy</td><td>699215.0</td></tr><tr><td>null</td><td>398</td><td>Liver biopsy</td><td>38535.0</td></tr><tr><td>null</td><td>567</td><td>Retinal surgery</td><td>829753.0</td></tr><tr><td>null</td><td>146</td><td>Interventional radiology procedures</td><td>582071.0</td></tr><tr><td>null</td><td>368</td><td>Thyroid biopsy</td><td>949608.0</td></tr><tr><td>null</td><td>897</td><td>Chronic disease management</td><td>882211.0</td></tr><tr><td>null</td><td>562</td><td>Hormone replacement therapy</td><td>333973.0</td></tr><tr><td>null</td><td>744</td><td>LASIK eye surgery</td><td>816691.0</td></tr><tr><td>null</td><td>429</td><td>Tonsillectomy and adenoidectomy</td><td>518766.0</td></tr><tr><td>null</td><td>485</td><td>Immunotherapy (allergy shots)</td><td>16790.0</td></tr><tr><td>null</td><td>387</td><td>General health check-ups</td><td>529230.0</td></tr><tr><td>null</td><td>804</td><td>Polypharmacy management</td><td>929634.0</td></tr><tr><td>null</td><td>349</td><td>Pulmonary function tests</td><td>361947.0</td></tr><tr><td>null</td><td>449</td><td>Immunizations</td><td>114914.0</td></tr><tr><td>null</td><td>310</td><td>Internal medicine consultations</td><td>412696.0</td></tr><tr><td>null</td><td>157</td><td>Emotional and spiritual support</td><td>269609.0</td></tr><tr><td>null</td><td>702</td><td>Liver biopsy</td><td>422617.0</td></tr><tr><td>null</td><td>576</td><td>null</td><td>379148.0</td></tr><tr><td>null</td><td>182</td><td>Psychotherapy</td><td>701045.0</td></tr><tr><td>null</td><td>759</td><td>Interventional radiology procedures</td><td>251137.0</td></tr><tr><td>null</td><td>879</td><td>Angioplasty and stent placement</td><td>734324.0</td></tr><tr><td>null</td><td>626</td><td>Cochlear implant surgery</td><td>249365.0</td></tr><tr><td>null</td><td>462</td><td>Pacemaker implantation</td><td>670244.0</td></tr><tr><td>null</td><td>636</td><td>Interventional radiology procedures</td><td>267999.0</td></tr><tr><td>null</td><td>654</td><td>EEG (Electroencephalogram)</td><td>486985.0</td></tr><tr><td>null</td><td>248</td><td>Laser therapy for skin conditions</td><td>350343.0</td></tr><tr><td>null</td><td>161</td><td>General health check-ups</td><td>563494.0</td></tr><tr><td>null</td><td>302</td><td>Coronary artery bypass surgery</td><td>786033.0</td></tr><tr><td>null</td><td>685</td><td>Orthopedic surgery</td><td>839760.0</td></tr><tr><td>null</td><td>812</td><td>Internal medicine consultations</td><td>49086.0</td></tr><tr><td>null</td><td>961</td><td>Sedation for minor procedures</td><td>973869.0</td></tr><tr><td>null</td><td>522</td><td>Psychotherapy</td><td>150478.0</td></tr><tr><td>null</td><td>210</td><td>Rhinoplasty</td><td>100039.0</td></tr><tr><td>null</td><td>551</td><td>Cochlear implant surgery</td><td>904874.0</td></tr><tr><td>null</td><td>539</td><td>Polypharmacy management</td><td>526929.0</td></tr><tr><td>null</td><td>355</td><td>Immunotherapy (allergy shots)</td><td>670980.0</td></tr><tr><td>null</td><td>894</td><td>Immunizations</td><td>762485.0</td></tr><tr><td>null</td><td>546</td><td>Cardiology:</td><td>341309.0</td></tr><tr><td>null</td><td>494</td><td>Cardiology:</td><td>480872.0</td></tr><tr><td>null</td><td>452</td><td>Epidural analgesia during labor</td><td>974821.0</td></tr><tr><td>null</td><td>751</td><td>Plastic surgery</td><td>145188.0</td></tr><tr><td>null</td><td>792</td><td>null</td><td>96125.0</td></tr><tr><td>null</td><td>130</td><td>Management of complex medical conditions</td><td>60348.0</td></tr><tr><td>null</td><td>828</td><td>Minor surgical procedures</td><td>314276.0</td></tr><tr><td>null</td><td>145</td><td>Cardiology:</td><td>165655.0</td></tr><tr><td>null</td><td>546</td><td>Emotional and spiritual support</td><td>867260.0</td></tr><tr><td>null</td><td>700</td><td>Kidney transplant</td><td>210604.0</td></tr><tr><td>null</td><td>844</td><td>null</td><td>161408.0</td></tr><tr><td>null</td><td>603</td><td>Pediatric surgery</td><td>793507.0</td></tr><tr><td>null</td><td>625</td><td>Mechanical ventilation</td><td>261443.0</td></tr><tr><td>null</td><td>380</td><td>Surgical oncology</td><td>148700.0</td></tr><tr><td>null</td><td>449</td><td>Liver biopsy</td><td>694847.0</td></tr><tr><td>null</td><td>205</td><td>Anesthetic care during childbirth</td><td>473143.0</td></tr><tr><td>null</td><td>456</td><td>Bronchoscopy</td><td>406196.0</td></tr><tr><td>null</td><td>539</td><td>Plastic surgery</td><td>11838.0</td></tr><tr><td>null</td><td>237</td><td>Chemotherapy</td><td>747178.0</td></tr><tr><td>null</td><td>815</td><td>Cosmetic procedures (e.g., Botox, fillers)</td><td>70723.0</td></tr><tr><td>null</td><td>327</td><td>Kidney transplant</td><td>133113.0</td></tr><tr><td>null</td><td>827</td><td>Chemotherapy</td><td>16567.0</td></tr><tr><td>null</td><td>832</td><td>Cosmetic procedures (e.g., Botox, fillers)</td><td>545499.0</td></tr><tr><td>null</td><td>204</td><td>Cosmetic procedures (e.g., Botox, fillers)</td><td>662732.0</td></tr><tr><td>null</td><td>934</td><td>Anesthetic care during childbirth</td><td>732471.0</td></tr><tr><td>null</td><td>297</td><td>Endoscopy</td><td>771494.0</td></tr><tr><td>null</td><td>250</td><td>Mechanical ventilation</td><td>709304.0</td></tr><tr><td>null</td><td>495</td><td>LASIK eye surgery</td><td>711264.0</td></tr><tr><td>null</td><td>178</td><td>Anesthetic care during childbirth</td><td>180175.0</td></tr><tr><td>null</td><td>445</td><td>Surgical oncology</td><td>169197.0</td></tr><tr><td>null</td><td>547</td><td>Comprehensive geriatric assessment</td><td>833501.0</td></tr><tr><td>null</td><td>772</td><td>MRI for brain imaging</td><td>449080.0</td></tr><tr><td>null</td><td>591</td><td>Lumbar puncture</td><td>948456.0</td></tr><tr><td>null</td><td>444</td><td>Endoscopy</td><td>776619.0</td></tr><tr><td>null</td><td>213</td><td>Tonsillectomy and adenoidectomy</td><td>183912.0</td></tr><tr><td>null</td><td>675</td><td>Cochlear implant surgery</td><td>111549.0</td></tr><tr><td>null</td><td>946</td><td>Immunotherapy (allergy shots)</td><td>186342.0</td></tr><tr><td>null</td><td>242</td><td>Bronchoscopy</td><td>435046.0</td></tr><tr><td>null</td><td>426</td><td>null</td><td>879405.0</td></tr><tr><td>null</td><td>670</td><td>Immunotherapy (allergy shots)</td><td>117457.0</td></tr><tr><td>null</td><td>116</td><td>General anesthesia for surgeries</td><td>362072.0</td></tr><tr><td>null</td><td>733</td><td>Management of complex infections</td><td>904470.0</td></tr><tr><td>null</td><td>870</td><td>Internal medicine consultations</td><td>281875.0</td></tr><tr><td>null</td><td>452</td><td>Sedation for minor procedures</td><td>190037.0</td></tr><tr><td>null</td><td>919</td><td>Pediatric surgery</td><td>185051.0</td></tr><tr><td>null</td><td>427</td><td>Interventional radiology procedures</td><td>402596.0</td></tr><tr><td>null</td><td>868</td><td>Coronary artery bypass surgery</td><td>151071.0</td></tr><tr><td>null</td><td>720</td><td>Internal medicine consultations</td><td>491354.0</td></tr><tr><td>null</td><td>979</td><td>Chronic disease management</td><td>891275.0</td></tr><tr><td>null</td><td>644</td><td>Rhinoplasty</td><td>153957.0</td></tr><tr><td>null</td><td>240</td><td>Anesthetic care during childbirth</td><td>538720.0</td></tr><tr><td>null</td><td>538</td><td>General surgery</td><td>664763.0</td></tr><tr><td>null</td><td>394</td><td>Liver biopsy</td><td>299920.0</td></tr><tr><td>null</td><td>431</td><td>Cardiology:</td><td>145502.0</td></tr><tr><td>null</td><td>315</td><td>Minor surgical procedures</td><td>434633.0</td></tr><tr><td>null</td><td>772</td><td>EEG (Electroencephalogram)</td><td>285439.0</td></tr><tr><td>null</td><td>777</td><td>Management of complex infections</td><td>50637.0</td></tr><tr><td>null</td><td>108</td><td>General surgery</td><td>943604.0</td></tr><tr><td>null</td><td>799</td><td>Orthopedic surgery</td><td>96291.0</td></tr><tr><td>null</td><td>823</td><td>Laser therapy for skin conditions</td><td>693893.0</td></tr><tr><td>null</td><td>825</td><td>LASIK eye surgery</td><td>114228.0</td></tr><tr><td>null</td><td>506</td><td>Advanced cardiac life support</td><td>656788.0</td></tr><tr><td>null</td><td>168</td><td>Surgical oncology</td><td>836090.0</td></tr><tr><td>null</td><td>657</td><td>Hemodynamic monitoring</td><td>866470.0</td></tr><tr><td>null</td><td>736</td><td>Retinal surgery</td><td>607829.0</td></tr><tr><td>null</td><td>751</td><td>Cardiology:</td><td>793743.0</td></tr><tr><td>null</td><td>298</td><td>Bronchoscopy</td><td>20564.0</td></tr><tr><td>null</td><td>914</td><td>Dementia care</td><td>398182.0</td></tr><tr><td>null</td><td>596</td><td>Cardiology:</td><td>569550.0</td></tr><tr><td>null</td><td>846</td><td>Emergency surgical procedures</td><td>930167.0</td></tr><tr><td>null</td><td>243</td><td>Surgical oncology</td><td>569598.0</td></tr><tr><td>null</td><td>516</td><td>Cochlear implant surgery</td><td>830242.0</td></tr><tr><td>null</td><td>252</td><td>Management of complex infections</td><td>423372.0</td></tr><tr><td>null</td><td>815</td><td>Endoscopy</td><td>171238.0</td></tr><tr><td>null</td><td>852</td><td>Symptom management for end-of-life care</td><td>561663.0</td></tr><tr><td>null</td><td>769</td><td>Pediatric surgery</td><td>178235.0</td></tr><tr><td>null</td><td>857</td><td>Interventional radiology procedures</td><td>504517.0</td></tr><tr><td>null</td><td>799</td><td>Cosmetic procedures (e.g., Botox, fillers)</td><td>994632.0</td></tr><tr><td>null</td><td>613</td><td>Coronary artery bypass surgery</td><td>172902.0</td></tr><tr><td>null</td><td>482</td><td>Symptom management for end-of-life care</td><td>438132.0</td></tr><tr><td>null</td><td>998</td><td>LASIK eye surgery</td><td>239887.0</td></tr><tr><td>null</td><td>864</td><td>Pediatric surgery</td><td>72848.0</td></tr><tr><td>null</td><td>459</td><td>Epidural analgesia during labor</td><td>548616.0</td></tr><tr><td>null</td><td>810</td><td>Liver biopsy</td><td>776634.0</td></tr><tr><td>null</td><td>921</td><td>General health check-ups</td><td>16767.0</td></tr><tr><td>null</td><td>776</td><td>Bronchoscopy</td><td>211511.0</td></tr><tr><td>null</td><td>175</td><td>Tonsillectomy and adenoidectomy</td><td>657544.0</td></tr><tr><td>null</td><td>797</td><td>Pediatric surgery</td><td>478017.0</td></tr><tr><td>null</td><td>924</td><td>Cosmetic procedures (e.g., Botox, fillers)</td><td>942997.0</td></tr><tr><td>null</td><td>362</td><td>null</td><td>980344.0</td></tr><tr><td>null</td><td>441</td><td>Well-child check-ups</td><td>182734.0</td></tr><tr><td>null</td><td>713</td><td>Angioplasty and stent placement</td><td>212362.0</td></tr><tr><td>null</td><td>677</td><td>Antibiotic therapy</td><td>300134.0</td></tr><tr><td>null</td><td>768</td><td>Electroconvulsive therapy (ECT)</td><td>265106.0</td></tr><tr><td>null</td><td>125</td><td>Kidney transplant</td><td>955636.0</td></tr><tr><td>null</td><td>257</td><td>MRI for brain imaging</td><td>731511.0</td></tr><tr><td>null</td><td>183</td><td>Surgical oncology</td><td>460039.0</td></tr><tr><td>null</td><td>877</td><td>Minor surgical procedures</td><td>499212.0</td></tr><tr><td>null</td><td>800</td><td>Mechanical ventilation</td><td>190174.0</td></tr><tr><td>null</td><td>889</td><td>Cosmetic procedures (e.g., Botox, fillers)</td><td>693908.0</td></tr><tr><td>null</td><td>846</td><td>Nephrectomy</td><td>943641.0</td></tr><tr><td>null</td><td>125</td><td>Laser therapy for skin conditions</td><td>117238.0</td></tr><tr><td>null</td><td>289</td><td>Coronary artery bypass surgery</td><td>120040.0</td></tr><tr><td>null</td><td>603</td><td>Trauma resuscitation</td><td>552766.0</td></tr><tr><td>null</td><td>142</td><td>Rhinoplasty</td><td>700723.0</td></tr><tr><td>null</td><td>489</td><td>Cochlear implant surgery</td><td>430683.0</td></tr><tr><td>null</td><td>301</td><td>Plastic surgery</td><td>882754.0</td></tr><tr><td>null</td><td>301</td><td>Lumbar puncture</td><td>669194.0</td></tr><tr><td>null</td><td>350</td><td>Tonsillectomy and adenoidectomy</td><td>663455.0</td></tr><tr><td>null</td><td>657</td><td>Cosmetic procedures (e.g., Botox, fillers)</td><td>247124.0</td></tr><tr><td>null</td><td>808</td><td>Pediatric surgery</td><td>534188.0</td></tr><tr><td>null</td><td>518</td><td>Bronchoscopy</td><td>710671.0</td></tr><tr><td>null</td><td>842</td><td>Minor surgical procedures</td><td>954375.0</td></tr><tr><td>null</td><td>102</td><td>Dementia care</td><td>864706.0</td></tr><tr><td>null</td><td>241</td><td>Polypharmacy management</td><td>89196.0</td></tr><tr><td>null</td><td>627</td><td>null</td><td>431352.0</td></tr><tr><td>null</td><td>436</td><td>Medication management</td><td>645341.0</td></tr><tr><td>null</td><td>341</td><td>Lumbar puncture</td><td>965585.0</td></tr><tr><td>null</td><td>286</td><td>Comprehensive geriatric assessment</td><td>417316.0</td></tr><tr><td>null</td><td>621</td><td>Thyroid biopsy</td><td>545986.0</td></tr><tr><td>null</td><td>779</td><td>EEG (Electroencephalogram)</td><td>829856.0</td></tr><tr><td>null</td><td>245</td><td>Chronic disease management</td><td>213390.0</td></tr><tr><td>null</td><td>774</td><td>Anesthetic care during childbirth</td><td>207275.0</td></tr><tr><td>null</td><td>312</td><td>Well-child check-ups</td><td>545613.0</td></tr><tr><td>null</td><td>147</td><td>Trauma resuscitation</td><td>641299.0</td></tr><tr><td>null</td><td>950</td><td>Thyroid biopsy</td><td>337517.0</td></tr><tr><td>null</td><td>247</td><td>Laser therapy for skin conditions</td><td>82041.0</td></tr><tr><td>null</td><td>818</td><td>Epidural anesthesia for pain management</td><td>939175.0</td></tr><tr><td>null</td><td>970</td><td>Chemotherapy</td><td>825064.0</td></tr><tr><td>null</td><td>989</td><td>Emergency surgical procedures</td><td>708383.0</td></tr><tr><td>null</td><td>651</td><td>Advanced cardiac life support</td><td>391947.0</td></tr><tr><td>null</td><td>639</td><td>null</td><td>93027.0</td></tr><tr><td>null</td><td>242</td><td>Cardiology:</td><td>564585.0</td></tr><tr><td>null</td><td>161</td><td>MRI for brain imaging</td><td>555135.0</td></tr><tr><td>null</td><td>211</td><td>Retinal surgery</td><td>989492.0</td></tr><tr><td>null</td><td>884</td><td>Sedation for minor procedures</td><td>710438.0</td></tr><tr><td>null</td><td>415</td><td>Well-child check-ups</td><td>618904.0</td></tr><tr><td>null</td><td>817</td><td>Well-child check-ups</td><td>885660.0</td></tr><tr><td>null</td><td>881</td><td>Rhinoplasty</td><td>497541.0</td></tr><tr><td>null</td><td>618</td><td>null</td><td>706908.0</td></tr><tr><td>null</td><td>497</td><td>Dialysis</td><td>750799.0</td></tr><tr><td>null</td><td>395</td><td>Lumbar puncture</td><td>626659.0</td></tr><tr><td>null</td><td>571</td><td>Immunizations</td><td>129560.0</td></tr><tr><td>null</td><td>946</td><td>Epidural anesthesia for pain management</td><td>183386.0</td></tr><tr><td>null</td><td>634</td><td>Intensive care management</td><td>831529.0</td></tr><tr><td>null</td><td>939</td><td>Medication management</td><td>856612.0</td></tr><tr><td>null</td><td>850</td><td>Symptom management for end-of-life care</td><td>306776.0</td></tr><tr><td>null</td><td>916</td><td>Insulin pump management for diabetes</td><td>859275.0</td></tr><tr><td>null</td><td>918</td><td>Insulin pump management for diabetes</td><td>716535.0</td></tr><tr><td>null</td><td>317</td><td>Management of complex medical conditions</td><td>301311.0</td></tr><tr><td>null</td><td>682</td><td>Thyroid biopsy</td><td>279738.0</td></tr><tr><td>null</td><td>746</td><td>Angioplasty and stent placement</td><td>375109.0</td></tr><tr><td>null</td><td>466</td><td>Endoscopy</td><td>681186.0</td></tr><tr><td>null</td><td>179</td><td>Well-child check-ups</td><td>662830.0</td></tr><tr><td>null</td><td>645</td><td>Electroconvulsive therapy (ECT)</td><td>460449.0</td></tr><tr><td>null</td><td>448</td><td>LASIK eye surgery</td><td>571430.0</td></tr><tr><td>null</td><td>774</td><td>Epidural anesthesia for pain management</td><td>599258.0</td></tr><tr><td>null</td><td>780</td><td>Laser therapy for skin conditions</td><td>901532.0</td></tr><tr><td>null</td><td>705</td><td>Pacemaker implantation</td><td>794496.0</td></tr><tr><td>null</td><td>948</td><td>Surgical oncology</td><td>489801.0</td></tr><tr><td>null</td><td>804</td><td>Electroconvulsive therapy (ECT)</td><td>515777.0</td></tr><tr><td>null</td><td>190</td><td>General health check-ups</td><td>828872.0</td></tr><tr><td>null</td><td>510</td><td>Management of complex medical conditions</td><td>449306.0</td></tr><tr><td>null</td><td>889</td><td>LASIK eye surgery</td><td>167011.0</td></tr><tr><td>null</td><td>160</td><td>Cataract surgery</td><td>185675.0</td></tr><tr><td>null</td><td>626</td><td>Retinal surgery</td><td>859556.0</td></tr><tr><td>null</td><td>325</td><td>X-rays, CT scans, MRI scans</td><td>423459.0</td></tr><tr><td>null</td><td>134</td><td>Management of complex infections</td><td>761048.0</td></tr><tr><td>null</td><td>208</td><td>Allergy testing</td><td>497882.0</td></tr><tr><td>null</td><td>631</td><td>Allergy testing</td><td>740301.0</td></tr><tr><td>null</td><td>566</td><td>Comprehensive geriatric assessment</td><td>656471.0</td></tr><tr><td>null</td><td>450</td><td>Cataract surgery</td><td>390250.0</td></tr><tr><td>null</td><td>359</td><td>Dermatologic surgery</td><td>38141.0</td></tr><tr><td>null</td><td>104</td><td>Hemodynamic monitoring</td><td>676780.0</td></tr><tr><td>null</td><td>908</td><td>Dementia care</td><td>643347.0</td></tr><tr><td>null</td><td>779</td><td>Dialysis</td><td>303506.0</td></tr><tr><td>null</td><td>666</td><td>Plastic surgery</td><td>95966.0</td></tr><tr><td>null</td><td>849</td><td>General surgery</td><td>332209.0</td></tr><tr><td>null</td><td>307</td><td>Hemodynamic monitoring</td><td>250237.0</td></tr><tr><td>null</td><td>249</td><td>Epidural anesthesia for pain management</td><td>849723.0</td></tr><tr><td>null</td><td>789</td><td>Angioplasty and stent placement</td><td>964877.0</td></tr><tr><td>null</td><td>644</td><td>null</td><td>268483.0</td></tr><tr><td>null</td><td>724</td><td>Pediatric surgery</td><td>879224.0</td></tr><tr><td>null</td><td>864</td><td>Emotional and spiritual support</td><td>136434.0</td></tr><tr><td>null</td><td>692</td><td>General health check-ups</td><td>860765.0</td></tr><tr><td>null</td><td>841</td><td>Advanced cardiac life support</td><td>83716.0</td></tr><tr><td>null</td><td>985</td><td>Endoscopy</td><td>446723.0</td></tr><tr><td>null</td><td>533</td><td>Cosmetic procedures (e.g., Botox, fillers)</td><td>561665.0</td></tr><tr><td>null</td><td>920</td><td>Radiation therapy</td><td>974892.0</td></tr><tr><td>null</td><td>531</td><td>LASIK eye surgery</td><td>321906.0</td></tr><tr><td>null</td><td>292</td><td>Mechanical ventilation</td><td>780923.0</td></tr><tr><td>null</td><td>249</td><td>Interventional radiology procedures</td><td>961692.0</td></tr><tr><td>null</td><td>929</td><td>Psychotherapy</td><td>789026.0</td></tr><tr><td>null</td><td>721</td><td>Minor surgical procedures</td><td>100665.0</td></tr><tr><td>null</td><td>347</td><td>Intensive care management</td><td>479307.0</td></tr><tr><td>null</td><td>118</td><td>Chronic disease management</td><td>418597.0</td></tr><tr><td>null</td><td>557</td><td>Colonoscopy</td><td>108408.0</td></tr><tr><td>null</td><td>284</td><td>X-rays, CT scans, MRI scans</td><td>183486.0</td></tr><tr><td>null</td><td>467</td><td>Electroconvulsive therapy (ECT)</td><td>530463.0</td></tr><tr><td>null</td><td>396</td><td>Cochlear implant surgery</td><td>492242.0</td></tr><tr><td>null</td><td>918</td><td>Epidural anesthesia for pain management</td><td>700500.0</td></tr><tr><td>null</td><td>598</td><td>Advanced cardiac life support</td><td>230231.0</td></tr><tr><td>null</td><td>397</td><td>Endoscopy</td><td>240771.0</td></tr><tr><td>null</td><td>689</td><td>Pediatric surgery</td><td>742667.0</td></tr><tr><td>null</td><td>565</td><td>Bronchoscopy</td><td>71211.0</td></tr><tr><td>null</td><td>152</td><td>Insulin pump management for diabetes</td><td>317985.0</td></tr><tr><td>null</td><td>541</td><td>Symptom management for end-of-life care</td><td>473633.0</td></tr><tr><td>null</td><td>525</td><td>Hemodynamic monitoring</td><td>297615.0</td></tr><tr><td>null</td><td>427</td><td>Coronary artery bypass surgery</td><td>587672.0</td></tr><tr><td>null</td><td>865</td><td>Dermatologic surgery</td><td>834252.0</td></tr><tr><td>null</td><td>202</td><td>Trauma resuscitation</td><td>821302.0</td></tr><tr><td>null</td><td>863</td><td>Orthopedic surgery</td><td>171290.0</td></tr><tr><td>null</td><td>375</td><td>Lumbar puncture</td><td>537335.0</td></tr><tr><td>null</td><td>716</td><td>Hormone replacement therapy</td><td>24833.0</td></tr><tr><td>null</td><td>804</td><td>Intensive care management</td><td>773759.0</td></tr><tr><td>null</td><td>708</td><td>Insulin pump management for diabetes</td><td>733082.0</td></tr><tr><td>null</td><td>969</td><td>Cardiology:</td><td>625713.0</td></tr><tr><td>null</td><td>750</td><td>Epidural anesthesia for pain management</td><td>291227.0</td></tr><tr><td>null</td><td>116</td><td>Liver biopsy</td><td>599208.0</td></tr><tr><td>null</td><td>418</td><td>Cosmetic procedures (e.g., Botox, fillers)</td><td>426269.0</td></tr><tr><td>null</td><td>812</td><td>Emotional and spiritual support</td><td>346729.0</td></tr><tr><td>null</td><td>146</td><td>Immunotherapy (allergy shots)</td><td>36532.0</td></tr><tr><td>null</td><td>900</td><td>Dialysis</td><td>493552.0</td></tr><tr><td>null</td><td>182</td><td>Immunizations</td><td>306699.0</td></tr><tr><td>null</td><td>995</td><td>Insulin pump management for diabetes</td><td>389777.0</td></tr><tr><td>null</td><td>185</td><td>Emergency surgical procedures</td><td>134921.0</td></tr><tr><td>null</td><td>336</td><td>Pulmonary function tests</td><td>494270.0</td></tr><tr><td>null</td><td>342</td><td>General surgery</td><td>47619.0</td></tr><tr><td>null</td><td>131</td><td>Anesthetic care during childbirth</td><td>458455.0</td></tr><tr><td>null</td><td>407</td><td>Rhinoplasty</td><td>878717.0</td></tr><tr><td>null</td><td>956</td><td>MRI for brain imaging</td><td>715291.0</td></tr><tr><td>null</td><td>252</td><td>Psychotherapy</td><td>698103.0</td></tr><tr><td>null</td><td>694</td><td>Symptom management for end-of-life care</td><td>598206.0</td></tr><tr><td>null</td><td>742</td><td>Psychotherapy</td><td>314655.0</td></tr><tr><td>null</td><td>593</td><td>Cataract surgery</td><td>39971.0</td></tr><tr><td>null</td><td>950</td><td>Dermatologic surgery</td><td>854536.0</td></tr><tr><td>null</td><td>958</td><td>Surgical oncology</td><td>118150.0</td></tr><tr><td>null</td><td>444</td><td>Rhinoplasty</td><td>402316.0</td></tr><tr><td>null</td><td>359</td><td>Dementia care</td><td>977776.0</td></tr><tr><td>null</td><td>201</td><td>Mechanical ventilation</td><td>400717.0</td></tr><tr><td>null</td><td>134</td><td>Chronic disease management</td><td>354598.0</td></tr><tr><td>null</td><td>828</td><td>Emergency surgical procedures</td><td>562898.0</td></tr><tr><td>null</td><td>650</td><td>Tonsillectomy and adenoidectomy</td><td>691840.0</td></tr><tr><td>null</td><td>393</td><td>Radiation therapy</td><td>73477.0</td></tr><tr><td>null</td><td>151</td><td>X-rays, CT scans, MRI scans</td><td>50442.0</td></tr><tr><td>null</td><td>913</td><td>Coronary artery bypass surgery</td><td>461034.0</td></tr><tr><td>null</td><td>659</td><td>Immunotherapy (allergy shots)</td><td>348712.0</td></tr><tr><td>null</td><td>879</td><td>Emergency surgical procedures</td><td>985052.0</td></tr><tr><td>null</td><td>880</td><td>Psychotherapy</td><td>375887.0</td></tr><tr><td>null</td><td>589</td><td>Antibiotic therapy</td><td>394135.0</td></tr><tr><td>null</td><td>436</td><td>Ventilation support</td><td>176591.0</td></tr><tr><td>null</td><td>637</td><td>General health check-ups</td><td>465030.0</td></tr><tr><td>null</td><td>448</td><td>Insulin pump management for diabetes</td><td>383021.0</td></tr><tr><td>null</td><td>149</td><td>Epidural analgesia during labor</td><td>408676.0</td></tr><tr><td>null</td><td>339</td><td>Medication management</td><td>728999.0</td></tr><tr><td>null</td><td>457</td><td>Kidney transplant</td><td>158030.0</td></tr><tr><td>null</td><td>329</td><td>Pulmonary function tests</td><td>909175.0</td></tr><tr><td>null</td><td>635</td><td>Pacemaker implantation</td><td>641866.0</td></tr><tr><td>null</td><td>514</td><td>Immunizations</td><td>490692.0</td></tr><tr><td>null</td><td>750</td><td>Intensive care management</td><td>270346.0</td></tr><tr><td>null</td><td>718</td><td>Psychotherapy</td><td>195281.0</td></tr><tr><td>null</td><td>194</td><td>Hormone replacement therapy</td><td>871755.0</td></tr><tr><td>null</td><td>899</td><td>Tonsillectomy and adenoidectomy</td><td>695679.0</td></tr><tr><td>null</td><td>899</td><td>Ventilation support</td><td>342086.0</td></tr><tr><td>null</td><td>197</td><td>Bronchoscopy</td><td>837225.0</td></tr><tr><td>null</td><td>354</td><td>Comprehensive geriatric assessment</td><td>756533.0</td></tr><tr><td>null</td><td>966</td><td>Angioplasty and stent placement</td><td>503476.0</td></tr><tr><td>null</td><td>426</td><td>Interventional radiology procedures</td><td>209733.0</td></tr><tr><td>null</td><td>700</td><td>Comprehensive geriatric assessment</td><td>136473.0</td></tr><tr><td>null</td><td>409</td><td>Intensive care management</td><td>577907.0</td></tr><tr><td>null</td><td>618</td><td>Pacemaker implantation</td><td>408965.0</td></tr><tr><td>null</td><td>760</td><td>Interventional radiology procedures</td><td>898329.0</td></tr><tr><td>null</td><td>370</td><td>Dialysis</td><td>869051.0</td></tr><tr><td>null</td><td>531</td><td>Surgical oncology</td><td>607491.0</td></tr><tr><td>null</td><td>169</td><td>null</td><td>333347.0</td></tr><tr><td>null</td><td>723</td><td>Emotional and spiritual support</td><td>389474.0</td></tr><tr><td>null</td><td>829</td><td>General anesthesia for surgeries</td><td>453973.0</td></tr><tr><td>null</td><td>514</td><td>Cochlear implant surgery</td><td>666007.0</td></tr><tr><td>null</td><td>739</td><td>LASIK eye surgery</td><td>161985.0</td></tr><tr><td>null</td><td>588</td><td>null</td><td>713514.0</td></tr><tr><td>null</td><td>301</td><td>Minor surgical procedures</td><td>763077.0</td></tr><tr><td>null</td><td>305</td><td>Polypharmacy management</td><td>87017.0</td></tr><tr><td>null</td><td>652</td><td>null</td><td>163909.0</td></tr><tr><td>null</td><td>627</td><td>Surgical oncology</td><td>248585.0</td></tr><tr><td>null</td><td>869</td><td>Bronchoscopy</td><td>510525.0</td></tr><tr><td>null</td><td>608</td><td>Intensive care management</td><td>399227.0</td></tr><tr><td>null</td><td>453</td><td>Dialysis</td><td>74295.0</td></tr><tr><td>null</td><td>801</td><td>Immunotherapy (allergy shots)</td><td>848216.0</td></tr><tr><td>null</td><td>636</td><td>Pulmonary function tests</td><td>944293.0</td></tr><tr><td>null</td><td>622</td><td>Ventilation support</td><td>42630.0</td></tr><tr><td>null</td><td>257</td><td>Emotional and spiritual support</td><td>429014.0</td></tr><tr><td>null</td><td>968</td><td>Chemotherapy</td><td>58495.0</td></tr><tr><td>null</td><td>421</td><td>Immunizations</td><td>355657.0</td></tr><tr><td>null</td><td>110</td><td>Orthopedic surgery</td><td>33328.0</td></tr><tr><td>null</td><td>850</td><td>Epidural anesthesia for pain management</td><td>11836.0</td></tr><tr><td>null</td><td>296</td><td>Insulin pump management for diabetes</td><td>605489.0</td></tr><tr><td>null</td><td>196</td><td>Insulin pump management for diabetes</td><td>508443.0</td></tr><tr><td>null</td><td>506</td><td>Electroconvulsive therapy (ECT)</td><td>146828.0</td></tr><tr><td>null</td><td>767</td><td>Plastic surgery</td><td>532627.0</td></tr><tr><td>null</td><td>788</td><td>Epidural anesthesia for pain management</td><td>852918.0</td></tr><tr><td>null</td><td>686</td><td>Insulin pump management for diabetes</td><td>182726.0</td></tr><tr><td>null</td><td>196</td><td>Hormone replacement therapy</td><td>650302.0</td></tr><tr><td>null</td><td>986</td><td>Management of complex infections</td><td>542178.0</td></tr><tr><td>null</td><td>336</td><td>Emotional and spiritual support</td><td>959391.0</td></tr><tr><td>null</td><td>619</td><td>Management of complex infections</td><td>458642.0</td></tr><tr><td>null</td><td>920</td><td>Electroconvulsive therapy (ECT)</td><td>402235.0</td></tr><tr><td>null</td><td>582</td><td>Epidural analgesia during labor</td><td>550867.0</td></tr><tr><td>null</td><td>713</td><td>Pediatric surgery</td><td>895420.0</td></tr><tr><td>null</td><td>902</td><td>Dermatologic surgery</td><td>194658.0</td></tr><tr><td>null</td><td>527</td><td>Surgical oncology</td><td>116725.0</td></tr><tr><td>null</td><td>384</td><td>Pacemaker implantation</td><td>690648.0</td></tr><tr><td>null</td><td>651</td><td>Liver biopsy</td><td>635270.0</td></tr><tr><td>null</td><td>350</td><td>LASIK eye surgery</td><td>776923.0</td></tr><tr><td>null</td><td>113</td><td>Symptom management for end-of-life care</td><td>669516.0</td></tr><tr><td>null</td><td>667</td><td>Dermatologic surgery</td><td>582613.0</td></tr><tr><td>null</td><td>373</td><td>Ventilation support</td><td>307213.0</td></tr><tr><td>null</td><td>411</td><td>Cardiology:</td><td>363996.0</td></tr><tr><td>null</td><td>146</td><td>Allergy testing</td><td>129040.0</td></tr><tr><td>null</td><td>923</td><td>Chronic disease management</td><td>345180.0</td></tr><tr><td>null</td><td>218</td><td>null</td><td>771848.0</td></tr><tr><td>null</td><td>205</td><td>Epidural analgesia during labor</td><td>121028.0</td></tr><tr><td>null</td><td>974</td><td>Laser therapy for skin conditions</td><td>750392.0</td></tr><tr><td>null</td><td>307</td><td>Thyroid biopsy</td><td>757391.0</td></tr><tr><td>null</td><td>790</td><td>Bronchoscopy</td><td>654268.0</td></tr><tr><td>null</td><td>992</td><td>Ventilation support</td><td>24611.0</td></tr><tr><td>null</td><td>762</td><td>X-rays, CT scans, MRI scans</td><td>60813.0</td></tr><tr><td>null</td><td>413</td><td>Hormone replacement therapy</td><td>946856.0</td></tr><tr><td>null</td><td>405</td><td>Pacemaker implantation</td><td>723767.0</td></tr><tr><td>null</td><td>314</td><td>Medication management</td><td>372518.0</td></tr><tr><td>null</td><td>834</td><td>Cataract surgery</td><td>41654.0</td></tr><tr><td>null</td><td>124</td><td>Orthopedic surgery</td><td>416167.0</td></tr><tr><td>null</td><td>431</td><td>Bronchoscopy</td><td>39206.0</td></tr><tr><td>null</td><td>555</td><td>Plastic surgery</td><td>392919.0</td></tr><tr><td>null</td><td>283</td><td>Interventional radiology procedures</td><td>798821.0</td></tr><tr><td>null</td><td>709</td><td>Intensive care management</td><td>32931.0</td></tr><tr><td>null</td><td>744</td><td>Emergency surgical procedures</td><td>584326.0</td></tr><tr><td>null</td><td>483</td><td>Internal medicine consultations</td><td>657933.0</td></tr><tr><td>null</td><td>171</td><td>Bronchoscopy</td><td>41842.0</td></tr><tr><td>null</td><td>567</td><td>Intensive care management</td><td>932081.0</td></tr><tr><td>null</td><td>812</td><td>Angioplasty and stent placement</td><td>91710.0</td></tr><tr><td>null</td><td>182</td><td>Kidney transplant</td><td>833547.0</td></tr><tr><td>null</td><td>391</td><td>LASIK eye surgery</td><td>989548.0</td></tr><tr><td>null</td><td>803</td><td>Medication management</td><td>384096.0</td></tr><tr><td>null</td><td>119</td><td>Chronic disease management</td><td>961653.0</td></tr><tr><td>null</td><td>306</td><td>Comprehensive geriatric assessment</td><td>333274.0</td></tr><tr><td>null</td><td>770</td><td>Chronic disease management</td><td>345876.0</td></tr><tr><td>null</td><td>900</td><td>Laser therapy for skin conditions</td><td>585170.0</td></tr><tr><td>null</td><td>515</td><td>MRI for brain imaging</td><td>199737.0</td></tr><tr><td>null</td><td>929</td><td>Dermatologic surgery</td><td>549511.0</td></tr><tr><td>null</td><td>679</td><td>Management of complex infections</td><td>211599.0</td></tr><tr><td>null</td><td>356</td><td>Immunizations</td><td>405110.0</td></tr><tr><td>null</td><td>671</td><td>General health check-ups</td><td>250318.0</td></tr><tr><td>null</td><td>901</td><td>Radiation therapy</td><td>203010.0</td></tr><tr><td>null</td><td>121</td><td>Laser therapy for skin conditions</td><td>114657.0</td></tr><tr><td>null</td><td>471</td><td>Dermatologic surgery</td><td>379798.0</td></tr><tr><td>null</td><td>854</td><td>Liver biopsy</td><td>478910.0</td></tr><tr><td>null</td><td>808</td><td>Emotional and spiritual support</td><td>775636.0</td></tr><tr><td>null</td><td>759</td><td>Minor surgical procedures</td><td>470735.0</td></tr><tr><td>null</td><td>643</td><td>Cosmetic procedures (e.g., Botox, fillers)</td><td>142608.0</td></tr><tr><td>null</td><td>751</td><td>Hemodynamic monitoring</td><td>259585.0</td></tr><tr><td>null</td><td>733</td><td>Trauma resuscitation</td><td>995034.0</td></tr><tr><td>null</td><td>821</td><td>Nephrectomy</td><td>38172.0</td></tr><tr><td>null</td><td>431</td><td>Internal medicine consultations</td><td>545409.0</td></tr><tr><td>null</td><td>664</td><td>Psychotherapy</td><td>44177.0</td></tr><tr><td>null</td><td>563</td><td>Immunizations</td><td>464617.0</td></tr><tr><td>null</td><td>353</td><td>LASIK eye surgery</td><td>963240.0</td></tr><tr><td>null</td><td>649</td><td>Bronchoscopy</td><td>683297.0</td></tr><tr><td>null</td><td>808</td><td>Electroconvulsive therapy (ECT)</td><td>395938.0</td></tr><tr><td>null</td><td>520</td><td>Endoscopy</td><td>923677.0</td></tr><tr><td>null</td><td>778</td><td>Thyroid biopsy</td><td>362028.0</td></tr><tr><td>null</td><td>662</td><td>Angioplasty and stent placement</td><td>309466.0</td></tr><tr><td>null</td><td>147</td><td>Cardiology:</td><td>494217.0</td></tr><tr><td>null</td><td>410</td><td>Ventilation support</td><td>998106.0</td></tr><tr><td>null</td><td>635</td><td>Chronic disease management</td><td>728026.0</td></tr><tr><td>null</td><td>938</td><td>Dermatologic surgery</td><td>120179.0</td></tr><tr><td>null</td><td>488</td><td>General health check-ups</td><td>978590.0</td></tr><tr><td>null</td><td>231</td><td>Angioplasty and stent placement</td><td>443093.0</td></tr><tr><td>null</td><td>272</td><td>Dementia care</td><td>930438.0</td></tr><tr><td>null</td><td>600</td><td>Insulin pump management for diabetes</td><td>857895.0</td></tr><tr><td>null</td><td>814</td><td>Chronic disease management</td><td>145410.0</td></tr><tr><td>null</td><td>723</td><td>Hemodynamic monitoring</td><td>539646.0</td></tr><tr><td>null</td><td>488</td><td>Allergy testing</td><td>728165.0</td></tr><tr><td>null</td><td>286</td><td>General anesthesia for surgeries</td><td>438263.0</td></tr><tr><td>null</td><td>647</td><td>Dermatologic surgery</td><td>575431.0</td></tr><tr><td>null</td><td>733</td><td>Surgical oncology</td><td>751585.0</td></tr><tr><td>null</td><td>971</td><td>General anesthesia for surgeries</td><td>60803.0</td></tr><tr><td>null</td><td>462</td><td>Advanced cardiac life support</td><td>614806.0</td></tr><tr><td>null</td><td>735</td><td>X-rays, CT scans, MRI scans</td><td>109954.0</td></tr><tr><td>null</td><td>453</td><td>Thyroid biopsy</td><td>660595.0</td></tr><tr><td>null</td><td>797</td><td>Allergy testing</td><td>600877.0</td></tr><tr><td>null</td><td>843</td><td>Sedation for minor procedures</td><td>48292.0</td></tr><tr><td>null</td><td>140</td><td>Sedation for minor procedures</td><td>110145.0</td></tr><tr><td>null</td><td>837</td><td>Rhinoplasty</td><td>547703.0</td></tr><tr><td>null</td><td>888</td><td>Management of complex infections</td><td>821747.0</td></tr><tr><td>null</td><td>843</td><td>Hormone replacement therapy</td><td>95843.0</td></tr><tr><td>null</td><td>230</td><td>Kidney transplant</td><td>486116.0</td></tr><tr><td>null</td><td>902</td><td>Kidney transplant</td><td>952283.0</td></tr><tr><td>null</td><td>175</td><td>Medication management</td><td>352199.0</td></tr><tr><td>null</td><td>212</td><td>Mechanical ventilation</td><td>592444.0</td></tr><tr><td>null</td><td>979</td><td>Cochlear implant surgery</td><td>348267.0</td></tr><tr><td>null</td><td>376</td><td>Trauma resuscitation</td><td>316200.0</td></tr><tr><td>null</td><td>333</td><td>Allergy testing</td><td>477335.0</td></tr><tr><td>null</td><td>267</td><td>Management of complex infections</td><td>918079.0</td></tr><tr><td>null</td><td>880</td><td>Mechanical ventilation</td><td>632888.0</td></tr><tr><td>null</td><td>252</td><td>Management of complex infections</td><td>19274.0</td></tr><tr><td>null</td><td>869</td><td>Advanced cardiac life support</td><td>915672.0</td></tr><tr><td>null</td><td>152</td><td>Insulin pump management for diabetes</td><td>104594.0</td></tr><tr><td>null</td><td>1000</td><td>Rhinoplasty</td><td>639461.0</td></tr><tr><td>null</td><td>832</td><td>Psychotherapy</td><td>458149.0</td></tr><tr><td>null</td><td>960</td><td>Advanced cardiac life support</td><td>748104.0</td></tr><tr><td>null</td><td>480</td><td>Coronary artery bypass surgery</td><td>714118.0</td></tr><tr><td>null</td><td>205</td><td>Dermatologic surgery</td><td>674041.0</td></tr><tr><td>null</td><td>879</td><td>LASIK eye surgery</td><td>566544.0</td></tr><tr><td>null</td><td>639</td><td>Epidural anesthesia for pain management</td><td>812712.0</td></tr><tr><td>null</td><td>857</td><td>Chronic disease management</td><td>562650.0</td></tr><tr><td>null</td><td>173</td><td>Plastic surgery</td><td>848696.0</td></tr><tr><td>null</td><td>657</td><td>General surgery</td><td>619728.0</td></tr><tr><td>null</td><td>181</td><td>Retinal surgery</td><td>377936.0</td></tr><tr><td>null</td><td>245</td><td>Minor surgical procedures</td><td>239815.0</td></tr><tr><td>null</td><td>557</td><td>Ventilation support</td><td>238749.0</td></tr><tr><td>null</td><td>459</td><td>Emergency surgical procedures</td><td>896873.0</td></tr><tr><td>null</td><td>733</td><td>Epidural analgesia during labor</td><td>568320.0</td></tr><tr><td>null</td><td>197</td><td>Chronic disease management</td><td>919865.0</td></tr><tr><td>null</td><td>155</td><td>Allergy testing</td><td>520455.0</td></tr><tr><td>null</td><td>312</td><td>Pulmonary function tests</td><td>985602.0</td></tr><tr><td>null</td><td>555</td><td>Management of complex medical conditions</td><td>612938.0</td></tr><tr><td>null</td><td>664</td><td>Well-child check-ups</td><td>26117.0</td></tr><tr><td>null</td><td>849</td><td>General surgery</td><td>68004.0</td></tr><tr><td>null</td><td>713</td><td>Kidney transplant</td><td>92094.0</td></tr><tr><td>null</td><td>962</td><td>Advanced cardiac life support</td><td>754556.0</td></tr><tr><td>null</td><td>972</td><td>Colonoscopy</td><td>781673.0</td></tr><tr><td>null</td><td>141</td><td>Advanced cardiac life support</td><td>627535.0</td></tr><tr><td>null</td><td>110</td><td>Cardiology:</td><td>308067.0</td></tr><tr><td>null</td><td>285</td><td>Cochlear implant surgery</td><td>589274.0</td></tr><tr><td>null</td><td>693</td><td>Comprehensive geriatric assessment</td><td>631270.0</td></tr><tr><td>null</td><td>563</td><td>Hemodynamic monitoring</td><td>208261.0</td></tr><tr><td>null</td><td>535</td><td>Pediatric surgery</td><td>836470.0</td></tr><tr><td>null</td><td>597</td><td>Hemodynamic monitoring</td><td>299671.0</td></tr><tr><td>null</td><td>496</td><td>Nephrectomy</td><td>929242.0</td></tr><tr><td>null</td><td>334</td><td>Thyroid biopsy</td><td>394584.0</td></tr><tr><td>null</td><td>536</td><td>General anesthesia for surgeries</td><td>767025.0</td></tr><tr><td>null</td><td>986</td><td>Sedation for minor procedures</td><td>925988.0</td></tr><tr><td>null</td><td>416</td><td>Bronchoscopy</td><td>458514.0</td></tr><tr><td>null</td><td>892</td><td>Laser therapy for skin conditions</td><td>443874.0</td></tr><tr><td>null</td><td>952</td><td>Trauma resuscitation</td><td>682613.0</td></tr><tr><td>null</td><td>218</td><td>Lumbar puncture</td><td>67022.0</td></tr><tr><td>null</td><td>971</td><td>Hemodynamic monitoring</td><td>697675.0</td></tr><tr><td>null</td><td>348</td><td>Retinal surgery</td><td>551621.0</td></tr><tr><td>null</td><td>193</td><td>General health check-ups</td><td>848373.0</td></tr><tr><td>null</td><td>573</td><td>Epidural anesthesia for pain management</td><td>219087.0</td></tr><tr><td>null</td><td>458</td><td>Cataract surgery</td><td>793542.0</td></tr><tr><td>null</td><td>242</td><td>Laser therapy for skin conditions</td><td>565746.0</td></tr><tr><td>null</td><td>600</td><td>Orthopedic surgery</td><td>435633.0</td></tr><tr><td>null</td><td>175</td><td>Immunotherapy (allergy shots)</td><td>569769.0</td></tr><tr><td>null</td><td>266</td><td>Sedation for minor procedures</td><td>761099.0</td></tr><tr><td>null</td><td>717</td><td>Epidural analgesia during labor</td><td>349500.0</td></tr><tr><td>null</td><td>191</td><td>Radiation therapy</td><td>558902.0</td></tr><tr><td>null</td><td>530</td><td>Medication management</td><td>850523.0</td></tr><tr><td>null</td><td>610</td><td>Symptom management for end-of-life care</td><td>351723.0</td></tr><tr><td>null</td><td>373</td><td>Mechanical ventilation</td><td>707696.0</td></tr><tr><td>null</td><td>559</td><td>Rhinoplasty</td><td>52625.0</td></tr><tr><td>null</td><td>428</td><td>Cochlear implant surgery</td><td>655511.0</td></tr><tr><td>null</td><td>222</td><td>Psychotherapy</td><td>368435.0</td></tr><tr><td>null</td><td>198</td><td>Symptom management for end-of-life care</td><td>396549.0</td></tr><tr><td>null</td><td>179</td><td>Advanced cardiac life support</td><td>794440.0</td></tr><tr><td>null</td><td>252</td><td>Electroconvulsive therapy (ECT)</td><td>25133.0</td></tr><tr><td>null</td><td>272</td><td>Immunizations</td><td>201836.0</td></tr><tr><td>null</td><td>371</td><td>Sedation for minor procedures</td><td>472275.0</td></tr><tr><td>null</td><td>904</td><td>Laser therapy for skin conditions</td><td>965212.0</td></tr><tr><td>null</td><td>195</td><td>Emotional and spiritual support</td><td>950461.0</td></tr><tr><td>null</td><td>634</td><td>Immunizations</td><td>45782.0</td></tr><tr><td>null</td><td>871</td><td>Pacemaker implantation</td><td>366293.0</td></tr><tr><td>null</td><td>696</td><td>LASIK eye surgery</td><td>408017.0</td></tr><tr><td>null</td><td>117</td><td>Cochlear implant surgery</td><td>639310.0</td></tr><tr><td>null</td><td>698</td><td>Medication management</td><td>785130.0</td></tr><tr><td>null</td><td>851</td><td>Immunizations</td><td>967709.0</td></tr><tr><td>null</td><td>562</td><td>Pulmonary function tests</td><td>884305.0</td></tr><tr><td>null</td><td>854</td><td>Thyroid biopsy</td><td>410465.0</td></tr><tr><td>null</td><td>245</td><td>Bronchoscopy</td><td>55055.0</td></tr><tr><td>null</td><td>770</td><td>Intensive care management</td><td>279497.0</td></tr><tr><td>null</td><td>941</td><td>Chronic disease management</td><td>505123.0</td></tr><tr><td>null</td><td>365</td><td>General anesthesia for surgeries</td><td>457946.0</td></tr><tr><td>null</td><td>651</td><td>Pacemaker implantation</td><td>702692.0</td></tr><tr><td>null</td><td>434</td><td>Radiation therapy</td><td>914950.0</td></tr><tr><td>null</td><td>883</td><td>Surgical oncology</td><td>218009.0</td></tr><tr><td>null</td><td>112</td><td>Chronic disease management</td><td>975444.0</td></tr></tbody></table></div>"
      ]
     },
     "metadata": {
      "application/vnd.databricks.v1+output": {
       "addedWidgets": {},
       "aggData": [],
       "aggError": "",
       "aggOverflow": false,
       "aggSchema": [],
       "aggSeriesLimitReached": false,
       "aggType": "",
       "arguments": {},
       "columnCustomDisplayInfos": {},
       "data": [
        [
         null,
         894,
         "Immunizations",
         956065
        ],
        [
         null,
         448,
         "Cataract surgery",
         188997
        ],
        [
         null,
         618,
         "Pediatric surgery",
         524091
        ],
        [
         null,
         117,
         "Rhinoplasty",
         901393
        ],
        [
         null,
         374,
         "Antibiotic therapy",
         448957
        ],
        [
         null,
         852,
         "Emergency surgical procedures",
         869041
        ],
        [
         null,
         834,
         "Pediatric surgery",
         492022
        ],
        [
         null,
         140,
         "Hemodynamic monitoring",
         644410
        ],
        [
         null,
         459,
         "Emergency surgical procedures",
         295907
        ],
        [
         null,
         734,
         "Immunotherapy (allergy shots)",
         766908
        ],
        [
         null,
         261,
         "Cochlear implant surgery",
         108949
        ],
        [
         null,
         166,
         "Chemotherapy",
         750380
        ],
        [
         null,
         545,
         "Nephrectomy",
         665629
        ],
        [
         null,
         776,
         "Pediatric surgery",
         764479
        ],
        [
         null,
         448,
         "Chronic disease management",
         190397
        ],
        [
         null,
         230,
         "Bronchoscopy",
         704129
        ],
        [
         null,
         582,
         "Lumbar puncture",
         179636
        ],
        [
         null,
         136,
         "Trauma resuscitation",
         35845
        ],
        [
         null,
         384,
         "Well-child check-ups",
         567942
        ],
        [
         null,
         619,
         "Retinal surgery",
         883238
        ],
        [
         null,
         141,
         "Angioplasty and stent placement",
         666508
        ],
        [
         null,
         617,
         "Orthopedic surgery",
         296067
        ],
        [
         null,
         611,
         "Colonoscopy",
         262153
        ],
        [
         null,
         744,
         "Orthopedic surgery",
         749548
        ],
        [
         null,
         526,
         "Pulmonary function tests",
         552989
        ],
        [
         null,
         711,
         "Hemodynamic monitoring",
         955371
        ],
        [
         null,
         210,
         "Dermatologic surgery",
         991256
        ],
        [
         null,
         570,
         "Tonsillectomy and adenoidectomy",
         884277
        ],
        [
         null,
         261,
         "Endoscopy",
         905728
        ],
        [
         null,
         201,
         "Immunotherapy (allergy shots)",
         715311
        ],
        [
         null,
         730,
         "Anesthetic care during childbirth",
         388002
        ],
        [
         null,
         418,
         "Emotional and spiritual support",
         103848
        ],
        [
         null,
         379,
         "Hormone replacement therapy",
         356212
        ],
        [
         null,
         971,
         "Surgical oncology",
         192687
        ],
        [
         null,
         609,
         "Bronchoscopy",
         607358
        ],
        [
         null,
         791,
         "Coronary artery bypass surgery",
         321628
        ],
        [
         null,
         562,
         "General anesthesia for surgeries",
         607507
        ],
        [
         null,
         421,
         "Surgical oncology",
         962869
        ],
        [
         null,
         215,
         "Rhinoplasty",
         954389
        ],
        [
         null,
         348,
         "Pacemaker implantation",
         552675
        ],
        [
         null,
         389,
         "Surgical oncology",
         450473
        ],
        [
         null,
         681,
         "Liver biopsy",
         693542
        ],
        [
         null,
         801,
         "Nephrectomy",
         650987
        ],
        [
         null,
         880,
         "Plastic surgery",
         75844
        ],
        [
         null,
         352,
         "Cochlear implant surgery",
         476800
        ],
        [
         null,
         227,
         "Coronary artery bypass surgery",
         262975
        ],
        [
         null,
         528,
         "Minor surgical procedures",
         910472
        ],
        [
         null,
         295,
         "General anesthesia for surgeries",
         282554
        ],
        [
         null,
         990,
         "Thyroid biopsy",
         424540
        ],
        [
         null,
         660,
         "Lumbar puncture",
         416180
        ],
        [
         null,
         493,
         "Immunotherapy (allergy shots)",
         722562
        ],
        [
         null,
         242,
         "Insulin pump management for diabetes",
         720623
        ],
        [
         null,
         834,
         "Liver biopsy",
         98221
        ],
        [
         null,
         906,
         "MRI for brain imaging",
         985403
        ],
        [
         null,
         708,
         "Chemotherapy",
         234572
        ],
        [
         null,
         692,
         "Retinal surgery",
         870314
        ],
        [
         null,
         766,
         "Dermatologic surgery",
         580361
        ],
        [
         null,
         356,
         "Sedation for minor procedures",
         928305
        ],
        [
         null,
         724,
         "Dialysis",
         900844
        ],
        [
         null,
         238,
         "Cosmetic procedures (e.g., Botox, fillers)",
         450981
        ],
        [
         null,
         120,
         "Management of complex medical conditions",
         809324
        ],
        [
         null,
         733,
         "General anesthesia for surgeries",
         649728
        ],
        [
         null,
         940,
         "Anesthetic care during childbirth",
         63245
        ],
        [
         null,
         491,
         "Chemotherapy",
         298822
        ],
        [
         null,
         994,
         "EEG (Electroencephalogram)",
         900365
        ],
        [
         null,
         415,
         "Medication management",
         828141
        ],
        [
         null,
         481,
         "Chemotherapy",
         801876
        ],
        [
         null,
         899,
         "Psychotherapy",
         91102
        ],
        [
         null,
         245,
         "Colonoscopy",
         764617
        ],
        [
         null,
         877,
         "Insulin pump management for diabetes",
         688334
        ],
        [
         null,
         959,
         "Chemotherapy",
         154402
        ],
        [
         null,
         575,
         "Cochlear implant surgery",
         626748
        ],
        [
         null,
         498,
         "Pediatric surgery",
         692480
        ],
        [
         null,
         715,
         "Chemotherapy",
         515834
        ],
        [
         null,
         905,
         "Orthopedic surgery",
         473353
        ],
        [
         null,
         725,
         "Intensive care management",
         867765
        ],
        [
         null,
         963,
         "Minor surgical procedures",
         876578
        ],
        [
         null,
         876,
         "Intensive care management",
         309808
        ],
        [
         null,
         103,
         "Nephrectomy",
         203301
        ],
        [
         null,
         839,
         "Electroconvulsive therapy (ECT)",
         156466
        ],
        [
         null,
         411,
         "EEG (Electroencephalogram)",
         902529
        ],
        [
         null,
         469,
         "Liver biopsy",
         366652
        ],
        [
         null,
         533,
         null,
         219005
        ],
        [
         null,
         940,
         "Retinal surgery",
         615537
        ],
        [
         null,
         441,
         "Chronic disease management",
         423463
        ],
        [
         null,
         793,
         "Internal medicine consultations",
         280282
        ],
        [
         null,
         635,
         "Interventional radiology procedures",
         924473
        ],
        [
         null,
         493,
         "General health check-ups",
         381767
        ],
        [
         null,
         859,
         "Symptom management for end-of-life care",
         450744
        ],
        [
         null,
         253,
         "Management of complex infections",
         632840
        ],
        [
         null,
         368,
         "Cardiology:",
         689203
        ],
        [
         null,
         929,
         "Cochlear implant surgery",
         276991
        ],
        [
         null,
         952,
         "Polypharmacy management",
         405744
        ],
        [
         null,
         951,
         "Epidural analgesia during labor",
         332061
        ],
        [
         null,
         929,
         "Symptom management for end-of-life care",
         25537
        ],
        [
         null,
         546,
         "Allergy testing",
         226964
        ],
        [
         null,
         480,
         "Rhinoplasty",
         278389
        ],
        [
         null,
         474,
         "General surgery",
         545638
        ],
        [
         null,
         685,
         "Advanced cardiac life support",
         895531
        ],
        [
         null,
         188,
         "Insulin pump management for diabetes",
         655839
        ],
        [
         null,
         220,
         "Coronary artery bypass surgery",
         585434
        ],
        [
         null,
         620,
         "General surgery",
         793561
        ],
        [
         null,
         208,
         "General health check-ups",
         765894
        ],
        [
         null,
         899,
         "Dementia care",
         924083
        ],
        [
         null,
         525,
         "Epidural analgesia during labor",
         383809
        ],
        [
         null,
         353,
         "Epidural analgesia during labor",
         220815
        ],
        [
         null,
         515,
         "Surgical oncology",
         386388
        ],
        [
         null,
         106,
         "Electroconvulsive therapy (ECT)",
         319541
        ],
        [
         null,
         904,
         "Allergy testing",
         948140
        ],
        [
         null,
         218,
         null,
         239334
        ],
        [
         null,
         674,
         "Chemotherapy",
         821103
        ],
        [
         null,
         402,
         "Well-child check-ups",
         864650
        ],
        [
         null,
         253,
         "Psychotherapy",
         49621
        ],
        [
         null,
         344,
         "Thyroid biopsy",
         729350
        ],
        [
         null,
         368,
         "Chronic disease management",
         887604
        ],
        [
         null,
         399,
         "LASIK eye surgery",
         244141
        ],
        [
         null,
         787,
         "Bronchoscopy",
         888730
        ],
        [
         null,
         730,
         "Epidural analgesia during labor",
         305293
        ],
        [
         null,
         978,
         "Symptom management for end-of-life care",
         470905
        ],
        [
         null,
         888,
         "Pediatric surgery",
         996843
        ],
        [
         null,
         932,
         "Internal medicine consultations",
         781027
        ],
        [
         null,
         131,
         "Internal medicine consultations",
         97304
        ],
        [
         null,
         604,
         "General health check-ups",
         42169
        ],
        [
         null,
         435,
         "Allergy testing",
         540435
        ],
        [
         null,
         915,
         null,
         413376
        ],
        [
         null,
         122,
         "Pediatric surgery",
         468251
        ],
        [
         null,
         730,
         "Internal medicine consultations",
         46847
        ],
        [
         null,
         277,
         "Colonoscopy",
         312611
        ],
        [
         null,
         789,
         "Insulin pump management for diabetes",
         575756
        ],
        [
         null,
         376,
         "Internal medicine consultations",
         148326
        ],
        [
         null,
         712,
         "General surgery",
         366347
        ],
        [
         null,
         570,
         "Pediatric surgery",
         615284
        ],
        [
         null,
         848,
         "Antibiotic therapy",
         508208
        ],
        [
         null,
         490,
         "Electroconvulsive therapy (ECT)",
         873461
        ],
        [
         null,
         535,
         "Pediatric surgery",
         156161
        ],
        [
         null,
         198,
         "Colonoscopy",
         416538
        ],
        [
         null,
         470,
         "Advanced cardiac life support",
         424080
        ],
        [
         null,
         440,
         "General surgery",
         760289
        ],
        [
         null,
         779,
         "Well-child check-ups",
         569888
        ],
        [
         null,
         679,
         "Anesthetic care during childbirth",
         469669
        ],
        [
         null,
         783,
         "Medication management",
         750662
        ],
        [
         null,
         852,
         "Pulmonary function tests",
         951438
        ],
        [
         null,
         967,
         "Rhinoplasty",
         384254
        ],
        [
         null,
         526,
         "Rhinoplasty",
         133562
        ],
        [
         null,
         757,
         "Sedation for minor procedures",
         948642
        ],
        [
         null,
         103,
         "General anesthesia for surgeries",
         941657
        ],
        [
         null,
         733,
         "Medication management",
         166012
        ],
        [
         null,
         926,
         "Laser therapy for skin conditions",
         953783
        ],
        [
         null,
         437,
         "Polypharmacy management",
         409394
        ],
        [
         null,
         519,
         "Cosmetic procedures (e.g., Botox, fillers)",
         642717
        ],
        [
         null,
         633,
         "Hormone replacement therapy",
         454678
        ],
        [
         null,
         482,
         "Antibiotic therapy",
         477578
        ],
        [
         null,
         866,
         "Dialysis",
         893710
        ],
        [
         null,
         371,
         "Management of complex medical conditions",
         16114
        ],
        [
         null,
         379,
         "Hemodynamic monitoring",
         592511
        ],
        [
         null,
         880,
         "Tonsillectomy and adenoidectomy",
         247308
        ],
        [
         null,
         574,
         null,
         331820
        ],
        [
         null,
         422,
         "Interventional radiology procedures",
         815557
        ],
        [
         null,
         510,
         "MRI for brain imaging",
         282519
        ],
        [
         null,
         817,
         "Insulin pump management for diabetes",
         460464
        ],
        [
         null,
         774,
         "Emergency surgical procedures",
         209903
        ],
        [
         null,
         248,
         "Mechanical ventilation",
         723691
        ],
        [
         null,
         977,
         "Lumbar puncture",
         346690
        ],
        [
         null,
         451,
         "Chemotherapy",
         153618
        ],
        [
         null,
         605,
         "Insulin pump management for diabetes",
         49414
        ],
        [
         null,
         375,
         "Tonsillectomy and adenoidectomy",
         153283
        ],
        [
         null,
         232,
         "Angioplasty and stent placement",
         682887
        ],
        [
         null,
         260,
         "Epidural analgesia during labor",
         903256
        ],
        [
         null,
         225,
         "Advanced cardiac life support",
         395603
        ],
        [
         null,
         116,
         "Angioplasty and stent placement",
         786064
        ],
        [
         null,
         463,
         "Tonsillectomy and adenoidectomy",
         432009
        ],
        [
         null,
         584,
         "Kidney transplant",
         151978
        ],
        [
         null,
         882,
         "Radiation therapy",
         654032
        ],
        [
         null,
         438,
         "Insulin pump management for diabetes",
         835261
        ],
        [
         null,
         438,
         null,
         499716
        ],
        [
         null,
         669,
         "Psychotherapy",
         144064
        ],
        [
         null,
         211,
         "Radiation therapy",
         771276
        ],
        [
         null,
         347,
         "Trauma resuscitation",
         413952
        ],
        [
         null,
         416,
         "Angioplasty and stent placement",
         984498
        ],
        [
         null,
         815,
         "Emotional and spiritual support",
         394358
        ],
        [
         null,
         674,
         "Chemotherapy",
         711179
        ],
        [
         null,
         745,
         "Chemotherapy",
         577282
        ],
        [
         null,
         869,
         "Sedation for minor procedures",
         514863
        ],
        [
         null,
         584,
         "Trauma resuscitation",
         959064
        ],
        [
         null,
         762,
         "General surgery",
         568290
        ],
        [
         null,
         971,
         "Endoscopy",
         81330
        ],
        [
         null,
         896,
         "Cosmetic procedures (e.g., Botox, fillers)",
         382492
        ],
        [
         null,
         784,
         "Immunotherapy (allergy shots)",
         340127
        ],
        [
         null,
         111,
         "Emergency surgical procedures",
         431618
        ],
        [
         null,
         938,
         "Mechanical ventilation",
         77621
        ],
        [
         null,
         387,
         "Interventional radiology procedures",
         45792
        ],
        [
         null,
         300,
         "Immunizations",
         417044
        ],
        [
         null,
         221,
         "Pulmonary function tests",
         327902
        ],
        [
         null,
         625,
         "Rhinoplasty",
         247936
        ],
        [
         null,
         730,
         "Polypharmacy management",
         824555
        ],
        [
         null,
         553,
         "Antibiotic therapy",
         144746
        ],
        [
         null,
         285,
         "Coronary artery bypass surgery",
         599162
        ],
        [
         null,
         693,
         "General anesthesia for surgeries",
         155419
        ],
        [
         null,
         668,
         "Sedation for minor procedures",
         537831
        ],
        [
         null,
         441,
         "Symptom management for end-of-life care",
         302640
        ],
        [
         null,
         353,
         "Intensive care management",
         654548
        ],
        [
         null,
         595,
         "Immunizations",
         470194
        ],
        [
         null,
         514,
         "Comprehensive geriatric assessment",
         844791
        ],
        [
         null,
         777,
         "Dementia care",
         175417
        ],
        [
         null,
         766,
         "Liver biopsy",
         152609
        ],
        [
         null,
         985,
         "Kidney transplant",
         621978
        ],
        [
         null,
         854,
         "Pacemaker implantation",
         465336
        ],
        [
         null,
         712,
         "Sedation for minor procedures",
         538956
        ],
        [
         null,
         174,
         "Colonoscopy",
         314854
        ],
        [
         null,
         802,
         "Interventional radiology procedures",
         676614
        ],
        [
         null,
         160,
         "Epidural anesthesia for pain management",
         129839
        ],
        [
         null,
         964,
         "Dermatologic surgery",
         379606
        ],
        [
         null,
         102,
         "Pediatric surgery",
         711796
        ],
        [
         null,
         876,
         "Orthopedic surgery",
         300087
        ],
        [
         null,
         890,
         "Medication management",
         121894
        ],
        [
         null,
         498,
         "General surgery",
         803815
        ],
        [
         null,
         841,
         "Antibiotic therapy",
         389534
        ],
        [
         null,
         603,
         "Chemotherapy",
         439472
        ],
        [
         null,
         222,
         "Liver biopsy",
         817408
        ],
        [
         null,
         635,
         "Plastic surgery",
         818863
        ],
        [
         null,
         342,
         "Retinal surgery",
         10834
        ],
        [
         null,
         428,
         "Sedation for minor procedures",
         171729
        ],
        [
         null,
         409,
         "Coronary artery bypass surgery",
         527922
        ],
        [
         null,
         940,
         "Endoscopy",
         907701
        ],
        [
         null,
         993,
         "Immunotherapy (allergy shots)",
         94809
        ],
        [
         null,
         241,
         "Hormone replacement therapy",
         996207
        ],
        [
         null,
         727,
         "Tonsillectomy and adenoidectomy",
         952276
        ],
        [
         null,
         144,
         "Cosmetic procedures (e.g., Botox, fillers)",
         242216
        ],
        [
         null,
         584,
         "Thyroid biopsy",
         619107
        ],
        [
         null,
         627,
         "Well-child check-ups",
         977858
        ],
        [
         null,
         605,
         "Polypharmacy management",
         657358
        ],
        [
         null,
         769,
         "Electroconvulsive therapy (ECT)",
         95725
        ],
        [
         null,
         319,
         "Radiation therapy",
         633427
        ],
        [
         null,
         515,
         "Trauma resuscitation",
         545690
        ],
        [
         null,
         909,
         "Well-child check-ups",
         244088
        ],
        [
         null,
         711,
         "Dermatologic surgery",
         268511
        ],
        [
         null,
         566,
         "Retinal surgery",
         836483
        ],
        [
         null,
         930,
         "Immunizations",
         506212
        ],
        [
         null,
         261,
         "Well-child check-ups",
         804856
        ],
        [
         null,
         326,
         "Medication management",
         147892
        ],
        [
         null,
         671,
         "Lumbar puncture",
         601928
        ],
        [
         null,
         361,
         "EEG (Electroencephalogram)",
         598915
        ],
        [
         null,
         536,
         "Well-child check-ups",
         919301
        ],
        [
         null,
         633,
         "Hormone replacement therapy",
         485744
        ],
        [
         null,
         174,
         "Well-child check-ups",
         952306
        ],
        [
         null,
         928,
         "Psychotherapy",
         635555
        ],
        [
         null,
         586,
         "Chemotherapy",
         383764
        ],
        [
         null,
         792,
         "Comprehensive geriatric assessment",
         564187
        ],
        [
         null,
         990,
         "Advanced cardiac life support",
         76951
        ],
        [
         null,
         528,
         "Cataract surgery",
         923796
        ],
        [
         null,
         174,
         "Insulin pump management for diabetes",
         664899
        ],
        [
         null,
         771,
         "Dialysis",
         642820
        ],
        [
         null,
         251,
         "Sedation for minor procedures",
         232609
        ],
        [
         null,
         598,
         "Cataract surgery",
         671226
        ],
        [
         null,
         951,
         "Polypharmacy management",
         516859
        ],
        [
         null,
         447,
         "General surgery",
         44519
        ],
        [
         null,
         861,
         "Pacemaker implantation",
         807722
        ],
        [
         null,
         221,
         "Anesthetic care during childbirth",
         914785
        ],
        [
         null,
         742,
         "Symptom management for end-of-life care",
         398678
        ],
        [
         null,
         399,
         "Symptom management for end-of-life care",
         557429
        ],
        [
         null,
         198,
         "Interventional radiology procedures",
         984094
        ],
        [
         null,
         473,
         "Sedation for minor procedures",
         538796
        ],
        [
         null,
         584,
         null,
         298685
        ],
        [
         null,
         558,
         "Management of complex medical conditions",
         630451
        ],
        [
         null,
         361,
         "General surgery",
         358390
        ],
        [
         null,
         779,
         "Dementia care",
         802419
        ],
        [
         null,
         292,
         "Anesthetic care during childbirth",
         790367
        ],
        [
         null,
         668,
         "Comprehensive geriatric assessment",
         353305
        ],
        [
         null,
         994,
         "Management of complex medical conditions",
         537140
        ],
        [
         null,
         910,
         "Bronchoscopy",
         902884
        ],
        [
         null,
         328,
         "Immunizations",
         766185
        ],
        [
         null,
         413,
         "Orthopedic surgery",
         547551
        ],
        [
         null,
         398,
         "Rhinoplasty",
         660324
        ],
        [
         null,
         822,
         "Surgical oncology",
         899081
        ],
        [
         null,
         507,
         "Chronic disease management",
         990073
        ],
        [
         null,
         455,
         "Dementia care",
         287082
        ],
        [
         null,
         489,
         "Endoscopy",
         448594
        ],
        [
         null,
         615,
         "Electroconvulsive therapy (ECT)",
         285134
        ],
        [
         null,
         779,
         "Laser therapy for skin conditions",
         777974
        ],
        [
         null,
         291,
         "Plastic surgery",
         991090
        ],
        [
         null,
         207,
         "Pediatric surgery",
         413129
        ],
        [
         null,
         191,
         "Cataract surgery",
         433939
        ],
        [
         null,
         377,
         "Liver biopsy",
         995778
        ],
        [
         null,
         962,
         "Bronchoscopy",
         45265
        ],
        [
         null,
         291,
         "Lumbar puncture",
         757458
        ],
        [
         null,
         684,
         "LASIK eye surgery",
         398995
        ],
        [
         null,
         291,
         "Medication management",
         309792
        ],
        [
         null,
         197,
         "Hormone replacement therapy",
         860972
        ],
        [
         null,
         264,
         "Ventilation support",
         81526
        ],
        [
         null,
         240,
         "Insulin pump management for diabetes",
         718804
        ],
        [
         null,
         460,
         "Coronary artery bypass surgery",
         267695
        ],
        [
         null,
         673,
         "Insulin pump management for diabetes",
         831409
        ],
        [
         null,
         456,
         "Mechanical ventilation",
         526662
        ],
        [
         null,
         612,
         "Trauma resuscitation",
         301437
        ],
        [
         null,
         368,
         "Colonoscopy",
         910288
        ],
        [
         null,
         747,
         "Medication management",
         826278
        ],
        [
         null,
         273,
         "Epidural anesthesia for pain management",
         866660
        ],
        [
         null,
         644,
         "Epidural analgesia during labor",
         566923
        ],
        [
         null,
         617,
         "Colonoscopy",
         162253
        ],
        [
         null,
         482,
         "Endoscopy",
         86619
        ],
        [
         null,
         623,
         "Thyroid biopsy",
         24885
        ],
        [
         null,
         117,
         "Thyroid biopsy",
         223481
        ],
        [
         null,
         240,
         "Insulin pump management for diabetes",
         696773
        ],
        [
         null,
         810,
         "Medication management",
         315305
        ],
        [
         null,
         476,
         "Symptom management for end-of-life care",
         107731
        ],
        [
         null,
         394,
         "Well-child check-ups",
         618046
        ],
        [
         null,
         195,
         "Rhinoplasty",
         598801
        ],
        [
         null,
         467,
         "Advanced cardiac life support",
         767774
        ],
        [
         null,
         163,
         "Thyroid biopsy",
         565069
        ],
        [
         null,
         904,
         "Retinal surgery",
         404047
        ],
        [
         null,
         982,
         "Cataract surgery",
         90548
        ],
        [
         null,
         381,
         "Chemotherapy",
         989313
        ],
        [
         null,
         746,
         "Pediatric surgery",
         932758
        ],
        [
         null,
         154,
         "Laser therapy for skin conditions",
         359806
        ],
        [
         null,
         610,
         "Pulmonary function tests",
         693155
        ],
        [
         null,
         544,
         "Tonsillectomy and adenoidectomy",
         258869
        ],
        [
         null,
         433,
         "Well-child check-ups",
         241867
        ],
        [
         null,
         930,
         "Bronchoscopy",
         769064
        ],
        [
         null,
         780,
         "Plastic surgery",
         996348
        ],
        [
         null,
         513,
         "Pulmonary function tests",
         891368
        ],
        [
         null,
         749,
         "Dialysis",
         231224
        ],
        [
         null,
         648,
         "Endoscopy",
         675371
        ],
        [
         null,
         254,
         "Cardiology:",
         501983
        ],
        [
         null,
         644,
         "Minor surgical procedures",
         899765
        ],
        [
         null,
         150,
         "Lumbar puncture",
         253434
        ],
        [
         null,
         635,
         "Bronchoscopy",
         610779
        ],
        [
         null,
         111,
         "Interventional radiology procedures",
         37837
        ],
        [
         null,
         115,
         "Kidney transplant",
         486003
        ],
        [
         null,
         851,
         "Dialysis",
         835185
        ],
        [
         null,
         634,
         "General health check-ups",
         260457
        ],
        [
         null,
         265,
         "General surgery",
         355176
        ],
        [
         null,
         518,
         "X-rays, CT scans, MRI scans",
         27009
        ],
        [
         null,
         456,
         "EEG (Electroencephalogram)",
         787377
        ],
        [
         null,
         546,
         "Thyroid biopsy",
         738406
        ],
        [
         null,
         333,
         "Laser therapy for skin conditions",
         67674
        ],
        [
         null,
         444,
         "Dementia care",
         484979
        ],
        [
         null,
         816,
         "Chronic disease management",
         951259
        ],
        [
         null,
         551,
         "Radiation therapy",
         506833
        ],
        [
         null,
         555,
         "Coronary artery bypass surgery",
         256281
        ],
        [
         null,
         682,
         "Advanced cardiac life support",
         342446
        ],
        [
         null,
         935,
         "Interventional radiology procedures",
         785210
        ],
        [
         null,
         761,
         "Angioplasty and stent placement",
         609808
        ],
        [
         null,
         959,
         "Psychotherapy",
         863512
        ],
        [
         null,
         742,
         "Cosmetic procedures (e.g., Botox, fillers)",
         166944
        ],
        [
         null,
         373,
         "Polypharmacy management",
         43166
        ],
        [
         null,
         931,
         "Coronary artery bypass surgery",
         913490
        ],
        [
         null,
         632,
         "Orthopedic surgery",
         749261
        ],
        [
         null,
         783,
         "Endoscopy",
         783989
        ],
        [
         null,
         466,
         "Pediatric surgery",
         88500
        ],
        [
         null,
         938,
         "Radiation therapy",
         904810
        ],
        [
         null,
         451,
         "LASIK eye surgery",
         136281
        ],
        [
         null,
         829,
         "Cardiology:",
         715308
        ],
        [
         null,
         595,
         "Rhinoplasty",
         348064
        ],
        [
         null,
         453,
         "Cardiology:",
         340854
        ],
        [
         null,
         961,
         "Minor surgical procedures",
         400378
        ],
        [
         null,
         961,
         "Pacemaker implantation",
         515173
        ],
        [
         null,
         480,
         "General health check-ups",
         462984
        ],
        [
         null,
         373,
         "General surgery",
         866273
        ],
        [
         null,
         587,
         "Radiation therapy",
         356956
        ],
        [
         null,
         143,
         "Kidney transplant",
         418879
        ],
        [
         null,
         806,
         "Liver biopsy",
         104586
        ],
        [
         null,
         693,
         "Immunotherapy (allergy shots)",
         612786
        ],
        [
         null,
         370,
         "X-rays, CT scans, MRI scans",
         558138
        ],
        [
         null,
         417,
         "Coronary artery bypass surgery",
         993763
        ],
        [
         null,
         526,
         "Symptom management for end-of-life care",
         505655
        ],
        [
         null,
         240,
         "General health check-ups",
         845706
        ],
        [
         null,
         858,
         "Nephrectomy",
         885552
        ],
        [
         null,
         281,
         "Radiation therapy",
         156591
        ],
        [
         null,
         193,
         "Intensive care management",
         653320
        ],
        [
         null,
         780,
         "Emergency surgical procedures",
         982497
        ],
        [
         null,
         641,
         "Laser therapy for skin conditions",
         608597
        ],
        [
         null,
         506,
         "Immunotherapy (allergy shots)",
         351011
        ],
        [
         null,
         891,
         "Psychotherapy",
         513684
        ],
        [
         null,
         143,
         "Comprehensive geriatric assessment",
         931836
        ],
        [
         null,
         622,
         "Epidural anesthesia for pain management",
         148653
        ],
        [
         null,
         306,
         "Dementia care",
         622737
        ],
        [
         null,
         345,
         "Retinal surgery",
         683055
        ],
        [
         null,
         308,
         "Pacemaker implantation",
         637413
        ],
        [
         null,
         278,
         "Colonoscopy",
         538664
        ],
        [
         null,
         986,
         "Intensive care management",
         515928
        ],
        [
         null,
         615,
         "Insulin pump management for diabetes",
         189880
        ],
        [
         null,
         258,
         "Cochlear implant surgery",
         568639
        ],
        [
         null,
         999,
         "Pacemaker implantation",
         348587
        ],
        [
         null,
         178,
         "Pediatric surgery",
         604228
        ],
        [
         null,
         403,
         "Plastic surgery",
         15151
        ],
        [
         null,
         789,
         "Cardiology:",
         458313
        ],
        [
         null,
         381,
         "Comprehensive geriatric assessment",
         835276
        ],
        [
         null,
         928,
         "Cosmetic procedures (e.g., Botox, fillers)",
         342677
        ],
        [
         null,
         842,
         "Management of complex infections",
         182219
        ],
        [
         null,
         640,
         null,
         152046
        ],
        [
         null,
         109,
         "Tonsillectomy and adenoidectomy",
         837856
        ],
        [
         null,
         138,
         "Orthopedic surgery",
         801951
        ],
        [
         null,
         516,
         "Rhinoplasty",
         248502
        ],
        [
         null,
         397,
         "Retinal surgery",
         126338
        ],
        [
         null,
         341,
         "Medication management",
         153320
        ],
        [
         null,
         601,
         "Management of complex medical conditions",
         88881
        ],
        [
         null,
         447,
         "Management of complex infections",
         214990
        ],
        [
         null,
         901,
         "Surgical oncology",
         974269
        ],
        [
         null,
         505,
         "Dermatologic surgery",
         860359
        ],
        [
         null,
         722,
         "Intensive care management",
         554697
        ],
        [
         null,
         515,
         "Mechanical ventilation",
         905507
        ],
        [
         null,
         543,
         "Pacemaker implantation",
         366455
        ],
        [
         null,
         769,
         "Symptom management for end-of-life care",
         652909
        ],
        [
         null,
         104,
         "Symptom management for end-of-life care",
         891700
        ],
        [
         null,
         448,
         "Anesthetic care during childbirth",
         686742
        ],
        [
         null,
         566,
         "Intensive care management",
         720877
        ],
        [
         null,
         363,
         null,
         832506
        ],
        [
         null,
         259,
         "Electroconvulsive therapy (ECT)",
         807446
        ],
        [
         null,
         518,
         "Endoscopy",
         61338
        ],
        [
         null,
         703,
         "Tonsillectomy and adenoidectomy",
         519205
        ],
        [
         null,
         694,
         "Dialysis",
         784050
        ],
        [
         null,
         935,
         "Epidural analgesia during labor",
         447041
        ],
        [
         null,
         254,
         "EEG (Electroencephalogram)",
         643696
        ],
        [
         null,
         954,
         "Thyroid biopsy",
         843109
        ],
        [
         null,
         506,
         "Angioplasty and stent placement",
         775192
        ],
        [
         null,
         762,
         "Well-child check-ups",
         613435
        ],
        [
         null,
         690,
         "Dermatologic surgery",
         414086
        ],
        [
         null,
         833,
         "Electroconvulsive therapy (ECT)",
         330215
        ],
        [
         null,
         892,
         "Psychotherapy",
         74387
        ],
        [
         null,
         509,
         "Pulmonary function tests",
         21661
        ],
        [
         null,
         608,
         "Emotional and spiritual support",
         789491
        ],
        [
         null,
         661,
         "Advanced cardiac life support",
         872428
        ],
        [
         null,
         355,
         "Minor surgical procedures",
         693982
        ],
        [
         null,
         792,
         "X-rays, CT scans, MRI scans",
         339244
        ],
        [
         null,
         415,
         "Chronic disease management",
         510621
        ],
        [
         null,
         373,
         "Dermatologic surgery",
         357323
        ],
        [
         null,
         409,
         "Hormone replacement therapy",
         684279
        ],
        [
         null,
         506,
         "Polypharmacy management",
         129644
        ],
        [
         null,
         214,
         "Anesthetic care during childbirth",
         707194
        ],
        [
         null,
         758,
         "Emotional and spiritual support",
         940376
        ],
        [
         null,
         159,
         "Pulmonary function tests",
         206481
        ],
        [
         null,
         915,
         "Colonoscopy",
         691347
        ],
        [
         null,
         930,
         "Endoscopy",
         604602
        ],
        [
         null,
         229,
         "EEG (Electroencephalogram)",
         483365
        ],
        [
         null,
         767,
         "Antibiotic therapy",
         456527
        ],
        [
         null,
         806,
         "Symptom management for end-of-life care",
         789640
        ],
        [
         null,
         739,
         "Trauma resuscitation",
         453602
        ],
        [
         null,
         138,
         "Emotional and spiritual support",
         586045
        ],
        [
         null,
         1000,
         "Colonoscopy",
         853016
        ],
        [
         null,
         649,
         "Immunizations",
         367537
        ],
        [
         null,
         105,
         "Immunizations",
         888749
        ],
        [
         null,
         629,
         "Intensive care management",
         426049
        ],
        [
         null,
         277,
         "Endoscopy",
         521186
        ],
        [
         null,
         910,
         "Tonsillectomy and adenoidectomy",
         862384
        ],
        [
         null,
         556,
         "Epidural anesthesia for pain management",
         908592
        ],
        [
         null,
         436,
         "Management of complex infections",
         143895
        ],
        [
         null,
         830,
         "Insulin pump management for diabetes",
         673632
        ],
        [
         null,
         416,
         "Pediatric surgery",
         68135
        ],
        [
         null,
         774,
         "Hemodynamic monitoring",
         46028
        ],
        [
         null,
         458,
         "Sedation for minor procedures",
         974018
        ],
        [
         null,
         832,
         "Lumbar puncture",
         983953
        ],
        [
         null,
         245,
         "Medication management",
         146794
        ],
        [
         null,
         435,
         "Kidney transplant",
         157660
        ],
        [
         null,
         806,
         "Mechanical ventilation",
         743571
        ],
        [
         null,
         507,
         "X-rays, CT scans, MRI scans",
         801357
        ],
        [
         null,
         504,
         "Dementia care",
         291178
        ],
        [
         null,
         231,
         "Kidney transplant",
         39498
        ],
        [
         null,
         522,
         "Psychotherapy",
         891578
        ],
        [
         null,
         838,
         null,
         27467
        ],
        [
         null,
         917,
         "Cardiology:",
         480745
        ],
        [
         null,
         352,
         "Hormone replacement therapy",
         171797
        ],
        [
         null,
         383,
         "Epidural analgesia during labor",
         237555
        ],
        [
         null,
         506,
         "Antibiotic therapy",
         977957
        ],
        [
         null,
         668,
         "Pacemaker implantation",
         464006
        ],
        [
         null,
         389,
         "Medication management",
         181171
        ],
        [
         null,
         972,
         "Symptom management for end-of-life care",
         658438
        ],
        [
         null,
         897,
         "Insulin pump management for diabetes",
         663228
        ],
        [
         null,
         788,
         "Dialysis",
         875415
        ],
        [
         null,
         963,
         "Emergency surgical procedures",
         608334
        ],
        [
         null,
         202,
         "Rhinoplasty",
         200890
        ],
        [
         null,
         306,
         "Hormone replacement therapy",
         685274
        ],
        [
         null,
         302,
         "EEG (Electroencephalogram)",
         521269
        ],
        [
         null,
         401,
         "LASIK eye surgery",
         512652
        ],
        [
         null,
         194,
         "Dialysis",
         125035
        ],
        [
         null,
         841,
         "MRI for brain imaging",
         375591
        ],
        [
         null,
         703,
         "Bronchoscopy",
         870433
        ],
        [
         null,
         404,
         "EEG (Electroencephalogram)",
         590977
        ],
        [
         null,
         499,
         "Liver biopsy",
         699215
        ],
        [
         null,
         398,
         "Liver biopsy",
         38535
        ],
        [
         null,
         567,
         "Retinal surgery",
         829753
        ],
        [
         null,
         146,
         "Interventional radiology procedures",
         582071
        ],
        [
         null,
         368,
         "Thyroid biopsy",
         949608
        ],
        [
         null,
         897,
         "Chronic disease management",
         882211
        ],
        [
         null,
         562,
         "Hormone replacement therapy",
         333973
        ],
        [
         null,
         744,
         "LASIK eye surgery",
         816691
        ],
        [
         null,
         429,
         "Tonsillectomy and adenoidectomy",
         518766
        ],
        [
         null,
         485,
         "Immunotherapy (allergy shots)",
         16790
        ],
        [
         null,
         387,
         "General health check-ups",
         529230
        ],
        [
         null,
         804,
         "Polypharmacy management",
         929634
        ],
        [
         null,
         349,
         "Pulmonary function tests",
         361947
        ],
        [
         null,
         449,
         "Immunizations",
         114914
        ],
        [
         null,
         310,
         "Internal medicine consultations",
         412696
        ],
        [
         null,
         157,
         "Emotional and spiritual support",
         269609
        ],
        [
         null,
         702,
         "Liver biopsy",
         422617
        ],
        [
         null,
         576,
         null,
         379148
        ],
        [
         null,
         182,
         "Psychotherapy",
         701045
        ],
        [
         null,
         759,
         "Interventional radiology procedures",
         251137
        ],
        [
         null,
         879,
         "Angioplasty and stent placement",
         734324
        ],
        [
         null,
         626,
         "Cochlear implant surgery",
         249365
        ],
        [
         null,
         462,
         "Pacemaker implantation",
         670244
        ],
        [
         null,
         636,
         "Interventional radiology procedures",
         267999
        ],
        [
         null,
         654,
         "EEG (Electroencephalogram)",
         486985
        ],
        [
         null,
         248,
         "Laser therapy for skin conditions",
         350343
        ],
        [
         null,
         161,
         "General health check-ups",
         563494
        ],
        [
         null,
         302,
         "Coronary artery bypass surgery",
         786033
        ],
        [
         null,
         685,
         "Orthopedic surgery",
         839760
        ],
        [
         null,
         812,
         "Internal medicine consultations",
         49086
        ],
        [
         null,
         961,
         "Sedation for minor procedures",
         973869
        ],
        [
         null,
         522,
         "Psychotherapy",
         150478
        ],
        [
         null,
         210,
         "Rhinoplasty",
         100039
        ],
        [
         null,
         551,
         "Cochlear implant surgery",
         904874
        ],
        [
         null,
         539,
         "Polypharmacy management",
         526929
        ],
        [
         null,
         355,
         "Immunotherapy (allergy shots)",
         670980
        ],
        [
         null,
         894,
         "Immunizations",
         762485
        ],
        [
         null,
         546,
         "Cardiology:",
         341309
        ],
        [
         null,
         494,
         "Cardiology:",
         480872
        ],
        [
         null,
         452,
         "Epidural analgesia during labor",
         974821
        ],
        [
         null,
         751,
         "Plastic surgery",
         145188
        ],
        [
         null,
         792,
         null,
         96125
        ],
        [
         null,
         130,
         "Management of complex medical conditions",
         60348
        ],
        [
         null,
         828,
         "Minor surgical procedures",
         314276
        ],
        [
         null,
         145,
         "Cardiology:",
         165655
        ],
        [
         null,
         546,
         "Emotional and spiritual support",
         867260
        ],
        [
         null,
         700,
         "Kidney transplant",
         210604
        ],
        [
         null,
         844,
         null,
         161408
        ],
        [
         null,
         603,
         "Pediatric surgery",
         793507
        ],
        [
         null,
         625,
         "Mechanical ventilation",
         261443
        ],
        [
         null,
         380,
         "Surgical oncology",
         148700
        ],
        [
         null,
         449,
         "Liver biopsy",
         694847
        ],
        [
         null,
         205,
         "Anesthetic care during childbirth",
         473143
        ],
        [
         null,
         456,
         "Bronchoscopy",
         406196
        ],
        [
         null,
         539,
         "Plastic surgery",
         11838
        ],
        [
         null,
         237,
         "Chemotherapy",
         747178
        ],
        [
         null,
         815,
         "Cosmetic procedures (e.g., Botox, fillers)",
         70723
        ],
        [
         null,
         327,
         "Kidney transplant",
         133113
        ],
        [
         null,
         827,
         "Chemotherapy",
         16567
        ],
        [
         null,
         832,
         "Cosmetic procedures (e.g., Botox, fillers)",
         545499
        ],
        [
         null,
         204,
         "Cosmetic procedures (e.g., Botox, fillers)",
         662732
        ],
        [
         null,
         934,
         "Anesthetic care during childbirth",
         732471
        ],
        [
         null,
         297,
         "Endoscopy",
         771494
        ],
        [
         null,
         250,
         "Mechanical ventilation",
         709304
        ],
        [
         null,
         495,
         "LASIK eye surgery",
         711264
        ],
        [
         null,
         178,
         "Anesthetic care during childbirth",
         180175
        ],
        [
         null,
         445,
         "Surgical oncology",
         169197
        ],
        [
         null,
         547,
         "Comprehensive geriatric assessment",
         833501
        ],
        [
         null,
         772,
         "MRI for brain imaging",
         449080
        ],
        [
         null,
         591,
         "Lumbar puncture",
         948456
        ],
        [
         null,
         444,
         "Endoscopy",
         776619
        ],
        [
         null,
         213,
         "Tonsillectomy and adenoidectomy",
         183912
        ],
        [
         null,
         675,
         "Cochlear implant surgery",
         111549
        ],
        [
         null,
         946,
         "Immunotherapy (allergy shots)",
         186342
        ],
        [
         null,
         242,
         "Bronchoscopy",
         435046
        ],
        [
         null,
         426,
         null,
         879405
        ],
        [
         null,
         670,
         "Immunotherapy (allergy shots)",
         117457
        ],
        [
         null,
         116,
         "General anesthesia for surgeries",
         362072
        ],
        [
         null,
         733,
         "Management of complex infections",
         904470
        ],
        [
         null,
         870,
         "Internal medicine consultations",
         281875
        ],
        [
         null,
         452,
         "Sedation for minor procedures",
         190037
        ],
        [
         null,
         919,
         "Pediatric surgery",
         185051
        ],
        [
         null,
         427,
         "Interventional radiology procedures",
         402596
        ],
        [
         null,
         868,
         "Coronary artery bypass surgery",
         151071
        ],
        [
         null,
         720,
         "Internal medicine consultations",
         491354
        ],
        [
         null,
         979,
         "Chronic disease management",
         891275
        ],
        [
         null,
         644,
         "Rhinoplasty",
         153957
        ],
        [
         null,
         240,
         "Anesthetic care during childbirth",
         538720
        ],
        [
         null,
         538,
         "General surgery",
         664763
        ],
        [
         null,
         394,
         "Liver biopsy",
         299920
        ],
        [
         null,
         431,
         "Cardiology:",
         145502
        ],
        [
         null,
         315,
         "Minor surgical procedures",
         434633
        ],
        [
         null,
         772,
         "EEG (Electroencephalogram)",
         285439
        ],
        [
         null,
         777,
         "Management of complex infections",
         50637
        ],
        [
         null,
         108,
         "General surgery",
         943604
        ],
        [
         null,
         799,
         "Orthopedic surgery",
         96291
        ],
        [
         null,
         823,
         "Laser therapy for skin conditions",
         693893
        ],
        [
         null,
         825,
         "LASIK eye surgery",
         114228
        ],
        [
         null,
         506,
         "Advanced cardiac life support",
         656788
        ],
        [
         null,
         168,
         "Surgical oncology",
         836090
        ],
        [
         null,
         657,
         "Hemodynamic monitoring",
         866470
        ],
        [
         null,
         736,
         "Retinal surgery",
         607829
        ],
        [
         null,
         751,
         "Cardiology:",
         793743
        ],
        [
         null,
         298,
         "Bronchoscopy",
         20564
        ],
        [
         null,
         914,
         "Dementia care",
         398182
        ],
        [
         null,
         596,
         "Cardiology:",
         569550
        ],
        [
         null,
         846,
         "Emergency surgical procedures",
         930167
        ],
        [
         null,
         243,
         "Surgical oncology",
         569598
        ],
        [
         null,
         516,
         "Cochlear implant surgery",
         830242
        ],
        [
         null,
         252,
         "Management of complex infections",
         423372
        ],
        [
         null,
         815,
         "Endoscopy",
         171238
        ],
        [
         null,
         852,
         "Symptom management for end-of-life care",
         561663
        ],
        [
         null,
         769,
         "Pediatric surgery",
         178235
        ],
        [
         null,
         857,
         "Interventional radiology procedures",
         504517
        ],
        [
         null,
         799,
         "Cosmetic procedures (e.g., Botox, fillers)",
         994632
        ],
        [
         null,
         613,
         "Coronary artery bypass surgery",
         172902
        ],
        [
         null,
         482,
         "Symptom management for end-of-life care",
         438132
        ],
        [
         null,
         998,
         "LASIK eye surgery",
         239887
        ],
        [
         null,
         864,
         "Pediatric surgery",
         72848
        ],
        [
         null,
         459,
         "Epidural analgesia during labor",
         548616
        ],
        [
         null,
         810,
         "Liver biopsy",
         776634
        ],
        [
         null,
         921,
         "General health check-ups",
         16767
        ],
        [
         null,
         776,
         "Bronchoscopy",
         211511
        ],
        [
         null,
         175,
         "Tonsillectomy and adenoidectomy",
         657544
        ],
        [
         null,
         797,
         "Pediatric surgery",
         478017
        ],
        [
         null,
         924,
         "Cosmetic procedures (e.g., Botox, fillers)",
         942997
        ],
        [
         null,
         362,
         null,
         980344
        ],
        [
         null,
         441,
         "Well-child check-ups",
         182734
        ],
        [
         null,
         713,
         "Angioplasty and stent placement",
         212362
        ],
        [
         null,
         677,
         "Antibiotic therapy",
         300134
        ],
        [
         null,
         768,
         "Electroconvulsive therapy (ECT)",
         265106
        ],
        [
         null,
         125,
         "Kidney transplant",
         955636
        ],
        [
         null,
         257,
         "MRI for brain imaging",
         731511
        ],
        [
         null,
         183,
         "Surgical oncology",
         460039
        ],
        [
         null,
         877,
         "Minor surgical procedures",
         499212
        ],
        [
         null,
         800,
         "Mechanical ventilation",
         190174
        ],
        [
         null,
         889,
         "Cosmetic procedures (e.g., Botox, fillers)",
         693908
        ],
        [
         null,
         846,
         "Nephrectomy",
         943641
        ],
        [
         null,
         125,
         "Laser therapy for skin conditions",
         117238
        ],
        [
         null,
         289,
         "Coronary artery bypass surgery",
         120040
        ],
        [
         null,
         603,
         "Trauma resuscitation",
         552766
        ],
        [
         null,
         142,
         "Rhinoplasty",
         700723
        ],
        [
         null,
         489,
         "Cochlear implant surgery",
         430683
        ],
        [
         null,
         301,
         "Plastic surgery",
         882754
        ],
        [
         null,
         301,
         "Lumbar puncture",
         669194
        ],
        [
         null,
         350,
         "Tonsillectomy and adenoidectomy",
         663455
        ],
        [
         null,
         657,
         "Cosmetic procedures (e.g., Botox, fillers)",
         247124
        ],
        [
         null,
         808,
         "Pediatric surgery",
         534188
        ],
        [
         null,
         518,
         "Bronchoscopy",
         710671
        ],
        [
         null,
         842,
         "Minor surgical procedures",
         954375
        ],
        [
         null,
         102,
         "Dementia care",
         864706
        ],
        [
         null,
         241,
         "Polypharmacy management",
         89196
        ],
        [
         null,
         627,
         null,
         431352
        ],
        [
         null,
         436,
         "Medication management",
         645341
        ],
        [
         null,
         341,
         "Lumbar puncture",
         965585
        ],
        [
         null,
         286,
         "Comprehensive geriatric assessment",
         417316
        ],
        [
         null,
         621,
         "Thyroid biopsy",
         545986
        ],
        [
         null,
         779,
         "EEG (Electroencephalogram)",
         829856
        ],
        [
         null,
         245,
         "Chronic disease management",
         213390
        ],
        [
         null,
         774,
         "Anesthetic care during childbirth",
         207275
        ],
        [
         null,
         312,
         "Well-child check-ups",
         545613
        ],
        [
         null,
         147,
         "Trauma resuscitation",
         641299
        ],
        [
         null,
         950,
         "Thyroid biopsy",
         337517
        ],
        [
         null,
         247,
         "Laser therapy for skin conditions",
         82041
        ],
        [
         null,
         818,
         "Epidural anesthesia for pain management",
         939175
        ],
        [
         null,
         970,
         "Chemotherapy",
         825064
        ],
        [
         null,
         989,
         "Emergency surgical procedures",
         708383
        ],
        [
         null,
         651,
         "Advanced cardiac life support",
         391947
        ],
        [
         null,
         639,
         null,
         93027
        ],
        [
         null,
         242,
         "Cardiology:",
         564585
        ],
        [
         null,
         161,
         "MRI for brain imaging",
         555135
        ],
        [
         null,
         211,
         "Retinal surgery",
         989492
        ],
        [
         null,
         884,
         "Sedation for minor procedures",
         710438
        ],
        [
         null,
         415,
         "Well-child check-ups",
         618904
        ],
        [
         null,
         817,
         "Well-child check-ups",
         885660
        ],
        [
         null,
         881,
         "Rhinoplasty",
         497541
        ],
        [
         null,
         618,
         null,
         706908
        ],
        [
         null,
         497,
         "Dialysis",
         750799
        ],
        [
         null,
         395,
         "Lumbar puncture",
         626659
        ],
        [
         null,
         571,
         "Immunizations",
         129560
        ],
        [
         null,
         946,
         "Epidural anesthesia for pain management",
         183386
        ],
        [
         null,
         634,
         "Intensive care management",
         831529
        ],
        [
         null,
         939,
         "Medication management",
         856612
        ],
        [
         null,
         850,
         "Symptom management for end-of-life care",
         306776
        ],
        [
         null,
         916,
         "Insulin pump management for diabetes",
         859275
        ],
        [
         null,
         918,
         "Insulin pump management for diabetes",
         716535
        ],
        [
         null,
         317,
         "Management of complex medical conditions",
         301311
        ],
        [
         null,
         682,
         "Thyroid biopsy",
         279738
        ],
        [
         null,
         746,
         "Angioplasty and stent placement",
         375109
        ],
        [
         null,
         466,
         "Endoscopy",
         681186
        ],
        [
         null,
         179,
         "Well-child check-ups",
         662830
        ],
        [
         null,
         645,
         "Electroconvulsive therapy (ECT)",
         460449
        ],
        [
         null,
         448,
         "LASIK eye surgery",
         571430
        ],
        [
         null,
         774,
         "Epidural anesthesia for pain management",
         599258
        ],
        [
         null,
         780,
         "Laser therapy for skin conditions",
         901532
        ],
        [
         null,
         705,
         "Pacemaker implantation",
         794496
        ],
        [
         null,
         948,
         "Surgical oncology",
         489801
        ],
        [
         null,
         804,
         "Electroconvulsive therapy (ECT)",
         515777
        ],
        [
         null,
         190,
         "General health check-ups",
         828872
        ],
        [
         null,
         510,
         "Management of complex medical conditions",
         449306
        ],
        [
         null,
         889,
         "LASIK eye surgery",
         167011
        ],
        [
         null,
         160,
         "Cataract surgery",
         185675
        ],
        [
         null,
         626,
         "Retinal surgery",
         859556
        ],
        [
         null,
         325,
         "X-rays, CT scans, MRI scans",
         423459
        ],
        [
         null,
         134,
         "Management of complex infections",
         761048
        ],
        [
         null,
         208,
         "Allergy testing",
         497882
        ],
        [
         null,
         631,
         "Allergy testing",
         740301
        ],
        [
         null,
         566,
         "Comprehensive geriatric assessment",
         656471
        ],
        [
         null,
         450,
         "Cataract surgery",
         390250
        ],
        [
         null,
         359,
         "Dermatologic surgery",
         38141
        ],
        [
         null,
         104,
         "Hemodynamic monitoring",
         676780
        ],
        [
         null,
         908,
         "Dementia care",
         643347
        ],
        [
         null,
         779,
         "Dialysis",
         303506
        ],
        [
         null,
         666,
         "Plastic surgery",
         95966
        ],
        [
         null,
         849,
         "General surgery",
         332209
        ],
        [
         null,
         307,
         "Hemodynamic monitoring",
         250237
        ],
        [
         null,
         249,
         "Epidural anesthesia for pain management",
         849723
        ],
        [
         null,
         789,
         "Angioplasty and stent placement",
         964877
        ],
        [
         null,
         644,
         null,
         268483
        ],
        [
         null,
         724,
         "Pediatric surgery",
         879224
        ],
        [
         null,
         864,
         "Emotional and spiritual support",
         136434
        ],
        [
         null,
         692,
         "General health check-ups",
         860765
        ],
        [
         null,
         841,
         "Advanced cardiac life support",
         83716
        ],
        [
         null,
         985,
         "Endoscopy",
         446723
        ],
        [
         null,
         533,
         "Cosmetic procedures (e.g., Botox, fillers)",
         561665
        ],
        [
         null,
         920,
         "Radiation therapy",
         974892
        ],
        [
         null,
         531,
         "LASIK eye surgery",
         321906
        ],
        [
         null,
         292,
         "Mechanical ventilation",
         780923
        ],
        [
         null,
         249,
         "Interventional radiology procedures",
         961692
        ],
        [
         null,
         929,
         "Psychotherapy",
         789026
        ],
        [
         null,
         721,
         "Minor surgical procedures",
         100665
        ],
        [
         null,
         347,
         "Intensive care management",
         479307
        ],
        [
         null,
         118,
         "Chronic disease management",
         418597
        ],
        [
         null,
         557,
         "Colonoscopy",
         108408
        ],
        [
         null,
         284,
         "X-rays, CT scans, MRI scans",
         183486
        ],
        [
         null,
         467,
         "Electroconvulsive therapy (ECT)",
         530463
        ],
        [
         null,
         396,
         "Cochlear implant surgery",
         492242
        ],
        [
         null,
         918,
         "Epidural anesthesia for pain management",
         700500
        ],
        [
         null,
         598,
         "Advanced cardiac life support",
         230231
        ],
        [
         null,
         397,
         "Endoscopy",
         240771
        ],
        [
         null,
         689,
         "Pediatric surgery",
         742667
        ],
        [
         null,
         565,
         "Bronchoscopy",
         71211
        ],
        [
         null,
         152,
         "Insulin pump management for diabetes",
         317985
        ],
        [
         null,
         541,
         "Symptom management for end-of-life care",
         473633
        ],
        [
         null,
         525,
         "Hemodynamic monitoring",
         297615
        ],
        [
         null,
         427,
         "Coronary artery bypass surgery",
         587672
        ],
        [
         null,
         865,
         "Dermatologic surgery",
         834252
        ],
        [
         null,
         202,
         "Trauma resuscitation",
         821302
        ],
        [
         null,
         863,
         "Orthopedic surgery",
         171290
        ],
        [
         null,
         375,
         "Lumbar puncture",
         537335
        ],
        [
         null,
         716,
         "Hormone replacement therapy",
         24833
        ],
        [
         null,
         804,
         "Intensive care management",
         773759
        ],
        [
         null,
         708,
         "Insulin pump management for diabetes",
         733082
        ],
        [
         null,
         969,
         "Cardiology:",
         625713
        ],
        [
         null,
         750,
         "Epidural anesthesia for pain management",
         291227
        ],
        [
         null,
         116,
         "Liver biopsy",
         599208
        ],
        [
         null,
         418,
         "Cosmetic procedures (e.g., Botox, fillers)",
         426269
        ],
        [
         null,
         812,
         "Emotional and spiritual support",
         346729
        ],
        [
         null,
         146,
         "Immunotherapy (allergy shots)",
         36532
        ],
        [
         null,
         900,
         "Dialysis",
         493552
        ],
        [
         null,
         182,
         "Immunizations",
         306699
        ],
        [
         null,
         995,
         "Insulin pump management for diabetes",
         389777
        ],
        [
         null,
         185,
         "Emergency surgical procedures",
         134921
        ],
        [
         null,
         336,
         "Pulmonary function tests",
         494270
        ],
        [
         null,
         342,
         "General surgery",
         47619
        ],
        [
         null,
         131,
         "Anesthetic care during childbirth",
         458455
        ],
        [
         null,
         407,
         "Rhinoplasty",
         878717
        ],
        [
         null,
         956,
         "MRI for brain imaging",
         715291
        ],
        [
         null,
         252,
         "Psychotherapy",
         698103
        ],
        [
         null,
         694,
         "Symptom management for end-of-life care",
         598206
        ],
        [
         null,
         742,
         "Psychotherapy",
         314655
        ],
        [
         null,
         593,
         "Cataract surgery",
         39971
        ],
        [
         null,
         950,
         "Dermatologic surgery",
         854536
        ],
        [
         null,
         958,
         "Surgical oncology",
         118150
        ],
        [
         null,
         444,
         "Rhinoplasty",
         402316
        ],
        [
         null,
         359,
         "Dementia care",
         977776
        ],
        [
         null,
         201,
         "Mechanical ventilation",
         400717
        ],
        [
         null,
         134,
         "Chronic disease management",
         354598
        ],
        [
         null,
         828,
         "Emergency surgical procedures",
         562898
        ],
        [
         null,
         650,
         "Tonsillectomy and adenoidectomy",
         691840
        ],
        [
         null,
         393,
         "Radiation therapy",
         73477
        ],
        [
         null,
         151,
         "X-rays, CT scans, MRI scans",
         50442
        ],
        [
         null,
         913,
         "Coronary artery bypass surgery",
         461034
        ],
        [
         null,
         659,
         "Immunotherapy (allergy shots)",
         348712
        ],
        [
         null,
         879,
         "Emergency surgical procedures",
         985052
        ],
        [
         null,
         880,
         "Psychotherapy",
         375887
        ],
        [
         null,
         589,
         "Antibiotic therapy",
         394135
        ],
        [
         null,
         436,
         "Ventilation support",
         176591
        ],
        [
         null,
         637,
         "General health check-ups",
         465030
        ],
        [
         null,
         448,
         "Insulin pump management for diabetes",
         383021
        ],
        [
         null,
         149,
         "Epidural analgesia during labor",
         408676
        ],
        [
         null,
         339,
         "Medication management",
         728999
        ],
        [
         null,
         457,
         "Kidney transplant",
         158030
        ],
        [
         null,
         329,
         "Pulmonary function tests",
         909175
        ],
        [
         null,
         635,
         "Pacemaker implantation",
         641866
        ],
        [
         null,
         514,
         "Immunizations",
         490692
        ],
        [
         null,
         750,
         "Intensive care management",
         270346
        ],
        [
         null,
         718,
         "Psychotherapy",
         195281
        ],
        [
         null,
         194,
         "Hormone replacement therapy",
         871755
        ],
        [
         null,
         899,
         "Tonsillectomy and adenoidectomy",
         695679
        ],
        [
         null,
         899,
         "Ventilation support",
         342086
        ],
        [
         null,
         197,
         "Bronchoscopy",
         837225
        ],
        [
         null,
         354,
         "Comprehensive geriatric assessment",
         756533
        ],
        [
         null,
         966,
         "Angioplasty and stent placement",
         503476
        ],
        [
         null,
         426,
         "Interventional radiology procedures",
         209733
        ],
        [
         null,
         700,
         "Comprehensive geriatric assessment",
         136473
        ],
        [
         null,
         409,
         "Intensive care management",
         577907
        ],
        [
         null,
         618,
         "Pacemaker implantation",
         408965
        ],
        [
         null,
         760,
         "Interventional radiology procedures",
         898329
        ],
        [
         null,
         370,
         "Dialysis",
         869051
        ],
        [
         null,
         531,
         "Surgical oncology",
         607491
        ],
        [
         null,
         169,
         null,
         333347
        ],
        [
         null,
         723,
         "Emotional and spiritual support",
         389474
        ],
        [
         null,
         829,
         "General anesthesia for surgeries",
         453973
        ],
        [
         null,
         514,
         "Cochlear implant surgery",
         666007
        ],
        [
         null,
         739,
         "LASIK eye surgery",
         161985
        ],
        [
         null,
         588,
         null,
         713514
        ],
        [
         null,
         301,
         "Minor surgical procedures",
         763077
        ],
        [
         null,
         305,
         "Polypharmacy management",
         87017
        ],
        [
         null,
         652,
         null,
         163909
        ],
        [
         null,
         627,
         "Surgical oncology",
         248585
        ],
        [
         null,
         869,
         "Bronchoscopy",
         510525
        ],
        [
         null,
         608,
         "Intensive care management",
         399227
        ],
        [
         null,
         453,
         "Dialysis",
         74295
        ],
        [
         null,
         801,
         "Immunotherapy (allergy shots)",
         848216
        ],
        [
         null,
         636,
         "Pulmonary function tests",
         944293
        ],
        [
         null,
         622,
         "Ventilation support",
         42630
        ],
        [
         null,
         257,
         "Emotional and spiritual support",
         429014
        ],
        [
         null,
         968,
         "Chemotherapy",
         58495
        ],
        [
         null,
         421,
         "Immunizations",
         355657
        ],
        [
         null,
         110,
         "Orthopedic surgery",
         33328
        ],
        [
         null,
         850,
         "Epidural anesthesia for pain management",
         11836
        ],
        [
         null,
         296,
         "Insulin pump management for diabetes",
         605489
        ],
        [
         null,
         196,
         "Insulin pump management for diabetes",
         508443
        ],
        [
         null,
         506,
         "Electroconvulsive therapy (ECT)",
         146828
        ],
        [
         null,
         767,
         "Plastic surgery",
         532627
        ],
        [
         null,
         788,
         "Epidural anesthesia for pain management",
         852918
        ],
        [
         null,
         686,
         "Insulin pump management for diabetes",
         182726
        ],
        [
         null,
         196,
         "Hormone replacement therapy",
         650302
        ],
        [
         null,
         986,
         "Management of complex infections",
         542178
        ],
        [
         null,
         336,
         "Emotional and spiritual support",
         959391
        ],
        [
         null,
         619,
         "Management of complex infections",
         458642
        ],
        [
         null,
         920,
         "Electroconvulsive therapy (ECT)",
         402235
        ],
        [
         null,
         582,
         "Epidural analgesia during labor",
         550867
        ],
        [
         null,
         713,
         "Pediatric surgery",
         895420
        ],
        [
         null,
         902,
         "Dermatologic surgery",
         194658
        ],
        [
         null,
         527,
         "Surgical oncology",
         116725
        ],
        [
         null,
         384,
         "Pacemaker implantation",
         690648
        ],
        [
         null,
         651,
         "Liver biopsy",
         635270
        ],
        [
         null,
         350,
         "LASIK eye surgery",
         776923
        ],
        [
         null,
         113,
         "Symptom management for end-of-life care",
         669516
        ],
        [
         null,
         667,
         "Dermatologic surgery",
         582613
        ],
        [
         null,
         373,
         "Ventilation support",
         307213
        ],
        [
         null,
         411,
         "Cardiology:",
         363996
        ],
        [
         null,
         146,
         "Allergy testing",
         129040
        ],
        [
         null,
         923,
         "Chronic disease management",
         345180
        ],
        [
         null,
         218,
         null,
         771848
        ],
        [
         null,
         205,
         "Epidural analgesia during labor",
         121028
        ],
        [
         null,
         974,
         "Laser therapy for skin conditions",
         750392
        ],
        [
         null,
         307,
         "Thyroid biopsy",
         757391
        ],
        [
         null,
         790,
         "Bronchoscopy",
         654268
        ],
        [
         null,
         992,
         "Ventilation support",
         24611
        ],
        [
         null,
         762,
         "X-rays, CT scans, MRI scans",
         60813
        ],
        [
         null,
         413,
         "Hormone replacement therapy",
         946856
        ],
        [
         null,
         405,
         "Pacemaker implantation",
         723767
        ],
        [
         null,
         314,
         "Medication management",
         372518
        ],
        [
         null,
         834,
         "Cataract surgery",
         41654
        ],
        [
         null,
         124,
         "Orthopedic surgery",
         416167
        ],
        [
         null,
         431,
         "Bronchoscopy",
         39206
        ],
        [
         null,
         555,
         "Plastic surgery",
         392919
        ],
        [
         null,
         283,
         "Interventional radiology procedures",
         798821
        ],
        [
         null,
         709,
         "Intensive care management",
         32931
        ],
        [
         null,
         744,
         "Emergency surgical procedures",
         584326
        ],
        [
         null,
         483,
         "Internal medicine consultations",
         657933
        ],
        [
         null,
         171,
         "Bronchoscopy",
         41842
        ],
        [
         null,
         567,
         "Intensive care management",
         932081
        ],
        [
         null,
         812,
         "Angioplasty and stent placement",
         91710
        ],
        [
         null,
         182,
         "Kidney transplant",
         833547
        ],
        [
         null,
         391,
         "LASIK eye surgery",
         989548
        ],
        [
         null,
         803,
         "Medication management",
         384096
        ],
        [
         null,
         119,
         "Chronic disease management",
         961653
        ],
        [
         null,
         306,
         "Comprehensive geriatric assessment",
         333274
        ],
        [
         null,
         770,
         "Chronic disease management",
         345876
        ],
        [
         null,
         900,
         "Laser therapy for skin conditions",
         585170
        ],
        [
         null,
         515,
         "MRI for brain imaging",
         199737
        ],
        [
         null,
         929,
         "Dermatologic surgery",
         549511
        ],
        [
         null,
         679,
         "Management of complex infections",
         211599
        ],
        [
         null,
         356,
         "Immunizations",
         405110
        ],
        [
         null,
         671,
         "General health check-ups",
         250318
        ],
        [
         null,
         901,
         "Radiation therapy",
         203010
        ],
        [
         null,
         121,
         "Laser therapy for skin conditions",
         114657
        ],
        [
         null,
         471,
         "Dermatologic surgery",
         379798
        ],
        [
         null,
         854,
         "Liver biopsy",
         478910
        ],
        [
         null,
         808,
         "Emotional and spiritual support",
         775636
        ],
        [
         null,
         759,
         "Minor surgical procedures",
         470735
        ],
        [
         null,
         643,
         "Cosmetic procedures (e.g., Botox, fillers)",
         142608
        ],
        [
         null,
         751,
         "Hemodynamic monitoring",
         259585
        ],
        [
         null,
         733,
         "Trauma resuscitation",
         995034
        ],
        [
         null,
         821,
         "Nephrectomy",
         38172
        ],
        [
         null,
         431,
         "Internal medicine consultations",
         545409
        ],
        [
         null,
         664,
         "Psychotherapy",
         44177
        ],
        [
         null,
         563,
         "Immunizations",
         464617
        ],
        [
         null,
         353,
         "LASIK eye surgery",
         963240
        ],
        [
         null,
         649,
         "Bronchoscopy",
         683297
        ],
        [
         null,
         808,
         "Electroconvulsive therapy (ECT)",
         395938
        ],
        [
         null,
         520,
         "Endoscopy",
         923677
        ],
        [
         null,
         778,
         "Thyroid biopsy",
         362028
        ],
        [
         null,
         662,
         "Angioplasty and stent placement",
         309466
        ],
        [
         null,
         147,
         "Cardiology:",
         494217
        ],
        [
         null,
         410,
         "Ventilation support",
         998106
        ],
        [
         null,
         635,
         "Chronic disease management",
         728026
        ],
        [
         null,
         938,
         "Dermatologic surgery",
         120179
        ],
        [
         null,
         488,
         "General health check-ups",
         978590
        ],
        [
         null,
         231,
         "Angioplasty and stent placement",
         443093
        ],
        [
         null,
         272,
         "Dementia care",
         930438
        ],
        [
         null,
         600,
         "Insulin pump management for diabetes",
         857895
        ],
        [
         null,
         814,
         "Chronic disease management",
         145410
        ],
        [
         null,
         723,
         "Hemodynamic monitoring",
         539646
        ],
        [
         null,
         488,
         "Allergy testing",
         728165
        ],
        [
         null,
         286,
         "General anesthesia for surgeries",
         438263
        ],
        [
         null,
         647,
         "Dermatologic surgery",
         575431
        ],
        [
         null,
         733,
         "Surgical oncology",
         751585
        ],
        [
         null,
         971,
         "General anesthesia for surgeries",
         60803
        ],
        [
         null,
         462,
         "Advanced cardiac life support",
         614806
        ],
        [
         null,
         735,
         "X-rays, CT scans, MRI scans",
         109954
        ],
        [
         null,
         453,
         "Thyroid biopsy",
         660595
        ],
        [
         null,
         797,
         "Allergy testing",
         600877
        ],
        [
         null,
         843,
         "Sedation for minor procedures",
         48292
        ],
        [
         null,
         140,
         "Sedation for minor procedures",
         110145
        ],
        [
         null,
         837,
         "Rhinoplasty",
         547703
        ],
        [
         null,
         888,
         "Management of complex infections",
         821747
        ],
        [
         null,
         843,
         "Hormone replacement therapy",
         95843
        ],
        [
         null,
         230,
         "Kidney transplant",
         486116
        ],
        [
         null,
         902,
         "Kidney transplant",
         952283
        ],
        [
         null,
         175,
         "Medication management",
         352199
        ],
        [
         null,
         212,
         "Mechanical ventilation",
         592444
        ],
        [
         null,
         979,
         "Cochlear implant surgery",
         348267
        ],
        [
         null,
         376,
         "Trauma resuscitation",
         316200
        ],
        [
         null,
         333,
         "Allergy testing",
         477335
        ],
        [
         null,
         267,
         "Management of complex infections",
         918079
        ],
        [
         null,
         880,
         "Mechanical ventilation",
         632888
        ],
        [
         null,
         252,
         "Management of complex infections",
         19274
        ],
        [
         null,
         869,
         "Advanced cardiac life support",
         915672
        ],
        [
         null,
         152,
         "Insulin pump management for diabetes",
         104594
        ],
        [
         null,
         1000,
         "Rhinoplasty",
         639461
        ],
        [
         null,
         832,
         "Psychotherapy",
         458149
        ],
        [
         null,
         960,
         "Advanced cardiac life support",
         748104
        ],
        [
         null,
         480,
         "Coronary artery bypass surgery",
         714118
        ],
        [
         null,
         205,
         "Dermatologic surgery",
         674041
        ],
        [
         null,
         879,
         "LASIK eye surgery",
         566544
        ],
        [
         null,
         639,
         "Epidural anesthesia for pain management",
         812712
        ],
        [
         null,
         857,
         "Chronic disease management",
         562650
        ],
        [
         null,
         173,
         "Plastic surgery",
         848696
        ],
        [
         null,
         657,
         "General surgery",
         619728
        ],
        [
         null,
         181,
         "Retinal surgery",
         377936
        ],
        [
         null,
         245,
         "Minor surgical procedures",
         239815
        ],
        [
         null,
         557,
         "Ventilation support",
         238749
        ],
        [
         null,
         459,
         "Emergency surgical procedures",
         896873
        ],
        [
         null,
         733,
         "Epidural analgesia during labor",
         568320
        ],
        [
         null,
         197,
         "Chronic disease management",
         919865
        ],
        [
         null,
         155,
         "Allergy testing",
         520455
        ],
        [
         null,
         312,
         "Pulmonary function tests",
         985602
        ],
        [
         null,
         555,
         "Management of complex medical conditions",
         612938
        ],
        [
         null,
         664,
         "Well-child check-ups",
         26117
        ],
        [
         null,
         849,
         "General surgery",
         68004
        ],
        [
         null,
         713,
         "Kidney transplant",
         92094
        ],
        [
         null,
         962,
         "Advanced cardiac life support",
         754556
        ],
        [
         null,
         972,
         "Colonoscopy",
         781673
        ],
        [
         null,
         141,
         "Advanced cardiac life support",
         627535
        ],
        [
         null,
         110,
         "Cardiology:",
         308067
        ],
        [
         null,
         285,
         "Cochlear implant surgery",
         589274
        ],
        [
         null,
         693,
         "Comprehensive geriatric assessment",
         631270
        ],
        [
         null,
         563,
         "Hemodynamic monitoring",
         208261
        ],
        [
         null,
         535,
         "Pediatric surgery",
         836470
        ],
        [
         null,
         597,
         "Hemodynamic monitoring",
         299671
        ],
        [
         null,
         496,
         "Nephrectomy",
         929242
        ],
        [
         null,
         334,
         "Thyroid biopsy",
         394584
        ],
        [
         null,
         536,
         "General anesthesia for surgeries",
         767025
        ],
        [
         null,
         986,
         "Sedation for minor procedures",
         925988
        ],
        [
         null,
         416,
         "Bronchoscopy",
         458514
        ],
        [
         null,
         892,
         "Laser therapy for skin conditions",
         443874
        ],
        [
         null,
         952,
         "Trauma resuscitation",
         682613
        ],
        [
         null,
         218,
         "Lumbar puncture",
         67022
        ],
        [
         null,
         971,
         "Hemodynamic monitoring",
         697675
        ],
        [
         null,
         348,
         "Retinal surgery",
         551621
        ],
        [
         null,
         193,
         "General health check-ups",
         848373
        ],
        [
         null,
         573,
         "Epidural anesthesia for pain management",
         219087
        ],
        [
         null,
         458,
         "Cataract surgery",
         793542
        ],
        [
         null,
         242,
         "Laser therapy for skin conditions",
         565746
        ],
        [
         null,
         600,
         "Orthopedic surgery",
         435633
        ],
        [
         null,
         175,
         "Immunotherapy (allergy shots)",
         569769
        ],
        [
         null,
         266,
         "Sedation for minor procedures",
         761099
        ],
        [
         null,
         717,
         "Epidural analgesia during labor",
         349500
        ],
        [
         null,
         191,
         "Radiation therapy",
         558902
        ],
        [
         null,
         530,
         "Medication management",
         850523
        ],
        [
         null,
         610,
         "Symptom management for end-of-life care",
         351723
        ],
        [
         null,
         373,
         "Mechanical ventilation",
         707696
        ],
        [
         null,
         559,
         "Rhinoplasty",
         52625
        ],
        [
         null,
         428,
         "Cochlear implant surgery",
         655511
        ],
        [
         null,
         222,
         "Psychotherapy",
         368435
        ],
        [
         null,
         198,
         "Symptom management for end-of-life care",
         396549
        ],
        [
         null,
         179,
         "Advanced cardiac life support",
         794440
        ],
        [
         null,
         252,
         "Electroconvulsive therapy (ECT)",
         25133
        ],
        [
         null,
         272,
         "Immunizations",
         201836
        ],
        [
         null,
         371,
         "Sedation for minor procedures",
         472275
        ],
        [
         null,
         904,
         "Laser therapy for skin conditions",
         965212
        ],
        [
         null,
         195,
         "Emotional and spiritual support",
         950461
        ],
        [
         null,
         634,
         "Immunizations",
         45782
        ],
        [
         null,
         871,
         "Pacemaker implantation",
         366293
        ],
        [
         null,
         696,
         "LASIK eye surgery",
         408017
        ],
        [
         null,
         117,
         "Cochlear implant surgery",
         639310
        ],
        [
         null,
         698,
         "Medication management",
         785130
        ],
        [
         null,
         851,
         "Immunizations",
         967709
        ],
        [
         null,
         562,
         "Pulmonary function tests",
         884305
        ],
        [
         null,
         854,
         "Thyroid biopsy",
         410465
        ],
        [
         null,
         245,
         "Bronchoscopy",
         55055
        ],
        [
         null,
         770,
         "Intensive care management",
         279497
        ],
        [
         null,
         941,
         "Chronic disease management",
         505123
        ],
        [
         null,
         365,
         "General anesthesia for surgeries",
         457946
        ],
        [
         null,
         651,
         "Pacemaker implantation",
         702692
        ],
        [
         null,
         434,
         "Radiation therapy",
         914950
        ],
        [
         null,
         883,
         "Surgical oncology",
         218009
        ],
        [
         null,
         112,
         "Chronic disease management",
         975444
        ]
       ],
       "datasetInfos": [],
       "dbfsResultPath": null,
       "isJsonSchema": true,
       "metadata": {},
       "overflow": false,
       "plotOptions": {
        "customPlotOptions": {},
        "displayType": "table",
        "pivotAggregation": null,
        "pivotColumns": null,
        "xColumns": null,
        "yColumns": null
       },
       "removedWidgets": [],
       "schema": [
        {
         "metadata": "{}",
         "name": "invoice_id",
         "type": "\"integer\""
        },
        {
         "metadata": "{}",
         "name": "patient_id",
         "type": "\"integer\""
        },
        {
         "metadata": "{}",
         "name": "items",
         "type": "\"string\""
        },
        {
         "metadata": "{}",
         "name": "amount",
         "type": "\"double\""
        }
       ],
       "type": "table"
      }
     },
     "output_type": "display_data"
    }
   ],
   "source": [
    "from pyspark.sql.functions import lower\n",
    "billing_cleaned_df = (billing_raw_df.select(col(\"InvoiceID\").alias(\"invoice_id\"),\n",
    "                                 col(\"PatientID\").alias(\"patient_id\"),\n",
    "                                 col(\"Items\").alias(\"items\"),\n",
    "                                 col(\"Amount\").alias(\"amount\")))\n",
    "billing_cleaned_df.display()"
   ]
  },
  {
   "cell_type": "code",
   "execution_count": 0,
   "metadata": {
    "application/vnd.databricks.v1+cell": {
     "cellMetadata": {
      "byteLimit": 2048000,
      "rowLimit": 10000
     },
     "inputWidgets": {},
     "nuid": "47f98621-22f6-49a8-bf6e-433da17e90eb",
     "showTitle": false,
     "tableResultSettingsMap": {},
     "title": ""
    }
   },
   "outputs": [],
   "source": [
    "(billing_cleaned_df.write\n",
    "    .mode(\"overwrite\")\n",
    "    .format(\"delta\")\n",
    "    .saveAsTable(\"healthcare_processed.billing\"))\n",
    "\n",
    "# Write to cloud storage\n",
    "billing_cleaned_df.write.mode(\"overwrite\").parquet(f\"abfss://source@projectadf1.dfs.core.windows.net/billing\")\n"
   ]
  },
  {
   "cell_type": "code",
   "execution_count": 0,
   "metadata": {
    "application/vnd.databricks.v1+cell": {
     "cellMetadata": {
      "byteLimit": 2048000,
      "rowLimit": 10000
     },
     "inputWidgets": {},
     "nuid": "cac67841-2ebe-44ec-af00-0ebf98d27554",
     "showTitle": false,
     "tableResultSettingsMap": {},
     "title": ""
    }
   },
   "outputs": [
    {
     "name": "stdout",
     "output_type": "stream",
     "text": [
      "Billing Summary:\n"
     ]
    },
    {
     "data": {
      "text/html": [
       "<style scoped>\n",
       "  .table-result-container {\n",
       "    max-height: 300px;\n",
       "    overflow: auto;\n",
       "  }\n",
       "  table, th, td {\n",
       "    border: 1px solid black;\n",
       "    border-collapse: collapse;\n",
       "  }\n",
       "  th, td {\n",
       "    padding: 5px;\n",
       "  }\n",
       "  th {\n",
       "    text-align: left;\n",
       "  }\n",
       "</style><div class='table-result-container'><table class='table-result'><thead style='background-color: white'><tr><th>total_invoices</th><th>total_revenue</th><th>average_invoice_amount</th></tr></thead><tbody><tr><td>1000</td><td>5.10275708E8</td><td>510275.71</td></tr></tbody></table></div>"
      ]
     },
     "metadata": {
      "application/vnd.databricks.v1+output": {
       "addedWidgets": {},
       "aggData": [],
       "aggError": "",
       "aggOverflow": false,
       "aggSchema": [],
       "aggSeriesLimitReached": false,
       "aggType": "",
       "arguments": {},
       "columnCustomDisplayInfos": {},
       "data": [
        [
         1000,
         510275708,
         510275.71
        ]
       ],
       "datasetInfos": [],
       "dbfsResultPath": null,
       "isJsonSchema": true,
       "metadata": {},
       "overflow": false,
       "plotOptions": {
        "customPlotOptions": {},
        "displayType": "table",
        "pivotAggregation": null,
        "pivotColumns": null,
        "xColumns": null,
        "yColumns": null
       },
       "removedWidgets": [],
       "schema": [
        {
         "metadata": "{}",
         "name": "total_invoices",
         "type": "\"long\""
        },
        {
         "metadata": "{}",
         "name": "total_revenue",
         "type": "\"double\""
        },
        {
         "metadata": "{}",
         "name": "average_invoice_amount",
         "type": "\"double\""
        }
       ],
       "type": "table"
      }
     },
     "output_type": "display_data"
    }
   ],
   "source": [
    "from pyspark.sql.functions import sum, count,avg\n",
    "\n",
    "summary_df = billing_cleaned_df.agg(\n",
    "    count(\"*\").alias(\"total_invoices\"),\n",
    "    sum(\"amount\").alias(\"total_revenue\"),\n",
    "    round(avg(\"amount\"), 2).alias(\"average_invoice_amount\")\n",
    ")\n",
    "\n",
    "print(\"Billing Summary:\")\n",
    "display(summary_df)"
   ]
  },
  {
   "cell_type": "code",
   "execution_count": 0,
   "metadata": {
    "application/vnd.databricks.v1+cell": {
     "cellMetadata": {
      "byteLimit": 2048000,
      "implicitDf": true,
      "rowLimit": 10000
     },
     "inputWidgets": {},
     "nuid": "0eac87d7-d3a2-4b7a-b83b-a0d104373f73",
     "showTitle": false,
     "tableResultSettingsMap": {},
     "title": ""
    }
   },
   "outputs": [
    {
     "data": {
      "text/html": [
       "<style scoped>\n",
       "  .table-result-container {\n",
       "    max-height: 300px;\n",
       "    overflow: auto;\n",
       "  }\n",
       "  table, th, td {\n",
       "    border: 1px solid black;\n",
       "    border-collapse: collapse;\n",
       "  }\n",
       "  th, td {\n",
       "    padding: 5px;\n",
       "  }\n",
       "  th {\n",
       "    text-align: left;\n",
       "  }\n",
       "</style><div class='table-result-container'><table class='table-result'><thead style='background-color: white'><tr><th>invoice_id</th><th>patient_id</th><th>items</th><th>amount</th></tr></thead><tbody><tr><td>null</td><td>894</td><td>Immunizations</td><td>956065.0</td></tr><tr><td>null</td><td>448</td><td>Cataract surgery</td><td>188997.0</td></tr><tr><td>null</td><td>618</td><td>Pediatric surgery</td><td>524091.0</td></tr><tr><td>null</td><td>117</td><td>Rhinoplasty</td><td>901393.0</td></tr><tr><td>null</td><td>374</td><td>Antibiotic therapy</td><td>448957.0</td></tr><tr><td>null</td><td>852</td><td>Emergency surgical procedures</td><td>869041.0</td></tr><tr><td>null</td><td>834</td><td>Pediatric surgery</td><td>492022.0</td></tr><tr><td>null</td><td>140</td><td>Hemodynamic monitoring</td><td>644410.0</td></tr><tr><td>null</td><td>459</td><td>Emergency surgical procedures</td><td>295907.0</td></tr><tr><td>null</td><td>734</td><td>Immunotherapy (allergy shots)</td><td>766908.0</td></tr><tr><td>null</td><td>261</td><td>Cochlear implant surgery</td><td>108949.0</td></tr><tr><td>null</td><td>166</td><td>Chemotherapy</td><td>750380.0</td></tr><tr><td>null</td><td>545</td><td>Nephrectomy</td><td>665629.0</td></tr><tr><td>null</td><td>776</td><td>Pediatric surgery</td><td>764479.0</td></tr><tr><td>null</td><td>448</td><td>Chronic disease management</td><td>190397.0</td></tr><tr><td>null</td><td>230</td><td>Bronchoscopy</td><td>704129.0</td></tr><tr><td>null</td><td>582</td><td>Lumbar puncture</td><td>179636.0</td></tr><tr><td>null</td><td>136</td><td>Trauma resuscitation</td><td>35845.0</td></tr><tr><td>null</td><td>384</td><td>Well-child check-ups</td><td>567942.0</td></tr><tr><td>null</td><td>619</td><td>Retinal surgery</td><td>883238.0</td></tr><tr><td>null</td><td>141</td><td>Angioplasty and stent placement</td><td>666508.0</td></tr><tr><td>null</td><td>617</td><td>Orthopedic surgery</td><td>296067.0</td></tr><tr><td>null</td><td>611</td><td>Colonoscopy</td><td>262153.0</td></tr><tr><td>null</td><td>744</td><td>Orthopedic surgery</td><td>749548.0</td></tr><tr><td>null</td><td>526</td><td>Pulmonary function tests</td><td>552989.0</td></tr><tr><td>null</td><td>711</td><td>Hemodynamic monitoring</td><td>955371.0</td></tr><tr><td>null</td><td>210</td><td>Dermatologic surgery</td><td>991256.0</td></tr><tr><td>null</td><td>570</td><td>Tonsillectomy and adenoidectomy</td><td>884277.0</td></tr><tr><td>null</td><td>261</td><td>Endoscopy</td><td>905728.0</td></tr><tr><td>null</td><td>201</td><td>Immunotherapy (allergy shots)</td><td>715311.0</td></tr><tr><td>null</td><td>730</td><td>Anesthetic care during childbirth</td><td>388002.0</td></tr><tr><td>null</td><td>418</td><td>Emotional and spiritual support</td><td>103848.0</td></tr><tr><td>null</td><td>379</td><td>Hormone replacement therapy</td><td>356212.0</td></tr><tr><td>null</td><td>971</td><td>Surgical oncology</td><td>192687.0</td></tr><tr><td>null</td><td>609</td><td>Bronchoscopy</td><td>607358.0</td></tr><tr><td>null</td><td>791</td><td>Coronary artery bypass surgery</td><td>321628.0</td></tr><tr><td>null</td><td>562</td><td>General anesthesia for surgeries</td><td>607507.0</td></tr><tr><td>null</td><td>421</td><td>Surgical oncology</td><td>962869.0</td></tr><tr><td>null</td><td>215</td><td>Rhinoplasty</td><td>954389.0</td></tr><tr><td>null</td><td>348</td><td>Pacemaker implantation</td><td>552675.0</td></tr><tr><td>null</td><td>389</td><td>Surgical oncology</td><td>450473.0</td></tr><tr><td>null</td><td>681</td><td>Liver biopsy</td><td>693542.0</td></tr><tr><td>null</td><td>801</td><td>Nephrectomy</td><td>650987.0</td></tr><tr><td>null</td><td>880</td><td>Plastic surgery</td><td>75844.0</td></tr><tr><td>null</td><td>352</td><td>Cochlear implant surgery</td><td>476800.0</td></tr><tr><td>null</td><td>227</td><td>Coronary artery bypass surgery</td><td>262975.0</td></tr><tr><td>null</td><td>528</td><td>Minor surgical procedures</td><td>910472.0</td></tr><tr><td>null</td><td>295</td><td>General anesthesia for surgeries</td><td>282554.0</td></tr><tr><td>null</td><td>990</td><td>Thyroid biopsy</td><td>424540.0</td></tr><tr><td>null</td><td>660</td><td>Lumbar puncture</td><td>416180.0</td></tr><tr><td>null</td><td>493</td><td>Immunotherapy (allergy shots)</td><td>722562.0</td></tr><tr><td>null</td><td>242</td><td>Insulin pump management for diabetes</td><td>720623.0</td></tr><tr><td>null</td><td>834</td><td>Liver biopsy</td><td>98221.0</td></tr><tr><td>null</td><td>906</td><td>MRI for brain imaging</td><td>985403.0</td></tr><tr><td>null</td><td>708</td><td>Chemotherapy</td><td>234572.0</td></tr><tr><td>null</td><td>692</td><td>Retinal surgery</td><td>870314.0</td></tr><tr><td>null</td><td>766</td><td>Dermatologic surgery</td><td>580361.0</td></tr><tr><td>null</td><td>356</td><td>Sedation for minor procedures</td><td>928305.0</td></tr><tr><td>null</td><td>724</td><td>Dialysis</td><td>900844.0</td></tr><tr><td>null</td><td>238</td><td>Cosmetic procedures (e.g., Botox, fillers)</td><td>450981.0</td></tr><tr><td>null</td><td>120</td><td>Management of complex medical conditions</td><td>809324.0</td></tr><tr><td>null</td><td>733</td><td>General anesthesia for surgeries</td><td>649728.0</td></tr><tr><td>null</td><td>940</td><td>Anesthetic care during childbirth</td><td>63245.0</td></tr><tr><td>null</td><td>491</td><td>Chemotherapy</td><td>298822.0</td></tr><tr><td>null</td><td>994</td><td>EEG (Electroencephalogram)</td><td>900365.0</td></tr><tr><td>null</td><td>415</td><td>Medication management</td><td>828141.0</td></tr><tr><td>null</td><td>481</td><td>Chemotherapy</td><td>801876.0</td></tr><tr><td>null</td><td>899</td><td>Psychotherapy</td><td>91102.0</td></tr><tr><td>null</td><td>245</td><td>Colonoscopy</td><td>764617.0</td></tr><tr><td>null</td><td>877</td><td>Insulin pump management for diabetes</td><td>688334.0</td></tr><tr><td>null</td><td>959</td><td>Chemotherapy</td><td>154402.0</td></tr><tr><td>null</td><td>575</td><td>Cochlear implant surgery</td><td>626748.0</td></tr><tr><td>null</td><td>498</td><td>Pediatric surgery</td><td>692480.0</td></tr><tr><td>null</td><td>715</td><td>Chemotherapy</td><td>515834.0</td></tr><tr><td>null</td><td>905</td><td>Orthopedic surgery</td><td>473353.0</td></tr><tr><td>null</td><td>725</td><td>Intensive care management</td><td>867765.0</td></tr><tr><td>null</td><td>963</td><td>Minor surgical procedures</td><td>876578.0</td></tr><tr><td>null</td><td>876</td><td>Intensive care management</td><td>309808.0</td></tr><tr><td>null</td><td>103</td><td>Nephrectomy</td><td>203301.0</td></tr><tr><td>null</td><td>839</td><td>Electroconvulsive therapy (ECT)</td><td>156466.0</td></tr><tr><td>null</td><td>411</td><td>EEG (Electroencephalogram)</td><td>902529.0</td></tr><tr><td>null</td><td>469</td><td>Liver biopsy</td><td>366652.0</td></tr><tr><td>null</td><td>533</td><td>null</td><td>219005.0</td></tr><tr><td>null</td><td>940</td><td>Retinal surgery</td><td>615537.0</td></tr><tr><td>null</td><td>441</td><td>Chronic disease management</td><td>423463.0</td></tr><tr><td>null</td><td>793</td><td>Internal medicine consultations</td><td>280282.0</td></tr><tr><td>null</td><td>635</td><td>Interventional radiology procedures</td><td>924473.0</td></tr><tr><td>null</td><td>493</td><td>General health check-ups</td><td>381767.0</td></tr><tr><td>null</td><td>859</td><td>Symptom management for end-of-life care</td><td>450744.0</td></tr><tr><td>null</td><td>253</td><td>Management of complex infections</td><td>632840.0</td></tr><tr><td>null</td><td>368</td><td>Cardiology:</td><td>689203.0</td></tr><tr><td>null</td><td>929</td><td>Cochlear implant surgery</td><td>276991.0</td></tr><tr><td>null</td><td>952</td><td>Polypharmacy management</td><td>405744.0</td></tr><tr><td>null</td><td>951</td><td>Epidural analgesia during labor</td><td>332061.0</td></tr><tr><td>null</td><td>929</td><td>Symptom management for end-of-life care</td><td>25537.0</td></tr><tr><td>null</td><td>546</td><td>Allergy testing</td><td>226964.0</td></tr><tr><td>null</td><td>480</td><td>Rhinoplasty</td><td>278389.0</td></tr><tr><td>null</td><td>474</td><td>General surgery</td><td>545638.0</td></tr><tr><td>null</td><td>685</td><td>Advanced cardiac life support</td><td>895531.0</td></tr><tr><td>null</td><td>188</td><td>Insulin pump management for diabetes</td><td>655839.0</td></tr><tr><td>null</td><td>220</td><td>Coronary artery bypass surgery</td><td>585434.0</td></tr><tr><td>null</td><td>620</td><td>General surgery</td><td>793561.0</td></tr><tr><td>null</td><td>208</td><td>General health check-ups</td><td>765894.0</td></tr><tr><td>null</td><td>899</td><td>Dementia care</td><td>924083.0</td></tr><tr><td>null</td><td>525</td><td>Epidural analgesia during labor</td><td>383809.0</td></tr><tr><td>null</td><td>353</td><td>Epidural analgesia during labor</td><td>220815.0</td></tr><tr><td>null</td><td>515</td><td>Surgical oncology</td><td>386388.0</td></tr><tr><td>null</td><td>106</td><td>Electroconvulsive therapy (ECT)</td><td>319541.0</td></tr><tr><td>null</td><td>904</td><td>Allergy testing</td><td>948140.0</td></tr><tr><td>null</td><td>218</td><td>null</td><td>239334.0</td></tr><tr><td>null</td><td>674</td><td>Chemotherapy</td><td>821103.0</td></tr><tr><td>null</td><td>402</td><td>Well-child check-ups</td><td>864650.0</td></tr><tr><td>null</td><td>253</td><td>Psychotherapy</td><td>49621.0</td></tr><tr><td>null</td><td>344</td><td>Thyroid biopsy</td><td>729350.0</td></tr><tr><td>null</td><td>368</td><td>Chronic disease management</td><td>887604.0</td></tr><tr><td>null</td><td>399</td><td>LASIK eye surgery</td><td>244141.0</td></tr><tr><td>null</td><td>787</td><td>Bronchoscopy</td><td>888730.0</td></tr><tr><td>null</td><td>730</td><td>Epidural analgesia during labor</td><td>305293.0</td></tr><tr><td>null</td><td>978</td><td>Symptom management for end-of-life care</td><td>470905.0</td></tr><tr><td>null</td><td>888</td><td>Pediatric surgery</td><td>996843.0</td></tr><tr><td>null</td><td>932</td><td>Internal medicine consultations</td><td>781027.0</td></tr><tr><td>null</td><td>131</td><td>Internal medicine consultations</td><td>97304.0</td></tr><tr><td>null</td><td>604</td><td>General health check-ups</td><td>42169.0</td></tr><tr><td>null</td><td>435</td><td>Allergy testing</td><td>540435.0</td></tr><tr><td>null</td><td>915</td><td>null</td><td>413376.0</td></tr><tr><td>null</td><td>122</td><td>Pediatric surgery</td><td>468251.0</td></tr><tr><td>null</td><td>730</td><td>Internal medicine consultations</td><td>46847.0</td></tr><tr><td>null</td><td>277</td><td>Colonoscopy</td><td>312611.0</td></tr><tr><td>null</td><td>789</td><td>Insulin pump management for diabetes</td><td>575756.0</td></tr><tr><td>null</td><td>376</td><td>Internal medicine consultations</td><td>148326.0</td></tr><tr><td>null</td><td>712</td><td>General surgery</td><td>366347.0</td></tr><tr><td>null</td><td>570</td><td>Pediatric surgery</td><td>615284.0</td></tr><tr><td>null</td><td>848</td><td>Antibiotic therapy</td><td>508208.0</td></tr><tr><td>null</td><td>490</td><td>Electroconvulsive therapy (ECT)</td><td>873461.0</td></tr><tr><td>null</td><td>535</td><td>Pediatric surgery</td><td>156161.0</td></tr><tr><td>null</td><td>198</td><td>Colonoscopy</td><td>416538.0</td></tr><tr><td>null</td><td>470</td><td>Advanced cardiac life support</td><td>424080.0</td></tr><tr><td>null</td><td>440</td><td>General surgery</td><td>760289.0</td></tr><tr><td>null</td><td>779</td><td>Well-child check-ups</td><td>569888.0</td></tr><tr><td>null</td><td>679</td><td>Anesthetic care during childbirth</td><td>469669.0</td></tr><tr><td>null</td><td>783</td><td>Medication management</td><td>750662.0</td></tr><tr><td>null</td><td>852</td><td>Pulmonary function tests</td><td>951438.0</td></tr><tr><td>null</td><td>967</td><td>Rhinoplasty</td><td>384254.0</td></tr><tr><td>null</td><td>526</td><td>Rhinoplasty</td><td>133562.0</td></tr><tr><td>null</td><td>757</td><td>Sedation for minor procedures</td><td>948642.0</td></tr><tr><td>null</td><td>103</td><td>General anesthesia for surgeries</td><td>941657.0</td></tr><tr><td>null</td><td>733</td><td>Medication management</td><td>166012.0</td></tr><tr><td>null</td><td>926</td><td>Laser therapy for skin conditions</td><td>953783.0</td></tr><tr><td>null</td><td>437</td><td>Polypharmacy management</td><td>409394.0</td></tr><tr><td>null</td><td>519</td><td>Cosmetic procedures (e.g., Botox, fillers)</td><td>642717.0</td></tr><tr><td>null</td><td>633</td><td>Hormone replacement therapy</td><td>454678.0</td></tr><tr><td>null</td><td>482</td><td>Antibiotic therapy</td><td>477578.0</td></tr><tr><td>null</td><td>866</td><td>Dialysis</td><td>893710.0</td></tr><tr><td>null</td><td>371</td><td>Management of complex medical conditions</td><td>16114.0</td></tr><tr><td>null</td><td>379</td><td>Hemodynamic monitoring</td><td>592511.0</td></tr><tr><td>null</td><td>880</td><td>Tonsillectomy and adenoidectomy</td><td>247308.0</td></tr><tr><td>null</td><td>574</td><td>null</td><td>331820.0</td></tr><tr><td>null</td><td>422</td><td>Interventional radiology procedures</td><td>815557.0</td></tr><tr><td>null</td><td>510</td><td>MRI for brain imaging</td><td>282519.0</td></tr><tr><td>null</td><td>817</td><td>Insulin pump management for diabetes</td><td>460464.0</td></tr><tr><td>null</td><td>774</td><td>Emergency surgical procedures</td><td>209903.0</td></tr><tr><td>null</td><td>248</td><td>Mechanical ventilation</td><td>723691.0</td></tr><tr><td>null</td><td>977</td><td>Lumbar puncture</td><td>346690.0</td></tr><tr><td>null</td><td>451</td><td>Chemotherapy</td><td>153618.0</td></tr><tr><td>null</td><td>605</td><td>Insulin pump management for diabetes</td><td>49414.0</td></tr><tr><td>null</td><td>375</td><td>Tonsillectomy and adenoidectomy</td><td>153283.0</td></tr><tr><td>null</td><td>232</td><td>Angioplasty and stent placement</td><td>682887.0</td></tr><tr><td>null</td><td>260</td><td>Epidural analgesia during labor</td><td>903256.0</td></tr><tr><td>null</td><td>225</td><td>Advanced cardiac life support</td><td>395603.0</td></tr><tr><td>null</td><td>116</td><td>Angioplasty and stent placement</td><td>786064.0</td></tr><tr><td>null</td><td>463</td><td>Tonsillectomy and adenoidectomy</td><td>432009.0</td></tr><tr><td>null</td><td>584</td><td>Kidney transplant</td><td>151978.0</td></tr><tr><td>null</td><td>882</td><td>Radiation therapy</td><td>654032.0</td></tr><tr><td>null</td><td>438</td><td>Insulin pump management for diabetes</td><td>835261.0</td></tr><tr><td>null</td><td>438</td><td>null</td><td>499716.0</td></tr><tr><td>null</td><td>669</td><td>Psychotherapy</td><td>144064.0</td></tr><tr><td>null</td><td>211</td><td>Radiation therapy</td><td>771276.0</td></tr><tr><td>null</td><td>347</td><td>Trauma resuscitation</td><td>413952.0</td></tr><tr><td>null</td><td>416</td><td>Angioplasty and stent placement</td><td>984498.0</td></tr><tr><td>null</td><td>815</td><td>Emotional and spiritual support</td><td>394358.0</td></tr><tr><td>null</td><td>674</td><td>Chemotherapy</td><td>711179.0</td></tr><tr><td>null</td><td>745</td><td>Chemotherapy</td><td>577282.0</td></tr><tr><td>null</td><td>869</td><td>Sedation for minor procedures</td><td>514863.0</td></tr><tr><td>null</td><td>584</td><td>Trauma resuscitation</td><td>959064.0</td></tr><tr><td>null</td><td>762</td><td>General surgery</td><td>568290.0</td></tr><tr><td>null</td><td>971</td><td>Endoscopy</td><td>81330.0</td></tr><tr><td>null</td><td>896</td><td>Cosmetic procedures (e.g., Botox, fillers)</td><td>382492.0</td></tr><tr><td>null</td><td>784</td><td>Immunotherapy (allergy shots)</td><td>340127.0</td></tr><tr><td>null</td><td>111</td><td>Emergency surgical procedures</td><td>431618.0</td></tr><tr><td>null</td><td>938</td><td>Mechanical ventilation</td><td>77621.0</td></tr><tr><td>null</td><td>387</td><td>Interventional radiology procedures</td><td>45792.0</td></tr><tr><td>null</td><td>300</td><td>Immunizations</td><td>417044.0</td></tr><tr><td>null</td><td>221</td><td>Pulmonary function tests</td><td>327902.0</td></tr><tr><td>null</td><td>625</td><td>Rhinoplasty</td><td>247936.0</td></tr><tr><td>null</td><td>730</td><td>Polypharmacy management</td><td>824555.0</td></tr><tr><td>null</td><td>553</td><td>Antibiotic therapy</td><td>144746.0</td></tr><tr><td>null</td><td>285</td><td>Coronary artery bypass surgery</td><td>599162.0</td></tr><tr><td>null</td><td>693</td><td>General anesthesia for surgeries</td><td>155419.0</td></tr><tr><td>null</td><td>668</td><td>Sedation for minor procedures</td><td>537831.0</td></tr><tr><td>null</td><td>441</td><td>Symptom management for end-of-life care</td><td>302640.0</td></tr><tr><td>null</td><td>353</td><td>Intensive care management</td><td>654548.0</td></tr><tr><td>null</td><td>595</td><td>Immunizations</td><td>470194.0</td></tr><tr><td>null</td><td>514</td><td>Comprehensive geriatric assessment</td><td>844791.0</td></tr><tr><td>null</td><td>777</td><td>Dementia care</td><td>175417.0</td></tr><tr><td>null</td><td>766</td><td>Liver biopsy</td><td>152609.0</td></tr><tr><td>null</td><td>985</td><td>Kidney transplant</td><td>621978.0</td></tr><tr><td>null</td><td>854</td><td>Pacemaker implantation</td><td>465336.0</td></tr><tr><td>null</td><td>712</td><td>Sedation for minor procedures</td><td>538956.0</td></tr><tr><td>null</td><td>174</td><td>Colonoscopy</td><td>314854.0</td></tr><tr><td>null</td><td>802</td><td>Interventional radiology procedures</td><td>676614.0</td></tr><tr><td>null</td><td>160</td><td>Epidural anesthesia for pain management</td><td>129839.0</td></tr><tr><td>null</td><td>964</td><td>Dermatologic surgery</td><td>379606.0</td></tr><tr><td>null</td><td>102</td><td>Pediatric surgery</td><td>711796.0</td></tr><tr><td>null</td><td>876</td><td>Orthopedic surgery</td><td>300087.0</td></tr><tr><td>null</td><td>890</td><td>Medication management</td><td>121894.0</td></tr><tr><td>null</td><td>498</td><td>General surgery</td><td>803815.0</td></tr><tr><td>null</td><td>841</td><td>Antibiotic therapy</td><td>389534.0</td></tr><tr><td>null</td><td>603</td><td>Chemotherapy</td><td>439472.0</td></tr><tr><td>null</td><td>222</td><td>Liver biopsy</td><td>817408.0</td></tr><tr><td>null</td><td>635</td><td>Plastic surgery</td><td>818863.0</td></tr><tr><td>null</td><td>342</td><td>Retinal surgery</td><td>10834.0</td></tr><tr><td>null</td><td>428</td><td>Sedation for minor procedures</td><td>171729.0</td></tr><tr><td>null</td><td>409</td><td>Coronary artery bypass surgery</td><td>527922.0</td></tr><tr><td>null</td><td>940</td><td>Endoscopy</td><td>907701.0</td></tr><tr><td>null</td><td>993</td><td>Immunotherapy (allergy shots)</td><td>94809.0</td></tr><tr><td>null</td><td>241</td><td>Hormone replacement therapy</td><td>996207.0</td></tr><tr><td>null</td><td>727</td><td>Tonsillectomy and adenoidectomy</td><td>952276.0</td></tr><tr><td>null</td><td>144</td><td>Cosmetic procedures (e.g., Botox, fillers)</td><td>242216.0</td></tr><tr><td>null</td><td>584</td><td>Thyroid biopsy</td><td>619107.0</td></tr><tr><td>null</td><td>627</td><td>Well-child check-ups</td><td>977858.0</td></tr><tr><td>null</td><td>605</td><td>Polypharmacy management</td><td>657358.0</td></tr><tr><td>null</td><td>769</td><td>Electroconvulsive therapy (ECT)</td><td>95725.0</td></tr><tr><td>null</td><td>319</td><td>Radiation therapy</td><td>633427.0</td></tr><tr><td>null</td><td>515</td><td>Trauma resuscitation</td><td>545690.0</td></tr><tr><td>null</td><td>909</td><td>Well-child check-ups</td><td>244088.0</td></tr><tr><td>null</td><td>711</td><td>Dermatologic surgery</td><td>268511.0</td></tr><tr><td>null</td><td>566</td><td>Retinal surgery</td><td>836483.0</td></tr><tr><td>null</td><td>930</td><td>Immunizations</td><td>506212.0</td></tr><tr><td>null</td><td>261</td><td>Well-child check-ups</td><td>804856.0</td></tr><tr><td>null</td><td>326</td><td>Medication management</td><td>147892.0</td></tr><tr><td>null</td><td>671</td><td>Lumbar puncture</td><td>601928.0</td></tr><tr><td>null</td><td>361</td><td>EEG (Electroencephalogram)</td><td>598915.0</td></tr><tr><td>null</td><td>536</td><td>Well-child check-ups</td><td>919301.0</td></tr><tr><td>null</td><td>633</td><td>Hormone replacement therapy</td><td>485744.0</td></tr><tr><td>null</td><td>174</td><td>Well-child check-ups</td><td>952306.0</td></tr><tr><td>null</td><td>928</td><td>Psychotherapy</td><td>635555.0</td></tr><tr><td>null</td><td>586</td><td>Chemotherapy</td><td>383764.0</td></tr><tr><td>null</td><td>792</td><td>Comprehensive geriatric assessment</td><td>564187.0</td></tr><tr><td>null</td><td>990</td><td>Advanced cardiac life support</td><td>76951.0</td></tr><tr><td>null</td><td>528</td><td>Cataract surgery</td><td>923796.0</td></tr><tr><td>null</td><td>174</td><td>Insulin pump management for diabetes</td><td>664899.0</td></tr><tr><td>null</td><td>771</td><td>Dialysis</td><td>642820.0</td></tr><tr><td>null</td><td>251</td><td>Sedation for minor procedures</td><td>232609.0</td></tr><tr><td>null</td><td>598</td><td>Cataract surgery</td><td>671226.0</td></tr><tr><td>null</td><td>951</td><td>Polypharmacy management</td><td>516859.0</td></tr><tr><td>null</td><td>447</td><td>General surgery</td><td>44519.0</td></tr><tr><td>null</td><td>861</td><td>Pacemaker implantation</td><td>807722.0</td></tr><tr><td>null</td><td>221</td><td>Anesthetic care during childbirth</td><td>914785.0</td></tr><tr><td>null</td><td>742</td><td>Symptom management for end-of-life care</td><td>398678.0</td></tr><tr><td>null</td><td>399</td><td>Symptom management for end-of-life care</td><td>557429.0</td></tr><tr><td>null</td><td>198</td><td>Interventional radiology procedures</td><td>984094.0</td></tr><tr><td>null</td><td>473</td><td>Sedation for minor procedures</td><td>538796.0</td></tr><tr><td>null</td><td>584</td><td>null</td><td>298685.0</td></tr><tr><td>null</td><td>558</td><td>Management of complex medical conditions</td><td>630451.0</td></tr><tr><td>null</td><td>361</td><td>General surgery</td><td>358390.0</td></tr><tr><td>null</td><td>779</td><td>Dementia care</td><td>802419.0</td></tr><tr><td>null</td><td>292</td><td>Anesthetic care during childbirth</td><td>790367.0</td></tr><tr><td>null</td><td>668</td><td>Comprehensive geriatric assessment</td><td>353305.0</td></tr><tr><td>null</td><td>994</td><td>Management of complex medical conditions</td><td>537140.0</td></tr><tr><td>null</td><td>910</td><td>Bronchoscopy</td><td>902884.0</td></tr><tr><td>null</td><td>328</td><td>Immunizations</td><td>766185.0</td></tr><tr><td>null</td><td>413</td><td>Orthopedic surgery</td><td>547551.0</td></tr><tr><td>null</td><td>398</td><td>Rhinoplasty</td><td>660324.0</td></tr><tr><td>null</td><td>822</td><td>Surgical oncology</td><td>899081.0</td></tr><tr><td>null</td><td>507</td><td>Chronic disease management</td><td>990073.0</td></tr><tr><td>null</td><td>455</td><td>Dementia care</td><td>287082.0</td></tr><tr><td>null</td><td>489</td><td>Endoscopy</td><td>448594.0</td></tr><tr><td>null</td><td>615</td><td>Electroconvulsive therapy (ECT)</td><td>285134.0</td></tr><tr><td>null</td><td>779</td><td>Laser therapy for skin conditions</td><td>777974.0</td></tr><tr><td>null</td><td>291</td><td>Plastic surgery</td><td>991090.0</td></tr><tr><td>null</td><td>207</td><td>Pediatric surgery</td><td>413129.0</td></tr><tr><td>null</td><td>191</td><td>Cataract surgery</td><td>433939.0</td></tr><tr><td>null</td><td>377</td><td>Liver biopsy</td><td>995778.0</td></tr><tr><td>null</td><td>962</td><td>Bronchoscopy</td><td>45265.0</td></tr><tr><td>null</td><td>291</td><td>Lumbar puncture</td><td>757458.0</td></tr><tr><td>null</td><td>684</td><td>LASIK eye surgery</td><td>398995.0</td></tr><tr><td>null</td><td>291</td><td>Medication management</td><td>309792.0</td></tr><tr><td>null</td><td>197</td><td>Hormone replacement therapy</td><td>860972.0</td></tr><tr><td>null</td><td>264</td><td>Ventilation support</td><td>81526.0</td></tr><tr><td>null</td><td>240</td><td>Insulin pump management for diabetes</td><td>718804.0</td></tr><tr><td>null</td><td>460</td><td>Coronary artery bypass surgery</td><td>267695.0</td></tr><tr><td>null</td><td>673</td><td>Insulin pump management for diabetes</td><td>831409.0</td></tr><tr><td>null</td><td>456</td><td>Mechanical ventilation</td><td>526662.0</td></tr><tr><td>null</td><td>612</td><td>Trauma resuscitation</td><td>301437.0</td></tr><tr><td>null</td><td>368</td><td>Colonoscopy</td><td>910288.0</td></tr><tr><td>null</td><td>747</td><td>Medication management</td><td>826278.0</td></tr><tr><td>null</td><td>273</td><td>Epidural anesthesia for pain management</td><td>866660.0</td></tr><tr><td>null</td><td>644</td><td>Epidural analgesia during labor</td><td>566923.0</td></tr><tr><td>null</td><td>617</td><td>Colonoscopy</td><td>162253.0</td></tr><tr><td>null</td><td>482</td><td>Endoscopy</td><td>86619.0</td></tr><tr><td>null</td><td>623</td><td>Thyroid biopsy</td><td>24885.0</td></tr><tr><td>null</td><td>117</td><td>Thyroid biopsy</td><td>223481.0</td></tr><tr><td>null</td><td>240</td><td>Insulin pump management for diabetes</td><td>696773.0</td></tr><tr><td>null</td><td>810</td><td>Medication management</td><td>315305.0</td></tr><tr><td>null</td><td>476</td><td>Symptom management for end-of-life care</td><td>107731.0</td></tr><tr><td>null</td><td>394</td><td>Well-child check-ups</td><td>618046.0</td></tr><tr><td>null</td><td>195</td><td>Rhinoplasty</td><td>598801.0</td></tr><tr><td>null</td><td>467</td><td>Advanced cardiac life support</td><td>767774.0</td></tr><tr><td>null</td><td>163</td><td>Thyroid biopsy</td><td>565069.0</td></tr><tr><td>null</td><td>904</td><td>Retinal surgery</td><td>404047.0</td></tr><tr><td>null</td><td>982</td><td>Cataract surgery</td><td>90548.0</td></tr><tr><td>null</td><td>381</td><td>Chemotherapy</td><td>989313.0</td></tr><tr><td>null</td><td>746</td><td>Pediatric surgery</td><td>932758.0</td></tr><tr><td>null</td><td>154</td><td>Laser therapy for skin conditions</td><td>359806.0</td></tr><tr><td>null</td><td>610</td><td>Pulmonary function tests</td><td>693155.0</td></tr><tr><td>null</td><td>544</td><td>Tonsillectomy and adenoidectomy</td><td>258869.0</td></tr><tr><td>null</td><td>433</td><td>Well-child check-ups</td><td>241867.0</td></tr><tr><td>null</td><td>930</td><td>Bronchoscopy</td><td>769064.0</td></tr><tr><td>null</td><td>780</td><td>Plastic surgery</td><td>996348.0</td></tr><tr><td>null</td><td>513</td><td>Pulmonary function tests</td><td>891368.0</td></tr><tr><td>null</td><td>749</td><td>Dialysis</td><td>231224.0</td></tr><tr><td>null</td><td>648</td><td>Endoscopy</td><td>675371.0</td></tr><tr><td>null</td><td>254</td><td>Cardiology:</td><td>501983.0</td></tr><tr><td>null</td><td>644</td><td>Minor surgical procedures</td><td>899765.0</td></tr><tr><td>null</td><td>150</td><td>Lumbar puncture</td><td>253434.0</td></tr><tr><td>null</td><td>635</td><td>Bronchoscopy</td><td>610779.0</td></tr><tr><td>null</td><td>111</td><td>Interventional radiology procedures</td><td>37837.0</td></tr><tr><td>null</td><td>115</td><td>Kidney transplant</td><td>486003.0</td></tr><tr><td>null</td><td>851</td><td>Dialysis</td><td>835185.0</td></tr><tr><td>null</td><td>634</td><td>General health check-ups</td><td>260457.0</td></tr><tr><td>null</td><td>265</td><td>General surgery</td><td>355176.0</td></tr><tr><td>null</td><td>518</td><td>X-rays, CT scans, MRI scans</td><td>27009.0</td></tr><tr><td>null</td><td>456</td><td>EEG (Electroencephalogram)</td><td>787377.0</td></tr><tr><td>null</td><td>546</td><td>Thyroid biopsy</td><td>738406.0</td></tr><tr><td>null</td><td>333</td><td>Laser therapy for skin conditions</td><td>67674.0</td></tr><tr><td>null</td><td>444</td><td>Dementia care</td><td>484979.0</td></tr><tr><td>null</td><td>816</td><td>Chronic disease management</td><td>951259.0</td></tr><tr><td>null</td><td>551</td><td>Radiation therapy</td><td>506833.0</td></tr><tr><td>null</td><td>555</td><td>Coronary artery bypass surgery</td><td>256281.0</td></tr><tr><td>null</td><td>682</td><td>Advanced cardiac life support</td><td>342446.0</td></tr><tr><td>null</td><td>935</td><td>Interventional radiology procedures</td><td>785210.0</td></tr><tr><td>null</td><td>761</td><td>Angioplasty and stent placement</td><td>609808.0</td></tr><tr><td>null</td><td>959</td><td>Psychotherapy</td><td>863512.0</td></tr><tr><td>null</td><td>742</td><td>Cosmetic procedures (e.g., Botox, fillers)</td><td>166944.0</td></tr><tr><td>null</td><td>373</td><td>Polypharmacy management</td><td>43166.0</td></tr><tr><td>null</td><td>931</td><td>Coronary artery bypass surgery</td><td>913490.0</td></tr><tr><td>null</td><td>632</td><td>Orthopedic surgery</td><td>749261.0</td></tr><tr><td>null</td><td>783</td><td>Endoscopy</td><td>783989.0</td></tr><tr><td>null</td><td>466</td><td>Pediatric surgery</td><td>88500.0</td></tr><tr><td>null</td><td>938</td><td>Radiation therapy</td><td>904810.0</td></tr><tr><td>null</td><td>451</td><td>LASIK eye surgery</td><td>136281.0</td></tr><tr><td>null</td><td>829</td><td>Cardiology:</td><td>715308.0</td></tr><tr><td>null</td><td>595</td><td>Rhinoplasty</td><td>348064.0</td></tr><tr><td>null</td><td>453</td><td>Cardiology:</td><td>340854.0</td></tr><tr><td>null</td><td>961</td><td>Minor surgical procedures</td><td>400378.0</td></tr><tr><td>null</td><td>961</td><td>Pacemaker implantation</td><td>515173.0</td></tr><tr><td>null</td><td>480</td><td>General health check-ups</td><td>462984.0</td></tr><tr><td>null</td><td>373</td><td>General surgery</td><td>866273.0</td></tr><tr><td>null</td><td>587</td><td>Radiation therapy</td><td>356956.0</td></tr><tr><td>null</td><td>143</td><td>Kidney transplant</td><td>418879.0</td></tr><tr><td>null</td><td>806</td><td>Liver biopsy</td><td>104586.0</td></tr><tr><td>null</td><td>693</td><td>Immunotherapy (allergy shots)</td><td>612786.0</td></tr><tr><td>null</td><td>370</td><td>X-rays, CT scans, MRI scans</td><td>558138.0</td></tr><tr><td>null</td><td>417</td><td>Coronary artery bypass surgery</td><td>993763.0</td></tr><tr><td>null</td><td>526</td><td>Symptom management for end-of-life care</td><td>505655.0</td></tr><tr><td>null</td><td>240</td><td>General health check-ups</td><td>845706.0</td></tr><tr><td>null</td><td>858</td><td>Nephrectomy</td><td>885552.0</td></tr><tr><td>null</td><td>281</td><td>Radiation therapy</td><td>156591.0</td></tr><tr><td>null</td><td>193</td><td>Intensive care management</td><td>653320.0</td></tr><tr><td>null</td><td>780</td><td>Emergency surgical procedures</td><td>982497.0</td></tr><tr><td>null</td><td>641</td><td>Laser therapy for skin conditions</td><td>608597.0</td></tr><tr><td>null</td><td>506</td><td>Immunotherapy (allergy shots)</td><td>351011.0</td></tr><tr><td>null</td><td>891</td><td>Psychotherapy</td><td>513684.0</td></tr><tr><td>null</td><td>143</td><td>Comprehensive geriatric assessment</td><td>931836.0</td></tr><tr><td>null</td><td>622</td><td>Epidural anesthesia for pain management</td><td>148653.0</td></tr><tr><td>null</td><td>306</td><td>Dementia care</td><td>622737.0</td></tr><tr><td>null</td><td>345</td><td>Retinal surgery</td><td>683055.0</td></tr><tr><td>null</td><td>308</td><td>Pacemaker implantation</td><td>637413.0</td></tr><tr><td>null</td><td>278</td><td>Colonoscopy</td><td>538664.0</td></tr><tr><td>null</td><td>986</td><td>Intensive care management</td><td>515928.0</td></tr><tr><td>null</td><td>615</td><td>Insulin pump management for diabetes</td><td>189880.0</td></tr><tr><td>null</td><td>258</td><td>Cochlear implant surgery</td><td>568639.0</td></tr><tr><td>null</td><td>999</td><td>Pacemaker implantation</td><td>348587.0</td></tr><tr><td>null</td><td>178</td><td>Pediatric surgery</td><td>604228.0</td></tr><tr><td>null</td><td>403</td><td>Plastic surgery</td><td>15151.0</td></tr><tr><td>null</td><td>789</td><td>Cardiology:</td><td>458313.0</td></tr><tr><td>null</td><td>381</td><td>Comprehensive geriatric assessment</td><td>835276.0</td></tr><tr><td>null</td><td>928</td><td>Cosmetic procedures (e.g., Botox, fillers)</td><td>342677.0</td></tr><tr><td>null</td><td>842</td><td>Management of complex infections</td><td>182219.0</td></tr><tr><td>null</td><td>640</td><td>null</td><td>152046.0</td></tr><tr><td>null</td><td>109</td><td>Tonsillectomy and adenoidectomy</td><td>837856.0</td></tr><tr><td>null</td><td>138</td><td>Orthopedic surgery</td><td>801951.0</td></tr><tr><td>null</td><td>516</td><td>Rhinoplasty</td><td>248502.0</td></tr><tr><td>null</td><td>397</td><td>Retinal surgery</td><td>126338.0</td></tr><tr><td>null</td><td>341</td><td>Medication management</td><td>153320.0</td></tr><tr><td>null</td><td>601</td><td>Management of complex medical conditions</td><td>88881.0</td></tr><tr><td>null</td><td>447</td><td>Management of complex infections</td><td>214990.0</td></tr><tr><td>null</td><td>901</td><td>Surgical oncology</td><td>974269.0</td></tr><tr><td>null</td><td>505</td><td>Dermatologic surgery</td><td>860359.0</td></tr><tr><td>null</td><td>722</td><td>Intensive care management</td><td>554697.0</td></tr><tr><td>null</td><td>515</td><td>Mechanical ventilation</td><td>905507.0</td></tr><tr><td>null</td><td>543</td><td>Pacemaker implantation</td><td>366455.0</td></tr><tr><td>null</td><td>769</td><td>Symptom management for end-of-life care</td><td>652909.0</td></tr><tr><td>null</td><td>104</td><td>Symptom management for end-of-life care</td><td>891700.0</td></tr><tr><td>null</td><td>448</td><td>Anesthetic care during childbirth</td><td>686742.0</td></tr><tr><td>null</td><td>566</td><td>Intensive care management</td><td>720877.0</td></tr><tr><td>null</td><td>363</td><td>null</td><td>832506.0</td></tr><tr><td>null</td><td>259</td><td>Electroconvulsive therapy (ECT)</td><td>807446.0</td></tr><tr><td>null</td><td>518</td><td>Endoscopy</td><td>61338.0</td></tr><tr><td>null</td><td>703</td><td>Tonsillectomy and adenoidectomy</td><td>519205.0</td></tr><tr><td>null</td><td>694</td><td>Dialysis</td><td>784050.0</td></tr><tr><td>null</td><td>935</td><td>Epidural analgesia during labor</td><td>447041.0</td></tr><tr><td>null</td><td>254</td><td>EEG (Electroencephalogram)</td><td>643696.0</td></tr><tr><td>null</td><td>954</td><td>Thyroid biopsy</td><td>843109.0</td></tr><tr><td>null</td><td>506</td><td>Angioplasty and stent placement</td><td>775192.0</td></tr><tr><td>null</td><td>762</td><td>Well-child check-ups</td><td>613435.0</td></tr><tr><td>null</td><td>690</td><td>Dermatologic surgery</td><td>414086.0</td></tr><tr><td>null</td><td>833</td><td>Electroconvulsive therapy (ECT)</td><td>330215.0</td></tr><tr><td>null</td><td>892</td><td>Psychotherapy</td><td>74387.0</td></tr><tr><td>null</td><td>509</td><td>Pulmonary function tests</td><td>21661.0</td></tr><tr><td>null</td><td>608</td><td>Emotional and spiritual support</td><td>789491.0</td></tr><tr><td>null</td><td>661</td><td>Advanced cardiac life support</td><td>872428.0</td></tr><tr><td>null</td><td>355</td><td>Minor surgical procedures</td><td>693982.0</td></tr><tr><td>null</td><td>792</td><td>X-rays, CT scans, MRI scans</td><td>339244.0</td></tr><tr><td>null</td><td>415</td><td>Chronic disease management</td><td>510621.0</td></tr><tr><td>null</td><td>373</td><td>Dermatologic surgery</td><td>357323.0</td></tr><tr><td>null</td><td>409</td><td>Hormone replacement therapy</td><td>684279.0</td></tr><tr><td>null</td><td>506</td><td>Polypharmacy management</td><td>129644.0</td></tr><tr><td>null</td><td>214</td><td>Anesthetic care during childbirth</td><td>707194.0</td></tr><tr><td>null</td><td>758</td><td>Emotional and spiritual support</td><td>940376.0</td></tr><tr><td>null</td><td>159</td><td>Pulmonary function tests</td><td>206481.0</td></tr><tr><td>null</td><td>915</td><td>Colonoscopy</td><td>691347.0</td></tr><tr><td>null</td><td>930</td><td>Endoscopy</td><td>604602.0</td></tr><tr><td>null</td><td>229</td><td>EEG (Electroencephalogram)</td><td>483365.0</td></tr><tr><td>null</td><td>767</td><td>Antibiotic therapy</td><td>456527.0</td></tr><tr><td>null</td><td>806</td><td>Symptom management for end-of-life care</td><td>789640.0</td></tr><tr><td>null</td><td>739</td><td>Trauma resuscitation</td><td>453602.0</td></tr><tr><td>null</td><td>138</td><td>Emotional and spiritual support</td><td>586045.0</td></tr><tr><td>null</td><td>1000</td><td>Colonoscopy</td><td>853016.0</td></tr><tr><td>null</td><td>649</td><td>Immunizations</td><td>367537.0</td></tr><tr><td>null</td><td>105</td><td>Immunizations</td><td>888749.0</td></tr><tr><td>null</td><td>629</td><td>Intensive care management</td><td>426049.0</td></tr><tr><td>null</td><td>277</td><td>Endoscopy</td><td>521186.0</td></tr><tr><td>null</td><td>910</td><td>Tonsillectomy and adenoidectomy</td><td>862384.0</td></tr><tr><td>null</td><td>556</td><td>Epidural anesthesia for pain management</td><td>908592.0</td></tr><tr><td>null</td><td>436</td><td>Management of complex infections</td><td>143895.0</td></tr><tr><td>null</td><td>830</td><td>Insulin pump management for diabetes</td><td>673632.0</td></tr><tr><td>null</td><td>416</td><td>Pediatric surgery</td><td>68135.0</td></tr><tr><td>null</td><td>774</td><td>Hemodynamic monitoring</td><td>46028.0</td></tr><tr><td>null</td><td>458</td><td>Sedation for minor procedures</td><td>974018.0</td></tr><tr><td>null</td><td>832</td><td>Lumbar puncture</td><td>983953.0</td></tr><tr><td>null</td><td>245</td><td>Medication management</td><td>146794.0</td></tr><tr><td>null</td><td>435</td><td>Kidney transplant</td><td>157660.0</td></tr><tr><td>null</td><td>806</td><td>Mechanical ventilation</td><td>743571.0</td></tr><tr><td>null</td><td>507</td><td>X-rays, CT scans, MRI scans</td><td>801357.0</td></tr><tr><td>null</td><td>504</td><td>Dementia care</td><td>291178.0</td></tr><tr><td>null</td><td>231</td><td>Kidney transplant</td><td>39498.0</td></tr><tr><td>null</td><td>522</td><td>Psychotherapy</td><td>891578.0</td></tr><tr><td>null</td><td>838</td><td>null</td><td>27467.0</td></tr><tr><td>null</td><td>917</td><td>Cardiology:</td><td>480745.0</td></tr><tr><td>null</td><td>352</td><td>Hormone replacement therapy</td><td>171797.0</td></tr><tr><td>null</td><td>383</td><td>Epidural analgesia during labor</td><td>237555.0</td></tr><tr><td>null</td><td>506</td><td>Antibiotic therapy</td><td>977957.0</td></tr><tr><td>null</td><td>668</td><td>Pacemaker implantation</td><td>464006.0</td></tr><tr><td>null</td><td>389</td><td>Medication management</td><td>181171.0</td></tr><tr><td>null</td><td>972</td><td>Symptom management for end-of-life care</td><td>658438.0</td></tr><tr><td>null</td><td>897</td><td>Insulin pump management for diabetes</td><td>663228.0</td></tr><tr><td>null</td><td>788</td><td>Dialysis</td><td>875415.0</td></tr><tr><td>null</td><td>963</td><td>Emergency surgical procedures</td><td>608334.0</td></tr><tr><td>null</td><td>202</td><td>Rhinoplasty</td><td>200890.0</td></tr><tr><td>null</td><td>306</td><td>Hormone replacement therapy</td><td>685274.0</td></tr><tr><td>null</td><td>302</td><td>EEG (Electroencephalogram)</td><td>521269.0</td></tr><tr><td>null</td><td>401</td><td>LASIK eye surgery</td><td>512652.0</td></tr><tr><td>null</td><td>194</td><td>Dialysis</td><td>125035.0</td></tr><tr><td>null</td><td>841</td><td>MRI for brain imaging</td><td>375591.0</td></tr><tr><td>null</td><td>703</td><td>Bronchoscopy</td><td>870433.0</td></tr><tr><td>null</td><td>404</td><td>EEG (Electroencephalogram)</td><td>590977.0</td></tr><tr><td>null</td><td>499</td><td>Liver biopsy</td><td>699215.0</td></tr><tr><td>null</td><td>398</td><td>Liver biopsy</td><td>38535.0</td></tr><tr><td>null</td><td>567</td><td>Retinal surgery</td><td>829753.0</td></tr><tr><td>null</td><td>146</td><td>Interventional radiology procedures</td><td>582071.0</td></tr><tr><td>null</td><td>368</td><td>Thyroid biopsy</td><td>949608.0</td></tr><tr><td>null</td><td>897</td><td>Chronic disease management</td><td>882211.0</td></tr><tr><td>null</td><td>562</td><td>Hormone replacement therapy</td><td>333973.0</td></tr><tr><td>null</td><td>744</td><td>LASIK eye surgery</td><td>816691.0</td></tr><tr><td>null</td><td>429</td><td>Tonsillectomy and adenoidectomy</td><td>518766.0</td></tr><tr><td>null</td><td>485</td><td>Immunotherapy (allergy shots)</td><td>16790.0</td></tr><tr><td>null</td><td>387</td><td>General health check-ups</td><td>529230.0</td></tr><tr><td>null</td><td>804</td><td>Polypharmacy management</td><td>929634.0</td></tr><tr><td>null</td><td>349</td><td>Pulmonary function tests</td><td>361947.0</td></tr><tr><td>null</td><td>449</td><td>Immunizations</td><td>114914.0</td></tr><tr><td>null</td><td>310</td><td>Internal medicine consultations</td><td>412696.0</td></tr><tr><td>null</td><td>157</td><td>Emotional and spiritual support</td><td>269609.0</td></tr><tr><td>null</td><td>702</td><td>Liver biopsy</td><td>422617.0</td></tr><tr><td>null</td><td>576</td><td>null</td><td>379148.0</td></tr><tr><td>null</td><td>182</td><td>Psychotherapy</td><td>701045.0</td></tr><tr><td>null</td><td>759</td><td>Interventional radiology procedures</td><td>251137.0</td></tr><tr><td>null</td><td>879</td><td>Angioplasty and stent placement</td><td>734324.0</td></tr><tr><td>null</td><td>626</td><td>Cochlear implant surgery</td><td>249365.0</td></tr><tr><td>null</td><td>462</td><td>Pacemaker implantation</td><td>670244.0</td></tr><tr><td>null</td><td>636</td><td>Interventional radiology procedures</td><td>267999.0</td></tr><tr><td>null</td><td>654</td><td>EEG (Electroencephalogram)</td><td>486985.0</td></tr><tr><td>null</td><td>248</td><td>Laser therapy for skin conditions</td><td>350343.0</td></tr><tr><td>null</td><td>161</td><td>General health check-ups</td><td>563494.0</td></tr><tr><td>null</td><td>302</td><td>Coronary artery bypass surgery</td><td>786033.0</td></tr><tr><td>null</td><td>685</td><td>Orthopedic surgery</td><td>839760.0</td></tr><tr><td>null</td><td>812</td><td>Internal medicine consultations</td><td>49086.0</td></tr><tr><td>null</td><td>961</td><td>Sedation for minor procedures</td><td>973869.0</td></tr><tr><td>null</td><td>522</td><td>Psychotherapy</td><td>150478.0</td></tr><tr><td>null</td><td>210</td><td>Rhinoplasty</td><td>100039.0</td></tr><tr><td>null</td><td>551</td><td>Cochlear implant surgery</td><td>904874.0</td></tr><tr><td>null</td><td>539</td><td>Polypharmacy management</td><td>526929.0</td></tr><tr><td>null</td><td>355</td><td>Immunotherapy (allergy shots)</td><td>670980.0</td></tr><tr><td>null</td><td>894</td><td>Immunizations</td><td>762485.0</td></tr><tr><td>null</td><td>546</td><td>Cardiology:</td><td>341309.0</td></tr><tr><td>null</td><td>494</td><td>Cardiology:</td><td>480872.0</td></tr><tr><td>null</td><td>452</td><td>Epidural analgesia during labor</td><td>974821.0</td></tr><tr><td>null</td><td>751</td><td>Plastic surgery</td><td>145188.0</td></tr><tr><td>null</td><td>792</td><td>null</td><td>96125.0</td></tr><tr><td>null</td><td>130</td><td>Management of complex medical conditions</td><td>60348.0</td></tr><tr><td>null</td><td>828</td><td>Minor surgical procedures</td><td>314276.0</td></tr><tr><td>null</td><td>145</td><td>Cardiology:</td><td>165655.0</td></tr><tr><td>null</td><td>546</td><td>Emotional and spiritual support</td><td>867260.0</td></tr><tr><td>null</td><td>700</td><td>Kidney transplant</td><td>210604.0</td></tr><tr><td>null</td><td>844</td><td>null</td><td>161408.0</td></tr><tr><td>null</td><td>603</td><td>Pediatric surgery</td><td>793507.0</td></tr><tr><td>null</td><td>625</td><td>Mechanical ventilation</td><td>261443.0</td></tr><tr><td>null</td><td>380</td><td>Surgical oncology</td><td>148700.0</td></tr><tr><td>null</td><td>449</td><td>Liver biopsy</td><td>694847.0</td></tr><tr><td>null</td><td>205</td><td>Anesthetic care during childbirth</td><td>473143.0</td></tr><tr><td>null</td><td>456</td><td>Bronchoscopy</td><td>406196.0</td></tr><tr><td>null</td><td>539</td><td>Plastic surgery</td><td>11838.0</td></tr><tr><td>null</td><td>237</td><td>Chemotherapy</td><td>747178.0</td></tr><tr><td>null</td><td>815</td><td>Cosmetic procedures (e.g., Botox, fillers)</td><td>70723.0</td></tr><tr><td>null</td><td>327</td><td>Kidney transplant</td><td>133113.0</td></tr><tr><td>null</td><td>827</td><td>Chemotherapy</td><td>16567.0</td></tr><tr><td>null</td><td>832</td><td>Cosmetic procedures (e.g., Botox, fillers)</td><td>545499.0</td></tr><tr><td>null</td><td>204</td><td>Cosmetic procedures (e.g., Botox, fillers)</td><td>662732.0</td></tr><tr><td>null</td><td>934</td><td>Anesthetic care during childbirth</td><td>732471.0</td></tr><tr><td>null</td><td>297</td><td>Endoscopy</td><td>771494.0</td></tr><tr><td>null</td><td>250</td><td>Mechanical ventilation</td><td>709304.0</td></tr><tr><td>null</td><td>495</td><td>LASIK eye surgery</td><td>711264.0</td></tr><tr><td>null</td><td>178</td><td>Anesthetic care during childbirth</td><td>180175.0</td></tr><tr><td>null</td><td>445</td><td>Surgical oncology</td><td>169197.0</td></tr><tr><td>null</td><td>547</td><td>Comprehensive geriatric assessment</td><td>833501.0</td></tr><tr><td>null</td><td>772</td><td>MRI for brain imaging</td><td>449080.0</td></tr><tr><td>null</td><td>591</td><td>Lumbar puncture</td><td>948456.0</td></tr><tr><td>null</td><td>444</td><td>Endoscopy</td><td>776619.0</td></tr><tr><td>null</td><td>213</td><td>Tonsillectomy and adenoidectomy</td><td>183912.0</td></tr><tr><td>null</td><td>675</td><td>Cochlear implant surgery</td><td>111549.0</td></tr><tr><td>null</td><td>946</td><td>Immunotherapy (allergy shots)</td><td>186342.0</td></tr><tr><td>null</td><td>242</td><td>Bronchoscopy</td><td>435046.0</td></tr><tr><td>null</td><td>426</td><td>null</td><td>879405.0</td></tr><tr><td>null</td><td>670</td><td>Immunotherapy (allergy shots)</td><td>117457.0</td></tr><tr><td>null</td><td>116</td><td>General anesthesia for surgeries</td><td>362072.0</td></tr><tr><td>null</td><td>733</td><td>Management of complex infections</td><td>904470.0</td></tr><tr><td>null</td><td>870</td><td>Internal medicine consultations</td><td>281875.0</td></tr><tr><td>null</td><td>452</td><td>Sedation for minor procedures</td><td>190037.0</td></tr><tr><td>null</td><td>919</td><td>Pediatric surgery</td><td>185051.0</td></tr><tr><td>null</td><td>427</td><td>Interventional radiology procedures</td><td>402596.0</td></tr><tr><td>null</td><td>868</td><td>Coronary artery bypass surgery</td><td>151071.0</td></tr><tr><td>null</td><td>720</td><td>Internal medicine consultations</td><td>491354.0</td></tr><tr><td>null</td><td>979</td><td>Chronic disease management</td><td>891275.0</td></tr><tr><td>null</td><td>644</td><td>Rhinoplasty</td><td>153957.0</td></tr><tr><td>null</td><td>240</td><td>Anesthetic care during childbirth</td><td>538720.0</td></tr><tr><td>null</td><td>538</td><td>General surgery</td><td>664763.0</td></tr><tr><td>null</td><td>394</td><td>Liver biopsy</td><td>299920.0</td></tr><tr><td>null</td><td>431</td><td>Cardiology:</td><td>145502.0</td></tr><tr><td>null</td><td>315</td><td>Minor surgical procedures</td><td>434633.0</td></tr><tr><td>null</td><td>772</td><td>EEG (Electroencephalogram)</td><td>285439.0</td></tr><tr><td>null</td><td>777</td><td>Management of complex infections</td><td>50637.0</td></tr><tr><td>null</td><td>108</td><td>General surgery</td><td>943604.0</td></tr><tr><td>null</td><td>799</td><td>Orthopedic surgery</td><td>96291.0</td></tr><tr><td>null</td><td>823</td><td>Laser therapy for skin conditions</td><td>693893.0</td></tr><tr><td>null</td><td>825</td><td>LASIK eye surgery</td><td>114228.0</td></tr><tr><td>null</td><td>506</td><td>Advanced cardiac life support</td><td>656788.0</td></tr><tr><td>null</td><td>168</td><td>Surgical oncology</td><td>836090.0</td></tr><tr><td>null</td><td>657</td><td>Hemodynamic monitoring</td><td>866470.0</td></tr><tr><td>null</td><td>736</td><td>Retinal surgery</td><td>607829.0</td></tr><tr><td>null</td><td>751</td><td>Cardiology:</td><td>793743.0</td></tr><tr><td>null</td><td>298</td><td>Bronchoscopy</td><td>20564.0</td></tr><tr><td>null</td><td>914</td><td>Dementia care</td><td>398182.0</td></tr><tr><td>null</td><td>596</td><td>Cardiology:</td><td>569550.0</td></tr><tr><td>null</td><td>846</td><td>Emergency surgical procedures</td><td>930167.0</td></tr><tr><td>null</td><td>243</td><td>Surgical oncology</td><td>569598.0</td></tr><tr><td>null</td><td>516</td><td>Cochlear implant surgery</td><td>830242.0</td></tr><tr><td>null</td><td>252</td><td>Management of complex infections</td><td>423372.0</td></tr><tr><td>null</td><td>815</td><td>Endoscopy</td><td>171238.0</td></tr><tr><td>null</td><td>852</td><td>Symptom management for end-of-life care</td><td>561663.0</td></tr><tr><td>null</td><td>769</td><td>Pediatric surgery</td><td>178235.0</td></tr><tr><td>null</td><td>857</td><td>Interventional radiology procedures</td><td>504517.0</td></tr><tr><td>null</td><td>799</td><td>Cosmetic procedures (e.g., Botox, fillers)</td><td>994632.0</td></tr><tr><td>null</td><td>613</td><td>Coronary artery bypass surgery</td><td>172902.0</td></tr><tr><td>null</td><td>482</td><td>Symptom management for end-of-life care</td><td>438132.0</td></tr><tr><td>null</td><td>998</td><td>LASIK eye surgery</td><td>239887.0</td></tr><tr><td>null</td><td>864</td><td>Pediatric surgery</td><td>72848.0</td></tr><tr><td>null</td><td>459</td><td>Epidural analgesia during labor</td><td>548616.0</td></tr><tr><td>null</td><td>810</td><td>Liver biopsy</td><td>776634.0</td></tr><tr><td>null</td><td>921</td><td>General health check-ups</td><td>16767.0</td></tr><tr><td>null</td><td>776</td><td>Bronchoscopy</td><td>211511.0</td></tr><tr><td>null</td><td>175</td><td>Tonsillectomy and adenoidectomy</td><td>657544.0</td></tr><tr><td>null</td><td>797</td><td>Pediatric surgery</td><td>478017.0</td></tr><tr><td>null</td><td>924</td><td>Cosmetic procedures (e.g., Botox, fillers)</td><td>942997.0</td></tr><tr><td>null</td><td>362</td><td>null</td><td>980344.0</td></tr><tr><td>null</td><td>441</td><td>Well-child check-ups</td><td>182734.0</td></tr><tr><td>null</td><td>713</td><td>Angioplasty and stent placement</td><td>212362.0</td></tr><tr><td>null</td><td>677</td><td>Antibiotic therapy</td><td>300134.0</td></tr><tr><td>null</td><td>768</td><td>Electroconvulsive therapy (ECT)</td><td>265106.0</td></tr><tr><td>null</td><td>125</td><td>Kidney transplant</td><td>955636.0</td></tr><tr><td>null</td><td>257</td><td>MRI for brain imaging</td><td>731511.0</td></tr><tr><td>null</td><td>183</td><td>Surgical oncology</td><td>460039.0</td></tr><tr><td>null</td><td>877</td><td>Minor surgical procedures</td><td>499212.0</td></tr><tr><td>null</td><td>800</td><td>Mechanical ventilation</td><td>190174.0</td></tr><tr><td>null</td><td>889</td><td>Cosmetic procedures (e.g., Botox, fillers)</td><td>693908.0</td></tr><tr><td>null</td><td>846</td><td>Nephrectomy</td><td>943641.0</td></tr><tr><td>null</td><td>125</td><td>Laser therapy for skin conditions</td><td>117238.0</td></tr><tr><td>null</td><td>289</td><td>Coronary artery bypass surgery</td><td>120040.0</td></tr><tr><td>null</td><td>603</td><td>Trauma resuscitation</td><td>552766.0</td></tr><tr><td>null</td><td>142</td><td>Rhinoplasty</td><td>700723.0</td></tr><tr><td>null</td><td>489</td><td>Cochlear implant surgery</td><td>430683.0</td></tr><tr><td>null</td><td>301</td><td>Plastic surgery</td><td>882754.0</td></tr><tr><td>null</td><td>301</td><td>Lumbar puncture</td><td>669194.0</td></tr><tr><td>null</td><td>350</td><td>Tonsillectomy and adenoidectomy</td><td>663455.0</td></tr><tr><td>null</td><td>657</td><td>Cosmetic procedures (e.g., Botox, fillers)</td><td>247124.0</td></tr><tr><td>null</td><td>808</td><td>Pediatric surgery</td><td>534188.0</td></tr><tr><td>null</td><td>518</td><td>Bronchoscopy</td><td>710671.0</td></tr><tr><td>null</td><td>842</td><td>Minor surgical procedures</td><td>954375.0</td></tr><tr><td>null</td><td>102</td><td>Dementia care</td><td>864706.0</td></tr><tr><td>null</td><td>241</td><td>Polypharmacy management</td><td>89196.0</td></tr><tr><td>null</td><td>627</td><td>null</td><td>431352.0</td></tr><tr><td>null</td><td>436</td><td>Medication management</td><td>645341.0</td></tr><tr><td>null</td><td>341</td><td>Lumbar puncture</td><td>965585.0</td></tr><tr><td>null</td><td>286</td><td>Comprehensive geriatric assessment</td><td>417316.0</td></tr><tr><td>null</td><td>621</td><td>Thyroid biopsy</td><td>545986.0</td></tr><tr><td>null</td><td>779</td><td>EEG (Electroencephalogram)</td><td>829856.0</td></tr><tr><td>null</td><td>245</td><td>Chronic disease management</td><td>213390.0</td></tr><tr><td>null</td><td>774</td><td>Anesthetic care during childbirth</td><td>207275.0</td></tr><tr><td>null</td><td>312</td><td>Well-child check-ups</td><td>545613.0</td></tr><tr><td>null</td><td>147</td><td>Trauma resuscitation</td><td>641299.0</td></tr><tr><td>null</td><td>950</td><td>Thyroid biopsy</td><td>337517.0</td></tr><tr><td>null</td><td>247</td><td>Laser therapy for skin conditions</td><td>82041.0</td></tr><tr><td>null</td><td>818</td><td>Epidural anesthesia for pain management</td><td>939175.0</td></tr><tr><td>null</td><td>970</td><td>Chemotherapy</td><td>825064.0</td></tr><tr><td>null</td><td>989</td><td>Emergency surgical procedures</td><td>708383.0</td></tr><tr><td>null</td><td>651</td><td>Advanced cardiac life support</td><td>391947.0</td></tr><tr><td>null</td><td>639</td><td>null</td><td>93027.0</td></tr><tr><td>null</td><td>242</td><td>Cardiology:</td><td>564585.0</td></tr><tr><td>null</td><td>161</td><td>MRI for brain imaging</td><td>555135.0</td></tr><tr><td>null</td><td>211</td><td>Retinal surgery</td><td>989492.0</td></tr><tr><td>null</td><td>884</td><td>Sedation for minor procedures</td><td>710438.0</td></tr><tr><td>null</td><td>415</td><td>Well-child check-ups</td><td>618904.0</td></tr><tr><td>null</td><td>817</td><td>Well-child check-ups</td><td>885660.0</td></tr><tr><td>null</td><td>881</td><td>Rhinoplasty</td><td>497541.0</td></tr><tr><td>null</td><td>618</td><td>null</td><td>706908.0</td></tr><tr><td>null</td><td>497</td><td>Dialysis</td><td>750799.0</td></tr><tr><td>null</td><td>395</td><td>Lumbar puncture</td><td>626659.0</td></tr><tr><td>null</td><td>571</td><td>Immunizations</td><td>129560.0</td></tr><tr><td>null</td><td>946</td><td>Epidural anesthesia for pain management</td><td>183386.0</td></tr><tr><td>null</td><td>634</td><td>Intensive care management</td><td>831529.0</td></tr><tr><td>null</td><td>939</td><td>Medication management</td><td>856612.0</td></tr><tr><td>null</td><td>850</td><td>Symptom management for end-of-life care</td><td>306776.0</td></tr><tr><td>null</td><td>916</td><td>Insulin pump management for diabetes</td><td>859275.0</td></tr><tr><td>null</td><td>918</td><td>Insulin pump management for diabetes</td><td>716535.0</td></tr><tr><td>null</td><td>317</td><td>Management of complex medical conditions</td><td>301311.0</td></tr><tr><td>null</td><td>682</td><td>Thyroid biopsy</td><td>279738.0</td></tr><tr><td>null</td><td>746</td><td>Angioplasty and stent placement</td><td>375109.0</td></tr><tr><td>null</td><td>466</td><td>Endoscopy</td><td>681186.0</td></tr><tr><td>null</td><td>179</td><td>Well-child check-ups</td><td>662830.0</td></tr><tr><td>null</td><td>645</td><td>Electroconvulsive therapy (ECT)</td><td>460449.0</td></tr><tr><td>null</td><td>448</td><td>LASIK eye surgery</td><td>571430.0</td></tr><tr><td>null</td><td>774</td><td>Epidural anesthesia for pain management</td><td>599258.0</td></tr><tr><td>null</td><td>780</td><td>Laser therapy for skin conditions</td><td>901532.0</td></tr><tr><td>null</td><td>705</td><td>Pacemaker implantation</td><td>794496.0</td></tr><tr><td>null</td><td>948</td><td>Surgical oncology</td><td>489801.0</td></tr><tr><td>null</td><td>804</td><td>Electroconvulsive therapy (ECT)</td><td>515777.0</td></tr><tr><td>null</td><td>190</td><td>General health check-ups</td><td>828872.0</td></tr><tr><td>null</td><td>510</td><td>Management of complex medical conditions</td><td>449306.0</td></tr><tr><td>null</td><td>889</td><td>LASIK eye surgery</td><td>167011.0</td></tr><tr><td>null</td><td>160</td><td>Cataract surgery</td><td>185675.0</td></tr><tr><td>null</td><td>626</td><td>Retinal surgery</td><td>859556.0</td></tr><tr><td>null</td><td>325</td><td>X-rays, CT scans, MRI scans</td><td>423459.0</td></tr><tr><td>null</td><td>134</td><td>Management of complex infections</td><td>761048.0</td></tr><tr><td>null</td><td>208</td><td>Allergy testing</td><td>497882.0</td></tr><tr><td>null</td><td>631</td><td>Allergy testing</td><td>740301.0</td></tr><tr><td>null</td><td>566</td><td>Comprehensive geriatric assessment</td><td>656471.0</td></tr><tr><td>null</td><td>450</td><td>Cataract surgery</td><td>390250.0</td></tr><tr><td>null</td><td>359</td><td>Dermatologic surgery</td><td>38141.0</td></tr><tr><td>null</td><td>104</td><td>Hemodynamic monitoring</td><td>676780.0</td></tr><tr><td>null</td><td>908</td><td>Dementia care</td><td>643347.0</td></tr><tr><td>null</td><td>779</td><td>Dialysis</td><td>303506.0</td></tr><tr><td>null</td><td>666</td><td>Plastic surgery</td><td>95966.0</td></tr><tr><td>null</td><td>849</td><td>General surgery</td><td>332209.0</td></tr><tr><td>null</td><td>307</td><td>Hemodynamic monitoring</td><td>250237.0</td></tr><tr><td>null</td><td>249</td><td>Epidural anesthesia for pain management</td><td>849723.0</td></tr><tr><td>null</td><td>789</td><td>Angioplasty and stent placement</td><td>964877.0</td></tr><tr><td>null</td><td>644</td><td>null</td><td>268483.0</td></tr><tr><td>null</td><td>724</td><td>Pediatric surgery</td><td>879224.0</td></tr><tr><td>null</td><td>864</td><td>Emotional and spiritual support</td><td>136434.0</td></tr><tr><td>null</td><td>692</td><td>General health check-ups</td><td>860765.0</td></tr><tr><td>null</td><td>841</td><td>Advanced cardiac life support</td><td>83716.0</td></tr><tr><td>null</td><td>985</td><td>Endoscopy</td><td>446723.0</td></tr><tr><td>null</td><td>533</td><td>Cosmetic procedures (e.g., Botox, fillers)</td><td>561665.0</td></tr><tr><td>null</td><td>920</td><td>Radiation therapy</td><td>974892.0</td></tr><tr><td>null</td><td>531</td><td>LASIK eye surgery</td><td>321906.0</td></tr><tr><td>null</td><td>292</td><td>Mechanical ventilation</td><td>780923.0</td></tr><tr><td>null</td><td>249</td><td>Interventional radiology procedures</td><td>961692.0</td></tr><tr><td>null</td><td>929</td><td>Psychotherapy</td><td>789026.0</td></tr><tr><td>null</td><td>721</td><td>Minor surgical procedures</td><td>100665.0</td></tr><tr><td>null</td><td>347</td><td>Intensive care management</td><td>479307.0</td></tr><tr><td>null</td><td>118</td><td>Chronic disease management</td><td>418597.0</td></tr><tr><td>null</td><td>557</td><td>Colonoscopy</td><td>108408.0</td></tr><tr><td>null</td><td>284</td><td>X-rays, CT scans, MRI scans</td><td>183486.0</td></tr><tr><td>null</td><td>467</td><td>Electroconvulsive therapy (ECT)</td><td>530463.0</td></tr><tr><td>null</td><td>396</td><td>Cochlear implant surgery</td><td>492242.0</td></tr><tr><td>null</td><td>918</td><td>Epidural anesthesia for pain management</td><td>700500.0</td></tr><tr><td>null</td><td>598</td><td>Advanced cardiac life support</td><td>230231.0</td></tr><tr><td>null</td><td>397</td><td>Endoscopy</td><td>240771.0</td></tr><tr><td>null</td><td>689</td><td>Pediatric surgery</td><td>742667.0</td></tr><tr><td>null</td><td>565</td><td>Bronchoscopy</td><td>71211.0</td></tr><tr><td>null</td><td>152</td><td>Insulin pump management for diabetes</td><td>317985.0</td></tr><tr><td>null</td><td>541</td><td>Symptom management for end-of-life care</td><td>473633.0</td></tr><tr><td>null</td><td>525</td><td>Hemodynamic monitoring</td><td>297615.0</td></tr><tr><td>null</td><td>427</td><td>Coronary artery bypass surgery</td><td>587672.0</td></tr><tr><td>null</td><td>865</td><td>Dermatologic surgery</td><td>834252.0</td></tr><tr><td>null</td><td>202</td><td>Trauma resuscitation</td><td>821302.0</td></tr><tr><td>null</td><td>863</td><td>Orthopedic surgery</td><td>171290.0</td></tr><tr><td>null</td><td>375</td><td>Lumbar puncture</td><td>537335.0</td></tr><tr><td>null</td><td>716</td><td>Hormone replacement therapy</td><td>24833.0</td></tr><tr><td>null</td><td>804</td><td>Intensive care management</td><td>773759.0</td></tr><tr><td>null</td><td>708</td><td>Insulin pump management for diabetes</td><td>733082.0</td></tr><tr><td>null</td><td>969</td><td>Cardiology:</td><td>625713.0</td></tr><tr><td>null</td><td>750</td><td>Epidural anesthesia for pain management</td><td>291227.0</td></tr><tr><td>null</td><td>116</td><td>Liver biopsy</td><td>599208.0</td></tr><tr><td>null</td><td>418</td><td>Cosmetic procedures (e.g., Botox, fillers)</td><td>426269.0</td></tr><tr><td>null</td><td>812</td><td>Emotional and spiritual support</td><td>346729.0</td></tr><tr><td>null</td><td>146</td><td>Immunotherapy (allergy shots)</td><td>36532.0</td></tr><tr><td>null</td><td>900</td><td>Dialysis</td><td>493552.0</td></tr><tr><td>null</td><td>182</td><td>Immunizations</td><td>306699.0</td></tr><tr><td>null</td><td>995</td><td>Insulin pump management for diabetes</td><td>389777.0</td></tr><tr><td>null</td><td>185</td><td>Emergency surgical procedures</td><td>134921.0</td></tr><tr><td>null</td><td>336</td><td>Pulmonary function tests</td><td>494270.0</td></tr><tr><td>null</td><td>342</td><td>General surgery</td><td>47619.0</td></tr><tr><td>null</td><td>131</td><td>Anesthetic care during childbirth</td><td>458455.0</td></tr><tr><td>null</td><td>407</td><td>Rhinoplasty</td><td>878717.0</td></tr><tr><td>null</td><td>956</td><td>MRI for brain imaging</td><td>715291.0</td></tr><tr><td>null</td><td>252</td><td>Psychotherapy</td><td>698103.0</td></tr><tr><td>null</td><td>694</td><td>Symptom management for end-of-life care</td><td>598206.0</td></tr><tr><td>null</td><td>742</td><td>Psychotherapy</td><td>314655.0</td></tr><tr><td>null</td><td>593</td><td>Cataract surgery</td><td>39971.0</td></tr><tr><td>null</td><td>950</td><td>Dermatologic surgery</td><td>854536.0</td></tr><tr><td>null</td><td>958</td><td>Surgical oncology</td><td>118150.0</td></tr><tr><td>null</td><td>444</td><td>Rhinoplasty</td><td>402316.0</td></tr><tr><td>null</td><td>359</td><td>Dementia care</td><td>977776.0</td></tr><tr><td>null</td><td>201</td><td>Mechanical ventilation</td><td>400717.0</td></tr><tr><td>null</td><td>134</td><td>Chronic disease management</td><td>354598.0</td></tr><tr><td>null</td><td>828</td><td>Emergency surgical procedures</td><td>562898.0</td></tr><tr><td>null</td><td>650</td><td>Tonsillectomy and adenoidectomy</td><td>691840.0</td></tr><tr><td>null</td><td>393</td><td>Radiation therapy</td><td>73477.0</td></tr><tr><td>null</td><td>151</td><td>X-rays, CT scans, MRI scans</td><td>50442.0</td></tr><tr><td>null</td><td>913</td><td>Coronary artery bypass surgery</td><td>461034.0</td></tr><tr><td>null</td><td>659</td><td>Immunotherapy (allergy shots)</td><td>348712.0</td></tr><tr><td>null</td><td>879</td><td>Emergency surgical procedures</td><td>985052.0</td></tr><tr><td>null</td><td>880</td><td>Psychotherapy</td><td>375887.0</td></tr><tr><td>null</td><td>589</td><td>Antibiotic therapy</td><td>394135.0</td></tr><tr><td>null</td><td>436</td><td>Ventilation support</td><td>176591.0</td></tr><tr><td>null</td><td>637</td><td>General health check-ups</td><td>465030.0</td></tr><tr><td>null</td><td>448</td><td>Insulin pump management for diabetes</td><td>383021.0</td></tr><tr><td>null</td><td>149</td><td>Epidural analgesia during labor</td><td>408676.0</td></tr><tr><td>null</td><td>339</td><td>Medication management</td><td>728999.0</td></tr><tr><td>null</td><td>457</td><td>Kidney transplant</td><td>158030.0</td></tr><tr><td>null</td><td>329</td><td>Pulmonary function tests</td><td>909175.0</td></tr><tr><td>null</td><td>635</td><td>Pacemaker implantation</td><td>641866.0</td></tr><tr><td>null</td><td>514</td><td>Immunizations</td><td>490692.0</td></tr><tr><td>null</td><td>750</td><td>Intensive care management</td><td>270346.0</td></tr><tr><td>null</td><td>718</td><td>Psychotherapy</td><td>195281.0</td></tr><tr><td>null</td><td>194</td><td>Hormone replacement therapy</td><td>871755.0</td></tr><tr><td>null</td><td>899</td><td>Tonsillectomy and adenoidectomy</td><td>695679.0</td></tr><tr><td>null</td><td>899</td><td>Ventilation support</td><td>342086.0</td></tr><tr><td>null</td><td>197</td><td>Bronchoscopy</td><td>837225.0</td></tr><tr><td>null</td><td>354</td><td>Comprehensive geriatric assessment</td><td>756533.0</td></tr><tr><td>null</td><td>966</td><td>Angioplasty and stent placement</td><td>503476.0</td></tr><tr><td>null</td><td>426</td><td>Interventional radiology procedures</td><td>209733.0</td></tr><tr><td>null</td><td>700</td><td>Comprehensive geriatric assessment</td><td>136473.0</td></tr><tr><td>null</td><td>409</td><td>Intensive care management</td><td>577907.0</td></tr><tr><td>null</td><td>618</td><td>Pacemaker implantation</td><td>408965.0</td></tr><tr><td>null</td><td>760</td><td>Interventional radiology procedures</td><td>898329.0</td></tr><tr><td>null</td><td>370</td><td>Dialysis</td><td>869051.0</td></tr><tr><td>null</td><td>531</td><td>Surgical oncology</td><td>607491.0</td></tr><tr><td>null</td><td>169</td><td>null</td><td>333347.0</td></tr><tr><td>null</td><td>723</td><td>Emotional and spiritual support</td><td>389474.0</td></tr><tr><td>null</td><td>829</td><td>General anesthesia for surgeries</td><td>453973.0</td></tr><tr><td>null</td><td>514</td><td>Cochlear implant surgery</td><td>666007.0</td></tr><tr><td>null</td><td>739</td><td>LASIK eye surgery</td><td>161985.0</td></tr><tr><td>null</td><td>588</td><td>null</td><td>713514.0</td></tr><tr><td>null</td><td>301</td><td>Minor surgical procedures</td><td>763077.0</td></tr><tr><td>null</td><td>305</td><td>Polypharmacy management</td><td>87017.0</td></tr><tr><td>null</td><td>652</td><td>null</td><td>163909.0</td></tr><tr><td>null</td><td>627</td><td>Surgical oncology</td><td>248585.0</td></tr><tr><td>null</td><td>869</td><td>Bronchoscopy</td><td>510525.0</td></tr><tr><td>null</td><td>608</td><td>Intensive care management</td><td>399227.0</td></tr><tr><td>null</td><td>453</td><td>Dialysis</td><td>74295.0</td></tr><tr><td>null</td><td>801</td><td>Immunotherapy (allergy shots)</td><td>848216.0</td></tr><tr><td>null</td><td>636</td><td>Pulmonary function tests</td><td>944293.0</td></tr><tr><td>null</td><td>622</td><td>Ventilation support</td><td>42630.0</td></tr><tr><td>null</td><td>257</td><td>Emotional and spiritual support</td><td>429014.0</td></tr><tr><td>null</td><td>968</td><td>Chemotherapy</td><td>58495.0</td></tr><tr><td>null</td><td>421</td><td>Immunizations</td><td>355657.0</td></tr><tr><td>null</td><td>110</td><td>Orthopedic surgery</td><td>33328.0</td></tr><tr><td>null</td><td>850</td><td>Epidural anesthesia for pain management</td><td>11836.0</td></tr><tr><td>null</td><td>296</td><td>Insulin pump management for diabetes</td><td>605489.0</td></tr><tr><td>null</td><td>196</td><td>Insulin pump management for diabetes</td><td>508443.0</td></tr><tr><td>null</td><td>506</td><td>Electroconvulsive therapy (ECT)</td><td>146828.0</td></tr><tr><td>null</td><td>767</td><td>Plastic surgery</td><td>532627.0</td></tr><tr><td>null</td><td>788</td><td>Epidural anesthesia for pain management</td><td>852918.0</td></tr><tr><td>null</td><td>686</td><td>Insulin pump management for diabetes</td><td>182726.0</td></tr><tr><td>null</td><td>196</td><td>Hormone replacement therapy</td><td>650302.0</td></tr><tr><td>null</td><td>986</td><td>Management of complex infections</td><td>542178.0</td></tr><tr><td>null</td><td>336</td><td>Emotional and spiritual support</td><td>959391.0</td></tr><tr><td>null</td><td>619</td><td>Management of complex infections</td><td>458642.0</td></tr><tr><td>null</td><td>920</td><td>Electroconvulsive therapy (ECT)</td><td>402235.0</td></tr><tr><td>null</td><td>582</td><td>Epidural analgesia during labor</td><td>550867.0</td></tr><tr><td>null</td><td>713</td><td>Pediatric surgery</td><td>895420.0</td></tr><tr><td>null</td><td>902</td><td>Dermatologic surgery</td><td>194658.0</td></tr><tr><td>null</td><td>527</td><td>Surgical oncology</td><td>116725.0</td></tr><tr><td>null</td><td>384</td><td>Pacemaker implantation</td><td>690648.0</td></tr><tr><td>null</td><td>651</td><td>Liver biopsy</td><td>635270.0</td></tr><tr><td>null</td><td>350</td><td>LASIK eye surgery</td><td>776923.0</td></tr><tr><td>null</td><td>113</td><td>Symptom management for end-of-life care</td><td>669516.0</td></tr><tr><td>null</td><td>667</td><td>Dermatologic surgery</td><td>582613.0</td></tr><tr><td>null</td><td>373</td><td>Ventilation support</td><td>307213.0</td></tr><tr><td>null</td><td>411</td><td>Cardiology:</td><td>363996.0</td></tr><tr><td>null</td><td>146</td><td>Allergy testing</td><td>129040.0</td></tr><tr><td>null</td><td>923</td><td>Chronic disease management</td><td>345180.0</td></tr><tr><td>null</td><td>218</td><td>null</td><td>771848.0</td></tr><tr><td>null</td><td>205</td><td>Epidural analgesia during labor</td><td>121028.0</td></tr><tr><td>null</td><td>974</td><td>Laser therapy for skin conditions</td><td>750392.0</td></tr><tr><td>null</td><td>307</td><td>Thyroid biopsy</td><td>757391.0</td></tr><tr><td>null</td><td>790</td><td>Bronchoscopy</td><td>654268.0</td></tr><tr><td>null</td><td>992</td><td>Ventilation support</td><td>24611.0</td></tr><tr><td>null</td><td>762</td><td>X-rays, CT scans, MRI scans</td><td>60813.0</td></tr><tr><td>null</td><td>413</td><td>Hormone replacement therapy</td><td>946856.0</td></tr><tr><td>null</td><td>405</td><td>Pacemaker implantation</td><td>723767.0</td></tr><tr><td>null</td><td>314</td><td>Medication management</td><td>372518.0</td></tr><tr><td>null</td><td>834</td><td>Cataract surgery</td><td>41654.0</td></tr><tr><td>null</td><td>124</td><td>Orthopedic surgery</td><td>416167.0</td></tr><tr><td>null</td><td>431</td><td>Bronchoscopy</td><td>39206.0</td></tr><tr><td>null</td><td>555</td><td>Plastic surgery</td><td>392919.0</td></tr><tr><td>null</td><td>283</td><td>Interventional radiology procedures</td><td>798821.0</td></tr><tr><td>null</td><td>709</td><td>Intensive care management</td><td>32931.0</td></tr><tr><td>null</td><td>744</td><td>Emergency surgical procedures</td><td>584326.0</td></tr><tr><td>null</td><td>483</td><td>Internal medicine consultations</td><td>657933.0</td></tr><tr><td>null</td><td>171</td><td>Bronchoscopy</td><td>41842.0</td></tr><tr><td>null</td><td>567</td><td>Intensive care management</td><td>932081.0</td></tr><tr><td>null</td><td>812</td><td>Angioplasty and stent placement</td><td>91710.0</td></tr><tr><td>null</td><td>182</td><td>Kidney transplant</td><td>833547.0</td></tr><tr><td>null</td><td>391</td><td>LASIK eye surgery</td><td>989548.0</td></tr><tr><td>null</td><td>803</td><td>Medication management</td><td>384096.0</td></tr><tr><td>null</td><td>119</td><td>Chronic disease management</td><td>961653.0</td></tr><tr><td>null</td><td>306</td><td>Comprehensive geriatric assessment</td><td>333274.0</td></tr><tr><td>null</td><td>770</td><td>Chronic disease management</td><td>345876.0</td></tr><tr><td>null</td><td>900</td><td>Laser therapy for skin conditions</td><td>585170.0</td></tr><tr><td>null</td><td>515</td><td>MRI for brain imaging</td><td>199737.0</td></tr><tr><td>null</td><td>929</td><td>Dermatologic surgery</td><td>549511.0</td></tr><tr><td>null</td><td>679</td><td>Management of complex infections</td><td>211599.0</td></tr><tr><td>null</td><td>356</td><td>Immunizations</td><td>405110.0</td></tr><tr><td>null</td><td>671</td><td>General health check-ups</td><td>250318.0</td></tr><tr><td>null</td><td>901</td><td>Radiation therapy</td><td>203010.0</td></tr><tr><td>null</td><td>121</td><td>Laser therapy for skin conditions</td><td>114657.0</td></tr><tr><td>null</td><td>471</td><td>Dermatologic surgery</td><td>379798.0</td></tr><tr><td>null</td><td>854</td><td>Liver biopsy</td><td>478910.0</td></tr><tr><td>null</td><td>808</td><td>Emotional and spiritual support</td><td>775636.0</td></tr><tr><td>null</td><td>759</td><td>Minor surgical procedures</td><td>470735.0</td></tr><tr><td>null</td><td>643</td><td>Cosmetic procedures (e.g., Botox, fillers)</td><td>142608.0</td></tr><tr><td>null</td><td>751</td><td>Hemodynamic monitoring</td><td>259585.0</td></tr><tr><td>null</td><td>733</td><td>Trauma resuscitation</td><td>995034.0</td></tr><tr><td>null</td><td>821</td><td>Nephrectomy</td><td>38172.0</td></tr><tr><td>null</td><td>431</td><td>Internal medicine consultations</td><td>545409.0</td></tr><tr><td>null</td><td>664</td><td>Psychotherapy</td><td>44177.0</td></tr><tr><td>null</td><td>563</td><td>Immunizations</td><td>464617.0</td></tr><tr><td>null</td><td>353</td><td>LASIK eye surgery</td><td>963240.0</td></tr><tr><td>null</td><td>649</td><td>Bronchoscopy</td><td>683297.0</td></tr><tr><td>null</td><td>808</td><td>Electroconvulsive therapy (ECT)</td><td>395938.0</td></tr><tr><td>null</td><td>520</td><td>Endoscopy</td><td>923677.0</td></tr><tr><td>null</td><td>778</td><td>Thyroid biopsy</td><td>362028.0</td></tr><tr><td>null</td><td>662</td><td>Angioplasty and stent placement</td><td>309466.0</td></tr><tr><td>null</td><td>147</td><td>Cardiology:</td><td>494217.0</td></tr><tr><td>null</td><td>410</td><td>Ventilation support</td><td>998106.0</td></tr><tr><td>null</td><td>635</td><td>Chronic disease management</td><td>728026.0</td></tr><tr><td>null</td><td>938</td><td>Dermatologic surgery</td><td>120179.0</td></tr><tr><td>null</td><td>488</td><td>General health check-ups</td><td>978590.0</td></tr><tr><td>null</td><td>231</td><td>Angioplasty and stent placement</td><td>443093.0</td></tr><tr><td>null</td><td>272</td><td>Dementia care</td><td>930438.0</td></tr><tr><td>null</td><td>600</td><td>Insulin pump management for diabetes</td><td>857895.0</td></tr><tr><td>null</td><td>814</td><td>Chronic disease management</td><td>145410.0</td></tr><tr><td>null</td><td>723</td><td>Hemodynamic monitoring</td><td>539646.0</td></tr><tr><td>null</td><td>488</td><td>Allergy testing</td><td>728165.0</td></tr><tr><td>null</td><td>286</td><td>General anesthesia for surgeries</td><td>438263.0</td></tr><tr><td>null</td><td>647</td><td>Dermatologic surgery</td><td>575431.0</td></tr><tr><td>null</td><td>733</td><td>Surgical oncology</td><td>751585.0</td></tr><tr><td>null</td><td>971</td><td>General anesthesia for surgeries</td><td>60803.0</td></tr><tr><td>null</td><td>462</td><td>Advanced cardiac life support</td><td>614806.0</td></tr><tr><td>null</td><td>735</td><td>X-rays, CT scans, MRI scans</td><td>109954.0</td></tr><tr><td>null</td><td>453</td><td>Thyroid biopsy</td><td>660595.0</td></tr><tr><td>null</td><td>797</td><td>Allergy testing</td><td>600877.0</td></tr><tr><td>null</td><td>843</td><td>Sedation for minor procedures</td><td>48292.0</td></tr><tr><td>null</td><td>140</td><td>Sedation for minor procedures</td><td>110145.0</td></tr><tr><td>null</td><td>837</td><td>Rhinoplasty</td><td>547703.0</td></tr><tr><td>null</td><td>888</td><td>Management of complex infections</td><td>821747.0</td></tr><tr><td>null</td><td>843</td><td>Hormone replacement therapy</td><td>95843.0</td></tr><tr><td>null</td><td>230</td><td>Kidney transplant</td><td>486116.0</td></tr><tr><td>null</td><td>902</td><td>Kidney transplant</td><td>952283.0</td></tr><tr><td>null</td><td>175</td><td>Medication management</td><td>352199.0</td></tr><tr><td>null</td><td>212</td><td>Mechanical ventilation</td><td>592444.0</td></tr><tr><td>null</td><td>979</td><td>Cochlear implant surgery</td><td>348267.0</td></tr><tr><td>null</td><td>376</td><td>Trauma resuscitation</td><td>316200.0</td></tr><tr><td>null</td><td>333</td><td>Allergy testing</td><td>477335.0</td></tr><tr><td>null</td><td>267</td><td>Management of complex infections</td><td>918079.0</td></tr><tr><td>null</td><td>880</td><td>Mechanical ventilation</td><td>632888.0</td></tr><tr><td>null</td><td>252</td><td>Management of complex infections</td><td>19274.0</td></tr><tr><td>null</td><td>869</td><td>Advanced cardiac life support</td><td>915672.0</td></tr><tr><td>null</td><td>152</td><td>Insulin pump management for diabetes</td><td>104594.0</td></tr><tr><td>null</td><td>1000</td><td>Rhinoplasty</td><td>639461.0</td></tr><tr><td>null</td><td>832</td><td>Psychotherapy</td><td>458149.0</td></tr><tr><td>null</td><td>960</td><td>Advanced cardiac life support</td><td>748104.0</td></tr><tr><td>null</td><td>480</td><td>Coronary artery bypass surgery</td><td>714118.0</td></tr><tr><td>null</td><td>205</td><td>Dermatologic surgery</td><td>674041.0</td></tr><tr><td>null</td><td>879</td><td>LASIK eye surgery</td><td>566544.0</td></tr><tr><td>null</td><td>639</td><td>Epidural anesthesia for pain management</td><td>812712.0</td></tr><tr><td>null</td><td>857</td><td>Chronic disease management</td><td>562650.0</td></tr><tr><td>null</td><td>173</td><td>Plastic surgery</td><td>848696.0</td></tr><tr><td>null</td><td>657</td><td>General surgery</td><td>619728.0</td></tr><tr><td>null</td><td>181</td><td>Retinal surgery</td><td>377936.0</td></tr><tr><td>null</td><td>245</td><td>Minor surgical procedures</td><td>239815.0</td></tr><tr><td>null</td><td>557</td><td>Ventilation support</td><td>238749.0</td></tr><tr><td>null</td><td>459</td><td>Emergency surgical procedures</td><td>896873.0</td></tr><tr><td>null</td><td>733</td><td>Epidural analgesia during labor</td><td>568320.0</td></tr><tr><td>null</td><td>197</td><td>Chronic disease management</td><td>919865.0</td></tr><tr><td>null</td><td>155</td><td>Allergy testing</td><td>520455.0</td></tr><tr><td>null</td><td>312</td><td>Pulmonary function tests</td><td>985602.0</td></tr><tr><td>null</td><td>555</td><td>Management of complex medical conditions</td><td>612938.0</td></tr><tr><td>null</td><td>664</td><td>Well-child check-ups</td><td>26117.0</td></tr><tr><td>null</td><td>849</td><td>General surgery</td><td>68004.0</td></tr><tr><td>null</td><td>713</td><td>Kidney transplant</td><td>92094.0</td></tr><tr><td>null</td><td>962</td><td>Advanced cardiac life support</td><td>754556.0</td></tr><tr><td>null</td><td>972</td><td>Colonoscopy</td><td>781673.0</td></tr><tr><td>null</td><td>141</td><td>Advanced cardiac life support</td><td>627535.0</td></tr><tr><td>null</td><td>110</td><td>Cardiology:</td><td>308067.0</td></tr><tr><td>null</td><td>285</td><td>Cochlear implant surgery</td><td>589274.0</td></tr><tr><td>null</td><td>693</td><td>Comprehensive geriatric assessment</td><td>631270.0</td></tr><tr><td>null</td><td>563</td><td>Hemodynamic monitoring</td><td>208261.0</td></tr><tr><td>null</td><td>535</td><td>Pediatric surgery</td><td>836470.0</td></tr><tr><td>null</td><td>597</td><td>Hemodynamic monitoring</td><td>299671.0</td></tr><tr><td>null</td><td>496</td><td>Nephrectomy</td><td>929242.0</td></tr><tr><td>null</td><td>334</td><td>Thyroid biopsy</td><td>394584.0</td></tr><tr><td>null</td><td>536</td><td>General anesthesia for surgeries</td><td>767025.0</td></tr><tr><td>null</td><td>986</td><td>Sedation for minor procedures</td><td>925988.0</td></tr><tr><td>null</td><td>416</td><td>Bronchoscopy</td><td>458514.0</td></tr><tr><td>null</td><td>892</td><td>Laser therapy for skin conditions</td><td>443874.0</td></tr><tr><td>null</td><td>952</td><td>Trauma resuscitation</td><td>682613.0</td></tr><tr><td>null</td><td>218</td><td>Lumbar puncture</td><td>67022.0</td></tr><tr><td>null</td><td>971</td><td>Hemodynamic monitoring</td><td>697675.0</td></tr><tr><td>null</td><td>348</td><td>Retinal surgery</td><td>551621.0</td></tr><tr><td>null</td><td>193</td><td>General health check-ups</td><td>848373.0</td></tr><tr><td>null</td><td>573</td><td>Epidural anesthesia for pain management</td><td>219087.0</td></tr><tr><td>null</td><td>458</td><td>Cataract surgery</td><td>793542.0</td></tr><tr><td>null</td><td>242</td><td>Laser therapy for skin conditions</td><td>565746.0</td></tr><tr><td>null</td><td>600</td><td>Orthopedic surgery</td><td>435633.0</td></tr><tr><td>null</td><td>175</td><td>Immunotherapy (allergy shots)</td><td>569769.0</td></tr><tr><td>null</td><td>266</td><td>Sedation for minor procedures</td><td>761099.0</td></tr><tr><td>null</td><td>717</td><td>Epidural analgesia during labor</td><td>349500.0</td></tr><tr><td>null</td><td>191</td><td>Radiation therapy</td><td>558902.0</td></tr><tr><td>null</td><td>530</td><td>Medication management</td><td>850523.0</td></tr><tr><td>null</td><td>610</td><td>Symptom management for end-of-life care</td><td>351723.0</td></tr><tr><td>null</td><td>373</td><td>Mechanical ventilation</td><td>707696.0</td></tr><tr><td>null</td><td>559</td><td>Rhinoplasty</td><td>52625.0</td></tr><tr><td>null</td><td>428</td><td>Cochlear implant surgery</td><td>655511.0</td></tr><tr><td>null</td><td>222</td><td>Psychotherapy</td><td>368435.0</td></tr><tr><td>null</td><td>198</td><td>Symptom management for end-of-life care</td><td>396549.0</td></tr><tr><td>null</td><td>179</td><td>Advanced cardiac life support</td><td>794440.0</td></tr><tr><td>null</td><td>252</td><td>Electroconvulsive therapy (ECT)</td><td>25133.0</td></tr><tr><td>null</td><td>272</td><td>Immunizations</td><td>201836.0</td></tr><tr><td>null</td><td>371</td><td>Sedation for minor procedures</td><td>472275.0</td></tr><tr><td>null</td><td>904</td><td>Laser therapy for skin conditions</td><td>965212.0</td></tr><tr><td>null</td><td>195</td><td>Emotional and spiritual support</td><td>950461.0</td></tr><tr><td>null</td><td>634</td><td>Immunizations</td><td>45782.0</td></tr><tr><td>null</td><td>871</td><td>Pacemaker implantation</td><td>366293.0</td></tr><tr><td>null</td><td>696</td><td>LASIK eye surgery</td><td>408017.0</td></tr><tr><td>null</td><td>117</td><td>Cochlear implant surgery</td><td>639310.0</td></tr><tr><td>null</td><td>698</td><td>Medication management</td><td>785130.0</td></tr><tr><td>null</td><td>851</td><td>Immunizations</td><td>967709.0</td></tr><tr><td>null</td><td>562</td><td>Pulmonary function tests</td><td>884305.0</td></tr><tr><td>null</td><td>854</td><td>Thyroid biopsy</td><td>410465.0</td></tr><tr><td>null</td><td>245</td><td>Bronchoscopy</td><td>55055.0</td></tr><tr><td>null</td><td>770</td><td>Intensive care management</td><td>279497.0</td></tr><tr><td>null</td><td>941</td><td>Chronic disease management</td><td>505123.0</td></tr><tr><td>null</td><td>365</td><td>General anesthesia for surgeries</td><td>457946.0</td></tr><tr><td>null</td><td>651</td><td>Pacemaker implantation</td><td>702692.0</td></tr><tr><td>null</td><td>434</td><td>Radiation therapy</td><td>914950.0</td></tr><tr><td>null</td><td>883</td><td>Surgical oncology</td><td>218009.0</td></tr><tr><td>null</td><td>112</td><td>Chronic disease management</td><td>975444.0</td></tr></tbody></table></div>"
      ]
     },
     "metadata": {
      "application/vnd.databricks.v1+output": {
       "addedWidgets": {},
       "aggData": [],
       "aggError": "",
       "aggOverflow": false,
       "aggSchema": [],
       "aggSeriesLimitReached": false,
       "aggType": "",
       "arguments": {},
       "columnCustomDisplayInfos": {},
       "data": [
        [
         null,
         894,
         "Immunizations",
         956065
        ],
        [
         null,
         448,
         "Cataract surgery",
         188997
        ],
        [
         null,
         618,
         "Pediatric surgery",
         524091
        ],
        [
         null,
         117,
         "Rhinoplasty",
         901393
        ],
        [
         null,
         374,
         "Antibiotic therapy",
         448957
        ],
        [
         null,
         852,
         "Emergency surgical procedures",
         869041
        ],
        [
         null,
         834,
         "Pediatric surgery",
         492022
        ],
        [
         null,
         140,
         "Hemodynamic monitoring",
         644410
        ],
        [
         null,
         459,
         "Emergency surgical procedures",
         295907
        ],
        [
         null,
         734,
         "Immunotherapy (allergy shots)",
         766908
        ],
        [
         null,
         261,
         "Cochlear implant surgery",
         108949
        ],
        [
         null,
         166,
         "Chemotherapy",
         750380
        ],
        [
         null,
         545,
         "Nephrectomy",
         665629
        ],
        [
         null,
         776,
         "Pediatric surgery",
         764479
        ],
        [
         null,
         448,
         "Chronic disease management",
         190397
        ],
        [
         null,
         230,
         "Bronchoscopy",
         704129
        ],
        [
         null,
         582,
         "Lumbar puncture",
         179636
        ],
        [
         null,
         136,
         "Trauma resuscitation",
         35845
        ],
        [
         null,
         384,
         "Well-child check-ups",
         567942
        ],
        [
         null,
         619,
         "Retinal surgery",
         883238
        ],
        [
         null,
         141,
         "Angioplasty and stent placement",
         666508
        ],
        [
         null,
         617,
         "Orthopedic surgery",
         296067
        ],
        [
         null,
         611,
         "Colonoscopy",
         262153
        ],
        [
         null,
         744,
         "Orthopedic surgery",
         749548
        ],
        [
         null,
         526,
         "Pulmonary function tests",
         552989
        ],
        [
         null,
         711,
         "Hemodynamic monitoring",
         955371
        ],
        [
         null,
         210,
         "Dermatologic surgery",
         991256
        ],
        [
         null,
         570,
         "Tonsillectomy and adenoidectomy",
         884277
        ],
        [
         null,
         261,
         "Endoscopy",
         905728
        ],
        [
         null,
         201,
         "Immunotherapy (allergy shots)",
         715311
        ],
        [
         null,
         730,
         "Anesthetic care during childbirth",
         388002
        ],
        [
         null,
         418,
         "Emotional and spiritual support",
         103848
        ],
        [
         null,
         379,
         "Hormone replacement therapy",
         356212
        ],
        [
         null,
         971,
         "Surgical oncology",
         192687
        ],
        [
         null,
         609,
         "Bronchoscopy",
         607358
        ],
        [
         null,
         791,
         "Coronary artery bypass surgery",
         321628
        ],
        [
         null,
         562,
         "General anesthesia for surgeries",
         607507
        ],
        [
         null,
         421,
         "Surgical oncology",
         962869
        ],
        [
         null,
         215,
         "Rhinoplasty",
         954389
        ],
        [
         null,
         348,
         "Pacemaker implantation",
         552675
        ],
        [
         null,
         389,
         "Surgical oncology",
         450473
        ],
        [
         null,
         681,
         "Liver biopsy",
         693542
        ],
        [
         null,
         801,
         "Nephrectomy",
         650987
        ],
        [
         null,
         880,
         "Plastic surgery",
         75844
        ],
        [
         null,
         352,
         "Cochlear implant surgery",
         476800
        ],
        [
         null,
         227,
         "Coronary artery bypass surgery",
         262975
        ],
        [
         null,
         528,
         "Minor surgical procedures",
         910472
        ],
        [
         null,
         295,
         "General anesthesia for surgeries",
         282554
        ],
        [
         null,
         990,
         "Thyroid biopsy",
         424540
        ],
        [
         null,
         660,
         "Lumbar puncture",
         416180
        ],
        [
         null,
         493,
         "Immunotherapy (allergy shots)",
         722562
        ],
        [
         null,
         242,
         "Insulin pump management for diabetes",
         720623
        ],
        [
         null,
         834,
         "Liver biopsy",
         98221
        ],
        [
         null,
         906,
         "MRI for brain imaging",
         985403
        ],
        [
         null,
         708,
         "Chemotherapy",
         234572
        ],
        [
         null,
         692,
         "Retinal surgery",
         870314
        ],
        [
         null,
         766,
         "Dermatologic surgery",
         580361
        ],
        [
         null,
         356,
         "Sedation for minor procedures",
         928305
        ],
        [
         null,
         724,
         "Dialysis",
         900844
        ],
        [
         null,
         238,
         "Cosmetic procedures (e.g., Botox, fillers)",
         450981
        ],
        [
         null,
         120,
         "Management of complex medical conditions",
         809324
        ],
        [
         null,
         733,
         "General anesthesia for surgeries",
         649728
        ],
        [
         null,
         940,
         "Anesthetic care during childbirth",
         63245
        ],
        [
         null,
         491,
         "Chemotherapy",
         298822
        ],
        [
         null,
         994,
         "EEG (Electroencephalogram)",
         900365
        ],
        [
         null,
         415,
         "Medication management",
         828141
        ],
        [
         null,
         481,
         "Chemotherapy",
         801876
        ],
        [
         null,
         899,
         "Psychotherapy",
         91102
        ],
        [
         null,
         245,
         "Colonoscopy",
         764617
        ],
        [
         null,
         877,
         "Insulin pump management for diabetes",
         688334
        ],
        [
         null,
         959,
         "Chemotherapy",
         154402
        ],
        [
         null,
         575,
         "Cochlear implant surgery",
         626748
        ],
        [
         null,
         498,
         "Pediatric surgery",
         692480
        ],
        [
         null,
         715,
         "Chemotherapy",
         515834
        ],
        [
         null,
         905,
         "Orthopedic surgery",
         473353
        ],
        [
         null,
         725,
         "Intensive care management",
         867765
        ],
        [
         null,
         963,
         "Minor surgical procedures",
         876578
        ],
        [
         null,
         876,
         "Intensive care management",
         309808
        ],
        [
         null,
         103,
         "Nephrectomy",
         203301
        ],
        [
         null,
         839,
         "Electroconvulsive therapy (ECT)",
         156466
        ],
        [
         null,
         411,
         "EEG (Electroencephalogram)",
         902529
        ],
        [
         null,
         469,
         "Liver biopsy",
         366652
        ],
        [
         null,
         533,
         null,
         219005
        ],
        [
         null,
         940,
         "Retinal surgery",
         615537
        ],
        [
         null,
         441,
         "Chronic disease management",
         423463
        ],
        [
         null,
         793,
         "Internal medicine consultations",
         280282
        ],
        [
         null,
         635,
         "Interventional radiology procedures",
         924473
        ],
        [
         null,
         493,
         "General health check-ups",
         381767
        ],
        [
         null,
         859,
         "Symptom management for end-of-life care",
         450744
        ],
        [
         null,
         253,
         "Management of complex infections",
         632840
        ],
        [
         null,
         368,
         "Cardiology:",
         689203
        ],
        [
         null,
         929,
         "Cochlear implant surgery",
         276991
        ],
        [
         null,
         952,
         "Polypharmacy management",
         405744
        ],
        [
         null,
         951,
         "Epidural analgesia during labor",
         332061
        ],
        [
         null,
         929,
         "Symptom management for end-of-life care",
         25537
        ],
        [
         null,
         546,
         "Allergy testing",
         226964
        ],
        [
         null,
         480,
         "Rhinoplasty",
         278389
        ],
        [
         null,
         474,
         "General surgery",
         545638
        ],
        [
         null,
         685,
         "Advanced cardiac life support",
         895531
        ],
        [
         null,
         188,
         "Insulin pump management for diabetes",
         655839
        ],
        [
         null,
         220,
         "Coronary artery bypass surgery",
         585434
        ],
        [
         null,
         620,
         "General surgery",
         793561
        ],
        [
         null,
         208,
         "General health check-ups",
         765894
        ],
        [
         null,
         899,
         "Dementia care",
         924083
        ],
        [
         null,
         525,
         "Epidural analgesia during labor",
         383809
        ],
        [
         null,
         353,
         "Epidural analgesia during labor",
         220815
        ],
        [
         null,
         515,
         "Surgical oncology",
         386388
        ],
        [
         null,
         106,
         "Electroconvulsive therapy (ECT)",
         319541
        ],
        [
         null,
         904,
         "Allergy testing",
         948140
        ],
        [
         null,
         218,
         null,
         239334
        ],
        [
         null,
         674,
         "Chemotherapy",
         821103
        ],
        [
         null,
         402,
         "Well-child check-ups",
         864650
        ],
        [
         null,
         253,
         "Psychotherapy",
         49621
        ],
        [
         null,
         344,
         "Thyroid biopsy",
         729350
        ],
        [
         null,
         368,
         "Chronic disease management",
         887604
        ],
        [
         null,
         399,
         "LASIK eye surgery",
         244141
        ],
        [
         null,
         787,
         "Bronchoscopy",
         888730
        ],
        [
         null,
         730,
         "Epidural analgesia during labor",
         305293
        ],
        [
         null,
         978,
         "Symptom management for end-of-life care",
         470905
        ],
        [
         null,
         888,
         "Pediatric surgery",
         996843
        ],
        [
         null,
         932,
         "Internal medicine consultations",
         781027
        ],
        [
         null,
         131,
         "Internal medicine consultations",
         97304
        ],
        [
         null,
         604,
         "General health check-ups",
         42169
        ],
        [
         null,
         435,
         "Allergy testing",
         540435
        ],
        [
         null,
         915,
         null,
         413376
        ],
        [
         null,
         122,
         "Pediatric surgery",
         468251
        ],
        [
         null,
         730,
         "Internal medicine consultations",
         46847
        ],
        [
         null,
         277,
         "Colonoscopy",
         312611
        ],
        [
         null,
         789,
         "Insulin pump management for diabetes",
         575756
        ],
        [
         null,
         376,
         "Internal medicine consultations",
         148326
        ],
        [
         null,
         712,
         "General surgery",
         366347
        ],
        [
         null,
         570,
         "Pediatric surgery",
         615284
        ],
        [
         null,
         848,
         "Antibiotic therapy",
         508208
        ],
        [
         null,
         490,
         "Electroconvulsive therapy (ECT)",
         873461
        ],
        [
         null,
         535,
         "Pediatric surgery",
         156161
        ],
        [
         null,
         198,
         "Colonoscopy",
         416538
        ],
        [
         null,
         470,
         "Advanced cardiac life support",
         424080
        ],
        [
         null,
         440,
         "General surgery",
         760289
        ],
        [
         null,
         779,
         "Well-child check-ups",
         569888
        ],
        [
         null,
         679,
         "Anesthetic care during childbirth",
         469669
        ],
        [
         null,
         783,
         "Medication management",
         750662
        ],
        [
         null,
         852,
         "Pulmonary function tests",
         951438
        ],
        [
         null,
         967,
         "Rhinoplasty",
         384254
        ],
        [
         null,
         526,
         "Rhinoplasty",
         133562
        ],
        [
         null,
         757,
         "Sedation for minor procedures",
         948642
        ],
        [
         null,
         103,
         "General anesthesia for surgeries",
         941657
        ],
        [
         null,
         733,
         "Medication management",
         166012
        ],
        [
         null,
         926,
         "Laser therapy for skin conditions",
         953783
        ],
        [
         null,
         437,
         "Polypharmacy management",
         409394
        ],
        [
         null,
         519,
         "Cosmetic procedures (e.g., Botox, fillers)",
         642717
        ],
        [
         null,
         633,
         "Hormone replacement therapy",
         454678
        ],
        [
         null,
         482,
         "Antibiotic therapy",
         477578
        ],
        [
         null,
         866,
         "Dialysis",
         893710
        ],
        [
         null,
         371,
         "Management of complex medical conditions",
         16114
        ],
        [
         null,
         379,
         "Hemodynamic monitoring",
         592511
        ],
        [
         null,
         880,
         "Tonsillectomy and adenoidectomy",
         247308
        ],
        [
         null,
         574,
         null,
         331820
        ],
        [
         null,
         422,
         "Interventional radiology procedures",
         815557
        ],
        [
         null,
         510,
         "MRI for brain imaging",
         282519
        ],
        [
         null,
         817,
         "Insulin pump management for diabetes",
         460464
        ],
        [
         null,
         774,
         "Emergency surgical procedures",
         209903
        ],
        [
         null,
         248,
         "Mechanical ventilation",
         723691
        ],
        [
         null,
         977,
         "Lumbar puncture",
         346690
        ],
        [
         null,
         451,
         "Chemotherapy",
         153618
        ],
        [
         null,
         605,
         "Insulin pump management for diabetes",
         49414
        ],
        [
         null,
         375,
         "Tonsillectomy and adenoidectomy",
         153283
        ],
        [
         null,
         232,
         "Angioplasty and stent placement",
         682887
        ],
        [
         null,
         260,
         "Epidural analgesia during labor",
         903256
        ],
        [
         null,
         225,
         "Advanced cardiac life support",
         395603
        ],
        [
         null,
         116,
         "Angioplasty and stent placement",
         786064
        ],
        [
         null,
         463,
         "Tonsillectomy and adenoidectomy",
         432009
        ],
        [
         null,
         584,
         "Kidney transplant",
         151978
        ],
        [
         null,
         882,
         "Radiation therapy",
         654032
        ],
        [
         null,
         438,
         "Insulin pump management for diabetes",
         835261
        ],
        [
         null,
         438,
         null,
         499716
        ],
        [
         null,
         669,
         "Psychotherapy",
         144064
        ],
        [
         null,
         211,
         "Radiation therapy",
         771276
        ],
        [
         null,
         347,
         "Trauma resuscitation",
         413952
        ],
        [
         null,
         416,
         "Angioplasty and stent placement",
         984498
        ],
        [
         null,
         815,
         "Emotional and spiritual support",
         394358
        ],
        [
         null,
         674,
         "Chemotherapy",
         711179
        ],
        [
         null,
         745,
         "Chemotherapy",
         577282
        ],
        [
         null,
         869,
         "Sedation for minor procedures",
         514863
        ],
        [
         null,
         584,
         "Trauma resuscitation",
         959064
        ],
        [
         null,
         762,
         "General surgery",
         568290
        ],
        [
         null,
         971,
         "Endoscopy",
         81330
        ],
        [
         null,
         896,
         "Cosmetic procedures (e.g., Botox, fillers)",
         382492
        ],
        [
         null,
         784,
         "Immunotherapy (allergy shots)",
         340127
        ],
        [
         null,
         111,
         "Emergency surgical procedures",
         431618
        ],
        [
         null,
         938,
         "Mechanical ventilation",
         77621
        ],
        [
         null,
         387,
         "Interventional radiology procedures",
         45792
        ],
        [
         null,
         300,
         "Immunizations",
         417044
        ],
        [
         null,
         221,
         "Pulmonary function tests",
         327902
        ],
        [
         null,
         625,
         "Rhinoplasty",
         247936
        ],
        [
         null,
         730,
         "Polypharmacy management",
         824555
        ],
        [
         null,
         553,
         "Antibiotic therapy",
         144746
        ],
        [
         null,
         285,
         "Coronary artery bypass surgery",
         599162
        ],
        [
         null,
         693,
         "General anesthesia for surgeries",
         155419
        ],
        [
         null,
         668,
         "Sedation for minor procedures",
         537831
        ],
        [
         null,
         441,
         "Symptom management for end-of-life care",
         302640
        ],
        [
         null,
         353,
         "Intensive care management",
         654548
        ],
        [
         null,
         595,
         "Immunizations",
         470194
        ],
        [
         null,
         514,
         "Comprehensive geriatric assessment",
         844791
        ],
        [
         null,
         777,
         "Dementia care",
         175417
        ],
        [
         null,
         766,
         "Liver biopsy",
         152609
        ],
        [
         null,
         985,
         "Kidney transplant",
         621978
        ],
        [
         null,
         854,
         "Pacemaker implantation",
         465336
        ],
        [
         null,
         712,
         "Sedation for minor procedures",
         538956
        ],
        [
         null,
         174,
         "Colonoscopy",
         314854
        ],
        [
         null,
         802,
         "Interventional radiology procedures",
         676614
        ],
        [
         null,
         160,
         "Epidural anesthesia for pain management",
         129839
        ],
        [
         null,
         964,
         "Dermatologic surgery",
         379606
        ],
        [
         null,
         102,
         "Pediatric surgery",
         711796
        ],
        [
         null,
         876,
         "Orthopedic surgery",
         300087
        ],
        [
         null,
         890,
         "Medication management",
         121894
        ],
        [
         null,
         498,
         "General surgery",
         803815
        ],
        [
         null,
         841,
         "Antibiotic therapy",
         389534
        ],
        [
         null,
         603,
         "Chemotherapy",
         439472
        ],
        [
         null,
         222,
         "Liver biopsy",
         817408
        ],
        [
         null,
         635,
         "Plastic surgery",
         818863
        ],
        [
         null,
         342,
         "Retinal surgery",
         10834
        ],
        [
         null,
         428,
         "Sedation for minor procedures",
         171729
        ],
        [
         null,
         409,
         "Coronary artery bypass surgery",
         527922
        ],
        [
         null,
         940,
         "Endoscopy",
         907701
        ],
        [
         null,
         993,
         "Immunotherapy (allergy shots)",
         94809
        ],
        [
         null,
         241,
         "Hormone replacement therapy",
         996207
        ],
        [
         null,
         727,
         "Tonsillectomy and adenoidectomy",
         952276
        ],
        [
         null,
         144,
         "Cosmetic procedures (e.g., Botox, fillers)",
         242216
        ],
        [
         null,
         584,
         "Thyroid biopsy",
         619107
        ],
        [
         null,
         627,
         "Well-child check-ups",
         977858
        ],
        [
         null,
         605,
         "Polypharmacy management",
         657358
        ],
        [
         null,
         769,
         "Electroconvulsive therapy (ECT)",
         95725
        ],
        [
         null,
         319,
         "Radiation therapy",
         633427
        ],
        [
         null,
         515,
         "Trauma resuscitation",
         545690
        ],
        [
         null,
         909,
         "Well-child check-ups",
         244088
        ],
        [
         null,
         711,
         "Dermatologic surgery",
         268511
        ],
        [
         null,
         566,
         "Retinal surgery",
         836483
        ],
        [
         null,
         930,
         "Immunizations",
         506212
        ],
        [
         null,
         261,
         "Well-child check-ups",
         804856
        ],
        [
         null,
         326,
         "Medication management",
         147892
        ],
        [
         null,
         671,
         "Lumbar puncture",
         601928
        ],
        [
         null,
         361,
         "EEG (Electroencephalogram)",
         598915
        ],
        [
         null,
         536,
         "Well-child check-ups",
         919301
        ],
        [
         null,
         633,
         "Hormone replacement therapy",
         485744
        ],
        [
         null,
         174,
         "Well-child check-ups",
         952306
        ],
        [
         null,
         928,
         "Psychotherapy",
         635555
        ],
        [
         null,
         586,
         "Chemotherapy",
         383764
        ],
        [
         null,
         792,
         "Comprehensive geriatric assessment",
         564187
        ],
        [
         null,
         990,
         "Advanced cardiac life support",
         76951
        ],
        [
         null,
         528,
         "Cataract surgery",
         923796
        ],
        [
         null,
         174,
         "Insulin pump management for diabetes",
         664899
        ],
        [
         null,
         771,
         "Dialysis",
         642820
        ],
        [
         null,
         251,
         "Sedation for minor procedures",
         232609
        ],
        [
         null,
         598,
         "Cataract surgery",
         671226
        ],
        [
         null,
         951,
         "Polypharmacy management",
         516859
        ],
        [
         null,
         447,
         "General surgery",
         44519
        ],
        [
         null,
         861,
         "Pacemaker implantation",
         807722
        ],
        [
         null,
         221,
         "Anesthetic care during childbirth",
         914785
        ],
        [
         null,
         742,
         "Symptom management for end-of-life care",
         398678
        ],
        [
         null,
         399,
         "Symptom management for end-of-life care",
         557429
        ],
        [
         null,
         198,
         "Interventional radiology procedures",
         984094
        ],
        [
         null,
         473,
         "Sedation for minor procedures",
         538796
        ],
        [
         null,
         584,
         null,
         298685
        ],
        [
         null,
         558,
         "Management of complex medical conditions",
         630451
        ],
        [
         null,
         361,
         "General surgery",
         358390
        ],
        [
         null,
         779,
         "Dementia care",
         802419
        ],
        [
         null,
         292,
         "Anesthetic care during childbirth",
         790367
        ],
        [
         null,
         668,
         "Comprehensive geriatric assessment",
         353305
        ],
        [
         null,
         994,
         "Management of complex medical conditions",
         537140
        ],
        [
         null,
         910,
         "Bronchoscopy",
         902884
        ],
        [
         null,
         328,
         "Immunizations",
         766185
        ],
        [
         null,
         413,
         "Orthopedic surgery",
         547551
        ],
        [
         null,
         398,
         "Rhinoplasty",
         660324
        ],
        [
         null,
         822,
         "Surgical oncology",
         899081
        ],
        [
         null,
         507,
         "Chronic disease management",
         990073
        ],
        [
         null,
         455,
         "Dementia care",
         287082
        ],
        [
         null,
         489,
         "Endoscopy",
         448594
        ],
        [
         null,
         615,
         "Electroconvulsive therapy (ECT)",
         285134
        ],
        [
         null,
         779,
         "Laser therapy for skin conditions",
         777974
        ],
        [
         null,
         291,
         "Plastic surgery",
         991090
        ],
        [
         null,
         207,
         "Pediatric surgery",
         413129
        ],
        [
         null,
         191,
         "Cataract surgery",
         433939
        ],
        [
         null,
         377,
         "Liver biopsy",
         995778
        ],
        [
         null,
         962,
         "Bronchoscopy",
         45265
        ],
        [
         null,
         291,
         "Lumbar puncture",
         757458
        ],
        [
         null,
         684,
         "LASIK eye surgery",
         398995
        ],
        [
         null,
         291,
         "Medication management",
         309792
        ],
        [
         null,
         197,
         "Hormone replacement therapy",
         860972
        ],
        [
         null,
         264,
         "Ventilation support",
         81526
        ],
        [
         null,
         240,
         "Insulin pump management for diabetes",
         718804
        ],
        [
         null,
         460,
         "Coronary artery bypass surgery",
         267695
        ],
        [
         null,
         673,
         "Insulin pump management for diabetes",
         831409
        ],
        [
         null,
         456,
         "Mechanical ventilation",
         526662
        ],
        [
         null,
         612,
         "Trauma resuscitation",
         301437
        ],
        [
         null,
         368,
         "Colonoscopy",
         910288
        ],
        [
         null,
         747,
         "Medication management",
         826278
        ],
        [
         null,
         273,
         "Epidural anesthesia for pain management",
         866660
        ],
        [
         null,
         644,
         "Epidural analgesia during labor",
         566923
        ],
        [
         null,
         617,
         "Colonoscopy",
         162253
        ],
        [
         null,
         482,
         "Endoscopy",
         86619
        ],
        [
         null,
         623,
         "Thyroid biopsy",
         24885
        ],
        [
         null,
         117,
         "Thyroid biopsy",
         223481
        ],
        [
         null,
         240,
         "Insulin pump management for diabetes",
         696773
        ],
        [
         null,
         810,
         "Medication management",
         315305
        ],
        [
         null,
         476,
         "Symptom management for end-of-life care",
         107731
        ],
        [
         null,
         394,
         "Well-child check-ups",
         618046
        ],
        [
         null,
         195,
         "Rhinoplasty",
         598801
        ],
        [
         null,
         467,
         "Advanced cardiac life support",
         767774
        ],
        [
         null,
         163,
         "Thyroid biopsy",
         565069
        ],
        [
         null,
         904,
         "Retinal surgery",
         404047
        ],
        [
         null,
         982,
         "Cataract surgery",
         90548
        ],
        [
         null,
         381,
         "Chemotherapy",
         989313
        ],
        [
         null,
         746,
         "Pediatric surgery",
         932758
        ],
        [
         null,
         154,
         "Laser therapy for skin conditions",
         359806
        ],
        [
         null,
         610,
         "Pulmonary function tests",
         693155
        ],
        [
         null,
         544,
         "Tonsillectomy and adenoidectomy",
         258869
        ],
        [
         null,
         433,
         "Well-child check-ups",
         241867
        ],
        [
         null,
         930,
         "Bronchoscopy",
         769064
        ],
        [
         null,
         780,
         "Plastic surgery",
         996348
        ],
        [
         null,
         513,
         "Pulmonary function tests",
         891368
        ],
        [
         null,
         749,
         "Dialysis",
         231224
        ],
        [
         null,
         648,
         "Endoscopy",
         675371
        ],
        [
         null,
         254,
         "Cardiology:",
         501983
        ],
        [
         null,
         644,
         "Minor surgical procedures",
         899765
        ],
        [
         null,
         150,
         "Lumbar puncture",
         253434
        ],
        [
         null,
         635,
         "Bronchoscopy",
         610779
        ],
        [
         null,
         111,
         "Interventional radiology procedures",
         37837
        ],
        [
         null,
         115,
         "Kidney transplant",
         486003
        ],
        [
         null,
         851,
         "Dialysis",
         835185
        ],
        [
         null,
         634,
         "General health check-ups",
         260457
        ],
        [
         null,
         265,
         "General surgery",
         355176
        ],
        [
         null,
         518,
         "X-rays, CT scans, MRI scans",
         27009
        ],
        [
         null,
         456,
         "EEG (Electroencephalogram)",
         787377
        ],
        [
         null,
         546,
         "Thyroid biopsy",
         738406
        ],
        [
         null,
         333,
         "Laser therapy for skin conditions",
         67674
        ],
        [
         null,
         444,
         "Dementia care",
         484979
        ],
        [
         null,
         816,
         "Chronic disease management",
         951259
        ],
        [
         null,
         551,
         "Radiation therapy",
         506833
        ],
        [
         null,
         555,
         "Coronary artery bypass surgery",
         256281
        ],
        [
         null,
         682,
         "Advanced cardiac life support",
         342446
        ],
        [
         null,
         935,
         "Interventional radiology procedures",
         785210
        ],
        [
         null,
         761,
         "Angioplasty and stent placement",
         609808
        ],
        [
         null,
         959,
         "Psychotherapy",
         863512
        ],
        [
         null,
         742,
         "Cosmetic procedures (e.g., Botox, fillers)",
         166944
        ],
        [
         null,
         373,
         "Polypharmacy management",
         43166
        ],
        [
         null,
         931,
         "Coronary artery bypass surgery",
         913490
        ],
        [
         null,
         632,
         "Orthopedic surgery",
         749261
        ],
        [
         null,
         783,
         "Endoscopy",
         783989
        ],
        [
         null,
         466,
         "Pediatric surgery",
         88500
        ],
        [
         null,
         938,
         "Radiation therapy",
         904810
        ],
        [
         null,
         451,
         "LASIK eye surgery",
         136281
        ],
        [
         null,
         829,
         "Cardiology:",
         715308
        ],
        [
         null,
         595,
         "Rhinoplasty",
         348064
        ],
        [
         null,
         453,
         "Cardiology:",
         340854
        ],
        [
         null,
         961,
         "Minor surgical procedures",
         400378
        ],
        [
         null,
         961,
         "Pacemaker implantation",
         515173
        ],
        [
         null,
         480,
         "General health check-ups",
         462984
        ],
        [
         null,
         373,
         "General surgery",
         866273
        ],
        [
         null,
         587,
         "Radiation therapy",
         356956
        ],
        [
         null,
         143,
         "Kidney transplant",
         418879
        ],
        [
         null,
         806,
         "Liver biopsy",
         104586
        ],
        [
         null,
         693,
         "Immunotherapy (allergy shots)",
         612786
        ],
        [
         null,
         370,
         "X-rays, CT scans, MRI scans",
         558138
        ],
        [
         null,
         417,
         "Coronary artery bypass surgery",
         993763
        ],
        [
         null,
         526,
         "Symptom management for end-of-life care",
         505655
        ],
        [
         null,
         240,
         "General health check-ups",
         845706
        ],
        [
         null,
         858,
         "Nephrectomy",
         885552
        ],
        [
         null,
         281,
         "Radiation therapy",
         156591
        ],
        [
         null,
         193,
         "Intensive care management",
         653320
        ],
        [
         null,
         780,
         "Emergency surgical procedures",
         982497
        ],
        [
         null,
         641,
         "Laser therapy for skin conditions",
         608597
        ],
        [
         null,
         506,
         "Immunotherapy (allergy shots)",
         351011
        ],
        [
         null,
         891,
         "Psychotherapy",
         513684
        ],
        [
         null,
         143,
         "Comprehensive geriatric assessment",
         931836
        ],
        [
         null,
         622,
         "Epidural anesthesia for pain management",
         148653
        ],
        [
         null,
         306,
         "Dementia care",
         622737
        ],
        [
         null,
         345,
         "Retinal surgery",
         683055
        ],
        [
         null,
         308,
         "Pacemaker implantation",
         637413
        ],
        [
         null,
         278,
         "Colonoscopy",
         538664
        ],
        [
         null,
         986,
         "Intensive care management",
         515928
        ],
        [
         null,
         615,
         "Insulin pump management for diabetes",
         189880
        ],
        [
         null,
         258,
         "Cochlear implant surgery",
         568639
        ],
        [
         null,
         999,
         "Pacemaker implantation",
         348587
        ],
        [
         null,
         178,
         "Pediatric surgery",
         604228
        ],
        [
         null,
         403,
         "Plastic surgery",
         15151
        ],
        [
         null,
         789,
         "Cardiology:",
         458313
        ],
        [
         null,
         381,
         "Comprehensive geriatric assessment",
         835276
        ],
        [
         null,
         928,
         "Cosmetic procedures (e.g., Botox, fillers)",
         342677
        ],
        [
         null,
         842,
         "Management of complex infections",
         182219
        ],
        [
         null,
         640,
         null,
         152046
        ],
        [
         null,
         109,
         "Tonsillectomy and adenoidectomy",
         837856
        ],
        [
         null,
         138,
         "Orthopedic surgery",
         801951
        ],
        [
         null,
         516,
         "Rhinoplasty",
         248502
        ],
        [
         null,
         397,
         "Retinal surgery",
         126338
        ],
        [
         null,
         341,
         "Medication management",
         153320
        ],
        [
         null,
         601,
         "Management of complex medical conditions",
         88881
        ],
        [
         null,
         447,
         "Management of complex infections",
         214990
        ],
        [
         null,
         901,
         "Surgical oncology",
         974269
        ],
        [
         null,
         505,
         "Dermatologic surgery",
         860359
        ],
        [
         null,
         722,
         "Intensive care management",
         554697
        ],
        [
         null,
         515,
         "Mechanical ventilation",
         905507
        ],
        [
         null,
         543,
         "Pacemaker implantation",
         366455
        ],
        [
         null,
         769,
         "Symptom management for end-of-life care",
         652909
        ],
        [
         null,
         104,
         "Symptom management for end-of-life care",
         891700
        ],
        [
         null,
         448,
         "Anesthetic care during childbirth",
         686742
        ],
        [
         null,
         566,
         "Intensive care management",
         720877
        ],
        [
         null,
         363,
         null,
         832506
        ],
        [
         null,
         259,
         "Electroconvulsive therapy (ECT)",
         807446
        ],
        [
         null,
         518,
         "Endoscopy",
         61338
        ],
        [
         null,
         703,
         "Tonsillectomy and adenoidectomy",
         519205
        ],
        [
         null,
         694,
         "Dialysis",
         784050
        ],
        [
         null,
         935,
         "Epidural analgesia during labor",
         447041
        ],
        [
         null,
         254,
         "EEG (Electroencephalogram)",
         643696
        ],
        [
         null,
         954,
         "Thyroid biopsy",
         843109
        ],
        [
         null,
         506,
         "Angioplasty and stent placement",
         775192
        ],
        [
         null,
         762,
         "Well-child check-ups",
         613435
        ],
        [
         null,
         690,
         "Dermatologic surgery",
         414086
        ],
        [
         null,
         833,
         "Electroconvulsive therapy (ECT)",
         330215
        ],
        [
         null,
         892,
         "Psychotherapy",
         74387
        ],
        [
         null,
         509,
         "Pulmonary function tests",
         21661
        ],
        [
         null,
         608,
         "Emotional and spiritual support",
         789491
        ],
        [
         null,
         661,
         "Advanced cardiac life support",
         872428
        ],
        [
         null,
         355,
         "Minor surgical procedures",
         693982
        ],
        [
         null,
         792,
         "X-rays, CT scans, MRI scans",
         339244
        ],
        [
         null,
         415,
         "Chronic disease management",
         510621
        ],
        [
         null,
         373,
         "Dermatologic surgery",
         357323
        ],
        [
         null,
         409,
         "Hormone replacement therapy",
         684279
        ],
        [
         null,
         506,
         "Polypharmacy management",
         129644
        ],
        [
         null,
         214,
         "Anesthetic care during childbirth",
         707194
        ],
        [
         null,
         758,
         "Emotional and spiritual support",
         940376
        ],
        [
         null,
         159,
         "Pulmonary function tests",
         206481
        ],
        [
         null,
         915,
         "Colonoscopy",
         691347
        ],
        [
         null,
         930,
         "Endoscopy",
         604602
        ],
        [
         null,
         229,
         "EEG (Electroencephalogram)",
         483365
        ],
        [
         null,
         767,
         "Antibiotic therapy",
         456527
        ],
        [
         null,
         806,
         "Symptom management for end-of-life care",
         789640
        ],
        [
         null,
         739,
         "Trauma resuscitation",
         453602
        ],
        [
         null,
         138,
         "Emotional and spiritual support",
         586045
        ],
        [
         null,
         1000,
         "Colonoscopy",
         853016
        ],
        [
         null,
         649,
         "Immunizations",
         367537
        ],
        [
         null,
         105,
         "Immunizations",
         888749
        ],
        [
         null,
         629,
         "Intensive care management",
         426049
        ],
        [
         null,
         277,
         "Endoscopy",
         521186
        ],
        [
         null,
         910,
         "Tonsillectomy and adenoidectomy",
         862384
        ],
        [
         null,
         556,
         "Epidural anesthesia for pain management",
         908592
        ],
        [
         null,
         436,
         "Management of complex infections",
         143895
        ],
        [
         null,
         830,
         "Insulin pump management for diabetes",
         673632
        ],
        [
         null,
         416,
         "Pediatric surgery",
         68135
        ],
        [
         null,
         774,
         "Hemodynamic monitoring",
         46028
        ],
        [
         null,
         458,
         "Sedation for minor procedures",
         974018
        ],
        [
         null,
         832,
         "Lumbar puncture",
         983953
        ],
        [
         null,
         245,
         "Medication management",
         146794
        ],
        [
         null,
         435,
         "Kidney transplant",
         157660
        ],
        [
         null,
         806,
         "Mechanical ventilation",
         743571
        ],
        [
         null,
         507,
         "X-rays, CT scans, MRI scans",
         801357
        ],
        [
         null,
         504,
         "Dementia care",
         291178
        ],
        [
         null,
         231,
         "Kidney transplant",
         39498
        ],
        [
         null,
         522,
         "Psychotherapy",
         891578
        ],
        [
         null,
         838,
         null,
         27467
        ],
        [
         null,
         917,
         "Cardiology:",
         480745
        ],
        [
         null,
         352,
         "Hormone replacement therapy",
         171797
        ],
        [
         null,
         383,
         "Epidural analgesia during labor",
         237555
        ],
        [
         null,
         506,
         "Antibiotic therapy",
         977957
        ],
        [
         null,
         668,
         "Pacemaker implantation",
         464006
        ],
        [
         null,
         389,
         "Medication management",
         181171
        ],
        [
         null,
         972,
         "Symptom management for end-of-life care",
         658438
        ],
        [
         null,
         897,
         "Insulin pump management for diabetes",
         663228
        ],
        [
         null,
         788,
         "Dialysis",
         875415
        ],
        [
         null,
         963,
         "Emergency surgical procedures",
         608334
        ],
        [
         null,
         202,
         "Rhinoplasty",
         200890
        ],
        [
         null,
         306,
         "Hormone replacement therapy",
         685274
        ],
        [
         null,
         302,
         "EEG (Electroencephalogram)",
         521269
        ],
        [
         null,
         401,
         "LASIK eye surgery",
         512652
        ],
        [
         null,
         194,
         "Dialysis",
         125035
        ],
        [
         null,
         841,
         "MRI for brain imaging",
         375591
        ],
        [
         null,
         703,
         "Bronchoscopy",
         870433
        ],
        [
         null,
         404,
         "EEG (Electroencephalogram)",
         590977
        ],
        [
         null,
         499,
         "Liver biopsy",
         699215
        ],
        [
         null,
         398,
         "Liver biopsy",
         38535
        ],
        [
         null,
         567,
         "Retinal surgery",
         829753
        ],
        [
         null,
         146,
         "Interventional radiology procedures",
         582071
        ],
        [
         null,
         368,
         "Thyroid biopsy",
         949608
        ],
        [
         null,
         897,
         "Chronic disease management",
         882211
        ],
        [
         null,
         562,
         "Hormone replacement therapy",
         333973
        ],
        [
         null,
         744,
         "LASIK eye surgery",
         816691
        ],
        [
         null,
         429,
         "Tonsillectomy and adenoidectomy",
         518766
        ],
        [
         null,
         485,
         "Immunotherapy (allergy shots)",
         16790
        ],
        [
         null,
         387,
         "General health check-ups",
         529230
        ],
        [
         null,
         804,
         "Polypharmacy management",
         929634
        ],
        [
         null,
         349,
         "Pulmonary function tests",
         361947
        ],
        [
         null,
         449,
         "Immunizations",
         114914
        ],
        [
         null,
         310,
         "Internal medicine consultations",
         412696
        ],
        [
         null,
         157,
         "Emotional and spiritual support",
         269609
        ],
        [
         null,
         702,
         "Liver biopsy",
         422617
        ],
        [
         null,
         576,
         null,
         379148
        ],
        [
         null,
         182,
         "Psychotherapy",
         701045
        ],
        [
         null,
         759,
         "Interventional radiology procedures",
         251137
        ],
        [
         null,
         879,
         "Angioplasty and stent placement",
         734324
        ],
        [
         null,
         626,
         "Cochlear implant surgery",
         249365
        ],
        [
         null,
         462,
         "Pacemaker implantation",
         670244
        ],
        [
         null,
         636,
         "Interventional radiology procedures",
         267999
        ],
        [
         null,
         654,
         "EEG (Electroencephalogram)",
         486985
        ],
        [
         null,
         248,
         "Laser therapy for skin conditions",
         350343
        ],
        [
         null,
         161,
         "General health check-ups",
         563494
        ],
        [
         null,
         302,
         "Coronary artery bypass surgery",
         786033
        ],
        [
         null,
         685,
         "Orthopedic surgery",
         839760
        ],
        [
         null,
         812,
         "Internal medicine consultations",
         49086
        ],
        [
         null,
         961,
         "Sedation for minor procedures",
         973869
        ],
        [
         null,
         522,
         "Psychotherapy",
         150478
        ],
        [
         null,
         210,
         "Rhinoplasty",
         100039
        ],
        [
         null,
         551,
         "Cochlear implant surgery",
         904874
        ],
        [
         null,
         539,
         "Polypharmacy management",
         526929
        ],
        [
         null,
         355,
         "Immunotherapy (allergy shots)",
         670980
        ],
        [
         null,
         894,
         "Immunizations",
         762485
        ],
        [
         null,
         546,
         "Cardiology:",
         341309
        ],
        [
         null,
         494,
         "Cardiology:",
         480872
        ],
        [
         null,
         452,
         "Epidural analgesia during labor",
         974821
        ],
        [
         null,
         751,
         "Plastic surgery",
         145188
        ],
        [
         null,
         792,
         null,
         96125
        ],
        [
         null,
         130,
         "Management of complex medical conditions",
         60348
        ],
        [
         null,
         828,
         "Minor surgical procedures",
         314276
        ],
        [
         null,
         145,
         "Cardiology:",
         165655
        ],
        [
         null,
         546,
         "Emotional and spiritual support",
         867260
        ],
        [
         null,
         700,
         "Kidney transplant",
         210604
        ],
        [
         null,
         844,
         null,
         161408
        ],
        [
         null,
         603,
         "Pediatric surgery",
         793507
        ],
        [
         null,
         625,
         "Mechanical ventilation",
         261443
        ],
        [
         null,
         380,
         "Surgical oncology",
         148700
        ],
        [
         null,
         449,
         "Liver biopsy",
         694847
        ],
        [
         null,
         205,
         "Anesthetic care during childbirth",
         473143
        ],
        [
         null,
         456,
         "Bronchoscopy",
         406196
        ],
        [
         null,
         539,
         "Plastic surgery",
         11838
        ],
        [
         null,
         237,
         "Chemotherapy",
         747178
        ],
        [
         null,
         815,
         "Cosmetic procedures (e.g., Botox, fillers)",
         70723
        ],
        [
         null,
         327,
         "Kidney transplant",
         133113
        ],
        [
         null,
         827,
         "Chemotherapy",
         16567
        ],
        [
         null,
         832,
         "Cosmetic procedures (e.g., Botox, fillers)",
         545499
        ],
        [
         null,
         204,
         "Cosmetic procedures (e.g., Botox, fillers)",
         662732
        ],
        [
         null,
         934,
         "Anesthetic care during childbirth",
         732471
        ],
        [
         null,
         297,
         "Endoscopy",
         771494
        ],
        [
         null,
         250,
         "Mechanical ventilation",
         709304
        ],
        [
         null,
         495,
         "LASIK eye surgery",
         711264
        ],
        [
         null,
         178,
         "Anesthetic care during childbirth",
         180175
        ],
        [
         null,
         445,
         "Surgical oncology",
         169197
        ],
        [
         null,
         547,
         "Comprehensive geriatric assessment",
         833501
        ],
        [
         null,
         772,
         "MRI for brain imaging",
         449080
        ],
        [
         null,
         591,
         "Lumbar puncture",
         948456
        ],
        [
         null,
         444,
         "Endoscopy",
         776619
        ],
        [
         null,
         213,
         "Tonsillectomy and adenoidectomy",
         183912
        ],
        [
         null,
         675,
         "Cochlear implant surgery",
         111549
        ],
        [
         null,
         946,
         "Immunotherapy (allergy shots)",
         186342
        ],
        [
         null,
         242,
         "Bronchoscopy",
         435046
        ],
        [
         null,
         426,
         null,
         879405
        ],
        [
         null,
         670,
         "Immunotherapy (allergy shots)",
         117457
        ],
        [
         null,
         116,
         "General anesthesia for surgeries",
         362072
        ],
        [
         null,
         733,
         "Management of complex infections",
         904470
        ],
        [
         null,
         870,
         "Internal medicine consultations",
         281875
        ],
        [
         null,
         452,
         "Sedation for minor procedures",
         190037
        ],
        [
         null,
         919,
         "Pediatric surgery",
         185051
        ],
        [
         null,
         427,
         "Interventional radiology procedures",
         402596
        ],
        [
         null,
         868,
         "Coronary artery bypass surgery",
         151071
        ],
        [
         null,
         720,
         "Internal medicine consultations",
         491354
        ],
        [
         null,
         979,
         "Chronic disease management",
         891275
        ],
        [
         null,
         644,
         "Rhinoplasty",
         153957
        ],
        [
         null,
         240,
         "Anesthetic care during childbirth",
         538720
        ],
        [
         null,
         538,
         "General surgery",
         664763
        ],
        [
         null,
         394,
         "Liver biopsy",
         299920
        ],
        [
         null,
         431,
         "Cardiology:",
         145502
        ],
        [
         null,
         315,
         "Minor surgical procedures",
         434633
        ],
        [
         null,
         772,
         "EEG (Electroencephalogram)",
         285439
        ],
        [
         null,
         777,
         "Management of complex infections",
         50637
        ],
        [
         null,
         108,
         "General surgery",
         943604
        ],
        [
         null,
         799,
         "Orthopedic surgery",
         96291
        ],
        [
         null,
         823,
         "Laser therapy for skin conditions",
         693893
        ],
        [
         null,
         825,
         "LASIK eye surgery",
         114228
        ],
        [
         null,
         506,
         "Advanced cardiac life support",
         656788
        ],
        [
         null,
         168,
         "Surgical oncology",
         836090
        ],
        [
         null,
         657,
         "Hemodynamic monitoring",
         866470
        ],
        [
         null,
         736,
         "Retinal surgery",
         607829
        ],
        [
         null,
         751,
         "Cardiology:",
         793743
        ],
        [
         null,
         298,
         "Bronchoscopy",
         20564
        ],
        [
         null,
         914,
         "Dementia care",
         398182
        ],
        [
         null,
         596,
         "Cardiology:",
         569550
        ],
        [
         null,
         846,
         "Emergency surgical procedures",
         930167
        ],
        [
         null,
         243,
         "Surgical oncology",
         569598
        ],
        [
         null,
         516,
         "Cochlear implant surgery",
         830242
        ],
        [
         null,
         252,
         "Management of complex infections",
         423372
        ],
        [
         null,
         815,
         "Endoscopy",
         171238
        ],
        [
         null,
         852,
         "Symptom management for end-of-life care",
         561663
        ],
        [
         null,
         769,
         "Pediatric surgery",
         178235
        ],
        [
         null,
         857,
         "Interventional radiology procedures",
         504517
        ],
        [
         null,
         799,
         "Cosmetic procedures (e.g., Botox, fillers)",
         994632
        ],
        [
         null,
         613,
         "Coronary artery bypass surgery",
         172902
        ],
        [
         null,
         482,
         "Symptom management for end-of-life care",
         438132
        ],
        [
         null,
         998,
         "LASIK eye surgery",
         239887
        ],
        [
         null,
         864,
         "Pediatric surgery",
         72848
        ],
        [
         null,
         459,
         "Epidural analgesia during labor",
         548616
        ],
        [
         null,
         810,
         "Liver biopsy",
         776634
        ],
        [
         null,
         921,
         "General health check-ups",
         16767
        ],
        [
         null,
         776,
         "Bronchoscopy",
         211511
        ],
        [
         null,
         175,
         "Tonsillectomy and adenoidectomy",
         657544
        ],
        [
         null,
         797,
         "Pediatric surgery",
         478017
        ],
        [
         null,
         924,
         "Cosmetic procedures (e.g., Botox, fillers)",
         942997
        ],
        [
         null,
         362,
         null,
         980344
        ],
        [
         null,
         441,
         "Well-child check-ups",
         182734
        ],
        [
         null,
         713,
         "Angioplasty and stent placement",
         212362
        ],
        [
         null,
         677,
         "Antibiotic therapy",
         300134
        ],
        [
         null,
         768,
         "Electroconvulsive therapy (ECT)",
         265106
        ],
        [
         null,
         125,
         "Kidney transplant",
         955636
        ],
        [
         null,
         257,
         "MRI for brain imaging",
         731511
        ],
        [
         null,
         183,
         "Surgical oncology",
         460039
        ],
        [
         null,
         877,
         "Minor surgical procedures",
         499212
        ],
        [
         null,
         800,
         "Mechanical ventilation",
         190174
        ],
        [
         null,
         889,
         "Cosmetic procedures (e.g., Botox, fillers)",
         693908
        ],
        [
         null,
         846,
         "Nephrectomy",
         943641
        ],
        [
         null,
         125,
         "Laser therapy for skin conditions",
         117238
        ],
        [
         null,
         289,
         "Coronary artery bypass surgery",
         120040
        ],
        [
         null,
         603,
         "Trauma resuscitation",
         552766
        ],
        [
         null,
         142,
         "Rhinoplasty",
         700723
        ],
        [
         null,
         489,
         "Cochlear implant surgery",
         430683
        ],
        [
         null,
         301,
         "Plastic surgery",
         882754
        ],
        [
         null,
         301,
         "Lumbar puncture",
         669194
        ],
        [
         null,
         350,
         "Tonsillectomy and adenoidectomy",
         663455
        ],
        [
         null,
         657,
         "Cosmetic procedures (e.g., Botox, fillers)",
         247124
        ],
        [
         null,
         808,
         "Pediatric surgery",
         534188
        ],
        [
         null,
         518,
         "Bronchoscopy",
         710671
        ],
        [
         null,
         842,
         "Minor surgical procedures",
         954375
        ],
        [
         null,
         102,
         "Dementia care",
         864706
        ],
        [
         null,
         241,
         "Polypharmacy management",
         89196
        ],
        [
         null,
         627,
         null,
         431352
        ],
        [
         null,
         436,
         "Medication management",
         645341
        ],
        [
         null,
         341,
         "Lumbar puncture",
         965585
        ],
        [
         null,
         286,
         "Comprehensive geriatric assessment",
         417316
        ],
        [
         null,
         621,
         "Thyroid biopsy",
         545986
        ],
        [
         null,
         779,
         "EEG (Electroencephalogram)",
         829856
        ],
        [
         null,
         245,
         "Chronic disease management",
         213390
        ],
        [
         null,
         774,
         "Anesthetic care during childbirth",
         207275
        ],
        [
         null,
         312,
         "Well-child check-ups",
         545613
        ],
        [
         null,
         147,
         "Trauma resuscitation",
         641299
        ],
        [
         null,
         950,
         "Thyroid biopsy",
         337517
        ],
        [
         null,
         247,
         "Laser therapy for skin conditions",
         82041
        ],
        [
         null,
         818,
         "Epidural anesthesia for pain management",
         939175
        ],
        [
         null,
         970,
         "Chemotherapy",
         825064
        ],
        [
         null,
         989,
         "Emergency surgical procedures",
         708383
        ],
        [
         null,
         651,
         "Advanced cardiac life support",
         391947
        ],
        [
         null,
         639,
         null,
         93027
        ],
        [
         null,
         242,
         "Cardiology:",
         564585
        ],
        [
         null,
         161,
         "MRI for brain imaging",
         555135
        ],
        [
         null,
         211,
         "Retinal surgery",
         989492
        ],
        [
         null,
         884,
         "Sedation for minor procedures",
         710438
        ],
        [
         null,
         415,
         "Well-child check-ups",
         618904
        ],
        [
         null,
         817,
         "Well-child check-ups",
         885660
        ],
        [
         null,
         881,
         "Rhinoplasty",
         497541
        ],
        [
         null,
         618,
         null,
         706908
        ],
        [
         null,
         497,
         "Dialysis",
         750799
        ],
        [
         null,
         395,
         "Lumbar puncture",
         626659
        ],
        [
         null,
         571,
         "Immunizations",
         129560
        ],
        [
         null,
         946,
         "Epidural anesthesia for pain management",
         183386
        ],
        [
         null,
         634,
         "Intensive care management",
         831529
        ],
        [
         null,
         939,
         "Medication management",
         856612
        ],
        [
         null,
         850,
         "Symptom management for end-of-life care",
         306776
        ],
        [
         null,
         916,
         "Insulin pump management for diabetes",
         859275
        ],
        [
         null,
         918,
         "Insulin pump management for diabetes",
         716535
        ],
        [
         null,
         317,
         "Management of complex medical conditions",
         301311
        ],
        [
         null,
         682,
         "Thyroid biopsy",
         279738
        ],
        [
         null,
         746,
         "Angioplasty and stent placement",
         375109
        ],
        [
         null,
         466,
         "Endoscopy",
         681186
        ],
        [
         null,
         179,
         "Well-child check-ups",
         662830
        ],
        [
         null,
         645,
         "Electroconvulsive therapy (ECT)",
         460449
        ],
        [
         null,
         448,
         "LASIK eye surgery",
         571430
        ],
        [
         null,
         774,
         "Epidural anesthesia for pain management",
         599258
        ],
        [
         null,
         780,
         "Laser therapy for skin conditions",
         901532
        ],
        [
         null,
         705,
         "Pacemaker implantation",
         794496
        ],
        [
         null,
         948,
         "Surgical oncology",
         489801
        ],
        [
         null,
         804,
         "Electroconvulsive therapy (ECT)",
         515777
        ],
        [
         null,
         190,
         "General health check-ups",
         828872
        ],
        [
         null,
         510,
         "Management of complex medical conditions",
         449306
        ],
        [
         null,
         889,
         "LASIK eye surgery",
         167011
        ],
        [
         null,
         160,
         "Cataract surgery",
         185675
        ],
        [
         null,
         626,
         "Retinal surgery",
         859556
        ],
        [
         null,
         325,
         "X-rays, CT scans, MRI scans",
         423459
        ],
        [
         null,
         134,
         "Management of complex infections",
         761048
        ],
        [
         null,
         208,
         "Allergy testing",
         497882
        ],
        [
         null,
         631,
         "Allergy testing",
         740301
        ],
        [
         null,
         566,
         "Comprehensive geriatric assessment",
         656471
        ],
        [
         null,
         450,
         "Cataract surgery",
         390250
        ],
        [
         null,
         359,
         "Dermatologic surgery",
         38141
        ],
        [
         null,
         104,
         "Hemodynamic monitoring",
         676780
        ],
        [
         null,
         908,
         "Dementia care",
         643347
        ],
        [
         null,
         779,
         "Dialysis",
         303506
        ],
        [
         null,
         666,
         "Plastic surgery",
         95966
        ],
        [
         null,
         849,
         "General surgery",
         332209
        ],
        [
         null,
         307,
         "Hemodynamic monitoring",
         250237
        ],
        [
         null,
         249,
         "Epidural anesthesia for pain management",
         849723
        ],
        [
         null,
         789,
         "Angioplasty and stent placement",
         964877
        ],
        [
         null,
         644,
         null,
         268483
        ],
        [
         null,
         724,
         "Pediatric surgery",
         879224
        ],
        [
         null,
         864,
         "Emotional and spiritual support",
         136434
        ],
        [
         null,
         692,
         "General health check-ups",
         860765
        ],
        [
         null,
         841,
         "Advanced cardiac life support",
         83716
        ],
        [
         null,
         985,
         "Endoscopy",
         446723
        ],
        [
         null,
         533,
         "Cosmetic procedures (e.g., Botox, fillers)",
         561665
        ],
        [
         null,
         920,
         "Radiation therapy",
         974892
        ],
        [
         null,
         531,
         "LASIK eye surgery",
         321906
        ],
        [
         null,
         292,
         "Mechanical ventilation",
         780923
        ],
        [
         null,
         249,
         "Interventional radiology procedures",
         961692
        ],
        [
         null,
         929,
         "Psychotherapy",
         789026
        ],
        [
         null,
         721,
         "Minor surgical procedures",
         100665
        ],
        [
         null,
         347,
         "Intensive care management",
         479307
        ],
        [
         null,
         118,
         "Chronic disease management",
         418597
        ],
        [
         null,
         557,
         "Colonoscopy",
         108408
        ],
        [
         null,
         284,
         "X-rays, CT scans, MRI scans",
         183486
        ],
        [
         null,
         467,
         "Electroconvulsive therapy (ECT)",
         530463
        ],
        [
         null,
         396,
         "Cochlear implant surgery",
         492242
        ],
        [
         null,
         918,
         "Epidural anesthesia for pain management",
         700500
        ],
        [
         null,
         598,
         "Advanced cardiac life support",
         230231
        ],
        [
         null,
         397,
         "Endoscopy",
         240771
        ],
        [
         null,
         689,
         "Pediatric surgery",
         742667
        ],
        [
         null,
         565,
         "Bronchoscopy",
         71211
        ],
        [
         null,
         152,
         "Insulin pump management for diabetes",
         317985
        ],
        [
         null,
         541,
         "Symptom management for end-of-life care",
         473633
        ],
        [
         null,
         525,
         "Hemodynamic monitoring",
         297615
        ],
        [
         null,
         427,
         "Coronary artery bypass surgery",
         587672
        ],
        [
         null,
         865,
         "Dermatologic surgery",
         834252
        ],
        [
         null,
         202,
         "Trauma resuscitation",
         821302
        ],
        [
         null,
         863,
         "Orthopedic surgery",
         171290
        ],
        [
         null,
         375,
         "Lumbar puncture",
         537335
        ],
        [
         null,
         716,
         "Hormone replacement therapy",
         24833
        ],
        [
         null,
         804,
         "Intensive care management",
         773759
        ],
        [
         null,
         708,
         "Insulin pump management for diabetes",
         733082
        ],
        [
         null,
         969,
         "Cardiology:",
         625713
        ],
        [
         null,
         750,
         "Epidural anesthesia for pain management",
         291227
        ],
        [
         null,
         116,
         "Liver biopsy",
         599208
        ],
        [
         null,
         418,
         "Cosmetic procedures (e.g., Botox, fillers)",
         426269
        ],
        [
         null,
         812,
         "Emotional and spiritual support",
         346729
        ],
        [
         null,
         146,
         "Immunotherapy (allergy shots)",
         36532
        ],
        [
         null,
         900,
         "Dialysis",
         493552
        ],
        [
         null,
         182,
         "Immunizations",
         306699
        ],
        [
         null,
         995,
         "Insulin pump management for diabetes",
         389777
        ],
        [
         null,
         185,
         "Emergency surgical procedures",
         134921
        ],
        [
         null,
         336,
         "Pulmonary function tests",
         494270
        ],
        [
         null,
         342,
         "General surgery",
         47619
        ],
        [
         null,
         131,
         "Anesthetic care during childbirth",
         458455
        ],
        [
         null,
         407,
         "Rhinoplasty",
         878717
        ],
        [
         null,
         956,
         "MRI for brain imaging",
         715291
        ],
        [
         null,
         252,
         "Psychotherapy",
         698103
        ],
        [
         null,
         694,
         "Symptom management for end-of-life care",
         598206
        ],
        [
         null,
         742,
         "Psychotherapy",
         314655
        ],
        [
         null,
         593,
         "Cataract surgery",
         39971
        ],
        [
         null,
         950,
         "Dermatologic surgery",
         854536
        ],
        [
         null,
         958,
         "Surgical oncology",
         118150
        ],
        [
         null,
         444,
         "Rhinoplasty",
         402316
        ],
        [
         null,
         359,
         "Dementia care",
         977776
        ],
        [
         null,
         201,
         "Mechanical ventilation",
         400717
        ],
        [
         null,
         134,
         "Chronic disease management",
         354598
        ],
        [
         null,
         828,
         "Emergency surgical procedures",
         562898
        ],
        [
         null,
         650,
         "Tonsillectomy and adenoidectomy",
         691840
        ],
        [
         null,
         393,
         "Radiation therapy",
         73477
        ],
        [
         null,
         151,
         "X-rays, CT scans, MRI scans",
         50442
        ],
        [
         null,
         913,
         "Coronary artery bypass surgery",
         461034
        ],
        [
         null,
         659,
         "Immunotherapy (allergy shots)",
         348712
        ],
        [
         null,
         879,
         "Emergency surgical procedures",
         985052
        ],
        [
         null,
         880,
         "Psychotherapy",
         375887
        ],
        [
         null,
         589,
         "Antibiotic therapy",
         394135
        ],
        [
         null,
         436,
         "Ventilation support",
         176591
        ],
        [
         null,
         637,
         "General health check-ups",
         465030
        ],
        [
         null,
         448,
         "Insulin pump management for diabetes",
         383021
        ],
        [
         null,
         149,
         "Epidural analgesia during labor",
         408676
        ],
        [
         null,
         339,
         "Medication management",
         728999
        ],
        [
         null,
         457,
         "Kidney transplant",
         158030
        ],
        [
         null,
         329,
         "Pulmonary function tests",
         909175
        ],
        [
         null,
         635,
         "Pacemaker implantation",
         641866
        ],
        [
         null,
         514,
         "Immunizations",
         490692
        ],
        [
         null,
         750,
         "Intensive care management",
         270346
        ],
        [
         null,
         718,
         "Psychotherapy",
         195281
        ],
        [
         null,
         194,
         "Hormone replacement therapy",
         871755
        ],
        [
         null,
         899,
         "Tonsillectomy and adenoidectomy",
         695679
        ],
        [
         null,
         899,
         "Ventilation support",
         342086
        ],
        [
         null,
         197,
         "Bronchoscopy",
         837225
        ],
        [
         null,
         354,
         "Comprehensive geriatric assessment",
         756533
        ],
        [
         null,
         966,
         "Angioplasty and stent placement",
         503476
        ],
        [
         null,
         426,
         "Interventional radiology procedures",
         209733
        ],
        [
         null,
         700,
         "Comprehensive geriatric assessment",
         136473
        ],
        [
         null,
         409,
         "Intensive care management",
         577907
        ],
        [
         null,
         618,
         "Pacemaker implantation",
         408965
        ],
        [
         null,
         760,
         "Interventional radiology procedures",
         898329
        ],
        [
         null,
         370,
         "Dialysis",
         869051
        ],
        [
         null,
         531,
         "Surgical oncology",
         607491
        ],
        [
         null,
         169,
         null,
         333347
        ],
        [
         null,
         723,
         "Emotional and spiritual support",
         389474
        ],
        [
         null,
         829,
         "General anesthesia for surgeries",
         453973
        ],
        [
         null,
         514,
         "Cochlear implant surgery",
         666007
        ],
        [
         null,
         739,
         "LASIK eye surgery",
         161985
        ],
        [
         null,
         588,
         null,
         713514
        ],
        [
         null,
         301,
         "Minor surgical procedures",
         763077
        ],
        [
         null,
         305,
         "Polypharmacy management",
         87017
        ],
        [
         null,
         652,
         null,
         163909
        ],
        [
         null,
         627,
         "Surgical oncology",
         248585
        ],
        [
         null,
         869,
         "Bronchoscopy",
         510525
        ],
        [
         null,
         608,
         "Intensive care management",
         399227
        ],
        [
         null,
         453,
         "Dialysis",
         74295
        ],
        [
         null,
         801,
         "Immunotherapy (allergy shots)",
         848216
        ],
        [
         null,
         636,
         "Pulmonary function tests",
         944293
        ],
        [
         null,
         622,
         "Ventilation support",
         42630
        ],
        [
         null,
         257,
         "Emotional and spiritual support",
         429014
        ],
        [
         null,
         968,
         "Chemotherapy",
         58495
        ],
        [
         null,
         421,
         "Immunizations",
         355657
        ],
        [
         null,
         110,
         "Orthopedic surgery",
         33328
        ],
        [
         null,
         850,
         "Epidural anesthesia for pain management",
         11836
        ],
        [
         null,
         296,
         "Insulin pump management for diabetes",
         605489
        ],
        [
         null,
         196,
         "Insulin pump management for diabetes",
         508443
        ],
        [
         null,
         506,
         "Electroconvulsive therapy (ECT)",
         146828
        ],
        [
         null,
         767,
         "Plastic surgery",
         532627
        ],
        [
         null,
         788,
         "Epidural anesthesia for pain management",
         852918
        ],
        [
         null,
         686,
         "Insulin pump management for diabetes",
         182726
        ],
        [
         null,
         196,
         "Hormone replacement therapy",
         650302
        ],
        [
         null,
         986,
         "Management of complex infections",
         542178
        ],
        [
         null,
         336,
         "Emotional and spiritual support",
         959391
        ],
        [
         null,
         619,
         "Management of complex infections",
         458642
        ],
        [
         null,
         920,
         "Electroconvulsive therapy (ECT)",
         402235
        ],
        [
         null,
         582,
         "Epidural analgesia during labor",
         550867
        ],
        [
         null,
         713,
         "Pediatric surgery",
         895420
        ],
        [
         null,
         902,
         "Dermatologic surgery",
         194658
        ],
        [
         null,
         527,
         "Surgical oncology",
         116725
        ],
        [
         null,
         384,
         "Pacemaker implantation",
         690648
        ],
        [
         null,
         651,
         "Liver biopsy",
         635270
        ],
        [
         null,
         350,
         "LASIK eye surgery",
         776923
        ],
        [
         null,
         113,
         "Symptom management for end-of-life care",
         669516
        ],
        [
         null,
         667,
         "Dermatologic surgery",
         582613
        ],
        [
         null,
         373,
         "Ventilation support",
         307213
        ],
        [
         null,
         411,
         "Cardiology:",
         363996
        ],
        [
         null,
         146,
         "Allergy testing",
         129040
        ],
        [
         null,
         923,
         "Chronic disease management",
         345180
        ],
        [
         null,
         218,
         null,
         771848
        ],
        [
         null,
         205,
         "Epidural analgesia during labor",
         121028
        ],
        [
         null,
         974,
         "Laser therapy for skin conditions",
         750392
        ],
        [
         null,
         307,
         "Thyroid biopsy",
         757391
        ],
        [
         null,
         790,
         "Bronchoscopy",
         654268
        ],
        [
         null,
         992,
         "Ventilation support",
         24611
        ],
        [
         null,
         762,
         "X-rays, CT scans, MRI scans",
         60813
        ],
        [
         null,
         413,
         "Hormone replacement therapy",
         946856
        ],
        [
         null,
         405,
         "Pacemaker implantation",
         723767
        ],
        [
         null,
         314,
         "Medication management",
         372518
        ],
        [
         null,
         834,
         "Cataract surgery",
         41654
        ],
        [
         null,
         124,
         "Orthopedic surgery",
         416167
        ],
        [
         null,
         431,
         "Bronchoscopy",
         39206
        ],
        [
         null,
         555,
         "Plastic surgery",
         392919
        ],
        [
         null,
         283,
         "Interventional radiology procedures",
         798821
        ],
        [
         null,
         709,
         "Intensive care management",
         32931
        ],
        [
         null,
         744,
         "Emergency surgical procedures",
         584326
        ],
        [
         null,
         483,
         "Internal medicine consultations",
         657933
        ],
        [
         null,
         171,
         "Bronchoscopy",
         41842
        ],
        [
         null,
         567,
         "Intensive care management",
         932081
        ],
        [
         null,
         812,
         "Angioplasty and stent placement",
         91710
        ],
        [
         null,
         182,
         "Kidney transplant",
         833547
        ],
        [
         null,
         391,
         "LASIK eye surgery",
         989548
        ],
        [
         null,
         803,
         "Medication management",
         384096
        ],
        [
         null,
         119,
         "Chronic disease management",
         961653
        ],
        [
         null,
         306,
         "Comprehensive geriatric assessment",
         333274
        ],
        [
         null,
         770,
         "Chronic disease management",
         345876
        ],
        [
         null,
         900,
         "Laser therapy for skin conditions",
         585170
        ],
        [
         null,
         515,
         "MRI for brain imaging",
         199737
        ],
        [
         null,
         929,
         "Dermatologic surgery",
         549511
        ],
        [
         null,
         679,
         "Management of complex infections",
         211599
        ],
        [
         null,
         356,
         "Immunizations",
         405110
        ],
        [
         null,
         671,
         "General health check-ups",
         250318
        ],
        [
         null,
         901,
         "Radiation therapy",
         203010
        ],
        [
         null,
         121,
         "Laser therapy for skin conditions",
         114657
        ],
        [
         null,
         471,
         "Dermatologic surgery",
         379798
        ],
        [
         null,
         854,
         "Liver biopsy",
         478910
        ],
        [
         null,
         808,
         "Emotional and spiritual support",
         775636
        ],
        [
         null,
         759,
         "Minor surgical procedures",
         470735
        ],
        [
         null,
         643,
         "Cosmetic procedures (e.g., Botox, fillers)",
         142608
        ],
        [
         null,
         751,
         "Hemodynamic monitoring",
         259585
        ],
        [
         null,
         733,
         "Trauma resuscitation",
         995034
        ],
        [
         null,
         821,
         "Nephrectomy",
         38172
        ],
        [
         null,
         431,
         "Internal medicine consultations",
         545409
        ],
        [
         null,
         664,
         "Psychotherapy",
         44177
        ],
        [
         null,
         563,
         "Immunizations",
         464617
        ],
        [
         null,
         353,
         "LASIK eye surgery",
         963240
        ],
        [
         null,
         649,
         "Bronchoscopy",
         683297
        ],
        [
         null,
         808,
         "Electroconvulsive therapy (ECT)",
         395938
        ],
        [
         null,
         520,
         "Endoscopy",
         923677
        ],
        [
         null,
         778,
         "Thyroid biopsy",
         362028
        ],
        [
         null,
         662,
         "Angioplasty and stent placement",
         309466
        ],
        [
         null,
         147,
         "Cardiology:",
         494217
        ],
        [
         null,
         410,
         "Ventilation support",
         998106
        ],
        [
         null,
         635,
         "Chronic disease management",
         728026
        ],
        [
         null,
         938,
         "Dermatologic surgery",
         120179
        ],
        [
         null,
         488,
         "General health check-ups",
         978590
        ],
        [
         null,
         231,
         "Angioplasty and stent placement",
         443093
        ],
        [
         null,
         272,
         "Dementia care",
         930438
        ],
        [
         null,
         600,
         "Insulin pump management for diabetes",
         857895
        ],
        [
         null,
         814,
         "Chronic disease management",
         145410
        ],
        [
         null,
         723,
         "Hemodynamic monitoring",
         539646
        ],
        [
         null,
         488,
         "Allergy testing",
         728165
        ],
        [
         null,
         286,
         "General anesthesia for surgeries",
         438263
        ],
        [
         null,
         647,
         "Dermatologic surgery",
         575431
        ],
        [
         null,
         733,
         "Surgical oncology",
         751585
        ],
        [
         null,
         971,
         "General anesthesia for surgeries",
         60803
        ],
        [
         null,
         462,
         "Advanced cardiac life support",
         614806
        ],
        [
         null,
         735,
         "X-rays, CT scans, MRI scans",
         109954
        ],
        [
         null,
         453,
         "Thyroid biopsy",
         660595
        ],
        [
         null,
         797,
         "Allergy testing",
         600877
        ],
        [
         null,
         843,
         "Sedation for minor procedures",
         48292
        ],
        [
         null,
         140,
         "Sedation for minor procedures",
         110145
        ],
        [
         null,
         837,
         "Rhinoplasty",
         547703
        ],
        [
         null,
         888,
         "Management of complex infections",
         821747
        ],
        [
         null,
         843,
         "Hormone replacement therapy",
         95843
        ],
        [
         null,
         230,
         "Kidney transplant",
         486116
        ],
        [
         null,
         902,
         "Kidney transplant",
         952283
        ],
        [
         null,
         175,
         "Medication management",
         352199
        ],
        [
         null,
         212,
         "Mechanical ventilation",
         592444
        ],
        [
         null,
         979,
         "Cochlear implant surgery",
         348267
        ],
        [
         null,
         376,
         "Trauma resuscitation",
         316200
        ],
        [
         null,
         333,
         "Allergy testing",
         477335
        ],
        [
         null,
         267,
         "Management of complex infections",
         918079
        ],
        [
         null,
         880,
         "Mechanical ventilation",
         632888
        ],
        [
         null,
         252,
         "Management of complex infections",
         19274
        ],
        [
         null,
         869,
         "Advanced cardiac life support",
         915672
        ],
        [
         null,
         152,
         "Insulin pump management for diabetes",
         104594
        ],
        [
         null,
         1000,
         "Rhinoplasty",
         639461
        ],
        [
         null,
         832,
         "Psychotherapy",
         458149
        ],
        [
         null,
         960,
         "Advanced cardiac life support",
         748104
        ],
        [
         null,
         480,
         "Coronary artery bypass surgery",
         714118
        ],
        [
         null,
         205,
         "Dermatologic surgery",
         674041
        ],
        [
         null,
         879,
         "LASIK eye surgery",
         566544
        ],
        [
         null,
         639,
         "Epidural anesthesia for pain management",
         812712
        ],
        [
         null,
         857,
         "Chronic disease management",
         562650
        ],
        [
         null,
         173,
         "Plastic surgery",
         848696
        ],
        [
         null,
         657,
         "General surgery",
         619728
        ],
        [
         null,
         181,
         "Retinal surgery",
         377936
        ],
        [
         null,
         245,
         "Minor surgical procedures",
         239815
        ],
        [
         null,
         557,
         "Ventilation support",
         238749
        ],
        [
         null,
         459,
         "Emergency surgical procedures",
         896873
        ],
        [
         null,
         733,
         "Epidural analgesia during labor",
         568320
        ],
        [
         null,
         197,
         "Chronic disease management",
         919865
        ],
        [
         null,
         155,
         "Allergy testing",
         520455
        ],
        [
         null,
         312,
         "Pulmonary function tests",
         985602
        ],
        [
         null,
         555,
         "Management of complex medical conditions",
         612938
        ],
        [
         null,
         664,
         "Well-child check-ups",
         26117
        ],
        [
         null,
         849,
         "General surgery",
         68004
        ],
        [
         null,
         713,
         "Kidney transplant",
         92094
        ],
        [
         null,
         962,
         "Advanced cardiac life support",
         754556
        ],
        [
         null,
         972,
         "Colonoscopy",
         781673
        ],
        [
         null,
         141,
         "Advanced cardiac life support",
         627535
        ],
        [
         null,
         110,
         "Cardiology:",
         308067
        ],
        [
         null,
         285,
         "Cochlear implant surgery",
         589274
        ],
        [
         null,
         693,
         "Comprehensive geriatric assessment",
         631270
        ],
        [
         null,
         563,
         "Hemodynamic monitoring",
         208261
        ],
        [
         null,
         535,
         "Pediatric surgery",
         836470
        ],
        [
         null,
         597,
         "Hemodynamic monitoring",
         299671
        ],
        [
         null,
         496,
         "Nephrectomy",
         929242
        ],
        [
         null,
         334,
         "Thyroid biopsy",
         394584
        ],
        [
         null,
         536,
         "General anesthesia for surgeries",
         767025
        ],
        [
         null,
         986,
         "Sedation for minor procedures",
         925988
        ],
        [
         null,
         416,
         "Bronchoscopy",
         458514
        ],
        [
         null,
         892,
         "Laser therapy for skin conditions",
         443874
        ],
        [
         null,
         952,
         "Trauma resuscitation",
         682613
        ],
        [
         null,
         218,
         "Lumbar puncture",
         67022
        ],
        [
         null,
         971,
         "Hemodynamic monitoring",
         697675
        ],
        [
         null,
         348,
         "Retinal surgery",
         551621
        ],
        [
         null,
         193,
         "General health check-ups",
         848373
        ],
        [
         null,
         573,
         "Epidural anesthesia for pain management",
         219087
        ],
        [
         null,
         458,
         "Cataract surgery",
         793542
        ],
        [
         null,
         242,
         "Laser therapy for skin conditions",
         565746
        ],
        [
         null,
         600,
         "Orthopedic surgery",
         435633
        ],
        [
         null,
         175,
         "Immunotherapy (allergy shots)",
         569769
        ],
        [
         null,
         266,
         "Sedation for minor procedures",
         761099
        ],
        [
         null,
         717,
         "Epidural analgesia during labor",
         349500
        ],
        [
         null,
         191,
         "Radiation therapy",
         558902
        ],
        [
         null,
         530,
         "Medication management",
         850523
        ],
        [
         null,
         610,
         "Symptom management for end-of-life care",
         351723
        ],
        [
         null,
         373,
         "Mechanical ventilation",
         707696
        ],
        [
         null,
         559,
         "Rhinoplasty",
         52625
        ],
        [
         null,
         428,
         "Cochlear implant surgery",
         655511
        ],
        [
         null,
         222,
         "Psychotherapy",
         368435
        ],
        [
         null,
         198,
         "Symptom management for end-of-life care",
         396549
        ],
        [
         null,
         179,
         "Advanced cardiac life support",
         794440
        ],
        [
         null,
         252,
         "Electroconvulsive therapy (ECT)",
         25133
        ],
        [
         null,
         272,
         "Immunizations",
         201836
        ],
        [
         null,
         371,
         "Sedation for minor procedures",
         472275
        ],
        [
         null,
         904,
         "Laser therapy for skin conditions",
         965212
        ],
        [
         null,
         195,
         "Emotional and spiritual support",
         950461
        ],
        [
         null,
         634,
         "Immunizations",
         45782
        ],
        [
         null,
         871,
         "Pacemaker implantation",
         366293
        ],
        [
         null,
         696,
         "LASIK eye surgery",
         408017
        ],
        [
         null,
         117,
         "Cochlear implant surgery",
         639310
        ],
        [
         null,
         698,
         "Medication management",
         785130
        ],
        [
         null,
         851,
         "Immunizations",
         967709
        ],
        [
         null,
         562,
         "Pulmonary function tests",
         884305
        ],
        [
         null,
         854,
         "Thyroid biopsy",
         410465
        ],
        [
         null,
         245,
         "Bronchoscopy",
         55055
        ],
        [
         null,
         770,
         "Intensive care management",
         279497
        ],
        [
         null,
         941,
         "Chronic disease management",
         505123
        ],
        [
         null,
         365,
         "General anesthesia for surgeries",
         457946
        ],
        [
         null,
         651,
         "Pacemaker implantation",
         702692
        ],
        [
         null,
         434,
         "Radiation therapy",
         914950
        ],
        [
         null,
         883,
         "Surgical oncology",
         218009
        ],
        [
         null,
         112,
         "Chronic disease management",
         975444
        ]
       ],
       "datasetInfos": [],
       "dbfsResultPath": null,
       "isJsonSchema": true,
       "metadata": {
        "dataframeName": "_sqldf",
        "executionCount": 6
       },
       "overflow": false,
       "plotOptions": {
        "customPlotOptions": {},
        "displayType": "table",
        "pivotAggregation": null,
        "pivotColumns": null,
        "xColumns": null,
        "yColumns": null
       },
       "removedWidgets": [],
       "schema": [
        {
         "metadata": "{}",
         "name": "invoice_id",
         "type": "\"integer\""
        },
        {
         "metadata": "{}",
         "name": "patient_id",
         "type": "\"integer\""
        },
        {
         "metadata": "{}",
         "name": "items",
         "type": "\"string\""
        },
        {
         "metadata": "{}",
         "name": "amount",
         "type": "\"double\""
        }
       ],
       "type": "table"
      }
     },
     "output_type": "display_data"
    }
   ],
   "source": [
    "%sql\n",
    "select * from healthcare_processed.billing"
   ]
  },
  {
   "cell_type": "code",
   "execution_count": 0,
   "metadata": {
    "application/vnd.databricks.v1+cell": {
     "cellMetadata": {
      "byteLimit": 2048000,
      "rowLimit": 10000
     },
     "inputWidgets": {},
     "nuid": "ef46b1ee-48c8-4614-8b8b-6c594144505a",
     "showTitle": false,
     "tableResultSettingsMap": {},
     "title": ""
    }
   },
   "outputs": [],
   "source": [
    "dbutils.notebook.exit(\"Success\")"
   ]
  }
 ],
 "metadata": {
  "application/vnd.databricks.v1+notebook": {
   "computePreferences": null,
   "dashboards": [],
   "environmentMetadata": null,
   "inputWidgetPreferences": null,
   "language": "python",
   "notebookMetadata": {
    "mostRecentlyExecutedCommandWithImplicitDF": {
     "commandId": 5750272696920145,
     "dataframes": [
      "_sqldf"
     ]
    },
    "pythonIndentUnit": 4
   },
   "notebookName": "ingest_billing",
   "widgets": {}
  },
  "language_info": {
   "name": "python"
  }
 },
 "nbformat": 4,
 "nbformat_minor": 0
}

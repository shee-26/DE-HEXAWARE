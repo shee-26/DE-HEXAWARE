{
 "cells": [
  {
   "cell_type": "code",
   "execution_count": 0,
   "metadata": {
    "application/vnd.databricks.v1+cell": {
     "cellMetadata": {
      "byteLimit": 2048000,
      "rowLimit": 10000
     },
     "inputWidgets": {},
     "nuid": "facad1aa-925a-405c-8783-26f4ec4d1f03",
     "showTitle": false,
     "tableResultSettingsMap": {},
     "title": ""
    }
   },
   "outputs": [],
   "source": [
    "spark.conf.set(\n",
    "    \"fs.azure.account.key.projectadf1.dfs.core.windows.net\",\n",
    "    \"CSiXNWhibZG0fqyBMd04Qn4++bICGV/PCey4nuGzs+AStQ5MAfQ==\")"
   ]
  },
  {
   "cell_type": "code",
   "execution_count": 0,
   "metadata": {
    "application/vnd.databricks.v1+cell": {
     "cellMetadata": {
      "byteLimit": 2048000,
      "rowLimit": 10000
     },
     "inputWidgets": {},
     "nuid": "2621b375-c70e-4c95-be03-140e6bcceb3f",
     "showTitle": false,
     "tableResultSettingsMap": {},
     "title": ""
    }
   },
   "outputs": [],
   "source": [
    "from pyspark.sql.functions import col, trim, lower, initcap, current_timestamp\n",
    "from pyspark.sql.types import StructType, StructField, IntegerType, StringType\n",
    "\n",
    "doctors_raw_df = spark.read.table(\"healthcare_raw.doctors\")"
   ]
  },
  {
   "cell_type": "code",
   "execution_count": 0,
   "metadata": {
    "application/vnd.databricks.v1+cell": {
     "cellMetadata": {
      "byteLimit": 2048000,
      "rowLimit": 10000
     },
     "inputWidgets": {},
     "nuid": "857cdfcd-9223-47bb-92ca-91a93db8a907",
     "showTitle": false,
     "tableResultSettingsMap": {},
     "title": ""
    }
   },
   "outputs": [],
   "source": [
    "doctors_cleaned_df = (doctors_raw_df\n",
    "    # Clean text fields\n",
    "    .withColumn(\"doctor_name\", trim(initcap(col(\"DoctorName\"))))  # Capitalize first letters and trim\n",
    "    .withColumn(\"specialization\", trim(lower(col(\"Specialization\"))))  # Standardize to lowercase\n",
    "    .withColumn(\"contact_info\", trim(col(\"DoctorContact\")))\n",
    "    \n",
    "    # Data quality: Remove doctors without name or specialization\n",
    "    .filter(col(\"DoctorName\").isNotNull() & col(\"Specialization\").isNotNull())\n",
    "    \n",
    "    # Remove duplicates\n",
    "    .dropDuplicates([\"DoctorID\"])\n",
    "    \n",
    "    # Add audit columns\n",
    "    .withColumn(\"ingestion_date\", current_timestamp())\n",
    "    \n",
    "    # Select and rename final columns\n",
    "    .select(\n",
    "        col(\"DoctorID\").alias(\"doctor_id\"),\n",
    "        \"doctor_name\",\n",
    "        \"specialization\", \n",
    "        \"contact_info\",\n",
    "        \"ingestion_date\"\n",
    "    )\n",
    ")\n"
   ]
  },
  {
   "cell_type": "code",
   "execution_count": 0,
   "metadata": {
    "application/vnd.databricks.v1+cell": {
     "cellMetadata": {
      "byteLimit": 2048000,
      "rowLimit": 10000
     },
     "inputWidgets": {},
     "nuid": "94c64276-ceaa-4ca8-89d3-31dafbc223e9",
     "showTitle": false,
     "tableResultSettingsMap": {},
     "title": ""
    }
   },
   "outputs": [],
   "source": [
    "doctors_cleaned_df.write.mode(\"overwrite\").format(\"delta\").saveAsTable(\"healthcare_processed.doctors\")\n",
    "\n",
    "doctors_cleaned_df.write.mode(\"overwrite\").parquet(f\"abfss://source@projectadf1.dfs.core.windows.net/doctors\")\n"
   ]
  },
  {
   "cell_type": "code",
   "execution_count": 0,
   "metadata": {
    "application/vnd.databricks.v1+cell": {
     "cellMetadata": {
      "byteLimit": 2048000,
      "rowLimit": 10000
     },
     "inputWidgets": {},
     "nuid": "d88763f9-3302-49b2-827a-833347871e80",
     "showTitle": false,
     "tableResultSettingsMap": {},
     "title": ""
    }
   },
   "outputs": [
    {
     "name": "stdout",
     "output_type": "stream",
     "text": [
      "Total doctors processed: 600\n"
     ]
    },
    {
     "data": {
      "text/html": [
       "<style scoped>\n",
       "  .table-result-container {\n",
       "    max-height: 300px;\n",
       "    overflow: auto;\n",
       "  }\n",
       "  table, th, td {\n",
       "    border: 1px solid black;\n",
       "    border-collapse: collapse;\n",
       "  }\n",
       "  th, td {\n",
       "    padding: 5px;\n",
       "  }\n",
       "  th {\n",
       "    text-align: left;\n",
       "  }\n",
       "</style><div class='table-result-container'><table class='table-result'><thead style='background-color: white'><tr><th>doctor_id</th><th>doctor_name</th><th>specialization</th><th>contact_info</th><th>ingestion_date</th></tr></thead><tbody><tr><td>100</td><td>Thalia</td><td>emergency medicine</td><td>.@yopmail.com</td><td>2025-08-25T10:13:09.033Z</td></tr><tr><td>101</td><td>Mireielle</td><td>allergists</td><td>.@yopmail.com</td><td>2025-08-25T10:13:09.033Z</td></tr><tr><td>103</td><td>Elie</td><td>endocrinologist</td><td>.@yopmail.com</td><td>2025-08-25T10:13:09.033Z</td></tr><tr><td>104</td><td>Cacilie</td><td>emergency medicine</td><td>.@yopmail.com</td><td>2025-08-25T10:13:09.033Z</td></tr><tr><td>105</td><td>Lynea</td><td>emergency medicine</td><td>.@yopmail.com</td><td>2025-08-25T10:13:09.033Z</td></tr></tbody></table></div>"
      ]
     },
     "metadata": {
      "application/vnd.databricks.v1+output": {
       "addedWidgets": {},
       "aggData": [],
       "aggError": "",
       "aggOverflow": false,
       "aggSchema": [],
       "aggSeriesLimitReached": false,
       "aggType": "",
       "arguments": {},
       "columnCustomDisplayInfos": {},
       "data": [
        [
         100,
         "Thalia",
         "emergency medicine",
         ".@yopmail.com",
         "2025-08-25T10:13:09.033Z"
        ],
        [
         101,
         "Mireielle",
         "allergists",
         ".@yopmail.com",
         "2025-08-25T10:13:09.033Z"
        ],
        [
         103,
         "Elie",
         "endocrinologist",
         ".@yopmail.com",
         "2025-08-25T10:13:09.033Z"
        ],
        [
         104,
         "Cacilie",
         "emergency medicine",
         ".@yopmail.com",
         "2025-08-25T10:13:09.033Z"
        ],
        [
         105,
         "Lynea",
         "emergency medicine",
         ".@yopmail.com",
         "2025-08-25T10:13:09.033Z"
        ]
       ],
       "datasetInfos": [],
       "dbfsResultPath": null,
       "isJsonSchema": true,
       "metadata": {},
       "overflow": false,
       "plotOptions": {
        "customPlotOptions": {},
        "displayType": "table",
        "pivotAggregation": null,
        "pivotColumns": null,
        "xColumns": null,
        "yColumns": null
       },
       "removedWidgets": [],
       "schema": [
        {
         "metadata": "{}",
         "name": "doctor_id",
         "type": "\"integer\""
        },
        {
         "metadata": "{}",
         "name": "doctor_name",
         "type": "\"string\""
        },
        {
         "metadata": "{}",
         "name": "specialization",
         "type": "\"string\""
        },
        {
         "metadata": "{}",
         "name": "contact_info",
         "type": "\"string\""
        },
        {
         "metadata": "{}",
         "name": "ingestion_date",
         "type": "\"timestamp\""
        }
       ],
       "type": "table"
      }
     },
     "output_type": "display_data"
    }
   ],
   "source": [
    "print(\"Total doctors processed:\", doctors_cleaned_df.count())\n",
    "display(doctors_cleaned_df.limit(5))\n"
   ]
  },
  {
   "cell_type": "code",
   "execution_count": 0,
   "metadata": {
    "application/vnd.databricks.v1+cell": {
     "cellMetadata": {
      "byteLimit": 2048000,
      "rowLimit": 10000
     },
     "inputWidgets": {},
     "nuid": "b54e6cc6-84af-4569-812a-f127ad8bbf97",
     "showTitle": false,
     "tableResultSettingsMap": {},
     "title": ""
    }
   },
   "outputs": [],
   "source": [
    "dbutils.notebook.exit(\"Success\")"
   ]
  }
 ],
 "metadata": {
  "application/vnd.databricks.v1+notebook": {
   "computePreferences": null,
   "dashboards": [],
   "environmentMetadata": null,
   "inputWidgetPreferences": null,
   "language": "python",
   "notebookMetadata": {
    "pythonIndentUnit": 4
   },
   "notebookName": "ingest_doctor",
   "widgets": {}
  },
  "language_info": {
   "name": "python"
  }
 },
 "nbformat": 4,
 "nbformat_minor": 0
}

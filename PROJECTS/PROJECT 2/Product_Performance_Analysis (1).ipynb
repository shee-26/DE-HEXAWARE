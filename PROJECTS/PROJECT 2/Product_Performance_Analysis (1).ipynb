{
 "cells": [
  {
   "cell_type": "markdown",
   "metadata": {
    "application/vnd.databricks.v1+cell": {
     "cellMetadata": {
      "byteLimit": 2048000,
      "rowLimit": 10000
     },
     "inputWidgets": {},
     "nuid": "515acd12-437a-4864-ac41-b7cf661df415",
     "showTitle": false,
     "tableResultSettingsMap": {},
     "title": ""
    }
   },
   "source": [
    "### Top 10 products by revenue"
   ]
  },
  {
   "cell_type": "code",
   "execution_count": 0,
   "metadata": {
    "application/vnd.databricks.v1+cell": {
     "cellMetadata": {
      "byteLimit": 2048000,
      "implicitDf": true,
      "rowLimit": 10000
     },
     "inputWidgets": {},
     "nuid": "95fe481d-a202-46ec-8f0b-6edd50b59d2c",
     "showTitle": false,
     "tableResultSettingsMap": {},
     "title": ""
    }
   },
   "outputs": [
    {
     "output_type": "display_data",
     "data": {
      "text/html": [
       "<style scoped>\n",
       "  .table-result-container {\n",
       "    max-height: 300px;\n",
       "    overflow: auto;\n",
       "  }\n",
       "  table, th, td {\n",
       "    border: 1px solid black;\n",
       "    border-collapse: collapse;\n",
       "  }\n",
       "  th, td {\n",
       "    padding: 5px;\n",
       "  }\n",
       "  th {\n",
       "    text-align: left;\n",
       "  }\n",
       "</style><div class='table-result-container'><table class='table-result'><thead style='background-color: white'><tr><th>StockCode</th><th>Description</th><th>TotalRevenue</th></tr></thead><tbody><tr><td>DOT</td><td>DOTCOM POSTAGE</td><td>206248.77</td></tr><tr><td>22423</td><td>REGENCY CAKESTAND 3 TIER</td><td>174484.73999999982</td></tr><tr><td>23843</td><td>PAPER CRAFT , LITTLE BIRDIE</td><td>168469.6</td></tr><tr><td>85123A</td><td>WHITE HANGING HEART T-LIGHT HOLDER</td><td>104340.29000000036</td></tr><tr><td>47566</td><td>PARTY BUNTING</td><td>99504.32999999999</td></tr><tr><td>85099B</td><td>JUMBO BAG RED RETROSPOT</td><td>94340.04999999978</td></tr><tr><td>23166</td><td>MEDIUM CERAMIC TOP STORAGE JAR</td><td>81700.92000000003</td></tr><tr><td>M</td><td>Manual</td><td>78110.27</td></tr><tr><td>POST</td><td>POSTAGE</td><td>78101.88</td></tr><tr><td>23084</td><td>RABBIT NIGHT LIGHT</td><td>66964.98999999986</td></tr></tbody></table></div>"
      ]
     },
     "metadata": {
      "application/vnd.databricks.v1+output": {
       "addedWidgets": {},
       "aggData": [],
       "aggError": "",
       "aggOverflow": false,
       "aggSchema": [],
       "aggSeriesLimitReached": false,
       "aggType": "",
       "arguments": {},
       "columnCustomDisplayInfos": {},
       "data": [
        [
         "DOT",
         "DOTCOM POSTAGE",
         206248.77
        ],
        [
         "22423",
         "REGENCY CAKESTAND 3 TIER",
         174484.73999999982
        ],
        [
         "23843",
         "PAPER CRAFT , LITTLE BIRDIE",
         168469.6
        ],
        [
         "85123A",
         "WHITE HANGING HEART T-LIGHT HOLDER",
         104340.29000000036
        ],
        [
         "47566",
         "PARTY BUNTING",
         99504.32999999999
        ],
        [
         "85099B",
         "JUMBO BAG RED RETROSPOT",
         94340.04999999978
        ],
        [
         "23166",
         "MEDIUM CERAMIC TOP STORAGE JAR",
         81700.92000000003
        ],
        [
         "M",
         "Manual",
         78110.27
        ],
        [
         "POST",
         "POSTAGE",
         78101.88
        ],
        [
         "23084",
         "RABBIT NIGHT LIGHT",
         66964.98999999986
        ]
       ],
       "datasetInfos": [],
       "dbfsResultPath": null,
       "isJsonSchema": true,
       "metadata": {
        "dataframeName": "_sqldf",
        "executionCount": 1
       },
       "overflow": false,
       "plotOptions": {
        "customPlotOptions": {},
        "displayType": "table",
        "pivotAggregation": null,
        "pivotColumns": null,
        "xColumns": null,
        "yColumns": null
       },
       "removedWidgets": [],
       "schema": [
        {
         "metadata": "{}",
         "name": "StockCode",
         "type": "\"string\""
        },
        {
         "metadata": "{}",
         "name": "Description",
         "type": "\"string\""
        },
        {
         "metadata": "{}",
         "name": "TotalRevenue",
         "type": "\"double\""
        }
       ],
       "type": "table"
      }
     },
     "output_type": "display_data"
    },
    {
     "output_type": "display_data",
     "data": {
      "text/plain": [
       "Databricks visualization. Run in Databricks to view."
      ]
     },
     "metadata": {
      "application/vnd.databricks.v1.subcommand+json": {
       "baseErrorDetails": null,
       "bindings": {},
       "collapsed": false,
       "command": "%sql WITH q AS (SELECT StockCode, Description, TotalRevenue\nFROM online_retail.top_products_by_revenue\nORDER BY TotalRevenue DESC\nLIMIT 10) SELECT `StockCode`,`Description`,SUM(`TotalRevenue`) `column_e1277bd2328` FROM q GROUP BY `Description`,`StockCode`",
       "commandTitle": "Visualization 1",
       "commandType": "auto",
       "commandVersion": 0,
       "commentThread": [],
       "commentsVisible": false,
       "contentSha256Hex": null,
       "customPlotOptions": {
        "redashChart": [
         {
          "key": "type",
          "value": "CHART"
         },
         {
          "key": "options",
          "value": {
           "alignYAxesAtZero": true,
           "coefficient": 1,
           "columnConfigurationMap": {
            "series": {
             "column": "Description",
             "id": "column_e1277bd2327"
            },
            "x": {
             "column": "StockCode",
             "id": "column_e1277bd2326"
            },
            "y": [
             {
              "column": "TotalRevenue",
              "id": "column_e1277bd2328",
              "transform": "SUM"
             }
            ]
           },
           "dateTimeFormat": "DD/MM/YYYY HH:mm",
           "direction": {
            "type": "counterclockwise"
           },
           "error_y": {
            "type": "data",
            "visible": true
           },
           "globalSeriesType": "column",
           "legend": {
            "traceorder": "normal"
           },
           "missingValuesAsZero": true,
           "numberFormat": "0,0.[00000]",
           "percentFormat": "0[.]00%",
           "series": {
            "error_y": {
             "type": "data",
             "visible": true
            },
            "stacking": "stack"
           },
           "seriesOptions": {
            "column_e1277bd2328": {
             "name": "TotalRevenue",
             "yAxis": 0
            }
           },
           "showDataLabels": false,
           "sizemode": "diameter",
           "sortX": true,
           "sortY": true,
           "swappedAxes": true,
           "textFormat": "",
           "useAggregationsUi": true,
           "valuesOptions": {},
           "version": 2,
           "xAxis": {
            "labels": {
             "enabled": true
            },
            "type": "-"
           },
           "yAxis": [
            {
             "type": "-"
            },
            {
             "opposite": true,
             "type": "-"
            }
           ]
          }
         }
        ]
       },
       "datasetPreviewNameToCmdIdMap": {},
       "diffDeletes": [],
       "diffInserts": [],
       "displayType": "redashChart",
       "error": null,
       "errorDetails": null,
       "errorSummary": null,
       "errorTraceType": null,
       "finishTime": 0,
       "globalVars": {},
       "guid": "",
       "height": "auto",
       "hideCommandCode": false,
       "hideCommandResult": false,
       "iPythonMetadata": null,
       "inputWidgets": {},
       "isLockedInExamMode": false,
       "latestUser": "a user",
       "latestUserId": null,
       "listResultMetadata": null,
       "metadata": {
        "byteLimit": 2048000,
        "implicitDf": true,
        "rowLimit": 10000
       },
       "nuid": "488fe424-37bf-4860-b417-c694a1fd0015",
       "origId": 0,
       "parentHierarchy": [],
       "pivotAggregation": null,
       "pivotColumns": null,
       "position": 2.0,
       "resultDbfsErrorMessage": null,
       "resultDbfsStatus": "INLINED_IN_TREE",
       "results": null,
       "showCommandTitle": false,
       "startTime": 0,
       "state": "finished",
       "streamStates": {},
       "subcommandOptions": {
        "queryPlan": {
         "groups": [
          {
           "column": "StockCode",
           "type": "column"
          },
          {
           "column": "Description",
           "type": "column"
          }
         ],
         "selects": [
          {
           "column": "StockCode",
           "type": "column"
          },
          {
           "column": "Description",
           "type": "column"
          },
          {
           "alias": "column_e1277bd2328",
           "args": [
            {
             "column": "TotalRevenue",
             "type": "column"
            }
           ],
           "function": "SUM",
           "type": "function"
          }
         ]
        }
       },
       "submitTime": 0,
       "subtype": "tableResultSubCmd.visualization",
       "tableResultIndex": 0,
       "tableResultSettingsMap": {},
       "useConsistentColors": false,
       "version": "CommandV1",
       "width": "auto",
       "workflows": [],
       "xColumns": null,
       "yColumns": null
      }
     },
     "output_type": "display_data"
    }
   ],
   "source": [
    "%sql\n",
    "SELECT StockCode, Description, TotalRevenue\n",
    "FROM online_retail.top_products_by_revenue\n",
    "ORDER BY TotalRevenue DESC\n",
    "LIMIT 10;"
   ]
  },
  {
   "cell_type": "markdown",
   "metadata": {
    "application/vnd.databricks.v1+cell": {
     "cellMetadata": {
      "byteLimit": 2048000,
      "rowLimit": 10000
     },
     "inputWidgets": {},
     "nuid": "7f2166d0-7ce1-49c9-9aec-62af652c2e8e",
     "showTitle": false,
     "tableResultSettingsMap": {},
     "title": ""
    }
   },
   "source": [
    "### Which products were ordered most frequently?"
   ]
  },
  {
   "cell_type": "code",
   "execution_count": 0,
   "metadata": {
    "application/vnd.databricks.v1+cell": {
     "cellMetadata": {
      "byteLimit": 2048000,
      "implicitDf": true,
      "rowLimit": 10000
     },
     "inputWidgets": {},
     "nuid": "afca1ac8-3c17-41df-8899-cf16f8d1231d",
     "showTitle": false,
     "tableResultSettingsMap": {},
     "title": ""
    }
   },
   "outputs": [
    {
     "output_type": "display_data",
     "data": {
      "text/html": [
       "<style scoped>\n",
       "  .table-result-container {\n",
       "    max-height: 300px;\n",
       "    overflow: auto;\n",
       "  }\n",
       "  table, th, td {\n",
       "    border: 1px solid black;\n",
       "    border-collapse: collapse;\n",
       "  }\n",
       "  th, td {\n",
       "    padding: 5px;\n",
       "  }\n",
       "  th {\n",
       "    text-align: left;\n",
       "  }\n",
       "</style><div class='table-result-container'><table class='table-result'><thead style='background-color: white'><tr><th>StockCode</th><th>Description</th><th>Total_Number_items_sold</th></tr></thead><tbody><tr><td>23843</td><td>PAPER CRAFT , LITTLE BIRDIE</td><td>80995</td></tr><tr><td>23166</td><td>MEDIUM CERAMIC TOP STORAGE JAR</td><td>78033</td></tr><tr><td>84077</td><td>WORLD WAR 2 GLIDERS ASSTD DESIGNS</td><td>55047</td></tr><tr><td>85099B</td><td>JUMBO BAG RED RETROSPOT</td><td>48474</td></tr><tr><td>85123A</td><td>WHITE HANGING HEART T-LIGHT HOLDER</td><td>37599</td></tr><tr><td>22197</td><td>POPCORN HOLDER</td><td>36761</td></tr><tr><td>84879</td><td>ASSORTED COLOUR BIRD ORNAMENT</td><td>36461</td></tr><tr><td>21212</td><td>PACK OF 72 RETROSPOT CAKE CASES</td><td>36419</td></tr><tr><td>23084</td><td>RABBIT NIGHT LIGHT</td><td>30788</td></tr><tr><td>22492</td><td>MINI PAINT SET VINTAGE </td><td>26633</td></tr></tbody></table></div>"
      ]
     },
     "metadata": {
      "application/vnd.databricks.v1+output": {
       "addedWidgets": {},
       "aggData": [],
       "aggError": "",
       "aggOverflow": false,
       "aggSchema": [],
       "aggSeriesLimitReached": false,
       "aggType": "",
       "arguments": {},
       "columnCustomDisplayInfos": {},
       "data": [
        [
         "23843",
         "PAPER CRAFT , LITTLE BIRDIE",
         80995
        ],
        [
         "23166",
         "MEDIUM CERAMIC TOP STORAGE JAR",
         78033
        ],
        [
         "84077",
         "WORLD WAR 2 GLIDERS ASSTD DESIGNS",
         55047
        ],
        [
         "85099B",
         "JUMBO BAG RED RETROSPOT",
         48474
        ],
        [
         "85123A",
         "WHITE HANGING HEART T-LIGHT HOLDER",
         37599
        ],
        [
         "22197",
         "POPCORN HOLDER",
         36761
        ],
        [
         "84879",
         "ASSORTED COLOUR BIRD ORNAMENT",
         36461
        ],
        [
         "21212",
         "PACK OF 72 RETROSPOT CAKE CASES",
         36419
        ],
        [
         "23084",
         "RABBIT NIGHT LIGHT",
         30788
        ],
        [
         "22492",
         "MINI PAINT SET VINTAGE ",
         26633
        ]
       ],
       "datasetInfos": [],
       "dbfsResultPath": null,
       "isJsonSchema": true,
       "metadata": {
        "dataframeName": "_sqldf",
        "executionCount": 2
       },
       "overflow": false,
       "plotOptions": {
        "customPlotOptions": {},
        "displayType": "table",
        "pivotAggregation": null,
        "pivotColumns": null,
        "xColumns": null,
        "yColumns": null
       },
       "removedWidgets": [],
       "schema": [
        {
         "metadata": "{}",
         "name": "StockCode",
         "type": "\"string\""
        },
        {
         "metadata": "{}",
         "name": "Description",
         "type": "\"string\""
        },
        {
         "metadata": "{}",
         "name": "Total_Number_items_sold",
         "type": "\"long\""
        }
       ],
       "type": "table"
      }
     },
     "output_type": "display_data"
    },
    {
     "output_type": "display_data",
     "data": {
      "text/plain": [
       "Databricks visualization. Run in Databricks to view."
      ]
     },
     "metadata": {
      "application/vnd.databricks.v1.subcommand+json": {
       "baseErrorDetails": null,
       "bindings": {},
       "collapsed": false,
       "command": "%sql WITH q AS (SELECT StockCode, Description, TotalNoOfTimesOrdered\nFROM online_retail.top_products\nORDER BY TotalNoOfTimesOrdered DESC\nLIMIT 10) SELECT `StockCode`,`Description`,SUM(`TotalNoOfTimesOrdered`) `column_e1277bd2338` FROM q GROUP BY `Description`,`StockCode`",
       "commandTitle": "Visualization 1",
       "commandType": "auto",
       "commandVersion": 0,
       "commentThread": [],
       "commentsVisible": false,
       "contentSha256Hex": null,
       "customPlotOptions": {
        "redashChart": [
         {
          "key": "type",
          "value": "CHART"
         },
         {
          "key": "options",
          "value": {
           "alignYAxesAtZero": true,
           "coefficient": 1,
           "columnConfigurationMap": {
            "series": {
             "column": "Description",
             "id": "column_e1277bd2337"
            },
            "x": {
             "column": "StockCode",
             "id": "column_e1277bd2336"
            },
            "y": [
             {
              "column": "Total_Number_items_sold",
              "id": "column_e1277bd2338",
              "transform": "SUM"
             }
            ]
           },
           "dateTimeFormat": "DD/MM/YYYY HH:mm",
           "direction": {
            "type": "counterclockwise"
           },
           "error_y": {
            "type": "data",
            "visible": true
           },
           "globalSeriesType": "column",
           "isAggregationOn": true,
           "legend": {
            "traceorder": "normal"
           },
           "missingValuesAsZero": true,
           "numberFormat": "0,0.[00000]",
           "percentFormat": "0[.]00%",
           "series": {
            "error_y": {
             "type": "data",
             "visible": true
            },
            "stacking": "stack"
           },
           "seriesOptions": {
            "column_e1277bd2338": {
             "name": "TotalNoOfTimesOrdered",
             "type": "column",
             "yAxis": 0
            }
           },
           "showDataLabels": false,
           "sizemode": "diameter",
           "sortX": true,
           "sortY": true,
           "swappedAxes": true,
           "textFormat": "",
           "useAggregationsUi": true,
           "valuesOptions": {},
           "version": 2,
           "xAxis": {
            "labels": {
             "enabled": true
            },
            "type": "-"
           },
           "yAxis": [
            {
             "type": "-"
            },
            {
             "opposite": true,
             "type": "-"
            }
           ]
          }
         }
        ]
       },
       "datasetPreviewNameToCmdIdMap": {},
       "diffDeletes": [],
       "diffInserts": [],
       "displayType": "redashChart",
       "error": null,
       "errorDetails": null,
       "errorSummary": null,
       "errorTraceType": null,
       "finishTime": 0,
       "globalVars": {},
       "guid": "",
       "height": "auto",
       "hideCommandCode": false,
       "hideCommandResult": false,
       "iPythonMetadata": null,
       "inputWidgets": {},
       "isLockedInExamMode": false,
       "latestUser": "a user",
       "latestUserId": null,
       "listResultMetadata": null,
       "metadata": {
        "byteLimit": 2048000,
        "implicitDf": true,
        "rowLimit": 10000
       },
       "nuid": "e9bf3b8f-b255-4d55-82f3-add3c04d77ca",
       "origId": 0,
       "parentHierarchy": [],
       "pivotAggregation": null,
       "pivotColumns": null,
       "position": 4.0,
       "resultDbfsErrorMessage": null,
       "resultDbfsStatus": "INLINED_IN_TREE",
       "results": null,
       "showCommandTitle": false,
       "startTime": 0,
       "state": "input",
       "streamStates": {},
       "subcommandOptions": {
        "queryPlan": {
         "groups": [
          {
           "column": "Description",
           "type": "column"
          },
          {
           "column": "StockCode",
           "type": "column"
          }
         ],
         "selects": [
          {
           "column": "Description",
           "type": "column"
          },
          {
           "column": "StockCode",
           "type": "column"
          },
          {
           "alias": "column_e1277bd2338",
           "args": [
            {
             "column": "Total_Number_items_sold",
             "type": "column"
            }
           ],
           "function": "SUM",
           "type": "function"
          }
         ]
        }
       },
       "submitTime": 0,
       "subtype": "tableResultSubCmd.visualization",
       "tableResultIndex": 0,
       "tableResultSettingsMap": {},
       "useConsistentColors": false,
       "version": "CommandV1",
       "width": "auto",
       "workflows": [],
       "xColumns": null,
       "yColumns": null
      }
     },
     "output_type": "display_data"
    }
   ],
   "source": [
    "%sql\n",
    "SELECT StockCode, Description, Total_Number_items_sold\n",
    "FROM online_retail.top_products_by_revenue\n",
    "ORDER BY Total_Number_items_sold DESC\n",
    "LIMIT 10;"
   ]
  },
  {
   "cell_type": "markdown",
   "metadata": {
    "application/vnd.databricks.v1+cell": {
     "cellMetadata": {
      "byteLimit": 2048000,
      "rowLimit": 10000
     },
     "inputWidgets": {},
     "nuid": "fe11e6d8-989a-4a18-ae6a-79f2f95d7994",
     "showTitle": false,
     "tableResultSettingsMap": {},
     "title": ""
    }
   },
   "source": [
    "### Which products sold the highest number of units?"
   ]
  },
  {
   "cell_type": "code",
   "execution_count": 0,
   "metadata": {
    "application/vnd.databricks.v1+cell": {
     "cellMetadata": {
      "byteLimit": 2048000,
      "implicitDf": true,
      "rowLimit": 10000
     },
     "inputWidgets": {},
     "nuid": "49f21731-0cfa-42a4-9533-b91690edc404",
     "showTitle": false,
     "tableResultSettingsMap": {},
     "title": ""
    }
   },
   "outputs": [
    {
     "output_type": "display_data",
     "data": {
      "text/html": [
       "<style scoped>\n",
       "  .table-result-container {\n",
       "    max-height: 300px;\n",
       "    overflow: auto;\n",
       "  }\n",
       "  table, th, td {\n",
       "    border: 1px solid black;\n",
       "    border-collapse: collapse;\n",
       "  }\n",
       "  th, td {\n",
       "    padding: 5px;\n",
       "  }\n",
       "  th {\n",
       "    text-align: left;\n",
       "  }\n",
       "</style><div class='table-result-container'><table class='table-result'><thead style='background-color: white'><tr><th>StockCode</th><th>Description</th><th>Total_Number_items_sold</th></tr></thead><tbody><tr><td>23843</td><td>PAPER CRAFT , LITTLE BIRDIE</td><td>80995</td></tr><tr><td>23166</td><td>MEDIUM CERAMIC TOP STORAGE JAR</td><td>78033</td></tr><tr><td>84077</td><td>WORLD WAR 2 GLIDERS ASSTD DESIGNS</td><td>55047</td></tr><tr><td>85099B</td><td>JUMBO BAG RED RETROSPOT</td><td>48474</td></tr><tr><td>85123A</td><td>WHITE HANGING HEART T-LIGHT HOLDER</td><td>37599</td></tr><tr><td>22197</td><td>POPCORN HOLDER</td><td>36761</td></tr><tr><td>84879</td><td>ASSORTED COLOUR BIRD ORNAMENT</td><td>36461</td></tr><tr><td>21212</td><td>PACK OF 72 RETROSPOT CAKE CASES</td><td>36419</td></tr><tr><td>23084</td><td>RABBIT NIGHT LIGHT</td><td>30788</td></tr><tr><td>22492</td><td>MINI PAINT SET VINTAGE </td><td>26633</td></tr></tbody></table></div>"
      ]
     },
     "metadata": {
      "application/vnd.databricks.v1+output": {
       "addedWidgets": {},
       "aggData": [],
       "aggError": "",
       "aggOverflow": false,
       "aggSchema": [],
       "aggSeriesLimitReached": false,
       "aggType": "",
       "arguments": {},
       "columnCustomDisplayInfos": {},
       "data": [
        [
         "23843",
         "PAPER CRAFT , LITTLE BIRDIE",
         80995
        ],
        [
         "23166",
         "MEDIUM CERAMIC TOP STORAGE JAR",
         78033
        ],
        [
         "84077",
         "WORLD WAR 2 GLIDERS ASSTD DESIGNS",
         55047
        ],
        [
         "85099B",
         "JUMBO BAG RED RETROSPOT",
         48474
        ],
        [
         "85123A",
         "WHITE HANGING HEART T-LIGHT HOLDER",
         37599
        ],
        [
         "22197",
         "POPCORN HOLDER",
         36761
        ],
        [
         "84879",
         "ASSORTED COLOUR BIRD ORNAMENT",
         36461
        ],
        [
         "21212",
         "PACK OF 72 RETROSPOT CAKE CASES",
         36419
        ],
        [
         "23084",
         "RABBIT NIGHT LIGHT",
         30788
        ],
        [
         "22492",
         "MINI PAINT SET VINTAGE ",
         26633
        ]
       ],
       "datasetInfos": [],
       "dbfsResultPath": null,
       "isJsonSchema": true,
       "metadata": {
        "dataframeName": "_sqldf",
        "executionCount": 3
       },
       "overflow": false,
       "plotOptions": {
        "customPlotOptions": {},
        "displayType": "table",
        "pivotAggregation": null,
        "pivotColumns": null,
        "xColumns": null,
        "yColumns": null
       },
       "removedWidgets": [],
       "schema": [
        {
         "metadata": "{}",
         "name": "StockCode",
         "type": "\"string\""
        },
        {
         "metadata": "{}",
         "name": "Description",
         "type": "\"string\""
        },
        {
         "metadata": "{}",
         "name": "Total_Number_items_sold",
         "type": "\"long\""
        }
       ],
       "type": "table"
      }
     },
     "output_type": "display_data"
    },
    {
     "output_type": "display_data",
     "data": {
      "text/plain": [
       "Databricks visualization. Run in Databricks to view."
      ]
     },
     "metadata": {
      "application/vnd.databricks.v1.subcommand+json": {
       "baseErrorDetails": null,
       "bindings": {},
       "collapsed": false,
       "command": "%sql WITH q AS (SELECT StockCode, Description, TotalNoOfItems\nFROM online_retail.top_products\nORDER BY TotalNoOfItems DESC\nLIMIT 10) SELECT `StockCode`,SUM(`TotalNoOfItems`) `column_e1277bd2348` FROM q GROUP BY `StockCode`",
       "commandTitle": "Visualization 1",
       "commandType": "auto",
       "commandVersion": 0,
       "commentThread": [],
       "commentsVisible": false,
       "contentSha256Hex": null,
       "customPlotOptions": {
        "redashChart": [
         {
          "key": "type",
          "value": "CHART"
         },
         {
          "key": "options",
          "value": {
           "alignYAxesAtZero": true,
           "coefficient": 1,
           "columnConfigurationMap": {
            "x": {
             "column": "StockCode",
             "id": "column_e1277bd2346"
            },
            "y": [
             {
              "column": "Total_Number_items_sold",
              "id": "column_e1277bd2348",
              "transform": "SUM"
             }
            ]
           },
           "dateTimeFormat": "DD/MM/YYYY HH:mm",
           "direction": {
            "type": "counterclockwise"
           },
           "error_y": {
            "type": "data",
            "visible": true
           },
           "globalSeriesType": "combo",
           "isAggregationOn": true,
           "legend": {
            "traceorder": "normal"
           },
           "missingValuesAsZero": true,
           "numberFormat": "0,0.[00000]",
           "percentFormat": "0[.]00%",
           "series": {
            "error_y": {
             "type": "data",
             "visible": true
            },
            "stacking": "stack"
           },
           "seriesOptions": {
            "column_e1277bd2348": {
             "type": "column"
            }
           },
           "showDataLabels": false,
           "sizemode": "diameter",
           "sortX": true,
           "sortY": true,
           "swappedAxes": false,
           "textFormat": "",
           "useAggregationsUi": true,
           "valuesOptions": {},
           "version": 2,
           "xAxis": {
            "labels": {
             "enabled": true
            },
            "type": "-"
           },
           "yAxis": [
            {
             "type": "-"
            },
            {
             "opposite": true,
             "type": "-"
            }
           ]
          }
         }
        ]
       },
       "datasetPreviewNameToCmdIdMap": {},
       "diffDeletes": [],
       "diffInserts": [],
       "displayType": "redashChart",
       "error": null,
       "errorDetails": null,
       "errorSummary": null,
       "errorTraceType": null,
       "finishTime": 0,
       "globalVars": {},
       "guid": "",
       "height": "auto",
       "hideCommandCode": false,
       "hideCommandResult": false,
       "iPythonMetadata": null,
       "inputWidgets": {},
       "isLockedInExamMode": false,
       "latestUser": "a user",
       "latestUserId": null,
       "listResultMetadata": null,
       "metadata": {
        "byteLimit": 2048000,
        "implicitDf": true,
        "rowLimit": 10000
       },
       "nuid": "22787063-df4c-41f4-aceb-0c489e179319",
       "origId": 0,
       "parentHierarchy": [],
       "pivotAggregation": null,
       "pivotColumns": null,
       "position": 6.0,
       "resultDbfsErrorMessage": null,
       "resultDbfsStatus": "INLINED_IN_TREE",
       "results": null,
       "showCommandTitle": false,
       "startTime": 0,
       "state": "input",
       "streamStates": {},
       "subcommandOptions": {
        "queryPlan": {
         "groups": [
          {
           "column": "StockCode",
           "type": "column"
          }
         ],
         "selects": [
          {
           "column": "StockCode",
           "type": "column"
          },
          {
           "alias": "column_e1277bd2348",
           "args": [
            {
             "column": "Total_Number_items_sold",
             "type": "column"
            }
           ],
           "function": "SUM",
           "type": "function"
          }
         ]
        }
       },
       "submitTime": 0,
       "subtype": "tableResultSubCmd.visualization",
       "tableResultIndex": 0,
       "tableResultSettingsMap": {},
       "useConsistentColors": false,
       "version": "CommandV1",
       "width": "auto",
       "workflows": [],
       "xColumns": null,
       "yColumns": null
      }
     },
     "output_type": "display_data"
    }
   ],
   "source": [
    "%sql\n",
    "SELECT StockCode, Description, Total_Number_items_sold\n",
    "FROM online_retail.top_products_by_revenue\n",
    "ORDER BY Total_Number_items_sold DESC\n",
    "LIMIT 10;"
   ]
  },
  {
   "cell_type": "markdown",
   "metadata": {
    "application/vnd.databricks.v1+cell": {
     "cellMetadata": {
      "byteLimit": 2048000,
      "rowLimit": 10000
     },
     "inputWidgets": {},
     "nuid": "8f047aa6-4eaf-4111-923d-f5d6fd331d8a",
     "showTitle": false,
     "tableResultSettingsMap": {},
     "title": ""
    }
   },
   "source": [
    "### What is the average revenue per order for each product?"
   ]
  },
  {
   "cell_type": "code",
   "execution_count": 0,
   "metadata": {
    "application/vnd.databricks.v1+cell": {
     "cellMetadata": {
      "byteLimit": 2048000,
      "implicitDf": true,
      "rowLimit": 10000
     },
     "inputWidgets": {},
     "nuid": "c56a1880-9685-49d4-84d8-3917e099b90c",
     "showTitle": false,
     "tableResultSettingsMap": {},
     "title": ""
    }
   },
   "outputs": [
    {
     "output_type": "display_data",
     "data": {
      "text/html": [
       "<style scoped>\n",
       "  .table-result-container {\n",
       "    max-height: 300px;\n",
       "    overflow: auto;\n",
       "  }\n",
       "  table, th, td {\n",
       "    border: 1px solid black;\n",
       "    border-collapse: collapse;\n",
       "  }\n",
       "  th, td {\n",
       "    padding: 5px;\n",
       "  }\n",
       "  th {\n",
       "    text-align: left;\n",
       "  }\n",
       "</style><div class='table-result-container'><table class='table-result'><thead style='background-color: white'><tr><th>StockCode</th><th>Description</th><th>AvgRevenuePerOrder</th></tr></thead><tbody><tr><td>B</td><td>Adjust bad debt</td><td>11062.06</td></tr><tr><td>AMAZONFEE</td><td>AMAZON FEE</td><td>6880.545</td></tr><tr><td>22502</td><td>PICNIC BASKET WICKER 60 PIECES</td><td>649.5</td></tr><tr><td>DOT</td><td>DOTCOM POSTAGE</td><td>292.13706798866855</td></tr><tr><td>22827</td><td>RUSTIC  SEVENTEEN DRAWER SIDEBOARD</td><td>154.71428571428572</td></tr><tr><td>22828</td><td>REGENCY MIRROR WITH SHUTTERS</td><td>153.0</td></tr><tr><td>22656</td><td>VINTAGE BLUE KITCHEN CABINET</td><td>141.73076923076923</td></tr><tr><td>22655</td><td>VINTAGE RED KITCHEN CABINET</td><td>135.41666666666666</td></tr><tr><td>22823</td><td>CHEST NATURAL WOOD 20 DRAWERS</td><td>114.375</td></tr><tr><td>22826</td><td>LOVE SEAT ANTIQUE WHITE METAL</td><td>107.06896551724138</td></tr></tbody></table></div>"
      ]
     },
     "metadata": {
      "application/vnd.databricks.v1+output": {
       "addedWidgets": {},
       "aggData": [],
       "aggError": "",
       "aggOverflow": false,
       "aggSchema": [],
       "aggSeriesLimitReached": false,
       "aggType": "",
       "arguments": {},
       "columnCustomDisplayInfos": {},
       "data": [
        [
         "B",
         "Adjust bad debt",
         11062.06
        ],
        [
         "AMAZONFEE",
         "AMAZON FEE",
         6880.545
        ],
        [
         "22502",
         "PICNIC BASKET WICKER 60 PIECES",
         649.5
        ],
        [
         "DOT",
         "DOTCOM POSTAGE",
         292.13706798866855
        ],
        [
         "22827",
         "RUSTIC  SEVENTEEN DRAWER SIDEBOARD",
         154.71428571428572
        ],
        [
         "22828",
         "REGENCY MIRROR WITH SHUTTERS",
         153.0
        ],
        [
         "22656",
         "VINTAGE BLUE KITCHEN CABINET",
         141.73076923076923
        ],
        [
         "22655",
         "VINTAGE RED KITCHEN CABINET",
         135.41666666666666
        ],
        [
         "22823",
         "CHEST NATURAL WOOD 20 DRAWERS",
         114.375
        ],
        [
         "22826",
         "LOVE SEAT ANTIQUE WHITE METAL",
         107.06896551724138
        ]
       ],
       "datasetInfos": [],
       "dbfsResultPath": null,
       "isJsonSchema": true,
       "metadata": {
        "dataframeName": "_sqldf",
        "executionCount": 4
       },
       "overflow": false,
       "plotOptions": {
        "customPlotOptions": {},
        "displayType": "table",
        "pivotAggregation": null,
        "pivotColumns": null,
        "xColumns": null,
        "yColumns": null
       },
       "removedWidgets": [],
       "schema": [
        {
         "metadata": "{}",
         "name": "StockCode",
         "type": "\"string\""
        },
        {
         "metadata": "{}",
         "name": "Description",
         "type": "\"string\""
        },
        {
         "metadata": "{}",
         "name": "AvgRevenuePerOrder",
         "type": "\"double\""
        }
       ],
       "type": "table"
      }
     },
     "output_type": "display_data"
    },
    {
     "output_type": "display_data",
     "data": {
      "text/plain": [
       "Databricks visualization. Run in Databricks to view."
      ]
     },
     "metadata": {
      "application/vnd.databricks.v1.subcommand+json": {
       "baseErrorDetails": null,
       "bindings": {},
       "collapsed": false,
       "command": "%sql WITH q AS (SELECT StockCode, Description, \n       (TotalRevenue / TotalNoOfTimesOrdered) AS AvgRevenuePerOrder\nFROM online_retail.top_products\nORDER BY AvgRevenuePerOrder DESC\nLIMIT 10) SELECT `StockCode`,SUM(`AvgRevenuePerOrder`) `column_e1277bd2362` FROM q GROUP BY `StockCode`",
       "commandTitle": "Visualization 1",
       "commandType": "auto",
       "commandVersion": 0,
       "commentThread": [],
       "commentsVisible": false,
       "contentSha256Hex": null,
       "customPlotOptions": {
        "redashChart": [
         {
          "key": "type",
          "value": "CHART"
         },
         {
          "key": "options",
          "value": {
           "alignYAxesAtZero": true,
           "coefficient": 1,
           "columnConfigurationMap": {
            "x": {
             "column": "StockCode",
             "id": "column_e1277bd2360"
            },
            "y": [
             {
              "column": "AvgRevenuePerOrder",
              "id": "column_e1277bd2362",
              "transform": "SUM"
             }
            ]
           },
           "dateTimeFormat": "DD/MM/YYYY HH:mm",
           "direction": {
            "type": "counterclockwise"
           },
           "error_y": {
            "type": "data",
            "visible": true
           },
           "globalSeriesType": "line",
           "isAggregationOn": true,
           "legend": {
            "traceorder": "normal"
           },
           "missingValuesAsZero": true,
           "numberFormat": "0,0.[00000]",
           "percentFormat": "0[.]00%",
           "series": {
            "error_y": {
             "type": "data",
             "visible": true
            },
            "stacking": null
           },
           "seriesOptions": {
            "AvgRevenuePerOrder": {
             "name": "AvgRevenuePerOrder",
             "type": "line",
             "yAxis": 0
            },
            "column_e1277bd2362": {
             "name": "AvgRevenuePerOrder",
             "type": "line",
             "yAxis": 0
            }
           },
           "showDataLabels": false,
           "sizemode": "diameter",
           "sortX": true,
           "sortY": true,
           "swappedAxes": false,
           "textFormat": "",
           "useAggregationsUi": true,
           "valuesOptions": {},
           "version": 2,
           "xAxis": {
            "labels": {
             "enabled": true
            },
            "type": "-"
           },
           "yAxis": [
            {
             "type": "-"
            },
            {
             "opposite": true,
             "type": "-"
            }
           ]
          }
         }
        ]
       },
       "datasetPreviewNameToCmdIdMap": {},
       "diffDeletes": [],
       "diffInserts": [],
       "displayType": "redashChart",
       "error": null,
       "errorDetails": null,
       "errorSummary": null,
       "errorTraceType": null,
       "finishTime": 0,
       "globalVars": {},
       "guid": "",
       "height": "auto",
       "hideCommandCode": false,
       "hideCommandResult": false,
       "iPythonMetadata": null,
       "inputWidgets": {},
       "isLockedInExamMode": false,
       "latestUser": "a user",
       "latestUserId": null,
       "listResultMetadata": null,
       "metadata": {
        "byteLimit": 2048000,
        "implicitDf": true,
        "rowLimit": 10000
       },
       "nuid": "66a87192-5b57-4a7b-9628-e7d749933380",
       "origId": 0,
       "parentHierarchy": [],
       "pivotAggregation": null,
       "pivotColumns": null,
       "position": 8.0,
       "resultDbfsErrorMessage": null,
       "resultDbfsStatus": "INLINED_IN_TREE",
       "results": null,
       "showCommandTitle": false,
       "startTime": 0,
       "state": "input",
       "streamStates": {},
       "subcommandOptions": {
        "queryPlan": {
         "groups": [
          {
           "column": "StockCode",
           "type": "column"
          }
         ],
         "selects": [
          {
           "column": "StockCode",
           "type": "column"
          },
          {
           "alias": "column_e1277bd2362",
           "args": [
            {
             "column": "AvgRevenuePerOrder",
             "type": "column"
            }
           ],
           "function": "SUM",
           "type": "function"
          }
         ]
        }
       },
       "submitTime": 0,
       "subtype": "tableResultSubCmd.visualization",
       "tableResultIndex": 0,
       "tableResultSettingsMap": {},
       "useConsistentColors": false,
       "version": "CommandV1",
       "width": "auto",
       "workflows": [],
       "xColumns": null,
       "yColumns": null
      }
     },
     "output_type": "display_data"
    }
   ],
   "source": [
    "%sql\n",
    "SELECT StockCode, Description, \n",
    "       (TotalRevenue / Total_Number_items_sold) AS AvgRevenuePerOrder\n",
    "FROM online_retail.top_products_by_revenue\n",
    "ORDER BY AvgRevenuePerOrder DESC\n",
    "LIMIT 10;\n"
   ]
  },
  {
   "cell_type": "markdown",
   "metadata": {
    "application/vnd.databricks.v1+cell": {
     "cellMetadata": {
      "byteLimit": 2048000,
      "rowLimit": 10000
     },
     "inputWidgets": {},
     "nuid": "59230004-a874-468c-9827-ee189d61560d",
     "showTitle": false,
     "tableResultSettingsMap": {},
     "title": ""
    }
   },
   "source": [
    "### Which products have low revenue but high order frequency"
   ]
  },
  {
   "cell_type": "code",
   "execution_count": 0,
   "metadata": {
    "application/vnd.databricks.v1+cell": {
     "cellMetadata": {
      "byteLimit": 2048000,
      "implicitDf": true,
      "rowLimit": 10000
     },
     "inputWidgets": {},
     "nuid": "30ac1772-43c1-45bb-b6fd-bca8d3af269a",
     "showTitle": false,
     "tableResultSettingsMap": {},
     "title": ""
    }
   },
   "outputs": [
    {
     "output_type": "display_data",
     "data": {
      "text/html": [
       "<style scoped>\n",
       "  .table-result-container {\n",
       "    max-height: 300px;\n",
       "    overflow: auto;\n",
       "  }\n",
       "  table, th, td {\n",
       "    border: 1px solid black;\n",
       "    border-collapse: collapse;\n",
       "  }\n",
       "  th, td {\n",
       "    padding: 5px;\n",
       "  }\n",
       "  th {\n",
       "    text-align: left;\n",
       "  }\n",
       "</style><div class='table-result-container'><table class='table-result'><thead style='background-color: white'><tr><th>StockCode</th><th>Description</th><th>TotalRevenue</th><th>Total_Number_items_sold</th></tr></thead><tbody><tr><td>16043</td><td>POP ART PUSH DOWN RUBBER </td><td>11.760000000000002</td><td>98</td></tr><tr><td>47013C</td><td>WINE BOTTLE DRESSING DARK BLUE</td><td>12.97</td><td>52</td></tr><tr><td>72024U</td><td>LILAC VOTIVE CANDLE</td><td>15.120000000000001</td><td>72</td></tr><tr><td>35607B</td><td>BLACK FEATHER CHRISTMAS DECORATION</td><td>18.24</td><td>96</td></tr><tr><td>79062D</td><td>RETRO TIN ASHTRAY,REVOLUTIONARY</td><td>19.4</td><td>52</td></tr><tr><td>37487B</td><td>YELLOW/ORANGE FLOWER DESIGN PLATE</td><td>19.72</td><td>68</td></tr><tr><td>17001</td><td>HEAVENS SCENT FRAGRANCE OILS ASSTD</td><td>20.88</td><td>72</td></tr><tr><td>90214Y</td><td>\"LETTER \"\"Y\"\" BLING KEY RING\"</td><td>22.84</td><td>66</td></tr><tr><td>84993B</td><td>75 BLACK PETIT FOUR CASES</td><td>24.36</td><td>58</td></tr><tr><td>44235</td><td>ASSORTED COLOURED CIRCLE MOBILE </td><td>27.299999999999997</td><td>65</td></tr></tbody></table></div>"
      ]
     },
     "metadata": {
      "application/vnd.databricks.v1+output": {
       "addedWidgets": {},
       "aggData": [],
       "aggError": "",
       "aggOverflow": false,
       "aggSchema": [],
       "aggSeriesLimitReached": false,
       "aggType": "",
       "arguments": {},
       "columnCustomDisplayInfos": {},
       "data": [
        [
         "16043",
         "POP ART PUSH DOWN RUBBER ",
         11.760000000000002,
         98
        ],
        [
         "47013C",
         "WINE BOTTLE DRESSING DARK BLUE",
         12.97,
         52
        ],
        [
         "72024U",
         "LILAC VOTIVE CANDLE",
         15.120000000000001,
         72
        ],
        [
         "35607B",
         "BLACK FEATHER CHRISTMAS DECORATION",
         18.24,
         96
        ],
        [
         "79062D",
         "RETRO TIN ASHTRAY,REVOLUTIONARY",
         19.4,
         52
        ],
        [
         "37487B",
         "YELLOW/ORANGE FLOWER DESIGN PLATE",
         19.72,
         68
        ],
        [
         "17001",
         "HEAVENS SCENT FRAGRANCE OILS ASSTD",
         20.88,
         72
        ],
        [
         "90214Y",
         "\"LETTER \"\"Y\"\" BLING KEY RING\"",
         22.84,
         66
        ],
        [
         "84993B",
         "75 BLACK PETIT FOUR CASES",
         24.36,
         58
        ],
        [
         "44235",
         "ASSORTED COLOURED CIRCLE MOBILE ",
         27.299999999999997,
         65
        ]
       ],
       "datasetInfos": [],
       "dbfsResultPath": null,
       "isJsonSchema": true,
       "metadata": {
        "dataframeName": "_sqldf",
        "executionCount": 5
       },
       "overflow": false,
       "plotOptions": {
        "customPlotOptions": {},
        "displayType": "table",
        "pivotAggregation": null,
        "pivotColumns": null,
        "xColumns": null,
        "yColumns": null
       },
       "removedWidgets": [],
       "schema": [
        {
         "metadata": "{}",
         "name": "StockCode",
         "type": "\"string\""
        },
        {
         "metadata": "{}",
         "name": "Description",
         "type": "\"string\""
        },
        {
         "metadata": "{}",
         "name": "TotalRevenue",
         "type": "\"double\""
        },
        {
         "metadata": "{}",
         "name": "Total_Number_items_sold",
         "type": "\"long\""
        }
       ],
       "type": "table"
      }
     },
     "output_type": "display_data"
    },
    {
     "output_type": "display_data",
     "data": {
      "text/plain": [
       "Databricks visualization. Run in Databricks to view."
      ]
     },
     "metadata": {
      "application/vnd.databricks.v1.subcommand+json": {
       "baseErrorDetails": null,
       "bindings": {},
       "collapsed": false,
       "command": "%sql WITH q AS (SELECT StockCode, Description, TotalRevenue, TotalNoOfTimesOrdered\nFROM online_retail.top_products\nWHERE TotalNoOfTimesOrdered > 50\nORDER BY TotalRevenue ASC\nLIMIT 10) SELECT `TotalRevenue`,`TotalNoOfTimesOrdered` FROM q",
       "commandTitle": "Visualization 1",
       "commandType": "auto",
       "commandVersion": 0,
       "commentThread": [],
       "commentsVisible": false,
       "contentSha256Hex": null,
       "customPlotOptions": {
        "redashChart": [
         {
          "key": "type",
          "value": "CHART"
         },
         {
          "key": "options",
          "value": {
           "alignYAxesAtZero": true,
           "coefficient": 1,
           "columnConfigurationMap": {
            "x": {
             "column": "TotalRevenue",
             "id": "column_e1277bd2371"
            },
            "y": [
             {
              "column": "Total_Number_items_sold",
              "id": "column_41f29183291"
             }
            ]
           },
           "dateTimeFormat": "DD/MM/YYYY HH:mm",
           "direction": {
            "type": "counterclockwise"
           },
           "error_y": {
            "type": "data",
            "visible": true
           },
           "globalSeriesType": "scatter",
           "legend": {
            "traceorder": "normal"
           },
           "missingValuesAsZero": true,
           "numberFormat": "0,0.[00000]",
           "percentFormat": "0[.]00%",
           "series": {
            "error_y": {
             "type": "data",
             "visible": true
            },
            "stacking": null
           },
           "seriesOptions": {
            "TotalNoOfTimesOrdered": {
             "type": "scatter",
             "yAxis": 0
            },
            "Total_Number_items_sold": {
             "type": "scatter",
             "yAxis": 0
            }
           },
           "showDataLabels": false,
           "sizemode": "diameter",
           "sortX": true,
           "sortY": true,
           "swappedAxes": false,
           "textFormat": "",
           "useAggregationsUi": true,
           "valuesOptions": {},
           "version": 2,
           "xAxis": {
            "labels": {
             "enabled": true
            },
            "type": "-"
           },
           "yAxis": [
            {
             "type": "-"
            },
            {
             "opposite": true,
             "type": "-"
            }
           ]
          }
         }
        ]
       },
       "datasetPreviewNameToCmdIdMap": {},
       "diffDeletes": [],
       "diffInserts": [],
       "displayType": "redashChart",
       "error": null,
       "errorDetails": null,
       "errorSummary": null,
       "errorTraceType": null,
       "finishTime": 0,
       "globalVars": {},
       "guid": "",
       "height": "auto",
       "hideCommandCode": false,
       "hideCommandResult": false,
       "iPythonMetadata": null,
       "inputWidgets": {},
       "isLockedInExamMode": false,
       "latestUser": "a user",
       "latestUserId": null,
       "listResultMetadata": null,
       "metadata": {
        "byteLimit": 2048000,
        "implicitDf": true,
        "rowLimit": 10000
       },
       "nuid": "945006be-c296-4bb2-8be1-2e206f8de5dc",
       "origId": 0,
       "parentHierarchy": [],
       "pivotAggregation": null,
       "pivotColumns": null,
       "position": 10.0,
       "resultDbfsErrorMessage": null,
       "resultDbfsStatus": "INLINED_IN_TREE",
       "results": null,
       "showCommandTitle": false,
       "startTime": 0,
       "state": "input",
       "streamStates": {},
       "subcommandOptions": {
        "queryPlan": {
         "selects": [
          {
           "column": "TotalRevenue",
           "type": "column"
          },
          {
           "column": "Total_Number_items_sold",
           "type": "column"
          }
         ]
        }
       },
       "submitTime": 0,
       "subtype": "tableResultSubCmd.visualization",
       "tableResultIndex": 0,
       "tableResultSettingsMap": {},
       "useConsistentColors": false,
       "version": "CommandV1",
       "width": "auto",
       "workflows": [],
       "xColumns": null,
       "yColumns": null
      }
     },
     "output_type": "display_data"
    }
   ],
   "source": [
    "%sql\n",
    "SELECT StockCode, Description, TotalRevenue, Total_Number_items_sold\n",
    "FROM online_retail.top_products_by_revenue\n",
    "WHERE Total_Number_items_sold > 50\n",
    "ORDER BY TotalRevenue ASC\n",
    "LIMIT 10;\n"
   ]
  }
 ],
 "metadata": {
  "application/vnd.databricks.v1+notebook": {
   "computePreferences": null,
   "dashboards": [],
   "environmentMetadata": {
    "base_environment": "",
    "environment_version": "3"
   },
   "inputWidgetPreferences": null,
   "language": "python",
   "notebookMetadata": {
    "mostRecentlyExecutedCommandWithImplicitDF": {
     "commandId": 8747804698994615,
     "dataframes": [
      "_sqldf"
     ]
    },
    "pythonIndentUnit": 4
   },
   "notebookName": "Product_Performance_Analysis",
   "widgets": {}
  },
  "language_info": {
   "name": "python"
  }
 },
 "nbformat": 4,
 "nbformat_minor": 0
}
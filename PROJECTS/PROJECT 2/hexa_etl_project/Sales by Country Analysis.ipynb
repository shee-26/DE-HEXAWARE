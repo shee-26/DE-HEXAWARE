{
 "cells": [
  {
   "cell_type": "markdown",
   "metadata": {
    "application/vnd.databricks.v1+cell": {
     "cellMetadata": {},
     "inputWidgets": {},
     "nuid": "5bbf906b-36b1-4d5c-9341-1c4283c7756f",
     "showTitle": false,
     "tableResultSettingsMap": {},
     "title": ""
    }
   },
   "source": [
    "### Top 10 countries by revenue"
   ]
  },
  {
   "cell_type": "code",
   "execution_count": 0,
   "metadata": {
    "application/vnd.databricks.v1+cell": {
     "cellMetadata": {
      "byteLimit": 2048000,
      "implicitDf": true,
      "rowLimit": 10000
     },
     "inputWidgets": {},
     "nuid": "c58daf4a-f194-496f-9419-f64c49e991a7",
     "showTitle": false,
     "tableResultSettingsMap": {},
     "title": ""
    }
   },
   "outputs": [
    {
     "output_type": "display_data",
     "data": {
      "text/html": [
       "<style scoped>\n",
       "  .table-result-container {\n",
       "    max-height: 300px;\n",
       "    overflow: auto;\n",
       "  }\n",
       "  table, th, td {\n",
       "    border: 1px solid black;\n",
       "    border-collapse: collapse;\n",
       "  }\n",
       "  th, td {\n",
       "    padding: 5px;\n",
       "  }\n",
       "  th {\n",
       "    text-align: left;\n",
       "  }\n",
       "</style><div class='table-result-container'><table class='table-result'><thead style='background-color: white'><tr><th>Country</th><th>TotalRevenue</th></tr></thead><tbody><tr><td>United Kingdom</td><td>9025222.079998199</td></tr><tr><td>Netherlands</td><td>285446.3399999997</td></tr><tr><td>EIRE</td><td>283453.9599999995</td></tr><tr><td>Germany</td><td>228867.14000000065</td></tr><tr><td>France</td><td>209715.10999999993</td></tr><tr><td>Australia</td><td>138521.30999999994</td></tr><tr><td>Spain</td><td>61577.11000000006</td></tr><tr><td>Switzerland</td><td>57089.90000000009</td></tr><tr><td>Belgium</td><td>41196.33999999999</td></tr><tr><td>Sweden</td><td>38378.329999999994</td></tr></tbody></table></div>"
      ]
     },
     "metadata": {
      "application/vnd.databricks.v1+output": {
       "addedWidgets": {},
       "aggData": [],
       "aggError": "",
       "aggOverflow": false,
       "aggSchema": [],
       "aggSeriesLimitReached": false,
       "aggType": "",
       "arguments": {},
       "columnCustomDisplayInfos": {},
       "data": [
        [
         "United Kingdom",
         9025222.079998199
        ],
        [
         "Netherlands",
         285446.3399999997
        ],
        [
         "EIRE",
         283453.9599999995
        ],
        [
         "Germany",
         228867.14000000065
        ],
        [
         "France",
         209715.10999999993
        ],
        [
         "Australia",
         138521.30999999994
        ],
        [
         "Spain",
         61577.11000000006
        ],
        [
         "Switzerland",
         57089.90000000009
        ],
        [
         "Belgium",
         41196.33999999999
        ],
        [
         "Sweden",
         38378.329999999994
        ]
       ],
       "datasetInfos": [],
       "dbfsResultPath": null,
       "isJsonSchema": true,
       "metadata": {
        "dataframeName": "_sqldf",
        "executionCount": 1
       },
       "overflow": false,
       "plotOptions": {
        "customPlotOptions": {},
        "displayType": "table",
        "pivotAggregation": null,
        "pivotColumns": null,
        "xColumns": null,
        "yColumns": null
       },
       "removedWidgets": [],
       "schema": [
        {
         "metadata": "{}",
         "name": "Country",
         "type": "\"string\""
        },
        {
         "metadata": "{}",
         "name": "TotalRevenue",
         "type": "\"double\""
        }
       ],
       "type": "table"
      }
     },
     "output_type": "display_data"
    },
    {
     "output_type": "display_data",
     "data": {
      "text/plain": [
       "Databricks visualization. Run in Databricks to view."
      ]
     },
     "metadata": {
      "application/vnd.databricks.v1.subcommand+json": {
       "baseErrorDetails": null,
       "bindings": {},
       "collapsed": false,
       "command": "%sql WITH q AS (SELECT Country, TotalRevenue\nFROM online_retail.sales_by_country\nORDER BY TotalRevenue DESC\nLIMIT 10) SELECT `Country`,SUM(`TotalRevenue`) `column_e1277bd2260` FROM q GROUP BY `Country`",
       "commandTitle": "Visualization 1",
       "commandType": "auto",
       "commandVersion": 0,
       "commentThread": [],
       "commentsVisible": false,
       "contentSha256Hex": null,
       "customPlotOptions": {
        "redashChart": [
         {
          "key": "type",
          "value": "CHART"
         },
         {
          "key": "options",
          "value": {
           "alignYAxesAtZero": true,
           "coefficient": 1,
           "columnConfigurationMap": {
            "x": {
             "column": "Country",
             "id": "column_e1277bd2259"
            },
            "y": [
             {
              "column": "TotalRevenue",
              "id": "column_e1277bd2260",
              "transform": "SUM"
             }
            ]
           },
           "dateTimeFormat": "DD/MM/YYYY HH:mm",
           "direction": {
            "type": "counterclockwise"
           },
           "error_y": {
            "type": "data",
            "visible": true
           },
           "globalSeriesType": "column",
           "legend": {
            "traceorder": "normal"
           },
           "missingValuesAsZero": true,
           "numberFormat": "0,0.[00000]",
           "percentFormat": "0[.]00%",
           "series": {
            "error_y": {
             "type": "data",
             "visible": true
            },
            "stacking": null
           },
           "seriesOptions": {
            "column_e1277bd2260": {
             "name": "TotalRevenue",
             "yAxis": 0
            }
           },
           "showDataLabels": false,
           "sizemode": "diameter",
           "sortX": true,
           "sortY": true,
           "swappedAxes": true,
           "textFormat": "",
           "useAggregationsUi": true,
           "valuesOptions": {},
           "version": 2,
           "xAxis": {
            "labels": {
             "enabled": true
            },
            "type": "-"
           },
           "yAxis": [
            {
             "type": "-"
            },
            {
             "opposite": true,
             "type": "-"
            }
           ]
          }
         }
        ]
       },
       "datasetPreviewNameToCmdIdMap": {},
       "diffDeletes": [],
       "diffInserts": [],
       "displayType": "redashChart",
       "error": null,
       "errorDetails": null,
       "errorSummary": null,
       "errorTraceType": null,
       "finishTime": 0,
       "globalVars": {},
       "guid": "",
       "height": "auto",
       "hideCommandCode": false,
       "hideCommandResult": false,
       "iPythonMetadata": null,
       "inputWidgets": {},
       "isLockedInExamMode": false,
       "latestUser": "a user",
       "latestUserId": null,
       "listResultMetadata": null,
       "metadata": {},
       "nuid": "81ac5126-8e48-406d-b80e-67ee070b8ffa",
       "origId": 0,
       "parentHierarchy": [],
       "pivotAggregation": null,
       "pivotColumns": null,
       "position": 2.0,
       "resultDbfsErrorMessage": null,
       "resultDbfsStatus": "INLINED_IN_TREE",
       "results": null,
       "showCommandTitle": false,
       "startTime": 0,
       "state": "input",
       "streamStates": {},
       "subcommandOptions": {
        "queryPlan": {
         "groups": [
          {
           "column": "Country",
           "type": "column"
          }
         ],
         "selects": [
          {
           "column": "Country",
           "type": "column"
          },
          {
           "alias": "column_e1277bd2260",
           "args": [
            {
             "column": "TotalRevenue",
             "type": "column"
            }
           ],
           "function": "SUM",
           "type": "function"
          }
         ]
        }
       },
       "submitTime": 0,
       "subtype": "tableResultSubCmd.visualization",
       "tableResultIndex": 0,
       "tableResultSettingsMap": {},
       "useConsistentColors": false,
       "version": "CommandV1",
       "width": "auto",
       "workflows": [],
       "xColumns": null,
       "yColumns": null
      }
     },
     "output_type": "display_data"
    }
   ],
   "source": [
    "%sql\n",
    "SELECT Country, TotalRevenue\n",
    "FROM online_retail.sales_by_country\n",
    "ORDER BY TotalRevenue DESC\n",
    "LIMIT 10;"
   ]
  },
  {
   "cell_type": "markdown",
   "metadata": {
    "application/vnd.databricks.v1+cell": {
     "cellMetadata": {},
     "inputWidgets": {},
     "nuid": "aa906410-cfda-4736-aad4-1bef8642294f",
     "showTitle": false,
     "tableResultSettingsMap": {},
     "title": ""
    }
   },
   "source": [
    "### Which countries have the highest revenue per customer"
   ]
  },
  {
   "cell_type": "code",
   "execution_count": 0,
   "metadata": {
    "application/vnd.databricks.v1+cell": {
     "cellMetadata": {
      "byteLimit": 2048000,
      "implicitDf": true,
      "rowLimit": 10000
     },
     "inputWidgets": {},
     "nuid": "4089320d-45ea-419c-a51f-77ebe256c882",
     "showTitle": false,
     "tableResultSettingsMap": {},
     "title": ""
    }
   },
   "outputs": [
    {
     "output_type": "display_data",
     "data": {
      "text/html": [
       "<style scoped>\n",
       "  .table-result-container {\n",
       "    max-height: 300px;\n",
       "    overflow: auto;\n",
       "  }\n",
       "  table, th, td {\n",
       "    border: 1px solid black;\n",
       "    border-collapse: collapse;\n",
       "  }\n",
       "  th, td {\n",
       "    padding: 5px;\n",
       "  }\n",
       "  th {\n",
       "    text-align: left;\n",
       "  }\n",
       "</style><div class='table-result-container'><table class='table-result'><thead style='background-color: white'><tr><th>Country</th><th>RevenuePerCustomer</th></tr></thead><tbody><tr><td>EIRE</td><td>70863.48999999987</td></tr><tr><td>Netherlands</td><td>31716.259999999966</td></tr><tr><td>Singapore</td><td>21279.29</td></tr><tr><td>Hong Kong</td><td>15691.799999999994</td></tr><tr><td>Australia</td><td>15391.25666666666</td></tr><tr><td>Sweden</td><td>4797.291249999999</td></tr><tr><td>Japan</td><td>4677.04625</td></tr><tr><td>Iceland</td><td>4310.0</td></tr><tr><td>Norway</td><td>3616.5439999999994</td></tr><tr><td>Switzerland</td><td>2594.9954545454584</td></tr></tbody></table></div>"
      ]
     },
     "metadata": {
      "application/vnd.databricks.v1+output": {
       "addedWidgets": {},
       "aggData": [],
       "aggError": "",
       "aggOverflow": false,
       "aggSchema": [],
       "aggSeriesLimitReached": false,
       "aggType": "",
       "arguments": {},
       "columnCustomDisplayInfos": {},
       "data": [
        [
         "EIRE",
         70863.48999999987
        ],
        [
         "Netherlands",
         31716.259999999966
        ],
        [
         "Singapore",
         21279.29
        ],
        [
         "Hong Kong",
         15691.799999999994
        ],
        [
         "Australia",
         15391.25666666666
        ],
        [
         "Sweden",
         4797.291249999999
        ],
        [
         "Japan",
         4677.04625
        ],
        [
         "Iceland",
         4310.0
        ],
        [
         "Norway",
         3616.5439999999994
        ],
        [
         "Switzerland",
         2594.9954545454584
        ]
       ],
       "datasetInfos": [],
       "dbfsResultPath": null,
       "isJsonSchema": true,
       "metadata": {
        "dataframeName": "_sqldf",
        "executionCount": 2
       },
       "overflow": false,
       "plotOptions": {
        "customPlotOptions": {},
        "displayType": "table",
        "pivotAggregation": null,
        "pivotColumns": null,
        "xColumns": null,
        "yColumns": null
       },
       "removedWidgets": [],
       "schema": [
        {
         "metadata": "{}",
         "name": "Country",
         "type": "\"string\""
        },
        {
         "metadata": "{}",
         "name": "RevenuePerCustomer",
         "type": "\"double\""
        }
       ],
       "type": "table"
      }
     },
     "output_type": "display_data"
    },
    {
     "output_type": "display_data",
     "data": {
      "text/plain": [
       "Databricks visualization. Run in Databricks to view."
      ]
     },
     "metadata": {
      "application/vnd.databricks.v1.subcommand+json": {
       "baseErrorDetails": null,
       "bindings": {},
       "collapsed": false,
       "command": "%sql WITH q AS (SELECT Country, \n       (TotalRevenue / UniqueCustomers) AS RevenuePerCustomer\nFROM online_retail.sales_by_country\nORDER BY RevenuePerCustomer DESC\nLIMIT 10) SELECT `Country`,SUM(`RevenuePerCustomer`) `column_e1277bd2281` FROM q GROUP BY `Country`",
       "commandTitle": "Visualization 1",
       "commandType": "auto",
       "commandVersion": 0,
       "commentThread": [],
       "commentsVisible": false,
       "contentSha256Hex": null,
       "customPlotOptions": {
        "redashChart": [
         {
          "key": "type",
          "value": "CHART"
         },
         {
          "key": "options",
          "value": {
           "alignYAxesAtZero": true,
           "coefficient": 1,
           "columnConfigurationMap": {
            "x": {
             "column": "Country",
             "id": "column_e1277bd2280"
            },
            "y": [
             {
              "column": "RevenuePerCustomer",
              "id": "column_e1277bd2281",
              "transform": "SUM"
             }
            ]
           },
           "dateTimeFormat": "DD/MM/YYYY HH:mm",
           "direction": {
            "type": "counterclockwise"
           },
           "error_y": {
            "type": "data",
            "visible": true
           },
           "globalSeriesType": "column",
           "legend": {
            "traceorder": "normal"
           },
           "missingValuesAsZero": true,
           "numberFormat": "0,0.[00000]",
           "percentFormat": "0[.]00%",
           "series": {
            "error_y": {
             "type": "data",
             "visible": true
            },
            "stacking": null
           },
           "seriesOptions": {
            "column_e1277bd2281": {
             "name": "RevenuePerCustomer",
             "yAxis": 0
            }
           },
           "showDataLabels": false,
           "sizemode": "diameter",
           "sortX": true,
           "sortY": true,
           "swappedAxes": true,
           "textFormat": "",
           "useAggregationsUi": true,
           "valuesOptions": {},
           "version": 2,
           "xAxis": {
            "labels": {
             "enabled": true
            },
            "type": "-"
           },
           "yAxis": [
            {
             "type": "-"
            },
            {
             "opposite": true,
             "type": "-"
            }
           ]
          }
         }
        ]
       },
       "datasetPreviewNameToCmdIdMap": {},
       "diffDeletes": [],
       "diffInserts": [],
       "displayType": "redashChart",
       "error": null,
       "errorDetails": null,
       "errorSummary": null,
       "errorTraceType": null,
       "finishTime": 0,
       "globalVars": {},
       "guid": "",
       "height": "auto",
       "hideCommandCode": false,
       "hideCommandResult": false,
       "iPythonMetadata": null,
       "inputWidgets": {},
       "isLockedInExamMode": false,
       "latestUser": "a user",
       "latestUserId": null,
       "listResultMetadata": null,
       "metadata": {},
       "nuid": "7e5bbdbd-0fb0-4434-9946-400acdf22aab",
       "origId": 0,
       "parentHierarchy": [],
       "pivotAggregation": null,
       "pivotColumns": null,
       "position": 4.0,
       "resultDbfsErrorMessage": null,
       "resultDbfsStatus": "INLINED_IN_TREE",
       "results": null,
       "showCommandTitle": false,
       "startTime": 0,
       "state": "input",
       "streamStates": {},
       "subcommandOptions": {
        "queryPlan": {
         "groups": [
          {
           "column": "Country",
           "type": "column"
          }
         ],
         "selects": [
          {
           "column": "Country",
           "type": "column"
          },
          {
           "alias": "column_e1277bd2281",
           "args": [
            {
             "column": "RevenuePerCustomer",
             "type": "column"
            }
           ],
           "function": "SUM",
           "type": "function"
          }
         ]
        }
       },
       "submitTime": 0,
       "subtype": "tableResultSubCmd.visualization",
       "tableResultIndex": 0,
       "tableResultSettingsMap": {},
       "useConsistentColors": false,
       "version": "CommandV1",
       "width": "auto",
       "workflows": [],
       "xColumns": null,
       "yColumns": null
      }
     },
     "output_type": "display_data"
    }
   ],
   "source": [
    "%sql\n",
    "SELECT Country, \n",
    "       (TotalRevenue / UniqueCustomers) AS RevenuePerCustomer\n",
    "FROM online_retail.sales_by_country\n",
    "ORDER BY RevenuePerCustomer DESC\n",
    "LIMIT 10;"
   ]
  },
  {
   "cell_type": "markdown",
   "metadata": {
    "application/vnd.databricks.v1+cell": {
     "cellMetadata": {},
     "inputWidgets": {},
     "nuid": "409c44e5-54ff-419a-bf7b-13587a889889",
     "showTitle": false,
     "tableResultSettingsMap": {},
     "title": ""
    }
   },
   "source": [
    "### What is the average order size per country"
   ]
  },
  {
   "cell_type": "code",
   "execution_count": 0,
   "metadata": {
    "application/vnd.databricks.v1+cell": {
     "cellMetadata": {
      "byteLimit": 2048000,
      "implicitDf": true,
      "rowLimit": 10000
     },
     "inputWidgets": {},
     "nuid": "d29fe51e-61c5-4649-abfe-7c0bc7279e18",
     "showTitle": false,
     "tableResultSettingsMap": {},
     "title": ""
    }
   },
   "outputs": [
    {
     "output_type": "display_data",
     "data": {
      "text/html": [
       "<style scoped>\n",
       "  .table-result-container {\n",
       "    max-height: 300px;\n",
       "    overflow: auto;\n",
       "  }\n",
       "  table, th, td {\n",
       "    border: 1px solid black;\n",
       "    border-collapse: collapse;\n",
       "  }\n",
       "  th, td {\n",
       "    padding: 5px;\n",
       "  }\n",
       "  th {\n",
       "    text-align: left;\n",
       "  }\n",
       "</style><div class='table-result-container'><table class='table-result'><thead style='background-color: white'><tr><th>Country</th><th>AvgOrderValue</th></tr></thead><tbody><tr><td>Singapore</td><td>3039.8985714285714</td></tr><tr><td>Netherlands</td><td>3036.6631914893583</td></tr><tr><td>Australia</td><td>2430.1984210526307</td></tr><tr><td>Japan</td><td>1969.2826315789475</td></tr><tr><td>Lebanon</td><td>1693.8800000000003</td></tr><tr><td>Hong Kong</td><td>1426.5272727272722</td></tr><tr><td>Brazil</td><td>1143.6000000000001</td></tr><tr><td>Sweden</td><td>1066.0647222222221</td></tr><tr><td>Switzerland</td><td>1057.220370370372</td></tr><tr><td>Denmark</td><td>1053.0744444444442</td></tr><tr><td>Israel</td><td>1016.9075</td></tr><tr><td>Norway</td><td>1004.5955555555554</td></tr><tr><td>RSA</td><td>1002.3099999999998</td></tr><tr><td>EIRE</td><td>984.2151388888872</td></tr><tr><td>Greece</td><td>952.104</td></tr><tr><td>Cyprus</td><td>849.3987499999996</td></tr><tr><td>Channel Islands</td><td>786.5553846153847</td></tr><tr><td>USA</td><td>716.078</td></tr><tr><td>Spain</td><td>684.1901111111117</td></tr><tr><td>United Arab Emirates</td><td>634.0933333333334</td></tr><tr><td>Iceland</td><td>615.7142857142857</td></tr><tr><td>Canada</td><td>611.0633333333335</td></tr><tr><td>Austria</td><td>599.9223529411767</td></tr><tr><td>Portugal</td><td>581.8465517241375</td></tr><tr><td>Finland</td><td>549.9043902439024</td></tr><tr><td>Malta</td><td>545.118</td></tr><tr><td>France</td><td>534.9875255102039</td></tr><tr><td>United Kingdom</td><td>500.8725278871302</td></tr><tr><td>Germany</td><td>500.80336980306487</td></tr><tr><td>Italy</td><td>460.0852631578946</td></tr><tr><td>Belgium</td><td>420.37081632653053</td></tr><tr><td>Lithuania</td><td>415.265</td></tr><tr><td>Czech Republic</td><td>413.37</td></tr><tr><td>Poland</td><td>386.03421052631586</td></tr><tr><td>Unspecified</td><td>365.36846153846125</td></tr><tr><td>European Community</td><td>325.06250000000006</td></tr><tr><td>Bahrain</td><td>251.38</td></tr><tr><td>Saudi Arabia</td><td>145.92</td></tr></tbody></table></div>"
      ]
     },
     "metadata": {
      "application/vnd.databricks.v1+output": {
       "addedWidgets": {},
       "aggData": [],
       "aggError": "",
       "aggOverflow": false,
       "aggSchema": [],
       "aggSeriesLimitReached": false,
       "aggType": "",
       "arguments": {},
       "columnCustomDisplayInfos": {},
       "data": [
        [
         "Singapore",
         3039.8985714285714
        ],
        [
         "Netherlands",
         3036.6631914893583
        ],
        [
         "Australia",
         2430.1984210526307
        ],
        [
         "Japan",
         1969.2826315789475
        ],
        [
         "Lebanon",
         1693.8800000000003
        ],
        [
         "Hong Kong",
         1426.5272727272722
        ],
        [
         "Brazil",
         1143.6000000000001
        ],
        [
         "Sweden",
         1066.0647222222221
        ],
        [
         "Switzerland",
         1057.220370370372
        ],
        [
         "Denmark",
         1053.0744444444442
        ],
        [
         "Israel",
         1016.9075
        ],
        [
         "Norway",
         1004.5955555555554
        ],
        [
         "RSA",
         1002.3099999999998
        ],
        [
         "EIRE",
         984.2151388888872
        ],
        [
         "Greece",
         952.104
        ],
        [
         "Cyprus",
         849.3987499999996
        ],
        [
         "Channel Islands",
         786.5553846153847
        ],
        [
         "USA",
         716.078
        ],
        [
         "Spain",
         684.1901111111117
        ],
        [
         "United Arab Emirates",
         634.0933333333334
        ],
        [
         "Iceland",
         615.7142857142857
        ],
        [
         "Canada",
         611.0633333333335
        ],
        [
         "Austria",
         599.9223529411767
        ],
        [
         "Portugal",
         581.8465517241375
        ],
        [
         "Finland",
         549.9043902439024
        ],
        [
         "Malta",
         545.118
        ],
        [
         "France",
         534.9875255102039
        ],
        [
         "United Kingdom",
         500.8725278871302
        ],
        [
         "Germany",
         500.80336980306487
        ],
        [
         "Italy",
         460.0852631578946
        ],
        [
         "Belgium",
         420.37081632653053
        ],
        [
         "Lithuania",
         415.265
        ],
        [
         "Czech Republic",
         413.37
        ],
        [
         "Poland",
         386.03421052631586
        ],
        [
         "Unspecified",
         365.36846153846125
        ],
        [
         "European Community",
         325.06250000000006
        ],
        [
         "Bahrain",
         251.38
        ],
        [
         "Saudi Arabia",
         145.92
        ]
       ],
       "datasetInfos": [],
       "dbfsResultPath": null,
       "isJsonSchema": true,
       "metadata": {
        "dataframeName": "_sqldf",
        "executionCount": 3
       },
       "overflow": false,
       "plotOptions": {
        "customPlotOptions": {},
        "displayType": "table",
        "pivotAggregation": null,
        "pivotColumns": null,
        "xColumns": null,
        "yColumns": null
       },
       "removedWidgets": [],
       "schema": [
        {
         "metadata": "{}",
         "name": "Country",
         "type": "\"string\""
        },
        {
         "metadata": "{}",
         "name": "AvgOrderValue",
         "type": "\"double\""
        }
       ],
       "type": "table"
      }
     },
     "output_type": "display_data"
    },
    {
     "output_type": "display_data",
     "data": {
      "text/plain": [
       "Databricks visualization. Run in Databricks to view."
      ]
     },
     "metadata": {
      "application/vnd.databricks.v1.subcommand+json": {
       "baseErrorDetails": null,
       "bindings": {},
       "collapsed": false,
       "command": "%sql WITH q AS (SELECT Country, \n       (TotalRevenue / NumberOfOrders) AS AvgOrderValue\nFROM online_retail.sales_by_country\nORDER BY AvgOrderValue DESC) SELECT `Country`,SUM(`AvgOrderValue`) `column_e1277bd2290` FROM q GROUP BY `Country`",
       "commandTitle": "Visualization 1",
       "commandType": "auto",
       "commandVersion": 0,
       "commentThread": [],
       "commentsVisible": false,
       "contentSha256Hex": null,
       "customPlotOptions": {
        "redashChart": [
         {
          "key": "type",
          "value": "CHART"
         },
         {
          "key": "options",
          "value": {
           "alignYAxesAtZero": true,
           "coefficient": 1,
           "columnConfigurationMap": {
            "x": {
             "column": "Country",
             "id": "column_e1277bd2289"
            },
            "y": [
             {
              "column": "AvgOrderValue",
              "id": "column_e1277bd2290",
              "transform": "SUM"
             }
            ]
           },
           "dateTimeFormat": "DD/MM/YYYY HH:mm",
           "direction": {
            "type": "counterclockwise"
           },
           "error_y": {
            "type": "data",
            "visible": true
           },
           "globalSeriesType": "combo",
           "isAggregationOn": true,
           "legend": {
            "traceorder": "normal"
           },
           "missingValuesAsZero": true,
           "numberFormat": "0,0.[00000]",
           "percentFormat": "0[.]00%",
           "series": {
            "error_y": {
             "type": "data",
             "visible": true
            },
            "stacking": null
           },
           "seriesOptions": {
            "AvgOrderValue": {
             "name": "AvgOrderValue",
             "type": "line",
             "yAxis": 0
            },
            "column_e1277bd2290": {
             "color": "#FCA4A1",
             "name": "AvgOrderValue",
             "type": "column",
             "yAxis": 0
            }
           },
           "showDataLabels": false,
           "sizemode": "diameter",
           "sortX": true,
           "sortY": true,
           "swappedAxes": false,
           "textFormat": "",
           "useAggregationsUi": true,
           "valuesOptions": {},
           "version": 2,
           "xAxis": {
            "labels": {
             "enabled": true
            },
            "type": "-"
           },
           "yAxis": [
            {
             "type": "-"
            },
            {
             "opposite": true,
             "type": "-"
            }
           ]
          }
         }
        ]
       },
       "datasetPreviewNameToCmdIdMap": {},
       "diffDeletes": [],
       "diffInserts": [],
       "displayType": "redashChart",
       "error": null,
       "errorDetails": null,
       "errorSummary": null,
       "errorTraceType": null,
       "finishTime": 0,
       "globalVars": {},
       "guid": "",
       "height": "auto",
       "hideCommandCode": false,
       "hideCommandResult": false,
       "iPythonMetadata": null,
       "inputWidgets": {},
       "isLockedInExamMode": false,
       "latestUser": "a user",
       "latestUserId": null,
       "listResultMetadata": null,
       "metadata": {},
       "nuid": "0e4bb026-887a-4d67-95ca-f0c844d93880",
       "origId": 0,
       "parentHierarchy": [],
       "pivotAggregation": null,
       "pivotColumns": null,
       "position": 6.0,
       "resultDbfsErrorMessage": null,
       "resultDbfsStatus": "INLINED_IN_TREE",
       "results": null,
       "showCommandTitle": false,
       "startTime": 0,
       "state": "input",
       "streamStates": {},
       "subcommandOptions": {
        "queryPlan": {
         "groups": [
          {
           "column": "Country",
           "type": "column"
          }
         ],
         "selects": [
          {
           "column": "Country",
           "type": "column"
          },
          {
           "alias": "column_e1277bd2290",
           "args": [
            {
             "column": "AvgOrderValue",
             "type": "column"
            }
           ],
           "function": "SUM",
           "type": "function"
          }
         ]
        }
       },
       "submitTime": 0,
       "subtype": "tableResultSubCmd.visualization",
       "tableResultIndex": 0,
       "tableResultSettingsMap": {},
       "useConsistentColors": false,
       "version": "CommandV1",
       "width": "auto",
       "workflows": [],
       "xColumns": null,
       "yColumns": null
      }
     },
     "output_type": "display_data"
    }
   ],
   "source": [
    "%sql\n",
    "SELECT Country, \n",
    "       (TotalRevenue / NumberOfOrders) AS AvgOrderValue\n",
    "FROM online_retail.sales_by_country\n",
    "ORDER BY AvgOrderValue DESC;"
   ]
  },
  {
   "cell_type": "markdown",
   "metadata": {
    "application/vnd.databricks.v1+cell": {
     "cellMetadata": {},
     "inputWidgets": {},
     "nuid": "88ebc38f-062d-4fff-9f9d-47e0481f4232",
     "showTitle": false,
     "tableResultSettingsMap": {},
     "title": ""
    }
   },
   "source": [
    "### Which countries contribute the most unique customers?"
   ]
  },
  {
   "cell_type": "code",
   "execution_count": 0,
   "metadata": {
    "application/vnd.databricks.v1+cell": {
     "cellMetadata": {
      "byteLimit": 2048000,
      "implicitDf": true,
      "rowLimit": 10000
     },
     "inputWidgets": {},
     "nuid": "61170028-aa48-40ab-9862-bf13a13e9349",
     "showTitle": false,
     "tableResultSettingsMap": {},
     "title": ""
    }
   },
   "outputs": [
    {
     "output_type": "display_data",
     "data": {
      "text/html": [
       "<style scoped>\n",
       "  .table-result-container {\n",
       "    max-height: 300px;\n",
       "    overflow: auto;\n",
       "  }\n",
       "  table, th, td {\n",
       "    border: 1px solid black;\n",
       "    border-collapse: collapse;\n",
       "  }\n",
       "  th, td {\n",
       "    padding: 5px;\n",
       "  }\n",
       "  th {\n",
       "    text-align: left;\n",
       "  }\n",
       "</style><div class='table-result-container'><table class='table-result'><thead style='background-color: white'><tr><th>Country</th><th>UniqueCustomers</th></tr></thead><tbody><tr><td>United Kingdom</td><td>3921</td></tr><tr><td>Germany</td><td>94</td></tr><tr><td>France</td><td>88</td></tr><tr><td>Spain</td><td>30</td></tr><tr><td>Belgium</td><td>25</td></tr><tr><td>Switzerland</td><td>22</td></tr><tr><td>Portugal</td><td>20</td></tr><tr><td>Italy</td><td>14</td></tr><tr><td>Finland</td><td>12</td></tr><tr><td>Austria</td><td>11</td></tr></tbody></table></div>"
      ]
     },
     "metadata": {
      "application/vnd.databricks.v1+output": {
       "addedWidgets": {},
       "aggData": [],
       "aggError": "",
       "aggOverflow": false,
       "aggSchema": [],
       "aggSeriesLimitReached": false,
       "aggType": "",
       "arguments": {},
       "columnCustomDisplayInfos": {},
       "data": [
        [
         "United Kingdom",
         3921
        ],
        [
         "Germany",
         94
        ],
        [
         "France",
         88
        ],
        [
         "Spain",
         30
        ],
        [
         "Belgium",
         25
        ],
        [
         "Switzerland",
         22
        ],
        [
         "Portugal",
         20
        ],
        [
         "Italy",
         14
        ],
        [
         "Finland",
         12
        ],
        [
         "Austria",
         11
        ]
       ],
       "datasetInfos": [],
       "dbfsResultPath": null,
       "isJsonSchema": true,
       "metadata": {
        "dataframeName": "_sqldf",
        "executionCount": 4
       },
       "overflow": false,
       "plotOptions": {
        "customPlotOptions": {},
        "displayType": "table",
        "pivotAggregation": null,
        "pivotColumns": null,
        "xColumns": null,
        "yColumns": null
       },
       "removedWidgets": [],
       "schema": [
        {
         "metadata": "{}",
         "name": "Country",
         "type": "\"string\""
        },
        {
         "metadata": "{}",
         "name": "UniqueCustomers",
         "type": "\"long\""
        }
       ],
       "type": "table"
      }
     },
     "output_type": "display_data"
    },
    {
     "output_type": "display_data",
     "data": {
      "text/plain": [
       "Databricks visualization. Run in Databricks to view."
      ]
     },
     "metadata": {
      "application/vnd.databricks.v1.subcommand+json": {
       "baseErrorDetails": null,
       "bindings": {},
       "collapsed": false,
       "command": "%sql WITH q AS (SELECT Country, UniqueCustomers\nFROM online_retail.sales_by_country\nORDER BY UniqueCustomers DESC\nLIMIT 10) SELECT `Country`,SUM(`UniqueCustomers`) `column_e1277bd2311` FROM q GROUP BY `Country`",
       "commandTitle": "Visualization 1",
       "commandType": "auto",
       "commandVersion": 0,
       "commentThread": [],
       "commentsVisible": false,
       "contentSha256Hex": null,
       "customPlotOptions": {
        "redashChart": [
         {
          "key": "type",
          "value": "CHART"
         },
         {
          "key": "options",
          "value": {
           "alignYAxesAtZero": true,
           "coefficient": 1,
           "columnConfigurationMap": {
            "x": {
             "column": "Country",
             "id": "column_e1277bd2309"
            },
            "y": [
             {
              "column": "UniqueCustomers",
              "id": "column_e1277bd2311",
              "transform": "SUM"
             }
            ]
           },
           "dateTimeFormat": "DD/MM/YYYY HH:mm",
           "direction": {
            "type": "counterclockwise"
           },
           "error_y": {
            "type": "data",
            "visible": true
           },
           "globalSeriesType": "column",
           "isAggregationOn": true,
           "legend": {
            "traceorder": "normal"
           },
           "missingValuesAsZero": true,
           "numBins": 10,
           "numberFormat": "0,0.[00000]",
           "percentFormat": "0[.]00%",
           "series": {
            "error_y": {
             "type": "data",
             "visible": true
            },
            "stacking": null
           },
           "seriesOptions": {
            "UniqueCustomers": {
             "type": "column",
             "yAxis": 0
            },
            "column_e1277bd2307": {
             "name": "UniqueCustomers",
             "type": "column",
             "yAxis": 0
            },
            "column_e1277bd2311": {
             "type": "column",
             "yAxis": 0
            }
           },
           "showDataLabels": false,
           "sizemode": "diameter",
           "sortX": true,
           "sortY": true,
           "swappedAxes": true,
           "textFormat": "",
           "useAggregationsUi": true,
           "valuesOptions": {},
           "version": 2,
           "xAxis": {
            "labels": {
             "enabled": true
            },
            "type": "-"
           },
           "yAxis": [
            {
             "type": "-"
            },
            {
             "opposite": true,
             "type": "-"
            }
           ]
          }
         }
        ]
       },
       "datasetPreviewNameToCmdIdMap": {},
       "diffDeletes": [],
       "diffInserts": [],
       "displayType": "redashChart",
       "error": null,
       "errorDetails": null,
       "errorSummary": null,
       "errorTraceType": null,
       "finishTime": 0,
       "globalVars": {},
       "guid": "",
       "height": "auto",
       "hideCommandCode": false,
       "hideCommandResult": false,
       "iPythonMetadata": null,
       "inputWidgets": {},
       "isLockedInExamMode": false,
       "latestUser": "a user",
       "latestUserId": null,
       "listResultMetadata": null,
       "metadata": {},
       "nuid": "7b46fd53-97d6-4b9f-b095-f9ae80089418",
       "origId": 0,
       "parentHierarchy": [],
       "pivotAggregation": null,
       "pivotColumns": null,
       "position": 8.0,
       "resultDbfsErrorMessage": null,
       "resultDbfsStatus": "INLINED_IN_TREE",
       "results": null,
       "showCommandTitle": false,
       "startTime": 0,
       "state": "input",
       "streamStates": {},
       "subcommandOptions": {
        "queryPlan": {
         "groups": [
          {
           "column": "Country",
           "type": "column"
          }
         ],
         "selects": [
          {
           "column": "Country",
           "type": "column"
          },
          {
           "alias": "column_e1277bd2311",
           "args": [
            {
             "column": "UniqueCustomers",
             "type": "column"
            }
           ],
           "function": "SUM",
           "type": "function"
          }
         ]
        }
       },
       "submitTime": 0,
       "subtype": "tableResultSubCmd.visualization",
       "tableResultIndex": 0,
       "tableResultSettingsMap": {},
       "useConsistentColors": false,
       "version": "CommandV1",
       "width": "auto",
       "workflows": [],
       "xColumns": null,
       "yColumns": null
      }
     },
     "output_type": "display_data"
    }
   ],
   "source": [
    "%sql\n",
    "SELECT Country, UniqueCustomers\n",
    "FROM online_retail.sales_by_country\n",
    "ORDER BY UniqueCustomers DESC\n",
    "LIMIT 10;"
   ]
  }
 ],
 "metadata": {
  "application/vnd.databricks.v1+notebook": {
   "computePreferences": null,
   "dashboards": [],
   "environmentMetadata": {
    "base_environment": "",
    "environment_version": "3"
   },
   "inputWidgetPreferences": null,
   "language": "python",
   "notebookMetadata": {
    "mostRecentlyExecutedCommandWithImplicitDF": {
     "commandId": 8747804698994599,
     "dataframes": [
      "_sqldf"
     ]
    },
    "pythonIndentUnit": 4
   },
   "notebookName": "Sales by Country Analysis",
   "widgets": {}
  },
  "language_info": {
   "name": "python"
  }
 },
 "nbformat": 4,
 "nbformat_minor": 0
}